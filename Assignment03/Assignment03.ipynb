{
  "nbformat": 4,
  "nbformat_minor": 0,
  "metadata": {
    "colab": {
      "provenance": [],
      "authorship_tag": "ABX9TyMWUPEy2marFkfsQIHC6KNA",
      "include_colab_link": true
    },
    "kernelspec": {
      "name": "python3",
      "display_name": "Python 3"
    },
    "language_info": {
      "name": "python"
    }
  },
  "cells": [
    {
      "cell_type": "markdown",
      "metadata": {
        "id": "view-in-github",
        "colab_type": "text"
      },
      "source": [
        "<a href=\"https://colab.research.google.com/github/saketh105/DATA603/blob/main/Assignment03/Assignment03.ipynb\" target=\"_parent\"><img src=\"https://colab.research.google.com/assets/colab-badge.svg\" alt=\"Open In Colab\"/></a>"
      ]
    },
    {
      "cell_type": "markdown",
      "source": [
        "# Assignment 3"
      ],
      "metadata": {
        "id": "eEQchr69qe0f"
      }
    },
    {
      "cell_type": "markdown",
      "source": [
        "## installing pyspark"
      ],
      "metadata": {
        "id": "6hRHWPy2qpOG"
      }
    },
    {
      "cell_type": "code",
      "source": [
        "pip install pyspark"
      ],
      "metadata": {
        "colab": {
          "base_uri": "https://localhost:8080/"
        },
        "id": "jcQKbkCyNZvb",
        "outputId": "6f1a1fae-3a4b-419e-825a-39a733976249"
      },
      "execution_count": null,
      "outputs": [
        {
          "output_type": "stream",
          "name": "stdout",
          "text": [
            "Looking in indexes: https://pypi.org/simple, https://us-python.pkg.dev/colab-wheels/public/simple/\n",
            "Collecting pyspark\n",
            "  Downloading pyspark-3.3.2.tar.gz (281.4 MB)\n",
            "\u001b[2K     \u001b[90m━━━━━━━━━━━━━━━━━━━━━━━━━━━━━━━━━━━━━━━\u001b[0m \u001b[32m281.4/281.4 MB\u001b[0m \u001b[31m5.4 MB/s\u001b[0m eta \u001b[36m0:00:00\u001b[0m\n",
            "\u001b[?25h  Preparing metadata (setup.py) ... \u001b[?25l\u001b[?25hdone\n",
            "Collecting py4j==0.10.9.5\n",
            "  Downloading py4j-0.10.9.5-py2.py3-none-any.whl (199 kB)\n",
            "\u001b[2K     \u001b[90m━━━━━━━━━━━━━━━━━━━━━━━━━━━━━━━━━━━━━━\u001b[0m \u001b[32m199.7/199.7 KB\u001b[0m \u001b[31m22.2 MB/s\u001b[0m eta \u001b[36m0:00:00\u001b[0m\n",
            "\u001b[?25hBuilding wheels for collected packages: pyspark\n",
            "  Building wheel for pyspark (setup.py) ... \u001b[?25l\u001b[?25hdone\n",
            "  Created wheel for pyspark: filename=pyspark-3.3.2-py2.py3-none-any.whl size=281824028 sha256=781e41060835966f269b425e147574cd326a8b0dcef63598468579e9626cfdd4\n",
            "  Stored in directory: /root/.cache/pip/wheels/6c/e3/9b/0525ce8a69478916513509d43693511463c6468db0de237c86\n",
            "Successfully built pyspark\n",
            "Installing collected packages: py4j, pyspark\n",
            "  Attempting uninstall: py4j\n",
            "    Found existing installation: py4j 0.10.9.7\n",
            "    Uninstalling py4j-0.10.9.7:\n",
            "      Successfully uninstalled py4j-0.10.9.7\n",
            "Successfully installed py4j-0.10.9.5 pyspark-3.3.2\n"
          ]
        }
      ]
    },
    {
      "cell_type": "code",
      "source": [
        "import pyspark"
      ],
      "metadata": {
        "id": "blftSPIeNwtl"
      },
      "execution_count": null,
      "outputs": []
    },
    {
      "cell_type": "code",
      "source": [
        "from pyspark.sql import SparkSession"
      ],
      "metadata": {
        "id": "5LjBIclbNwwC"
      },
      "execution_count": null,
      "outputs": []
    },
    {
      "cell_type": "markdown",
      "source": [
        "## setting the Spark configuration"
      ],
      "metadata": {
        "id": "-spgIhOdqvNJ"
      }
    },
    {
      "cell_type": "code",
      "source": [
        "MAX_MEMORY = '12G'\n",
        "conf = pyspark.SparkConf().setMaster(\"local[*]\").set('spark.executor.heartbeatInterval', 10000).set('spark.network.timeout', 10000).set(\"spark.core.connection.ack.wait.timeout\", \"3600\").set(\"spark.executor.memory\", MAX_MEMORY).set(\"spark.driver.memory\", MAX_MEMORY)"
      ],
      "metadata": {
        "id": "AusHm5V_Nwye"
      },
      "execution_count": null,
      "outputs": []
    },
    {
      "cell_type": "markdown",
      "source": [
        "## creating a session"
      ],
      "metadata": {
        "id": "PjQYa4cEqznX"
      }
    },
    {
      "cell_type": "code",
      "source": [
        "session = SparkSession.builder.appName('Assignment3 Chicago Crime Data').config(conf=conf).getOrCreate()"
      ],
      "metadata": {
        "id": "uJPIGt4cNw08"
      },
      "execution_count": null,
      "outputs": []
    },
    {
      "cell_type": "markdown",
      "source": [
        "## Define the schema for loading the Chicago crime dataset"
      ],
      "metadata": {
        "id": "1LVYpE7RrWL7"
      }
    },
    {
      "cell_type": "code",
      "source": [
        "#Define the schema for loading the Chicago crime dataset\n",
        "from pyspark.sql.types import StructType, StructField, StringType, IntegerType, BooleanType, DoubleType, TimestampType\n",
        "# Define the schema for the Chicago crime dataset\n",
        "crime_schema = StructType([\n",
        "    StructField(\"ID\", IntegerType(), True),\n",
        "    StructField(\"Case Number\", StringType(), True),\n",
        "    StructField(\"Date\", TimestampType(), True),\n",
        "    StructField(\"Block\", StringType(), True),\n",
        "    StructField(\"IUCR\", StringType(), True),\n",
        "    StructField(\"Primary Type\", StringType(), True),\n",
        "    StructField(\"Description\", StringType(), True),\n",
        "    StructField(\"Location Description\", StringType(), True),\n",
        "    StructField(\"Arrest\", BooleanType(), True),\n",
        "    StructField(\"Domestic\", BooleanType(), True),\n",
        "    StructField(\"Beat\", IntegerType(), True),\n",
        "    StructField(\"District\", IntegerType(), True),\n",
        "    StructField(\"Ward\", IntegerType(), True),\n",
        "    StructField(\"Community Area\", IntegerType(), True),\n",
        "    StructField(\"FBI Code\", StringType(), True),\n",
        "    StructField(\"X Coordinate\", DoubleType(), True),\n",
        "    StructField(\"Y Coordinate\", DoubleType(), True),\n",
        "    StructField(\"Year\", IntegerType(), True),\n",
        "    StructField(\"Updated On\", TimestampType(), True),\n",
        "    StructField(\"Latitude\", DoubleType(), True),\n",
        "    StructField(\"Longitude\", DoubleType(), True),\n",
        "    StructField(\"Location\", StringType(), True)\n",
        "])"
      ],
      "metadata": {
        "id": "tOpH5_k5Nw4f"
      },
      "execution_count": null,
      "outputs": []
    },
    {
      "cell_type": "markdown",
      "source": [
        "## Load the CSV file"
      ],
      "metadata": {
        "id": "3bvYDVExrdDE"
      }
    },
    {
      "cell_type": "code",
      "source": [
        "\n",
        "crime_df = session.read.format(\"csv\") \\\n",
        "    .option(\"header\", \"true\") \\\n",
        "    .option(\"inferSchema\", \"true\") \\\n",
        "    .load(\"/content/Crimes_2001_to_Present.csv\")"
      ],
      "metadata": {
        "id": "datvz3pzrjpJ"
      },
      "execution_count": 83,
      "outputs": []
    },
    {
      "cell_type": "markdown",
      "source": [
        "## Load the Chicago crime data"
      ],
      "metadata": {
        "id": "5KKc-P7NsHjn"
      }
    },
    {
      "cell_type": "code",
      "source": [
        "\n",
        "crime_df.show(10)"
      ],
      "metadata": {
        "colab": {
          "base_uri": "https://localhost:8080/"
        },
        "id": "Wt3Kv8FMOqnZ",
        "outputId": "8a1dca89-78c4-4ec6-f680-7779d71574b6"
      },
      "execution_count": null,
      "outputs": [
        {
          "output_type": "stream",
          "name": "stdout",
          "text": [
            "+--------+-----------+--------------------+--------------------+----+------------------+--------------------+--------------------+------+--------+----+--------+----+--------------+--------+------------+------------+----+--------------------+------------+-------------+--------------------+\n",
            "|      ID|Case Number|                Date|               Block|IUCR|      Primary Type|         Description|Location Description|Arrest|Domestic|Beat|District|Ward|Community Area|FBI Code|X Coordinate|Y Coordinate|Year|          Updated On|    Latitude|    Longitude|            Location|\n",
            "+--------+-----------+--------------------+--------------------+----+------------------+--------------------+--------------------+------+--------+----+--------+----+--------------+--------+------------+------------+----+--------------------+------------+-------------+--------------------+\n",
            "|10224738|   HY411648|09/05/2015 01:30:...|     043XX S WOOD ST|0486|           BATTERY|DOMESTIC BATTERY ...|           RESIDENCE| false|    true| 924|       9|  12|            61|     08B|     1165074|     1875917|2015|02/10/2018 03:50:...|41.815117282|-87.669999562|(41.815117282, -8...|\n",
            "|10224739|   HY411615|09/04/2015 11:30:...| 008XX N CENTRAL AVE|0870|             THEFT|      POCKET-PICKING|             CTA BUS| false|   false|1511|      15|  29|            25|      06|     1138875|     1904869|2015|02/10/2018 03:50:...|41.895080471|-87.765400451|(41.895080471, -8...|\n",
            "|11646166|   JC213529|09/01/2018 12:01:...|082XX S INGLESIDE...|0810|             THEFT|           OVER $500|           RESIDENCE| false|    true| 631|       6|   8|            44|      06|        null|        null|2018|04/06/2019 04:04:...|        null|         null|                null|\n",
            "|10224740|   HY411595|09/05/2015 12:45:...|   035XX W BARRY AVE|2023|         NARCOTICS|POSS: HEROIN(BRN/...|            SIDEWALK|  true|   false|1412|      14|  35|            21|      18|     1152037|     1920384|2015|02/10/2018 03:50:...|41.937405765|-87.716649687|(41.937405765, -8...|\n",
            "|10224741|   HY411610|09/05/2015 01:00:...| 0000X N LARAMIE AVE|0560|           ASSAULT|              SIMPLE|           APARTMENT| false|    true|1522|      15|  28|            25|     08A|     1141706|     1900086|2015|02/10/2018 03:50:...|41.881903443|-87.755121152|(41.881903443, -8...|\n",
            "|10224742|   HY411435|09/05/2015 10:55:...| 082XX S LOOMIS BLVD|0610|          BURGLARY|      FORCIBLE ENTRY|           RESIDENCE| false|   false| 614|       6|  21|            71|      05|     1168430|     1850165|2015|02/10/2018 03:50:...|41.744378879|-87.658430635|(41.744378879, -8...|\n",
            "|10224743|   HY411629|09/04/2015 06:00:...|021XX W CHURCHILL ST|0620|          BURGLARY|      UNLAWFUL ENTRY|    RESIDENCE-GARAGE| false|   false|1434|      14|  32|            24|      05|     1161628|     1912157|2015|02/10/2018 03:50:...|41.914635603|-87.681630909|(41.914635603, -8...|\n",
            "|10224744|   HY411605|09/05/2015 01:00:...|   025XX W CERMAK RD|0860|             THEFT|        RETAIL THEFT|  GROCERY FOOD STORE|  true|   false|1034|      10|  25|            31|      06|     1159734|     1889313|2015|09/17/2015 11:37:...|41.851988885|-87.689219118|(41.851988885, -8...|\n",
            "|10224745|   HY411654|09/05/2015 11:30:...|031XX W WASHINGTO...|0320|           ROBBERY|STRONGARM - NO WE...|              STREET| false|    true|1222|      12|  27|            27|      03|     1155536|     1900515|2015|02/10/2018 03:50:...| 41.88281374|-87.704325717|(41.88281374, -87...|\n",
            "|11645836|   JC212333|05/01/2016 12:25:...| 055XX S ROCKWELL ST|1153|DECEPTIVE PRACTICE|FINANCIAL IDENTIT...|                null| false|   false| 824|       8|  15|            63|      11|        null|        null|2016|04/06/2019 04:04:...|        null|         null|                null|\n",
            "+--------+-----------+--------------------+--------------------+----+------------------+--------------------+--------------------+------+--------+----+--------+----+--------------+--------+------------+------------+----+--------------------+------------+-------------+--------------------+\n",
            "only showing top 10 rows\n",
            "\n"
          ]
        }
      ]
    },
    {
      "cell_type": "code",
      "source": [
        "print(crime_df.printSchema())\n"
      ],
      "metadata": {
        "colab": {
          "base_uri": "https://localhost:8080/"
        },
        "id": "V1kg8c0-Oqp0",
        "outputId": "bc97245d-e74d-44c4-97f9-62e987bcd31b"
      },
      "execution_count": null,
      "outputs": [
        {
          "output_type": "stream",
          "name": "stdout",
          "text": [
            "root\n",
            " |-- ID: integer (nullable = true)\n",
            " |-- Case Number: string (nullable = true)\n",
            " |-- Date: string (nullable = true)\n",
            " |-- Block: string (nullable = true)\n",
            " |-- IUCR: string (nullable = true)\n",
            " |-- Primary Type: string (nullable = true)\n",
            " |-- Description: string (nullable = true)\n",
            " |-- Location Description: string (nullable = true)\n",
            " |-- Arrest: boolean (nullable = true)\n",
            " |-- Domestic: boolean (nullable = true)\n",
            " |-- Beat: integer (nullable = true)\n",
            " |-- District: integer (nullable = true)\n",
            " |-- Ward: integer (nullable = true)\n",
            " |-- Community Area: integer (nullable = true)\n",
            " |-- FBI Code: string (nullable = true)\n",
            " |-- X Coordinate: integer (nullable = true)\n",
            " |-- Y Coordinate: integer (nullable = true)\n",
            " |-- Year: integer (nullable = true)\n",
            " |-- Updated On: string (nullable = true)\n",
            " |-- Latitude: double (nullable = true)\n",
            " |-- Longitude: double (nullable = true)\n",
            " |-- Location: string (nullable = true)\n",
            "\n",
            "None\n"
          ]
        }
      ]
    },
    {
      "cell_type": "code",
      "source": [
        "from pyspark.sql.functions import *"
      ],
      "metadata": {
        "id": "GD3Ku4qIOqsA"
      },
      "execution_count": null,
      "outputs": []
    },
    {
      "cell_type": "markdown",
      "source": [
        "## dropping null values"
      ],
      "metadata": {
        "id": "b_CBJct4sNPE"
      }
    },
    {
      "cell_type": "code",
      "source": [
        "\n",
        "crime_df=crime_df.dropna()"
      ],
      "metadata": {
        "id": "4EVSd_FWOquN"
      },
      "execution_count": null,
      "outputs": []
    },
    {
      "cell_type": "code",
      "source": [
        "\n",
        "crime_df.count()"
      ],
      "metadata": {
        "colab": {
          "base_uri": "https://localhost:8080/"
        },
        "id": "BxSD6SdEOqws",
        "outputId": "ee1ab834-9326-4eea-eab8-c188a11e8b6c"
      },
      "execution_count": null,
      "outputs": [
        {
          "output_type": "execute_result",
          "data": {
            "text/plain": [
              "597614"
            ]
          },
          "metadata": {},
          "execution_count": 56
        }
      ]
    },
    {
      "cell_type": "code",
      "source": [
        "crime_df.select('Date').show(5, truncate=False)"
      ],
      "metadata": {
        "colab": {
          "base_uri": "https://localhost:8080/"
        },
        "id": "EW_s9436Oqy0",
        "outputId": "facc9947-d45b-46a3-b38d-73c12873ab2d"
      },
      "execution_count": null,
      "outputs": [
        {
          "output_type": "stream",
          "name": "stdout",
          "text": [
            "+----------------------+\n",
            "|Date                  |\n",
            "+----------------------+\n",
            "|09/05/2015 01:30:00 PM|\n",
            "|09/04/2015 11:30:00 AM|\n",
            "|09/05/2015 12:45:00 PM|\n",
            "|09/05/2015 01:00:00 PM|\n",
            "|09/05/2015 10:55:00 AM|\n",
            "+----------------------+\n",
            "only showing top 5 rows\n",
            "\n"
          ]
        }
      ]
    },
    {
      "cell_type": "markdown",
      "source": [
        "##  change 'Date' column data type"
      ],
      "metadata": {
        "id": "hghMzQM-sjto"
      }
    },
    {
      "cell_type": "code",
      "source": [
        "crime_df=crime_df.withColumn(\"date\",to_timestamp(\"date\", format = 'MM/dd/yyyy hh:mm:ss a'))"
      ],
      "metadata": {
        "id": "GVXAy7e2Oq09"
      },
      "execution_count": 84,
      "outputs": []
    },
    {
      "cell_type": "code",
      "source": [
        "crime_df.select('Date').dtypes"
      ],
      "metadata": {
        "colab": {
          "base_uri": "https://localhost:8080/"
        },
        "id": "BOivh2g8Oq2u",
        "outputId": "803280a2-963d-4694-86f3-58e0cae095cc"
      },
      "execution_count": 85,
      "outputs": [
        {
          "output_type": "execute_result",
          "data": {
            "text/plain": [
              "[('Date', 'timestamp')]"
            ]
          },
          "metadata": {},
          "execution_count": 85
        }
      ]
    },
    {
      "cell_type": "markdown",
      "source": [
        " ## filter the data for last ten years\n"
      ],
      "metadata": {
        "id": "b2hzyZBms8LT"
      }
    },
    {
      "cell_type": "code",
      "source": [
        "cdf1 = crime_df.filter((crime_df.Year <= 2022) & (crime_df.Year > 2012))"
      ],
      "metadata": {
        "id": "UevrqJh5Oq45"
      },
      "execution_count": 87,
      "outputs": []
    },
    {
      "cell_type": "code",
      "source": [
        "cdf1.select('Primary Type').distinct().show(truncate=False)"
      ],
      "metadata": {
        "colab": {
          "base_uri": "https://localhost:8080/"
        },
        "id": "vpWfWUvhOq8f",
        "outputId": "c81160f3-f83a-416f-e567-c7cf4f89c48d"
      },
      "execution_count": null,
      "outputs": [
        {
          "output_type": "stream",
          "name": "stdout",
          "text": [
            "+--------------------------------+\n",
            "|Primary Type                    |\n",
            "+--------------------------------+\n",
            "|OFFENSE INVOLVING CHILDREN      |\n",
            "|CRIMINAL SEXUAL ASSAULT         |\n",
            "|STALKING                        |\n",
            "|PUBLIC PEACE VIOLATION          |\n",
            "|OBSCENITY                       |\n",
            "|NON-CRIMINAL (SUBJECT SPECIFIED)|\n",
            "|ARSON                           |\n",
            "|GAMBLING                        |\n",
            "|CRIMINAL TRESPASS               |\n",
            "|ASSAULT                         |\n",
            "|NON - CRIMINAL                  |\n",
            "|LIQUOR LAW VIOLATION            |\n",
            "|MOTOR VEHICLE THEFT             |\n",
            "|THEFT                           |\n",
            "|BATTERY                         |\n",
            "|ROBBERY                         |\n",
            "|HOMICIDE                        |\n",
            "|PUBLIC INDECENCY                |\n",
            "|CRIM SEXUAL ASSAULT             |\n",
            "|HUMAN TRAFFICKING               |\n",
            "+--------------------------------+\n",
            "only showing top 20 rows\n",
            "\n"
          ]
        }
      ]
    },
    {
      "cell_type": "markdown",
      "source": [
        "##  remove all the records with the following crime types"
      ],
      "metadata": {
        "id": "Y0Y3SI90tD4B"
      }
    },
    {
      "cell_type": "code",
      "source": [
        "cdf1 = cdf1.filter(~col(\"Primary Type\").isin(\"NON-CRIMINAL (SUBJECT SPECIFIED)\", \n",
        "                                                         \"OTHER OFFENSE\", \n",
        "                                                         \"STALKING\", \n",
        "                                                         \"NON - CRIMINAL\", \n",
        "                                                         \"ARSON\"))"
      ],
      "metadata": {
        "id": "H-pszHzRk5vi"
      },
      "execution_count": null,
      "outputs": []
    },
    {
      "cell_type": "markdown",
      "source": [
        "## merge the similar crime types"
      ],
      "metadata": {
        "id": "vnFxHF3WtI2t"
      }
    },
    {
      "cell_type": "code",
      "source": [
        "cdf1= cdf1.withColumn(\"Primary Type\", when(cdf1['Primary Type'] == \"CRIM SEXUAL ASSAULT\", \"SEXUAL ASSAULT\")\n",
        "                    .when(cdf1['Primary Type'] == \"CRIMINAL SEXUAL ASSAULT\", \"SEXUAL ASSAULT\")\n",
        "                    .when(cdf1['Primary Type'] == \"SEX OFFENSE\", \"SEXUAL OFFENSE\")\n",
        "                    .when(cdf1['Primary Type'] == \"PROSTITUTION\", \"SEXUAL OFFENSE\")\n",
        "                    .when(cdf1['Primary Type'] == \"BURGLARY\", \"THEFT\")\n",
        "                    .when(cdf1['Primary Type'] == \"THEFT\", \"THEFT\")\n",
        "                    .when(cdf1['Primary Type'] == \"ROBBERY\", \"THEFT\")\n",
        "                    .when(cdf1['Primary Type'] == \"PUBLIC PEACE VIOLATION\", \"PUBLIC OFFENSE\")\n",
        "                    .when(cdf1['Primary Type'] == \"PUBLIC INDECENCY\", \"PUBLIC OFFENSE\")\n",
        "                    .otherwise(cdf1['Primary Type']))"
      ],
      "metadata": {
        "id": "zgM27aSGk5yE"
      },
      "execution_count": null,
      "outputs": []
    },
    {
      "cell_type": "code",
      "source": [
        "cdf1.select('Primary Type').distinct().show(truncate=False)"
      ],
      "metadata": {
        "colab": {
          "base_uri": "https://localhost:8080/"
        },
        "id": "jvht-ix7k50j",
        "outputId": "2eaaea50-f1e0-485a-e896-5ed12dcdb08a"
      },
      "execution_count": null,
      "outputs": [
        {
          "output_type": "stream",
          "name": "stdout",
          "text": [
            "+---------------------------------+\n",
            "|Primary Type                     |\n",
            "+---------------------------------+\n",
            "|OFFENSE INVOLVING CHILDREN       |\n",
            "|OBSCENITY                        |\n",
            "|SEXUAL OFFENSE                   |\n",
            "|GAMBLING                         |\n",
            "|CRIMINAL TRESPASS                |\n",
            "|ASSAULT                          |\n",
            "|LIQUOR LAW VIOLATION             |\n",
            "|MOTOR VEHICLE THEFT              |\n",
            "|THEFT                            |\n",
            "|PUBLIC OFFENSE                   |\n",
            "|BATTERY                          |\n",
            "|HOMICIDE                         |\n",
            "|HUMAN TRAFFICKING                |\n",
            "|INTIMIDATION                     |\n",
            "|DECEPTIVE PRACTICE               |\n",
            "|CONCEALED CARRY LICENSE VIOLATION|\n",
            "|CRIMINAL DAMAGE                  |\n",
            "|SEXUAL ASSAULT                   |\n",
            "|NARCOTICS                        |\n",
            "|NON-CRIMINAL                     |\n",
            "+---------------------------------+\n",
            "only showing top 20 rows\n",
            "\n"
          ]
        }
      ]
    },
    {
      "cell_type": "markdown",
      "source": [
        "\n",
        "## year-wise trend of the crime for last ten years"
      ],
      "metadata": {
        "id": "HATsmj5GtZKM"
      }
    },
    {
      "cell_type": "code",
      "source": [
        "import pyspark.sql.functions as F\n",
        "\n",
        "cdf1.groupBy(F.year(\"Date\").alias(\"Year\")).count().orderBy(\"Year\").show()\n",
        "\n"
      ],
      "metadata": {
        "colab": {
          "base_uri": "https://localhost:8080/"
        },
        "id": "uHWEpAbDk52_",
        "outputId": "c536af74-c318-40a3-8983-85d0519c9d7e"
      },
      "execution_count": 88,
      "outputs": [
        {
          "output_type": "stream",
          "name": "stdout",
          "text": [
            "+----+------+\n",
            "|Year| count|\n",
            "+----+------+\n",
            "|2013|   646|\n",
            "|2014|  1500|\n",
            "|2015|166365|\n",
            "|2016|261932|\n",
            "|2017|261391|\n",
            "|2018|261030|\n",
            "|2019|121279|\n",
            "|2020| 17340|\n",
            "|2021|  2591|\n",
            "|2022|  1237|\n",
            "+----+------+\n",
            "\n"
          ]
        }
      ]
    },
    {
      "cell_type": "markdown",
      "source": [
        "## which hour of the day crime is highest"
      ],
      "metadata": {
        "id": "_HXj8SM9tVY4"
      }
    },
    {
      "cell_type": "code",
      "source": [
        "\n",
        "cdf1.groupBy(F.hour(\"Date\").alias(\"Hour\")).count().orderBy(col(\"count\").desc()).show(5)"
      ],
      "metadata": {
        "id": "Ws3jGbnwk55d",
        "colab": {
          "base_uri": "https://localhost:8080/"
        },
        "outputId": "2f34685e-81f3-4d04-8135-c8145d9c3337"
      },
      "execution_count": 99,
      "outputs": [
        {
          "output_type": "stream",
          "name": "stdout",
          "text": [
            "+----+-----+\n",
            "|Hour|count|\n",
            "+----+-----+\n",
            "|  12|65760|\n",
            "|  18|63238|\n",
            "|  19|62152|\n",
            "|  15|60171|\n",
            "|  17|59688|\n",
            "+----+-----+\n",
            "only showing top 5 rows\n",
            "\n"
          ]
        }
      ]
    },
    {
      "cell_type": "markdown",
      "source": [
        "## visualizing "
      ],
      "metadata": {
        "id": "r0bzLwpbtkKX"
      }
    },
    {
      "cell_type": "code",
      "source": [
        "import matplotlib.pyplot as plt\n",
        "import pyspark.sql.functions as F\n",
        "\n",
        "# year-wise trend of the crime for last ten years\n",
        "crime_data_year = cdf1.groupBy(F.year(\"Date\").alias(\"Year\")).count().orderBy(\"Year\").toPandas()\n",
        "\n",
        "plt.plot(crime_data_year[\"Year\"], crime_data_year[\"count\"])\n",
        "plt.xlabel('Year')\n",
        "plt.ylabel('Crime Count')\n",
        "plt.title('Year-wise Trend of Crime')\n",
        "plt.show()"
      ],
      "metadata": {
        "id": "O6WahXVPk5-Q",
        "colab": {
          "base_uri": "https://localhost:8080/",
          "height": 472
        },
        "outputId": "a89ea2a6-0247-4d27-be1e-c4f764431bbe"
      },
      "execution_count": 76,
      "outputs": [
        {
          "output_type": "display_data",
          "data": {
            "text/plain": [
              "<Figure size 640x480 with 1 Axes>"
            ],
            "image/png": "[encoded data removed]"
          },
          "metadata": {}
        }
      ]
    },
    {
      "cell_type": "code",
      "source": [],
      "metadata": {
        "id": "A0NZK2z1k6Aq"
      },
      "execution_count": null,
      "outputs": []
    },
    {
      "cell_type": "code",
      "source": [
        "cdf1 = cdf1.withColumn(\"hour\", hour(cdf1.date))"
      ],
      "metadata": {
        "id": "gbM22CvpuZDW"
      },
      "execution_count": 93,
      "outputs": []
    },
    {
      "cell_type": "code",
      "source": [
        "hourdf = cdf1.groupby('hour').count().sort('count',ascending=False).toPandas()"
      ],
      "metadata": {
        "id": "rAa5XI56uhWk"
      },
      "execution_count": 96,
      "outputs": []
    },
    {
      "cell_type": "code",
      "source": [
        "hourdf.sort_values('hour').plot(kind='bar',x='hour',y='count', figsize = (15,8))"
      ],
      "metadata": {
        "colab": {
          "base_uri": "https://localhost:8080/",
          "height": 650
        },
        "id": "30JD0bHvvEd0",
        "outputId": "0b8fb313-be5e-4b22-ad8f-8b119eec2958"
      },
      "execution_count": 97,
      "outputs": [
        {
          "output_type": "execute_result",
          "data": {
            "text/plain": [
              "<Axes: xlabel='hour'>"
            ]
          },
          "metadata": {},
          "execution_count": 97
        },
        {
          "output_type": "display_data",
          "data": {
            "text/plain": [
              "<Figure size 1500x800 with 1 Axes>"
            ],
            "image/png": "[encoded data removed]"
          },
          "metadata": {}
        }
      ]
    }
  ]
}