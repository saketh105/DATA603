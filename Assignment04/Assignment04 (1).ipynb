{
 "cells": [
  {
   "cell_type": "markdown",
   "id": "1d08725d",
   "metadata": {},
   "source": [
    "### Assignment 04"
   ]
  },
  {
   "cell_type": "code",
   "execution_count": 47,
   "id": "b6ae771a",
   "metadata": {},
   "outputs": [],
   "source": [
    "import json\n",
    "import time\n",
    "import requests\n",
    "import pandas as pd\n",
    "import matplotlib.pyplot as plt\n",
    "import geopandas as gpd"
   ]
  },
  {
   "cell_type": "markdown",
   "id": "31aaf445",
   "metadata": {},
   "source": [
    "#### Fetching data "
   ]
  },
  {
   "cell_type": "code",
   "execution_count": 48,
   "id": "f4d42266",
   "metadata": {},
   "outputs": [],
   "source": [
    "def fetch_data():\n",
    "    url = \"http://api.open-notify.org/iss-now.json\"\n",
    "    response = requests.get(url)\n",
    "    data = json.loads(response.text)\n",
    "    return data\n",
    "\n"
   ]
  },
  {
   "cell_type": "markdown",
   "id": "3002d02a",
   "metadata": {},
   "source": [
    "#### Initialize an empty Pandas dataframe with the desired column names"
   ]
  },
  {
   "cell_type": "code",
   "execution_count": 49,
   "id": "9472ff8c",
   "metadata": {},
   "outputs": [],
   "source": [
    "Sat_data = pd.DataFrame(columns=[\"Longitude\", \"Latitude\"])"
   ]
  },
  {
   "cell_type": "markdown",
   "id": "e1865d0d",
   "metadata": {},
   "source": [
    "#### Set the duration of the stream and the interval at which data is fetched"
   ]
  },
  {
   "cell_type": "code",
   "execution_count": 50,
   "id": "e03b8987",
   "metadata": {},
   "outputs": [],
   "source": [
    "duration = 3600 # 1 hour in seconds\n",
    "interval = 5  # 5 seconds"
   ]
  },
  {
   "cell_type": "code",
   "execution_count": 51,
   "id": "92539cdc",
   "metadata": {},
   "outputs": [],
   "source": [
    "start_time = time.time()\n",
    "end_time = start_time + duration"
   ]
  },
  {
   "cell_type": "code",
   "execution_count": 52,
   "id": "3276662c",
   "metadata": {},
   "outputs": [
    {
     "name": "stdout",
     "output_type": "stream",
     "text": [
      "Data received: {'message': 'success', 'timestamp': 1681489194, 'iss_position': {'longitude': '179.3281', 'latitude': '-19.5772'}}\n"
     ]
    },
    {
     "name": "stderr",
     "output_type": "stream",
     "text": [
      "C:\\Users\\13018\\AppData\\Local\\Temp\\ipykernel_16080\\2340310863.py:10: FutureWarning: The frame.append method is deprecated and will be removed from pandas in a future version. Use pandas.concat instead.\n",
      "  Sat_data = Sat_data.append({\"Longitude\": longitude, \"Latitude\": latitude}, ignore_index=True)\n"
     ]
    },
    {
     "name": "stdout",
     "output_type": "stream",
     "text": [
      "Data received: {'message': 'success', 'timestamp': 1681489199, 'iss_position': {'longitude': '179.5326', 'latitude': '-19.3340'}}\n"
     ]
    },
    {
     "name": "stderr",
     "output_type": "stream",
     "text": [
      "C:\\Users\\13018\\AppData\\Local\\Temp\\ipykernel_16080\\2340310863.py:10: FutureWarning: The frame.append method is deprecated and will be removed from pandas in a future version. Use pandas.concat instead.\n",
      "  Sat_data = Sat_data.append({\"Longitude\": longitude, \"Latitude\": latitude}, ignore_index=True)\n"
     ]
    },
    {
     "name": "stdout",
     "output_type": "stream",
     "text": [
      "Data received: {'message': 'success', 'timestamp': 1681489204, 'iss_position': {'longitude': '179.7566', 'latitude': '-19.0662'}}\n"
     ]
    },
    {
     "name": "stderr",
     "output_type": "stream",
     "text": [
      "C:\\Users\\13018\\AppData\\Local\\Temp\\ipykernel_16080\\2340310863.py:10: FutureWarning: The frame.append method is deprecated and will be removed from pandas in a future version. Use pandas.concat instead.\n",
      "  Sat_data = Sat_data.append({\"Longitude\": longitude, \"Latitude\": latitude}, ignore_index=True)\n"
     ]
    },
    {
     "name": "stdout",
     "output_type": "stream",
     "text": [
      "Data received: {'message': 'success', 'timestamp': 1681489209, 'iss_position': {'longitude': '179.9597', 'latitude': '-18.8225'}}\n"
     ]
    },
    {
     "name": "stderr",
     "output_type": "stream",
     "text": [
      "C:\\Users\\13018\\AppData\\Local\\Temp\\ipykernel_16080\\2340310863.py:10: FutureWarning: The frame.append method is deprecated and will be removed from pandas in a future version. Use pandas.concat instead.\n",
      "  Sat_data = Sat_data.append({\"Longitude\": longitude, \"Latitude\": latitude}, ignore_index=True)\n"
     ]
    },
    {
     "name": "stdout",
     "output_type": "stream",
     "text": [
      "Data received: {'message': 'success', 'timestamp': 1681489214, 'iss_position': {'longitude': '-179.8380', 'latitude': '-18.5785'}}\n"
     ]
    },
    {
     "name": "stderr",
     "output_type": "stream",
     "text": [
      "C:\\Users\\13018\\AppData\\Local\\Temp\\ipykernel_16080\\2340310863.py:10: FutureWarning: The frame.append method is deprecated and will be removed from pandas in a future version. Use pandas.concat instead.\n",
      "  Sat_data = Sat_data.append({\"Longitude\": longitude, \"Latitude\": latitude}, ignore_index=True)\n"
     ]
    },
    {
     "name": "stdout",
     "output_type": "stream",
     "text": [
      "Data received: {'message': 'success', 'timestamp': 1681489220, 'iss_position': {'longitude': '-179.6161', 'latitude': '-18.3099'}}\n"
     ]
    },
    {
     "name": "stderr",
     "output_type": "stream",
     "text": [
      "C:\\Users\\13018\\AppData\\Local\\Temp\\ipykernel_16080\\2340310863.py:10: FutureWarning: The frame.append method is deprecated and will be removed from pandas in a future version. Use pandas.concat instead.\n",
      "  Sat_data = Sat_data.append({\"Longitude\": longitude, \"Latitude\": latitude}, ignore_index=True)\n"
     ]
    },
    {
     "name": "stdout",
     "output_type": "stream",
     "text": [
      "Data received: {'message': 'success', 'timestamp': 1681489225, 'iss_position': {'longitude': '-179.4151', 'latitude': '-18.0653'}}\n"
     ]
    },
    {
     "name": "stderr",
     "output_type": "stream",
     "text": [
      "C:\\Users\\13018\\AppData\\Local\\Temp\\ipykernel_16080\\2340310863.py:10: FutureWarning: The frame.append method is deprecated and will be removed from pandas in a future version. Use pandas.concat instead.\n",
      "  Sat_data = Sat_data.append({\"Longitude\": longitude, \"Latitude\": latitude}, ignore_index=True)\n"
     ]
    },
    {
     "name": "stdout",
     "output_type": "stream",
     "text": [
      "Data received: {'message': 'success', 'timestamp': 1681489230, 'iss_position': {'longitude': '-179.2147', 'latitude': '-17.8206'}}\n"
     ]
    },
    {
     "name": "stderr",
     "output_type": "stream",
     "text": [
      "C:\\Users\\13018\\AppData\\Local\\Temp\\ipykernel_16080\\2340310863.py:10: FutureWarning: The frame.append method is deprecated and will be removed from pandas in a future version. Use pandas.concat instead.\n",
      "  Sat_data = Sat_data.append({\"Longitude\": longitude, \"Latitude\": latitude}, ignore_index=True)\n"
     ]
    },
    {
     "name": "stdout",
     "output_type": "stream",
     "text": [
      "Data received: {'message': 'success', 'timestamp': 1681489235, 'iss_position': {'longitude': '-178.9949', 'latitude': '-17.5510'}}\n"
     ]
    },
    {
     "name": "stderr",
     "output_type": "stream",
     "text": [
      "C:\\Users\\13018\\AppData\\Local\\Temp\\ipykernel_16080\\2340310863.py:10: FutureWarning: The frame.append method is deprecated and will be removed from pandas in a future version. Use pandas.concat instead.\n",
      "  Sat_data = Sat_data.append({\"Longitude\": longitude, \"Latitude\": latitude}, ignore_index=True)\n"
     ]
    },
    {
     "name": "stdout",
     "output_type": "stream",
     "text": [
      "Data received: {'message': 'success', 'timestamp': 1681489240, 'iss_position': {'longitude': '-178.7958', 'latitude': '-17.3057'}}\n"
     ]
    },
    {
     "name": "stderr",
     "output_type": "stream",
     "text": [
      "C:\\Users\\13018\\AppData\\Local\\Temp\\ipykernel_16080\\2340310863.py:10: FutureWarning: The frame.append method is deprecated and will be removed from pandas in a future version. Use pandas.concat instead.\n",
      "  Sat_data = Sat_data.append({\"Longitude\": longitude, \"Latitude\": latitude}, ignore_index=True)\n"
     ]
    },
    {
     "name": "stdout",
     "output_type": "stream",
     "text": [
      "Data received: {'message': 'success', 'timestamp': 1681489246, 'iss_position': {'longitude': '-178.5774', 'latitude': '-17.0356'}}\n"
     ]
    },
    {
     "name": "stderr",
     "output_type": "stream",
     "text": [
      "C:\\Users\\13018\\AppData\\Local\\Temp\\ipykernel_16080\\2340310863.py:10: FutureWarning: The frame.append method is deprecated and will be removed from pandas in a future version. Use pandas.concat instead.\n",
      "  Sat_data = Sat_data.append({\"Longitude\": longitude, \"Latitude\": latitude}, ignore_index=True)\n"
     ]
    },
    {
     "name": "stdout",
     "output_type": "stream",
     "text": [
      "Data received: {'message': 'success', 'timestamp': 1681489251, 'iss_position': {'longitude': '-178.3795', 'latitude': '-16.7898'}}\n"
     ]
    },
    {
     "name": "stderr",
     "output_type": "stream",
     "text": [
      "C:\\Users\\13018\\AppData\\Local\\Temp\\ipykernel_16080\\2340310863.py:10: FutureWarning: The frame.append method is deprecated and will be removed from pandas in a future version. Use pandas.concat instead.\n",
      "  Sat_data = Sat_data.append({\"Longitude\": longitude, \"Latitude\": latitude}, ignore_index=True)\n"
     ]
    },
    {
     "name": "stdout",
     "output_type": "stream",
     "text": [
      "Data received: {'message': 'success', 'timestamp': 1681489256, 'iss_position': {'longitude': '-178.1821', 'latitude': '-16.5438'}}\n"
     ]
    },
    {
     "name": "stderr",
     "output_type": "stream",
     "text": [
      "C:\\Users\\13018\\AppData\\Local\\Temp\\ipykernel_16080\\2340310863.py:10: FutureWarning: The frame.append method is deprecated and will be removed from pandas in a future version. Use pandas.concat instead.\n",
      "  Sat_data = Sat_data.append({\"Longitude\": longitude, \"Latitude\": latitude}, ignore_index=True)\n"
     ]
    },
    {
     "name": "stdout",
     "output_type": "stream",
     "text": [
      "Data received: {'message': 'success', 'timestamp': 1681489261, 'iss_position': {'longitude': '-177.9657', 'latitude': '-16.2729'}}\n"
     ]
    },
    {
     "name": "stderr",
     "output_type": "stream",
     "text": [
      "C:\\Users\\13018\\AppData\\Local\\Temp\\ipykernel_16080\\2340310863.py:10: FutureWarning: The frame.append method is deprecated and will be removed from pandas in a future version. Use pandas.concat instead.\n",
      "  Sat_data = Sat_data.append({\"Longitude\": longitude, \"Latitude\": latitude}, ignore_index=True)\n"
     ]
    },
    {
     "name": "stdout",
     "output_type": "stream",
     "text": [
      "Data received: {'message': 'success', 'timestamp': 1681489266, 'iss_position': {'longitude': '-177.7695', 'latitude': '-16.0264'}}\n"
     ]
    },
    {
     "name": "stderr",
     "output_type": "stream",
     "text": [
      "C:\\Users\\13018\\AppData\\Local\\Temp\\ipykernel_16080\\2340310863.py:10: FutureWarning: The frame.append method is deprecated and will be removed from pandas in a future version. Use pandas.concat instead.\n",
      "  Sat_data = Sat_data.append({\"Longitude\": longitude, \"Latitude\": latitude}, ignore_index=True)\n"
     ]
    },
    {
     "name": "stdout",
     "output_type": "stream",
     "text": [
      "Data received: {'message': 'success', 'timestamp': 1681489271, 'iss_position': {'longitude': '-177.5738', 'latitude': '-15.7797'}}\n"
     ]
    },
    {
     "name": "stderr",
     "output_type": "stream",
     "text": [
      "C:\\Users\\13018\\AppData\\Local\\Temp\\ipykernel_16080\\2340310863.py:10: FutureWarning: The frame.append method is deprecated and will be removed from pandas in a future version. Use pandas.concat instead.\n",
      "  Sat_data = Sat_data.append({\"Longitude\": longitude, \"Latitude\": latitude}, ignore_index=True)\n"
     ]
    },
    {
     "name": "stdout",
     "output_type": "stream",
     "text": [
      "Data received: {'message': 'success', 'timestamp': 1681489277, 'iss_position': {'longitude': '-177.3592', 'latitude': '-15.5080'}}\n"
     ]
    },
    {
     "name": "stderr",
     "output_type": "stream",
     "text": [
      "C:\\Users\\13018\\AppData\\Local\\Temp\\ipykernel_16080\\2340310863.py:10: FutureWarning: The frame.append method is deprecated and will be removed from pandas in a future version. Use pandas.concat instead.\n",
      "  Sat_data = Sat_data.append({\"Longitude\": longitude, \"Latitude\": latitude}, ignore_index=True)\n"
     ]
    },
    {
     "name": "stdout",
     "output_type": "stream",
     "text": [
      "Data received: {'message': 'success', 'timestamp': 1681489282, 'iss_position': {'longitude': '-177.1646', 'latitude': '-15.2609'}}\n"
     ]
    },
    {
     "name": "stderr",
     "output_type": "stream",
     "text": [
      "C:\\Users\\13018\\AppData\\Local\\Temp\\ipykernel_16080\\2340310863.py:10: FutureWarning: The frame.append method is deprecated and will be removed from pandas in a future version. Use pandas.concat instead.\n",
      "  Sat_data = Sat_data.append({\"Longitude\": longitude, \"Latitude\": latitude}, ignore_index=True)\n"
     ]
    },
    {
     "name": "stdout",
     "output_type": "stream",
     "text": [
      "Data received: {'message': 'success', 'timestamp': 1681489287, 'iss_position': {'longitude': '-176.9705', 'latitude': '-15.0135'}}\n"
     ]
    },
    {
     "name": "stderr",
     "output_type": "stream",
     "text": [
      "C:\\Users\\13018\\AppData\\Local\\Temp\\ipykernel_16080\\2340310863.py:10: FutureWarning: The frame.append method is deprecated and will be removed from pandas in a future version. Use pandas.concat instead.\n",
      "  Sat_data = Sat_data.append({\"Longitude\": longitude, \"Latitude\": latitude}, ignore_index=True)\n"
     ]
    },
    {
     "name": "stdout",
     "output_type": "stream",
     "text": [
      "Data received: {'message': 'success', 'timestamp': 1681489292, 'iss_position': {'longitude': '-176.7576', 'latitude': '-14.7411'}}\n"
     ]
    },
    {
     "name": "stderr",
     "output_type": "stream",
     "text": [
      "C:\\Users\\13018\\AppData\\Local\\Temp\\ipykernel_16080\\2340310863.py:10: FutureWarning: The frame.append method is deprecated and will be removed from pandas in a future version. Use pandas.concat instead.\n",
      "  Sat_data = Sat_data.append({\"Longitude\": longitude, \"Latitude\": latitude}, ignore_index=True)\n"
     ]
    },
    {
     "name": "stdout",
     "output_type": "stream",
     "text": [
      "Data received: {'message': 'success', 'timestamp': 1681489297, 'iss_position': {'longitude': '-176.5646', 'latitude': '-14.4933'}}\n"
     ]
    },
    {
     "name": "stderr",
     "output_type": "stream",
     "text": [
      "C:\\Users\\13018\\AppData\\Local\\Temp\\ipykernel_16080\\2340310863.py:10: FutureWarning: The frame.append method is deprecated and will be removed from pandas in a future version. Use pandas.concat instead.\n",
      "  Sat_data = Sat_data.append({\"Longitude\": longitude, \"Latitude\": latitude}, ignore_index=True)\n"
     ]
    },
    {
     "name": "stdout",
     "output_type": "stream",
     "text": [
      "Data received: {'message': 'success', 'timestamp': 1681489303, 'iss_position': {'longitude': '-176.3528', 'latitude': '-14.2205'}}\n"
     ]
    },
    {
     "name": "stderr",
     "output_type": "stream",
     "text": [
      "C:\\Users\\13018\\AppData\\Local\\Temp\\ipykernel_16080\\2340310863.py:10: FutureWarning: The frame.append method is deprecated and will be removed from pandas in a future version. Use pandas.concat instead.\n",
      "  Sat_data = Sat_data.append({\"Longitude\": longitude, \"Latitude\": latitude}, ignore_index=True)\n"
     ]
    },
    {
     "name": "stdout",
     "output_type": "stream",
     "text": [
      "Data received: {'message': 'success', 'timestamp': 1681489308, 'iss_position': {'longitude': '-176.1608', 'latitude': '-13.9724'}}\n"
     ]
    },
    {
     "name": "stderr",
     "output_type": "stream",
     "text": [
      "C:\\Users\\13018\\AppData\\Local\\Temp\\ipykernel_16080\\2340310863.py:10: FutureWarning: The frame.append method is deprecated and will be removed from pandas in a future version. Use pandas.concat instead.\n",
      "  Sat_data = Sat_data.append({\"Longitude\": longitude, \"Latitude\": latitude}, ignore_index=True)\n"
     ]
    },
    {
     "name": "stdout",
     "output_type": "stream",
     "text": [
      "Data received: {'message': 'success', 'timestamp': 1681489313, 'iss_position': {'longitude': '-175.9693', 'latitude': '-13.7240'}}\n"
     ]
    },
    {
     "name": "stderr",
     "output_type": "stream",
     "text": [
      "C:\\Users\\13018\\AppData\\Local\\Temp\\ipykernel_16080\\2340310863.py:10: FutureWarning: The frame.append method is deprecated and will be removed from pandas in a future version. Use pandas.concat instead.\n",
      "  Sat_data = Sat_data.append({\"Longitude\": longitude, \"Latitude\": latitude}, ignore_index=True)\n"
     ]
    },
    {
     "name": "stdout",
     "output_type": "stream",
     "text": [
      "Data received: {'message': 'success', 'timestamp': 1681489319, 'iss_position': {'longitude': '-175.7590', 'latitude': '-13.4505'}}\n"
     ]
    },
    {
     "name": "stderr",
     "output_type": "stream",
     "text": [
      "C:\\Users\\13018\\AppData\\Local\\Temp\\ipykernel_16080\\2340310863.py:10: FutureWarning: The frame.append method is deprecated and will be removed from pandas in a future version. Use pandas.concat instead.\n",
      "  Sat_data = Sat_data.append({\"Longitude\": longitude, \"Latitude\": latitude}, ignore_index=True)\n"
     ]
    },
    {
     "name": "stdout",
     "output_type": "stream",
     "text": [
      "Data received: {'message': 'success', 'timestamp': 1681489324, 'iss_position': {'longitude': '-175.5684', 'latitude': '-13.2018'}}\n"
     ]
    },
    {
     "name": "stderr",
     "output_type": "stream",
     "text": [
      "C:\\Users\\13018\\AppData\\Local\\Temp\\ipykernel_16080\\2340310863.py:10: FutureWarning: The frame.append method is deprecated and will be removed from pandas in a future version. Use pandas.concat instead.\n",
      "  Sat_data = Sat_data.append({\"Longitude\": longitude, \"Latitude\": latitude}, ignore_index=True)\n"
     ]
    },
    {
     "name": "stdout",
     "output_type": "stream",
     "text": [
      "Data received: {'message': 'success', 'timestamp': 1681489329, 'iss_position': {'longitude': '-175.3782', 'latitude': '-12.9528'}}\n"
     ]
    },
    {
     "name": "stderr",
     "output_type": "stream",
     "text": [
      "C:\\Users\\13018\\AppData\\Local\\Temp\\ipykernel_16080\\2340310863.py:10: FutureWarning: The frame.append method is deprecated and will be removed from pandas in a future version. Use pandas.concat instead.\n",
      "  Sat_data = Sat_data.append({\"Longitude\": longitude, \"Latitude\": latitude}, ignore_index=True)\n"
     ]
    },
    {
     "name": "stdout",
     "output_type": "stream",
     "text": [
      "Data received: {'message': 'success', 'timestamp': 1681489334, 'iss_position': {'longitude': '-175.1694', 'latitude': '-12.6788'}}\n"
     ]
    },
    {
     "name": "stderr",
     "output_type": "stream",
     "text": [
      "C:\\Users\\13018\\AppData\\Local\\Temp\\ipykernel_16080\\2340310863.py:10: FutureWarning: The frame.append method is deprecated and will be removed from pandas in a future version. Use pandas.concat instead.\n",
      "  Sat_data = Sat_data.append({\"Longitude\": longitude, \"Latitude\": latitude}, ignore_index=True)\n"
     ]
    },
    {
     "name": "stdout",
     "output_type": "stream",
     "text": [
      "Data received: {'message': 'success', 'timestamp': 1681489339, 'iss_position': {'longitude': '-174.9800', 'latitude': '-12.4294'}}\n"
     ]
    },
    {
     "name": "stderr",
     "output_type": "stream",
     "text": [
      "C:\\Users\\13018\\AppData\\Local\\Temp\\ipykernel_16080\\2340310863.py:10: FutureWarning: The frame.append method is deprecated and will be removed from pandas in a future version. Use pandas.concat instead.\n",
      "  Sat_data = Sat_data.append({\"Longitude\": longitude, \"Latitude\": latitude}, ignore_index=True)\n"
     ]
    },
    {
     "name": "stdout",
     "output_type": "stream",
     "text": [
      "Data received: {'message': 'success', 'timestamp': 1681489344, 'iss_position': {'longitude': '-174.7911', 'latitude': '-12.1800'}}\n"
     ]
    },
    {
     "name": "stderr",
     "output_type": "stream",
     "text": [
      "C:\\Users\\13018\\AppData\\Local\\Temp\\ipykernel_16080\\2340310863.py:10: FutureWarning: The frame.append method is deprecated and will be removed from pandas in a future version. Use pandas.concat instead.\n",
      "  Sat_data = Sat_data.append({\"Longitude\": longitude, \"Latitude\": latitude}, ignore_index=True)\n"
     ]
    },
    {
     "name": "stdout",
     "output_type": "stream",
     "text": [
      "Data received: {'message': 'success', 'timestamp': 1681489350, 'iss_position': {'longitude': '-174.5837', 'latitude': '-11.9054'}}\n"
     ]
    },
    {
     "name": "stderr",
     "output_type": "stream",
     "text": [
      "C:\\Users\\13018\\AppData\\Local\\Temp\\ipykernel_16080\\2340310863.py:10: FutureWarning: The frame.append method is deprecated and will be removed from pandas in a future version. Use pandas.concat instead.\n",
      "  Sat_data = Sat_data.append({\"Longitude\": longitude, \"Latitude\": latitude}, ignore_index=True)\n"
     ]
    },
    {
     "name": "stdout",
     "output_type": "stream",
     "text": [
      "Data received: {'message': 'success', 'timestamp': 1681489355, 'iss_position': {'longitude': '-174.3956', 'latitude': '-11.6556'}}\n"
     ]
    },
    {
     "name": "stderr",
     "output_type": "stream",
     "text": [
      "C:\\Users\\13018\\AppData\\Local\\Temp\\ipykernel_16080\\2340310863.py:10: FutureWarning: The frame.append method is deprecated and will be removed from pandas in a future version. Use pandas.concat instead.\n",
      "  Sat_data = Sat_data.append({\"Longitude\": longitude, \"Latitude\": latitude}, ignore_index=True)\n"
     ]
    },
    {
     "name": "stdout",
     "output_type": "stream",
     "text": [
      "Data received: {'message': 'success', 'timestamp': 1681489360, 'iss_position': {'longitude': '-174.2078', 'latitude': '-11.4056'}}\n"
     ]
    },
    {
     "name": "stderr",
     "output_type": "stream",
     "text": [
      "C:\\Users\\13018\\AppData\\Local\\Temp\\ipykernel_16080\\2340310863.py:10: FutureWarning: The frame.append method is deprecated and will be removed from pandas in a future version. Use pandas.concat instead.\n",
      "  Sat_data = Sat_data.append({\"Longitude\": longitude, \"Latitude\": latitude}, ignore_index=True)\n"
     ]
    },
    {
     "name": "stdout",
     "output_type": "stream",
     "text": [
      "Data received: {'message': 'success', 'timestamp': 1681489365, 'iss_position': {'longitude': '-174.0018', 'latitude': '-11.1306'}}\n"
     ]
    },
    {
     "name": "stderr",
     "output_type": "stream",
     "text": [
      "C:\\Users\\13018\\AppData\\Local\\Temp\\ipykernel_16080\\2340310863.py:10: FutureWarning: The frame.append method is deprecated and will be removed from pandas in a future version. Use pandas.concat instead.\n",
      "  Sat_data = Sat_data.append({\"Longitude\": longitude, \"Latitude\": latitude}, ignore_index=True)\n"
     ]
    },
    {
     "name": "stdout",
     "output_type": "stream",
     "text": [
      "Data received: {'message': 'success', 'timestamp': 1681489370, 'iss_position': {'longitude': '-173.8148', 'latitude': '-10.8803'}}\n"
     ]
    },
    {
     "name": "stderr",
     "output_type": "stream",
     "text": [
      "C:\\Users\\13018\\AppData\\Local\\Temp\\ipykernel_16080\\2340310863.py:10: FutureWarning: The frame.append method is deprecated and will be removed from pandas in a future version. Use pandas.concat instead.\n",
      "  Sat_data = Sat_data.append({\"Longitude\": longitude, \"Latitude\": latitude}, ignore_index=True)\n"
     ]
    },
    {
     "name": "stdout",
     "output_type": "stream",
     "text": [
      "Data received: {'message': 'success', 'timestamp': 1681489376, 'iss_position': {'longitude': '-173.6095', 'latitude': '-10.6049'}}\n"
     ]
    },
    {
     "name": "stderr",
     "output_type": "stream",
     "text": [
      "C:\\Users\\13018\\AppData\\Local\\Temp\\ipykernel_16080\\2340310863.py:10: FutureWarning: The frame.append method is deprecated and will be removed from pandas in a future version. Use pandas.concat instead.\n",
      "  Sat_data = Sat_data.append({\"Longitude\": longitude, \"Latitude\": latitude}, ignore_index=True)\n"
     ]
    },
    {
     "name": "stdout",
     "output_type": "stream",
     "text": [
      "Data received: {'message': 'success', 'timestamp': 1681489381, 'iss_position': {'longitude': '-173.4232', 'latitude': '-10.3543'}}\n"
     ]
    },
    {
     "name": "stderr",
     "output_type": "stream",
     "text": [
      "C:\\Users\\13018\\AppData\\Local\\Temp\\ipykernel_16080\\2340310863.py:10: FutureWarning: The frame.append method is deprecated and will be removed from pandas in a future version. Use pandas.concat instead.\n",
      "  Sat_data = Sat_data.append({\"Longitude\": longitude, \"Latitude\": latitude}, ignore_index=True)\n"
     ]
    },
    {
     "name": "stdout",
     "output_type": "stream",
     "text": [
      "Data received: {'message': 'success', 'timestamp': 1681489386, 'iss_position': {'longitude': '-173.2373', 'latitude': '-10.1036'}}\n"
     ]
    },
    {
     "name": "stderr",
     "output_type": "stream",
     "text": [
      "C:\\Users\\13018\\AppData\\Local\\Temp\\ipykernel_16080\\2340310863.py:10: FutureWarning: The frame.append method is deprecated and will be removed from pandas in a future version. Use pandas.concat instead.\n",
      "  Sat_data = Sat_data.append({\"Longitude\": longitude, \"Latitude\": latitude}, ignore_index=True)\n"
     ]
    },
    {
     "name": "stdout",
     "output_type": "stream",
     "text": [
      "Data received: {'message': 'success', 'timestamp': 1681489391, 'iss_position': {'longitude': '-173.0331', 'latitude': '-9.8277'}}\n"
     ]
    },
    {
     "name": "stderr",
     "output_type": "stream",
     "text": [
      "C:\\Users\\13018\\AppData\\Local\\Temp\\ipykernel_16080\\2340310863.py:10: FutureWarning: The frame.append method is deprecated and will be removed from pandas in a future version. Use pandas.concat instead.\n",
      "  Sat_data = Sat_data.append({\"Longitude\": longitude, \"Latitude\": latitude}, ignore_index=True)\n"
     ]
    },
    {
     "name": "stdout",
     "output_type": "stream",
     "text": [
      "Data received: {'message': 'success', 'timestamp': 1681489396, 'iss_position': {'longitude': '-172.8478', 'latitude': '-9.5767'}}\n"
     ]
    },
    {
     "name": "stderr",
     "output_type": "stream",
     "text": [
      "C:\\Users\\13018\\AppData\\Local\\Temp\\ipykernel_16080\\2340310863.py:10: FutureWarning: The frame.append method is deprecated and will be removed from pandas in a future version. Use pandas.concat instead.\n",
      "  Sat_data = Sat_data.append({\"Longitude\": longitude, \"Latitude\": latitude}, ignore_index=True)\n"
     ]
    },
    {
     "name": "stdout",
     "output_type": "stream",
     "text": [
      "Data received: {'message': 'success', 'timestamp': 1681489401, 'iss_position': {'longitude': '-172.6628', 'latitude': '-9.3256'}}\n"
     ]
    },
    {
     "name": "stderr",
     "output_type": "stream",
     "text": [
      "C:\\Users\\13018\\AppData\\Local\\Temp\\ipykernel_16080\\2340310863.py:10: FutureWarning: The frame.append method is deprecated and will be removed from pandas in a future version. Use pandas.concat instead.\n",
      "  Sat_data = Sat_data.append({\"Longitude\": longitude, \"Latitude\": latitude}, ignore_index=True)\n"
     ]
    },
    {
     "name": "stdout",
     "output_type": "stream",
     "text": [
      "Data received: {'message': 'success', 'timestamp': 1681489407, 'iss_position': {'longitude': '-172.4597', 'latitude': '-9.0493'}}\n"
     ]
    },
    {
     "name": "stderr",
     "output_type": "stream",
     "text": [
      "C:\\Users\\13018\\AppData\\Local\\Temp\\ipykernel_16080\\2340310863.py:10: FutureWarning: The frame.append method is deprecated and will be removed from pandas in a future version. Use pandas.concat instead.\n",
      "  Sat_data = Sat_data.append({\"Longitude\": longitude, \"Latitude\": latitude}, ignore_index=True)\n"
     ]
    },
    {
     "name": "stdout",
     "output_type": "stream",
     "text": [
      "Data received: {'message': 'success', 'timestamp': 1681489412, 'iss_position': {'longitude': '-172.2753', 'latitude': '-8.7979'}}\n"
     ]
    },
    {
     "name": "stderr",
     "output_type": "stream",
     "text": [
      "C:\\Users\\13018\\AppData\\Local\\Temp\\ipykernel_16080\\2340310863.py:10: FutureWarning: The frame.append method is deprecated and will be removed from pandas in a future version. Use pandas.concat instead.\n",
      "  Sat_data = Sat_data.append({\"Longitude\": longitude, \"Latitude\": latitude}, ignore_index=True)\n"
     ]
    },
    {
     "name": "stdout",
     "output_type": "stream",
     "text": [
      "Data received: {'message': 'success', 'timestamp': 1681489417, 'iss_position': {'longitude': '-172.0912', 'latitude': '-8.5465'}}\n"
     ]
    },
    {
     "name": "stderr",
     "output_type": "stream",
     "text": [
      "C:\\Users\\13018\\AppData\\Local\\Temp\\ipykernel_16080\\2340310863.py:10: FutureWarning: The frame.append method is deprecated and will be removed from pandas in a future version. Use pandas.concat instead.\n",
      "  Sat_data = Sat_data.append({\"Longitude\": longitude, \"Latitude\": latitude}, ignore_index=True)\n"
     ]
    },
    {
     "name": "stdout",
     "output_type": "stream",
     "text": [
      "Data received: {'message': 'success', 'timestamp': 1681489422, 'iss_position': {'longitude': '-171.8890', 'latitude': '-8.2698'}}\n"
     ]
    },
    {
     "name": "stderr",
     "output_type": "stream",
     "text": [
      "C:\\Users\\13018\\AppData\\Local\\Temp\\ipykernel_16080\\2340310863.py:10: FutureWarning: The frame.append method is deprecated and will be removed from pandas in a future version. Use pandas.concat instead.\n",
      "  Sat_data = Sat_data.append({\"Longitude\": longitude, \"Latitude\": latitude}, ignore_index=True)\n"
     ]
    },
    {
     "name": "stdout",
     "output_type": "stream",
     "text": [
      "Data received: {'message': 'success', 'timestamp': 1681489427, 'iss_position': {'longitude': '-171.7055', 'latitude': '-8.0181'}}\n"
     ]
    },
    {
     "name": "stderr",
     "output_type": "stream",
     "text": [
      "C:\\Users\\13018\\AppData\\Local\\Temp\\ipykernel_16080\\2340310863.py:10: FutureWarning: The frame.append method is deprecated and will be removed from pandas in a future version. Use pandas.concat instead.\n",
      "  Sat_data = Sat_data.append({\"Longitude\": longitude, \"Latitude\": latitude}, ignore_index=True)\n"
     ]
    },
    {
     "name": "stdout",
     "output_type": "stream",
     "text": [
      "Data received: {'message': 'success', 'timestamp': 1681489433, 'iss_position': {'longitude': '-171.5039', 'latitude': '-7.7411'}}\n"
     ]
    },
    {
     "name": "stderr",
     "output_type": "stream",
     "text": [
      "C:\\Users\\13018\\AppData\\Local\\Temp\\ipykernel_16080\\2340310863.py:10: FutureWarning: The frame.append method is deprecated and will be removed from pandas in a future version. Use pandas.concat instead.\n",
      "  Sat_data = Sat_data.append({\"Longitude\": longitude, \"Latitude\": latitude}, ignore_index=True)\n"
     ]
    },
    {
     "name": "stdout",
     "output_type": "stream",
     "text": [
      "Data received: {'message': 'success', 'timestamp': 1681489438, 'iss_position': {'longitude': '-171.3209', 'latitude': '-7.4892'}}\n"
     ]
    },
    {
     "name": "stderr",
     "output_type": "stream",
     "text": [
      "C:\\Users\\13018\\AppData\\Local\\Temp\\ipykernel_16080\\2340310863.py:10: FutureWarning: The frame.append method is deprecated and will be removed from pandas in a future version. Use pandas.concat instead.\n",
      "  Sat_data = Sat_data.append({\"Longitude\": longitude, \"Latitude\": latitude}, ignore_index=True)\n"
     ]
    },
    {
     "name": "stdout",
     "output_type": "stream",
     "text": [
      "Data received: {'message': 'success', 'timestamp': 1681489443, 'iss_position': {'longitude': '-171.1381', 'latitude': '-7.2373'}}\n"
     ]
    },
    {
     "name": "stderr",
     "output_type": "stream",
     "text": [
      "C:\\Users\\13018\\AppData\\Local\\Temp\\ipykernel_16080\\2340310863.py:10: FutureWarning: The frame.append method is deprecated and will be removed from pandas in a future version. Use pandas.concat instead.\n",
      "  Sat_data = Sat_data.append({\"Longitude\": longitude, \"Latitude\": latitude}, ignore_index=True)\n"
     ]
    },
    {
     "name": "stdout",
     "output_type": "stream",
     "text": [
      "Data received: {'message': 'success', 'timestamp': 1681489448, 'iss_position': {'longitude': '-170.9373', 'latitude': '-6.9600'}}\n"
     ]
    },
    {
     "name": "stderr",
     "output_type": "stream",
     "text": [
      "C:\\Users\\13018\\AppData\\Local\\Temp\\ipykernel_16080\\2340310863.py:10: FutureWarning: The frame.append method is deprecated and will be removed from pandas in a future version. Use pandas.concat instead.\n",
      "  Sat_data = Sat_data.append({\"Longitude\": longitude, \"Latitude\": latitude}, ignore_index=True)\n"
     ]
    },
    {
     "name": "stdout",
     "output_type": "stream",
     "text": [
      "Data received: {'message': 'success', 'timestamp': 1681489453, 'iss_position': {'longitude': '-170.7550', 'latitude': '-6.7078'}}\n"
     ]
    },
    {
     "name": "stderr",
     "output_type": "stream",
     "text": [
      "C:\\Users\\13018\\AppData\\Local\\Temp\\ipykernel_16080\\2340310863.py:10: FutureWarning: The frame.append method is deprecated and will be removed from pandas in a future version. Use pandas.concat instead.\n",
      "  Sat_data = Sat_data.append({\"Longitude\": longitude, \"Latitude\": latitude}, ignore_index=True)\n"
     ]
    },
    {
     "name": "stdout",
     "output_type": "stream",
     "text": [
      "Data received: {'message': 'success', 'timestamp': 1681489458, 'iss_position': {'longitude': '-170.5729', 'latitude': '-6.4555'}}\n"
     ]
    },
    {
     "name": "stderr",
     "output_type": "stream",
     "text": [
      "C:\\Users\\13018\\AppData\\Local\\Temp\\ipykernel_16080\\2340310863.py:10: FutureWarning: The frame.append method is deprecated and will be removed from pandas in a future version. Use pandas.concat instead.\n",
      "  Sat_data = Sat_data.append({\"Longitude\": longitude, \"Latitude\": latitude}, ignore_index=True)\n"
     ]
    },
    {
     "name": "stdout",
     "output_type": "stream",
     "text": [
      "Data received: {'message': 'success', 'timestamp': 1681489464, 'iss_position': {'longitude': '-170.3728', 'latitude': '-6.1780'}}\n"
     ]
    },
    {
     "name": "stderr",
     "output_type": "stream",
     "text": [
      "C:\\Users\\13018\\AppData\\Local\\Temp\\ipykernel_16080\\2340310863.py:10: FutureWarning: The frame.append method is deprecated and will be removed from pandas in a future version. Use pandas.concat instead.\n",
      "  Sat_data = Sat_data.append({\"Longitude\": longitude, \"Latitude\": latitude}, ignore_index=True)\n"
     ]
    },
    {
     "name": "stdout",
     "output_type": "stream",
     "text": [
      "Data received: {'message': 'success', 'timestamp': 1681489469, 'iss_position': {'longitude': '-170.1912', 'latitude': '-5.9255'}}\n"
     ]
    },
    {
     "name": "stderr",
     "output_type": "stream",
     "text": [
      "C:\\Users\\13018\\AppData\\Local\\Temp\\ipykernel_16080\\2340310863.py:10: FutureWarning: The frame.append method is deprecated and will be removed from pandas in a future version. Use pandas.concat instead.\n",
      "  Sat_data = Sat_data.append({\"Longitude\": longitude, \"Latitude\": latitude}, ignore_index=True)\n"
     ]
    },
    {
     "name": "stdout",
     "output_type": "stream",
     "text": [
      "Data received: {'message': 'success', 'timestamp': 1681489474, 'iss_position': {'longitude': '-169.9915', 'latitude': '-5.6478'}}\n"
     ]
    },
    {
     "name": "stderr",
     "output_type": "stream",
     "text": [
      "C:\\Users\\13018\\AppData\\Local\\Temp\\ipykernel_16080\\2340310863.py:10: FutureWarning: The frame.append method is deprecated and will be removed from pandas in a future version. Use pandas.concat instead.\n",
      "  Sat_data = Sat_data.append({\"Longitude\": longitude, \"Latitude\": latitude}, ignore_index=True)\n"
     ]
    },
    {
     "name": "stdout",
     "output_type": "stream",
     "text": [
      "Data received: {'message': 'success', 'timestamp': 1681489479, 'iss_position': {'longitude': '-169.8102', 'latitude': '-5.3952'}}\n"
     ]
    },
    {
     "name": "stderr",
     "output_type": "stream",
     "text": [
      "C:\\Users\\13018\\AppData\\Local\\Temp\\ipykernel_16080\\2340310863.py:10: FutureWarning: The frame.append method is deprecated and will be removed from pandas in a future version. Use pandas.concat instead.\n",
      "  Sat_data = Sat_data.append({\"Longitude\": longitude, \"Latitude\": latitude}, ignore_index=True)\n"
     ]
    },
    {
     "name": "stdout",
     "output_type": "stream",
     "text": [
      "Data received: {'message': 'success', 'timestamp': 1681489484, 'iss_position': {'longitude': '-169.6291', 'latitude': '-5.1426'}}\n"
     ]
    },
    {
     "name": "stderr",
     "output_type": "stream",
     "text": [
      "C:\\Users\\13018\\AppData\\Local\\Temp\\ipykernel_16080\\2340310863.py:10: FutureWarning: The frame.append method is deprecated and will be removed from pandas in a future version. Use pandas.concat instead.\n",
      "  Sat_data = Sat_data.append({\"Longitude\": longitude, \"Latitude\": latitude}, ignore_index=True)\n"
     ]
    },
    {
     "name": "stdout",
     "output_type": "stream",
     "text": [
      "Data received: {'message': 'success', 'timestamp': 1681489490, 'iss_position': {'longitude': '-169.4300', 'latitude': '-4.8646'}}\n"
     ]
    },
    {
     "name": "stderr",
     "output_type": "stream",
     "text": [
      "C:\\Users\\13018\\AppData\\Local\\Temp\\ipykernel_16080\\2340310863.py:10: FutureWarning: The frame.append method is deprecated and will be removed from pandas in a future version. Use pandas.concat instead.\n",
      "  Sat_data = Sat_data.append({\"Longitude\": longitude, \"Latitude\": latitude}, ignore_index=True)\n"
     ]
    },
    {
     "name": "stdout",
     "output_type": "stream",
     "text": [
      "Data received: {'message': 'success', 'timestamp': 1681489495, 'iss_position': {'longitude': '-169.2492', 'latitude': '-4.6118'}}\n"
     ]
    },
    {
     "name": "stderr",
     "output_type": "stream",
     "text": [
      "C:\\Users\\13018\\AppData\\Local\\Temp\\ipykernel_16080\\2340310863.py:10: FutureWarning: The frame.append method is deprecated and will be removed from pandas in a future version. Use pandas.concat instead.\n",
      "  Sat_data = Sat_data.append({\"Longitude\": longitude, \"Latitude\": latitude}, ignore_index=True)\n"
     ]
    },
    {
     "name": "stdout",
     "output_type": "stream",
     "text": [
      "Data received: {'message': 'success', 'timestamp': 1681489500, 'iss_position': {'longitude': '-169.0685', 'latitude': '-4.3589'}}\n"
     ]
    },
    {
     "name": "stderr",
     "output_type": "stream",
     "text": [
      "C:\\Users\\13018\\AppData\\Local\\Temp\\ipykernel_16080\\2340310863.py:10: FutureWarning: The frame.append method is deprecated and will be removed from pandas in a future version. Use pandas.concat instead.\n",
      "  Sat_data = Sat_data.append({\"Longitude\": longitude, \"Latitude\": latitude}, ignore_index=True)\n"
     ]
    },
    {
     "name": "stdout",
     "output_type": "stream",
     "text": [
      "Data received: {'message': 'success', 'timestamp': 1681489505, 'iss_position': {'longitude': '-168.8699', 'latitude': '-4.0807'}}\n"
     ]
    },
    {
     "name": "stderr",
     "output_type": "stream",
     "text": [
      "C:\\Users\\13018\\AppData\\Local\\Temp\\ipykernel_16080\\2340310863.py:10: FutureWarning: The frame.append method is deprecated and will be removed from pandas in a future version. Use pandas.concat instead.\n",
      "  Sat_data = Sat_data.append({\"Longitude\": longitude, \"Latitude\": latitude}, ignore_index=True)\n"
     ]
    },
    {
     "name": "stdout",
     "output_type": "stream",
     "text": [
      "Data received: {'message': 'success', 'timestamp': 1681489510, 'iss_position': {'longitude': '-168.6895', 'latitude': '-3.8278'}}\n"
     ]
    },
    {
     "name": "stderr",
     "output_type": "stream",
     "text": [
      "C:\\Users\\13018\\AppData\\Local\\Temp\\ipykernel_16080\\2340310863.py:10: FutureWarning: The frame.append method is deprecated and will be removed from pandas in a future version. Use pandas.concat instead.\n",
      "  Sat_data = Sat_data.append({\"Longitude\": longitude, \"Latitude\": latitude}, ignore_index=True)\n"
     ]
    },
    {
     "name": "stdout",
     "output_type": "stream",
     "text": [
      "Data received: {'message': 'success', 'timestamp': 1681489515, 'iss_position': {'longitude': '-168.5092', 'latitude': '-3.5748'}}\n"
     ]
    },
    {
     "name": "stderr",
     "output_type": "stream",
     "text": [
      "C:\\Users\\13018\\AppData\\Local\\Temp\\ipykernel_16080\\2340310863.py:10: FutureWarning: The frame.append method is deprecated and will be removed from pandas in a future version. Use pandas.concat instead.\n",
      "  Sat_data = Sat_data.append({\"Longitude\": longitude, \"Latitude\": latitude}, ignore_index=True)\n"
     ]
    },
    {
     "name": "stdout",
     "output_type": "stream",
     "text": [
      "Data received: {'message': 'success', 'timestamp': 1681489521, 'iss_position': {'longitude': '-168.3110', 'latitude': '-3.2964'}}\n"
     ]
    },
    {
     "name": "stderr",
     "output_type": "stream",
     "text": [
      "C:\\Users\\13018\\AppData\\Local\\Temp\\ipykernel_16080\\2340310863.py:10: FutureWarning: The frame.append method is deprecated and will be removed from pandas in a future version. Use pandas.concat instead.\n",
      "  Sat_data = Sat_data.append({\"Longitude\": longitude, \"Latitude\": latitude}, ignore_index=True)\n"
     ]
    },
    {
     "name": "stdout",
     "output_type": "stream",
     "text": [
      "Data received: {'message': 'success', 'timestamp': 1681489526, 'iss_position': {'longitude': '-168.1309', 'latitude': '-3.0433'}}\n"
     ]
    },
    {
     "name": "stderr",
     "output_type": "stream",
     "text": [
      "C:\\Users\\13018\\AppData\\Local\\Temp\\ipykernel_16080\\2340310863.py:10: FutureWarning: The frame.append method is deprecated and will be removed from pandas in a future version. Use pandas.concat instead.\n",
      "  Sat_data = Sat_data.append({\"Longitude\": longitude, \"Latitude\": latitude}, ignore_index=True)\n"
     ]
    },
    {
     "name": "stdout",
     "output_type": "stream",
     "text": [
      "Data received: {'message': 'success', 'timestamp': 1681489531, 'iss_position': {'longitude': '-167.9329', 'latitude': '-2.7648'}}\n"
     ]
    },
    {
     "name": "stderr",
     "output_type": "stream",
     "text": [
      "C:\\Users\\13018\\AppData\\Local\\Temp\\ipykernel_16080\\2340310863.py:10: FutureWarning: The frame.append method is deprecated and will be removed from pandas in a future version. Use pandas.concat instead.\n",
      "  Sat_data = Sat_data.append({\"Longitude\": longitude, \"Latitude\": latitude}, ignore_index=True)\n"
     ]
    },
    {
     "name": "stdout",
     "output_type": "stream",
     "text": [
      "Data received: {'message': 'success', 'timestamp': 1681489536, 'iss_position': {'longitude': '-167.7531', 'latitude': '-2.5117'}}\n"
     ]
    },
    {
     "name": "stderr",
     "output_type": "stream",
     "text": [
      "C:\\Users\\13018\\AppData\\Local\\Temp\\ipykernel_16080\\2340310863.py:10: FutureWarning: The frame.append method is deprecated and will be removed from pandas in a future version. Use pandas.concat instead.\n",
      "  Sat_data = Sat_data.append({\"Longitude\": longitude, \"Latitude\": latitude}, ignore_index=True)\n"
     ]
    },
    {
     "name": "stdout",
     "output_type": "stream",
     "text": [
      "Data received: {'message': 'success', 'timestamp': 1681489541, 'iss_position': {'longitude': '-167.5733', 'latitude': '-2.2585'}}\n"
     ]
    },
    {
     "name": "stderr",
     "output_type": "stream",
     "text": [
      "C:\\Users\\13018\\AppData\\Local\\Temp\\ipykernel_16080\\2340310863.py:10: FutureWarning: The frame.append method is deprecated and will be removed from pandas in a future version. Use pandas.concat instead.\n",
      "  Sat_data = Sat_data.append({\"Longitude\": longitude, \"Latitude\": latitude}, ignore_index=True)\n"
     ]
    },
    {
     "name": "stdout",
     "output_type": "stream",
     "text": [
      "Data received: {'message': 'success', 'timestamp': 1681489547, 'iss_position': {'longitude': '-167.3756', 'latitude': '-1.9800'}}\n"
     ]
    },
    {
     "name": "stderr",
     "output_type": "stream",
     "text": [
      "C:\\Users\\13018\\AppData\\Local\\Temp\\ipykernel_16080\\2340310863.py:10: FutureWarning: The frame.append method is deprecated and will be removed from pandas in a future version. Use pandas.concat instead.\n",
      "  Sat_data = Sat_data.append({\"Longitude\": longitude, \"Latitude\": latitude}, ignore_index=True)\n"
     ]
    },
    {
     "name": "stdout",
     "output_type": "stream",
     "text": [
      "Data received: {'message': 'success', 'timestamp': 1681489552, 'iss_position': {'longitude': '-167.1960', 'latitude': '-1.7268'}}\n"
     ]
    },
    {
     "name": "stderr",
     "output_type": "stream",
     "text": [
      "C:\\Users\\13018\\AppData\\Local\\Temp\\ipykernel_16080\\2340310863.py:10: FutureWarning: The frame.append method is deprecated and will be removed from pandas in a future version. Use pandas.concat instead.\n",
      "  Sat_data = Sat_data.append({\"Longitude\": longitude, \"Latitude\": latitude}, ignore_index=True)\n"
     ]
    },
    {
     "name": "stdout",
     "output_type": "stream",
     "text": [
      "Data received: {'message': 'success', 'timestamp': 1681489557, 'iss_position': {'longitude': '-167.0164', 'latitude': '-1.4735'}}\n"
     ]
    },
    {
     "name": "stderr",
     "output_type": "stream",
     "text": [
      "C:\\Users\\13018\\AppData\\Local\\Temp\\ipykernel_16080\\2340310863.py:10: FutureWarning: The frame.append method is deprecated and will be removed from pandas in a future version. Use pandas.concat instead.\n",
      "  Sat_data = Sat_data.append({\"Longitude\": longitude, \"Latitude\": latitude}, ignore_index=True)\n"
     ]
    },
    {
     "name": "stdout",
     "output_type": "stream",
     "text": [
      "Data received: {'message': 'success', 'timestamp': 1681489562, 'iss_position': {'longitude': '-166.8189', 'latitude': '-1.1949'}}\n"
     ]
    },
    {
     "name": "stderr",
     "output_type": "stream",
     "text": [
      "C:\\Users\\13018\\AppData\\Local\\Temp\\ipykernel_16080\\2340310863.py:10: FutureWarning: The frame.append method is deprecated and will be removed from pandas in a future version. Use pandas.concat instead.\n",
      "  Sat_data = Sat_data.append({\"Longitude\": longitude, \"Latitude\": latitude}, ignore_index=True)\n"
     ]
    },
    {
     "name": "stdout",
     "output_type": "stream",
     "text": [
      "Data received: {'message': 'success', 'timestamp': 1681489567, 'iss_position': {'longitude': '-166.6393', 'latitude': '-0.9416'}}\n"
     ]
    },
    {
     "name": "stderr",
     "output_type": "stream",
     "text": [
      "C:\\Users\\13018\\AppData\\Local\\Temp\\ipykernel_16080\\2340310863.py:10: FutureWarning: The frame.append method is deprecated and will be removed from pandas in a future version. Use pandas.concat instead.\n",
      "  Sat_data = Sat_data.append({\"Longitude\": longitude, \"Latitude\": latitude}, ignore_index=True)\n"
     ]
    },
    {
     "name": "stdout",
     "output_type": "stream",
     "text": [
      "Data received: {'message': 'success', 'timestamp': 1681489573, 'iss_position': {'longitude': '-166.4419', 'latitude': '-0.6629'}}\n"
     ]
    },
    {
     "name": "stderr",
     "output_type": "stream",
     "text": [
      "C:\\Users\\13018\\AppData\\Local\\Temp\\ipykernel_16080\\2340310863.py:10: FutureWarning: The frame.append method is deprecated and will be removed from pandas in a future version. Use pandas.concat instead.\n",
      "  Sat_data = Sat_data.append({\"Longitude\": longitude, \"Latitude\": latitude}, ignore_index=True)\n"
     ]
    },
    {
     "name": "stdout",
     "output_type": "stream",
     "text": [
      "Data received: {'message': 'success', 'timestamp': 1681489578, 'iss_position': {'longitude': '-166.2624', 'latitude': '-0.4095'}}\n"
     ]
    },
    {
     "name": "stderr",
     "output_type": "stream",
     "text": [
      "C:\\Users\\13018\\AppData\\Local\\Temp\\ipykernel_16080\\2340310863.py:10: FutureWarning: The frame.append method is deprecated and will be removed from pandas in a future version. Use pandas.concat instead.\n",
      "  Sat_data = Sat_data.append({\"Longitude\": longitude, \"Latitude\": latitude}, ignore_index=True)\n"
     ]
    },
    {
     "name": "stdout",
     "output_type": "stream",
     "text": [
      "Data received: {'message': 'success', 'timestamp': 1681489583, 'iss_position': {'longitude': '-166.0829', 'latitude': '-0.1561'}}\n"
     ]
    },
    {
     "name": "stderr",
     "output_type": "stream",
     "text": [
      "C:\\Users\\13018\\AppData\\Local\\Temp\\ipykernel_16080\\2340310863.py:10: FutureWarning: The frame.append method is deprecated and will be removed from pandas in a future version. Use pandas.concat instead.\n",
      "  Sat_data = Sat_data.append({\"Longitude\": longitude, \"Latitude\": latitude}, ignore_index=True)\n"
     ]
    },
    {
     "name": "stdout",
     "output_type": "stream",
     "text": [
      "Data received: {'message': 'success', 'timestamp': 1681489588, 'iss_position': {'longitude': '-165.8855', 'latitude': '0.1226'}}\n"
     ]
    },
    {
     "name": "stderr",
     "output_type": "stream",
     "text": [
      "C:\\Users\\13018\\AppData\\Local\\Temp\\ipykernel_16080\\2340310863.py:10: FutureWarning: The frame.append method is deprecated and will be removed from pandas in a future version. Use pandas.concat instead.\n",
      "  Sat_data = Sat_data.append({\"Longitude\": longitude, \"Latitude\": latitude}, ignore_index=True)\n"
     ]
    },
    {
     "name": "stdout",
     "output_type": "stream",
     "text": [
      "Data received: {'message': 'success', 'timestamp': 1681489593, 'iss_position': {'longitude': '-165.7061', 'latitude': '0.3759'}}\n"
     ]
    },
    {
     "name": "stderr",
     "output_type": "stream",
     "text": [
      "C:\\Users\\13018\\AppData\\Local\\Temp\\ipykernel_16080\\2340310863.py:10: FutureWarning: The frame.append method is deprecated and will be removed from pandas in a future version. Use pandas.concat instead.\n",
      "  Sat_data = Sat_data.append({\"Longitude\": longitude, \"Latitude\": latitude}, ignore_index=True)\n"
     ]
    },
    {
     "name": "stdout",
     "output_type": "stream",
     "text": [
      "Data received: {'message': 'success', 'timestamp': 1681489598, 'iss_position': {'longitude': '-165.5266', 'latitude': '0.6293'}}\n"
     ]
    },
    {
     "name": "stderr",
     "output_type": "stream",
     "text": [
      "C:\\Users\\13018\\AppData\\Local\\Temp\\ipykernel_16080\\2340310863.py:10: FutureWarning: The frame.append method is deprecated and will be removed from pandas in a future version. Use pandas.concat instead.\n",
      "  Sat_data = Sat_data.append({\"Longitude\": longitude, \"Latitude\": latitude}, ignore_index=True)\n"
     ]
    },
    {
     "name": "stdout",
     "output_type": "stream",
     "text": [
      "Data received: {'message': 'success', 'timestamp': 1681489604, 'iss_position': {'longitude': '-165.3291', 'latitude': '0.9079'}}\n"
     ]
    },
    {
     "name": "stderr",
     "output_type": "stream",
     "text": [
      "C:\\Users\\13018\\AppData\\Local\\Temp\\ipykernel_16080\\2340310863.py:10: FutureWarning: The frame.append method is deprecated and will be removed from pandas in a future version. Use pandas.concat instead.\n",
      "  Sat_data = Sat_data.append({\"Longitude\": longitude, \"Latitude\": latitude}, ignore_index=True)\n"
     ]
    },
    {
     "name": "stdout",
     "output_type": "stream",
     "text": [
      "Data received: {'message': 'success', 'timestamp': 1681489609, 'iss_position': {'longitude': '-165.1496', 'latitude': '1.1613'}}\n"
     ]
    },
    {
     "name": "stderr",
     "output_type": "stream",
     "text": [
      "C:\\Users\\13018\\AppData\\Local\\Temp\\ipykernel_16080\\2340310863.py:10: FutureWarning: The frame.append method is deprecated and will be removed from pandas in a future version. Use pandas.concat instead.\n",
      "  Sat_data = Sat_data.append({\"Longitude\": longitude, \"Latitude\": latitude}, ignore_index=True)\n"
     ]
    },
    {
     "name": "stdout",
     "output_type": "stream",
     "text": [
      "Data received: {'message': 'success', 'timestamp': 1681489614, 'iss_position': {'longitude': '-164.9700', 'latitude': '1.4146'}}\n"
     ]
    },
    {
     "name": "stderr",
     "output_type": "stream",
     "text": [
      "C:\\Users\\13018\\AppData\\Local\\Temp\\ipykernel_16080\\2340310863.py:10: FutureWarning: The frame.append method is deprecated and will be removed from pandas in a future version. Use pandas.concat instead.\n",
      "  Sat_data = Sat_data.append({\"Longitude\": longitude, \"Latitude\": latitude}, ignore_index=True)\n"
     ]
    },
    {
     "name": "stdout",
     "output_type": "stream",
     "text": [
      "Data received: {'message': 'success', 'timestamp': 1681489619, 'iss_position': {'longitude': '-164.7724', 'latitude': '1.6933'}}\n"
     ]
    },
    {
     "name": "stderr",
     "output_type": "stream",
     "text": [
      "C:\\Users\\13018\\AppData\\Local\\Temp\\ipykernel_16080\\2340310863.py:10: FutureWarning: The frame.append method is deprecated and will be removed from pandas in a future version. Use pandas.concat instead.\n",
      "  Sat_data = Sat_data.append({\"Longitude\": longitude, \"Latitude\": latitude}, ignore_index=True)\n"
     ]
    },
    {
     "name": "stdout",
     "output_type": "stream",
     "text": [
      "Data received: {'message': 'success', 'timestamp': 1681489624, 'iss_position': {'longitude': '-164.5927', 'latitude': '1.9466'}}\n"
     ]
    },
    {
     "name": "stderr",
     "output_type": "stream",
     "text": [
      "C:\\Users\\13018\\AppData\\Local\\Temp\\ipykernel_16080\\2340310863.py:10: FutureWarning: The frame.append method is deprecated and will be removed from pandas in a future version. Use pandas.concat instead.\n",
      "  Sat_data = Sat_data.append({\"Longitude\": longitude, \"Latitude\": latitude}, ignore_index=True)\n"
     ]
    },
    {
     "name": "stdout",
     "output_type": "stream",
     "text": [
      "Data received: {'message': 'success', 'timestamp': 1681489629, 'iss_position': {'longitude': '-164.4130', 'latitude': '2.1998'}}\n"
     ]
    },
    {
     "name": "stderr",
     "output_type": "stream",
     "text": [
      "C:\\Users\\13018\\AppData\\Local\\Temp\\ipykernel_16080\\2340310863.py:10: FutureWarning: The frame.append method is deprecated and will be removed from pandas in a future version. Use pandas.concat instead.\n",
      "  Sat_data = Sat_data.append({\"Longitude\": longitude, \"Latitude\": latitude}, ignore_index=True)\n"
     ]
    },
    {
     "name": "stdout",
     "output_type": "stream",
     "text": [
      "Data received: {'message': 'success', 'timestamp': 1681489635, 'iss_position': {'longitude': '-164.2152', 'latitude': '2.4784'}}\n"
     ]
    },
    {
     "name": "stderr",
     "output_type": "stream",
     "text": [
      "C:\\Users\\13018\\AppData\\Local\\Temp\\ipykernel_16080\\2340310863.py:10: FutureWarning: The frame.append method is deprecated and will be removed from pandas in a future version. Use pandas.concat instead.\n",
      "  Sat_data = Sat_data.append({\"Longitude\": longitude, \"Latitude\": latitude}, ignore_index=True)\n"
     ]
    },
    {
     "name": "stdout",
     "output_type": "stream",
     "text": [
      "Data received: {'message': 'success', 'timestamp': 1681489640, 'iss_position': {'longitude': '-164.0353', 'latitude': '2.7317'}}\n"
     ]
    },
    {
     "name": "stderr",
     "output_type": "stream",
     "text": [
      "C:\\Users\\13018\\AppData\\Local\\Temp\\ipykernel_16080\\2340310863.py:10: FutureWarning: The frame.append method is deprecated and will be removed from pandas in a future version. Use pandas.concat instead.\n",
      "  Sat_data = Sat_data.append({\"Longitude\": longitude, \"Latitude\": latitude}, ignore_index=True)\n"
     ]
    },
    {
     "name": "stdout",
     "output_type": "stream",
     "text": [
      "Data received: {'message': 'success', 'timestamp': 1681489645, 'iss_position': {'longitude': '-163.8373', 'latitude': '3.0102'}}\n"
     ]
    },
    {
     "name": "stderr",
     "output_type": "stream",
     "text": [
      "C:\\Users\\13018\\AppData\\Local\\Temp\\ipykernel_16080\\2340310863.py:10: FutureWarning: The frame.append method is deprecated and will be removed from pandas in a future version. Use pandas.concat instead.\n",
      "  Sat_data = Sat_data.append({\"Longitude\": longitude, \"Latitude\": latitude}, ignore_index=True)\n"
     ]
    },
    {
     "name": "stdout",
     "output_type": "stream",
     "text": [
      "Data received: {'message': 'success', 'timestamp': 1681489651, 'iss_position': {'longitude': '-163.6572', 'latitude': '3.2633'}}\n"
     ]
    },
    {
     "name": "stderr",
     "output_type": "stream",
     "text": [
      "C:\\Users\\13018\\AppData\\Local\\Temp\\ipykernel_16080\\2340310863.py:10: FutureWarning: The frame.append method is deprecated and will be removed from pandas in a future version. Use pandas.concat instead.\n",
      "  Sat_data = Sat_data.append({\"Longitude\": longitude, \"Latitude\": latitude}, ignore_index=True)\n"
     ]
    },
    {
     "name": "stdout",
     "output_type": "stream",
     "text": [
      "Data received: {'message': 'success', 'timestamp': 1681489656, 'iss_position': {'longitude': '-163.4770', 'latitude': '3.5164'}}\n"
     ]
    },
    {
     "name": "stderr",
     "output_type": "stream",
     "text": [
      "C:\\Users\\13018\\AppData\\Local\\Temp\\ipykernel_16080\\2340310863.py:10: FutureWarning: The frame.append method is deprecated and will be removed from pandas in a future version. Use pandas.concat instead.\n",
      "  Sat_data = Sat_data.append({\"Longitude\": longitude, \"Latitude\": latitude}, ignore_index=True)\n"
     ]
    },
    {
     "name": "stdout",
     "output_type": "stream",
     "text": [
      "Data received: {'message': 'success', 'timestamp': 1681489661, 'iss_position': {'longitude': '-163.2787', 'latitude': '3.7948'}}\n"
     ]
    },
    {
     "name": "stderr",
     "output_type": "stream",
     "text": [
      "C:\\Users\\13018\\AppData\\Local\\Temp\\ipykernel_16080\\2340310863.py:10: FutureWarning: The frame.append method is deprecated and will be removed from pandas in a future version. Use pandas.concat instead.\n",
      "  Sat_data = Sat_data.append({\"Longitude\": longitude, \"Latitude\": latitude}, ignore_index=True)\n"
     ]
    },
    {
     "name": "stdout",
     "output_type": "stream",
     "text": [
      "Data received: {'message': 'success', 'timestamp': 1681489666, 'iss_position': {'longitude': '-163.0982', 'latitude': '4.0478'}}\n"
     ]
    },
    {
     "name": "stderr",
     "output_type": "stream",
     "text": [
      "C:\\Users\\13018\\AppData\\Local\\Temp\\ipykernel_16080\\2340310863.py:10: FutureWarning: The frame.append method is deprecated and will be removed from pandas in a future version. Use pandas.concat instead.\n",
      "  Sat_data = Sat_data.append({\"Longitude\": longitude, \"Latitude\": latitude}, ignore_index=True)\n"
     ]
    },
    {
     "name": "stdout",
     "output_type": "stream",
     "text": [
      "Data received: {'message': 'success', 'timestamp': 1681489671, 'iss_position': {'longitude': '-162.9177', 'latitude': '4.3008'}}\n"
     ]
    },
    {
     "name": "stderr",
     "output_type": "stream",
     "text": [
      "C:\\Users\\13018\\AppData\\Local\\Temp\\ipykernel_16080\\2340310863.py:10: FutureWarning: The frame.append method is deprecated and will be removed from pandas in a future version. Use pandas.concat instead.\n",
      "  Sat_data = Sat_data.append({\"Longitude\": longitude, \"Latitude\": latitude}, ignore_index=True)\n"
     ]
    },
    {
     "name": "stdout",
     "output_type": "stream",
     "text": [
      "Data received: {'message': 'success', 'timestamp': 1681489677, 'iss_position': {'longitude': '-162.7189', 'latitude': '4.5790'}}\n"
     ]
    },
    {
     "name": "stderr",
     "output_type": "stream",
     "text": [
      "C:\\Users\\13018\\AppData\\Local\\Temp\\ipykernel_16080\\2340310863.py:10: FutureWarning: The frame.append method is deprecated and will be removed from pandas in a future version. Use pandas.concat instead.\n",
      "  Sat_data = Sat_data.append({\"Longitude\": longitude, \"Latitude\": latitude}, ignore_index=True)\n"
     ]
    },
    {
     "name": "stdout",
     "output_type": "stream",
     "text": [
      "Data received: {'message': 'success', 'timestamp': 1681489682, 'iss_position': {'longitude': '-162.5380', 'latitude': '4.8319'}}\n"
     ]
    },
    {
     "name": "stderr",
     "output_type": "stream",
     "text": [
      "C:\\Users\\13018\\AppData\\Local\\Temp\\ipykernel_16080\\2340310863.py:10: FutureWarning: The frame.append method is deprecated and will be removed from pandas in a future version. Use pandas.concat instead.\n",
      "  Sat_data = Sat_data.append({\"Longitude\": longitude, \"Latitude\": latitude}, ignore_index=True)\n"
     ]
    },
    {
     "name": "stdout",
     "output_type": "stream",
     "text": [
      "Data received: {'message': 'success', 'timestamp': 1681489687, 'iss_position': {'longitude': '-162.3570', 'latitude': '5.0847'}}\n"
     ]
    },
    {
     "name": "stderr",
     "output_type": "stream",
     "text": [
      "C:\\Users\\13018\\AppData\\Local\\Temp\\ipykernel_16080\\2340310863.py:10: FutureWarning: The frame.append method is deprecated and will be removed from pandas in a future version. Use pandas.concat instead.\n",
      "  Sat_data = Sat_data.append({\"Longitude\": longitude, \"Latitude\": latitude}, ignore_index=True)\n"
     ]
    },
    {
     "name": "stdout",
     "output_type": "stream",
     "text": [
      "Data received: {'message': 'success', 'timestamp': 1681489692, 'iss_position': {'longitude': '-162.1577', 'latitude': '5.3627'}}\n"
     ]
    },
    {
     "name": "stderr",
     "output_type": "stream",
     "text": [
      "C:\\Users\\13018\\AppData\\Local\\Temp\\ipykernel_16080\\2340310863.py:10: FutureWarning: The frame.append method is deprecated and will be removed from pandas in a future version. Use pandas.concat instead.\n",
      "  Sat_data = Sat_data.append({\"Longitude\": longitude, \"Latitude\": latitude}, ignore_index=True)\n"
     ]
    },
    {
     "name": "stdout",
     "output_type": "stream",
     "text": [
      "Data received: {'message': 'success', 'timestamp': 1681489697, 'iss_position': {'longitude': '-161.9763', 'latitude': '5.6154'}}\n"
     ]
    },
    {
     "name": "stderr",
     "output_type": "stream",
     "text": [
      "C:\\Users\\13018\\AppData\\Local\\Temp\\ipykernel_16080\\2340310863.py:10: FutureWarning: The frame.append method is deprecated and will be removed from pandas in a future version. Use pandas.concat instead.\n",
      "  Sat_data = Sat_data.append({\"Longitude\": longitude, \"Latitude\": latitude}, ignore_index=True)\n"
     ]
    },
    {
     "name": "stdout",
     "output_type": "stream",
     "text": [
      "Data received: {'message': 'success', 'timestamp': 1681489702, 'iss_position': {'longitude': '-161.7948', 'latitude': '5.8680'}}\n"
     ]
    },
    {
     "name": "stderr",
     "output_type": "stream",
     "text": [
      "C:\\Users\\13018\\AppData\\Local\\Temp\\ipykernel_16080\\2340310863.py:10: FutureWarning: The frame.append method is deprecated and will be removed from pandas in a future version. Use pandas.concat instead.\n",
      "  Sat_data = Sat_data.append({\"Longitude\": longitude, \"Latitude\": latitude}, ignore_index=True)\n"
     ]
    },
    {
     "name": "stdout",
     "output_type": "stream",
     "text": [
      "Data received: {'message': 'success', 'timestamp': 1681489708, 'iss_position': {'longitude': '-161.5949', 'latitude': '6.1458'}}\n"
     ]
    },
    {
     "name": "stderr",
     "output_type": "stream",
     "text": [
      "C:\\Users\\13018\\AppData\\Local\\Temp\\ipykernel_16080\\2340310863.py:10: FutureWarning: The frame.append method is deprecated and will be removed from pandas in a future version. Use pandas.concat instead.\n",
      "  Sat_data = Sat_data.append({\"Longitude\": longitude, \"Latitude\": latitude}, ignore_index=True)\n"
     ]
    },
    {
     "name": "stdout",
     "output_type": "stream",
     "text": [
      "Data received: {'message': 'success', 'timestamp': 1681489713, 'iss_position': {'longitude': '-161.4130', 'latitude': '6.3982'}}\n"
     ]
    },
    {
     "name": "stderr",
     "output_type": "stream",
     "text": [
      "C:\\Users\\13018\\AppData\\Local\\Temp\\ipykernel_16080\\2340310863.py:10: FutureWarning: The frame.append method is deprecated and will be removed from pandas in a future version. Use pandas.concat instead.\n",
      "  Sat_data = Sat_data.append({\"Longitude\": longitude, \"Latitude\": latitude}, ignore_index=True)\n"
     ]
    },
    {
     "name": "stdout",
     "output_type": "stream",
     "text": [
      "Data received: {'message': 'success', 'timestamp': 1681489718, 'iss_position': {'longitude': '-161.2308', 'latitude': '6.6506'}}\n"
     ]
    },
    {
     "name": "stderr",
     "output_type": "stream",
     "text": [
      "C:\\Users\\13018\\AppData\\Local\\Temp\\ipykernel_16080\\2340310863.py:10: FutureWarning: The frame.append method is deprecated and will be removed from pandas in a future version. Use pandas.concat instead.\n",
      "  Sat_data = Sat_data.append({\"Longitude\": longitude, \"Latitude\": latitude}, ignore_index=True)\n"
     ]
    },
    {
     "name": "stdout",
     "output_type": "stream",
     "text": [
      "Data received: {'message': 'success', 'timestamp': 1681489723, 'iss_position': {'longitude': '-161.0302', 'latitude': '6.9281'}}\n"
     ]
    },
    {
     "name": "stderr",
     "output_type": "stream",
     "text": [
      "C:\\Users\\13018\\AppData\\Local\\Temp\\ipykernel_16080\\2340310863.py:10: FutureWarning: The frame.append method is deprecated and will be removed from pandas in a future version. Use pandas.concat instead.\n",
      "  Sat_data = Sat_data.append({\"Longitude\": longitude, \"Latitude\": latitude}, ignore_index=True)\n"
     ]
    },
    {
     "name": "stdout",
     "output_type": "stream",
     "text": [
      "Data received: {'message': 'success', 'timestamp': 1681489728, 'iss_position': {'longitude': '-160.8476', 'latitude': '7.1803'}}\n"
     ]
    },
    {
     "name": "stderr",
     "output_type": "stream",
     "text": [
      "C:\\Users\\13018\\AppData\\Local\\Temp\\ipykernel_16080\\2340310863.py:10: FutureWarning: The frame.append method is deprecated and will be removed from pandas in a future version. Use pandas.concat instead.\n",
      "  Sat_data = Sat_data.append({\"Longitude\": longitude, \"Latitude\": latitude}, ignore_index=True)\n"
     ]
    },
    {
     "name": "stdout",
     "output_type": "stream",
     "text": [
      "Data received: {'message': 'success', 'timestamp': 1681489734, 'iss_position': {'longitude': '-160.6465', 'latitude': '7.4577'}}\n"
     ]
    },
    {
     "name": "stderr",
     "output_type": "stream",
     "text": [
      "C:\\Users\\13018\\AppData\\Local\\Temp\\ipykernel_16080\\2340310863.py:10: FutureWarning: The frame.append method is deprecated and will be removed from pandas in a future version. Use pandas.concat instead.\n",
      "  Sat_data = Sat_data.append({\"Longitude\": longitude, \"Latitude\": latitude}, ignore_index=True)\n"
     ]
    },
    {
     "name": "stdout",
     "output_type": "stream",
     "text": [
      "Data received: {'message': 'success', 'timestamp': 1681489739, 'iss_position': {'longitude': '-160.4634', 'latitude': '7.7097'}}\n"
     ]
    },
    {
     "name": "stderr",
     "output_type": "stream",
     "text": [
      "C:\\Users\\13018\\AppData\\Local\\Temp\\ipykernel_16080\\2340310863.py:10: FutureWarning: The frame.append method is deprecated and will be removed from pandas in a future version. Use pandas.concat instead.\n",
      "  Sat_data = Sat_data.append({\"Longitude\": longitude, \"Latitude\": latitude}, ignore_index=True)\n"
     ]
    },
    {
     "name": "stdout",
     "output_type": "stream",
     "text": [
      "Data received: {'message': 'success', 'timestamp': 1681489744, 'iss_position': {'longitude': '-160.2801', 'latitude': '7.9617'}}\n"
     ]
    },
    {
     "name": "stderr",
     "output_type": "stream",
     "text": [
      "C:\\Users\\13018\\AppData\\Local\\Temp\\ipykernel_16080\\2340310863.py:10: FutureWarning: The frame.append method is deprecated and will be removed from pandas in a future version. Use pandas.concat instead.\n",
      "  Sat_data = Sat_data.append({\"Longitude\": longitude, \"Latitude\": latitude}, ignore_index=True)\n"
     ]
    },
    {
     "name": "stdout",
     "output_type": "stream",
     "text": [
      "Data received: {'message': 'success', 'timestamp': 1681489749, 'iss_position': {'longitude': '-160.0781', 'latitude': '8.2386'}}\n"
     ]
    },
    {
     "name": "stderr",
     "output_type": "stream",
     "text": [
      "C:\\Users\\13018\\AppData\\Local\\Temp\\ipykernel_16080\\2340310863.py:10: FutureWarning: The frame.append method is deprecated and will be removed from pandas in a future version. Use pandas.concat instead.\n",
      "  Sat_data = Sat_data.append({\"Longitude\": longitude, \"Latitude\": latitude}, ignore_index=True)\n"
     ]
    },
    {
     "name": "stdout",
     "output_type": "stream",
     "text": [
      "Data received: {'message': 'success', 'timestamp': 1681489755, 'iss_position': {'longitude': '-159.8758', 'latitude': '8.5155'}}\n"
     ]
    },
    {
     "name": "stderr",
     "output_type": "stream",
     "text": [
      "C:\\Users\\13018\\AppData\\Local\\Temp\\ipykernel_16080\\2340310863.py:10: FutureWarning: The frame.append method is deprecated and will be removed from pandas in a future version. Use pandas.concat instead.\n",
      "  Sat_data = Sat_data.append({\"Longitude\": longitude, \"Latitude\": latitude}, ignore_index=True)\n"
     ]
    },
    {
     "name": "stdout",
     "output_type": "stream",
     "text": [
      "Data received: {'message': 'success', 'timestamp': 1681489760, 'iss_position': {'longitude': '-159.6733', 'latitude': '8.7923'}}\n"
     ]
    },
    {
     "name": "stderr",
     "output_type": "stream",
     "text": [
      "C:\\Users\\13018\\AppData\\Local\\Temp\\ipykernel_16080\\2340310863.py:10: FutureWarning: The frame.append method is deprecated and will be removed from pandas in a future version. Use pandas.concat instead.\n",
      "  Sat_data = Sat_data.append({\"Longitude\": longitude, \"Latitude\": latitude}, ignore_index=True)\n"
     ]
    },
    {
     "name": "stdout",
     "output_type": "stream",
     "text": [
      "Data received: {'message': 'success', 'timestamp': 1681489765, 'iss_position': {'longitude': '-159.4888', 'latitude': '9.0437'}}\n"
     ]
    },
    {
     "name": "stderr",
     "output_type": "stream",
     "text": [
      "C:\\Users\\13018\\AppData\\Local\\Temp\\ipykernel_16080\\2340310863.py:10: FutureWarning: The frame.append method is deprecated and will be removed from pandas in a future version. Use pandas.concat instead.\n",
      "  Sat_data = Sat_data.append({\"Longitude\": longitude, \"Latitude\": latitude}, ignore_index=True)\n"
     ]
    },
    {
     "name": "stdout",
     "output_type": "stream",
     "text": [
      "Data received: {'message': 'success', 'timestamp': 1681489770, 'iss_position': {'longitude': '-159.3040', 'latitude': '9.2951'}}\n"
     ]
    },
    {
     "name": "stderr",
     "output_type": "stream",
     "text": [
      "C:\\Users\\13018\\AppData\\Local\\Temp\\ipykernel_16080\\2340310863.py:10: FutureWarning: The frame.append method is deprecated and will be removed from pandas in a future version. Use pandas.concat instead.\n",
      "  Sat_data = Sat_data.append({\"Longitude\": longitude, \"Latitude\": latitude}, ignore_index=True)\n"
     ]
    },
    {
     "name": "stdout",
     "output_type": "stream",
     "text": [
      "Data received: {'message': 'success', 'timestamp': 1681489776, 'iss_position': {'longitude': '-159.1004', 'latitude': '9.5715'}}\n"
     ]
    },
    {
     "name": "stderr",
     "output_type": "stream",
     "text": [
      "C:\\Users\\13018\\AppData\\Local\\Temp\\ipykernel_16080\\2340310863.py:10: FutureWarning: The frame.append method is deprecated and will be removed from pandas in a future version. Use pandas.concat instead.\n",
      "  Sat_data = Sat_data.append({\"Longitude\": longitude, \"Latitude\": latitude}, ignore_index=True)\n"
     ]
    },
    {
     "name": "stdout",
     "output_type": "stream",
     "text": [
      "Data received: {'message': 'success', 'timestamp': 1681489781, 'iss_position': {'longitude': '-158.9150', 'latitude': '9.8226'}}\n"
     ]
    },
    {
     "name": "stderr",
     "output_type": "stream",
     "text": [
      "C:\\Users\\13018\\AppData\\Local\\Temp\\ipykernel_16080\\2340310863.py:10: FutureWarning: The frame.append method is deprecated and will be removed from pandas in a future version. Use pandas.concat instead.\n",
      "  Sat_data = Sat_data.append({\"Longitude\": longitude, \"Latitude\": latitude}, ignore_index=True)\n"
     ]
    },
    {
     "name": "stdout",
     "output_type": "stream",
     "text": [
      "Data received: {'message': 'success', 'timestamp': 1681489786, 'iss_position': {'longitude': '-158.7293', 'latitude': '10.0736'}}\n"
     ]
    },
    {
     "name": "stderr",
     "output_type": "stream",
     "text": [
      "C:\\Users\\13018\\AppData\\Local\\Temp\\ipykernel_16080\\2340310863.py:10: FutureWarning: The frame.append method is deprecated and will be removed from pandas in a future version. Use pandas.concat instead.\n",
      "  Sat_data = Sat_data.append({\"Longitude\": longitude, \"Latitude\": latitude}, ignore_index=True)\n"
     ]
    },
    {
     "name": "stdout",
     "output_type": "stream",
     "text": [
      "Data received: {'message': 'success', 'timestamp': 1681489791, 'iss_position': {'longitude': '-158.5246', 'latitude': '10.3496'}}\n"
     ]
    },
    {
     "name": "stderr",
     "output_type": "stream",
     "text": [
      "C:\\Users\\13018\\AppData\\Local\\Temp\\ipykernel_16080\\2340310863.py:10: FutureWarning: The frame.append method is deprecated and will be removed from pandas in a future version. Use pandas.concat instead.\n",
      "  Sat_data = Sat_data.append({\"Longitude\": longitude, \"Latitude\": latitude}, ignore_index=True)\n"
     ]
    },
    {
     "name": "stdout",
     "output_type": "stream",
     "text": [
      "Data received: {'message': 'success', 'timestamp': 1681489796, 'iss_position': {'longitude': '-158.3382', 'latitude': '10.6003'}}\n"
     ]
    },
    {
     "name": "stderr",
     "output_type": "stream",
     "text": [
      "C:\\Users\\13018\\AppData\\Local\\Temp\\ipykernel_16080\\2340310863.py:10: FutureWarning: The frame.append method is deprecated and will be removed from pandas in a future version. Use pandas.concat instead.\n",
      "  Sat_data = Sat_data.append({\"Longitude\": longitude, \"Latitude\": latitude}, ignore_index=True)\n"
     ]
    },
    {
     "name": "stdout",
     "output_type": "stream",
     "text": [
      "Data received: {'message': 'success', 'timestamp': 1681489802, 'iss_position': {'longitude': '-158.1328', 'latitude': '10.8760'}}\n"
     ]
    },
    {
     "name": "stderr",
     "output_type": "stream",
     "text": [
      "C:\\Users\\13018\\AppData\\Local\\Temp\\ipykernel_16080\\2340310863.py:10: FutureWarning: The frame.append method is deprecated and will be removed from pandas in a future version. Use pandas.concat instead.\n",
      "  Sat_data = Sat_data.append({\"Longitude\": longitude, \"Latitude\": latitude}, ignore_index=True)\n"
     ]
    },
    {
     "name": "stdout",
     "output_type": "stream",
     "text": [
      "Data received: {'message': 'success', 'timestamp': 1681489807, 'iss_position': {'longitude': '-157.9456', 'latitude': '11.1264'}}\n"
     ]
    },
    {
     "name": "stderr",
     "output_type": "stream",
     "text": [
      "C:\\Users\\13018\\AppData\\Local\\Temp\\ipykernel_16080\\2340310863.py:10: FutureWarning: The frame.append method is deprecated and will be removed from pandas in a future version. Use pandas.concat instead.\n",
      "  Sat_data = Sat_data.append({\"Longitude\": longitude, \"Latitude\": latitude}, ignore_index=True)\n"
     ]
    },
    {
     "name": "stdout",
     "output_type": "stream",
     "text": [
      "Data received: {'message': 'success', 'timestamp': 1681489812, 'iss_position': {'longitude': '-157.7581', 'latitude': '11.3767'}}\n"
     ]
    },
    {
     "name": "stderr",
     "output_type": "stream",
     "text": [
      "C:\\Users\\13018\\AppData\\Local\\Temp\\ipykernel_16080\\2340310863.py:10: FutureWarning: The frame.append method is deprecated and will be removed from pandas in a future version. Use pandas.concat instead.\n",
      "  Sat_data = Sat_data.append({\"Longitude\": longitude, \"Latitude\": latitude}, ignore_index=True)\n"
     ]
    },
    {
     "name": "stdout",
     "output_type": "stream",
     "text": [
      "Data received: {'message': 'success', 'timestamp': 1681489817, 'iss_position': {'longitude': '-157.5515', 'latitude': '11.6519'}}\n"
     ]
    },
    {
     "name": "stderr",
     "output_type": "stream",
     "text": [
      "C:\\Users\\13018\\AppData\\Local\\Temp\\ipykernel_16080\\2340310863.py:10: FutureWarning: The frame.append method is deprecated and will be removed from pandas in a future version. Use pandas.concat instead.\n",
      "  Sat_data = Sat_data.append({\"Longitude\": longitude, \"Latitude\": latitude}, ignore_index=True)\n"
     ]
    },
    {
     "name": "stdout",
     "output_type": "stream",
     "text": [
      "Data received: {'message': 'success', 'timestamp': 1681489822, 'iss_position': {'longitude': '-157.3632', 'latitude': '11.9019'}}\n"
     ]
    },
    {
     "name": "stderr",
     "output_type": "stream",
     "text": [
      "C:\\Users\\13018\\AppData\\Local\\Temp\\ipykernel_16080\\2340310863.py:10: FutureWarning: The frame.append method is deprecated and will be removed from pandas in a future version. Use pandas.concat instead.\n",
      "  Sat_data = Sat_data.append({\"Longitude\": longitude, \"Latitude\": latitude}, ignore_index=True)\n"
     ]
    },
    {
     "name": "stdout",
     "output_type": "stream",
     "text": [
      "Data received: {'message': 'success', 'timestamp': 1681489827, 'iss_position': {'longitude': '-157.1746', 'latitude': '12.1517'}}\n"
     ]
    },
    {
     "name": "stderr",
     "output_type": "stream",
     "text": [
      "C:\\Users\\13018\\AppData\\Local\\Temp\\ipykernel_16080\\2340310863.py:10: FutureWarning: The frame.append method is deprecated and will be removed from pandas in a future version. Use pandas.concat instead.\n",
      "  Sat_data = Sat_data.append({\"Longitude\": longitude, \"Latitude\": latitude}, ignore_index=True)\n"
     ]
    },
    {
     "name": "stdout",
     "output_type": "stream",
     "text": [
      "Data received: {'message': 'success', 'timestamp': 1681489833, 'iss_position': {'longitude': '-156.9665', 'latitude': '12.4264'}}\n"
     ]
    },
    {
     "name": "stderr",
     "output_type": "stream",
     "text": [
      "C:\\Users\\13018\\AppData\\Local\\Temp\\ipykernel_16080\\2340310863.py:10: FutureWarning: The frame.append method is deprecated and will be removed from pandas in a future version. Use pandas.concat instead.\n",
      "  Sat_data = Sat_data.append({\"Longitude\": longitude, \"Latitude\": latitude}, ignore_index=True)\n"
     ]
    },
    {
     "name": "stdout",
     "output_type": "stream",
     "text": [
      "Data received: {'message': 'success', 'timestamp': 1681489838, 'iss_position': {'longitude': '-156.7770', 'latitude': '12.6759'}}\n"
     ]
    },
    {
     "name": "stderr",
     "output_type": "stream",
     "text": [
      "C:\\Users\\13018\\AppData\\Local\\Temp\\ipykernel_16080\\2340310863.py:10: FutureWarning: The frame.append method is deprecated and will be removed from pandas in a future version. Use pandas.concat instead.\n",
      "  Sat_data = Sat_data.append({\"Longitude\": longitude, \"Latitude\": latitude}, ignore_index=True)\n"
     ]
    },
    {
     "name": "stdout",
     "output_type": "stream",
     "text": [
      "Data received: {'message': 'success', 'timestamp': 1681489843, 'iss_position': {'longitude': '-156.5871', 'latitude': '12.9252'}}\n"
     ]
    },
    {
     "name": "stderr",
     "output_type": "stream",
     "text": [
      "C:\\Users\\13018\\AppData\\Local\\Temp\\ipykernel_16080\\2340310863.py:10: FutureWarning: The frame.append method is deprecated and will be removed from pandas in a future version. Use pandas.concat instead.\n",
      "  Sat_data = Sat_data.append({\"Longitude\": longitude, \"Latitude\": latitude}, ignore_index=True)\n"
     ]
    },
    {
     "name": "stdout",
     "output_type": "stream",
     "text": [
      "Data received: {'message': 'success', 'timestamp': 1681489848, 'iss_position': {'longitude': '-156.3777', 'latitude': '13.1993'}}\n"
     ]
    },
    {
     "name": "stderr",
     "output_type": "stream",
     "text": [
      "C:\\Users\\13018\\AppData\\Local\\Temp\\ipykernel_16080\\2340310863.py:10: FutureWarning: The frame.append method is deprecated and will be removed from pandas in a future version. Use pandas.concat instead.\n",
      "  Sat_data = Sat_data.append({\"Longitude\": longitude, \"Latitude\": latitude}, ignore_index=True)\n"
     ]
    },
    {
     "name": "stdout",
     "output_type": "stream",
     "text": [
      "Data received: {'message': 'success', 'timestamp': 1681489853, 'iss_position': {'longitude': '-156.1869', 'latitude': '13.4483'}}\n"
     ]
    },
    {
     "name": "stderr",
     "output_type": "stream",
     "text": [
      "C:\\Users\\13018\\AppData\\Local\\Temp\\ipykernel_16080\\2340310863.py:10: FutureWarning: The frame.append method is deprecated and will be removed from pandas in a future version. Use pandas.concat instead.\n",
      "  Sat_data = Sat_data.append({\"Longitude\": longitude, \"Latitude\": latitude}, ignore_index=True)\n"
     ]
    },
    {
     "name": "stdout",
     "output_type": "stream",
     "text": [
      "Data received: {'message': 'success', 'timestamp': 1681489858, 'iss_position': {'longitude': '-155.9956', 'latitude': '13.6971'}}\n"
     ]
    },
    {
     "name": "stderr",
     "output_type": "stream",
     "text": [
      "C:\\Users\\13018\\AppData\\Local\\Temp\\ipykernel_16080\\2340310863.py:10: FutureWarning: The frame.append method is deprecated and will be removed from pandas in a future version. Use pandas.concat instead.\n",
      "  Sat_data = Sat_data.append({\"Longitude\": longitude, \"Latitude\": latitude}, ignore_index=True)\n"
     ]
    },
    {
     "name": "stdout",
     "output_type": "stream",
     "text": [
      "Data received: {'message': 'success', 'timestamp': 1681489864, 'iss_position': {'longitude': '-155.7847', 'latitude': '13.9705'}}\n"
     ]
    },
    {
     "name": "stderr",
     "output_type": "stream",
     "text": [
      "C:\\Users\\13018\\AppData\\Local\\Temp\\ipykernel_16080\\2340310863.py:10: FutureWarning: The frame.append method is deprecated and will be removed from pandas in a future version. Use pandas.concat instead.\n",
      "  Sat_data = Sat_data.append({\"Longitude\": longitude, \"Latitude\": latitude}, ignore_index=True)\n"
     ]
    },
    {
     "name": "stdout",
     "output_type": "stream",
     "text": [
      "Data received: {'message': 'success', 'timestamp': 1681489869, 'iss_position': {'longitude': '-155.5925', 'latitude': '14.2190'}}\n"
     ]
    },
    {
     "name": "stderr",
     "output_type": "stream",
     "text": [
      "C:\\Users\\13018\\AppData\\Local\\Temp\\ipykernel_16080\\2340310863.py:10: FutureWarning: The frame.append method is deprecated and will be removed from pandas in a future version. Use pandas.concat instead.\n",
      "  Sat_data = Sat_data.append({\"Longitude\": longitude, \"Latitude\": latitude}, ignore_index=True)\n"
     ]
    },
    {
     "name": "stdout",
     "output_type": "stream",
     "text": [
      "Data received: {'message': 'success', 'timestamp': 1681489874, 'iss_position': {'longitude': '-155.3805', 'latitude': '14.4920'}}\n"
     ]
    },
    {
     "name": "stderr",
     "output_type": "stream",
     "text": [
      "C:\\Users\\13018\\AppData\\Local\\Temp\\ipykernel_16080\\2340310863.py:10: FutureWarning: The frame.append method is deprecated and will be removed from pandas in a future version. Use pandas.concat instead.\n",
      "  Sat_data = Sat_data.append({\"Longitude\": longitude, \"Latitude\": latitude}, ignore_index=True)\n"
     ]
    },
    {
     "name": "stdout",
     "output_type": "stream",
     "text": [
      "Data received: {'message': 'success', 'timestamp': 1681489879, 'iss_position': {'longitude': '-155.1872', 'latitude': '14.7401'}}\n"
     ]
    },
    {
     "name": "stderr",
     "output_type": "stream",
     "text": [
      "C:\\Users\\13018\\AppData\\Local\\Temp\\ipykernel_16080\\2340310863.py:10: FutureWarning: The frame.append method is deprecated and will be removed from pandas in a future version. Use pandas.concat instead.\n",
      "  Sat_data = Sat_data.append({\"Longitude\": longitude, \"Latitude\": latitude}, ignore_index=True)\n"
     ]
    },
    {
     "name": "stdout",
     "output_type": "stream",
     "text": [
      "Data received: {'message': 'success', 'timestamp': 1681489884, 'iss_position': {'longitude': '-154.9935', 'latitude': '14.9879'}}\n"
     ]
    },
    {
     "name": "stderr",
     "output_type": "stream",
     "text": [
      "C:\\Users\\13018\\AppData\\Local\\Temp\\ipykernel_16080\\2340310863.py:10: FutureWarning: The frame.append method is deprecated and will be removed from pandas in a future version. Use pandas.concat instead.\n",
      "  Sat_data = Sat_data.append({\"Longitude\": longitude, \"Latitude\": latitude}, ignore_index=True)\n"
     ]
    },
    {
     "name": "stdout",
     "output_type": "stream",
     "text": [
      "Data received: {'message': 'success', 'timestamp': 1681489890, 'iss_position': {'longitude': '-154.7799', 'latitude': '15.2603'}}\n"
     ]
    },
    {
     "name": "stderr",
     "output_type": "stream",
     "text": [
      "C:\\Users\\13018\\AppData\\Local\\Temp\\ipykernel_16080\\2340310863.py:10: FutureWarning: The frame.append method is deprecated and will be removed from pandas in a future version. Use pandas.concat instead.\n",
      "  Sat_data = Sat_data.append({\"Longitude\": longitude, \"Latitude\": latitude}, ignore_index=True)\n"
     ]
    },
    {
     "name": "stdout",
     "output_type": "stream",
     "text": [
      "Data received: {'message': 'success', 'timestamp': 1681489895, 'iss_position': {'longitude': '-154.5851', 'latitude': '15.5077'}}\n"
     ]
    },
    {
     "name": "stderr",
     "output_type": "stream",
     "text": [
      "C:\\Users\\13018\\AppData\\Local\\Temp\\ipykernel_16080\\2340310863.py:10: FutureWarning: The frame.append method is deprecated and will be removed from pandas in a future version. Use pandas.concat instead.\n",
      "  Sat_data = Sat_data.append({\"Longitude\": longitude, \"Latitude\": latitude}, ignore_index=True)\n"
     ]
    },
    {
     "name": "stdout",
     "output_type": "stream",
     "text": [
      "Data received: {'message': 'success', 'timestamp': 1681489900, 'iss_position': {'longitude': '-154.3898', 'latitude': '15.7549'}}\n"
     ]
    },
    {
     "name": "stderr",
     "output_type": "stream",
     "text": [
      "C:\\Users\\13018\\AppData\\Local\\Temp\\ipykernel_16080\\2340310863.py:10: FutureWarning: The frame.append method is deprecated and will be removed from pandas in a future version. Use pandas.concat instead.\n",
      "  Sat_data = Sat_data.append({\"Longitude\": longitude, \"Latitude\": latitude}, ignore_index=True)\n"
     ]
    },
    {
     "name": "stdout",
     "output_type": "stream",
     "text": [
      "Data received: {'message': 'success', 'timestamp': 1681489905, 'iss_position': {'longitude': '-154.1743', 'latitude': '16.0266'}}\n"
     ]
    },
    {
     "name": "stderr",
     "output_type": "stream",
     "text": [
      "C:\\Users\\13018\\AppData\\Local\\Temp\\ipykernel_16080\\2340310863.py:10: FutureWarning: The frame.append method is deprecated and will be removed from pandas in a future version. Use pandas.concat instead.\n",
      "  Sat_data = Sat_data.append({\"Longitude\": longitude, \"Latitude\": latitude}, ignore_index=True)\n"
     ]
    },
    {
     "name": "stdout",
     "output_type": "stream",
     "text": [
      "Data received: {'message': 'success', 'timestamp': 1681489910, 'iss_position': {'longitude': '-153.9779', 'latitude': '16.2733'}}\n"
     ]
    },
    {
     "name": "stderr",
     "output_type": "stream",
     "text": [
      "C:\\Users\\13018\\AppData\\Local\\Temp\\ipykernel_16080\\2340310863.py:10: FutureWarning: The frame.append method is deprecated and will be removed from pandas in a future version. Use pandas.concat instead.\n",
      "  Sat_data = Sat_data.append({\"Longitude\": longitude, \"Latitude\": latitude}, ignore_index=True)\n"
     ]
    },
    {
     "name": "stdout",
     "output_type": "stream",
     "text": [
      "Data received: {'message': 'success', 'timestamp': 1681489915, 'iss_position': {'longitude': '-153.7809', 'latitude': '16.5199'}}\n"
     ]
    },
    {
     "name": "stderr",
     "output_type": "stream",
     "text": [
      "C:\\Users\\13018\\AppData\\Local\\Temp\\ipykernel_16080\\2340310863.py:10: FutureWarning: The frame.append method is deprecated and will be removed from pandas in a future version. Use pandas.concat instead.\n",
      "  Sat_data = Sat_data.append({\"Longitude\": longitude, \"Latitude\": latitude}, ignore_index=True)\n"
     ]
    },
    {
     "name": "stdout",
     "output_type": "stream",
     "text": [
      "Data received: {'message': 'success', 'timestamp': 1681489921, 'iss_position': {'longitude': '-153.5635', 'latitude': '16.7909'}}\n"
     ]
    },
    {
     "name": "stderr",
     "output_type": "stream",
     "text": [
      "C:\\Users\\13018\\AppData\\Local\\Temp\\ipykernel_16080\\2340310863.py:10: FutureWarning: The frame.append method is deprecated and will be removed from pandas in a future version. Use pandas.concat instead.\n",
      "  Sat_data = Sat_data.append({\"Longitude\": longitude, \"Latitude\": latitude}, ignore_index=True)\n"
     ]
    },
    {
     "name": "stdout",
     "output_type": "stream",
     "text": [
      "Data received: {'message': 'success', 'timestamp': 1681489926, 'iss_position': {'longitude': '-153.3653', 'latitude': '17.0370'}}\n"
     ]
    },
    {
     "name": "stderr",
     "output_type": "stream",
     "text": [
      "C:\\Users\\13018\\AppData\\Local\\Temp\\ipykernel_16080\\2340310863.py:10: FutureWarning: The frame.append method is deprecated and will be removed from pandas in a future version. Use pandas.concat instead.\n",
      "  Sat_data = Sat_data.append({\"Longitude\": longitude, \"Latitude\": latitude}, ignore_index=True)\n"
     ]
    },
    {
     "name": "stdout",
     "output_type": "stream",
     "text": [
      "Data received: {'message': 'success', 'timestamp': 1681489931, 'iss_position': {'longitude': '-153.1666', 'latitude': '17.2828'}}\n"
     ]
    },
    {
     "name": "stderr",
     "output_type": "stream",
     "text": [
      "C:\\Users\\13018\\AppData\\Local\\Temp\\ipykernel_16080\\2340310863.py:10: FutureWarning: The frame.append method is deprecated and will be removed from pandas in a future version. Use pandas.concat instead.\n",
      "  Sat_data = Sat_data.append({\"Longitude\": longitude, \"Latitude\": latitude}, ignore_index=True)\n"
     ]
    },
    {
     "name": "stdout",
     "output_type": "stream",
     "text": [
      "Data received: {'message': 'success', 'timestamp': 1681489936, 'iss_position': {'longitude': '-152.9473', 'latitude': '17.5529'}}\n"
     ]
    },
    {
     "name": "stderr",
     "output_type": "stream",
     "text": [
      "C:\\Users\\13018\\AppData\\Local\\Temp\\ipykernel_16080\\2340310863.py:10: FutureWarning: The frame.append method is deprecated and will be removed from pandas in a future version. Use pandas.concat instead.\n",
      "  Sat_data = Sat_data.append({\"Longitude\": longitude, \"Latitude\": latitude}, ignore_index=True)\n"
     ]
    },
    {
     "name": "stdout",
     "output_type": "stream",
     "text": [
      "Data received: {'message': 'success', 'timestamp': 1681489941, 'iss_position': {'longitude': '-152.7473', 'latitude': '17.7982'}}\n"
     ]
    },
    {
     "name": "stderr",
     "output_type": "stream",
     "text": [
      "C:\\Users\\13018\\AppData\\Local\\Temp\\ipykernel_16080\\2340310863.py:10: FutureWarning: The frame.append method is deprecated and will be removed from pandas in a future version. Use pandas.concat instead.\n",
      "  Sat_data = Sat_data.append({\"Longitude\": longitude, \"Latitude\": latitude}, ignore_index=True)\n"
     ]
    },
    {
     "name": "stdout",
     "output_type": "stream",
     "text": [
      "Data received: {'message': 'success', 'timestamp': 1681489946, 'iss_position': {'longitude': '-152.5467', 'latitude': '18.0433'}}\n"
     ]
    },
    {
     "name": "stderr",
     "output_type": "stream",
     "text": [
      "C:\\Users\\13018\\AppData\\Local\\Temp\\ipykernel_16080\\2340310863.py:10: FutureWarning: The frame.append method is deprecated and will be removed from pandas in a future version. Use pandas.concat instead.\n",
      "  Sat_data = Sat_data.append({\"Longitude\": longitude, \"Latitude\": latitude}, ignore_index=True)\n"
     ]
    },
    {
     "name": "stdout",
     "output_type": "stream",
     "text": [
      "Data received: {'message': 'success', 'timestamp': 1681489952, 'iss_position': {'longitude': '-152.3254', 'latitude': '18.3126'}}\n"
     ]
    },
    {
     "name": "stderr",
     "output_type": "stream",
     "text": [
      "C:\\Users\\13018\\AppData\\Local\\Temp\\ipykernel_16080\\2340310863.py:10: FutureWarning: The frame.append method is deprecated and will be removed from pandas in a future version. Use pandas.concat instead.\n",
      "  Sat_data = Sat_data.append({\"Longitude\": longitude, \"Latitude\": latitude}, ignore_index=True)\n"
     ]
    },
    {
     "name": "stdout",
     "output_type": "stream",
     "text": [
      "Data received: {'message': 'success', 'timestamp': 1681489957, 'iss_position': {'longitude': '-152.1235', 'latitude': '18.5571'}}\n"
     ]
    },
    {
     "name": "stderr",
     "output_type": "stream",
     "text": [
      "C:\\Users\\13018\\AppData\\Local\\Temp\\ipykernel_16080\\2340310863.py:10: FutureWarning: The frame.append method is deprecated and will be removed from pandas in a future version. Use pandas.concat instead.\n",
      "  Sat_data = Sat_data.append({\"Longitude\": longitude, \"Latitude\": latitude}, ignore_index=True)\n"
     ]
    },
    {
     "name": "stdout",
     "output_type": "stream",
     "text": [
      "Data received: {'message': 'success', 'timestamp': 1681489962, 'iss_position': {'longitude': '-151.9006', 'latitude': '18.8258'}}\n"
     ]
    },
    {
     "name": "stderr",
     "output_type": "stream",
     "text": [
      "C:\\Users\\13018\\AppData\\Local\\Temp\\ipykernel_16080\\2340310863.py:10: FutureWarning: The frame.append method is deprecated and will be removed from pandas in a future version. Use pandas.concat instead.\n",
      "  Sat_data = Sat_data.append({\"Longitude\": longitude, \"Latitude\": latitude}, ignore_index=True)\n"
     ]
    },
    {
     "name": "stdout",
     "output_type": "stream",
     "text": [
      "Data received: {'message': 'success', 'timestamp': 1681489967, 'iss_position': {'longitude': '-151.6974', 'latitude': '19.0697'}}\n"
     ]
    },
    {
     "name": "stderr",
     "output_type": "stream",
     "text": [
      "C:\\Users\\13018\\AppData\\Local\\Temp\\ipykernel_16080\\2340310863.py:10: FutureWarning: The frame.append method is deprecated and will be removed from pandas in a future version. Use pandas.concat instead.\n",
      "  Sat_data = Sat_data.append({\"Longitude\": longitude, \"Latitude\": latitude}, ignore_index=True)\n"
     ]
    },
    {
     "name": "stdout",
     "output_type": "stream",
     "text": [
      "Data received: {'message': 'success', 'timestamp': 1681489972, 'iss_position': {'longitude': '-151.4934', 'latitude': '19.3135'}}\n"
     ]
    },
    {
     "name": "stderr",
     "output_type": "stream",
     "text": [
      "C:\\Users\\13018\\AppData\\Local\\Temp\\ipykernel_16080\\2340310863.py:10: FutureWarning: The frame.append method is deprecated and will be removed from pandas in a future version. Use pandas.concat instead.\n",
      "  Sat_data = Sat_data.append({\"Longitude\": longitude, \"Latitude\": latitude}, ignore_index=True)\n"
     ]
    },
    {
     "name": "stdout",
     "output_type": "stream",
     "text": [
      "Data received: {'message': 'success', 'timestamp': 1681489978, 'iss_position': {'longitude': '-151.2683', 'latitude': '19.5812'}}\n"
     ]
    },
    {
     "name": "stderr",
     "output_type": "stream",
     "text": [
      "C:\\Users\\13018\\AppData\\Local\\Temp\\ipykernel_16080\\2340310863.py:10: FutureWarning: The frame.append method is deprecated and will be removed from pandas in a future version. Use pandas.concat instead.\n",
      "  Sat_data = Sat_data.append({\"Longitude\": longitude, \"Latitude\": latitude}, ignore_index=True)\n"
     ]
    },
    {
     "name": "stdout",
     "output_type": "stream",
     "text": [
      "Data received: {'message': 'success', 'timestamp': 1681489983, 'iss_position': {'longitude': '-151.0629', 'latitude': '19.8244'}}\n"
     ]
    },
    {
     "name": "stderr",
     "output_type": "stream",
     "text": [
      "C:\\Users\\13018\\AppData\\Local\\Temp\\ipykernel_16080\\2340310863.py:10: FutureWarning: The frame.append method is deprecated and will be removed from pandas in a future version. Use pandas.concat instead.\n",
      "  Sat_data = Sat_data.append({\"Longitude\": longitude, \"Latitude\": latitude}, ignore_index=True)\n"
     ]
    },
    {
     "name": "stdout",
     "output_type": "stream",
     "text": [
      "Data received: {'message': 'success', 'timestamp': 1681489988, 'iss_position': {'longitude': '-150.8569', 'latitude': '20.0672'}}\n"
     ]
    },
    {
     "name": "stderr",
     "output_type": "stream",
     "text": [
      "C:\\Users\\13018\\AppData\\Local\\Temp\\ipykernel_16080\\2340310863.py:10: FutureWarning: The frame.append method is deprecated and will be removed from pandas in a future version. Use pandas.concat instead.\n",
      "  Sat_data = Sat_data.append({\"Longitude\": longitude, \"Latitude\": latitude}, ignore_index=True)\n"
     ]
    },
    {
     "name": "stdout",
     "output_type": "stream",
     "text": [
      "Data received: {'message': 'success', 'timestamp': 1681489994, 'iss_position': {'longitude': '-150.6294', 'latitude': '20.3340'}}\n"
     ]
    },
    {
     "name": "stderr",
     "output_type": "stream",
     "text": [
      "C:\\Users\\13018\\AppData\\Local\\Temp\\ipykernel_16080\\2340310863.py:10: FutureWarning: The frame.append method is deprecated and will be removed from pandas in a future version. Use pandas.concat instead.\n",
      "  Sat_data = Sat_data.append({\"Longitude\": longitude, \"Latitude\": latitude}, ignore_index=True)\n"
     ]
    },
    {
     "name": "stdout",
     "output_type": "stream",
     "text": [
      "Data received: {'message': 'success', 'timestamp': 1681489999, 'iss_position': {'longitude': '-150.4218', 'latitude': '20.5762'}}\n"
     ]
    },
    {
     "name": "stderr",
     "output_type": "stream",
     "text": [
      "C:\\Users\\13018\\AppData\\Local\\Temp\\ipykernel_16080\\2340310863.py:10: FutureWarning: The frame.append method is deprecated and will be removed from pandas in a future version. Use pandas.concat instead.\n",
      "  Sat_data = Sat_data.append({\"Longitude\": longitude, \"Latitude\": latitude}, ignore_index=True)\n"
     ]
    },
    {
     "name": "stdout",
     "output_type": "stream",
     "text": [
      "Data received: {'message': 'success', 'timestamp': 1681490004, 'iss_position': {'longitude': '-150.2136', 'latitude': '20.8182'}}\n"
     ]
    },
    {
     "name": "stderr",
     "output_type": "stream",
     "text": [
      "C:\\Users\\13018\\AppData\\Local\\Temp\\ipykernel_16080\\2340310863.py:10: FutureWarning: The frame.append method is deprecated and will be removed from pandas in a future version. Use pandas.concat instead.\n",
      "  Sat_data = Sat_data.append({\"Longitude\": longitude, \"Latitude\": latitude}, ignore_index=True)\n"
     ]
    },
    {
     "name": "stdout",
     "output_type": "stream",
     "text": [
      "Data received: {'message': 'success', 'timestamp': 1681490009, 'iss_position': {'longitude': '-149.9836', 'latitude': '21.0840'}}\n"
     ]
    },
    {
     "name": "stderr",
     "output_type": "stream",
     "text": [
      "C:\\Users\\13018\\AppData\\Local\\Temp\\ipykernel_16080\\2340310863.py:10: FutureWarning: The frame.append method is deprecated and will be removed from pandas in a future version. Use pandas.concat instead.\n",
      "  Sat_data = Sat_data.append({\"Longitude\": longitude, \"Latitude\": latitude}, ignore_index=True)\n"
     ]
    },
    {
     "name": "stdout",
     "output_type": "stream",
     "text": [
      "Data received: {'message': 'success', 'timestamp': 1681490014, 'iss_position': {'longitude': '-149.7737', 'latitude': '21.3253'}}\n"
     ]
    },
    {
     "name": "stderr",
     "output_type": "stream",
     "text": [
      "C:\\Users\\13018\\AppData\\Local\\Temp\\ipykernel_16080\\2340310863.py:10: FutureWarning: The frame.append method is deprecated and will be removed from pandas in a future version. Use pandas.concat instead.\n",
      "  Sat_data = Sat_data.append({\"Longitude\": longitude, \"Latitude\": latitude}, ignore_index=True)\n"
     ]
    },
    {
     "name": "stdout",
     "output_type": "stream",
     "text": [
      "Data received: {'message': 'success', 'timestamp': 1681490020, 'iss_position': {'longitude': '-149.5420', 'latitude': '21.5904'}}\n"
     ]
    },
    {
     "name": "stderr",
     "output_type": "stream",
     "text": [
      "C:\\Users\\13018\\AppData\\Local\\Temp\\ipykernel_16080\\2340310863.py:10: FutureWarning: The frame.append method is deprecated and will be removed from pandas in a future version. Use pandas.concat instead.\n",
      "  Sat_data = Sat_data.append({\"Longitude\": longitude, \"Latitude\": latitude}, ignore_index=True)\n"
     ]
    },
    {
     "name": "stdout",
     "output_type": "stream",
     "text": [
      "Data received: {'message': 'success', 'timestamp': 1681490025, 'iss_position': {'longitude': '-149.3305', 'latitude': '21.8310'}}\n"
     ]
    },
    {
     "name": "stderr",
     "output_type": "stream",
     "text": [
      "C:\\Users\\13018\\AppData\\Local\\Temp\\ipykernel_16080\\2340310863.py:10: FutureWarning: The frame.append method is deprecated and will be removed from pandas in a future version. Use pandas.concat instead.\n",
      "  Sat_data = Sat_data.append({\"Longitude\": longitude, \"Latitude\": latitude}, ignore_index=True)\n"
     ]
    },
    {
     "name": "stdout",
     "output_type": "stream",
     "text": [
      "Data received: {'message': 'success', 'timestamp': 1681490030, 'iss_position': {'longitude': '-149.1183', 'latitude': '22.0713'}}\n"
     ]
    },
    {
     "name": "stderr",
     "output_type": "stream",
     "text": [
      "C:\\Users\\13018\\AppData\\Local\\Temp\\ipykernel_16080\\2340310863.py:10: FutureWarning: The frame.append method is deprecated and will be removed from pandas in a future version. Use pandas.concat instead.\n",
      "  Sat_data = Sat_data.append({\"Longitude\": longitude, \"Latitude\": latitude}, ignore_index=True)\n"
     ]
    },
    {
     "name": "stdout",
     "output_type": "stream",
     "text": [
      "Data received: {'message': 'success', 'timestamp': 1681490035, 'iss_position': {'longitude': '-148.8839', 'latitude': '22.3352'}}\n"
     ]
    },
    {
     "name": "stderr",
     "output_type": "stream",
     "text": [
      "C:\\Users\\13018\\AppData\\Local\\Temp\\ipykernel_16080\\2340310863.py:10: FutureWarning: The frame.append method is deprecated and will be removed from pandas in a future version. Use pandas.concat instead.\n",
      "  Sat_data = Sat_data.append({\"Longitude\": longitude, \"Latitude\": latitude}, ignore_index=True)\n"
     ]
    },
    {
     "name": "stdout",
     "output_type": "stream",
     "text": [
      "Data received: {'message': 'success', 'timestamp': 1681490040, 'iss_position': {'longitude': '-148.6700', 'latitude': '22.5748'}}\n"
     ]
    },
    {
     "name": "stderr",
     "output_type": "stream",
     "text": [
      "C:\\Users\\13018\\AppData\\Local\\Temp\\ipykernel_16080\\2340310863.py:10: FutureWarning: The frame.append method is deprecated and will be removed from pandas in a future version. Use pandas.concat instead.\n",
      "  Sat_data = Sat_data.append({\"Longitude\": longitude, \"Latitude\": latitude}, ignore_index=True)\n"
     ]
    },
    {
     "name": "stdout",
     "output_type": "stream",
     "text": [
      "Data received: {'message': 'success', 'timestamp': 1681490046, 'iss_position': {'longitude': '-148.4337', 'latitude': '22.8380'}}\n"
     ]
    },
    {
     "name": "stderr",
     "output_type": "stream",
     "text": [
      "C:\\Users\\13018\\AppData\\Local\\Temp\\ipykernel_16080\\2340310863.py:10: FutureWarning: The frame.append method is deprecated and will be removed from pandas in a future version. Use pandas.concat instead.\n",
      "  Sat_data = Sat_data.append({\"Longitude\": longitude, \"Latitude\": latitude}, ignore_index=True)\n"
     ]
    },
    {
     "name": "stdout",
     "output_type": "stream",
     "text": [
      "Data received: {'message': 'success', 'timestamp': 1681490051, 'iss_position': {'longitude': '-148.2180', 'latitude': '23.0768'}}\n"
     ]
    },
    {
     "name": "stderr",
     "output_type": "stream",
     "text": [
      "C:\\Users\\13018\\AppData\\Local\\Temp\\ipykernel_16080\\2340310863.py:10: FutureWarning: The frame.append method is deprecated and will be removed from pandas in a future version. Use pandas.concat instead.\n",
      "  Sat_data = Sat_data.append({\"Longitude\": longitude, \"Latitude\": latitude}, ignore_index=True)\n"
     ]
    },
    {
     "name": "stdout",
     "output_type": "stream",
     "text": [
      "Data received: {'message': 'success', 'timestamp': 1681490056, 'iss_position': {'longitude': '-148.0015', 'latitude': '23.3153'}}\n"
     ]
    },
    {
     "name": "stderr",
     "output_type": "stream",
     "text": [
      "C:\\Users\\13018\\AppData\\Local\\Temp\\ipykernel_16080\\2340310863.py:10: FutureWarning: The frame.append method is deprecated and will be removed from pandas in a future version. Use pandas.concat instead.\n",
      "  Sat_data = Sat_data.append({\"Longitude\": longitude, \"Latitude\": latitude}, ignore_index=True)\n"
     ]
    },
    {
     "name": "stdout",
     "output_type": "stream",
     "text": [
      "Data received: {'message': 'success', 'timestamp': 1681490061, 'iss_position': {'longitude': '-147.7624', 'latitude': '23.5773'}}\n"
     ]
    },
    {
     "name": "stderr",
     "output_type": "stream",
     "text": [
      "C:\\Users\\13018\\AppData\\Local\\Temp\\ipykernel_16080\\2340310863.py:10: FutureWarning: The frame.append method is deprecated and will be removed from pandas in a future version. Use pandas.concat instead.\n",
      "  Sat_data = Sat_data.append({\"Longitude\": longitude, \"Latitude\": latitude}, ignore_index=True)\n"
     ]
    },
    {
     "name": "stdout",
     "output_type": "stream",
     "text": [
      "Data received: {'message': 'success', 'timestamp': 1681490066, 'iss_position': {'longitude': '-147.5440', 'latitude': '23.8150'}}\n"
     ]
    },
    {
     "name": "stderr",
     "output_type": "stream",
     "text": [
      "C:\\Users\\13018\\AppData\\Local\\Temp\\ipykernel_16080\\2340310863.py:10: FutureWarning: The frame.append method is deprecated and will be removed from pandas in a future version. Use pandas.concat instead.\n",
      "  Sat_data = Sat_data.append({\"Longitude\": longitude, \"Latitude\": latitude}, ignore_index=True)\n"
     ]
    },
    {
     "name": "stdout",
     "output_type": "stream",
     "text": [
      "Data received: {'message': 'success', 'timestamp': 1681490072, 'iss_position': {'longitude': '-147.3029', 'latitude': '24.0761'}}\n"
     ]
    },
    {
     "name": "stderr",
     "output_type": "stream",
     "text": [
      "C:\\Users\\13018\\AppData\\Local\\Temp\\ipykernel_16080\\2340310863.py:10: FutureWarning: The frame.append method is deprecated and will be removed from pandas in a future version. Use pandas.concat instead.\n",
      "  Sat_data = Sat_data.append({\"Longitude\": longitude, \"Latitude\": latitude}, ignore_index=True)\n"
     ]
    },
    {
     "name": "stdout",
     "output_type": "stream",
     "text": [
      "Data received: {'message': 'success', 'timestamp': 1681490077, 'iss_position': {'longitude': '-147.0827', 'latitude': '24.3131'}}\n"
     ]
    },
    {
     "name": "stderr",
     "output_type": "stream",
     "text": [
      "C:\\Users\\13018\\AppData\\Local\\Temp\\ipykernel_16080\\2340310863.py:10: FutureWarning: The frame.append method is deprecated and will be removed from pandas in a future version. Use pandas.concat instead.\n",
      "  Sat_data = Sat_data.append({\"Longitude\": longitude, \"Latitude\": latitude}, ignore_index=True)\n"
     ]
    },
    {
     "name": "stdout",
     "output_type": "stream",
     "text": [
      "Data received: {'message': 'success', 'timestamp': 1681490082, 'iss_position': {'longitude': '-146.8395', 'latitude': '24.5733'}}\n"
     ]
    },
    {
     "name": "stderr",
     "output_type": "stream",
     "text": [
      "C:\\Users\\13018\\AppData\\Local\\Temp\\ipykernel_16080\\2340310863.py:10: FutureWarning: The frame.append method is deprecated and will be removed from pandas in a future version. Use pandas.concat instead.\n",
      "  Sat_data = Sat_data.append({\"Longitude\": longitude, \"Latitude\": latitude}, ignore_index=True)\n"
     ]
    },
    {
     "name": "stdout",
     "output_type": "stream",
     "text": [
      "Data received: {'message': 'success', 'timestamp': 1681490087, 'iss_position': {'longitude': '-146.6173', 'latitude': '24.8095'}}\n"
     ]
    },
    {
     "name": "stderr",
     "output_type": "stream",
     "text": [
      "C:\\Users\\13018\\AppData\\Local\\Temp\\ipykernel_16080\\2340310863.py:10: FutureWarning: The frame.append method is deprecated and will be removed from pandas in a future version. Use pandas.concat instead.\n",
      "  Sat_data = Sat_data.append({\"Longitude\": longitude, \"Latitude\": latitude}, ignore_index=True)\n"
     ]
    },
    {
     "name": "stdout",
     "output_type": "stream",
     "text": [
      "Data received: {'message': 'success', 'timestamp': 1681490092, 'iss_position': {'longitude': '-146.3943', 'latitude': '25.0453'}}\n"
     ]
    },
    {
     "name": "stderr",
     "output_type": "stream",
     "text": [
      "C:\\Users\\13018\\AppData\\Local\\Temp\\ipykernel_16080\\2340310863.py:10: FutureWarning: The frame.append method is deprecated and will be removed from pandas in a future version. Use pandas.concat instead.\n",
      "  Sat_data = Sat_data.append({\"Longitude\": longitude, \"Latitude\": latitude}, ignore_index=True)\n"
     ]
    },
    {
     "name": "stdout",
     "output_type": "stream",
     "text": [
      "Data received: {'message': 'success', 'timestamp': 1681490098, 'iss_position': {'longitude': '-146.1479', 'latitude': '25.3042'}}\n"
     ]
    },
    {
     "name": "stderr",
     "output_type": "stream",
     "text": [
      "C:\\Users\\13018\\AppData\\Local\\Temp\\ipykernel_16080\\2340310863.py:10: FutureWarning: The frame.append method is deprecated and will be removed from pandas in a future version. Use pandas.concat instead.\n",
      "  Sat_data = Sat_data.append({\"Longitude\": longitude, \"Latitude\": latitude}, ignore_index=True)\n"
     ]
    },
    {
     "name": "stdout",
     "output_type": "stream",
     "text": [
      "Data received: {'message': 'success', 'timestamp': 1681490103, 'iss_position': {'longitude': '-145.9228', 'latitude': '25.5392'}}\n"
     ]
    },
    {
     "name": "stderr",
     "output_type": "stream",
     "text": [
      "C:\\Users\\13018\\AppData\\Local\\Temp\\ipykernel_16080\\2340310863.py:10: FutureWarning: The frame.append method is deprecated and will be removed from pandas in a future version. Use pandas.concat instead.\n",
      "  Sat_data = Sat_data.append({\"Longitude\": longitude, \"Latitude\": latitude}, ignore_index=True)\n"
     ]
    },
    {
     "name": "stdout",
     "output_type": "stream",
     "text": [
      "Data received: {'message': 'success', 'timestamp': 1681490108, 'iss_position': {'longitude': '-145.6742', 'latitude': '25.7971'}}\n"
     ]
    },
    {
     "name": "stderr",
     "output_type": "stream",
     "text": [
      "C:\\Users\\13018\\AppData\\Local\\Temp\\ipykernel_16080\\2340310863.py:10: FutureWarning: The frame.append method is deprecated and will be removed from pandas in a future version. Use pandas.concat instead.\n",
      "  Sat_data = Sat_data.append({\"Longitude\": longitude, \"Latitude\": latitude}, ignore_index=True)\n"
     ]
    },
    {
     "name": "stdout",
     "output_type": "stream",
     "text": [
      "Data received: {'message': 'success', 'timestamp': 1681490113, 'iss_position': {'longitude': '-145.4471', 'latitude': '26.0312'}}\n"
     ]
    },
    {
     "name": "stderr",
     "output_type": "stream",
     "text": [
      "C:\\Users\\13018\\AppData\\Local\\Temp\\ipykernel_16080\\2340310863.py:10: FutureWarning: The frame.append method is deprecated and will be removed from pandas in a future version. Use pandas.concat instead.\n",
      "  Sat_data = Sat_data.append({\"Longitude\": longitude, \"Latitude\": latitude}, ignore_index=True)\n"
     ]
    },
    {
     "name": "stdout",
     "output_type": "stream",
     "text": [
      "Data received: {'message': 'success', 'timestamp': 1681490118, 'iss_position': {'longitude': '-145.2190', 'latitude': '26.2649'}}\n"
     ]
    },
    {
     "name": "stderr",
     "output_type": "stream",
     "text": [
      "C:\\Users\\13018\\AppData\\Local\\Temp\\ipykernel_16080\\2340310863.py:10: FutureWarning: The frame.append method is deprecated and will be removed from pandas in a future version. Use pandas.concat instead.\n",
      "  Sat_data = Sat_data.append({\"Longitude\": longitude, \"Latitude\": latitude}, ignore_index=True)\n"
     ]
    },
    {
     "name": "stdout",
     "output_type": "stream",
     "text": [
      "Data received: {'message': 'success', 'timestamp': 1681490124, 'iss_position': {'longitude': '-144.9670', 'latitude': '26.5214'}}\n"
     ]
    },
    {
     "name": "stderr",
     "output_type": "stream",
     "text": [
      "C:\\Users\\13018\\AppData\\Local\\Temp\\ipykernel_16080\\2340310863.py:10: FutureWarning: The frame.append method is deprecated and will be removed from pandas in a future version. Use pandas.concat instead.\n",
      "  Sat_data = Sat_data.append({\"Longitude\": longitude, \"Latitude\": latitude}, ignore_index=True)\n"
     ]
    },
    {
     "name": "stdout",
     "output_type": "stream",
     "text": [
      "Data received: {'message': 'success', 'timestamp': 1681490129, 'iss_position': {'longitude': '-144.7368', 'latitude': '26.7541'}}\n"
     ]
    },
    {
     "name": "stderr",
     "output_type": "stream",
     "text": [
      "C:\\Users\\13018\\AppData\\Local\\Temp\\ipykernel_16080\\2340310863.py:10: FutureWarning: The frame.append method is deprecated and will be removed from pandas in a future version. Use pandas.concat instead.\n",
      "  Sat_data = Sat_data.append({\"Longitude\": longitude, \"Latitude\": latitude}, ignore_index=True)\n"
     ]
    },
    {
     "name": "stdout",
     "output_type": "stream",
     "text": [
      "Data received: {'message': 'success', 'timestamp': 1681490134, 'iss_position': {'longitude': '-144.4824', 'latitude': '27.0096'}}\n"
     ]
    },
    {
     "name": "stderr",
     "output_type": "stream",
     "text": [
      "C:\\Users\\13018\\AppData\\Local\\Temp\\ipykernel_16080\\2340310863.py:10: FutureWarning: The frame.append method is deprecated and will be removed from pandas in a future version. Use pandas.concat instead.\n",
      "  Sat_data = Sat_data.append({\"Longitude\": longitude, \"Latitude\": latitude}, ignore_index=True)\n"
     ]
    },
    {
     "name": "stdout",
     "output_type": "stream",
     "text": [
      "Data received: {'message': 'success', 'timestamp': 1681490139, 'iss_position': {'longitude': '-144.2500', 'latitude': '27.2414'}}\n"
     ]
    },
    {
     "name": "stderr",
     "output_type": "stream",
     "text": [
      "C:\\Users\\13018\\AppData\\Local\\Temp\\ipykernel_16080\\2340310863.py:10: FutureWarning: The frame.append method is deprecated and will be removed from pandas in a future version. Use pandas.concat instead.\n",
      "  Sat_data = Sat_data.append({\"Longitude\": longitude, \"Latitude\": latitude}, ignore_index=True)\n"
     ]
    },
    {
     "name": "stdout",
     "output_type": "stream",
     "text": [
      "Data received: {'message': 'success', 'timestamp': 1681490144, 'iss_position': {'longitude': '-144.0165', 'latitude': '27.4728'}}\n"
     ]
    },
    {
     "name": "stderr",
     "output_type": "stream",
     "text": [
      "C:\\Users\\13018\\AppData\\Local\\Temp\\ipykernel_16080\\2340310863.py:10: FutureWarning: The frame.append method is deprecated and will be removed from pandas in a future version. Use pandas.concat instead.\n",
      "  Sat_data = Sat_data.append({\"Longitude\": longitude, \"Latitude\": latitude}, ignore_index=True)\n"
     ]
    },
    {
     "name": "stdout",
     "output_type": "stream",
     "text": [
      "Data received: {'message': 'success', 'timestamp': 1681490150, 'iss_position': {'longitude': '-143.7584', 'latitude': '27.7268'}}\n"
     ]
    },
    {
     "name": "stderr",
     "output_type": "stream",
     "text": [
      "C:\\Users\\13018\\AppData\\Local\\Temp\\ipykernel_16080\\2340310863.py:10: FutureWarning: The frame.append method is deprecated and will be removed from pandas in a future version. Use pandas.concat instead.\n",
      "  Sat_data = Sat_data.append({\"Longitude\": longitude, \"Latitude\": latitude}, ignore_index=True)\n"
     ]
    },
    {
     "name": "stdout",
     "output_type": "stream",
     "text": [
      "Data received: {'message': 'success', 'timestamp': 1681490155, 'iss_position': {'longitude': '-143.5227', 'latitude': '27.9571'}}\n"
     ]
    },
    {
     "name": "stderr",
     "output_type": "stream",
     "text": [
      "C:\\Users\\13018\\AppData\\Local\\Temp\\ipykernel_16080\\2340310863.py:10: FutureWarning: The frame.append method is deprecated and will be removed from pandas in a future version. Use pandas.concat instead.\n",
      "  Sat_data = Sat_data.append({\"Longitude\": longitude, \"Latitude\": latitude}, ignore_index=True)\n"
     ]
    },
    {
     "name": "stdout",
     "output_type": "stream",
     "text": [
      "Data received: {'message': 'success', 'timestamp': 1681490160, 'iss_position': {'longitude': '-143.2622', 'latitude': '28.2100'}}\n"
     ]
    },
    {
     "name": "stderr",
     "output_type": "stream",
     "text": [
      "C:\\Users\\13018\\AppData\\Local\\Temp\\ipykernel_16080\\2340310863.py:10: FutureWarning: The frame.append method is deprecated and will be removed from pandas in a future version. Use pandas.concat instead.\n",
      "  Sat_data = Sat_data.append({\"Longitude\": longitude, \"Latitude\": latitude}, ignore_index=True)\n"
     ]
    },
    {
     "name": "stdout",
     "output_type": "stream",
     "text": [
      "Data received: {'message': 'success', 'timestamp': 1681490165, 'iss_position': {'longitude': '-143.0241', 'latitude': '28.4393'}}\n"
     ]
    },
    {
     "name": "stderr",
     "output_type": "stream",
     "text": [
      "C:\\Users\\13018\\AppData\\Local\\Temp\\ipykernel_16080\\2340310863.py:10: FutureWarning: The frame.append method is deprecated and will be removed from pandas in a future version. Use pandas.concat instead.\n",
      "  Sat_data = Sat_data.append({\"Longitude\": longitude, \"Latitude\": latitude}, ignore_index=True)\n"
     ]
    },
    {
     "name": "stdout",
     "output_type": "stream",
     "text": [
      "Data received: {'message': 'success', 'timestamp': 1681490170, 'iss_position': {'longitude': '-142.7849', 'latitude': '28.6682'}}\n"
     ]
    },
    {
     "name": "stderr",
     "output_type": "stream",
     "text": [
      "C:\\Users\\13018\\AppData\\Local\\Temp\\ipykernel_16080\\2340310863.py:10: FutureWarning: The frame.append method is deprecated and will be removed from pandas in a future version. Use pandas.concat instead.\n",
      "  Sat_data = Sat_data.append({\"Longitude\": longitude, \"Latitude\": latitude}, ignore_index=True)\n"
     ]
    },
    {
     "name": "stdout",
     "output_type": "stream",
     "text": [
      "Data received: {'message': 'success', 'timestamp': 1681490176, 'iss_position': {'longitude': '-142.5206', 'latitude': '28.9193'}}\n"
     ]
    },
    {
     "name": "stderr",
     "output_type": "stream",
     "text": [
      "C:\\Users\\13018\\AppData\\Local\\Temp\\ipykernel_16080\\2340310863.py:10: FutureWarning: The frame.append method is deprecated and will be removed from pandas in a future version. Use pandas.concat instead.\n",
      "  Sat_data = Sat_data.append({\"Longitude\": longitude, \"Latitude\": latitude}, ignore_index=True)\n"
     ]
    },
    {
     "name": "stdout",
     "output_type": "stream",
     "text": [
      "Data received: {'message': 'success', 'timestamp': 1681490181, 'iss_position': {'longitude': '-142.2790', 'latitude': '29.1471'}}\n"
     ]
    },
    {
     "name": "stderr",
     "output_type": "stream",
     "text": [
      "C:\\Users\\13018\\AppData\\Local\\Temp\\ipykernel_16080\\2340310863.py:10: FutureWarning: The frame.append method is deprecated and will be removed from pandas in a future version. Use pandas.concat instead.\n",
      "  Sat_data = Sat_data.append({\"Longitude\": longitude, \"Latitude\": latitude}, ignore_index=True)\n"
     ]
    },
    {
     "name": "stdout",
     "output_type": "stream",
     "text": [
      "Data received: {'message': 'success', 'timestamp': 1681490186, 'iss_position': {'longitude': '-142.0363', 'latitude': '29.3744'}}\n"
     ]
    },
    {
     "name": "stderr",
     "output_type": "stream",
     "text": [
      "C:\\Users\\13018\\AppData\\Local\\Temp\\ipykernel_16080\\2340310863.py:10: FutureWarning: The frame.append method is deprecated and will be removed from pandas in a future version. Use pandas.concat instead.\n",
      "  Sat_data = Sat_data.append({\"Longitude\": longitude, \"Latitude\": latitude}, ignore_index=True)\n"
     ]
    },
    {
     "name": "stdout",
     "output_type": "stream",
     "text": [
      "Data received: {'message': 'success', 'timestamp': 1681490191, 'iss_position': {'longitude': '-141.7679', 'latitude': '29.6238'}}\n"
     ]
    },
    {
     "name": "stderr",
     "output_type": "stream",
     "text": [
      "C:\\Users\\13018\\AppData\\Local\\Temp\\ipykernel_16080\\2340310863.py:10: FutureWarning: The frame.append method is deprecated and will be removed from pandas in a future version. Use pandas.concat instead.\n",
      "  Sat_data = Sat_data.append({\"Longitude\": longitude, \"Latitude\": latitude}, ignore_index=True)\n"
     ]
    },
    {
     "name": "stdout",
     "output_type": "stream",
     "text": [
      "Data received: {'message': 'success', 'timestamp': 1681490196, 'iss_position': {'longitude': '-141.5226', 'latitude': '29.8501'}}\n"
     ]
    },
    {
     "name": "stderr",
     "output_type": "stream",
     "text": [
      "C:\\Users\\13018\\AppData\\Local\\Temp\\ipykernel_16080\\2340310863.py:10: FutureWarning: The frame.append method is deprecated and will be removed from pandas in a future version. Use pandas.concat instead.\n",
      "  Sat_data = Sat_data.append({\"Longitude\": longitude, \"Latitude\": latitude}, ignore_index=True)\n"
     ]
    },
    {
     "name": "stdout",
     "output_type": "stream",
     "text": [
      "Data received: {'message': 'success', 'timestamp': 1681490202, 'iss_position': {'longitude': '-141.2514', 'latitude': '30.0983'}}\n"
     ]
    },
    {
     "name": "stderr",
     "output_type": "stream",
     "text": [
      "C:\\Users\\13018\\AppData\\Local\\Temp\\ipykernel_16080\\2340310863.py:10: FutureWarning: The frame.append method is deprecated and will be removed from pandas in a future version. Use pandas.concat instead.\n",
      "  Sat_data = Sat_data.append({\"Longitude\": longitude, \"Latitude\": latitude}, ignore_index=True)\n"
     ]
    },
    {
     "name": "stdout",
     "output_type": "stream",
     "text": [
      "Data received: {'message': 'success', 'timestamp': 1681490207, 'iss_position': {'longitude': '-141.0036', 'latitude': '30.3233'}}\n"
     ]
    },
    {
     "name": "stderr",
     "output_type": "stream",
     "text": [
      "C:\\Users\\13018\\AppData\\Local\\Temp\\ipykernel_16080\\2340310863.py:10: FutureWarning: The frame.append method is deprecated and will be removed from pandas in a future version. Use pandas.concat instead.\n",
      "  Sat_data = Sat_data.append({\"Longitude\": longitude, \"Latitude\": latitude}, ignore_index=True)\n"
     ]
    },
    {
     "name": "stdout",
     "output_type": "stream",
     "text": [
      "Data received: {'message': 'success', 'timestamp': 1681490212, 'iss_position': {'longitude': '-140.7546', 'latitude': '30.5478'}}\n"
     ]
    },
    {
     "name": "stderr",
     "output_type": "stream",
     "text": [
      "C:\\Users\\13018\\AppData\\Local\\Temp\\ipykernel_16080\\2340310863.py:10: FutureWarning: The frame.append method is deprecated and will be removed from pandas in a future version. Use pandas.concat instead.\n",
      "  Sat_data = Sat_data.append({\"Longitude\": longitude, \"Latitude\": latitude}, ignore_index=True)\n"
     ]
    },
    {
     "name": "stdout",
     "output_type": "stream",
     "text": [
      "Data received: {'message': 'success', 'timestamp': 1681490217, 'iss_position': {'longitude': '-140.4792', 'latitude': '30.7942'}}\n"
     ]
    },
    {
     "name": "stderr",
     "output_type": "stream",
     "text": [
      "C:\\Users\\13018\\AppData\\Local\\Temp\\ipykernel_16080\\2340310863.py:10: FutureWarning: The frame.append method is deprecated and will be removed from pandas in a future version. Use pandas.concat instead.\n",
      "  Sat_data = Sat_data.append({\"Longitude\": longitude, \"Latitude\": latitude}, ignore_index=True)\n"
     ]
    },
    {
     "name": "stdout",
     "output_type": "stream",
     "text": [
      "Data received: {'message': 'success', 'timestamp': 1681490222, 'iss_position': {'longitude': '-140.2275', 'latitude': '31.0175'}}\n"
     ]
    },
    {
     "name": "stderr",
     "output_type": "stream",
     "text": [
      "C:\\Users\\13018\\AppData\\Local\\Temp\\ipykernel_16080\\2340310863.py:10: FutureWarning: The frame.append method is deprecated and will be removed from pandas in a future version. Use pandas.concat instead.\n",
      "  Sat_data = Sat_data.append({\"Longitude\": longitude, \"Latitude\": latitude}, ignore_index=True)\n"
     ]
    },
    {
     "name": "stdout",
     "output_type": "stream",
     "text": [
      "Data received: {'message': 'success', 'timestamp': 1681490228, 'iss_position': {'longitude': '-139.9492', 'latitude': '31.2625'}}\n"
     ]
    },
    {
     "name": "stderr",
     "output_type": "stream",
     "text": [
      "C:\\Users\\13018\\AppData\\Local\\Temp\\ipykernel_16080\\2340310863.py:10: FutureWarning: The frame.append method is deprecated and will be removed from pandas in a future version. Use pandas.concat instead.\n",
      "  Sat_data = Sat_data.append({\"Longitude\": longitude, \"Latitude\": latitude}, ignore_index=True)\n"
     ]
    },
    {
     "name": "stdout",
     "output_type": "stream",
     "text": [
      "Data received: {'message': 'success', 'timestamp': 1681490233, 'iss_position': {'longitude': '-139.6947', 'latitude': '31.4846'}}\n"
     ]
    },
    {
     "name": "stderr",
     "output_type": "stream",
     "text": [
      "C:\\Users\\13018\\AppData\\Local\\Temp\\ipykernel_16080\\2340310863.py:10: FutureWarning: The frame.append method is deprecated and will be removed from pandas in a future version. Use pandas.concat instead.\n",
      "  Sat_data = Sat_data.append({\"Longitude\": longitude, \"Latitude\": latitude}, ignore_index=True)\n"
     ]
    },
    {
     "name": "stdout",
     "output_type": "stream",
     "text": [
      "Data received: {'message': 'success', 'timestamp': 1681490238, 'iss_position': {'longitude': '-139.4390', 'latitude': '31.7061'}}\n"
     ]
    },
    {
     "name": "stderr",
     "output_type": "stream",
     "text": [
      "C:\\Users\\13018\\AppData\\Local\\Temp\\ipykernel_16080\\2340310863.py:10: FutureWarning: The frame.append method is deprecated and will be removed from pandas in a future version. Use pandas.concat instead.\n",
      "  Sat_data = Sat_data.append({\"Longitude\": longitude, \"Latitude\": latitude}, ignore_index=True)\n"
     ]
    },
    {
     "name": "stdout",
     "output_type": "stream",
     "text": [
      "Data received: {'message': 'success', 'timestamp': 1681490243, 'iss_position': {'longitude': '-139.1562', 'latitude': '31.9491'}}\n"
     ]
    },
    {
     "name": "stderr",
     "output_type": "stream",
     "text": [
      "C:\\Users\\13018\\AppData\\Local\\Temp\\ipykernel_16080\\2340310863.py:10: FutureWarning: The frame.append method is deprecated and will be removed from pandas in a future version. Use pandas.concat instead.\n",
      "  Sat_data = Sat_data.append({\"Longitude\": longitude, \"Latitude\": latitude}, ignore_index=True)\n"
     ]
    },
    {
     "name": "stdout",
     "output_type": "stream",
     "text": [
      "Data received: {'message': 'success', 'timestamp': 1681490248, 'iss_position': {'longitude': '-138.8977', 'latitude': '32.1693'}}\n"
     ]
    },
    {
     "name": "stderr",
     "output_type": "stream",
     "text": [
      "C:\\Users\\13018\\AppData\\Local\\Temp\\ipykernel_16080\\2340310863.py:10: FutureWarning: The frame.append method is deprecated and will be removed from pandas in a future version. Use pandas.concat instead.\n",
      "  Sat_data = Sat_data.append({\"Longitude\": longitude, \"Latitude\": latitude}, ignore_index=True)\n"
     ]
    },
    {
     "name": "stdout",
     "output_type": "stream",
     "text": [
      "Data received: {'message': 'success', 'timestamp': 1681490254, 'iss_position': {'longitude': '-138.6117', 'latitude': '32.4109'}}\n"
     ]
    },
    {
     "name": "stderr",
     "output_type": "stream",
     "text": [
      "C:\\Users\\13018\\AppData\\Local\\Temp\\ipykernel_16080\\2340310863.py:10: FutureWarning: The frame.append method is deprecated and will be removed from pandas in a future version. Use pandas.concat instead.\n",
      "  Sat_data = Sat_data.append({\"Longitude\": longitude, \"Latitude\": latitude}, ignore_index=True)\n"
     ]
    },
    {
     "name": "stdout",
     "output_type": "stream",
     "text": [
      "Data received: {'message': 'success', 'timestamp': 1681490259, 'iss_position': {'longitude': '-138.3504', 'latitude': '32.6299'}}\n"
     ]
    },
    {
     "name": "stderr",
     "output_type": "stream",
     "text": [
      "C:\\Users\\13018\\AppData\\Local\\Temp\\ipykernel_16080\\2340310863.py:10: FutureWarning: The frame.append method is deprecated and will be removed from pandas in a future version. Use pandas.concat instead.\n",
      "  Sat_data = Sat_data.append({\"Longitude\": longitude, \"Latitude\": latitude}, ignore_index=True)\n"
     ]
    },
    {
     "name": "stdout",
     "output_type": "stream",
     "text": [
      "Data received: {'message': 'success', 'timestamp': 1681490264, 'iss_position': {'longitude': '-138.0876', 'latitude': '32.8482'}}\n"
     ]
    },
    {
     "name": "stderr",
     "output_type": "stream",
     "text": [
      "C:\\Users\\13018\\AppData\\Local\\Temp\\ipykernel_16080\\2340310863.py:10: FutureWarning: The frame.append method is deprecated and will be removed from pandas in a future version. Use pandas.concat instead.\n",
      "  Sat_data = Sat_data.append({\"Longitude\": longitude, \"Latitude\": latitude}, ignore_index=True)\n"
     ]
    },
    {
     "name": "stdout",
     "output_type": "stream",
     "text": [
      "Data received: {'message': 'success', 'timestamp': 1681490269, 'iss_position': {'longitude': '-137.7969', 'latitude': '33.0876'}}\n"
     ]
    },
    {
     "name": "stderr",
     "output_type": "stream",
     "text": [
      "C:\\Users\\13018\\AppData\\Local\\Temp\\ipykernel_16080\\2340310863.py:10: FutureWarning: The frame.append method is deprecated and will be removed from pandas in a future version. Use pandas.concat instead.\n",
      "  Sat_data = Sat_data.append({\"Longitude\": longitude, \"Latitude\": latitude}, ignore_index=True)\n"
     ]
    },
    {
     "name": "stdout",
     "output_type": "stream",
     "text": [
      "Data received: {'message': 'success', 'timestamp': 1681490274, 'iss_position': {'longitude': '-137.5312', 'latitude': '33.3045'}}\n"
     ]
    },
    {
     "name": "stderr",
     "output_type": "stream",
     "text": [
      "C:\\Users\\13018\\AppData\\Local\\Temp\\ipykernel_16080\\2340310863.py:10: FutureWarning: The frame.append method is deprecated and will be removed from pandas in a future version. Use pandas.concat instead.\n",
      "  Sat_data = Sat_data.append({\"Longitude\": longitude, \"Latitude\": latitude}, ignore_index=True)\n"
     ]
    },
    {
     "name": "stdout",
     "output_type": "stream",
     "text": [
      "Data received: {'message': 'success', 'timestamp': 1681490280, 'iss_position': {'longitude': '-137.2373', 'latitude': '33.5424'}}\n"
     ]
    },
    {
     "name": "stderr",
     "output_type": "stream",
     "text": [
      "C:\\Users\\13018\\AppData\\Local\\Temp\\ipykernel_16080\\2340310863.py:10: FutureWarning: The frame.append method is deprecated and will be removed from pandas in a future version. Use pandas.concat instead.\n",
      "  Sat_data = Sat_data.append({\"Longitude\": longitude, \"Latitude\": latitude}, ignore_index=True)\n"
     ]
    },
    {
     "name": "stdout",
     "output_type": "stream",
     "text": [
      "Data received: {'message': 'success', 'timestamp': 1681490285, 'iss_position': {'longitude': '-136.9685', 'latitude': '33.7580'}}\n"
     ]
    },
    {
     "name": "stderr",
     "output_type": "stream",
     "text": [
      "C:\\Users\\13018\\AppData\\Local\\Temp\\ipykernel_16080\\2340310863.py:10: FutureWarning: The frame.append method is deprecated and will be removed from pandas in a future version. Use pandas.concat instead.\n",
      "  Sat_data = Sat_data.append({\"Longitude\": longitude, \"Latitude\": latitude}, ignore_index=True)\n"
     ]
    },
    {
     "name": "stdout",
     "output_type": "stream",
     "text": [
      "Data received: {'message': 'success', 'timestamp': 1681490290, 'iss_position': {'longitude': '-136.6983', 'latitude': '33.9728'}}\n"
     ]
    },
    {
     "name": "stderr",
     "output_type": "stream",
     "text": [
      "C:\\Users\\13018\\AppData\\Local\\Temp\\ipykernel_16080\\2340310863.py:10: FutureWarning: The frame.append method is deprecated and will be removed from pandas in a future version. Use pandas.concat instead.\n",
      "  Sat_data = Sat_data.append({\"Longitude\": longitude, \"Latitude\": latitude}, ignore_index=True)\n"
     ]
    },
    {
     "name": "stdout",
     "output_type": "stream",
     "text": [
      "Data received: {'message': 'success', 'timestamp': 1681490295, 'iss_position': {'longitude': '-136.3994', 'latitude': '34.2084'}}\n"
     ]
    },
    {
     "name": "stderr",
     "output_type": "stream",
     "text": [
      "C:\\Users\\13018\\AppData\\Local\\Temp\\ipykernel_16080\\2340310863.py:10: FutureWarning: The frame.append method is deprecated and will be removed from pandas in a future version. Use pandas.concat instead.\n",
      "  Sat_data = Sat_data.append({\"Longitude\": longitude, \"Latitude\": latitude}, ignore_index=True)\n"
     ]
    },
    {
     "name": "stdout",
     "output_type": "stream",
     "text": [
      "Data received: {'message': 'success', 'timestamp': 1681490300, 'iss_position': {'longitude': '-136.1261', 'latitude': '34.4218'}}\n"
     ]
    },
    {
     "name": "stderr",
     "output_type": "stream",
     "text": [
      "C:\\Users\\13018\\AppData\\Local\\Temp\\ipykernel_16080\\2340310863.py:10: FutureWarning: The frame.append method is deprecated and will be removed from pandas in a future version. Use pandas.concat instead.\n",
      "  Sat_data = Sat_data.append({\"Longitude\": longitude, \"Latitude\": latitude}, ignore_index=True)\n"
     ]
    },
    {
     "name": "stdout",
     "output_type": "stream",
     "text": [
      "Data received: {'message': 'success', 'timestamp': 1681490306, 'iss_position': {'longitude': '-135.8237', 'latitude': '34.6557'}}\n"
     ]
    },
    {
     "name": "stderr",
     "output_type": "stream",
     "text": [
      "C:\\Users\\13018\\AppData\\Local\\Temp\\ipykernel_16080\\2340310863.py:10: FutureWarning: The frame.append method is deprecated and will be removed from pandas in a future version. Use pandas.concat instead.\n",
      "  Sat_data = Sat_data.append({\"Longitude\": longitude, \"Latitude\": latitude}, ignore_index=True)\n"
     ]
    },
    {
     "name": "stdout",
     "output_type": "stream",
     "text": [
      "Data received: {'message': 'success', 'timestamp': 1681490311, 'iss_position': {'longitude': '-135.5471', 'latitude': '34.8677'}}\n"
     ]
    },
    {
     "name": "stderr",
     "output_type": "stream",
     "text": [
      "C:\\Users\\13018\\AppData\\Local\\Temp\\ipykernel_16080\\2340310863.py:10: FutureWarning: The frame.append method is deprecated and will be removed from pandas in a future version. Use pandas.concat instead.\n",
      "  Sat_data = Sat_data.append({\"Longitude\": longitude, \"Latitude\": latitude}, ignore_index=True)\n"
     ]
    },
    {
     "name": "stdout",
     "output_type": "stream",
     "text": [
      "Data received: {'message': 'success', 'timestamp': 1681490316, 'iss_position': {'longitude': '-135.2691', 'latitude': '35.0788'}}\n"
     ]
    },
    {
     "name": "stderr",
     "output_type": "stream",
     "text": [
      "C:\\Users\\13018\\AppData\\Local\\Temp\\ipykernel_16080\\2340310863.py:10: FutureWarning: The frame.append method is deprecated and will be removed from pandas in a future version. Use pandas.concat instead.\n",
      "  Sat_data = Sat_data.append({\"Longitude\": longitude, \"Latitude\": latitude}, ignore_index=True)\n"
     ]
    },
    {
     "name": "stdout",
     "output_type": "stream",
     "text": [
      "Data received: {'message': 'success', 'timestamp': 1681490322, 'iss_position': {'longitude': '-134.9615', 'latitude': '35.3103'}}\n"
     ]
    },
    {
     "name": "stderr",
     "output_type": "stream",
     "text": [
      "C:\\Users\\13018\\AppData\\Local\\Temp\\ipykernel_16080\\2340310863.py:10: FutureWarning: The frame.append method is deprecated and will be removed from pandas in a future version. Use pandas.concat instead.\n",
      "  Sat_data = Sat_data.append({\"Longitude\": longitude, \"Latitude\": latitude}, ignore_index=True)\n"
     ]
    },
    {
     "name": "stdout",
     "output_type": "stream",
     "text": [
      "Data received: {'message': 'success', 'timestamp': 1681490327, 'iss_position': {'longitude': '-134.6802', 'latitude': '35.5199'}}\n"
     ]
    },
    {
     "name": "stderr",
     "output_type": "stream",
     "text": [
      "C:\\Users\\13018\\AppData\\Local\\Temp\\ipykernel_16080\\2340310863.py:10: FutureWarning: The frame.append method is deprecated and will be removed from pandas in a future version. Use pandas.concat instead.\n",
      "  Sat_data = Sat_data.append({\"Longitude\": longitude, \"Latitude\": latitude}, ignore_index=True)\n"
     ]
    },
    {
     "name": "stdout",
     "output_type": "stream",
     "text": [
      "Data received: {'message': 'success', 'timestamp': 1681490332, 'iss_position': {'longitude': '-134.3688', 'latitude': '35.7497'}}\n"
     ]
    },
    {
     "name": "stderr",
     "output_type": "stream",
     "text": [
      "C:\\Users\\13018\\AppData\\Local\\Temp\\ipykernel_16080\\2340310863.py:10: FutureWarning: The frame.append method is deprecated and will be removed from pandas in a future version. Use pandas.concat instead.\n",
      "  Sat_data = Sat_data.append({\"Longitude\": longitude, \"Latitude\": latitude}, ignore_index=True)\n"
     ]
    },
    {
     "name": "stdout",
     "output_type": "stream",
     "text": [
      "Data received: {'message': 'success', 'timestamp': 1681490337, 'iss_position': {'longitude': '-134.0842', 'latitude': '35.9576'}}\n"
     ]
    },
    {
     "name": "stderr",
     "output_type": "stream",
     "text": [
      "C:\\Users\\13018\\AppData\\Local\\Temp\\ipykernel_16080\\2340310863.py:10: FutureWarning: The frame.append method is deprecated and will be removed from pandas in a future version. Use pandas.concat instead.\n",
      "  Sat_data = Sat_data.append({\"Longitude\": longitude, \"Latitude\": latitude}, ignore_index=True)\n"
     ]
    },
    {
     "name": "stdout",
     "output_type": "stream",
     "text": [
      "Data received: {'message': 'success', 'timestamp': 1681490342, 'iss_position': {'longitude': '-133.7979', 'latitude': '36.1649'}}\n"
     ]
    },
    {
     "name": "stderr",
     "output_type": "stream",
     "text": [
      "C:\\Users\\13018\\AppData\\Local\\Temp\\ipykernel_16080\\2340310863.py:10: FutureWarning: The frame.append method is deprecated and will be removed from pandas in a future version. Use pandas.concat instead.\n",
      "  Sat_data = Sat_data.append({\"Longitude\": longitude, \"Latitude\": latitude}, ignore_index=True)\n"
     ]
    },
    {
     "name": "stdout",
     "output_type": "stream",
     "text": [
      "Data received: {'message': 'success', 'timestamp': 1681490348, 'iss_position': {'longitude': '-133.4811', 'latitude': '36.3920'}}\n"
     ]
    },
    {
     "name": "stderr",
     "output_type": "stream",
     "text": [
      "C:\\Users\\13018\\AppData\\Local\\Temp\\ipykernel_16080\\2340310863.py:10: FutureWarning: The frame.append method is deprecated and will be removed from pandas in a future version. Use pandas.concat instead.\n",
      "  Sat_data = Sat_data.append({\"Longitude\": longitude, \"Latitude\": latitude}, ignore_index=True)\n"
     ]
    },
    {
     "name": "stdout",
     "output_type": "stream",
     "text": [
      "Data received: {'message': 'success', 'timestamp': 1681490353, 'iss_position': {'longitude': '-133.1914', 'latitude': '36.5976'}}\n"
     ]
    },
    {
     "name": "stderr",
     "output_type": "stream",
     "text": [
      "C:\\Users\\13018\\AppData\\Local\\Temp\\ipykernel_16080\\2340310863.py:10: FutureWarning: The frame.append method is deprecated and will be removed from pandas in a future version. Use pandas.concat instead.\n",
      "  Sat_data = Sat_data.append({\"Longitude\": longitude, \"Latitude\": latitude}, ignore_index=True)\n"
     ]
    },
    {
     "name": "stdout",
     "output_type": "stream",
     "text": [
      "Data received: {'message': 'success', 'timestamp': 1681490358, 'iss_position': {'longitude': '-132.8707', 'latitude': '36.8228'}}\n"
     ]
    },
    {
     "name": "stderr",
     "output_type": "stream",
     "text": [
      "C:\\Users\\13018\\AppData\\Local\\Temp\\ipykernel_16080\\2340310863.py:10: FutureWarning: The frame.append method is deprecated and will be removed from pandas in a future version. Use pandas.concat instead.\n",
      "  Sat_data = Sat_data.append({\"Longitude\": longitude, \"Latitude\": latitude}, ignore_index=True)\n"
     ]
    },
    {
     "name": "stdout",
     "output_type": "stream",
     "text": [
      "Data received: {'message': 'success', 'timestamp': 1681490363, 'iss_position': {'longitude': '-132.5775', 'latitude': '37.0267'}}\n"
     ]
    },
    {
     "name": "stderr",
     "output_type": "stream",
     "text": [
      "C:\\Users\\13018\\AppData\\Local\\Temp\\ipykernel_16080\\2340310863.py:10: FutureWarning: The frame.append method is deprecated and will be removed from pandas in a future version. Use pandas.concat instead.\n",
      "  Sat_data = Sat_data.append({\"Longitude\": longitude, \"Latitude\": latitude}, ignore_index=True)\n"
     ]
    },
    {
     "name": "stdout",
     "output_type": "stream",
     "text": [
      "Data received: {'message': 'success', 'timestamp': 1681490368, 'iss_position': {'longitude': '-132.2825', 'latitude': '37.2297'}}\n"
     ]
    },
    {
     "name": "stderr",
     "output_type": "stream",
     "text": [
      "C:\\Users\\13018\\AppData\\Local\\Temp\\ipykernel_16080\\2340310863.py:10: FutureWarning: The frame.append method is deprecated and will be removed from pandas in a future version. Use pandas.concat instead.\n",
      "  Sat_data = Sat_data.append({\"Longitude\": longitude, \"Latitude\": latitude}, ignore_index=True)\n"
     ]
    },
    {
     "name": "stdout",
     "output_type": "stream",
     "text": [
      "Data received: {'message': 'success', 'timestamp': 1681490374, 'iss_position': {'longitude': '-131.9561', 'latitude': '37.4521'}}\n"
     ]
    },
    {
     "name": "stderr",
     "output_type": "stream",
     "text": [
      "C:\\Users\\13018\\AppData\\Local\\Temp\\ipykernel_16080\\2340310863.py:10: FutureWarning: The frame.append method is deprecated and will be removed from pandas in a future version. Use pandas.concat instead.\n",
      "  Sat_data = Sat_data.append({\"Longitude\": longitude, \"Latitude\": latitude}, ignore_index=True)\n"
     ]
    },
    {
     "name": "stdout",
     "output_type": "stream",
     "text": [
      "Data received: {'message': 'success', 'timestamp': 1681490379, 'iss_position': {'longitude': '-131.6576', 'latitude': '37.6534'}}\n"
     ]
    },
    {
     "name": "stderr",
     "output_type": "stream",
     "text": [
      "C:\\Users\\13018\\AppData\\Local\\Temp\\ipykernel_16080\\2340310863.py:10: FutureWarning: The frame.append method is deprecated and will be removed from pandas in a future version. Use pandas.concat instead.\n",
      "  Sat_data = Sat_data.append({\"Longitude\": longitude, \"Latitude\": latitude}, ignore_index=True)\n"
     ]
    },
    {
     "name": "stdout",
     "output_type": "stream",
     "text": [
      "Data received: {'message': 'success', 'timestamp': 1681490384, 'iss_position': {'longitude': '-131.3272', 'latitude': '37.8738'}}\n"
     ]
    },
    {
     "name": "stderr",
     "output_type": "stream",
     "text": [
      "C:\\Users\\13018\\AppData\\Local\\Temp\\ipykernel_16080\\2340310863.py:10: FutureWarning: The frame.append method is deprecated and will be removed from pandas in a future version. Use pandas.concat instead.\n",
      "  Sat_data = Sat_data.append({\"Longitude\": longitude, \"Latitude\": latitude}, ignore_index=True)\n"
     ]
    },
    {
     "name": "stdout",
     "output_type": "stream",
     "text": [
      "Data received: {'message': 'success', 'timestamp': 1681490389, 'iss_position': {'longitude': '-131.0250', 'latitude': '38.0732'}}\n"
     ]
    },
    {
     "name": "stderr",
     "output_type": "stream",
     "text": [
      "C:\\Users\\13018\\AppData\\Local\\Temp\\ipykernel_16080\\2340310863.py:10: FutureWarning: The frame.append method is deprecated and will be removed from pandas in a future version. Use pandas.concat instead.\n",
      "  Sat_data = Sat_data.append({\"Longitude\": longitude, \"Latitude\": latitude}, ignore_index=True)\n"
     ]
    },
    {
     "name": "stdout",
     "output_type": "stream",
     "text": [
      "Data received: {'message': 'success', 'timestamp': 1681490394, 'iss_position': {'longitude': '-130.7210', 'latitude': '38.2718'}}\n"
     ]
    },
    {
     "name": "stderr",
     "output_type": "stream",
     "text": [
      "C:\\Users\\13018\\AppData\\Local\\Temp\\ipykernel_16080\\2340310863.py:10: FutureWarning: The frame.append method is deprecated and will be removed from pandas in a future version. Use pandas.concat instead.\n",
      "  Sat_data = Sat_data.append({\"Longitude\": longitude, \"Latitude\": latitude}, ignore_index=True)\n"
     ]
    },
    {
     "name": "stdout",
     "output_type": "stream",
     "text": [
      "Data received: {'message': 'success', 'timestamp': 1681490400, 'iss_position': {'longitude': '-130.3845', 'latitude': '38.4891'}}\n"
     ]
    },
    {
     "name": "stderr",
     "output_type": "stream",
     "text": [
      "C:\\Users\\13018\\AppData\\Local\\Temp\\ipykernel_16080\\2340310863.py:10: FutureWarning: The frame.append method is deprecated and will be removed from pandas in a future version. Use pandas.concat instead.\n",
      "  Sat_data = Sat_data.append({\"Longitude\": longitude, \"Latitude\": latitude}, ignore_index=True)\n"
     ]
    },
    {
     "name": "stdout",
     "output_type": "stream",
     "text": [
      "Data received: {'message': 'success', 'timestamp': 1681490405, 'iss_position': {'longitude': '-130.0768', 'latitude': '38.6858'}}\n"
     ]
    },
    {
     "name": "stderr",
     "output_type": "stream",
     "text": [
      "C:\\Users\\13018\\AppData\\Local\\Temp\\ipykernel_16080\\2340310863.py:10: FutureWarning: The frame.append method is deprecated and will be removed from pandas in a future version. Use pandas.concat instead.\n",
      "  Sat_data = Sat_data.append({\"Longitude\": longitude, \"Latitude\": latitude}, ignore_index=True)\n"
     ]
    },
    {
     "name": "stdout",
     "output_type": "stream",
     "text": [
      "Data received: {'message': 'success', 'timestamp': 1681490410, 'iss_position': {'longitude': '-129.7362', 'latitude': '38.9010'}}\n"
     ]
    },
    {
     "name": "stderr",
     "output_type": "stream",
     "text": [
      "C:\\Users\\13018\\AppData\\Local\\Temp\\ipykernel_16080\\2340310863.py:10: FutureWarning: The frame.append method is deprecated and will be removed from pandas in a future version. Use pandas.concat instead.\n",
      "  Sat_data = Sat_data.append({\"Longitude\": longitude, \"Latitude\": latitude}, ignore_index=True)\n"
     ]
    },
    {
     "name": "stdout",
     "output_type": "stream",
     "text": [
      "Data received: {'message': 'success', 'timestamp': 1681490415, 'iss_position': {'longitude': '-129.4247', 'latitude': '39.0957'}}\n"
     ]
    },
    {
     "name": "stderr",
     "output_type": "stream",
     "text": [
      "C:\\Users\\13018\\AppData\\Local\\Temp\\ipykernel_16080\\2340310863.py:10: FutureWarning: The frame.append method is deprecated and will be removed from pandas in a future version. Use pandas.concat instead.\n",
      "  Sat_data = Sat_data.append({\"Longitude\": longitude, \"Latitude\": latitude}, ignore_index=True)\n"
     ]
    },
    {
     "name": "stdout",
     "output_type": "stream",
     "text": [
      "Data received: {'message': 'success', 'timestamp': 1681490420, 'iss_position': {'longitude': '-129.1112', 'latitude': '39.2895'}}\n"
     ]
    },
    {
     "name": "stderr",
     "output_type": "stream",
     "text": [
      "C:\\Users\\13018\\AppData\\Local\\Temp\\ipykernel_16080\\2340310863.py:10: FutureWarning: The frame.append method is deprecated and will be removed from pandas in a future version. Use pandas.concat instead.\n",
      "  Sat_data = Sat_data.append({\"Longitude\": longitude, \"Latitude\": latitude}, ignore_index=True)\n"
     ]
    },
    {
     "name": "stdout",
     "output_type": "stream",
     "text": [
      "Data received: {'message': 'success', 'timestamp': 1681490426, 'iss_position': {'longitude': '-128.7643', 'latitude': '39.5015'}}\n"
     ]
    },
    {
     "name": "stderr",
     "output_type": "stream",
     "text": [
      "C:\\Users\\13018\\AppData\\Local\\Temp\\ipykernel_16080\\2340310863.py:10: FutureWarning: The frame.append method is deprecated and will be removed from pandas in a future version. Use pandas.concat instead.\n",
      "  Sat_data = Sat_data.append({\"Longitude\": longitude, \"Latitude\": latitude}, ignore_index=True)\n"
     ]
    },
    {
     "name": "stdout",
     "output_type": "stream",
     "text": [
      "Data received: {'message': 'success', 'timestamp': 1681490431, 'iss_position': {'longitude': '-128.4469', 'latitude': '39.6933'}}\n"
     ]
    },
    {
     "name": "stderr",
     "output_type": "stream",
     "text": [
      "C:\\Users\\13018\\AppData\\Local\\Temp\\ipykernel_16080\\2340310863.py:10: FutureWarning: The frame.append method is deprecated and will be removed from pandas in a future version. Use pandas.concat instead.\n",
      "  Sat_data = Sat_data.append({\"Longitude\": longitude, \"Latitude\": latitude}, ignore_index=True)\n"
     ]
    },
    {
     "name": "stdout",
     "output_type": "stream",
     "text": [
      "Data received: {'message': 'success', 'timestamp': 1681490436, 'iss_position': {'longitude': '-128.0957', 'latitude': '39.9030'}}\n"
     ]
    },
    {
     "name": "stderr",
     "output_type": "stream",
     "text": [
      "C:\\Users\\13018\\AppData\\Local\\Temp\\ipykernel_16080\\2340310863.py:10: FutureWarning: The frame.append method is deprecated and will be removed from pandas in a future version. Use pandas.concat instead.\n",
      "  Sat_data = Sat_data.append({\"Longitude\": longitude, \"Latitude\": latitude}, ignore_index=True)\n"
     ]
    },
    {
     "name": "stdout",
     "output_type": "stream",
     "text": [
      "Data received: {'message': 'success', 'timestamp': 1681490441, 'iss_position': {'longitude': '-127.7744', 'latitude': '40.0926'}}\n"
     ]
    },
    {
     "name": "stderr",
     "output_type": "stream",
     "text": [
      "C:\\Users\\13018\\AppData\\Local\\Temp\\ipykernel_16080\\2340310863.py:10: FutureWarning: The frame.append method is deprecated and will be removed from pandas in a future version. Use pandas.concat instead.\n",
      "  Sat_data = Sat_data.append({\"Longitude\": longitude, \"Latitude\": latitude}, ignore_index=True)\n"
     ]
    },
    {
     "name": "stdout",
     "output_type": "stream",
     "text": [
      "Data received: {'message': 'success', 'timestamp': 1681490446, 'iss_position': {'longitude': '-127.4512', 'latitude': '40.2812'}}\n"
     ]
    },
    {
     "name": "stderr",
     "output_type": "stream",
     "text": [
      "C:\\Users\\13018\\AppData\\Local\\Temp\\ipykernel_16080\\2340310863.py:10: FutureWarning: The frame.append method is deprecated and will be removed from pandas in a future version. Use pandas.concat instead.\n",
      "  Sat_data = Sat_data.append({\"Longitude\": longitude, \"Latitude\": latitude}, ignore_index=True)\n"
     ]
    },
    {
     "name": "stdout",
     "output_type": "stream",
     "text": [
      "Data received: {'message': 'success', 'timestamp': 1681490452, 'iss_position': {'longitude': '-127.0935', 'latitude': '40.4875'}}\n"
     ]
    },
    {
     "name": "stderr",
     "output_type": "stream",
     "text": [
      "C:\\Users\\13018\\AppData\\Local\\Temp\\ipykernel_16080\\2340310863.py:10: FutureWarning: The frame.append method is deprecated and will be removed from pandas in a future version. Use pandas.concat instead.\n",
      "  Sat_data = Sat_data.append({\"Longitude\": longitude, \"Latitude\": latitude}, ignore_index=True)\n"
     ]
    },
    {
     "name": "stdout",
     "output_type": "stream",
     "text": [
      "Data received: {'message': 'success', 'timestamp': 1681490457, 'iss_position': {'longitude': '-126.7662', 'latitude': '40.6740'}}\n"
     ]
    },
    {
     "name": "stderr",
     "output_type": "stream",
     "text": [
      "C:\\Users\\13018\\AppData\\Local\\Temp\\ipykernel_16080\\2340310863.py:10: FutureWarning: The frame.append method is deprecated and will be removed from pandas in a future version. Use pandas.concat instead.\n",
      "  Sat_data = Sat_data.append({\"Longitude\": longitude, \"Latitude\": latitude}, ignore_index=True)\n"
     ]
    },
    {
     "name": "stdout",
     "output_type": "stream",
     "text": [
      "Data received: {'message': 'success', 'timestamp': 1681490462, 'iss_position': {'longitude': '-126.4040', 'latitude': '40.8778'}}\n"
     ]
    },
    {
     "name": "stderr",
     "output_type": "stream",
     "text": [
      "C:\\Users\\13018\\AppData\\Local\\Temp\\ipykernel_16080\\2340310863.py:10: FutureWarning: The frame.append method is deprecated and will be removed from pandas in a future version. Use pandas.concat instead.\n",
      "  Sat_data = Sat_data.append({\"Longitude\": longitude, \"Latitude\": latitude}, ignore_index=True)\n"
     ]
    },
    {
     "name": "stdout",
     "output_type": "stream",
     "text": [
      "Data received: {'message': 'success', 'timestamp': 1681490467, 'iss_position': {'longitude': '-126.0727', 'latitude': '41.0620'}}\n"
     ]
    },
    {
     "name": "stderr",
     "output_type": "stream",
     "text": [
      "C:\\Users\\13018\\AppData\\Local\\Temp\\ipykernel_16080\\2340310863.py:10: FutureWarning: The frame.append method is deprecated and will be removed from pandas in a future version. Use pandas.concat instead.\n",
      "  Sat_data = Sat_data.append({\"Longitude\": longitude, \"Latitude\": latitude}, ignore_index=True)\n"
     ]
    },
    {
     "name": "stdout",
     "output_type": "stream",
     "text": [
      "Data received: {'message': 'success', 'timestamp': 1681490472, 'iss_position': {'longitude': '-125.7393', 'latitude': '41.2452'}}\n"
     ]
    },
    {
     "name": "stderr",
     "output_type": "stream",
     "text": [
      "C:\\Users\\13018\\AppData\\Local\\Temp\\ipykernel_16080\\2340310863.py:10: FutureWarning: The frame.append method is deprecated and will be removed from pandas in a future version. Use pandas.concat instead.\n",
      "  Sat_data = Sat_data.append({\"Longitude\": longitude, \"Latitude\": latitude}, ignore_index=True)\n"
     ]
    },
    {
     "name": "stdout",
     "output_type": "stream",
     "text": [
      "Data received: {'message': 'success', 'timestamp': 1681490478, 'iss_position': {'longitude': '-125.3703', 'latitude': '41.4454'}}\n"
     ]
    },
    {
     "name": "stderr",
     "output_type": "stream",
     "text": [
      "C:\\Users\\13018\\AppData\\Local\\Temp\\ipykernel_16080\\2340310863.py:10: FutureWarning: The frame.append method is deprecated and will be removed from pandas in a future version. Use pandas.concat instead.\n",
      "  Sat_data = Sat_data.append({\"Longitude\": longitude, \"Latitude\": latitude}, ignore_index=True)\n"
     ]
    },
    {
     "name": "stdout",
     "output_type": "stream",
     "text": [
      "Data received: {'message': 'success', 'timestamp': 1681490483, 'iss_position': {'longitude': '-125.0329', 'latitude': '41.6262'}}\n"
     ]
    },
    {
     "name": "stderr",
     "output_type": "stream",
     "text": [
      "C:\\Users\\13018\\AppData\\Local\\Temp\\ipykernel_16080\\2340310863.py:10: FutureWarning: The frame.append method is deprecated and will be removed from pandas in a future version. Use pandas.concat instead.\n",
      "  Sat_data = Sat_data.append({\"Longitude\": longitude, \"Latitude\": latitude}, ignore_index=True)\n"
     ]
    },
    {
     "name": "stdout",
     "output_type": "stream",
     "text": [
      "Data received: {'message': 'success', 'timestamp': 1681490488, 'iss_position': {'longitude': '-124.6592', 'latitude': '41.8238'}}\n"
     ]
    },
    {
     "name": "stderr",
     "output_type": "stream",
     "text": [
      "C:\\Users\\13018\\AppData\\Local\\Temp\\ipykernel_16080\\2340310863.py:10: FutureWarning: The frame.append method is deprecated and will be removed from pandas in a future version. Use pandas.concat instead.\n",
      "  Sat_data = Sat_data.append({\"Longitude\": longitude, \"Latitude\": latitude}, ignore_index=True)\n"
     ]
    },
    {
     "name": "stdout",
     "output_type": "stream",
     "text": [
      "Data received: {'message': 'success', 'timestamp': 1681490493, 'iss_position': {'longitude': '-124.3175', 'latitude': '42.0022'}}\n"
     ]
    },
    {
     "name": "stderr",
     "output_type": "stream",
     "text": [
      "C:\\Users\\13018\\AppData\\Local\\Temp\\ipykernel_16080\\2340310863.py:10: FutureWarning: The frame.append method is deprecated and will be removed from pandas in a future version. Use pandas.concat instead.\n",
      "  Sat_data = Sat_data.append({\"Longitude\": longitude, \"Latitude\": latitude}, ignore_index=True)\n"
     ]
    },
    {
     "name": "stdout",
     "output_type": "stream",
     "text": [
      "Data received: {'message': 'success', 'timestamp': 1681490499, 'iss_position': {'longitude': '-123.9391', 'latitude': '42.1972'}}\n"
     ]
    },
    {
     "name": "stderr",
     "output_type": "stream",
     "text": [
      "C:\\Users\\13018\\AppData\\Local\\Temp\\ipykernel_16080\\2340310863.py:10: FutureWarning: The frame.append method is deprecated and will be removed from pandas in a future version. Use pandas.concat instead.\n",
      "  Sat_data = Sat_data.append({\"Longitude\": longitude, \"Latitude\": latitude}, ignore_index=True)\n"
     ]
    },
    {
     "name": "stdout",
     "output_type": "stream",
     "text": [
      "Data received: {'message': 'success', 'timestamp': 1681490504, 'iss_position': {'longitude': '-123.5931', 'latitude': '42.3732'}}\n"
     ]
    },
    {
     "name": "stderr",
     "output_type": "stream",
     "text": [
      "C:\\Users\\13018\\AppData\\Local\\Temp\\ipykernel_16080\\2340310863.py:10: FutureWarning: The frame.append method is deprecated and will be removed from pandas in a future version. Use pandas.concat instead.\n",
      "  Sat_data = Sat_data.append({\"Longitude\": longitude, \"Latitude\": latitude}, ignore_index=True)\n"
     ]
    },
    {
     "name": "stdout",
     "output_type": "stream",
     "text": [
      "Data received: {'message': 'success', 'timestamp': 1681490509, 'iss_position': {'longitude': '-123.2451', 'latitude': '42.5481'}}\n"
     ]
    },
    {
     "name": "stderr",
     "output_type": "stream",
     "text": [
      "C:\\Users\\13018\\AppData\\Local\\Temp\\ipykernel_16080\\2340310863.py:10: FutureWarning: The frame.append method is deprecated and will be removed from pandas in a future version. Use pandas.concat instead.\n",
      "  Sat_data = Sat_data.append({\"Longitude\": longitude, \"Latitude\": latitude}, ignore_index=True)\n"
     ]
    },
    {
     "name": "stdout",
     "output_type": "stream",
     "text": [
      "Data received: {'message': 'success', 'timestamp': 1681490514, 'iss_position': {'longitude': '-122.8598', 'latitude': '42.7390'}}\n"
     ]
    },
    {
     "name": "stderr",
     "output_type": "stream",
     "text": [
      "C:\\Users\\13018\\AppData\\Local\\Temp\\ipykernel_16080\\2340310863.py:10: FutureWarning: The frame.append method is deprecated and will be removed from pandas in a future version. Use pandas.concat instead.\n",
      "  Sat_data = Sat_data.append({\"Longitude\": longitude, \"Latitude\": latitude}, ignore_index=True)\n"
     ]
    },
    {
     "name": "stdout",
     "output_type": "stream",
     "text": [
      "Data received: {'message': 'success', 'timestamp': 1681490519, 'iss_position': {'longitude': '-122.5073', 'latitude': '42.9113'}}\n"
     ]
    },
    {
     "name": "stderr",
     "output_type": "stream",
     "text": [
      "C:\\Users\\13018\\AppData\\Local\\Temp\\ipykernel_16080\\2340310863.py:10: FutureWarning: The frame.append method is deprecated and will be removed from pandas in a future version. Use pandas.concat instead.\n",
      "  Sat_data = Sat_data.append({\"Longitude\": longitude, \"Latitude\": latitude}, ignore_index=True)\n"
     ]
    },
    {
     "name": "stdout",
     "output_type": "stream",
     "text": [
      "Data received: {'message': 'success', 'timestamp': 1681490525, 'iss_position': {'longitude': '-122.1172', 'latitude': '43.0995'}}\n"
     ]
    },
    {
     "name": "stderr",
     "output_type": "stream",
     "text": [
      "C:\\Users\\13018\\AppData\\Local\\Temp\\ipykernel_16080\\2340310863.py:10: FutureWarning: The frame.append method is deprecated and will be removed from pandas in a future version. Use pandas.concat instead.\n",
      "  Sat_data = Sat_data.append({\"Longitude\": longitude, \"Latitude\": latitude}, ignore_index=True)\n"
     ]
    },
    {
     "name": "stdout",
     "output_type": "stream",
     "text": [
      "Data received: {'message': 'success', 'timestamp': 1681490530, 'iss_position': {'longitude': '-121.7603', 'latitude': '43.2693'}}\n"
     ]
    },
    {
     "name": "stderr",
     "output_type": "stream",
     "text": [
      "C:\\Users\\13018\\AppData\\Local\\Temp\\ipykernel_16080\\2340310863.py:10: FutureWarning: The frame.append method is deprecated and will be removed from pandas in a future version. Use pandas.concat instead.\n",
      "  Sat_data = Sat_data.append({\"Longitude\": longitude, \"Latitude\": latitude}, ignore_index=True)\n"
     ]
    },
    {
     "name": "stdout",
     "output_type": "stream",
     "text": [
      "Data received: {'message': 'success', 'timestamp': 1681490535, 'iss_position': {'longitude': '-121.4012', 'latitude': '43.4378'}}\n"
     ]
    },
    {
     "name": "stderr",
     "output_type": "stream",
     "text": [
      "C:\\Users\\13018\\AppData\\Local\\Temp\\ipykernel_16080\\2340310863.py:10: FutureWarning: The frame.append method is deprecated and will be removed from pandas in a future version. Use pandas.concat instead.\n",
      "  Sat_data = Sat_data.append({\"Longitude\": longitude, \"Latitude\": latitude}, ignore_index=True)\n"
     ]
    },
    {
     "name": "stdout",
     "output_type": "stream",
     "text": [
      "Data received: {'message': 'success', 'timestamp': 1681490540, 'iss_position': {'longitude': '-121.0038', 'latitude': '43.6217'}}\n"
     ]
    },
    {
     "name": "stderr",
     "output_type": "stream",
     "text": [
      "C:\\Users\\13018\\AppData\\Local\\Temp\\ipykernel_16080\\2340310863.py:10: FutureWarning: The frame.append method is deprecated and will be removed from pandas in a future version. Use pandas.concat instead.\n",
      "  Sat_data = Sat_data.append({\"Longitude\": longitude, \"Latitude\": latitude}, ignore_index=True)\n"
     ]
    },
    {
     "name": "stdout",
     "output_type": "stream",
     "text": [
      "Data received: {'message': 'success', 'timestamp': 1681490545, 'iss_position': {'longitude': '-120.6404', 'latitude': '43.7875'}}\n"
     ]
    },
    {
     "name": "stderr",
     "output_type": "stream",
     "text": [
      "C:\\Users\\13018\\AppData\\Local\\Temp\\ipykernel_16080\\2340310863.py:10: FutureWarning: The frame.append method is deprecated and will be removed from pandas in a future version. Use pandas.concat instead.\n",
      "  Sat_data = Sat_data.append({\"Longitude\": longitude, \"Latitude\": latitude}, ignore_index=True)\n"
     ]
    },
    {
     "name": "stdout",
     "output_type": "stream",
     "text": [
      "Data received: {'message': 'success', 'timestamp': 1681490551, 'iss_position': {'longitude': '-120.2381', 'latitude': '43.9685'}}\n"
     ]
    },
    {
     "name": "stderr",
     "output_type": "stream",
     "text": [
      "C:\\Users\\13018\\AppData\\Local\\Temp\\ipykernel_16080\\2340310863.py:10: FutureWarning: The frame.append method is deprecated and will be removed from pandas in a future version. Use pandas.concat instead.\n",
      "  Sat_data = Sat_data.append({\"Longitude\": longitude, \"Latitude\": latitude}, ignore_index=True)\n"
     ]
    },
    {
     "name": "stdout",
     "output_type": "stream",
     "text": [
      "Data received: {'message': 'success', 'timestamp': 1681490556, 'iss_position': {'longitude': '-119.8701', 'latitude': '44.1316'}}\n"
     ]
    },
    {
     "name": "stderr",
     "output_type": "stream",
     "text": [
      "C:\\Users\\13018\\AppData\\Local\\Temp\\ipykernel_16080\\2340310863.py:10: FutureWarning: The frame.append method is deprecated and will be removed from pandas in a future version. Use pandas.concat instead.\n",
      "  Sat_data = Sat_data.append({\"Longitude\": longitude, \"Latitude\": latitude}, ignore_index=True)\n"
     ]
    },
    {
     "name": "stdout",
     "output_type": "stream",
     "text": [
      "Data received: {'message': 'success', 'timestamp': 1681490561, 'iss_position': {'longitude': '-119.5000', 'latitude': '44.2933'}}\n"
     ]
    },
    {
     "name": "stderr",
     "output_type": "stream",
     "text": [
      "C:\\Users\\13018\\AppData\\Local\\Temp\\ipykernel_16080\\2340310863.py:10: FutureWarning: The frame.append method is deprecated and will be removed from pandas in a future version. Use pandas.concat instead.\n",
      "  Sat_data = Sat_data.append({\"Longitude\": longitude, \"Latitude\": latitude}, ignore_index=True)\n"
     ]
    },
    {
     "name": "stdout",
     "output_type": "stream",
     "text": [
      "Data received: {'message': 'success', 'timestamp': 1681490566, 'iss_position': {'longitude': '-119.0904', 'latitude': '44.4697'}}\n"
     ]
    },
    {
     "name": "stderr",
     "output_type": "stream",
     "text": [
      "C:\\Users\\13018\\AppData\\Local\\Temp\\ipykernel_16080\\2340310863.py:10: FutureWarning: The frame.append method is deprecated and will be removed from pandas in a future version. Use pandas.concat instead.\n",
      "  Sat_data = Sat_data.append({\"Longitude\": longitude, \"Latitude\": latitude}, ignore_index=True)\n"
     ]
    },
    {
     "name": "stdout",
     "output_type": "stream",
     "text": [
      "Data received: {'message': 'success', 'timestamp': 1681490571, 'iss_position': {'longitude': '-118.7157', 'latitude': '44.6287'}}\n"
     ]
    },
    {
     "name": "stderr",
     "output_type": "stream",
     "text": [
      "C:\\Users\\13018\\AppData\\Local\\Temp\\ipykernel_16080\\2340310863.py:10: FutureWarning: The frame.append method is deprecated and will be removed from pandas in a future version. Use pandas.concat instead.\n",
      "  Sat_data = Sat_data.append({\"Longitude\": longitude, \"Latitude\": latitude}, ignore_index=True)\n"
     ]
    },
    {
     "name": "stdout",
     "output_type": "stream",
     "text": [
      "Data received: {'message': 'success', 'timestamp': 1681490577, 'iss_position': {'longitude': '-118.3010', 'latitude': '44.8019'}}\n"
     ]
    },
    {
     "name": "stderr",
     "output_type": "stream",
     "text": [
      "C:\\Users\\13018\\AppData\\Local\\Temp\\ipykernel_16080\\2340310863.py:10: FutureWarning: The frame.append method is deprecated and will be removed from pandas in a future version. Use pandas.concat instead.\n",
      "  Sat_data = Sat_data.append({\"Longitude\": longitude, \"Latitude\": latitude}, ignore_index=True)\n"
     ]
    },
    {
     "name": "stdout",
     "output_type": "stream",
     "text": [
      "Data received: {'message': 'success', 'timestamp': 1681490582, 'iss_position': {'longitude': '-117.9219', 'latitude': '44.9580'}}\n"
     ]
    },
    {
     "name": "stderr",
     "output_type": "stream",
     "text": [
      "C:\\Users\\13018\\AppData\\Local\\Temp\\ipykernel_16080\\2340310863.py:10: FutureWarning: The frame.append method is deprecated and will be removed from pandas in a future version. Use pandas.concat instead.\n",
      "  Sat_data = Sat_data.append({\"Longitude\": longitude, \"Latitude\": latitude}, ignore_index=True)\n"
     ]
    },
    {
     "name": "stdout",
     "output_type": "stream",
     "text": [
      "Data received: {'message': 'success', 'timestamp': 1681490587, 'iss_position': {'longitude': '-117.5406', 'latitude': '45.1125'}}\n"
     ]
    },
    {
     "name": "stderr",
     "output_type": "stream",
     "text": [
      "C:\\Users\\13018\\AppData\\Local\\Temp\\ipykernel_16080\\2340310863.py:10: FutureWarning: The frame.append method is deprecated and will be removed from pandas in a future version. Use pandas.concat instead.\n",
      "  Sat_data = Sat_data.append({\"Longitude\": longitude, \"Latitude\": latitude}, ignore_index=True)\n"
     ]
    },
    {
     "name": "stdout",
     "output_type": "stream",
     "text": [
      "Data received: {'message': 'success', 'timestamp': 1681490592, 'iss_position': {'longitude': '-117.1187', 'latitude': '45.2810'}}\n"
     ]
    },
    {
     "name": "stderr",
     "output_type": "stream",
     "text": [
      "C:\\Users\\13018\\AppData\\Local\\Temp\\ipykernel_16080\\2340310863.py:10: FutureWarning: The frame.append method is deprecated and will be removed from pandas in a future version. Use pandas.concat instead.\n",
      "  Sat_data = Sat_data.append({\"Longitude\": longitude, \"Latitude\": latitude}, ignore_index=True)\n"
     ]
    },
    {
     "name": "stdout",
     "output_type": "stream",
     "text": [
      "Data received: {'message': 'success', 'timestamp': 1681490597, 'iss_position': {'longitude': '-116.7327', 'latitude': '45.4326'}}\n"
     ]
    },
    {
     "name": "stderr",
     "output_type": "stream",
     "text": [
      "C:\\Users\\13018\\AppData\\Local\\Temp\\ipykernel_16080\\2340310863.py:10: FutureWarning: The frame.append method is deprecated and will be removed from pandas in a future version. Use pandas.concat instead.\n",
      "  Sat_data = Sat_data.append({\"Longitude\": longitude, \"Latitude\": latitude}, ignore_index=True)\n"
     ]
    },
    {
     "name": "stdout",
     "output_type": "stream",
     "text": [
      "Data received: {'message': 'success', 'timestamp': 1681490603, 'iss_position': {'longitude': '-116.3057', 'latitude': '45.5977'}}\n"
     ]
    },
    {
     "name": "stderr",
     "output_type": "stream",
     "text": [
      "C:\\Users\\13018\\AppData\\Local\\Temp\\ipykernel_16080\\2340310863.py:10: FutureWarning: The frame.append method is deprecated and will be removed from pandas in a future version. Use pandas.concat instead.\n",
      "  Sat_data = Sat_data.append({\"Longitude\": longitude, \"Latitude\": latitude}, ignore_index=True)\n"
     ]
    },
    {
     "name": "stdout",
     "output_type": "stream",
     "text": [
      "Data received: {'message': 'success', 'timestamp': 1681490608, 'iss_position': {'longitude': '-115.9151', 'latitude': '45.7462'}}\n"
     ]
    },
    {
     "name": "stderr",
     "output_type": "stream",
     "text": [
      "C:\\Users\\13018\\AppData\\Local\\Temp\\ipykernel_16080\\2340310863.py:10: FutureWarning: The frame.append method is deprecated and will be removed from pandas in a future version. Use pandas.concat instead.\n",
      "  Sat_data = Sat_data.append({\"Longitude\": longitude, \"Latitude\": latitude}, ignore_index=True)\n"
     ]
    },
    {
     "name": "stdout",
     "output_type": "stream",
     "text": [
      "Data received: {'message': 'success', 'timestamp': 1681490613, 'iss_position': {'longitude': '-115.5224', 'latitude': '45.8933'}}\n"
     ]
    },
    {
     "name": "stderr",
     "output_type": "stream",
     "text": [
      "C:\\Users\\13018\\AppData\\Local\\Temp\\ipykernel_16080\\2340310863.py:10: FutureWarning: The frame.append method is deprecated and will be removed from pandas in a future version. Use pandas.concat instead.\n",
      "  Sat_data = Sat_data.append({\"Longitude\": longitude, \"Latitude\": latitude}, ignore_index=True)\n"
     ]
    },
    {
     "name": "stdout",
     "output_type": "stream",
     "text": [
      "Data received: {'message': 'success', 'timestamp': 1681490618, 'iss_position': {'longitude': '-115.0879', 'latitude': '46.0533'}}\n"
     ]
    },
    {
     "name": "stderr",
     "output_type": "stream",
     "text": [
      "C:\\Users\\13018\\AppData\\Local\\Temp\\ipykernel_16080\\2340310863.py:10: FutureWarning: The frame.append method is deprecated and will be removed from pandas in a future version. Use pandas.concat instead.\n",
      "  Sat_data = Sat_data.append({\"Longitude\": longitude, \"Latitude\": latitude}, ignore_index=True)\n"
     ]
    },
    {
     "name": "stdout",
     "output_type": "stream",
     "text": [
      "Data received: {'message': 'success', 'timestamp': 1681490623, 'iss_position': {'longitude': '-114.6906', 'latitude': '46.1972'}}\n"
     ]
    },
    {
     "name": "stderr",
     "output_type": "stream",
     "text": [
      "C:\\Users\\13018\\AppData\\Local\\Temp\\ipykernel_16080\\2340310863.py:10: FutureWarning: The frame.append method is deprecated and will be removed from pandas in a future version. Use pandas.concat instead.\n",
      "  Sat_data = Sat_data.append({\"Longitude\": longitude, \"Latitude\": latitude}, ignore_index=True)\n"
     ]
    },
    {
     "name": "stdout",
     "output_type": "stream",
     "text": [
      "Data received: {'message': 'success', 'timestamp': 1681490628, 'iss_position': {'longitude': '-114.2910', 'latitude': '46.3396'}}\n"
     ]
    },
    {
     "name": "stderr",
     "output_type": "stream",
     "text": [
      "C:\\Users\\13018\\AppData\\Local\\Temp\\ipykernel_16080\\2340310863.py:10: FutureWarning: The frame.append method is deprecated and will be removed from pandas in a future version. Use pandas.concat instead.\n",
      "  Sat_data = Sat_data.append({\"Longitude\": longitude, \"Latitude\": latitude}, ignore_index=True)\n"
     ]
    },
    {
     "name": "stdout",
     "output_type": "stream",
     "text": [
      "Data received: {'message': 'success', 'timestamp': 1681490634, 'iss_position': {'longitude': '-113.8491', 'latitude': '46.4944'}}\n"
     ]
    },
    {
     "name": "stderr",
     "output_type": "stream",
     "text": [
      "C:\\Users\\13018\\AppData\\Local\\Temp\\ipykernel_16080\\2340310863.py:10: FutureWarning: The frame.append method is deprecated and will be removed from pandas in a future version. Use pandas.concat instead.\n",
      "  Sat_data = Sat_data.append({\"Longitude\": longitude, \"Latitude\": latitude}, ignore_index=True)\n"
     ]
    },
    {
     "name": "stdout",
     "output_type": "stream",
     "text": [
      "Data received: {'message': 'success', 'timestamp': 1681490639, 'iss_position': {'longitude': '-113.4450', 'latitude': '46.6335'}}\n"
     ]
    },
    {
     "name": "stderr",
     "output_type": "stream",
     "text": [
      "C:\\Users\\13018\\AppData\\Local\\Temp\\ipykernel_16080\\2340310863.py:10: FutureWarning: The frame.append method is deprecated and will be removed from pandas in a future version. Use pandas.concat instead.\n",
      "  Sat_data = Sat_data.append({\"Longitude\": longitude, \"Latitude\": latitude}, ignore_index=True)\n"
     ]
    },
    {
     "name": "stdout",
     "output_type": "stream",
     "text": [
      "Data received: {'message': 'success', 'timestamp': 1681490644, 'iss_position': {'longitude': '-112.9979', 'latitude': '46.7846'}}\n"
     ]
    },
    {
     "name": "stderr",
     "output_type": "stream",
     "text": [
      "C:\\Users\\13018\\AppData\\Local\\Temp\\ipykernel_16080\\2340310863.py:10: FutureWarning: The frame.append method is deprecated and will be removed from pandas in a future version. Use pandas.concat instead.\n",
      "  Sat_data = Sat_data.append({\"Longitude\": longitude, \"Latitude\": latitude}, ignore_index=True)\n"
     ]
    },
    {
     "name": "stdout",
     "output_type": "stream",
     "text": [
      "Data received: {'message': 'success', 'timestamp': 1681490649, 'iss_position': {'longitude': '-112.5892', 'latitude': '46.9204'}}\n"
     ]
    },
    {
     "name": "stderr",
     "output_type": "stream",
     "text": [
      "C:\\Users\\13018\\AppData\\Local\\Temp\\ipykernel_16080\\2340310863.py:10: FutureWarning: The frame.append method is deprecated and will be removed from pandas in a future version. Use pandas.concat instead.\n",
      "  Sat_data = Sat_data.append({\"Longitude\": longitude, \"Latitude\": latitude}, ignore_index=True)\n"
     ]
    },
    {
     "name": "stdout",
     "output_type": "stream",
     "text": [
      "Data received: {'message': 'success', 'timestamp': 1681490654, 'iss_position': {'longitude': '-112.1784', 'latitude': '47.0545'}}\n"
     ]
    },
    {
     "name": "stderr",
     "output_type": "stream",
     "text": [
      "C:\\Users\\13018\\AppData\\Local\\Temp\\ipykernel_16080\\2340310863.py:10: FutureWarning: The frame.append method is deprecated and will be removed from pandas in a future version. Use pandas.concat instead.\n",
      "  Sat_data = Sat_data.append({\"Longitude\": longitude, \"Latitude\": latitude}, ignore_index=True)\n"
     ]
    },
    {
     "name": "stdout",
     "output_type": "stream",
     "text": [
      "Data received: {'message': 'success', 'timestamp': 1681490660, 'iss_position': {'longitude': '-111.7238', 'latitude': '47.2002'}}\n"
     ]
    },
    {
     "name": "stderr",
     "output_type": "stream",
     "text": [
      "C:\\Users\\13018\\AppData\\Local\\Temp\\ipykernel_16080\\2340310863.py:10: FutureWarning: The frame.append method is deprecated and will be removed from pandas in a future version. Use pandas.concat instead.\n",
      "  Sat_data = Sat_data.append({\"Longitude\": longitude, \"Latitude\": latitude}, ignore_index=True)\n"
     ]
    },
    {
     "name": "stdout",
     "output_type": "stream",
     "text": [
      "Data received: {'message': 'success', 'timestamp': 1681490665, 'iss_position': {'longitude': '-111.3084', 'latitude': '47.3309'}}\n"
     ]
    },
    {
     "name": "stderr",
     "output_type": "stream",
     "text": [
      "C:\\Users\\13018\\AppData\\Local\\Temp\\ipykernel_16080\\2340310863.py:10: FutureWarning: The frame.append method is deprecated and will be removed from pandas in a future version. Use pandas.concat instead.\n",
      "  Sat_data = Sat_data.append({\"Longitude\": longitude, \"Latitude\": latitude}, ignore_index=True)\n"
     ]
    },
    {
     "name": "stdout",
     "output_type": "stream",
     "text": [
      "Data received: {'message': 'success', 'timestamp': 1681490671, 'iss_position': {'longitude': '-110.8489', 'latitude': '47.4727'}}\n"
     ]
    },
    {
     "name": "stderr",
     "output_type": "stream",
     "text": [
      "C:\\Users\\13018\\AppData\\Local\\Temp\\ipykernel_16080\\2340310863.py:10: FutureWarning: The frame.append method is deprecated and will be removed from pandas in a future version. Use pandas.concat instead.\n",
      "  Sat_data = Sat_data.append({\"Longitude\": longitude, \"Latitude\": latitude}, ignore_index=True)\n"
     ]
    },
    {
     "name": "stdout",
     "output_type": "stream",
     "text": [
      "Data received: {'message': 'success', 'timestamp': 1681490676, 'iss_position': {'longitude': '-110.4290', 'latitude': '47.5999'}}\n"
     ]
    },
    {
     "name": "stderr",
     "output_type": "stream",
     "text": [
      "C:\\Users\\13018\\AppData\\Local\\Temp\\ipykernel_16080\\2340310863.py:10: FutureWarning: The frame.append method is deprecated and will be removed from pandas in a future version. Use pandas.concat instead.\n",
      "  Sat_data = Sat_data.append({\"Longitude\": longitude, \"Latitude\": latitude}, ignore_index=True)\n"
     ]
    },
    {
     "name": "stdout",
     "output_type": "stream",
     "text": [
      "Data received: {'message': 'success', 'timestamp': 1681490681, 'iss_position': {'longitude': '-109.9646', 'latitude': '47.7378'}}\n"
     ]
    },
    {
     "name": "stderr",
     "output_type": "stream",
     "text": [
      "C:\\Users\\13018\\AppData\\Local\\Temp\\ipykernel_16080\\2340310863.py:10: FutureWarning: The frame.append method is deprecated and will be removed from pandas in a future version. Use pandas.concat instead.\n",
      "  Sat_data = Sat_data.append({\"Longitude\": longitude, \"Latitude\": latitude}, ignore_index=True)\n"
     ]
    },
    {
     "name": "stdout",
     "output_type": "stream",
     "text": [
      "Data received: {'message': 'success', 'timestamp': 1681490686, 'iss_position': {'longitude': '-109.5401', 'latitude': '47.8614'}}\n"
     ]
    },
    {
     "name": "stderr",
     "output_type": "stream",
     "text": [
      "C:\\Users\\13018\\AppData\\Local\\Temp\\ipykernel_16080\\2340310863.py:10: FutureWarning: The frame.append method is deprecated and will be removed from pandas in a future version. Use pandas.concat instead.\n",
      "  Sat_data = Sat_data.append({\"Longitude\": longitude, \"Latitude\": latitude}, ignore_index=True)\n"
     ]
    },
    {
     "name": "stdout",
     "output_type": "stream",
     "text": [
      "Data received: {'message': 'success', 'timestamp': 1681490691, 'iss_position': {'longitude': '-109.1136', 'latitude': '47.9833'}}\n"
     ]
    },
    {
     "name": "stderr",
     "output_type": "stream",
     "text": [
      "C:\\Users\\13018\\AppData\\Local\\Temp\\ipykernel_16080\\2340310863.py:10: FutureWarning: The frame.append method is deprecated and will be removed from pandas in a future version. Use pandas.concat instead.\n",
      "  Sat_data = Sat_data.append({\"Longitude\": longitude, \"Latitude\": latitude}, ignore_index=True)\n"
     ]
    },
    {
     "name": "stdout",
     "output_type": "stream",
     "text": [
      "Data received: {'message': 'success', 'timestamp': 1681490697, 'iss_position': {'longitude': '-108.6420', 'latitude': '48.1153'}}\n"
     ]
    },
    {
     "name": "stderr",
     "output_type": "stream",
     "text": [
      "C:\\Users\\13018\\AppData\\Local\\Temp\\ipykernel_16080\\2340310863.py:10: FutureWarning: The frame.append method is deprecated and will be removed from pandas in a future version. Use pandas.concat instead.\n",
      "  Sat_data = Sat_data.append({\"Longitude\": longitude, \"Latitude\": latitude}, ignore_index=True)\n"
     ]
    },
    {
     "name": "stdout",
     "output_type": "stream",
     "text": [
      "Data received: {'message': 'success', 'timestamp': 1681490702, 'iss_position': {'longitude': '-108.2109', 'latitude': '48.2335'}}\n"
     ]
    },
    {
     "name": "stderr",
     "output_type": "stream",
     "text": [
      "C:\\Users\\13018\\AppData\\Local\\Temp\\ipykernel_16080\\2340310863.py:10: FutureWarning: The frame.append method is deprecated and will be removed from pandas in a future version. Use pandas.concat instead.\n",
      "  Sat_data = Sat_data.append({\"Longitude\": longitude, \"Latitude\": latitude}, ignore_index=True)\n"
     ]
    },
    {
     "name": "stdout",
     "output_type": "stream",
     "text": [
      "Data received: {'message': 'success', 'timestamp': 1681490707, 'iss_position': {'longitude': '-107.7345', 'latitude': '48.3614'}}\n"
     ]
    },
    {
     "name": "stderr",
     "output_type": "stream",
     "text": [
      "C:\\Users\\13018\\AppData\\Local\\Temp\\ipykernel_16080\\2340310863.py:10: FutureWarning: The frame.append method is deprecated and will be removed from pandas in a future version. Use pandas.concat instead.\n",
      "  Sat_data = Sat_data.append({\"Longitude\": longitude, \"Latitude\": latitude}, ignore_index=True)\n"
     ]
    },
    {
     "name": "stdout",
     "output_type": "stream",
     "text": [
      "Data received: {'message': 'success', 'timestamp': 1681490712, 'iss_position': {'longitude': '-107.2992', 'latitude': '48.4758'}}\n"
     ]
    },
    {
     "name": "stderr",
     "output_type": "stream",
     "text": [
      "C:\\Users\\13018\\AppData\\Local\\Temp\\ipykernel_16080\\2340310863.py:10: FutureWarning: The frame.append method is deprecated and will be removed from pandas in a future version. Use pandas.concat instead.\n",
      "  Sat_data = Sat_data.append({\"Longitude\": longitude, \"Latitude\": latitude}, ignore_index=True)\n"
     ]
    },
    {
     "name": "stdout",
     "output_type": "stream",
     "text": [
      "Data received: {'message': 'success', 'timestamp': 1681490717, 'iss_position': {'longitude': '-106.8618', 'latitude': '48.5884'}}\n"
     ]
    },
    {
     "name": "stderr",
     "output_type": "stream",
     "text": [
      "C:\\Users\\13018\\AppData\\Local\\Temp\\ipykernel_16080\\2340310863.py:10: FutureWarning: The frame.append method is deprecated and will be removed from pandas in a future version. Use pandas.concat instead.\n",
      "  Sat_data = Sat_data.append({\"Longitude\": longitude, \"Latitude\": latitude}, ignore_index=True)\n"
     ]
    },
    {
     "name": "stdout",
     "output_type": "stream",
     "text": [
      "Data received: {'message': 'success', 'timestamp': 1681490723, 'iss_position': {'longitude': '-106.3784', 'latitude': '48.7101'}}\n"
     ]
    },
    {
     "name": "stderr",
     "output_type": "stream",
     "text": [
      "C:\\Users\\13018\\AppData\\Local\\Temp\\ipykernel_16080\\2340310863.py:10: FutureWarning: The frame.append method is deprecated and will be removed from pandas in a future version. Use pandas.concat instead.\n",
      "  Sat_data = Sat_data.append({\"Longitude\": longitude, \"Latitude\": latitude}, ignore_index=True)\n"
     ]
    },
    {
     "name": "stdout",
     "output_type": "stream",
     "text": [
      "Data received: {'message': 'success', 'timestamp': 1681490728, 'iss_position': {'longitude': '-105.9368', 'latitude': '48.8189'}}\n"
     ]
    },
    {
     "name": "stderr",
     "output_type": "stream",
     "text": [
      "C:\\Users\\13018\\AppData\\Local\\Temp\\ipykernel_16080\\2340310863.py:10: FutureWarning: The frame.append method is deprecated and will be removed from pandas in a future version. Use pandas.concat instead.\n",
      "  Sat_data = Sat_data.append({\"Longitude\": longitude, \"Latitude\": latitude}, ignore_index=True)\n"
     ]
    },
    {
     "name": "stdout",
     "output_type": "stream",
     "text": [
      "Data received: {'message': 'success', 'timestamp': 1681490733, 'iss_position': {'longitude': '-105.4488', 'latitude': '48.9363'}}\n"
     ]
    },
    {
     "name": "stderr",
     "output_type": "stream",
     "text": [
      "C:\\Users\\13018\\AppData\\Local\\Temp\\ipykernel_16080\\2340310863.py:10: FutureWarning: The frame.append method is deprecated and will be removed from pandas in a future version. Use pandas.concat instead.\n",
      "  Sat_data = Sat_data.append({\"Longitude\": longitude, \"Latitude\": latitude}, ignore_index=True)\n"
     ]
    },
    {
     "name": "stdout",
     "output_type": "stream",
     "text": [
      "Data received: {'message': 'success', 'timestamp': 1681490738, 'iss_position': {'longitude': '-105.0030', 'latitude': '49.0412'}}\n"
     ]
    },
    {
     "name": "stderr",
     "output_type": "stream",
     "text": [
      "C:\\Users\\13018\\AppData\\Local\\Temp\\ipykernel_16080\\2340310863.py:10: FutureWarning: The frame.append method is deprecated and will be removed from pandas in a future version. Use pandas.concat instead.\n",
      "  Sat_data = Sat_data.append({\"Longitude\": longitude, \"Latitude\": latitude}, ignore_index=True)\n"
     ]
    },
    {
     "name": "stdout",
     "output_type": "stream",
     "text": [
      "Data received: {'message': 'success', 'timestamp': 1681490743, 'iss_position': {'longitude': '-104.5553', 'latitude': '49.1441'}}\n"
     ]
    },
    {
     "name": "stderr",
     "output_type": "stream",
     "text": [
      "C:\\Users\\13018\\AppData\\Local\\Temp\\ipykernel_16080\\2340310863.py:10: FutureWarning: The frame.append method is deprecated and will be removed from pandas in a future version. Use pandas.concat instead.\n",
      "  Sat_data = Sat_data.append({\"Longitude\": longitude, \"Latitude\": latitude}, ignore_index=True)\n"
     ]
    },
    {
     "name": "stdout",
     "output_type": "stream",
     "text": [
      "Data received: {'message': 'success', 'timestamp': 1681490749, 'iss_position': {'longitude': '-104.0605', 'latitude': '49.2551'}}\n"
     ]
    },
    {
     "name": "stderr",
     "output_type": "stream",
     "text": [
      "C:\\Users\\13018\\AppData\\Local\\Temp\\ipykernel_16080\\2340310863.py:10: FutureWarning: The frame.append method is deprecated and will be removed from pandas in a future version. Use pandas.concat instead.\n",
      "  Sat_data = Sat_data.append({\"Longitude\": longitude, \"Latitude\": latitude}, ignore_index=True)\n"
     ]
    },
    {
     "name": "stdout",
     "output_type": "stream",
     "text": [
      "Data received: {'message': 'success', 'timestamp': 1681490754, 'iss_position': {'longitude': '-103.6087', 'latitude': '49.3540'}}\n"
     ]
    },
    {
     "name": "stderr",
     "output_type": "stream",
     "text": [
      "C:\\Users\\13018\\AppData\\Local\\Temp\\ipykernel_16080\\2340310863.py:10: FutureWarning: The frame.append method is deprecated and will be removed from pandas in a future version. Use pandas.concat instead.\n",
      "  Sat_data = Sat_data.append({\"Longitude\": longitude, \"Latitude\": latitude}, ignore_index=True)\n"
     ]
    },
    {
     "name": "stdout",
     "output_type": "stream",
     "text": [
      "Data received: {'message': 'success', 'timestamp': 1681490759, 'iss_position': {'longitude': '-103.1096', 'latitude': '49.4606'}}\n"
     ]
    },
    {
     "name": "stderr",
     "output_type": "stream",
     "text": [
      "C:\\Users\\13018\\AppData\\Local\\Temp\\ipykernel_16080\\2340310863.py:10: FutureWarning: The frame.append method is deprecated and will be removed from pandas in a future version. Use pandas.concat instead.\n",
      "  Sat_data = Sat_data.append({\"Longitude\": longitude, \"Latitude\": latitude}, ignore_index=True)\n"
     ]
    },
    {
     "name": "stdout",
     "output_type": "stream",
     "text": [
      "Data received: {'message': 'success', 'timestamp': 1681490764, 'iss_position': {'longitude': '-102.6539', 'latitude': '49.5554'}}\n"
     ]
    },
    {
     "name": "stderr",
     "output_type": "stream",
     "text": [
      "C:\\Users\\13018\\AppData\\Local\\Temp\\ipykernel_16080\\2340310863.py:10: FutureWarning: The frame.append method is deprecated and will be removed from pandas in a future version. Use pandas.concat instead.\n",
      "  Sat_data = Sat_data.append({\"Longitude\": longitude, \"Latitude\": latitude}, ignore_index=True)\n"
     ]
    },
    {
     "name": "stdout",
     "output_type": "stream",
     "text": [
      "Data received: {'message': 'success', 'timestamp': 1681490769, 'iss_position': {'longitude': '-102.1964', 'latitude': '49.6482'}}\n"
     ]
    },
    {
     "name": "stderr",
     "output_type": "stream",
     "text": [
      "C:\\Users\\13018\\AppData\\Local\\Temp\\ipykernel_16080\\2340310863.py:10: FutureWarning: The frame.append method is deprecated and will be removed from pandas in a future version. Use pandas.concat instead.\n",
      "  Sat_data = Sat_data.append({\"Longitude\": longitude, \"Latitude\": latitude}, ignore_index=True)\n"
     ]
    },
    {
     "name": "stdout",
     "output_type": "stream",
     "text": [
      "Data received: {'message': 'success', 'timestamp': 1681490775, 'iss_position': {'longitude': '-101.6909', 'latitude': '49.7481'}}\n"
     ]
    },
    {
     "name": "stderr",
     "output_type": "stream",
     "text": [
      "C:\\Users\\13018\\AppData\\Local\\Temp\\ipykernel_16080\\2340310863.py:10: FutureWarning: The frame.append method is deprecated and will be removed from pandas in a future version. Use pandas.concat instead.\n",
      "  Sat_data = Sat_data.append({\"Longitude\": longitude, \"Latitude\": latitude}, ignore_index=True)\n"
     ]
    },
    {
     "name": "stdout",
     "output_type": "stream",
     "text": [
      "Data received: {'message': 'success', 'timestamp': 1681490780, 'iss_position': {'longitude': '-101.2295', 'latitude': '49.8368'}}\n"
     ]
    },
    {
     "name": "stderr",
     "output_type": "stream",
     "text": [
      "C:\\Users\\13018\\AppData\\Local\\Temp\\ipykernel_16080\\2340310863.py:10: FutureWarning: The frame.append method is deprecated and will be removed from pandas in a future version. Use pandas.concat instead.\n",
      "  Sat_data = Sat_data.append({\"Longitude\": longitude, \"Latitude\": latitude}, ignore_index=True)\n"
     ]
    },
    {
     "name": "stdout",
     "output_type": "stream",
     "text": [
      "Data received: {'message': 'success', 'timestamp': 1681490785, 'iss_position': {'longitude': '-100.7200', 'latitude': '49.9320'}}\n"
     ]
    },
    {
     "name": "stderr",
     "output_type": "stream",
     "text": [
      "C:\\Users\\13018\\AppData\\Local\\Temp\\ipykernel_16080\\2340310863.py:10: FutureWarning: The frame.append method is deprecated and will be removed from pandas in a future version. Use pandas.concat instead.\n",
      "  Sat_data = Sat_data.append({\"Longitude\": longitude, \"Latitude\": latitude}, ignore_index=True)\n"
     ]
    },
    {
     "name": "stdout",
     "output_type": "stream",
     "text": [
      "Data received: {'message': 'success', 'timestamp': 1681490790, 'iss_position': {'longitude': '-100.2550', 'latitude': '50.0165'}}\n"
     ]
    },
    {
     "name": "stderr",
     "output_type": "stream",
     "text": [
      "C:\\Users\\13018\\AppData\\Local\\Temp\\ipykernel_16080\\2340310863.py:10: FutureWarning: The frame.append method is deprecated and will be removed from pandas in a future version. Use pandas.concat instead.\n",
      "  Sat_data = Sat_data.append({\"Longitude\": longitude, \"Latitude\": latitude}, ignore_index=True)\n"
     ]
    },
    {
     "name": "stdout",
     "output_type": "stream",
     "text": [
      "Data received: {'message': 'success', 'timestamp': 1681490795, 'iss_position': {'longitude': '-99.7882', 'latitude': '50.0989'}}\n"
     ]
    },
    {
     "name": "stderr",
     "output_type": "stream",
     "text": [
      "C:\\Users\\13018\\AppData\\Local\\Temp\\ipykernel_16080\\2340310863.py:10: FutureWarning: The frame.append method is deprecated and will be removed from pandas in a future version. Use pandas.concat instead.\n",
      "  Sat_data = Sat_data.append({\"Longitude\": longitude, \"Latitude\": latitude}, ignore_index=True)\n"
     ]
    },
    {
     "name": "stdout",
     "output_type": "stream",
     "text": [
      "Data received: {'message': 'success', 'timestamp': 1681490801, 'iss_position': {'longitude': '-99.2729', 'latitude': '50.1872'}}\n"
     ]
    },
    {
     "name": "stderr",
     "output_type": "stream",
     "text": [
      "C:\\Users\\13018\\AppData\\Local\\Temp\\ipykernel_16080\\2340310863.py:10: FutureWarning: The frame.append method is deprecated and will be removed from pandas in a future version. Use pandas.concat instead.\n",
      "  Sat_data = Sat_data.append({\"Longitude\": longitude, \"Latitude\": latitude}, ignore_index=True)\n"
     ]
    },
    {
     "name": "stdout",
     "output_type": "stream",
     "text": [
      "Data received: {'message': 'success', 'timestamp': 1681490806, 'iss_position': {'longitude': '-98.8028', 'latitude': '50.2652'}}\n"
     ]
    },
    {
     "name": "stderr",
     "output_type": "stream",
     "text": [
      "C:\\Users\\13018\\AppData\\Local\\Temp\\ipykernel_16080\\2340310863.py:10: FutureWarning: The frame.append method is deprecated and will be removed from pandas in a future version. Use pandas.concat instead.\n",
      "  Sat_data = Sat_data.append({\"Longitude\": longitude, \"Latitude\": latitude}, ignore_index=True)\n"
     ]
    },
    {
     "name": "stdout",
     "output_type": "stream",
     "text": [
      "Data received: {'message': 'success', 'timestamp': 1681490811, 'iss_position': {'longitude': '-98.2837', 'latitude': '50.3487'}}\n"
     ]
    },
    {
     "name": "stderr",
     "output_type": "stream",
     "text": [
      "C:\\Users\\13018\\AppData\\Local\\Temp\\ipykernel_16080\\2340310863.py:10: FutureWarning: The frame.append method is deprecated and will be removed from pandas in a future version. Use pandas.concat instead.\n",
      "  Sat_data = Sat_data.append({\"Longitude\": longitude, \"Latitude\": latitude}, ignore_index=True)\n"
     ]
    },
    {
     "name": "stdout",
     "output_type": "stream",
     "text": [
      "Data received: {'message': 'success', 'timestamp': 1681490816, 'iss_position': {'longitude': '-97.8102', 'latitude': '50.4224'}}\n"
     ]
    },
    {
     "name": "stderr",
     "output_type": "stream",
     "text": [
      "C:\\Users\\13018\\AppData\\Local\\Temp\\ipykernel_16080\\2340310863.py:10: FutureWarning: The frame.append method is deprecated and will be removed from pandas in a future version. Use pandas.concat instead.\n",
      "  Sat_data = Sat_data.append({\"Longitude\": longitude, \"Latitude\": latitude}, ignore_index=True)\n"
     ]
    },
    {
     "name": "stdout",
     "output_type": "stream",
     "text": [
      "Data received: {'message': 'success', 'timestamp': 1681490821, 'iss_position': {'longitude': '-97.3352', 'latitude': '50.4940'}}\n"
     ]
    },
    {
     "name": "stderr",
     "output_type": "stream",
     "text": [
      "C:\\Users\\13018\\AppData\\Local\\Temp\\ipykernel_16080\\2340310863.py:10: FutureWarning: The frame.append method is deprecated and will be removed from pandas in a future version. Use pandas.concat instead.\n",
      "  Sat_data = Sat_data.append({\"Longitude\": longitude, \"Latitude\": latitude}, ignore_index=True)\n"
     ]
    },
    {
     "name": "stdout",
     "output_type": "stream",
     "text": [
      "Data received: {'message': 'success', 'timestamp': 1681490827, 'iss_position': {'longitude': '-96.8110', 'latitude': '50.5704'}}\n"
     ]
    },
    {
     "name": "stderr",
     "output_type": "stream",
     "text": [
      "C:\\Users\\13018\\AppData\\Local\\Temp\\ipykernel_16080\\2340310863.py:10: FutureWarning: The frame.append method is deprecated and will be removed from pandas in a future version. Use pandas.concat instead.\n",
      "  Sat_data = Sat_data.append({\"Longitude\": longitude, \"Latitude\": latitude}, ignore_index=True)\n"
     ]
    },
    {
     "name": "stdout",
     "output_type": "stream",
     "text": [
      "Data received: {'message': 'success', 'timestamp': 1681490832, 'iss_position': {'longitude': '-96.3330', 'latitude': '50.6375'}}\n"
     ]
    },
    {
     "name": "stderr",
     "output_type": "stream",
     "text": [
      "C:\\Users\\13018\\AppData\\Local\\Temp\\ipykernel_16080\\2340310863.py:10: FutureWarning: The frame.append method is deprecated and will be removed from pandas in a future version. Use pandas.concat instead.\n",
      "  Sat_data = Sat_data.append({\"Longitude\": longitude, \"Latitude\": latitude}, ignore_index=True)\n"
     ]
    },
    {
     "name": "stdout",
     "output_type": "stream",
     "text": [
      "Data received: {'message': 'success', 'timestamp': 1681490837, 'iss_position': {'longitude': '-95.8054', 'latitude': '50.7089'}}\n"
     ]
    },
    {
     "name": "stderr",
     "output_type": "stream",
     "text": [
      "C:\\Users\\13018\\AppData\\Local\\Temp\\ipykernel_16080\\2340310863.py:10: FutureWarning: The frame.append method is deprecated and will be removed from pandas in a future version. Use pandas.concat instead.\n",
      "  Sat_data = Sat_data.append({\"Longitude\": longitude, \"Latitude\": latitude}, ignore_index=True)\n"
     ]
    },
    {
     "name": "stdout",
     "output_type": "stream",
     "text": [
      "Data received: {'message': 'success', 'timestamp': 1681490842, 'iss_position': {'longitude': '-95.3244', 'latitude': '50.7716'}}\n"
     ]
    },
    {
     "name": "stderr",
     "output_type": "stream",
     "text": [
      "C:\\Users\\13018\\AppData\\Local\\Temp\\ipykernel_16080\\2340310863.py:10: FutureWarning: The frame.append method is deprecated and will be removed from pandas in a future version. Use pandas.concat instead.\n",
      "  Sat_data = Sat_data.append({\"Longitude\": longitude, \"Latitude\": latitude}, ignore_index=True)\n"
     ]
    },
    {
     "name": "stdout",
     "output_type": "stream",
     "text": [
      "Data received: {'message': 'success', 'timestamp': 1681490847, 'iss_position': {'longitude': '-94.8421', 'latitude': '50.8320'}}\n"
     ]
    },
    {
     "name": "stderr",
     "output_type": "stream",
     "text": [
      "C:\\Users\\13018\\AppData\\Local\\Temp\\ipykernel_16080\\2340310863.py:10: FutureWarning: The frame.append method is deprecated and will be removed from pandas in a future version. Use pandas.concat instead.\n",
      "  Sat_data = Sat_data.append({\"Longitude\": longitude, \"Latitude\": latitude}, ignore_index=True)\n"
     ]
    },
    {
     "name": "stdout",
     "output_type": "stream",
     "text": [
      "Data received: {'message': 'success', 'timestamp': 1681490853, 'iss_position': {'longitude': '-94.3102', 'latitude': '50.8960'}}\n"
     ]
    },
    {
     "name": "stderr",
     "output_type": "stream",
     "text": [
      "C:\\Users\\13018\\AppData\\Local\\Temp\\ipykernel_16080\\2340310863.py:10: FutureWarning: The frame.append method is deprecated and will be removed from pandas in a future version. Use pandas.concat instead.\n",
      "  Sat_data = Sat_data.append({\"Longitude\": longitude, \"Latitude\": latitude}, ignore_index=True)\n"
     ]
    },
    {
     "name": "stdout",
     "output_type": "stream",
     "text": [
      "Data received: {'message': 'success', 'timestamp': 1681490858, 'iss_position': {'longitude': '-93.8252', 'latitude': '50.9520'}}\n"
     ]
    },
    {
     "name": "stderr",
     "output_type": "stream",
     "text": [
      "C:\\Users\\13018\\AppData\\Local\\Temp\\ipykernel_16080\\2340310863.py:10: FutureWarning: The frame.append method is deprecated and will be removed from pandas in a future version. Use pandas.concat instead.\n",
      "  Sat_data = Sat_data.append({\"Longitude\": longitude, \"Latitude\": latitude}, ignore_index=True)\n"
     ]
    },
    {
     "name": "stdout",
     "output_type": "stream",
     "text": [
      "Data received: {'message': 'success', 'timestamp': 1681490863, 'iss_position': {'longitude': '-93.2903', 'latitude': '51.0109'}}\n"
     ]
    },
    {
     "name": "stderr",
     "output_type": "stream",
     "text": [
      "C:\\Users\\13018\\AppData\\Local\\Temp\\ipykernel_16080\\2340310863.py:10: FutureWarning: The frame.append method is deprecated and will be removed from pandas in a future version. Use pandas.concat instead.\n",
      "  Sat_data = Sat_data.append({\"Longitude\": longitude, \"Latitude\": latitude}, ignore_index=True)\n"
     ]
    },
    {
     "name": "stdout",
     "output_type": "stream",
     "text": [
      "Data received: {'message': 'success', 'timestamp': 1681490868, 'iss_position': {'longitude': '-92.8029', 'latitude': '51.0622'}}\n"
     ]
    },
    {
     "name": "stderr",
     "output_type": "stream",
     "text": [
      "C:\\Users\\13018\\AppData\\Local\\Temp\\ipykernel_16080\\2340310863.py:10: FutureWarning: The frame.append method is deprecated and will be removed from pandas in a future version. Use pandas.concat instead.\n",
      "  Sat_data = Sat_data.append({\"Longitude\": longitude, \"Latitude\": latitude}, ignore_index=True)\n"
     ]
    },
    {
     "name": "stdout",
     "output_type": "stream",
     "text": [
      "Data received: {'message': 'success', 'timestamp': 1681490873, 'iss_position': {'longitude': '-92.3143', 'latitude': '51.1113'}}\n"
     ]
    },
    {
     "name": "stderr",
     "output_type": "stream",
     "text": [
      "C:\\Users\\13018\\AppData\\Local\\Temp\\ipykernel_16080\\2340310863.py:10: FutureWarning: The frame.append method is deprecated and will be removed from pandas in a future version. Use pandas.concat instead.\n",
      "  Sat_data = Sat_data.append({\"Longitude\": longitude, \"Latitude\": latitude}, ignore_index=True)\n"
     ]
    },
    {
     "name": "stdout",
     "output_type": "stream",
     "text": [
      "Data received: {'message': 'success', 'timestamp': 1681490879, 'iss_position': {'longitude': '-91.7756', 'latitude': '51.1627'}}\n"
     ]
    },
    {
     "name": "stderr",
     "output_type": "stream",
     "text": [
      "C:\\Users\\13018\\AppData\\Local\\Temp\\ipykernel_16080\\2340310863.py:10: FutureWarning: The frame.append method is deprecated and will be removed from pandas in a future version. Use pandas.concat instead.\n",
      "  Sat_data = Sat_data.append({\"Longitude\": longitude, \"Latitude\": latitude}, ignore_index=True)\n"
     ]
    },
    {
     "name": "stdout",
     "output_type": "stream",
     "text": [
      "Data received: {'message': 'success', 'timestamp': 1681490884, 'iss_position': {'longitude': '-91.2849', 'latitude': '51.2071'}}\n"
     ]
    },
    {
     "name": "stderr",
     "output_type": "stream",
     "text": [
      "C:\\Users\\13018\\AppData\\Local\\Temp\\ipykernel_16080\\2340310863.py:10: FutureWarning: The frame.append method is deprecated and will be removed from pandas in a future version. Use pandas.concat instead.\n",
      "  Sat_data = Sat_data.append({\"Longitude\": longitude, \"Latitude\": latitude}, ignore_index=True)\n"
     ]
    },
    {
     "name": "stdout",
     "output_type": "stream",
     "text": [
      "Data received: {'message': 'success', 'timestamp': 1681490889, 'iss_position': {'longitude': '-90.7439', 'latitude': '51.2534'}}\n"
     ]
    },
    {
     "name": "stderr",
     "output_type": "stream",
     "text": [
      "C:\\Users\\13018\\AppData\\Local\\Temp\\ipykernel_16080\\2340310863.py:10: FutureWarning: The frame.append method is deprecated and will be removed from pandas in a future version. Use pandas.concat instead.\n",
      "  Sat_data = Sat_data.append({\"Longitude\": longitude, \"Latitude\": latitude}, ignore_index=True)\n"
     ]
    },
    {
     "name": "stdout",
     "output_type": "stream",
     "text": [
      "Data received: {'message': 'success', 'timestamp': 1681490894, 'iss_position': {'longitude': '-90.2513', 'latitude': '51.2931'}}\n"
     ]
    },
    {
     "name": "stderr",
     "output_type": "stream",
     "text": [
      "C:\\Users\\13018\\AppData\\Local\\Temp\\ipykernel_16080\\2340310863.py:10: FutureWarning: The frame.append method is deprecated and will be removed from pandas in a future version. Use pandas.concat instead.\n",
      "  Sat_data = Sat_data.append({\"Longitude\": longitude, \"Latitude\": latitude}, ignore_index=True)\n"
     ]
    },
    {
     "name": "stdout",
     "output_type": "stream",
     "text": [
      "Data received: {'message': 'success', 'timestamp': 1681490899, 'iss_position': {'longitude': '-89.7577', 'latitude': '51.3306'}}\n"
     ]
    },
    {
     "name": "stderr",
     "output_type": "stream",
     "text": [
      "C:\\Users\\13018\\AppData\\Local\\Temp\\ipykernel_16080\\2340310863.py:10: FutureWarning: The frame.append method is deprecated and will be removed from pandas in a future version. Use pandas.concat instead.\n",
      "  Sat_data = Sat_data.append({\"Longitude\": longitude, \"Latitude\": latitude}, ignore_index=True)\n"
     ]
    },
    {
     "name": "stdout",
     "output_type": "stream",
     "text": [
      "Data received: {'message': 'success', 'timestamp': 1681490905, 'iss_position': {'longitude': '-89.2138', 'latitude': '51.3691'}}\n"
     ]
    },
    {
     "name": "stderr",
     "output_type": "stream",
     "text": [
      "C:\\Users\\13018\\AppData\\Local\\Temp\\ipykernel_16080\\2340310863.py:10: FutureWarning: The frame.append method is deprecated and will be removed from pandas in a future version. Use pandas.concat instead.\n",
      "  Sat_data = Sat_data.append({\"Longitude\": longitude, \"Latitude\": latitude}, ignore_index=True)\n"
     ]
    },
    {
     "name": "stdout",
     "output_type": "stream",
     "text": [
      "Data received: {'message': 'success', 'timestamp': 1681490910, 'iss_position': {'longitude': '-88.7186', 'latitude': '51.4018'}}\n"
     ]
    },
    {
     "name": "stderr",
     "output_type": "stream",
     "text": [
      "C:\\Users\\13018\\AppData\\Local\\Temp\\ipykernel_16080\\2340310863.py:10: FutureWarning: The frame.append method is deprecated and will be removed from pandas in a future version. Use pandas.concat instead.\n",
      "  Sat_data = Sat_data.append({\"Longitude\": longitude, \"Latitude\": latitude}, ignore_index=True)\n"
     ]
    },
    {
     "name": "stdout",
     "output_type": "stream",
     "text": [
      "Data received: {'message': 'success', 'timestamp': 1681490915, 'iss_position': {'longitude': '-88.1730', 'latitude': '51.4352'}}\n"
     ]
    },
    {
     "name": "stderr",
     "output_type": "stream",
     "text": [
      "C:\\Users\\13018\\AppData\\Local\\Temp\\ipykernel_16080\\2340310863.py:10: FutureWarning: The frame.append method is deprecated and will be removed from pandas in a future version. Use pandas.concat instead.\n",
      "  Sat_data = Sat_data.append({\"Longitude\": longitude, \"Latitude\": latitude}, ignore_index=True)\n"
     ]
    },
    {
     "name": "stdout",
     "output_type": "stream",
     "text": [
      "Data received: {'message': 'success', 'timestamp': 1681490920, 'iss_position': {'longitude': '-87.6763', 'latitude': '51.4631'}}\n"
     ]
    },
    {
     "name": "stderr",
     "output_type": "stream",
     "text": [
      "C:\\Users\\13018\\AppData\\Local\\Temp\\ipykernel_16080\\2340310863.py:10: FutureWarning: The frame.append method is deprecated and will be removed from pandas in a future version. Use pandas.concat instead.\n",
      "  Sat_data = Sat_data.append({\"Longitude\": longitude, \"Latitude\": latitude}, ignore_index=True)\n"
     ]
    },
    {
     "name": "stdout",
     "output_type": "stream",
     "text": [
      "Data received: {'message': 'success', 'timestamp': 1681490925, 'iss_position': {'longitude': '-87.1790', 'latitude': '51.4887'}}\n"
     ]
    },
    {
     "name": "stderr",
     "output_type": "stream",
     "text": [
      "C:\\Users\\13018\\AppData\\Local\\Temp\\ipykernel_16080\\2340310863.py:10: FutureWarning: The frame.append method is deprecated and will be removed from pandas in a future version. Use pandas.concat instead.\n",
      "  Sat_data = Sat_data.append({\"Longitude\": longitude, \"Latitude\": latitude}, ignore_index=True)\n"
     ]
    },
    {
     "name": "stdout",
     "output_type": "stream",
     "text": [
      "Data received: {'message': 'success', 'timestamp': 1681490931, 'iss_position': {'longitude': '-86.6313', 'latitude': '51.5143'}}\n"
     ]
    },
    {
     "name": "stderr",
     "output_type": "stream",
     "text": [
      "C:\\Users\\13018\\AppData\\Local\\Temp\\ipykernel_16080\\2340310863.py:10: FutureWarning: The frame.append method is deprecated and will be removed from pandas in a future version. Use pandas.concat instead.\n",
      "  Sat_data = Sat_data.append({\"Longitude\": longitude, \"Latitude\": latitude}, ignore_index=True)\n"
     ]
    },
    {
     "name": "stdout",
     "output_type": "stream",
     "text": [
      "Data received: {'message': 'success', 'timestamp': 1681490936, 'iss_position': {'longitude': '-86.1329', 'latitude': '51.5351'}}\n"
     ]
    },
    {
     "name": "stderr",
     "output_type": "stream",
     "text": [
      "C:\\Users\\13018\\AppData\\Local\\Temp\\ipykernel_16080\\2340310863.py:10: FutureWarning: The frame.append method is deprecated and will be removed from pandas in a future version. Use pandas.concat instead.\n",
      "  Sat_data = Sat_data.append({\"Longitude\": longitude, \"Latitude\": latitude}, ignore_index=True)\n"
     ]
    },
    {
     "name": "stdout",
     "output_type": "stream",
     "text": [
      "Data received: {'message': 'success', 'timestamp': 1681490941, 'iss_position': {'longitude': '-85.6341', 'latitude': '51.5536'}}\n"
     ]
    },
    {
     "name": "stderr",
     "output_type": "stream",
     "text": [
      "C:\\Users\\13018\\AppData\\Local\\Temp\\ipykernel_16080\\2340310863.py:10: FutureWarning: The frame.append method is deprecated and will be removed from pandas in a future version. Use pandas.concat instead.\n",
      "  Sat_data = Sat_data.append({\"Longitude\": longitude, \"Latitude\": latitude}, ignore_index=True)\n"
     ]
    },
    {
     "name": "stdout",
     "output_type": "stream",
     "text": [
      "Data received: {'message': 'success', 'timestamp': 1681490946, 'iss_position': {'longitude': '-85.0849', 'latitude': '51.5713'}}\n"
     ]
    },
    {
     "name": "stderr",
     "output_type": "stream",
     "text": [
      "C:\\Users\\13018\\AppData\\Local\\Temp\\ipykernel_16080\\2340310863.py:10: FutureWarning: The frame.append method is deprecated and will be removed from pandas in a future version. Use pandas.concat instead.\n",
      "  Sat_data = Sat_data.append({\"Longitude\": longitude, \"Latitude\": latitude}, ignore_index=True)\n"
     ]
    },
    {
     "name": "stdout",
     "output_type": "stream",
     "text": [
      "Data received: {'message': 'success', 'timestamp': 1681490951, 'iss_position': {'longitude': '-84.5853', 'latitude': '51.5850'}}\n"
     ]
    },
    {
     "name": "stderr",
     "output_type": "stream",
     "text": [
      "C:\\Users\\13018\\AppData\\Local\\Temp\\ipykernel_16080\\2340310863.py:10: FutureWarning: The frame.append method is deprecated and will be removed from pandas in a future version. Use pandas.concat instead.\n",
      "  Sat_data = Sat_data.append({\"Longitude\": longitude, \"Latitude\": latitude}, ignore_index=True)\n"
     ]
    },
    {
     "name": "stdout",
     "output_type": "stream",
     "text": [
      "Data received: {'message': 'success', 'timestamp': 1681490957, 'iss_position': {'longitude': '-84.0353', 'latitude': '51.5974'}}\n"
     ]
    },
    {
     "name": "stderr",
     "output_type": "stream",
     "text": [
      "C:\\Users\\13018\\AppData\\Local\\Temp\\ipykernel_16080\\2340310863.py:10: FutureWarning: The frame.append method is deprecated and will be removed from pandas in a future version. Use pandas.concat instead.\n",
      "  Sat_data = Sat_data.append({\"Longitude\": longitude, \"Latitude\": latitude}, ignore_index=True)\n"
     ]
    },
    {
     "name": "stdout",
     "output_type": "stream",
     "text": [
      "Data received: {'message': 'success', 'timestamp': 1681490962, 'iss_position': {'longitude': '-83.5351', 'latitude': '51.6063'}}\n"
     ]
    },
    {
     "name": "stderr",
     "output_type": "stream",
     "text": [
      "C:\\Users\\13018\\AppData\\Local\\Temp\\ipykernel_16080\\2340310863.py:10: FutureWarning: The frame.append method is deprecated and will be removed from pandas in a future version. Use pandas.concat instead.\n",
      "  Sat_data = Sat_data.append({\"Longitude\": longitude, \"Latitude\": latitude}, ignore_index=True)\n"
     ]
    },
    {
     "name": "stdout",
     "output_type": "stream",
     "text": [
      "Data received: {'message': 'success', 'timestamp': 1681490967, 'iss_position': {'longitude': '-83.0347', 'latitude': '51.6128'}}\n"
     ]
    },
    {
     "name": "stderr",
     "output_type": "stream",
     "text": [
      "C:\\Users\\13018\\AppData\\Local\\Temp\\ipykernel_16080\\2340310863.py:10: FutureWarning: The frame.append method is deprecated and will be removed from pandas in a future version. Use pandas.concat instead.\n",
      "  Sat_data = Sat_data.append({\"Longitude\": longitude, \"Latitude\": latitude}, ignore_index=True)\n"
     ]
    },
    {
     "name": "stdout",
     "output_type": "stream",
     "text": [
      "Data received: {'message': 'success', 'timestamp': 1681490972, 'iss_position': {'longitude': '-82.4841', 'latitude': '51.6173'}}\n"
     ]
    },
    {
     "name": "stderr",
     "output_type": "stream",
     "text": [
      "C:\\Users\\13018\\AppData\\Local\\Temp\\ipykernel_16080\\2340310863.py:10: FutureWarning: The frame.append method is deprecated and will be removed from pandas in a future version. Use pandas.concat instead.\n",
      "  Sat_data = Sat_data.append({\"Longitude\": longitude, \"Latitude\": latitude}, ignore_index=True)\n"
     ]
    },
    {
     "name": "stdout",
     "output_type": "stream",
     "text": [
      "Data received: {'message': 'success', 'timestamp': 1681490977, 'iss_position': {'longitude': '-81.9834', 'latitude': '51.6190'}}\n"
     ]
    },
    {
     "name": "stderr",
     "output_type": "stream",
     "text": [
      "C:\\Users\\13018\\AppData\\Local\\Temp\\ipykernel_16080\\2340310863.py:10: FutureWarning: The frame.append method is deprecated and will be removed from pandas in a future version. Use pandas.concat instead.\n",
      "  Sat_data = Sat_data.append({\"Longitude\": longitude, \"Latitude\": latitude}, ignore_index=True)\n"
     ]
    },
    {
     "name": "stdout",
     "output_type": "stream",
     "text": [
      "Data received: {'message': 'success', 'timestamp': 1681490983, 'iss_position': {'longitude': '-81.4328', 'latitude': '51.6182'}}\n"
     ]
    },
    {
     "name": "stderr",
     "output_type": "stream",
     "text": [
      "C:\\Users\\13018\\AppData\\Local\\Temp\\ipykernel_16080\\2340310863.py:10: FutureWarning: The frame.append method is deprecated and will be removed from pandas in a future version. Use pandas.concat instead.\n",
      "  Sat_data = Sat_data.append({\"Longitude\": longitude, \"Latitude\": latitude}, ignore_index=True)\n"
     ]
    },
    {
     "name": "stdout",
     "output_type": "stream",
     "text": [
      "Data received: {'message': 'success', 'timestamp': 1681490988, 'iss_position': {'longitude': '-80.9322', 'latitude': '51.6150'}}\n"
     ]
    },
    {
     "name": "stderr",
     "output_type": "stream",
     "text": [
      "C:\\Users\\13018\\AppData\\Local\\Temp\\ipykernel_16080\\2340310863.py:10: FutureWarning: The frame.append method is deprecated and will be removed from pandas in a future version. Use pandas.concat instead.\n",
      "  Sat_data = Sat_data.append({\"Longitude\": longitude, \"Latitude\": latitude}, ignore_index=True)\n"
     ]
    },
    {
     "name": "stdout",
     "output_type": "stream",
     "text": [
      "Data received: {'message': 'success', 'timestamp': 1681490993, 'iss_position': {'longitude': '-80.4317', 'latitude': '51.6095'}}\n"
     ]
    },
    {
     "name": "stderr",
     "output_type": "stream",
     "text": [
      "C:\\Users\\13018\\AppData\\Local\\Temp\\ipykernel_16080\\2340310863.py:10: FutureWarning: The frame.append method is deprecated and will be removed from pandas in a future version. Use pandas.concat instead.\n",
      "  Sat_data = Sat_data.append({\"Longitude\": longitude, \"Latitude\": latitude}, ignore_index=True)\n"
     ]
    },
    {
     "name": "stdout",
     "output_type": "stream",
     "text": [
      "Data received: {'message': 'success', 'timestamp': 1681490999, 'iss_position': {'longitude': '-79.8813', 'latitude': '51.6008'}}\n"
     ]
    },
    {
     "name": "stderr",
     "output_type": "stream",
     "text": [
      "C:\\Users\\13018\\AppData\\Local\\Temp\\ipykernel_16080\\2340310863.py:10: FutureWarning: The frame.append method is deprecated and will be removed from pandas in a future version. Use pandas.concat instead.\n",
      "  Sat_data = Sat_data.append({\"Longitude\": longitude, \"Latitude\": latitude}, ignore_index=True)\n"
     ]
    },
    {
     "name": "stdout",
     "output_type": "stream",
     "text": [
      "Data received: {'message': 'success', 'timestamp': 1681491004, 'iss_position': {'longitude': '-79.3812', 'latitude': '51.5904'}}\n"
     ]
    },
    {
     "name": "stderr",
     "output_type": "stream",
     "text": [
      "C:\\Users\\13018\\AppData\\Local\\Temp\\ipykernel_16080\\2340310863.py:10: FutureWarning: The frame.append method is deprecated and will be removed from pandas in a future version. Use pandas.concat instead.\n",
      "  Sat_data = Sat_data.append({\"Longitude\": longitude, \"Latitude\": latitude}, ignore_index=True)\n"
     ]
    },
    {
     "name": "stdout",
     "output_type": "stream",
     "text": [
      "Data received: {'message': 'success', 'timestamp': 1681491009, 'iss_position': {'longitude': '-78.8314', 'latitude': '51.5764'}}\n"
     ]
    },
    {
     "name": "stderr",
     "output_type": "stream",
     "text": [
      "C:\\Users\\13018\\AppData\\Local\\Temp\\ipykernel_16080\\2340310863.py:10: FutureWarning: The frame.append method is deprecated and will be removed from pandas in a future version. Use pandas.concat instead.\n",
      "  Sat_data = Sat_data.append({\"Longitude\": longitude, \"Latitude\": latitude}, ignore_index=True)\n"
     ]
    },
    {
     "name": "stdout",
     "output_type": "stream",
     "text": [
      "Data received: {'message': 'success', 'timestamp': 1681491014, 'iss_position': {'longitude': '-78.3319', 'latitude': '51.5612'}}\n"
     ]
    },
    {
     "name": "stderr",
     "output_type": "stream",
     "text": [
      "C:\\Users\\13018\\AppData\\Local\\Temp\\ipykernel_16080\\2340310863.py:10: FutureWarning: The frame.append method is deprecated and will be removed from pandas in a future version. Use pandas.concat instead.\n",
      "  Sat_data = Sat_data.append({\"Longitude\": longitude, \"Latitude\": latitude}, ignore_index=True)\n"
     ]
    },
    {
     "name": "stdout",
     "output_type": "stream",
     "text": [
      "Data received: {'message': 'success', 'timestamp': 1681491019, 'iss_position': {'longitude': '-77.8329', 'latitude': '51.5437'}}\n"
     ]
    },
    {
     "name": "stderr",
     "output_type": "stream",
     "text": [
      "C:\\Users\\13018\\AppData\\Local\\Temp\\ipykernel_16080\\2340310863.py:10: FutureWarning: The frame.append method is deprecated and will be removed from pandas in a future version. Use pandas.concat instead.\n",
      "  Sat_data = Sat_data.append({\"Longitude\": longitude, \"Latitude\": latitude}, ignore_index=True)\n"
     ]
    },
    {
     "name": "stdout",
     "output_type": "stream",
     "text": [
      "Data received: {'message': 'success', 'timestamp': 1681491025, 'iss_position': {'longitude': '-77.2841', 'latitude': '51.5218'}}\n"
     ]
    },
    {
     "name": "stderr",
     "output_type": "stream",
     "text": [
      "C:\\Users\\13018\\AppData\\Local\\Temp\\ipykernel_16080\\2340310863.py:10: FutureWarning: The frame.append method is deprecated and will be removed from pandas in a future version. Use pandas.concat instead.\n",
      "  Sat_data = Sat_data.append({\"Longitude\": longitude, \"Latitude\": latitude}, ignore_index=True)\n"
     ]
    },
    {
     "name": "stdout",
     "output_type": "stream",
     "text": [
      "Data received: {'message': 'success', 'timestamp': 1681491030, 'iss_position': {'longitude': '-76.7859', 'latitude': '51.4995'}}\n"
     ]
    },
    {
     "name": "stderr",
     "output_type": "stream",
     "text": [
      "C:\\Users\\13018\\AppData\\Local\\Temp\\ipykernel_16080\\2340310863.py:10: FutureWarning: The frame.append method is deprecated and will be removed from pandas in a future version. Use pandas.concat instead.\n",
      "  Sat_data = Sat_data.append({\"Longitude\": longitude, \"Latitude\": latitude}, ignore_index=True)\n"
     ]
    },
    {
     "name": "stdout",
     "output_type": "stream",
     "text": [
      "Data received: {'message': 'success', 'timestamp': 1681491035, 'iss_position': {'longitude': '-76.2385', 'latitude': '51.4723'}}\n"
     ]
    },
    {
     "name": "stderr",
     "output_type": "stream",
     "text": [
      "C:\\Users\\13018\\AppData\\Local\\Temp\\ipykernel_16080\\2340310863.py:10: FutureWarning: The frame.append method is deprecated and will be removed from pandas in a future version. Use pandas.concat instead.\n",
      "  Sat_data = Sat_data.append({\"Longitude\": longitude, \"Latitude\": latitude}, ignore_index=True)\n"
     ]
    },
    {
     "name": "stdout",
     "output_type": "stream",
     "text": [
      "Data received: {'message': 'success', 'timestamp': 1681491040, 'iss_position': {'longitude': '-75.7415', 'latitude': '51.4452'}}\n"
     ]
    },
    {
     "name": "stderr",
     "output_type": "stream",
     "text": [
      "C:\\Users\\13018\\AppData\\Local\\Temp\\ipykernel_16080\\2340310863.py:10: FutureWarning: The frame.append method is deprecated and will be removed from pandas in a future version. Use pandas.concat instead.\n",
      "  Sat_data = Sat_data.append({\"Longitude\": longitude, \"Latitude\": latitude}, ignore_index=True)\n"
     ]
    },
    {
     "name": "stdout",
     "output_type": "stream",
     "text": [
      "Data received: {'message': 'success', 'timestamp': 1681491045, 'iss_position': {'longitude': '-75.2451', 'latitude': '51.4158'}}\n"
     ]
    },
    {
     "name": "stderr",
     "output_type": "stream",
     "text": [
      "C:\\Users\\13018\\AppData\\Local\\Temp\\ipykernel_16080\\2340310863.py:10: FutureWarning: The frame.append method is deprecated and will be removed from pandas in a future version. Use pandas.concat instead.\n",
      "  Sat_data = Sat_data.append({\"Longitude\": longitude, \"Latitude\": latitude}, ignore_index=True)\n"
     ]
    },
    {
     "name": "stdout",
     "output_type": "stream",
     "text": [
      "Data received: {'message': 'success', 'timestamp': 1681491051, 'iss_position': {'longitude': '-74.7000', 'latitude': '51.3808'}}\n"
     ]
    },
    {
     "name": "stderr",
     "output_type": "stream",
     "text": [
      "C:\\Users\\13018\\AppData\\Local\\Temp\\ipykernel_16080\\2340310863.py:10: FutureWarning: The frame.append method is deprecated and will be removed from pandas in a future version. Use pandas.concat instead.\n",
      "  Sat_data = Sat_data.append({\"Longitude\": longitude, \"Latitude\": latitude}, ignore_index=True)\n"
     ]
    },
    {
     "name": "stdout",
     "output_type": "stream",
     "text": [
      "Data received: {'message': 'success', 'timestamp': 1681491056, 'iss_position': {'longitude': '-74.2051', 'latitude': '51.3466'}}\n"
     ]
    },
    {
     "name": "stderr",
     "output_type": "stream",
     "text": [
      "C:\\Users\\13018\\AppData\\Local\\Temp\\ipykernel_16080\\2340310863.py:10: FutureWarning: The frame.append method is deprecated and will be removed from pandas in a future version. Use pandas.concat instead.\n",
      "  Sat_data = Sat_data.append({\"Longitude\": longitude, \"Latitude\": latitude}, ignore_index=True)\n"
     ]
    },
    {
     "name": "stdout",
     "output_type": "stream",
     "text": [
      "Data received: {'message': 'success', 'timestamp': 1681491061, 'iss_position': {'longitude': '-73.6616', 'latitude': '51.3064'}}\n"
     ]
    },
    {
     "name": "stderr",
     "output_type": "stream",
     "text": [
      "C:\\Users\\13018\\AppData\\Local\\Temp\\ipykernel_16080\\2340310863.py:10: FutureWarning: The frame.append method is deprecated and will be removed from pandas in a future version. Use pandas.concat instead.\n",
      "  Sat_data = Sat_data.append({\"Longitude\": longitude, \"Latitude\": latitude}, ignore_index=True)\n"
     ]
    },
    {
     "name": "stdout",
     "output_type": "stream",
     "text": [
      "Data received: {'message': 'success', 'timestamp': 1681491066, 'iss_position': {'longitude': '-73.1685', 'latitude': '51.2675'}}\n"
     ]
    },
    {
     "name": "stderr",
     "output_type": "stream",
     "text": [
      "C:\\Users\\13018\\AppData\\Local\\Temp\\ipykernel_16080\\2340310863.py:10: FutureWarning: The frame.append method is deprecated and will be removed from pandas in a future version. Use pandas.concat instead.\n",
      "  Sat_data = Sat_data.append({\"Longitude\": longitude, \"Latitude\": latitude}, ignore_index=True)\n"
     ]
    },
    {
     "name": "stdout",
     "output_type": "stream",
     "text": [
      "Data received: {'message': 'success', 'timestamp': 1681491071, 'iss_position': {'longitude': '-72.6763', 'latitude': '51.2263'}}\n"
     ]
    },
    {
     "name": "stderr",
     "output_type": "stream",
     "text": [
      "C:\\Users\\13018\\AppData\\Local\\Temp\\ipykernel_16080\\2340310863.py:10: FutureWarning: The frame.append method is deprecated and will be removed from pandas in a future version. Use pandas.concat instead.\n",
      "  Sat_data = Sat_data.append({\"Longitude\": longitude, \"Latitude\": latitude}, ignore_index=True)\n"
     ]
    },
    {
     "name": "stdout",
     "output_type": "stream",
     "text": [
      "Data received: {'message': 'success', 'timestamp': 1681491077, 'iss_position': {'longitude': '-72.1359', 'latitude': '51.1784'}}\n"
     ]
    },
    {
     "name": "stderr",
     "output_type": "stream",
     "text": [
      "C:\\Users\\13018\\AppData\\Local\\Temp\\ipykernel_16080\\2340310863.py:10: FutureWarning: The frame.append method is deprecated and will be removed from pandas in a future version. Use pandas.concat instead.\n",
      "  Sat_data = Sat_data.append({\"Longitude\": longitude, \"Latitude\": latitude}, ignore_index=True)\n"
     ]
    },
    {
     "name": "stdout",
     "output_type": "stream",
     "text": [
      "Data received: {'message': 'success', 'timestamp': 1681491082, 'iss_position': {'longitude': '-71.6456', 'latitude': '51.1325'}}\n"
     ]
    },
    {
     "name": "stderr",
     "output_type": "stream",
     "text": [
      "C:\\Users\\13018\\AppData\\Local\\Temp\\ipykernel_16080\\2340310863.py:10: FutureWarning: The frame.append method is deprecated and will be removed from pandas in a future version. Use pandas.concat instead.\n",
      "  Sat_data = Sat_data.append({\"Longitude\": longitude, \"Latitude\": latitude}, ignore_index=True)\n"
     ]
    },
    {
     "name": "stdout",
     "output_type": "stream",
     "text": [
      "Data received: {'message': 'success', 'timestamp': 1681491087, 'iss_position': {'longitude': '-71.1076', 'latitude': '51.0795'}}\n"
     ]
    },
    {
     "name": "stderr",
     "output_type": "stream",
     "text": [
      "C:\\Users\\13018\\AppData\\Local\\Temp\\ipykernel_16080\\2340310863.py:10: FutureWarning: The frame.append method is deprecated and will be removed from pandas in a future version. Use pandas.concat instead.\n",
      "  Sat_data = Sat_data.append({\"Longitude\": longitude, \"Latitude\": latitude}, ignore_index=True)\n"
     ]
    },
    {
     "name": "stdout",
     "output_type": "stream",
     "text": [
      "Data received: {'message': 'success', 'timestamp': 1681491092, 'iss_position': {'longitude': '-70.6196', 'latitude': '51.0289'}}\n"
     ]
    },
    {
     "name": "stderr",
     "output_type": "stream",
     "text": [
      "C:\\Users\\13018\\AppData\\Local\\Temp\\ipykernel_16080\\2340310863.py:10: FutureWarning: The frame.append method is deprecated and will be removed from pandas in a future version. Use pandas.concat instead.\n",
      "  Sat_data = Sat_data.append({\"Longitude\": longitude, \"Latitude\": latitude}, ignore_index=True)\n"
     ]
    },
    {
     "name": "stdout",
     "output_type": "stream",
     "text": [
      "Data received: {'message': 'success', 'timestamp': 1681491097, 'iss_position': {'longitude': '-70.1326', 'latitude': '50.9762'}}\n"
     ]
    },
    {
     "name": "stderr",
     "output_type": "stream",
     "text": [
      "C:\\Users\\13018\\AppData\\Local\\Temp\\ipykernel_16080\\2340310863.py:10: FutureWarning: The frame.append method is deprecated and will be removed from pandas in a future version. Use pandas.concat instead.\n",
      "  Sat_data = Sat_data.append({\"Longitude\": longitude, \"Latitude\": latitude}, ignore_index=True)\n"
     ]
    },
    {
     "name": "stdout",
     "output_type": "stream",
     "text": [
      "Data received: {'message': 'success', 'timestamp': 1681491103, 'iss_position': {'longitude': '-69.5984', 'latitude': '50.9156'}}\n"
     ]
    },
    {
     "name": "stderr",
     "output_type": "stream",
     "text": [
      "C:\\Users\\13018\\AppData\\Local\\Temp\\ipykernel_16080\\2340310863.py:10: FutureWarning: The frame.append method is deprecated and will be removed from pandas in a future version. Use pandas.concat instead.\n",
      "  Sat_data = Sat_data.append({\"Longitude\": longitude, \"Latitude\": latitude}, ignore_index=True)\n"
     ]
    },
    {
     "name": "stdout",
     "output_type": "stream",
     "text": [
      "Data received: {'message': 'success', 'timestamp': 1681492479, 'iss_position': {'longitude': '6.2147', 'latitude': '-5.5838'}}\n"
     ]
    },
    {
     "name": "stderr",
     "output_type": "stream",
     "text": [
      "C:\\Users\\13018\\AppData\\Local\\Temp\\ipykernel_16080\\2340310863.py:10: FutureWarning: The frame.append method is deprecated and will be removed from pandas in a future version. Use pandas.concat instead.\n",
      "  Sat_data = Sat_data.append({\"Longitude\": longitude, \"Latitude\": latitude}, ignore_index=True)\n"
     ]
    },
    {
     "name": "stdout",
     "output_type": "stream",
     "text": [
      "Data received: {'message': 'success', 'timestamp': 1681492485, 'iss_position': {'longitude': '6.4148', 'latitude': '-5.8622'}}\n"
     ]
    },
    {
     "name": "stderr",
     "output_type": "stream",
     "text": [
      "C:\\Users\\13018\\AppData\\Local\\Temp\\ipykernel_16080\\2340310863.py:10: FutureWarning: The frame.append method is deprecated and will be removed from pandas in a future version. Use pandas.concat instead.\n",
      "  Sat_data = Sat_data.append({\"Longitude\": longitude, \"Latitude\": latitude}, ignore_index=True)\n"
     ]
    },
    {
     "name": "stdout",
     "output_type": "stream",
     "text": [
      "Data received: {'message': 'success', 'timestamp': 1681492490, 'iss_position': {'longitude': '6.5970', 'latitude': '-6.1153'}}\n"
     ]
    },
    {
     "name": "stderr",
     "output_type": "stream",
     "text": [
      "C:\\Users\\13018\\AppData\\Local\\Temp\\ipykernel_16080\\2340310863.py:10: FutureWarning: The frame.append method is deprecated and will be removed from pandas in a future version. Use pandas.concat instead.\n",
      "  Sat_data = Sat_data.append({\"Longitude\": longitude, \"Latitude\": latitude}, ignore_index=True)\n"
     ]
    },
    {
     "name": "stdout",
     "output_type": "stream",
     "text": [
      "Data received: {'message': 'success', 'timestamp': 1681492495, 'iss_position': {'longitude': '6.7975', 'latitude': '-6.3935'}}\n"
     ]
    },
    {
     "name": "stderr",
     "output_type": "stream",
     "text": [
      "C:\\Users\\13018\\AppData\\Local\\Temp\\ipykernel_16080\\2340310863.py:10: FutureWarning: The frame.append method is deprecated and will be removed from pandas in a future version. Use pandas.concat instead.\n",
      "  Sat_data = Sat_data.append({\"Longitude\": longitude, \"Latitude\": latitude}, ignore_index=True)\n"
     ]
    },
    {
     "name": "stdout",
     "output_type": "stream",
     "text": [
      "Data received: {'message': 'success', 'timestamp': 1681492500, 'iss_position': {'longitude': '6.9801', 'latitude': '-6.6465'}}\n"
     ]
    },
    {
     "name": "stderr",
     "output_type": "stream",
     "text": [
      "C:\\Users\\13018\\AppData\\Local\\Temp\\ipykernel_16080\\2340310863.py:10: FutureWarning: The frame.append method is deprecated and will be removed from pandas in a future version. Use pandas.concat instead.\n",
      "  Sat_data = Sat_data.append({\"Longitude\": longitude, \"Latitude\": latitude}, ignore_index=True)\n"
     ]
    },
    {
     "name": "stdout",
     "output_type": "stream",
     "text": [
      "Data received: {'message': 'success', 'timestamp': 1681492506, 'iss_position': {'longitude': '7.1811', 'latitude': '-6.9245'}}\n"
     ]
    },
    {
     "name": "stderr",
     "output_type": "stream",
     "text": [
      "C:\\Users\\13018\\AppData\\Local\\Temp\\ipykernel_16080\\2340310863.py:10: FutureWarning: The frame.append method is deprecated and will be removed from pandas in a future version. Use pandas.concat instead.\n",
      "  Sat_data = Sat_data.append({\"Longitude\": longitude, \"Latitude\": latitude}, ignore_index=True)\n"
     ]
    },
    {
     "name": "stdout",
     "output_type": "stream",
     "text": [
      "Data received: {'message': 'success', 'timestamp': 1681492511, 'iss_position': {'longitude': '7.3642', 'latitude': '-7.1773'}}\n"
     ]
    },
    {
     "name": "stderr",
     "output_type": "stream",
     "text": [
      "C:\\Users\\13018\\AppData\\Local\\Temp\\ipykernel_16080\\2340310863.py:10: FutureWarning: The frame.append method is deprecated and will be removed from pandas in a future version. Use pandas.concat instead.\n",
      "  Sat_data = Sat_data.append({\"Longitude\": longitude, \"Latitude\": latitude}, ignore_index=True)\n"
     ]
    },
    {
     "name": "stdout",
     "output_type": "stream",
     "text": [
      "Data received: {'message': 'success', 'timestamp': 1681492516, 'iss_position': {'longitude': '7.5657', 'latitude': '-7.4552'}}\n"
     ]
    },
    {
     "name": "stderr",
     "output_type": "stream",
     "text": [
      "C:\\Users\\13018\\AppData\\Local\\Temp\\ipykernel_16080\\2340310863.py:10: FutureWarning: The frame.append method is deprecated and will be removed from pandas in a future version. Use pandas.concat instead.\n",
      "  Sat_data = Sat_data.append({\"Longitude\": longitude, \"Latitude\": latitude}, ignore_index=True)\n"
     ]
    },
    {
     "name": "stdout",
     "output_type": "stream",
     "text": [
      "Data received: {'message': 'success', 'timestamp': 1681492521, 'iss_position': {'longitude': '7.7492', 'latitude': '-7.7076'}}\n"
     ]
    },
    {
     "name": "stderr",
     "output_type": "stream",
     "text": [
      "C:\\Users\\13018\\AppData\\Local\\Temp\\ipykernel_16080\\2340310863.py:10: FutureWarning: The frame.append method is deprecated and will be removed from pandas in a future version. Use pandas.concat instead.\n",
      "  Sat_data = Sat_data.append({\"Longitude\": longitude, \"Latitude\": latitude}, ignore_index=True)\n"
     ]
    },
    {
     "name": "stdout",
     "output_type": "stream",
     "text": [
      "Data received: {'message': 'success', 'timestamp': 1681492526, 'iss_position': {'longitude': '7.9330', 'latitude': '-7.9602'}}\n"
     ]
    },
    {
     "name": "stderr",
     "output_type": "stream",
     "text": [
      "C:\\Users\\13018\\AppData\\Local\\Temp\\ipykernel_16080\\2340310863.py:10: FutureWarning: The frame.append method is deprecated and will be removed from pandas in a future version. Use pandas.concat instead.\n",
      "  Sat_data = Sat_data.append({\"Longitude\": longitude, \"Latitude\": latitude}, ignore_index=True)\n"
     ]
    },
    {
     "name": "stdout",
     "output_type": "stream",
     "text": [
      "Data received: {'message': 'success', 'timestamp': 1681492532, 'iss_position': {'longitude': '8.1354', 'latitude': '-8.2378'}}\n"
     ]
    },
    {
     "name": "stderr",
     "output_type": "stream",
     "text": [
      "C:\\Users\\13018\\AppData\\Local\\Temp\\ipykernel_16080\\2340310863.py:10: FutureWarning: The frame.append method is deprecated and will be removed from pandas in a future version. Use pandas.concat instead.\n",
      "  Sat_data = Sat_data.append({\"Longitude\": longitude, \"Latitude\": latitude}, ignore_index=True)\n"
     ]
    },
    {
     "name": "stdout",
     "output_type": "stream",
     "text": [
      "Data received: {'message': 'success', 'timestamp': 1681492537, 'iss_position': {'longitude': '8.3197', 'latitude': '-8.4900'}}\n"
     ]
    },
    {
     "name": "stderr",
     "output_type": "stream",
     "text": [
      "C:\\Users\\13018\\AppData\\Local\\Temp\\ipykernel_16080\\2340310863.py:10: FutureWarning: The frame.append method is deprecated and will be removed from pandas in a future version. Use pandas.concat instead.\n",
      "  Sat_data = Sat_data.append({\"Longitude\": longitude, \"Latitude\": latitude}, ignore_index=True)\n"
     ]
    },
    {
     "name": "stdout",
     "output_type": "stream",
     "text": [
      "Data received: {'message': 'success', 'timestamp': 1681492542, 'iss_position': {'longitude': '8.5227', 'latitude': '-8.7673'}}\n"
     ]
    },
    {
     "name": "stderr",
     "output_type": "stream",
     "text": [
      "C:\\Users\\13018\\AppData\\Local\\Temp\\ipykernel_16080\\2340310863.py:10: FutureWarning: The frame.append method is deprecated and will be removed from pandas in a future version. Use pandas.concat instead.\n",
      "  Sat_data = Sat_data.append({\"Longitude\": longitude, \"Latitude\": latitude}, ignore_index=True)\n"
     ]
    },
    {
     "name": "stdout",
     "output_type": "stream",
     "text": [
      "Data received: {'message': 'success', 'timestamp': 1681492547, 'iss_position': {'longitude': '8.7075', 'latitude': '-9.0192'}}\n"
     ]
    },
    {
     "name": "stderr",
     "output_type": "stream",
     "text": [
      "C:\\Users\\13018\\AppData\\Local\\Temp\\ipykernel_16080\\2340310863.py:10: FutureWarning: The frame.append method is deprecated and will be removed from pandas in a future version. Use pandas.concat instead.\n",
      "  Sat_data = Sat_data.append({\"Longitude\": longitude, \"Latitude\": latitude}, ignore_index=True)\n"
     ]
    },
    {
     "name": "stdout",
     "output_type": "stream",
     "text": [
      "Data received: {'message': 'success', 'timestamp': 1681492552, 'iss_position': {'longitude': '8.8926', 'latitude': '-9.2711'}}\n"
     ]
    },
    {
     "name": "stderr",
     "output_type": "stream",
     "text": [
      "C:\\Users\\13018\\AppData\\Local\\Temp\\ipykernel_16080\\2340310863.py:10: FutureWarning: The frame.append method is deprecated and will be removed from pandas in a future version. Use pandas.concat instead.\n",
      "  Sat_data = Sat_data.append({\"Longitude\": longitude, \"Latitude\": latitude}, ignore_index=True)\n"
     ]
    },
    {
     "name": "stdout",
     "output_type": "stream",
     "text": [
      "Data received: {'message': 'success', 'timestamp': 1681492558, 'iss_position': {'longitude': '9.0966', 'latitude': '-9.5479'}}\n"
     ]
    },
    {
     "name": "stderr",
     "output_type": "stream",
     "text": [
      "C:\\Users\\13018\\AppData\\Local\\Temp\\ipykernel_16080\\2340310863.py:10: FutureWarning: The frame.append method is deprecated and will be removed from pandas in a future version. Use pandas.concat instead.\n",
      "  Sat_data = Sat_data.append({\"Longitude\": longitude, \"Latitude\": latitude}, ignore_index=True)\n"
     ]
    },
    {
     "name": "stdout",
     "output_type": "stream",
     "text": [
      "Data received: {'message': 'success', 'timestamp': 1681492563, 'iss_position': {'longitude': '9.2823', 'latitude': '-9.7995'}}\n"
     ]
    },
    {
     "name": "stderr",
     "output_type": "stream",
     "text": [
      "C:\\Users\\13018\\AppData\\Local\\Temp\\ipykernel_16080\\2340310863.py:10: FutureWarning: The frame.append method is deprecated and will be removed from pandas in a future version. Use pandas.concat instead.\n",
      "  Sat_data = Sat_data.append({\"Longitude\": longitude, \"Latitude\": latitude}, ignore_index=True)\n"
     ]
    },
    {
     "name": "stdout",
     "output_type": "stream",
     "text": [
      "Data received: {'message': 'success', 'timestamp': 1681492568, 'iss_position': {'longitude': '9.4870', 'latitude': '-10.0761'}}\n"
     ]
    },
    {
     "name": "stderr",
     "output_type": "stream",
     "text": [
      "C:\\Users\\13018\\AppData\\Local\\Temp\\ipykernel_16080\\2340310863.py:10: FutureWarning: The frame.append method is deprecated and will be removed from pandas in a future version. Use pandas.concat instead.\n",
      "  Sat_data = Sat_data.append({\"Longitude\": longitude, \"Latitude\": latitude}, ignore_index=True)\n"
     ]
    },
    {
     "name": "stdout",
     "output_type": "stream",
     "text": [
      "Data received: {'message': 'success', 'timestamp': 1681492573, 'iss_position': {'longitude': '9.6734', 'latitude': '-10.3274'}}\n"
     ]
    },
    {
     "name": "stderr",
     "output_type": "stream",
     "text": [
      "C:\\Users\\13018\\AppData\\Local\\Temp\\ipykernel_16080\\2340310863.py:10: FutureWarning: The frame.append method is deprecated and will be removed from pandas in a future version. Use pandas.concat instead.\n",
      "  Sat_data = Sat_data.append({\"Longitude\": longitude, \"Latitude\": latitude}, ignore_index=True)\n"
     ]
    },
    {
     "name": "stdout",
     "output_type": "stream",
     "text": [
      "Data received: {'message': 'success', 'timestamp': 1681492578, 'iss_position': {'longitude': '9.8601', 'latitude': '-10.5786'}}\n"
     ]
    },
    {
     "name": "stderr",
     "output_type": "stream",
     "text": [
      "C:\\Users\\13018\\AppData\\Local\\Temp\\ipykernel_16080\\2340310863.py:10: FutureWarning: The frame.append method is deprecated and will be removed from pandas in a future version. Use pandas.concat instead.\n",
      "  Sat_data = Sat_data.append({\"Longitude\": longitude, \"Latitude\": latitude}, ignore_index=True)\n"
     ]
    },
    {
     "name": "stdout",
     "output_type": "stream",
     "text": [
      "Data received: {'message': 'success', 'timestamp': 1681492584, 'iss_position': {'longitude': '10.0659', 'latitude': '-10.8547'}}\n"
     ]
    },
    {
     "name": "stderr",
     "output_type": "stream",
     "text": [
      "C:\\Users\\13018\\AppData\\Local\\Temp\\ipykernel_16080\\2340310863.py:10: FutureWarning: The frame.append method is deprecated and will be removed from pandas in a future version. Use pandas.concat instead.\n",
      "  Sat_data = Sat_data.append({\"Longitude\": longitude, \"Latitude\": latitude}, ignore_index=True)\n"
     ]
    },
    {
     "name": "stdout",
     "output_type": "stream",
     "text": [
      "Data received: {'message': 'success', 'timestamp': 1681492589, 'iss_position': {'longitude': '10.2534', 'latitude': '-11.1056'}}\n"
     ]
    },
    {
     "name": "stderr",
     "output_type": "stream",
     "text": [
      "C:\\Users\\13018\\AppData\\Local\\Temp\\ipykernel_16080\\2340310863.py:10: FutureWarning: The frame.append method is deprecated and will be removed from pandas in a future version. Use pandas.concat instead.\n",
      "  Sat_data = Sat_data.append({\"Longitude\": longitude, \"Latitude\": latitude}, ignore_index=True)\n"
     ]
    },
    {
     "name": "stdout",
     "output_type": "stream",
     "text": [
      "Data received: {'message': 'success', 'timestamp': 1681492594, 'iss_position': {'longitude': '10.4600', 'latitude': '-11.3814'}}\n"
     ]
    },
    {
     "name": "stderr",
     "output_type": "stream",
     "text": [
      "C:\\Users\\13018\\AppData\\Local\\Temp\\ipykernel_16080\\2340310863.py:10: FutureWarning: The frame.append method is deprecated and will be removed from pandas in a future version. Use pandas.concat instead.\n",
      "  Sat_data = Sat_data.append({\"Longitude\": longitude, \"Latitude\": latitude}, ignore_index=True)\n"
     ]
    },
    {
     "name": "stdout",
     "output_type": "stream",
     "text": [
      "Data received: {'message': 'success', 'timestamp': 1681492599, 'iss_position': {'longitude': '10.6482', 'latitude': '-11.6319'}}\n"
     ]
    },
    {
     "name": "stderr",
     "output_type": "stream",
     "text": [
      "C:\\Users\\13018\\AppData\\Local\\Temp\\ipykernel_16080\\2340310863.py:10: FutureWarning: The frame.append method is deprecated and will be removed from pandas in a future version. Use pandas.concat instead.\n",
      "  Sat_data = Sat_data.append({\"Longitude\": longitude, \"Latitude\": latitude}, ignore_index=True)\n"
     ]
    },
    {
     "name": "stdout",
     "output_type": "stream",
     "text": [
      "Data received: {'message': 'success', 'timestamp': 1681492605, 'iss_position': {'longitude': '10.8557', 'latitude': '-11.9074'}}\n"
     ]
    },
    {
     "name": "stderr",
     "output_type": "stream",
     "text": [
      "C:\\Users\\13018\\AppData\\Local\\Temp\\ipykernel_16080\\2340310863.py:10: FutureWarning: The frame.append method is deprecated and will be removed from pandas in a future version. Use pandas.concat instead.\n",
      "  Sat_data = Sat_data.append({\"Longitude\": longitude, \"Latitude\": latitude}, ignore_index=True)\n"
     ]
    },
    {
     "name": "stdout",
     "output_type": "stream",
     "text": [
      "Data received: {'message': 'success', 'timestamp': 1681492610, 'iss_position': {'longitude': '11.0447', 'latitude': '-12.1576'}}\n"
     ]
    },
    {
     "name": "stderr",
     "output_type": "stream",
     "text": [
      "C:\\Users\\13018\\AppData\\Local\\Temp\\ipykernel_16080\\2340310863.py:10: FutureWarning: The frame.append method is deprecated and will be removed from pandas in a future version. Use pandas.concat instead.\n",
      "  Sat_data = Sat_data.append({\"Longitude\": longitude, \"Latitude\": latitude}, ignore_index=True)\n"
     ]
    },
    {
     "name": "stdout",
     "output_type": "stream",
     "text": [
      "Data received: {'message': 'success', 'timestamp': 1681492615, 'iss_position': {'longitude': '11.2341', 'latitude': '-12.4077'}}\n"
     ]
    },
    {
     "name": "stderr",
     "output_type": "stream",
     "text": [
      "C:\\Users\\13018\\AppData\\Local\\Temp\\ipykernel_16080\\2340310863.py:10: FutureWarning: The frame.append method is deprecated and will be removed from pandas in a future version. Use pandas.concat instead.\n",
      "  Sat_data = Sat_data.append({\"Longitude\": longitude, \"Latitude\": latitude}, ignore_index=True)\n"
     ]
    },
    {
     "name": "stdout",
     "output_type": "stream",
     "text": [
      "Data received: {'message': 'success', 'timestamp': 1681492620, 'iss_position': {'longitude': '11.4429', 'latitude': '-12.6826'}}\n"
     ]
    },
    {
     "name": "stderr",
     "output_type": "stream",
     "text": [
      "C:\\Users\\13018\\AppData\\Local\\Temp\\ipykernel_16080\\2340310863.py:10: FutureWarning: The frame.append method is deprecated and will be removed from pandas in a future version. Use pandas.concat instead.\n",
      "  Sat_data = Sat_data.append({\"Longitude\": longitude, \"Latitude\": latitude}, ignore_index=True)\n"
     ]
    },
    {
     "name": "stdout",
     "output_type": "stream",
     "text": [
      "Data received: {'message': 'success', 'timestamp': 1681492625, 'iss_position': {'longitude': '11.6332', 'latitude': '-12.9323'}}\n"
     ]
    },
    {
     "name": "stderr",
     "output_type": "stream",
     "text": [
      "C:\\Users\\13018\\AppData\\Local\\Temp\\ipykernel_16080\\2340310863.py:10: FutureWarning: The frame.append method is deprecated and will be removed from pandas in a future version. Use pandas.concat instead.\n",
      "  Sat_data = Sat_data.append({\"Longitude\": longitude, \"Latitude\": latitude}, ignore_index=True)\n"
     ]
    },
    {
     "name": "stdout",
     "output_type": "stream",
     "text": [
      "Data received: {'message': 'success', 'timestamp': 1681492631, 'iss_position': {'longitude': '11.8431', 'latitude': '-13.2070'}}\n"
     ]
    },
    {
     "name": "stderr",
     "output_type": "stream",
     "text": [
      "C:\\Users\\13018\\AppData\\Local\\Temp\\ipykernel_16080\\2340310863.py:10: FutureWarning: The frame.append method is deprecated and will be removed from pandas in a future version. Use pandas.concat instead.\n",
      "  Sat_data = Sat_data.append({\"Longitude\": longitude, \"Latitude\": latitude}, ignore_index=True)\n"
     ]
    },
    {
     "name": "stdout",
     "output_type": "stream",
     "text": [
      "Data received: {'message': 'success', 'timestamp': 1681492636, 'iss_position': {'longitude': '12.0343', 'latitude': '-13.4564'}}\n"
     ]
    },
    {
     "name": "stderr",
     "output_type": "stream",
     "text": [
      "C:\\Users\\13018\\AppData\\Local\\Temp\\ipykernel_16080\\2340310863.py:10: FutureWarning: The frame.append method is deprecated and will be removed from pandas in a future version. Use pandas.concat instead.\n",
      "  Sat_data = Sat_data.append({\"Longitude\": longitude, \"Latitude\": latitude}, ignore_index=True)\n"
     ]
    },
    {
     "name": "stdout",
     "output_type": "stream",
     "text": [
      "Data received: {'message': 'success', 'timestamp': 1681492641, 'iss_position': {'longitude': '12.2259', 'latitude': '-13.7056'}}\n"
     ]
    },
    {
     "name": "stderr",
     "output_type": "stream",
     "text": [
      "C:\\Users\\13018\\AppData\\Local\\Temp\\ipykernel_16080\\2340310863.py:10: FutureWarning: The frame.append method is deprecated and will be removed from pandas in a future version. Use pandas.concat instead.\n",
      "  Sat_data = Sat_data.append({\"Longitude\": longitude, \"Latitude\": latitude}, ignore_index=True)\n"
     ]
    },
    {
     "name": "stdout",
     "output_type": "stream",
     "text": [
      "Data received: {'message': 'success', 'timestamp': 1681492646, 'iss_position': {'longitude': '12.4372', 'latitude': '-13.9795'}}\n"
     ]
    },
    {
     "name": "stderr",
     "output_type": "stream",
     "text": [
      "C:\\Users\\13018\\AppData\\Local\\Temp\\ipykernel_16080\\2340310863.py:10: FutureWarning: The frame.append method is deprecated and will be removed from pandas in a future version. Use pandas.concat instead.\n",
      "  Sat_data = Sat_data.append({\"Longitude\": longitude, \"Latitude\": latitude}, ignore_index=True)\n"
     ]
    },
    {
     "name": "stdout",
     "output_type": "stream",
     "text": [
      "Data received: {'message': 'success', 'timestamp': 1681492651, 'iss_position': {'longitude': '12.6297', 'latitude': '-14.2282'}}\n"
     ]
    },
    {
     "name": "stderr",
     "output_type": "stream",
     "text": [
      "C:\\Users\\13018\\AppData\\Local\\Temp\\ipykernel_16080\\2340310863.py:10: FutureWarning: The frame.append method is deprecated and will be removed from pandas in a future version. Use pandas.concat instead.\n",
      "  Sat_data = Sat_data.append({\"Longitude\": longitude, \"Latitude\": latitude}, ignore_index=True)\n"
     ]
    },
    {
     "name": "stdout",
     "output_type": "stream",
     "text": [
      "Data received: {'message': 'success', 'timestamp': 1681492657, 'iss_position': {'longitude': '12.8421', 'latitude': '-14.5016'}}\n"
     ]
    },
    {
     "name": "stderr",
     "output_type": "stream",
     "text": [
      "C:\\Users\\13018\\AppData\\Local\\Temp\\ipykernel_16080\\2340310863.py:10: FutureWarning: The frame.append method is deprecated and will be removed from pandas in a future version. Use pandas.concat instead.\n",
      "  Sat_data = Sat_data.append({\"Longitude\": longitude, \"Latitude\": latitude}, ignore_index=True)\n"
     ]
    },
    {
     "name": "stdout",
     "output_type": "stream",
     "text": [
      "Data received: {'message': 'success', 'timestamp': 1681492662, 'iss_position': {'longitude': '13.0356', 'latitude': '-14.7501'}}\n"
     ]
    },
    {
     "name": "stderr",
     "output_type": "stream",
     "text": [
      "C:\\Users\\13018\\AppData\\Local\\Temp\\ipykernel_16080\\2340310863.py:10: FutureWarning: The frame.append method is deprecated and will be removed from pandas in a future version. Use pandas.concat instead.\n",
      "  Sat_data = Sat_data.append({\"Longitude\": longitude, \"Latitude\": latitude}, ignore_index=True)\n"
     ]
    },
    {
     "name": "stdout",
     "output_type": "stream",
     "text": [
      "Data received: {'message': 'success', 'timestamp': 1681492667, 'iss_position': {'longitude': '13.2297', 'latitude': '-14.9982'}}\n"
     ]
    },
    {
     "name": "stderr",
     "output_type": "stream",
     "text": [
      "C:\\Users\\13018\\AppData\\Local\\Temp\\ipykernel_16080\\2340310863.py:10: FutureWarning: The frame.append method is deprecated and will be removed from pandas in a future version. Use pandas.concat instead.\n",
      "  Sat_data = Sat_data.append({\"Longitude\": longitude, \"Latitude\": latitude}, ignore_index=True)\n"
     ]
    },
    {
     "name": "stdout",
     "output_type": "stream",
     "text": [
      "Data received: {'message': 'success', 'timestamp': 1681492673, 'iss_position': {'longitude': '13.4437', 'latitude': '-15.2710'}}\n"
     ]
    },
    {
     "name": "stderr",
     "output_type": "stream",
     "text": [
      "C:\\Users\\13018\\AppData\\Local\\Temp\\ipykernel_16080\\2340310863.py:10: FutureWarning: The frame.append method is deprecated and will be removed from pandas in a future version. Use pandas.concat instead.\n",
      "  Sat_data = Sat_data.append({\"Longitude\": longitude, \"Latitude\": latitude}, ignore_index=True)\n"
     ]
    },
    {
     "name": "stdout",
     "output_type": "stream",
     "text": [
      "Data received: {'message': 'success', 'timestamp': 1681492678, 'iss_position': {'longitude': '13.6388', 'latitude': '-15.5187'}}\n"
     ]
    },
    {
     "name": "stderr",
     "output_type": "stream",
     "text": [
      "C:\\Users\\13018\\AppData\\Local\\Temp\\ipykernel_16080\\2340310863.py:10: FutureWarning: The frame.append method is deprecated and will be removed from pandas in a future version. Use pandas.concat instead.\n",
      "  Sat_data = Sat_data.append({\"Longitude\": longitude, \"Latitude\": latitude}, ignore_index=True)\n"
     ]
    },
    {
     "name": "stdout",
     "output_type": "stream",
     "text": [
      "Data received: {'message': 'success', 'timestamp': 1681492683, 'iss_position': {'longitude': '13.8540', 'latitude': '-15.7910'}}\n"
     ]
    },
    {
     "name": "stderr",
     "output_type": "stream",
     "text": [
      "C:\\Users\\13018\\AppData\\Local\\Temp\\ipykernel_16080\\2340310863.py:10: FutureWarning: The frame.append method is deprecated and will be removed from pandas in a future version. Use pandas.concat instead.\n",
      "  Sat_data = Sat_data.append({\"Longitude\": longitude, \"Latitude\": latitude}, ignore_index=True)\n"
     ]
    },
    {
     "name": "stdout",
     "output_type": "stream",
     "text": [
      "Data received: {'message': 'success', 'timestamp': 1681492688, 'iss_position': {'longitude': '14.0502', 'latitude': '-16.0382'}}\n"
     ]
    },
    {
     "name": "stderr",
     "output_type": "stream",
     "text": [
      "C:\\Users\\13018\\AppData\\Local\\Temp\\ipykernel_16080\\2340310863.py:10: FutureWarning: The frame.append method is deprecated and will be removed from pandas in a future version. Use pandas.concat instead.\n",
      "  Sat_data = Sat_data.append({\"Longitude\": longitude, \"Latitude\": latitude}, ignore_index=True)\n"
     ]
    },
    {
     "name": "stdout",
     "output_type": "stream",
     "text": [
      "Data received: {'message': 'success', 'timestamp': 1681492693, 'iss_position': {'longitude': '14.2468', 'latitude': '-16.2852'}}\n"
     ]
    },
    {
     "name": "stderr",
     "output_type": "stream",
     "text": [
      "C:\\Users\\13018\\AppData\\Local\\Temp\\ipykernel_16080\\2340310863.py:10: FutureWarning: The frame.append method is deprecated and will be removed from pandas in a future version. Use pandas.concat instead.\n",
      "  Sat_data = Sat_data.append({\"Longitude\": longitude, \"Latitude\": latitude}, ignore_index=True)\n"
     ]
    },
    {
     "name": "stdout",
     "output_type": "stream",
     "text": [
      "Data received: {'message': 'success', 'timestamp': 1681492699, 'iss_position': {'longitude': '14.4639', 'latitude': '-16.5567'}}\n"
     ]
    },
    {
     "name": "stderr",
     "output_type": "stream",
     "text": [
      "C:\\Users\\13018\\AppData\\Local\\Temp\\ipykernel_16080\\2340310863.py:10: FutureWarning: The frame.append method is deprecated and will be removed from pandas in a future version. Use pandas.concat instead.\n",
      "  Sat_data = Sat_data.append({\"Longitude\": longitude, \"Latitude\": latitude}, ignore_index=True)\n"
     ]
    },
    {
     "name": "stdout",
     "output_type": "stream",
     "text": [
      "Data received: {'message': 'success', 'timestamp': 1681492704, 'iss_position': {'longitude': '14.6617', 'latitude': '-16.8033'}}\n"
     ]
    },
    {
     "name": "stderr",
     "output_type": "stream",
     "text": [
      "C:\\Users\\13018\\AppData\\Local\\Temp\\ipykernel_16080\\2340310863.py:10: FutureWarning: The frame.append method is deprecated and will be removed from pandas in a future version. Use pandas.concat instead.\n",
      "  Sat_data = Sat_data.append({\"Longitude\": longitude, \"Latitude\": latitude}, ignore_index=True)\n"
     ]
    },
    {
     "name": "stdout",
     "output_type": "stream",
     "text": [
      "Data received: {'message': 'success', 'timestamp': 1681492709, 'iss_position': {'longitude': '14.8801', 'latitude': '-17.0743'}}\n"
     ]
    },
    {
     "name": "stderr",
     "output_type": "stream",
     "text": [
      "C:\\Users\\13018\\AppData\\Local\\Temp\\ipykernel_16080\\2340310863.py:10: FutureWarning: The frame.append method is deprecated and will be removed from pandas in a future version. Use pandas.concat instead.\n",
      "  Sat_data = Sat_data.append({\"Longitude\": longitude, \"Latitude\": latitude}, ignore_index=True)\n"
     ]
    },
    {
     "name": "stdout",
     "output_type": "stream",
     "text": [
      "Data received: {'message': 'success', 'timestamp': 1681492714, 'iss_position': {'longitude': '15.0792', 'latitude': '-17.3203'}}\n"
     ]
    },
    {
     "name": "stderr",
     "output_type": "stream",
     "text": [
      "C:\\Users\\13018\\AppData\\Local\\Temp\\ipykernel_16080\\2340310863.py:10: FutureWarning: The frame.append method is deprecated and will be removed from pandas in a future version. Use pandas.concat instead.\n",
      "  Sat_data = Sat_data.append({\"Longitude\": longitude, \"Latitude\": latitude}, ignore_index=True)\n"
     ]
    },
    {
     "name": "stdout",
     "output_type": "stream",
     "text": [
      "Data received: {'message': 'success', 'timestamp': 1681492719, 'iss_position': {'longitude': '15.2789', 'latitude': '-17.5662'}}\n"
     ]
    },
    {
     "name": "stderr",
     "output_type": "stream",
     "text": [
      "C:\\Users\\13018\\AppData\\Local\\Temp\\ipykernel_16080\\2340310863.py:10: FutureWarning: The frame.append method is deprecated and will be removed from pandas in a future version. Use pandas.concat instead.\n",
      "  Sat_data = Sat_data.append({\"Longitude\": longitude, \"Latitude\": latitude}, ignore_index=True)\n"
     ]
    },
    {
     "name": "stdout",
     "output_type": "stream",
     "text": [
      "Data received: {'message': 'success', 'timestamp': 1681492725, 'iss_position': {'longitude': '15.4992', 'latitude': '-17.8363'}}\n"
     ]
    },
    {
     "name": "stderr",
     "output_type": "stream",
     "text": [
      "C:\\Users\\13018\\AppData\\Local\\Temp\\ipykernel_16080\\2340310863.py:10: FutureWarning: The frame.append method is deprecated and will be removed from pandas in a future version. Use pandas.concat instead.\n",
      "  Sat_data = Sat_data.append({\"Longitude\": longitude, \"Latitude\": latitude}, ignore_index=True)\n"
     ]
    },
    {
     "name": "stdout",
     "output_type": "stream",
     "text": [
      "Data received: {'message': 'success', 'timestamp': 1681492730, 'iss_position': {'longitude': '15.7001', 'latitude': '-18.0816'}}\n"
     ]
    },
    {
     "name": "stderr",
     "output_type": "stream",
     "text": [
      "C:\\Users\\13018\\AppData\\Local\\Temp\\ipykernel_16080\\2340310863.py:10: FutureWarning: The frame.append method is deprecated and will be removed from pandas in a future version. Use pandas.concat instead.\n",
      "  Sat_data = Sat_data.append({\"Longitude\": longitude, \"Latitude\": latitude}, ignore_index=True)\n"
     ]
    },
    {
     "name": "stdout",
     "output_type": "stream",
     "text": [
      "Data received: {'message': 'success', 'timestamp': 1681492735, 'iss_position': {'longitude': '15.9218', 'latitude': '-18.3511'}}\n"
     ]
    },
    {
     "name": "stderr",
     "output_type": "stream",
     "text": [
      "C:\\Users\\13018\\AppData\\Local\\Temp\\ipykernel_16080\\2340310863.py:10: FutureWarning: The frame.append method is deprecated and will be removed from pandas in a future version. Use pandas.concat instead.\n",
      "  Sat_data = Sat_data.append({\"Longitude\": longitude, \"Latitude\": latitude}, ignore_index=True)\n"
     ]
    },
    {
     "name": "stdout",
     "output_type": "stream",
     "text": [
      "Data received: {'message': 'success', 'timestamp': 1681492740, 'iss_position': {'longitude': '16.1241', 'latitude': '-18.5958'}}\n"
     ]
    },
    {
     "name": "stderr",
     "output_type": "stream",
     "text": [
      "C:\\Users\\13018\\AppData\\Local\\Temp\\ipykernel_16080\\2340310863.py:10: FutureWarning: The frame.append method is deprecated and will be removed from pandas in a future version. Use pandas.concat instead.\n",
      "  Sat_data = Sat_data.append({\"Longitude\": longitude, \"Latitude\": latitude}, ignore_index=True)\n"
     ]
    },
    {
     "name": "stdout",
     "output_type": "stream",
     "text": [
      "Data received: {'message': 'success', 'timestamp': 1681492746, 'iss_position': {'longitude': '16.3473', 'latitude': '-18.8647'}}\n"
     ]
    },
    {
     "name": "stderr",
     "output_type": "stream",
     "text": [
      "C:\\Users\\13018\\AppData\\Local\\Temp\\ipykernel_16080\\2340310863.py:10: FutureWarning: The frame.append method is deprecated and will be removed from pandas in a future version. Use pandas.concat instead.\n",
      "  Sat_data = Sat_data.append({\"Longitude\": longitude, \"Latitude\": latitude}, ignore_index=True)\n"
     ]
    },
    {
     "name": "stdout",
     "output_type": "stream",
     "text": [
      "Data received: {'message': 'success', 'timestamp': 1681492751, 'iss_position': {'longitude': '16.5509', 'latitude': '-19.1089'}}\n"
     ]
    },
    {
     "name": "stderr",
     "output_type": "stream",
     "text": [
      "C:\\Users\\13018\\AppData\\Local\\Temp\\ipykernel_16080\\2340310863.py:10: FutureWarning: The frame.append method is deprecated and will be removed from pandas in a future version. Use pandas.concat instead.\n",
      "  Sat_data = Sat_data.append({\"Longitude\": longitude, \"Latitude\": latitude}, ignore_index=True)\n"
     ]
    },
    {
     "name": "stdout",
     "output_type": "stream",
     "text": [
      "Data received: {'message': 'success', 'timestamp': 1681492756, 'iss_position': {'longitude': '16.7552', 'latitude': '-19.3529'}}\n"
     ]
    },
    {
     "name": "stderr",
     "output_type": "stream",
     "text": [
      "C:\\Users\\13018\\AppData\\Local\\Temp\\ipykernel_16080\\2340310863.py:10: FutureWarning: The frame.append method is deprecated and will be removed from pandas in a future version. Use pandas.concat instead.\n",
      "  Sat_data = Sat_data.append({\"Longitude\": longitude, \"Latitude\": latitude}, ignore_index=True)\n"
     ]
    },
    {
     "name": "stdout",
     "output_type": "stream",
     "text": [
      "Data received: {'message': 'success', 'timestamp': 1681492761, 'iss_position': {'longitude': '16.9807', 'latitude': '-19.6209'}}\n"
     ]
    },
    {
     "name": "stderr",
     "output_type": "stream",
     "text": [
      "C:\\Users\\13018\\AppData\\Local\\Temp\\ipykernel_16080\\2340310863.py:10: FutureWarning: The frame.append method is deprecated and will be removed from pandas in a future version. Use pandas.concat instead.\n",
      "  Sat_data = Sat_data.append({\"Longitude\": longitude, \"Latitude\": latitude}, ignore_index=True)\n"
     ]
    },
    {
     "name": "stdout",
     "output_type": "stream",
     "text": [
      "Data received: {'message': 'success', 'timestamp': 1681492766, 'iss_position': {'longitude': '17.1864', 'latitude': '-19.8642'}}\n"
     ]
    },
    {
     "name": "stderr",
     "output_type": "stream",
     "text": [
      "C:\\Users\\13018\\AppData\\Local\\Temp\\ipykernel_16080\\2340310863.py:10: FutureWarning: The frame.append method is deprecated and will be removed from pandas in a future version. Use pandas.concat instead.\n",
      "  Sat_data = Sat_data.append({\"Longitude\": longitude, \"Latitude\": latitude}, ignore_index=True)\n"
     ]
    },
    {
     "name": "stdout",
     "output_type": "stream",
     "text": [
      "Data received: {'message': 'success', 'timestamp': 1681492772, 'iss_position': {'longitude': '17.4135', 'latitude': '-20.1315'}}\n"
     ]
    },
    {
     "name": "stderr",
     "output_type": "stream",
     "text": [
      "C:\\Users\\13018\\AppData\\Local\\Temp\\ipykernel_16080\\2340310863.py:10: FutureWarning: The frame.append method is deprecated and will be removed from pandas in a future version. Use pandas.concat instead.\n",
      "  Sat_data = Sat_data.append({\"Longitude\": longitude, \"Latitude\": latitude}, ignore_index=True)\n"
     ]
    },
    {
     "name": "stdout",
     "output_type": "stream",
     "text": [
      "Data received: {'message': 'success', 'timestamp': 1681492777, 'iss_position': {'longitude': '17.6206', 'latitude': '-20.3742'}}\n"
     ]
    },
    {
     "name": "stderr",
     "output_type": "stream",
     "text": [
      "C:\\Users\\13018\\AppData\\Local\\Temp\\ipykernel_16080\\2340310863.py:10: FutureWarning: The frame.append method is deprecated and will be removed from pandas in a future version. Use pandas.concat instead.\n",
      "  Sat_data = Sat_data.append({\"Longitude\": longitude, \"Latitude\": latitude}, ignore_index=True)\n"
     ]
    },
    {
     "name": "stdout",
     "output_type": "stream",
     "text": [
      "Data received: {'message': 'success', 'timestamp': 1681492782, 'iss_position': {'longitude': '17.8285', 'latitude': '-20.6166'}}\n"
     ]
    },
    {
     "name": "stderr",
     "output_type": "stream",
     "text": [
      "C:\\Users\\13018\\AppData\\Local\\Temp\\ipykernel_16080\\2340310863.py:10: FutureWarning: The frame.append method is deprecated and will be removed from pandas in a future version. Use pandas.concat instead.\n",
      "  Sat_data = Sat_data.append({\"Longitude\": longitude, \"Latitude\": latitude}, ignore_index=True)\n"
     ]
    },
    {
     "name": "stdout",
     "output_type": "stream",
     "text": [
      "Data received: {'message': 'success', 'timestamp': 1681492787, 'iss_position': {'longitude': '18.0580', 'latitude': '-20.8829'}}\n"
     ]
    },
    {
     "name": "stderr",
     "output_type": "stream",
     "text": [
      "C:\\Users\\13018\\AppData\\Local\\Temp\\ipykernel_16080\\2340310863.py:10: FutureWarning: The frame.append method is deprecated and will be removed from pandas in a future version. Use pandas.concat instead.\n",
      "  Sat_data = Sat_data.append({\"Longitude\": longitude, \"Latitude\": latitude}, ignore_index=True)\n"
     ]
    },
    {
     "name": "stdout",
     "output_type": "stream",
     "text": [
      "Data received: {'message': 'success', 'timestamp': 1681492792, 'iss_position': {'longitude': '18.2674', 'latitude': '-21.1247'}}\n"
     ]
    },
    {
     "name": "stderr",
     "output_type": "stream",
     "text": [
      "C:\\Users\\13018\\AppData\\Local\\Temp\\ipykernel_16080\\2340310863.py:10: FutureWarning: The frame.append method is deprecated and will be removed from pandas in a future version. Use pandas.concat instead.\n",
      "  Sat_data = Sat_data.append({\"Longitude\": longitude, \"Latitude\": latitude}, ignore_index=True)\n"
     ]
    },
    {
     "name": "stdout",
     "output_type": "stream",
     "text": [
      "   Longitude  Latitude\n",
      "0   179.3281  -19.5772\n",
      "1   179.5326  -19.3340\n",
      "2   179.7566  -19.0662\n",
      "3   179.9597  -18.8225\n",
      "4  -179.8380  -18.5785\n"
     ]
    }
   ],
   "source": [
    "while time.time() < end_time:\n",
    "    data = fetch_data()\n",
    "    print(\"Data received:\", data)\n",
    "\n",
    "    # Extract longitude and latitude values from the data\n",
    "    longitude = float(data[\"iss_position\"][\"longitude\"])\n",
    "    latitude = float(data[\"iss_position\"][\"latitude\"])\n",
    "    \n",
    "    # Append the values to the dataframe\n",
    "    Sat_data = Sat_data.append({\"Longitude\": longitude, \"Latitude\": latitude}, ignore_index=True)\n",
    "\n",
    "    # Wait for the specified interval before fetching data again\n",
    "    time.sleep(interval)\n",
    "\n",
    "print(Sat_data.head())"
   ]
  },
  {
   "cell_type": "code",
   "execution_count": 53,
   "id": "691a87af",
   "metadata": {},
   "outputs": [
    {
     "data": {
      "text/html": [
       "<div>\n",
       "<style scoped>\n",
       "    .dataframe tbody tr th:only-of-type {\n",
       "        vertical-align: middle;\n",
       "    }\n",
       "\n",
       "    .dataframe tbody tr th {\n",
       "        vertical-align: top;\n",
       "    }\n",
       "\n",
       "    .dataframe thead th {\n",
       "        text-align: right;\n",
       "    }\n",
       "</style>\n",
       "<table border=\"1\" class=\"dataframe\">\n",
       "  <thead>\n",
       "    <tr style=\"text-align: right;\">\n",
       "      <th></th>\n",
       "      <th>Longitude</th>\n",
       "      <th>Latitude</th>\n",
       "    </tr>\n",
       "  </thead>\n",
       "  <tbody>\n",
       "    <tr>\n",
       "      <th>0</th>\n",
       "      <td>179.3281</td>\n",
       "      <td>-19.5772</td>\n",
       "    </tr>\n",
       "    <tr>\n",
       "      <th>1</th>\n",
       "      <td>179.5326</td>\n",
       "      <td>-19.3340</td>\n",
       "    </tr>\n",
       "    <tr>\n",
       "      <th>2</th>\n",
       "      <td>179.7566</td>\n",
       "      <td>-19.0662</td>\n",
       "    </tr>\n",
       "    <tr>\n",
       "      <th>3</th>\n",
       "      <td>179.9597</td>\n",
       "      <td>-18.8225</td>\n",
       "    </tr>\n",
       "    <tr>\n",
       "      <th>4</th>\n",
       "      <td>-179.8380</td>\n",
       "      <td>-18.5785</td>\n",
       "    </tr>\n",
       "    <tr>\n",
       "      <th>...</th>\n",
       "      <td>...</td>\n",
       "      <td>...</td>\n",
       "    </tr>\n",
       "    <tr>\n",
       "      <th>424</th>\n",
       "      <td>17.4135</td>\n",
       "      <td>-20.1315</td>\n",
       "    </tr>\n",
       "    <tr>\n",
       "      <th>425</th>\n",
       "      <td>17.6206</td>\n",
       "      <td>-20.3742</td>\n",
       "    </tr>\n",
       "    <tr>\n",
       "      <th>426</th>\n",
       "      <td>17.8285</td>\n",
       "      <td>-20.6166</td>\n",
       "    </tr>\n",
       "    <tr>\n",
       "      <th>427</th>\n",
       "      <td>18.0580</td>\n",
       "      <td>-20.8829</td>\n",
       "    </tr>\n",
       "    <tr>\n",
       "      <th>428</th>\n",
       "      <td>18.2674</td>\n",
       "      <td>-21.1247</td>\n",
       "    </tr>\n",
       "  </tbody>\n",
       "</table>\n",
       "<p>429 rows × 2 columns</p>\n",
       "</div>"
      ],
      "text/plain": [
       "     Longitude  Latitude\n",
       "0     179.3281  -19.5772\n",
       "1     179.5326  -19.3340\n",
       "2     179.7566  -19.0662\n",
       "3     179.9597  -18.8225\n",
       "4    -179.8380  -18.5785\n",
       "..         ...       ...\n",
       "424    17.4135  -20.1315\n",
       "425    17.6206  -20.3742\n",
       "426    17.8285  -20.6166\n",
       "427    18.0580  -20.8829\n",
       "428    18.2674  -21.1247\n",
       "\n",
       "[429 rows x 2 columns]"
      ]
     },
     "execution_count": 53,
     "metadata": {},
     "output_type": "execute_result"
    }
   ],
   "source": [
    "Sat_data"
   ]
  },
  {
   "cell_type": "code",
   "execution_count": 56,
   "id": "2aece5a9",
   "metadata": {},
   "outputs": [
    {
     "data": {
      "image/png": "[encoded data removed]",
      "text/plain": [
       "<Figure size 1850x1050 with 1 Axes>"
      ]
     },
     "metadata": {},
     "output_type": "display_data"
    }
   ],
   "source": [
    "gdf = geopandas.GeoDataFrame(Sat_data,geometry=geopandas.points_from_xy(Sat_data.Longitude, Sat_data.Latitude))\n",
    "world = geopandas.read_file(geopandas.datasets.get_path('naturalearth_lowres'))\n",
    "\n",
    "fig, tracking =plt.subplots(figsize=(18.5,10.5))\n",
    "world.plot(color = 'skyblue',ax=tracking)\n",
    "gdf.plot(ax=tracking, color='red')\n",
    "plt.show()"
   ]
  },
  {
   "cell_type": "code",
   "execution_count": null,
   "id": "d6b94bbb",
   "metadata": {},
   "outputs": [],
   "source": []
  }
 ],
 "metadata": {
  "kernelspec": {
   "display_name": "Python 3 (ipykernel)",
   "language": "python",
   "name": "python3"
  },
  "language_info": {
   "codemirror_mode": {
    "name": "ipython",
    "version": 3
   },
   "file_extension": ".py",
   "mimetype": "text/x-python",
   "name": "python",
   "nbconvert_exporter": "python",
   "pygments_lexer": "ipython3",
   "version": "3.9.13"
  }
 },
 "nbformat": 4,
 "nbformat_minor": 5
}
