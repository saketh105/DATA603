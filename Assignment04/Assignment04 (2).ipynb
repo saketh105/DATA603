{
 "cells": [
  {
   "cell_type": "markdown",
   "id": "1d08725d",
   "metadata": {},
   "source": [
    "### Assignment 04"
   ]
  },
  {
   "cell_type": "code",
   "execution_count": 1,
   "id": "b6ae771a",
   "metadata": {},
   "outputs": [],
   "source": [
    "import json\n",
    "import time\n",
    "import requests\n",
    "import pandas as pd\n",
    "import matplotlib.pyplot as plt\n",
    "import geopandas as geopandas"
   ]
  },
  {
   "cell_type": "markdown",
   "id": "31aaf445",
   "metadata": {},
   "source": [
    "#### Fetching data "
   ]
  },
  {
   "cell_type": "code",
   "execution_count": 2,
   "id": "f4d42266",
   "metadata": {},
   "outputs": [],
   "source": [
    "def fetch_data():\n",
    "    url = \"http://api.open-notify.org/iss-now.json\"\n",
    "    response = requests.get(url)\n",
    "    data = json.loads(response.text)\n",
    "    return data\n",
    "\n"
   ]
  },
  {
   "cell_type": "markdown",
   "id": "3002d02a",
   "metadata": {},
   "source": [
    "#### Initialize an empty Pandas dataframe with the desired column names"
   ]
  },
  {
   "cell_type": "code",
   "execution_count": 3,
   "id": "9472ff8c",
   "metadata": {},
   "outputs": [],
   "source": [
    "Sat_data = pd.DataFrame(columns=[\"Longitude\", \"Latitude\"])"
   ]
  },
  {
   "cell_type": "markdown",
   "id": "e1865d0d",
   "metadata": {},
   "source": [
    "#### Set the duration of the stream and the interval at which data is fetched"
   ]
  },
  {
   "cell_type": "code",
   "execution_count": 4,
   "id": "e03b8987",
   "metadata": {},
   "outputs": [],
   "source": [
    "duration = 3600 # 1 hour in seconds\n",
    "interval = 5  # 5 seconds"
   ]
  },
  {
   "cell_type": "code",
   "execution_count": 5,
   "id": "92539cdc",
   "metadata": {},
   "outputs": [],
   "source": [
    "start_time = time.time()\n",
    "end_time = start_time + duration"
   ]
  },
  {
   "cell_type": "code",
   "execution_count": 6,
   "id": "3276662c",
   "metadata": {},
   "outputs": [
    {
     "name": "stdout",
     "output_type": "stream",
     "text": [
      "Data received: {'timestamp': 1682638694, 'message': 'success', 'iss_position': {'latitude': '48.9245', 'longitude': '121.7517'}}\n"
     ]
    },
    {
     "name": "stderr",
     "output_type": "stream",
     "text": [
      "C:\\Users\\13018\\AppData\\Local\\Temp\\ipykernel_11600\\2340310863.py:10: FutureWarning: The frame.append method is deprecated and will be removed from pandas in a future version. Use pandas.concat instead.\n",
      "  Sat_data = Sat_data.append({\"Longitude\": longitude, \"Latitude\": latitude}, ignore_index=True)\n"
     ]
    },
    {
     "name": "stdout",
     "output_type": "stream",
     "text": [
      "Data received: {'timestamp': 1682638699, 'message': 'success', 'iss_position': {'latitude': '48.8067', 'longitude': '122.2396'}}\n"
     ]
    },
    {
     "name": "stderr",
     "output_type": "stream",
     "text": [
      "C:\\Users\\13018\\AppData\\Local\\Temp\\ipykernel_11600\\2340310863.py:10: FutureWarning: The frame.append method is deprecated and will be removed from pandas in a future version. Use pandas.concat instead.\n",
      "  Sat_data = Sat_data.append({\"Longitude\": longitude, \"Latitude\": latitude}, ignore_index=True)\n"
     ]
    },
    {
     "name": "stdout",
     "output_type": "stream",
     "text": [
      "Data received: {'timestamp': 1682638704, 'message': 'success', 'iss_position': {'latitude': '48.6977', 'longitude': '122.6811'}}\n"
     ]
    },
    {
     "name": "stderr",
     "output_type": "stream",
     "text": [
      "C:\\Users\\13018\\AppData\\Local\\Temp\\ipykernel_11600\\2340310863.py:10: FutureWarning: The frame.append method is deprecated and will be removed from pandas in a future version. Use pandas.concat instead.\n",
      "  Sat_data = Sat_data.append({\"Longitude\": longitude, \"Latitude\": latitude}, ignore_index=True)\n"
     ]
    },
    {
     "name": "stdout",
     "output_type": "stream",
     "text": [
      "Data received: {'timestamp': 1682638709, 'message': 'success', 'iss_position': {'latitude': '48.5869', 'longitude': '123.1205'}}\n"
     ]
    },
    {
     "name": "stderr",
     "output_type": "stream",
     "text": [
      "C:\\Users\\13018\\AppData\\Local\\Temp\\ipykernel_11600\\2340310863.py:10: FutureWarning: The frame.append method is deprecated and will be removed from pandas in a future version. Use pandas.concat instead.\n",
      "  Sat_data = Sat_data.append({\"Longitude\": longitude, \"Latitude\": latitude}, ignore_index=True)\n"
     ]
    },
    {
     "name": "stdout",
     "output_type": "stream",
     "text": [
      "Data received: {'timestamp': 1682638715, 'message': 'success', 'iss_position': {'latitude': '48.4628', 'longitude': '123.6015'}}\n"
     ]
    },
    {
     "name": "stderr",
     "output_type": "stream",
     "text": [
      "C:\\Users\\13018\\AppData\\Local\\Temp\\ipykernel_11600\\2340310863.py:10: FutureWarning: The frame.append method is deprecated and will be removed from pandas in a future version. Use pandas.concat instead.\n",
      "  Sat_data = Sat_data.append({\"Longitude\": longitude, \"Latitude\": latitude}, ignore_index=True)\n"
     ]
    },
    {
     "name": "stdout",
     "output_type": "stream",
     "text": [
      "Data received: {'timestamp': 1682638720, 'message': 'success', 'iss_position': {'latitude': '48.3481', 'longitude': '124.0367'}}\n"
     ]
    },
    {
     "name": "stderr",
     "output_type": "stream",
     "text": [
      "C:\\Users\\13018\\AppData\\Local\\Temp\\ipykernel_11600\\2340310863.py:10: FutureWarning: The frame.append method is deprecated and will be removed from pandas in a future version. Use pandas.concat instead.\n",
      "  Sat_data = Sat_data.append({\"Longitude\": longitude, \"Latitude\": latitude}, ignore_index=True)\n"
     ]
    },
    {
     "name": "stdout",
     "output_type": "stream",
     "text": [
      "Data received: {'timestamp': 1682638725, 'message': 'success', 'iss_position': {'latitude': '48.2317', 'longitude': '124.4697'}}\n"
     ]
    },
    {
     "name": "stderr",
     "output_type": "stream",
     "text": [
      "C:\\Users\\13018\\AppData\\Local\\Temp\\ipykernel_11600\\2340310863.py:10: FutureWarning: The frame.append method is deprecated and will be removed from pandas in a future version. Use pandas.concat instead.\n",
      "  Sat_data = Sat_data.append({\"Longitude\": longitude, \"Latitude\": latitude}, ignore_index=True)\n"
     ]
    },
    {
     "name": "stdout",
     "output_type": "stream",
     "text": [
      "Data received: {'timestamp': 1682638730, 'message': 'success', 'iss_position': {'latitude': '48.1015', 'longitude': '124.9436'}}\n"
     ]
    },
    {
     "name": "stderr",
     "output_type": "stream",
     "text": [
      "C:\\Users\\13018\\AppData\\Local\\Temp\\ipykernel_11600\\2340310863.py:10: FutureWarning: The frame.append method is deprecated and will be removed from pandas in a future version. Use pandas.concat instead.\n",
      "  Sat_data = Sat_data.append({\"Longitude\": longitude, \"Latitude\": latitude}, ignore_index=True)\n"
     ]
    },
    {
     "name": "stdout",
     "output_type": "stream",
     "text": [
      "Data received: {'timestamp': 1682638735, 'message': 'success', 'iss_position': {'latitude': '47.9813', 'longitude': '125.3724'}}\n"
     ]
    },
    {
     "name": "stderr",
     "output_type": "stream",
     "text": [
      "C:\\Users\\13018\\AppData\\Local\\Temp\\ipykernel_11600\\2340310863.py:10: FutureWarning: The frame.append method is deprecated and will be removed from pandas in a future version. Use pandas.concat instead.\n",
      "  Sat_data = Sat_data.append({\"Longitude\": longitude, \"Latitude\": latitude}, ignore_index=True)\n"
     ]
    },
    {
     "name": "stdout",
     "output_type": "stream",
     "text": [
      "Data received: {'timestamp': 1682638740, 'message': 'success', 'iss_position': {'latitude': '47.8594', 'longitude': '125.7989'}}\n"
     ]
    },
    {
     "name": "stderr",
     "output_type": "stream",
     "text": [
      "C:\\Users\\13018\\AppData\\Local\\Temp\\ipykernel_11600\\2340310863.py:10: FutureWarning: The frame.append method is deprecated and will be removed from pandas in a future version. Use pandas.concat instead.\n",
      "  Sat_data = Sat_data.append({\"Longitude\": longitude, \"Latitude\": latitude}, ignore_index=True)\n"
     ]
    },
    {
     "name": "stdout",
     "output_type": "stream",
     "text": [
      "Data received: {'timestamp': 1682638745, 'message': 'success', 'iss_position': {'latitude': '47.7357', 'longitude': '126.2235'}}\n"
     ]
    },
    {
     "name": "stderr",
     "output_type": "stream",
     "text": [
      "C:\\Users\\13018\\AppData\\Local\\Temp\\ipykernel_11600\\2340310863.py:10: FutureWarning: The frame.append method is deprecated and will be removed from pandas in a future version. Use pandas.concat instead.\n",
      "  Sat_data = Sat_data.append({\"Longitude\": longitude, \"Latitude\": latitude}, ignore_index=True)\n"
     ]
    },
    {
     "name": "stdout",
     "output_type": "stream",
     "text": [
      "Data received: {'timestamp': 1682638751, 'message': 'success', 'iss_position': {'latitude': '47.5977', 'longitude': '126.6879'}}\n"
     ]
    },
    {
     "name": "stderr",
     "output_type": "stream",
     "text": [
      "C:\\Users\\13018\\AppData\\Local\\Temp\\ipykernel_11600\\2340310863.py:10: FutureWarning: The frame.append method is deprecated and will be removed from pandas in a future version. Use pandas.concat instead.\n",
      "  Sat_data = Sat_data.append({\"Longitude\": longitude, \"Latitude\": latitude}, ignore_index=True)\n"
     ]
    },
    {
     "name": "stdout",
     "output_type": "stream",
     "text": [
      "Data received: {'timestamp': 1682638756, 'message': 'success', 'iss_position': {'latitude': '47.4705', 'longitude': '127.1079'}}\n"
     ]
    },
    {
     "name": "stderr",
     "output_type": "stream",
     "text": [
      "C:\\Users\\13018\\AppData\\Local\\Temp\\ipykernel_11600\\2340310863.py:10: FutureWarning: The frame.append method is deprecated and will be removed from pandas in a future version. Use pandas.concat instead.\n",
      "  Sat_data = Sat_data.append({\"Longitude\": longitude, \"Latitude\": latitude}, ignore_index=True)\n"
     ]
    },
    {
     "name": "stdout",
     "output_type": "stream",
     "text": [
      "Data received: {'timestamp': 1682638761, 'message': 'success', 'iss_position': {'latitude': '47.3285', 'longitude': '127.5674'}}\n"
     ]
    },
    {
     "name": "stderr",
     "output_type": "stream",
     "text": [
      "C:\\Users\\13018\\AppData\\Local\\Temp\\ipykernel_11600\\2340310863.py:10: FutureWarning: The frame.append method is deprecated and will be removed from pandas in a future version. Use pandas.concat instead.\n",
      "  Sat_data = Sat_data.append({\"Longitude\": longitude, \"Latitude\": latitude}, ignore_index=True)\n"
     ]
    },
    {
     "name": "stdout",
     "output_type": "stream",
     "text": [
      "Data received: {'timestamp': 1682638767, 'message': 'success', 'iss_position': {'latitude': '47.1846', 'longitude': '128.0243'}}\n"
     ]
    },
    {
     "name": "stderr",
     "output_type": "stream",
     "text": [
      "C:\\Users\\13018\\AppData\\Local\\Temp\\ipykernel_11600\\2340310863.py:10: FutureWarning: The frame.append method is deprecated and will be removed from pandas in a future version. Use pandas.concat instead.\n",
      "  Sat_data = Sat_data.append({\"Longitude\": longitude, \"Latitude\": latitude}, ignore_index=True)\n"
     ]
    },
    {
     "name": "stdout",
     "output_type": "stream",
     "text": [
      "Data received: {'timestamp': 1682638772, 'message': 'success', 'iss_position': {'latitude': '47.0520', 'longitude': '128.4373'}}\n"
     ]
    },
    {
     "name": "stderr",
     "output_type": "stream",
     "text": [
      "C:\\Users\\13018\\AppData\\Local\\Temp\\ipykernel_11600\\2340310863.py:10: FutureWarning: The frame.append method is deprecated and will be removed from pandas in a future version. Use pandas.concat instead.\n",
      "  Sat_data = Sat_data.append({\"Longitude\": longitude, \"Latitude\": latitude}, ignore_index=True)\n"
     ]
    },
    {
     "name": "stdout",
     "output_type": "stream",
     "text": [
      "Data received: {'timestamp': 1682638777, 'message': 'success', 'iss_position': {'latitude': '46.9178', 'longitude': '128.8483'}}\n"
     ]
    },
    {
     "name": "stderr",
     "output_type": "stream",
     "text": [
      "C:\\Users\\13018\\AppData\\Local\\Temp\\ipykernel_11600\\2340310863.py:10: FutureWarning: The frame.append method is deprecated and will be removed from pandas in a future version. Use pandas.concat instead.\n",
      "  Sat_data = Sat_data.append({\"Longitude\": longitude, \"Latitude\": latitude}, ignore_index=True)\n"
     ]
    },
    {
     "name": "stdout",
     "output_type": "stream",
     "text": [
      "Data received: {'timestamp': 1682638782, 'message': 'success', 'iss_position': {'latitude': '46.7683', 'longitude': '129.2978'}}\n"
     ]
    },
    {
     "name": "stderr",
     "output_type": "stream",
     "text": [
      "C:\\Users\\13018\\AppData\\Local\\Temp\\ipykernel_11600\\2340310863.py:10: FutureWarning: The frame.append method is deprecated and will be removed from pandas in a future version. Use pandas.concat instead.\n",
      "  Sat_data = Sat_data.append({\"Longitude\": longitude, \"Latitude\": latitude}, ignore_index=True)\n"
     ]
    },
    {
     "name": "stdout",
     "output_type": "stream",
     "text": [
      "Data received: {'timestamp': 1682638787, 'message': 'success', 'iss_position': {'latitude': '46.6307', 'longitude': '129.7042'}}\n"
     ]
    },
    {
     "name": "stderr",
     "output_type": "stream",
     "text": [
      "C:\\Users\\13018\\AppData\\Local\\Temp\\ipykernel_11600\\2340310863.py:10: FutureWarning: The frame.append method is deprecated and will be removed from pandas in a future version. Use pandas.concat instead.\n",
      "  Sat_data = Sat_data.append({\"Longitude\": longitude, \"Latitude\": latitude}, ignore_index=True)\n"
     ]
    },
    {
     "name": "stdout",
     "output_type": "stream",
     "text": [
      "Data received: {'timestamp': 1682638792, 'message': 'success', 'iss_position': {'latitude': '46.4915', 'longitude': '130.1084'}}\n"
     ]
    },
    {
     "name": "stderr",
     "output_type": "stream",
     "text": [
      "C:\\Users\\13018\\AppData\\Local\\Temp\\ipykernel_11600\\2340310863.py:10: FutureWarning: The frame.append method is deprecated and will be removed from pandas in a future version. Use pandas.concat instead.\n",
      "  Sat_data = Sat_data.append({\"Longitude\": longitude, \"Latitude\": latitude}, ignore_index=True)\n"
     ]
    },
    {
     "name": "stdout",
     "output_type": "stream",
     "text": [
      "Data received: {'timestamp': 1682638798, 'message': 'success', 'iss_position': {'latitude': '46.3365', 'longitude': '130.5507'}}\n"
     ]
    },
    {
     "name": "stderr",
     "output_type": "stream",
     "text": [
      "C:\\Users\\13018\\AppData\\Local\\Temp\\ipykernel_11600\\2340310863.py:10: FutureWarning: The frame.append method is deprecated and will be removed from pandas in a future version. Use pandas.concat instead.\n",
      "  Sat_data = Sat_data.append({\"Longitude\": longitude, \"Latitude\": latitude}, ignore_index=True)\n"
     ]
    },
    {
     "name": "stdout",
     "output_type": "stream",
     "text": [
      "Data received: {'timestamp': 1682638803, 'message': 'success', 'iss_position': {'latitude': '46.1940', 'longitude': '130.9503'}}\n"
     ]
    },
    {
     "name": "stderr",
     "output_type": "stream",
     "text": [
      "C:\\Users\\13018\\AppData\\Local\\Temp\\ipykernel_11600\\2340310863.py:10: FutureWarning: The frame.append method is deprecated and will be removed from pandas in a future version. Use pandas.concat instead.\n",
      "  Sat_data = Sat_data.append({\"Longitude\": longitude, \"Latitude\": latitude}, ignore_index=True)\n"
     ]
    },
    {
     "name": "stdout",
     "output_type": "stream",
     "text": [
      "Data received: {'timestamp': 1682638808, 'message': 'success', 'iss_position': {'latitude': '46.0500', 'longitude': '131.3478'}}\n"
     ]
    },
    {
     "name": "stderr",
     "output_type": "stream",
     "text": [
      "C:\\Users\\13018\\AppData\\Local\\Temp\\ipykernel_11600\\2340310863.py:10: FutureWarning: The frame.append method is deprecated and will be removed from pandas in a future version. Use pandas.concat instead.\n",
      "  Sat_data = Sat_data.append({\"Longitude\": longitude, \"Latitude\": latitude}, ignore_index=True)\n"
     ]
    },
    {
     "name": "stdout",
     "output_type": "stream",
     "text": [
      "Data received: {'timestamp': 1682638813, 'message': 'success', 'iss_position': {'latitude': '45.8898', 'longitude': '131.7824'}}\n"
     ]
    },
    {
     "name": "stderr",
     "output_type": "stream",
     "text": [
      "C:\\Users\\13018\\AppData\\Local\\Temp\\ipykernel_11600\\2340310863.py:10: FutureWarning: The frame.append method is deprecated and will be removed from pandas in a future version. Use pandas.concat instead.\n",
      "  Sat_data = Sat_data.append({\"Longitude\": longitude, \"Latitude\": latitude}, ignore_index=True)\n"
     ]
    },
    {
     "name": "stdout",
     "output_type": "stream",
     "text": [
      "Data received: {'timestamp': 1682638818, 'message': 'success', 'iss_position': {'latitude': '45.7427', 'longitude': '132.1752'}}\n"
     ]
    },
    {
     "name": "stderr",
     "output_type": "stream",
     "text": [
      "C:\\Users\\13018\\AppData\\Local\\Temp\\ipykernel_11600\\2340310863.py:10: FutureWarning: The frame.append method is deprecated and will be removed from pandas in a future version. Use pandas.concat instead.\n",
      "  Sat_data = Sat_data.append({\"Longitude\": longitude, \"Latitude\": latitude}, ignore_index=True)\n"
     ]
    },
    {
     "name": "stdout",
     "output_type": "stream",
     "text": [
      "Data received: {'timestamp': 1682638823, 'message': 'success', 'iss_position': {'latitude': '45.5940', 'longitude': '132.5658'}}\n"
     ]
    },
    {
     "name": "stderr",
     "output_type": "stream",
     "text": [
      "C:\\Users\\13018\\AppData\\Local\\Temp\\ipykernel_11600\\2340310863.py:10: FutureWarning: The frame.append method is deprecated and will be removed from pandas in a future version. Use pandas.concat instead.\n",
      "  Sat_data = Sat_data.append({\"Longitude\": longitude, \"Latitude\": latitude}, ignore_index=True)\n"
     ]
    },
    {
     "name": "stdout",
     "output_type": "stream",
     "text": [
      "Data received: {'timestamp': 1682638829, 'message': 'success', 'iss_position': {'latitude': '45.4288', 'longitude': '132.9931'}}\n"
     ]
    },
    {
     "name": "stderr",
     "output_type": "stream",
     "text": [
      "C:\\Users\\13018\\AppData\\Local\\Temp\\ipykernel_11600\\2340310863.py:10: FutureWarning: The frame.append method is deprecated and will be removed from pandas in a future version. Use pandas.concat instead.\n",
      "  Sat_data = Sat_data.append({\"Longitude\": longitude, \"Latitude\": latitude}, ignore_index=True)\n"
     ]
    },
    {
     "name": "stdout",
     "output_type": "stream",
     "text": [
      "Data received: {'timestamp': 1682638834, 'message': 'success', 'iss_position': {'latitude': '45.2770', 'longitude': '133.3793'}}\n"
     ]
    },
    {
     "name": "stderr",
     "output_type": "stream",
     "text": [
      "C:\\Users\\13018\\AppData\\Local\\Temp\\ipykernel_11600\\2340310863.py:10: FutureWarning: The frame.append method is deprecated and will be removed from pandas in a future version. Use pandas.concat instead.\n",
      "  Sat_data = Sat_data.append({\"Longitude\": longitude, \"Latitude\": latitude}, ignore_index=True)\n"
     ]
    },
    {
     "name": "stdout",
     "output_type": "stream",
     "text": [
      "Data received: {'timestamp': 1682638839, 'message': 'success', 'iss_position': {'latitude': '45.1238', 'longitude': '133.7631'}}\n"
     ]
    },
    {
     "name": "stderr",
     "output_type": "stream",
     "text": [
      "C:\\Users\\13018\\AppData\\Local\\Temp\\ipykernel_11600\\2340310863.py:10: FutureWarning: The frame.append method is deprecated and will be removed from pandas in a future version. Use pandas.concat instead.\n",
      "  Sat_data = Sat_data.append({\"Longitude\": longitude, \"Latitude\": latitude}, ignore_index=True)\n"
     ]
    },
    {
     "name": "stdout",
     "output_type": "stream",
     "text": [
      "Data received: {'timestamp': 1682638844, 'message': 'success', 'iss_position': {'latitude': '44.9692', 'longitude': '134.1448'}}\n"
     ]
    },
    {
     "name": "stderr",
     "output_type": "stream",
     "text": [
      "C:\\Users\\13018\\AppData\\Local\\Temp\\ipykernel_11600\\2340310863.py:10: FutureWarning: The frame.append method is deprecated and will be removed from pandas in a future version. Use pandas.concat instead.\n",
      "  Sat_data = Sat_data.append({\"Longitude\": longitude, \"Latitude\": latitude}, ignore_index=True)\n"
     ]
    },
    {
     "name": "stdout",
     "output_type": "stream",
     "text": [
      "Data received: {'timestamp': 1682638849, 'message': 'success', 'iss_position': {'latitude': '44.7975', 'longitude': '134.5620'}}\n"
     ]
    },
    {
     "name": "stderr",
     "output_type": "stream",
     "text": [
      "C:\\Users\\13018\\AppData\\Local\\Temp\\ipykernel_11600\\2340310863.py:10: FutureWarning: The frame.append method is deprecated and will be removed from pandas in a future version. Use pandas.concat instead.\n",
      "  Sat_data = Sat_data.append({\"Longitude\": longitude, \"Latitude\": latitude}, ignore_index=True)\n"
     ]
    },
    {
     "name": "stdout",
     "output_type": "stream",
     "text": [
      "Data received: {'timestamp': 1682638854, 'message': 'success', 'iss_position': {'latitude': '44.6400', 'longitude': '134.9392'}}\n"
     ]
    },
    {
     "name": "stderr",
     "output_type": "stream",
     "text": [
      "C:\\Users\\13018\\AppData\\Local\\Temp\\ipykernel_11600\\2340310863.py:10: FutureWarning: The frame.append method is deprecated and will be removed from pandas in a future version. Use pandas.concat instead.\n",
      "  Sat_data = Sat_data.append({\"Longitude\": longitude, \"Latitude\": latitude}, ignore_index=True)\n"
     ]
    },
    {
     "name": "stdout",
     "output_type": "stream",
     "text": [
      "Data received: {'timestamp': 1682638859, 'message': 'success', 'iss_position': {'latitude': '44.4810', 'longitude': '135.3141'}}\n"
     ]
    },
    {
     "name": "stderr",
     "output_type": "stream",
     "text": [
      "C:\\Users\\13018\\AppData\\Local\\Temp\\ipykernel_11600\\2340310863.py:10: FutureWarning: The frame.append method is deprecated and will be removed from pandas in a future version. Use pandas.concat instead.\n",
      "  Sat_data = Sat_data.append({\"Longitude\": longitude, \"Latitude\": latitude}, ignore_index=True)\n"
     ]
    },
    {
     "name": "stdout",
     "output_type": "stream",
     "text": [
      "Data received: {'timestamp': 1682638865, 'message': 'success', 'iss_position': {'latitude': '44.3046', 'longitude': '135.7241'}}\n"
     ]
    },
    {
     "name": "stderr",
     "output_type": "stream",
     "text": [
      "C:\\Users\\13018\\AppData\\Local\\Temp\\ipykernel_11600\\2340310863.py:10: FutureWarning: The frame.append method is deprecated and will be removed from pandas in a future version. Use pandas.concat instead.\n",
      "  Sat_data = Sat_data.append({\"Longitude\": longitude, \"Latitude\": latitude}, ignore_index=True)\n"
     ]
    },
    {
     "name": "stdout",
     "output_type": "stream",
     "text": [
      "Data received: {'timestamp': 1682638870, 'message': 'success', 'iss_position': {'latitude': '44.1428', 'longitude': '136.0948'}}\n"
     ]
    },
    {
     "name": "stderr",
     "output_type": "stream",
     "text": [
      "C:\\Users\\13018\\AppData\\Local\\Temp\\ipykernel_11600\\2340310863.py:10: FutureWarning: The frame.append method is deprecated and will be removed from pandas in a future version. Use pandas.concat instead.\n",
      "  Sat_data = Sat_data.append({\"Longitude\": longitude, \"Latitude\": latitude}, ignore_index=True)\n"
     ]
    },
    {
     "name": "stdout",
     "output_type": "stream",
     "text": [
      "Data received: {'timestamp': 1682638875, 'message': 'success', 'iss_position': {'latitude': '43.9797', 'longitude': '136.4630'}}\n"
     ]
    },
    {
     "name": "stderr",
     "output_type": "stream",
     "text": [
      "C:\\Users\\13018\\AppData\\Local\\Temp\\ipykernel_11600\\2340310863.py:10: FutureWarning: The frame.append method is deprecated and will be removed from pandas in a future version. Use pandas.concat instead.\n",
      "  Sat_data = Sat_data.append({\"Longitude\": longitude, \"Latitude\": latitude}, ignore_index=True)\n"
     ]
    },
    {
     "name": "stdout",
     "output_type": "stream",
     "text": [
      "Data received: {'timestamp': 1682638880, 'message': 'success', 'iss_position': {'latitude': '43.7987', 'longitude': '136.8657'}}\n"
     ]
    },
    {
     "name": "stderr",
     "output_type": "stream",
     "text": [
      "C:\\Users\\13018\\AppData\\Local\\Temp\\ipykernel_11600\\2340310863.py:10: FutureWarning: The frame.append method is deprecated and will be removed from pandas in a future version. Use pandas.concat instead.\n",
      "  Sat_data = Sat_data.append({\"Longitude\": longitude, \"Latitude\": latitude}, ignore_index=True)\n"
     ]
    },
    {
     "name": "stdout",
     "output_type": "stream",
     "text": [
      "Data received: {'timestamp': 1682638885, 'message': 'success', 'iss_position': {'latitude': '43.6329', 'longitude': '137.2294'}}\n"
     ]
    },
    {
     "name": "stderr",
     "output_type": "stream",
     "text": [
      "C:\\Users\\13018\\AppData\\Local\\Temp\\ipykernel_11600\\2340310863.py:10: FutureWarning: The frame.append method is deprecated and will be removed from pandas in a future version. Use pandas.concat instead.\n",
      "  Sat_data = Sat_data.append({\"Longitude\": longitude, \"Latitude\": latitude}, ignore_index=True)\n"
     ]
    },
    {
     "name": "stdout",
     "output_type": "stream",
     "text": [
      "Data received: {'timestamp': 1682638890, 'message': 'success', 'iss_position': {'latitude': '43.4658', 'longitude': '137.5911'}}\n"
     ]
    },
    {
     "name": "stderr",
     "output_type": "stream",
     "text": [
      "C:\\Users\\13018\\AppData\\Local\\Temp\\ipykernel_11600\\2340310863.py:10: FutureWarning: The frame.append method is deprecated and will be removed from pandas in a future version. Use pandas.concat instead.\n",
      "  Sat_data = Sat_data.append({\"Longitude\": longitude, \"Latitude\": latitude}, ignore_index=True)\n"
     ]
    },
    {
     "name": "stdout",
     "output_type": "stream",
     "text": [
      "Data received: {'timestamp': 1682638896, 'message': 'success', 'iss_position': {'latitude': '43.2805', 'longitude': '137.9865'}}\n"
     ]
    },
    {
     "name": "stderr",
     "output_type": "stream",
     "text": [
      "C:\\Users\\13018\\AppData\\Local\\Temp\\ipykernel_11600\\2340310863.py:10: FutureWarning: The frame.append method is deprecated and will be removed from pandas in a future version. Use pandas.concat instead.\n",
      "  Sat_data = Sat_data.append({\"Longitude\": longitude, \"Latitude\": latitude}, ignore_index=True)\n"
     ]
    },
    {
     "name": "stdout",
     "output_type": "stream",
     "text": [
      "Data received: {'timestamp': 1682638901, 'message': 'success', 'iss_position': {'latitude': '43.1107', 'longitude': '138.3437'}}\n"
     ]
    },
    {
     "name": "stderr",
     "output_type": "stream",
     "text": [
      "C:\\Users\\13018\\AppData\\Local\\Temp\\ipykernel_11600\\2340310863.py:10: FutureWarning: The frame.append method is deprecated and will be removed from pandas in a future version. Use pandas.concat instead.\n",
      "  Sat_data = Sat_data.append({\"Longitude\": longitude, \"Latitude\": latitude}, ignore_index=True)\n"
     ]
    },
    {
     "name": "stdout",
     "output_type": "stream",
     "text": [
      "Data received: {'timestamp': 1682638906, 'message': 'success', 'iss_position': {'latitude': '42.9396', 'longitude': '138.6988'}}\n"
     ]
    },
    {
     "name": "stderr",
     "output_type": "stream",
     "text": [
      "C:\\Users\\13018\\AppData\\Local\\Temp\\ipykernel_11600\\2340310863.py:10: FutureWarning: The frame.append method is deprecated and will be removed from pandas in a future version. Use pandas.concat instead.\n",
      "  Sat_data = Sat_data.append({\"Longitude\": longitude, \"Latitude\": latitude}, ignore_index=True)\n"
     ]
    },
    {
     "name": "stdout",
     "output_type": "stream",
     "text": [
      "Data received: {'timestamp': 1682638912, 'message': 'success', 'iss_position': {'latitude': '42.7501', 'longitude': '139.0870'}}\n"
     ]
    },
    {
     "name": "stderr",
     "output_type": "stream",
     "text": [
      "C:\\Users\\13018\\AppData\\Local\\Temp\\ipykernel_11600\\2340310863.py:10: FutureWarning: The frame.append method is deprecated and will be removed from pandas in a future version. Use pandas.concat instead.\n",
      "  Sat_data = Sat_data.append({\"Longitude\": longitude, \"Latitude\": latitude}, ignore_index=True)\n"
     ]
    },
    {
     "name": "stdout",
     "output_type": "stream",
     "text": [
      "Data received: {'timestamp': 1682638917, 'message': 'success', 'iss_position': {'latitude': '42.5765', 'longitude': '139.4378'}}\n"
     ]
    },
    {
     "name": "stderr",
     "output_type": "stream",
     "text": [
      "C:\\Users\\13018\\AppData\\Local\\Temp\\ipykernel_11600\\2340310863.py:10: FutureWarning: The frame.append method is deprecated and will be removed from pandas in a future version. Use pandas.concat instead.\n",
      "  Sat_data = Sat_data.append({\"Longitude\": longitude, \"Latitude\": latitude}, ignore_index=True)\n"
     ]
    },
    {
     "name": "stdout",
     "output_type": "stream",
     "text": [
      "Data received: {'timestamp': 1682638922, 'message': 'success', 'iss_position': {'latitude': '42.4018', 'longitude': '139.7864'}}\n"
     ]
    },
    {
     "name": "stderr",
     "output_type": "stream",
     "text": [
      "C:\\Users\\13018\\AppData\\Local\\Temp\\ipykernel_11600\\2340310863.py:10: FutureWarning: The frame.append method is deprecated and will be removed from pandas in a future version. Use pandas.concat instead.\n",
      "  Sat_data = Sat_data.append({\"Longitude\": longitude, \"Latitude\": latitude}, ignore_index=True)\n"
     ]
    },
    {
     "name": "stdout",
     "output_type": "stream",
     "text": [
      "Data received: {'timestamp': 1682638927, 'message': 'success', 'iss_position': {'latitude': '42.2081', 'longitude': '140.1676'}}\n"
     ]
    },
    {
     "name": "stderr",
     "output_type": "stream",
     "text": [
      "C:\\Users\\13018\\AppData\\Local\\Temp\\ipykernel_11600\\2340310863.py:10: FutureWarning: The frame.append method is deprecated and will be removed from pandas in a future version. Use pandas.concat instead.\n",
      "  Sat_data = Sat_data.append({\"Longitude\": longitude, \"Latitude\": latitude}, ignore_index=True)\n"
     ]
    },
    {
     "name": "stdout",
     "output_type": "stream",
     "text": [
      "Data received: {'timestamp': 1682638932, 'message': 'success', 'iss_position': {'latitude': '42.0309', 'longitude': '140.5119'}}\n"
     ]
    },
    {
     "name": "stderr",
     "output_type": "stream",
     "text": [
      "C:\\Users\\13018\\AppData\\Local\\Temp\\ipykernel_11600\\2340310863.py:10: FutureWarning: The frame.append method is deprecated and will be removed from pandas in a future version. Use pandas.concat instead.\n",
      "  Sat_data = Sat_data.append({\"Longitude\": longitude, \"Latitude\": latitude}, ignore_index=True)\n"
     ]
    },
    {
     "name": "stdout",
     "output_type": "stream",
     "text": [
      "Data received: {'timestamp': 1682638937, 'message': 'success', 'iss_position': {'latitude': '41.8525', 'longitude': '140.8542'}}\n"
     ]
    },
    {
     "name": "stderr",
     "output_type": "stream",
     "text": [
      "C:\\Users\\13018\\AppData\\Local\\Temp\\ipykernel_11600\\2340310863.py:10: FutureWarning: The frame.append method is deprecated and will be removed from pandas in a future version. Use pandas.concat instead.\n",
      "  Sat_data = Sat_data.append({\"Longitude\": longitude, \"Latitude\": latitude}, ignore_index=True)\n"
     ]
    },
    {
     "name": "stdout",
     "output_type": "stream",
     "text": [
      "Data received: {'timestamp': 1682638943, 'message': 'success', 'iss_position': {'latitude': '41.6550', 'longitude': '141.2283'}}\n"
     ]
    },
    {
     "name": "stderr",
     "output_type": "stream",
     "text": [
      "C:\\Users\\13018\\AppData\\Local\\Temp\\ipykernel_11600\\2340310863.py:10: FutureWarning: The frame.append method is deprecated and will be removed from pandas in a future version. Use pandas.concat instead.\n",
      "  Sat_data = Sat_data.append({\"Longitude\": longitude, \"Latitude\": latitude}, ignore_index=True)\n"
     ]
    },
    {
     "name": "stdout",
     "output_type": "stream",
     "text": [
      "Data received: {'timestamp': 1682638948, 'message': 'success', 'iss_position': {'latitude': '41.4742', 'longitude': '141.5664'}}\n"
     ]
    },
    {
     "name": "stderr",
     "output_type": "stream",
     "text": [
      "C:\\Users\\13018\\AppData\\Local\\Temp\\ipykernel_11600\\2340310863.py:10: FutureWarning: The frame.append method is deprecated and will be removed from pandas in a future version. Use pandas.concat instead.\n",
      "  Sat_data = Sat_data.append({\"Longitude\": longitude, \"Latitude\": latitude}, ignore_index=True)\n"
     ]
    },
    {
     "name": "stdout",
     "output_type": "stream",
     "text": [
      "Data received: {'timestamp': 1682638953, 'message': 'success', 'iss_position': {'latitude': '41.2924', 'longitude': '141.9024'}}\n"
     ]
    },
    {
     "name": "stderr",
     "output_type": "stream",
     "text": [
      "C:\\Users\\13018\\AppData\\Local\\Temp\\ipykernel_11600\\2340310863.py:10: FutureWarning: The frame.append method is deprecated and will be removed from pandas in a future version. Use pandas.concat instead.\n",
      "  Sat_data = Sat_data.append({\"Longitude\": longitude, \"Latitude\": latitude}, ignore_index=True)\n"
     ]
    },
    {
     "name": "stdout",
     "output_type": "stream",
     "text": [
      "Data received: {'timestamp': 1682638958, 'message': 'success', 'iss_position': {'latitude': '41.0910', 'longitude': '142.2698'}}\n"
     ]
    },
    {
     "name": "stderr",
     "output_type": "stream",
     "text": [
      "C:\\Users\\13018\\AppData\\Local\\Temp\\ipykernel_11600\\2340310863.py:10: FutureWarning: The frame.append method is deprecated and will be removed from pandas in a future version. Use pandas.concat instead.\n",
      "  Sat_data = Sat_data.append({\"Longitude\": longitude, \"Latitude\": latitude}, ignore_index=True)\n"
     ]
    },
    {
     "name": "stdout",
     "output_type": "stream",
     "text": [
      "Data received: {'timestamp': 1682638963, 'message': 'success', 'iss_position': {'latitude': '40.9068', 'longitude': '142.6016'}}\n"
     ]
    },
    {
     "name": "stderr",
     "output_type": "stream",
     "text": [
      "C:\\Users\\13018\\AppData\\Local\\Temp\\ipykernel_11600\\2340310863.py:10: FutureWarning: The frame.append method is deprecated and will be removed from pandas in a future version. Use pandas.concat instead.\n",
      "  Sat_data = Sat_data.append({\"Longitude\": longitude, \"Latitude\": latitude}, ignore_index=True)\n"
     ]
    },
    {
     "name": "stdout",
     "output_type": "stream",
     "text": [
      "Data received: {'timestamp': 1682638968, 'message': 'success', 'iss_position': {'latitude': '40.7216', 'longitude': '142.9316'}}\n"
     ]
    },
    {
     "name": "stderr",
     "output_type": "stream",
     "text": [
      "C:\\Users\\13018\\AppData\\Local\\Temp\\ipykernel_11600\\2340310863.py:10: FutureWarning: The frame.append method is deprecated and will be removed from pandas in a future version. Use pandas.concat instead.\n",
      "  Sat_data = Sat_data.append({\"Longitude\": longitude, \"Latitude\": latitude}, ignore_index=True)\n"
     ]
    },
    {
     "name": "stdout",
     "output_type": "stream",
     "text": [
      "Data received: {'timestamp': 1682638974, 'message': 'success', 'iss_position': {'latitude': '40.5166', 'longitude': '143.2923'}}\n"
     ]
    },
    {
     "name": "stderr",
     "output_type": "stream",
     "text": [
      "C:\\Users\\13018\\AppData\\Local\\Temp\\ipykernel_11600\\2340310863.py:10: FutureWarning: The frame.append method is deprecated and will be removed from pandas in a future version. Use pandas.concat instead.\n",
      "  Sat_data = Sat_data.append({\"Longitude\": longitude, \"Latitude\": latitude}, ignore_index=True)\n"
     ]
    },
    {
     "name": "stdout",
     "output_type": "stream",
     "text": [
      "Data received: {'timestamp': 1682638979, 'message': 'success', 'iss_position': {'latitude': '40.3291', 'longitude': '143.6181'}}\n"
     ]
    },
    {
     "name": "stderr",
     "output_type": "stream",
     "text": [
      "C:\\Users\\13018\\AppData\\Local\\Temp\\ipykernel_11600\\2340310863.py:10: FutureWarning: The frame.append method is deprecated and will be removed from pandas in a future version. Use pandas.concat instead.\n",
      "  Sat_data = Sat_data.append({\"Longitude\": longitude, \"Latitude\": latitude}, ignore_index=True)\n"
     ]
    },
    {
     "name": "stdout",
     "output_type": "stream",
     "text": [
      "Data received: {'timestamp': 1682638984, 'message': 'success', 'iss_position': {'latitude': '40.1406', 'longitude': '143.9420'}}\n"
     ]
    },
    {
     "name": "stderr",
     "output_type": "stream",
     "text": [
      "C:\\Users\\13018\\AppData\\Local\\Temp\\ipykernel_11600\\2340310863.py:10: FutureWarning: The frame.append method is deprecated and will be removed from pandas in a future version. Use pandas.concat instead.\n",
      "  Sat_data = Sat_data.append({\"Longitude\": longitude, \"Latitude\": latitude}, ignore_index=True)\n"
     ]
    },
    {
     "name": "stdout",
     "output_type": "stream",
     "text": [
      "Data received: {'timestamp': 1682638989, 'message': 'success', 'iss_position': {'latitude': '39.9321', 'longitude': '144.2961'}}\n"
     ]
    },
    {
     "name": "stderr",
     "output_type": "stream",
     "text": [
      "C:\\Users\\13018\\AppData\\Local\\Temp\\ipykernel_11600\\2340310863.py:10: FutureWarning: The frame.append method is deprecated and will be removed from pandas in a future version. Use pandas.concat instead.\n",
      "  Sat_data = Sat_data.append({\"Longitude\": longitude, \"Latitude\": latitude}, ignore_index=True)\n"
     ]
    },
    {
     "name": "stdout",
     "output_type": "stream",
     "text": [
      "Data received: {'timestamp': 1682638994, 'message': 'success', 'iss_position': {'latitude': '39.7415', 'longitude': '144.6159'}}\n"
     ]
    },
    {
     "name": "stderr",
     "output_type": "stream",
     "text": [
      "C:\\Users\\13018\\AppData\\Local\\Temp\\ipykernel_11600\\2340310863.py:10: FutureWarning: The frame.append method is deprecated and will be removed from pandas in a future version. Use pandas.concat instead.\n",
      "  Sat_data = Sat_data.append({\"Longitude\": longitude, \"Latitude\": latitude}, ignore_index=True)\n"
     ]
    },
    {
     "name": "stdout",
     "output_type": "stream",
     "text": [
      "Data received: {'timestamp': 1682638999, 'message': 'success', 'iss_position': {'latitude': '39.5499', 'longitude': '144.9339'}}\n"
     ]
    },
    {
     "name": "stderr",
     "output_type": "stream",
     "text": [
      "C:\\Users\\13018\\AppData\\Local\\Temp\\ipykernel_11600\\2340310863.py:10: FutureWarning: The frame.append method is deprecated and will be removed from pandas in a future version. Use pandas.concat instead.\n",
      "  Sat_data = Sat_data.append({\"Longitude\": longitude, \"Latitude\": latitude}, ignore_index=True)\n"
     ]
    },
    {
     "name": "stdout",
     "output_type": "stream",
     "text": [
      "Data received: {'timestamp': 1682639005, 'message': 'success', 'iss_position': {'latitude': '39.3380', 'longitude': '145.2816'}}\n"
     ]
    },
    {
     "name": "stderr",
     "output_type": "stream",
     "text": [
      "C:\\Users\\13018\\AppData\\Local\\Temp\\ipykernel_11600\\2340310863.py:10: FutureWarning: The frame.append method is deprecated and will be removed from pandas in a future version. Use pandas.concat instead.\n",
      "  Sat_data = Sat_data.append({\"Longitude\": longitude, \"Latitude\": latitude}, ignore_index=True)\n"
     ]
    },
    {
     "name": "stdout",
     "output_type": "stream",
     "text": [
      "Data received: {'timestamp': 1682639010, 'message': 'success', 'iss_position': {'latitude': '39.1444', 'longitude': '145.5957'}}\n"
     ]
    },
    {
     "name": "stderr",
     "output_type": "stream",
     "text": [
      "C:\\Users\\13018\\AppData\\Local\\Temp\\ipykernel_11600\\2340310863.py:10: FutureWarning: The frame.append method is deprecated and will be removed from pandas in a future version. Use pandas.concat instead.\n",
      "  Sat_data = Sat_data.append({\"Longitude\": longitude, \"Latitude\": latitude}, ignore_index=True)\n"
     ]
    },
    {
     "name": "stdout",
     "output_type": "stream",
     "text": [
      "Data received: {'timestamp': 1682639015, 'message': 'success', 'iss_position': {'latitude': '38.9498', 'longitude': '145.9079'}}\n"
     ]
    },
    {
     "name": "stderr",
     "output_type": "stream",
     "text": [
      "C:\\Users\\13018\\AppData\\Local\\Temp\\ipykernel_11600\\2340310863.py:10: FutureWarning: The frame.append method is deprecated and will be removed from pandas in a future version. Use pandas.concat instead.\n",
      "  Sat_data = Sat_data.append({\"Longitude\": longitude, \"Latitude\": latitude}, ignore_index=True)\n"
     ]
    },
    {
     "name": "stdout",
     "output_type": "stream",
     "text": [
      "Data received: {'timestamp': 1682639020, 'message': 'success', 'iss_position': {'latitude': '38.7346', 'longitude': '146.2493'}}\n"
     ]
    },
    {
     "name": "stderr",
     "output_type": "stream",
     "text": [
      "C:\\Users\\13018\\AppData\\Local\\Temp\\ipykernel_11600\\2340310863.py:10: FutureWarning: The frame.append method is deprecated and will be removed from pandas in a future version. Use pandas.concat instead.\n",
      "  Sat_data = Sat_data.append({\"Longitude\": longitude, \"Latitude\": latitude}, ignore_index=True)\n"
     ]
    },
    {
     "name": "stdout",
     "output_type": "stream",
     "text": [
      "Data received: {'timestamp': 1682639025, 'message': 'success', 'iss_position': {'latitude': '38.5380', 'longitude': '146.5577'}}\n"
     ]
    },
    {
     "name": "stderr",
     "output_type": "stream",
     "text": [
      "C:\\Users\\13018\\AppData\\Local\\Temp\\ipykernel_11600\\2340310863.py:10: FutureWarning: The frame.append method is deprecated and will be removed from pandas in a future version. Use pandas.concat instead.\n",
      "  Sat_data = Sat_data.append({\"Longitude\": longitude, \"Latitude\": latitude}, ignore_index=True)\n"
     ]
    },
    {
     "name": "stdout",
     "output_type": "stream",
     "text": [
      "Data received: {'timestamp': 1682639030, 'message': 'success', 'iss_position': {'latitude': '38.3405', 'longitude': '146.8643'}}\n"
     ]
    },
    {
     "name": "stderr",
     "output_type": "stream",
     "text": [
      "C:\\Users\\13018\\AppData\\Local\\Temp\\ipykernel_11600\\2340310863.py:10: FutureWarning: The frame.append method is deprecated and will be removed from pandas in a future version. Use pandas.concat instead.\n",
      "  Sat_data = Sat_data.append({\"Longitude\": longitude, \"Latitude\": latitude}, ignore_index=True)\n"
     ]
    },
    {
     "name": "stdout",
     "output_type": "stream",
     "text": [
      "Data received: {'timestamp': 1682639036, 'message': 'success', 'iss_position': {'latitude': '38.1222', 'longitude': '147.1995'}}\n"
     ]
    },
    {
     "name": "stderr",
     "output_type": "stream",
     "text": [
      "C:\\Users\\13018\\AppData\\Local\\Temp\\ipykernel_11600\\2340310863.py:10: FutureWarning: The frame.append method is deprecated and will be removed from pandas in a future version. Use pandas.concat instead.\n",
      "  Sat_data = Sat_data.append({\"Longitude\": longitude, \"Latitude\": latitude}, ignore_index=True)\n"
     ]
    },
    {
     "name": "stdout",
     "output_type": "stream",
     "text": [
      "Data received: {'timestamp': 1682639041, 'message': 'success', 'iss_position': {'latitude': '37.9229', 'longitude': '147.5024'}}\n"
     ]
    },
    {
     "name": "stderr",
     "output_type": "stream",
     "text": [
      "C:\\Users\\13018\\AppData\\Local\\Temp\\ipykernel_11600\\2340310863.py:10: FutureWarning: The frame.append method is deprecated and will be removed from pandas in a future version. Use pandas.concat instead.\n",
      "  Sat_data = Sat_data.append({\"Longitude\": longitude, \"Latitude\": latitude}, ignore_index=True)\n"
     ]
    },
    {
     "name": "stdout",
     "output_type": "stream",
     "text": [
      "Data received: {'timestamp': 1682639046, 'message': 'success', 'iss_position': {'latitude': '37.7226', 'longitude': '147.8035'}}\n"
     ]
    },
    {
     "name": "stderr",
     "output_type": "stream",
     "text": [
      "C:\\Users\\13018\\AppData\\Local\\Temp\\ipykernel_11600\\2340310863.py:10: FutureWarning: The frame.append method is deprecated and will be removed from pandas in a future version. Use pandas.concat instead.\n",
      "  Sat_data = Sat_data.append({\"Longitude\": longitude, \"Latitude\": latitude}, ignore_index=True)\n"
     ]
    },
    {
     "name": "stdout",
     "output_type": "stream",
     "text": [
      "Data received: {'timestamp': 1682639051, 'message': 'success', 'iss_position': {'latitude': '37.5013', 'longitude': '148.1328'}}\n"
     ]
    },
    {
     "name": "stderr",
     "output_type": "stream",
     "text": [
      "C:\\Users\\13018\\AppData\\Local\\Temp\\ipykernel_11600\\2340310863.py:10: FutureWarning: The frame.append method is deprecated and will be removed from pandas in a future version. Use pandas.concat instead.\n",
      "  Sat_data = Sat_data.append({\"Longitude\": longitude, \"Latitude\": latitude}, ignore_index=True)\n"
     ]
    },
    {
     "name": "stdout",
     "output_type": "stream",
     "text": [
      "Data received: {'timestamp': 1682639056, 'message': 'success', 'iss_position': {'latitude': '37.2992', 'longitude': '148.4302'}}\n"
     ]
    },
    {
     "name": "stderr",
     "output_type": "stream",
     "text": [
      "C:\\Users\\13018\\AppData\\Local\\Temp\\ipykernel_11600\\2340310863.py:10: FutureWarning: The frame.append method is deprecated and will be removed from pandas in a future version. Use pandas.concat instead.\n",
      "  Sat_data = Sat_data.append({\"Longitude\": longitude, \"Latitude\": latitude}, ignore_index=True)\n"
     ]
    },
    {
     "name": "stdout",
     "output_type": "stream",
     "text": [
      "Data received: {'timestamp': 1682639061, 'message': 'success', 'iss_position': {'latitude': '37.0962', 'longitude': '148.7260'}}\n"
     ]
    },
    {
     "name": "stderr",
     "output_type": "stream",
     "text": [
      "C:\\Users\\13018\\AppData\\Local\\Temp\\ipykernel_11600\\2340310863.py:10: FutureWarning: The frame.append method is deprecated and will be removed from pandas in a future version. Use pandas.concat instead.\n",
      "  Sat_data = Sat_data.append({\"Longitude\": longitude, \"Latitude\": latitude}, ignore_index=True)\n"
     ]
    },
    {
     "name": "stdout",
     "output_type": "stream",
     "text": [
      "Data received: {'timestamp': 1682639067, 'message': 'success', 'iss_position': {'latitude': '36.8721', 'longitude': '149.0493'}}\n"
     ]
    },
    {
     "name": "stderr",
     "output_type": "stream",
     "text": [
      "C:\\Users\\13018\\AppData\\Local\\Temp\\ipykernel_11600\\2340310863.py:10: FutureWarning: The frame.append method is deprecated and will be removed from pandas in a future version. Use pandas.concat instead.\n",
      "  Sat_data = Sat_data.append({\"Longitude\": longitude, \"Latitude\": latitude}, ignore_index=True)\n"
     ]
    },
    {
     "name": "stdout",
     "output_type": "stream",
     "text": [
      "Data received: {'timestamp': 1682639072, 'message': 'success', 'iss_position': {'latitude': '36.6674', 'longitude': '149.3416'}}\n"
     ]
    },
    {
     "name": "stderr",
     "output_type": "stream",
     "text": [
      "C:\\Users\\13018\\AppData\\Local\\Temp\\ipykernel_11600\\2340310863.py:10: FutureWarning: The frame.append method is deprecated and will be removed from pandas in a future version. Use pandas.concat instead.\n",
      "  Sat_data = Sat_data.append({\"Longitude\": longitude, \"Latitude\": latitude}, ignore_index=True)\n"
     ]
    },
    {
     "name": "stdout",
     "output_type": "stream",
     "text": [
      "Data received: {'timestamp': 1682639077, 'message': 'success', 'iss_position': {'latitude': '36.4619', 'longitude': '149.6321'}}\n"
     ]
    },
    {
     "name": "stderr",
     "output_type": "stream",
     "text": [
      "C:\\Users\\13018\\AppData\\Local\\Temp\\ipykernel_11600\\2340310863.py:10: FutureWarning: The frame.append method is deprecated and will be removed from pandas in a future version. Use pandas.concat instead.\n",
      "  Sat_data = Sat_data.append({\"Longitude\": longitude, \"Latitude\": latitude}, ignore_index=True)\n"
     ]
    },
    {
     "name": "stdout",
     "output_type": "stream",
     "text": [
      "Data received: {'timestamp': 1682639082, 'message': 'success', 'iss_position': {'latitude': '36.2349', 'longitude': '149.9499'}}\n"
     ]
    },
    {
     "name": "stderr",
     "output_type": "stream",
     "text": [
      "C:\\Users\\13018\\AppData\\Local\\Temp\\ipykernel_11600\\2340310863.py:10: FutureWarning: The frame.append method is deprecated and will be removed from pandas in a future version. Use pandas.concat instead.\n",
      "  Sat_data = Sat_data.append({\"Longitude\": longitude, \"Latitude\": latitude}, ignore_index=True)\n"
     ]
    },
    {
     "name": "stdout",
     "output_type": "stream",
     "text": [
      "Data received: {'timestamp': 1682639087, 'message': 'success', 'iss_position': {'latitude': '36.0277', 'longitude': '150.2369'}}\n"
     ]
    },
    {
     "name": "stderr",
     "output_type": "stream",
     "text": [
      "C:\\Users\\13018\\AppData\\Local\\Temp\\ipykernel_11600\\2340310863.py:10: FutureWarning: The frame.append method is deprecated and will be removed from pandas in a future version. Use pandas.concat instead.\n",
      "  Sat_data = Sat_data.append({\"Longitude\": longitude, \"Latitude\": latitude}, ignore_index=True)\n"
     ]
    },
    {
     "name": "stdout",
     "output_type": "stream",
     "text": [
      "Data received: {'timestamp': 1682639092, 'message': 'success', 'iss_position': {'latitude': '35.8197', 'longitude': '150.5225'}}\n"
     ]
    },
    {
     "name": "stderr",
     "output_type": "stream",
     "text": [
      "C:\\Users\\13018\\AppData\\Local\\Temp\\ipykernel_11600\\2340310863.py:10: FutureWarning: The frame.append method is deprecated and will be removed from pandas in a future version. Use pandas.concat instead.\n",
      "  Sat_data = Sat_data.append({\"Longitude\": longitude, \"Latitude\": latitude}, ignore_index=True)\n"
     ]
    },
    {
     "name": "stdout",
     "output_type": "stream",
     "text": [
      "Data received: {'timestamp': 1682639098, 'message': 'success', 'iss_position': {'latitude': '35.5900', 'longitude': '150.8347'}}\n"
     ]
    },
    {
     "name": "stderr",
     "output_type": "stream",
     "text": [
      "C:\\Users\\13018\\AppData\\Local\\Temp\\ipykernel_11600\\2340310863.py:10: FutureWarning: The frame.append method is deprecated and will be removed from pandas in a future version. Use pandas.concat instead.\n",
      "  Sat_data = Sat_data.append({\"Longitude\": longitude, \"Latitude\": latitude}, ignore_index=True)\n"
     ]
    },
    {
     "name": "stdout",
     "output_type": "stream",
     "text": [
      "Data received: {'timestamp': 1682639103, 'message': 'success', 'iss_position': {'latitude': '35.3804', 'longitude': '151.1169'}}\n"
     ]
    },
    {
     "name": "stderr",
     "output_type": "stream",
     "text": [
      "C:\\Users\\13018\\AppData\\Local\\Temp\\ipykernel_11600\\2340310863.py:10: FutureWarning: The frame.append method is deprecated and will be removed from pandas in a future version. Use pandas.concat instead.\n",
      "  Sat_data = Sat_data.append({\"Longitude\": longitude, \"Latitude\": latitude}, ignore_index=True)\n"
     ]
    },
    {
     "name": "stdout",
     "output_type": "stream",
     "text": [
      "Data received: {'timestamp': 1682639108, 'message': 'success', 'iss_position': {'latitude': '35.1700', 'longitude': '151.3974'}}\n"
     ]
    },
    {
     "name": "stderr",
     "output_type": "stream",
     "text": [
      "C:\\Users\\13018\\AppData\\Local\\Temp\\ipykernel_11600\\2340310863.py:10: FutureWarning: The frame.append method is deprecated and will be removed from pandas in a future version. Use pandas.concat instead.\n",
      "  Sat_data = Sat_data.append({\"Longitude\": longitude, \"Latitude\": latitude}, ignore_index=True)\n"
     ]
    },
    {
     "name": "stdout",
     "output_type": "stream",
     "text": [
      "Data received: {'timestamp': 1682639113, 'message': 'success', 'iss_position': {'latitude': '34.9378', 'longitude': '151.7042'}}\n"
     ]
    },
    {
     "name": "stderr",
     "output_type": "stream",
     "text": [
      "C:\\Users\\13018\\AppData\\Local\\Temp\\ipykernel_11600\\2340310863.py:10: FutureWarning: The frame.append method is deprecated and will be removed from pandas in a future version. Use pandas.concat instead.\n",
      "  Sat_data = Sat_data.append({\"Longitude\": longitude, \"Latitude\": latitude}, ignore_index=True)\n"
     ]
    },
    {
     "name": "stdout",
     "output_type": "stream",
     "text": [
      "Data received: {'timestamp': 1682639118, 'message': 'success', 'iss_position': {'latitude': '34.7259', 'longitude': '151.9815'}}\n"
     ]
    },
    {
     "name": "stderr",
     "output_type": "stream",
     "text": [
      "C:\\Users\\13018\\AppData\\Local\\Temp\\ipykernel_11600\\2340310863.py:10: FutureWarning: The frame.append method is deprecated and will be removed from pandas in a future version. Use pandas.concat instead.\n",
      "  Sat_data = Sat_data.append({\"Longitude\": longitude, \"Latitude\": latitude}, ignore_index=True)\n"
     ]
    },
    {
     "name": "stdout",
     "output_type": "stream",
     "text": [
      "Data received: {'timestamp': 1682639123, 'message': 'success', 'iss_position': {'latitude': '34.5133', 'longitude': '152.2573'}}\n"
     ]
    },
    {
     "name": "stderr",
     "output_type": "stream",
     "text": [
      "C:\\Users\\13018\\AppData\\Local\\Temp\\ipykernel_11600\\2340310863.py:10: FutureWarning: The frame.append method is deprecated and will be removed from pandas in a future version. Use pandas.concat instead.\n",
      "  Sat_data = Sat_data.append({\"Longitude\": longitude, \"Latitude\": latitude}, ignore_index=True)\n"
     ]
    },
    {
     "name": "stdout",
     "output_type": "stream",
     "text": [
      "Data received: {'timestamp': 1682639129, 'message': 'success', 'iss_position': {'latitude': '34.2572', 'longitude': '152.5862'}}\n"
     ]
    },
    {
     "name": "stderr",
     "output_type": "stream",
     "text": [
      "C:\\Users\\13018\\AppData\\Local\\Temp\\ipykernel_11600\\2340310863.py:10: FutureWarning: The frame.append method is deprecated and will be removed from pandas in a future version. Use pandas.concat instead.\n",
      "  Sat_data = Sat_data.append({\"Longitude\": longitude, \"Latitude\": latitude}, ignore_index=True)\n"
     ]
    },
    {
     "name": "stdout",
     "output_type": "stream",
     "text": [
      "Data received: {'timestamp': 1682639134, 'message': 'success', 'iss_position': {'latitude': '34.0430', 'longitude': '152.8587'}}\n"
     ]
    },
    {
     "name": "stderr",
     "output_type": "stream",
     "text": [
      "C:\\Users\\13018\\AppData\\Local\\Temp\\ipykernel_11600\\2340310863.py:10: FutureWarning: The frame.append method is deprecated and will be removed from pandas in a future version. Use pandas.concat instead.\n",
      "  Sat_data = Sat_data.append({\"Longitude\": longitude, \"Latitude\": latitude}, ignore_index=True)\n"
     ]
    },
    {
     "name": "stdout",
     "output_type": "stream",
     "text": [
      "Data received: {'timestamp': 1682639139, 'message': 'success', 'iss_position': {'latitude': '33.8282', 'longitude': '153.1296'}}\n"
     ]
    },
    {
     "name": "stderr",
     "output_type": "stream",
     "text": [
      "C:\\Users\\13018\\AppData\\Local\\Temp\\ipykernel_11600\\2340310863.py:10: FutureWarning: The frame.append method is deprecated and will be removed from pandas in a future version. Use pandas.concat instead.\n",
      "  Sat_data = Sat_data.append({\"Longitude\": longitude, \"Latitude\": latitude}, ignore_index=True)\n"
     ]
    },
    {
     "name": "stdout",
     "output_type": "stream",
     "text": [
      "Data received: {'timestamp': 1682639145, 'message': 'success', 'iss_position': {'latitude': '33.5910', 'longitude': '153.4260'}}\n"
     ]
    },
    {
     "name": "stderr",
     "output_type": "stream",
     "text": [
      "C:\\Users\\13018\\AppData\\Local\\Temp\\ipykernel_11600\\2340310863.py:10: FutureWarning: The frame.append method is deprecated and will be removed from pandas in a future version. Use pandas.concat instead.\n",
      "  Sat_data = Sat_data.append({\"Longitude\": longitude, \"Latitude\": latitude}, ignore_index=True)\n"
     ]
    },
    {
     "name": "stdout",
     "output_type": "stream",
     "text": [
      "Data received: {'timestamp': 1682639150, 'message': 'success', 'iss_position': {'latitude': '33.3747', 'longitude': '153.6940'}}\n"
     ]
    },
    {
     "name": "stderr",
     "output_type": "stream",
     "text": [
      "C:\\Users\\13018\\AppData\\Local\\Temp\\ipykernel_11600\\2340310863.py:10: FutureWarning: The frame.append method is deprecated and will be removed from pandas in a future version. Use pandas.concat instead.\n",
      "  Sat_data = Sat_data.append({\"Longitude\": longitude, \"Latitude\": latitude}, ignore_index=True)\n"
     ]
    },
    {
     "name": "stdout",
     "output_type": "stream",
     "text": [
      "Data received: {'timestamp': 1682639155, 'message': 'success', 'iss_position': {'latitude': '33.1577', 'longitude': '153.9604'}}\n"
     ]
    },
    {
     "name": "stderr",
     "output_type": "stream",
     "text": [
      "C:\\Users\\13018\\AppData\\Local\\Temp\\ipykernel_11600\\2340310863.py:10: FutureWarning: The frame.append method is deprecated and will be removed from pandas in a future version. Use pandas.concat instead.\n",
      "  Sat_data = Sat_data.append({\"Longitude\": longitude, \"Latitude\": latitude}, ignore_index=True)\n"
     ]
    },
    {
     "name": "stdout",
     "output_type": "stream",
     "text": [
      "Data received: {'timestamp': 1682639160, 'message': 'success', 'iss_position': {'latitude': '32.9182', 'longitude': '154.2520'}}\n"
     ]
    },
    {
     "name": "stderr",
     "output_type": "stream",
     "text": [
      "C:\\Users\\13018\\AppData\\Local\\Temp\\ipykernel_11600\\2340310863.py:10: FutureWarning: The frame.append method is deprecated and will be removed from pandas in a future version. Use pandas.concat instead.\n",
      "  Sat_data = Sat_data.append({\"Longitude\": longitude, \"Latitude\": latitude}, ignore_index=True)\n"
     ]
    },
    {
     "name": "stdout",
     "output_type": "stream",
     "text": [
      "Data received: {'timestamp': 1682639165, 'message': 'success', 'iss_position': {'latitude': '32.6998', 'longitude': '154.5155'}}\n"
     ]
    },
    {
     "name": "stderr",
     "output_type": "stream",
     "text": [
      "C:\\Users\\13018\\AppData\\Local\\Temp\\ipykernel_11600\\2340310863.py:10: FutureWarning: The frame.append method is deprecated and will be removed from pandas in a future version. Use pandas.concat instead.\n",
      "  Sat_data = Sat_data.append({\"Longitude\": longitude, \"Latitude\": latitude}, ignore_index=True)\n"
     ]
    },
    {
     "name": "stdout",
     "output_type": "stream",
     "text": [
      "Data received: {'timestamp': 1682639170, 'message': 'success', 'iss_position': {'latitude': '32.4809', 'longitude': '154.7776'}}\n"
     ]
    },
    {
     "name": "stderr",
     "output_type": "stream",
     "text": [
      "C:\\Users\\13018\\AppData\\Local\\Temp\\ipykernel_11600\\2340310863.py:10: FutureWarning: The frame.append method is deprecated and will be removed from pandas in a future version. Use pandas.concat instead.\n",
      "  Sat_data = Sat_data.append({\"Longitude\": longitude, \"Latitude\": latitude}, ignore_index=True)\n"
     ]
    },
    {
     "name": "stdout",
     "output_type": "stream",
     "text": [
      "Data received: {'timestamp': 1682639176, 'message': 'success', 'iss_position': {'latitude': '32.2392', 'longitude': '155.0644'}}\n"
     ]
    },
    {
     "name": "stderr",
     "output_type": "stream",
     "text": [
      "C:\\Users\\13018\\AppData\\Local\\Temp\\ipykernel_11600\\2340310863.py:10: FutureWarning: The frame.append method is deprecated and will be removed from pandas in a future version. Use pandas.concat instead.\n",
      "  Sat_data = Sat_data.append({\"Longitude\": longitude, \"Latitude\": latitude}, ignore_index=True)\n"
     ]
    },
    {
     "name": "stdout",
     "output_type": "stream",
     "text": [
      "Data received: {'timestamp': 1682639181, 'message': 'success', 'iss_position': {'latitude': '32.0189', 'longitude': '155.3237'}}\n"
     ]
    },
    {
     "name": "stderr",
     "output_type": "stream",
     "text": [
      "C:\\Users\\13018\\AppData\\Local\\Temp\\ipykernel_11600\\2340310863.py:10: FutureWarning: The frame.append method is deprecated and will be removed from pandas in a future version. Use pandas.concat instead.\n",
      "  Sat_data = Sat_data.append({\"Longitude\": longitude, \"Latitude\": latitude}, ignore_index=True)\n"
     ]
    },
    {
     "name": "stdout",
     "output_type": "stream",
     "text": [
      "Data received: {'timestamp': 1682639186, 'message': 'success', 'iss_position': {'latitude': '31.7980', 'longitude': '155.5815'}}\n"
     ]
    },
    {
     "name": "stderr",
     "output_type": "stream",
     "text": [
      "C:\\Users\\13018\\AppData\\Local\\Temp\\ipykernel_11600\\2340310863.py:10: FutureWarning: The frame.append method is deprecated and will be removed from pandas in a future version. Use pandas.concat instead.\n",
      "  Sat_data = Sat_data.append({\"Longitude\": longitude, \"Latitude\": latitude}, ignore_index=True)\n"
     ]
    },
    {
     "name": "stdout",
     "output_type": "stream",
     "text": [
      "Data received: {'timestamp': 1682639191, 'message': 'success', 'iss_position': {'latitude': '31.5543', 'longitude': '155.8636'}}\n"
     ]
    },
    {
     "name": "stderr",
     "output_type": "stream",
     "text": [
      "C:\\Users\\13018\\AppData\\Local\\Temp\\ipykernel_11600\\2340310863.py:10: FutureWarning: The frame.append method is deprecated and will be removed from pandas in a future version. Use pandas.concat instead.\n",
      "  Sat_data = Sat_data.append({\"Longitude\": longitude, \"Latitude\": latitude}, ignore_index=True)\n"
     ]
    },
    {
     "name": "stdout",
     "output_type": "stream",
     "text": [
      "Data received: {'timestamp': 1682639196, 'message': 'success', 'iss_position': {'latitude': '31.3321', 'longitude': '156.1188'}}\n"
     ]
    },
    {
     "name": "stderr",
     "output_type": "stream",
     "text": [
      "C:\\Users\\13018\\AppData\\Local\\Temp\\ipykernel_11600\\2340310863.py:10: FutureWarning: The frame.append method is deprecated and will be removed from pandas in a future version. Use pandas.concat instead.\n",
      "  Sat_data = Sat_data.append({\"Longitude\": longitude, \"Latitude\": latitude}, ignore_index=True)\n"
     ]
    },
    {
     "name": "stdout",
     "output_type": "stream",
     "text": [
      "Data received: {'timestamp': 1682639201, 'message': 'success', 'iss_position': {'latitude': '31.1094', 'longitude': '156.3725'}}\n"
     ]
    },
    {
     "name": "stderr",
     "output_type": "stream",
     "text": [
      "C:\\Users\\13018\\AppData\\Local\\Temp\\ipykernel_11600\\2340310863.py:10: FutureWarning: The frame.append method is deprecated and will be removed from pandas in a future version. Use pandas.concat instead.\n",
      "  Sat_data = Sat_data.append({\"Longitude\": longitude, \"Latitude\": latitude}, ignore_index=True)\n"
     ]
    },
    {
     "name": "stdout",
     "output_type": "stream",
     "text": [
      "Data received: {'timestamp': 1682639207, 'message': 'success', 'iss_position': {'latitude': '30.8635', 'longitude': '156.6505'}}\n"
     ]
    },
    {
     "name": "stderr",
     "output_type": "stream",
     "text": [
      "C:\\Users\\13018\\AppData\\Local\\Temp\\ipykernel_11600\\2340310863.py:10: FutureWarning: The frame.append method is deprecated and will be removed from pandas in a future version. Use pandas.concat instead.\n",
      "  Sat_data = Sat_data.append({\"Longitude\": longitude, \"Latitude\": latitude}, ignore_index=True)\n"
     ]
    },
    {
     "name": "stdout",
     "output_type": "stream",
     "text": [
      "Data received: {'timestamp': 1682639212, 'message': 'success', 'iss_position': {'latitude': '30.6395', 'longitude': '156.9016'}}\n"
     ]
    },
    {
     "name": "stderr",
     "output_type": "stream",
     "text": [
      "C:\\Users\\13018\\AppData\\Local\\Temp\\ipykernel_11600\\2340310863.py:10: FutureWarning: The frame.append method is deprecated and will be removed from pandas in a future version. Use pandas.concat instead.\n",
      "  Sat_data = Sat_data.append({\"Longitude\": longitude, \"Latitude\": latitude}, ignore_index=True)\n"
     ]
    },
    {
     "name": "stdout",
     "output_type": "stream",
     "text": [
      "Data received: {'timestamp': 1682639217, 'message': 'success', 'iss_position': {'latitude': '30.4149', 'longitude': '157.1514'}}\n"
     ]
    },
    {
     "name": "stderr",
     "output_type": "stream",
     "text": [
      "C:\\Users\\13018\\AppData\\Local\\Temp\\ipykernel_11600\\2340310863.py:10: FutureWarning: The frame.append method is deprecated and will be removed from pandas in a future version. Use pandas.concat instead.\n",
      "  Sat_data = Sat_data.append({\"Longitude\": longitude, \"Latitude\": latitude}, ignore_index=True)\n"
     ]
    },
    {
     "name": "stdout",
     "output_type": "stream",
     "text": [
      "Data received: {'timestamp': 1682639222, 'message': 'success', 'iss_position': {'latitude': '30.1673', 'longitude': '157.4248'}}\n"
     ]
    },
    {
     "name": "stderr",
     "output_type": "stream",
     "text": [
      "C:\\Users\\13018\\AppData\\Local\\Temp\\ipykernel_11600\\2340310863.py:10: FutureWarning: The frame.append method is deprecated and will be removed from pandas in a future version. Use pandas.concat instead.\n",
      "  Sat_data = Sat_data.append({\"Longitude\": longitude, \"Latitude\": latitude}, ignore_index=True)\n"
     ]
    },
    {
     "name": "stdout",
     "output_type": "stream",
     "text": [
      "Data received: {'timestamp': 1682639228, 'message': 'success', 'iss_position': {'latitude': '29.9416', 'longitude': '157.6721'}}\n"
     ]
    },
    {
     "name": "stderr",
     "output_type": "stream",
     "text": [
      "C:\\Users\\13018\\AppData\\Local\\Temp\\ipykernel_11600\\2340310863.py:10: FutureWarning: The frame.append method is deprecated and will be removed from pandas in a future version. Use pandas.concat instead.\n",
      "  Sat_data = Sat_data.append({\"Longitude\": longitude, \"Latitude\": latitude}, ignore_index=True)\n"
     ]
    },
    {
     "name": "stdout",
     "output_type": "stream",
     "text": [
      "Data received: {'timestamp': 1682639233, 'message': 'success', 'iss_position': {'latitude': '29.7153', 'longitude': '157.9181'}}\n"
     ]
    },
    {
     "name": "stderr",
     "output_type": "stream",
     "text": [
      "C:\\Users\\13018\\AppData\\Local\\Temp\\ipykernel_11600\\2340310863.py:10: FutureWarning: The frame.append method is deprecated and will be removed from pandas in a future version. Use pandas.concat instead.\n",
      "  Sat_data = Sat_data.append({\"Longitude\": longitude, \"Latitude\": latitude}, ignore_index=True)\n"
     ]
    },
    {
     "name": "stdout",
     "output_type": "stream",
     "text": [
      "Data received: {'timestamp': 1682639238, 'message': 'success', 'iss_position': {'latitude': '29.4658', 'longitude': '158.1874'}}\n"
     ]
    },
    {
     "name": "stderr",
     "output_type": "stream",
     "text": [
      "C:\\Users\\13018\\AppData\\Local\\Temp\\ipykernel_11600\\2340310863.py:10: FutureWarning: The frame.append method is deprecated and will be removed from pandas in a future version. Use pandas.concat instead.\n",
      "  Sat_data = Sat_data.append({\"Longitude\": longitude, \"Latitude\": latitude}, ignore_index=True)\n"
     ]
    },
    {
     "name": "stdout",
     "output_type": "stream",
     "text": [
      "Data received: {'timestamp': 1682639243, 'message': 'success', 'iss_position': {'latitude': '29.2384', 'longitude': '158.4309'}}\n"
     ]
    },
    {
     "name": "stderr",
     "output_type": "stream",
     "text": [
      "C:\\Users\\13018\\AppData\\Local\\Temp\\ipykernel_11600\\2340310863.py:10: FutureWarning: The frame.append method is deprecated and will be removed from pandas in a future version. Use pandas.concat instead.\n",
      "  Sat_data = Sat_data.append({\"Longitude\": longitude, \"Latitude\": latitude}, ignore_index=True)\n"
     ]
    },
    {
     "name": "stdout",
     "output_type": "stream",
     "text": [
      "Data received: {'timestamp': 1682639248, 'message': 'success', 'iss_position': {'latitude': '29.0105', 'longitude': '158.6733'}}\n"
     ]
    },
    {
     "name": "stderr",
     "output_type": "stream",
     "text": [
      "C:\\Users\\13018\\AppData\\Local\\Temp\\ipykernel_11600\\2340310863.py:10: FutureWarning: The frame.append method is deprecated and will be removed from pandas in a future version. Use pandas.concat instead.\n",
      "  Sat_data = Sat_data.append({\"Longitude\": longitude, \"Latitude\": latitude}, ignore_index=True)\n"
     ]
    },
    {
     "name": "stdout",
     "output_type": "stream",
     "text": [
      "Data received: {'timestamp': 1682639254, 'message': 'success', 'iss_position': {'latitude': '28.7592', 'longitude': '158.9386'}}\n"
     ]
    },
    {
     "name": "stderr",
     "output_type": "stream",
     "text": [
      "C:\\Users\\13018\\AppData\\Local\\Temp\\ipykernel_11600\\2340310863.py:10: FutureWarning: The frame.append method is deprecated and will be removed from pandas in a future version. Use pandas.concat instead.\n",
      "  Sat_data = Sat_data.append({\"Longitude\": longitude, \"Latitude\": latitude}, ignore_index=True)\n"
     ]
    },
    {
     "name": "stdout",
     "output_type": "stream",
     "text": [
      "Data received: {'timestamp': 1682639259, 'message': 'success', 'iss_position': {'latitude': '28.5303', 'longitude': '159.1785'}}\n"
     ]
    },
    {
     "name": "stderr",
     "output_type": "stream",
     "text": [
      "C:\\Users\\13018\\AppData\\Local\\Temp\\ipykernel_11600\\2340310863.py:10: FutureWarning: The frame.append method is deprecated and will be removed from pandas in a future version. Use pandas.concat instead.\n",
      "  Sat_data = Sat_data.append({\"Longitude\": longitude, \"Latitude\": latitude}, ignore_index=True)\n"
     ]
    },
    {
     "name": "stdout",
     "output_type": "stream",
     "text": [
      "Data received: {'timestamp': 1682639264, 'message': 'success', 'iss_position': {'latitude': '28.3008', 'longitude': '159.4173'}}\n"
     ]
    },
    {
     "name": "stderr",
     "output_type": "stream",
     "text": [
      "C:\\Users\\13018\\AppData\\Local\\Temp\\ipykernel_11600\\2340310863.py:10: FutureWarning: The frame.append method is deprecated and will be removed from pandas in a future version. Use pandas.concat instead.\n",
      "  Sat_data = Sat_data.append({\"Longitude\": longitude, \"Latitude\": latitude}, ignore_index=True)\n"
     ]
    },
    {
     "name": "stdout",
     "output_type": "stream",
     "text": [
      "Data received: {'timestamp': 1682639269, 'message': 'success', 'iss_position': {'latitude': '28.0478', 'longitude': '159.6787'}}\n"
     ]
    },
    {
     "name": "stderr",
     "output_type": "stream",
     "text": [
      "C:\\Users\\13018\\AppData\\Local\\Temp\\ipykernel_11600\\2340310863.py:10: FutureWarning: The frame.append method is deprecated and will be removed from pandas in a future version. Use pandas.concat instead.\n",
      "  Sat_data = Sat_data.append({\"Longitude\": longitude, \"Latitude\": latitude}, ignore_index=True)\n"
     ]
    },
    {
     "name": "stdout",
     "output_type": "stream",
     "text": [
      "Data received: {'timestamp': 1682639274, 'message': 'success', 'iss_position': {'latitude': '27.8174', 'longitude': '159.9152'}}\n"
     ]
    },
    {
     "name": "stderr",
     "output_type": "stream",
     "text": [
      "C:\\Users\\13018\\AppData\\Local\\Temp\\ipykernel_11600\\2340310863.py:10: FutureWarning: The frame.append method is deprecated and will be removed from pandas in a future version. Use pandas.concat instead.\n",
      "  Sat_data = Sat_data.append({\"Longitude\": longitude, \"Latitude\": latitude}, ignore_index=True)\n"
     ]
    },
    {
     "name": "stdout",
     "output_type": "stream",
     "text": [
      "Data received: {'timestamp': 1682639279, 'message': 'success', 'iss_position': {'latitude': '27.5864', 'longitude': '160.1505'}}\n"
     ]
    },
    {
     "name": "stderr",
     "output_type": "stream",
     "text": [
      "C:\\Users\\13018\\AppData\\Local\\Temp\\ipykernel_11600\\2340310863.py:10: FutureWarning: The frame.append method is deprecated and will be removed from pandas in a future version. Use pandas.concat instead.\n",
      "  Sat_data = Sat_data.append({\"Longitude\": longitude, \"Latitude\": latitude}, ignore_index=True)\n"
     ]
    },
    {
     "name": "stdout",
     "output_type": "stream",
     "text": [
      "Data received: {'timestamp': 1682639285, 'message': 'success', 'iss_position': {'latitude': '27.3318', 'longitude': '160.4082'}}\n"
     ]
    },
    {
     "name": "stderr",
     "output_type": "stream",
     "text": [
      "C:\\Users\\13018\\AppData\\Local\\Temp\\ipykernel_11600\\2340310863.py:10: FutureWarning: The frame.append method is deprecated and will be removed from pandas in a future version. Use pandas.concat instead.\n",
      "  Sat_data = Sat_data.append({\"Longitude\": longitude, \"Latitude\": latitude}, ignore_index=True)\n"
     ]
    },
    {
     "name": "stdout",
     "output_type": "stream",
     "text": [
      "Data received: {'timestamp': 1682639290, 'message': 'success', 'iss_position': {'latitude': '27.0999', 'longitude': '160.6413'}}\n"
     ]
    },
    {
     "name": "stderr",
     "output_type": "stream",
     "text": [
      "C:\\Users\\13018\\AppData\\Local\\Temp\\ipykernel_11600\\2340310863.py:10: FutureWarning: The frame.append method is deprecated and will be removed from pandas in a future version. Use pandas.concat instead.\n",
      "  Sat_data = Sat_data.append({\"Longitude\": longitude, \"Latitude\": latitude}, ignore_index=True)\n"
     ]
    },
    {
     "name": "stdout",
     "output_type": "stream",
     "text": [
      "Data received: {'timestamp': 1682639295, 'message': 'success', 'iss_position': {'latitude': '26.8675', 'longitude': '160.8734'}}\n"
     ]
    },
    {
     "name": "stderr",
     "output_type": "stream",
     "text": [
      "C:\\Users\\13018\\AppData\\Local\\Temp\\ipykernel_11600\\2340310863.py:10: FutureWarning: The frame.append method is deprecated and will be removed from pandas in a future version. Use pandas.concat instead.\n",
      "  Sat_data = Sat_data.append({\"Longitude\": longitude, \"Latitude\": latitude}, ignore_index=True)\n"
     ]
    },
    {
     "name": "stdout",
     "output_type": "stream",
     "text": [
      "Data received: {'timestamp': 1682639300, 'message': 'success', 'iss_position': {'latitude': '26.6114', 'longitude': '161.1274'}}\n"
     ]
    },
    {
     "name": "stderr",
     "output_type": "stream",
     "text": [
      "C:\\Users\\13018\\AppData\\Local\\Temp\\ipykernel_11600\\2340310863.py:10: FutureWarning: The frame.append method is deprecated and will be removed from pandas in a future version. Use pandas.concat instead.\n",
      "  Sat_data = Sat_data.append({\"Longitude\": longitude, \"Latitude\": latitude}, ignore_index=True)\n"
     ]
    },
    {
     "name": "stdout",
     "output_type": "stream",
     "text": [
      "Data received: {'timestamp': 1682639305, 'message': 'success', 'iss_position': {'latitude': '26.3781', 'longitude': '161.3573'}}\n"
     ]
    },
    {
     "name": "stderr",
     "output_type": "stream",
     "text": [
      "C:\\Users\\13018\\AppData\\Local\\Temp\\ipykernel_11600\\2340310863.py:10: FutureWarning: The frame.append method is deprecated and will be removed from pandas in a future version. Use pandas.concat instead.\n",
      "  Sat_data = Sat_data.append({\"Longitude\": longitude, \"Latitude\": latitude}, ignore_index=True)\n"
     ]
    },
    {
     "name": "stdout",
     "output_type": "stream",
     "text": [
      "Data received: {'timestamp': 1682639310, 'message': 'success', 'iss_position': {'latitude': '26.1443', 'longitude': '161.5862'}}\n"
     ]
    },
    {
     "name": "stderr",
     "output_type": "stream",
     "text": [
      "C:\\Users\\13018\\AppData\\Local\\Temp\\ipykernel_11600\\2340310863.py:10: FutureWarning: The frame.append method is deprecated and will be removed from pandas in a future version. Use pandas.concat instead.\n",
      "  Sat_data = Sat_data.append({\"Longitude\": longitude, \"Latitude\": latitude}, ignore_index=True)\n"
     ]
    },
    {
     "name": "stdout",
     "output_type": "stream",
     "text": [
      "Data received: {'timestamp': 1682639316, 'message': 'success', 'iss_position': {'latitude': '25.8867', 'longitude': '161.8368'}}\n"
     ]
    },
    {
     "name": "stderr",
     "output_type": "stream",
     "text": [
      "C:\\Users\\13018\\AppData\\Local\\Temp\\ipykernel_11600\\2340310863.py:10: FutureWarning: The frame.append method is deprecated and will be removed from pandas in a future version. Use pandas.concat instead.\n",
      "  Sat_data = Sat_data.append({\"Longitude\": longitude, \"Latitude\": latitude}, ignore_index=True)\n"
     ]
    },
    {
     "name": "stdout",
     "output_type": "stream",
     "text": [
      "Data received: {'timestamp': 1682639321, 'message': 'success', 'iss_position': {'latitude': '25.6520', 'longitude': '162.0636'}}\n"
     ]
    },
    {
     "name": "stderr",
     "output_type": "stream",
     "text": [
      "C:\\Users\\13018\\AppData\\Local\\Temp\\ipykernel_11600\\2340310863.py:10: FutureWarning: The frame.append method is deprecated and will be removed from pandas in a future version. Use pandas.concat instead.\n",
      "  Sat_data = Sat_data.append({\"Longitude\": longitude, \"Latitude\": latitude}, ignore_index=True)\n"
     ]
    },
    {
     "name": "stdout",
     "output_type": "stream",
     "text": [
      "Data received: {'timestamp': 1682639326, 'message': 'success', 'iss_position': {'latitude': '25.4170', 'longitude': '162.2894'}}\n"
     ]
    },
    {
     "name": "stderr",
     "output_type": "stream",
     "text": [
      "C:\\Users\\13018\\AppData\\Local\\Temp\\ipykernel_11600\\2340310863.py:10: FutureWarning: The frame.append method is deprecated and will be removed from pandas in a future version. Use pandas.concat instead.\n",
      "  Sat_data = Sat_data.append({\"Longitude\": longitude, \"Latitude\": latitude}, ignore_index=True)\n"
     ]
    },
    {
     "name": "stdout",
     "output_type": "stream",
     "text": [
      "Data received: {'timestamp': 1682639331, 'message': 'success', 'iss_position': {'latitude': '25.1579', 'longitude': '162.5367'}}\n"
     ]
    },
    {
     "name": "stderr",
     "output_type": "stream",
     "text": [
      "C:\\Users\\13018\\AppData\\Local\\Temp\\ipykernel_11600\\2340310863.py:10: FutureWarning: The frame.append method is deprecated and will be removed from pandas in a future version. Use pandas.concat instead.\n",
      "  Sat_data = Sat_data.append({\"Longitude\": longitude, \"Latitude\": latitude}, ignore_index=True)\n"
     ]
    },
    {
     "name": "stdout",
     "output_type": "stream",
     "text": [
      "Data received: {'timestamp': 1682639336, 'message': 'success', 'iss_position': {'latitude': '24.9220', 'longitude': '162.7605'}}\n"
     ]
    },
    {
     "name": "stderr",
     "output_type": "stream",
     "text": [
      "C:\\Users\\13018\\AppData\\Local\\Temp\\ipykernel_11600\\2340310863.py:10: FutureWarning: The frame.append method is deprecated and will be removed from pandas in a future version. Use pandas.concat instead.\n",
      "  Sat_data = Sat_data.append({\"Longitude\": longitude, \"Latitude\": latitude}, ignore_index=True)\n"
     ]
    },
    {
     "name": "stdout",
     "output_type": "stream",
     "text": [
      "Data received: {'timestamp': 1682639341, 'message': 'success', 'iss_position': {'latitude': '24.6856', 'longitude': '162.9834'}}\n"
     ]
    },
    {
     "name": "stderr",
     "output_type": "stream",
     "text": [
      "C:\\Users\\13018\\AppData\\Local\\Temp\\ipykernel_11600\\2340310863.py:10: FutureWarning: The frame.append method is deprecated and will be removed from pandas in a future version. Use pandas.concat instead.\n",
      "  Sat_data = Sat_data.append({\"Longitude\": longitude, \"Latitude\": latitude}, ignore_index=True)\n"
     ]
    },
    {
     "name": "stdout",
     "output_type": "stream",
     "text": [
      "Data received: {'timestamp': 1682639347, 'message': 'success', 'iss_position': {'latitude': '24.4252', 'longitude': '163.2275'}}\n"
     ]
    },
    {
     "name": "stderr",
     "output_type": "stream",
     "text": [
      "C:\\Users\\13018\\AppData\\Local\\Temp\\ipykernel_11600\\2340310863.py:10: FutureWarning: The frame.append method is deprecated and will be removed from pandas in a future version. Use pandas.concat instead.\n",
      "  Sat_data = Sat_data.append({\"Longitude\": longitude, \"Latitude\": latitude}, ignore_index=True)\n"
     ]
    },
    {
     "name": "stdout",
     "output_type": "stream",
     "text": [
      "Data received: {'timestamp': 1682639352, 'message': 'success', 'iss_position': {'latitude': '24.1881', 'longitude': '163.4485'}}\n"
     ]
    },
    {
     "name": "stderr",
     "output_type": "stream",
     "text": [
      "C:\\Users\\13018\\AppData\\Local\\Temp\\ipykernel_11600\\2340310863.py:10: FutureWarning: The frame.append method is deprecated and will be removed from pandas in a future version. Use pandas.concat instead.\n",
      "  Sat_data = Sat_data.append({\"Longitude\": longitude, \"Latitude\": latitude}, ignore_index=True)\n"
     ]
    },
    {
     "name": "stdout",
     "output_type": "stream",
     "text": [
      "Data received: {'timestamp': 1682639357, 'message': 'success', 'iss_position': {'latitude': '23.9268', 'longitude': '163.6905'}}\n"
     ]
    },
    {
     "name": "stderr",
     "output_type": "stream",
     "text": [
      "C:\\Users\\13018\\AppData\\Local\\Temp\\ipykernel_11600\\2340310863.py:10: FutureWarning: The frame.append method is deprecated and will be removed from pandas in a future version. Use pandas.concat instead.\n",
      "  Sat_data = Sat_data.append({\"Longitude\": longitude, \"Latitude\": latitude}, ignore_index=True)\n"
     ]
    },
    {
     "name": "stdout",
     "output_type": "stream",
     "text": [
      "Data received: {'timestamp': 1682639362, 'message': 'success', 'iss_position': {'latitude': '23.6887', 'longitude': '163.9096'}}\n"
     ]
    },
    {
     "name": "stderr",
     "output_type": "stream",
     "text": [
      "C:\\Users\\13018\\AppData\\Local\\Temp\\ipykernel_11600\\2340310863.py:10: FutureWarning: The frame.append method is deprecated and will be removed from pandas in a future version. Use pandas.concat instead.\n",
      "  Sat_data = Sat_data.append({\"Longitude\": longitude, \"Latitude\": latitude}, ignore_index=True)\n"
     ]
    },
    {
     "name": "stdout",
     "output_type": "stream",
     "text": [
      "Data received: {'timestamp': 1682639367, 'message': 'success', 'iss_position': {'latitude': '23.4505', 'longitude': '164.1278'}}\n"
     ]
    },
    {
     "name": "stderr",
     "output_type": "stream",
     "text": [
      "C:\\Users\\13018\\AppData\\Local\\Temp\\ipykernel_11600\\2340310863.py:10: FutureWarning: The frame.append method is deprecated and will be removed from pandas in a future version. Use pandas.concat instead.\n",
      "  Sat_data = Sat_data.append({\"Longitude\": longitude, \"Latitude\": latitude}, ignore_index=True)\n"
     ]
    },
    {
     "name": "stdout",
     "output_type": "stream",
     "text": [
      "Data received: {'timestamp': 1682639372, 'message': 'success', 'iss_position': {'latitude': '23.2118', 'longitude': '164.3452'}}\n"
     ]
    },
    {
     "name": "stderr",
     "output_type": "stream",
     "text": [
      "C:\\Users\\13018\\AppData\\Local\\Temp\\ipykernel_11600\\2340310863.py:10: FutureWarning: The frame.append method is deprecated and will be removed from pandas in a future version. Use pandas.concat instead.\n",
      "  Sat_data = Sat_data.append({\"Longitude\": longitude, \"Latitude\": latitude}, ignore_index=True)\n"
     ]
    },
    {
     "name": "stdout",
     "output_type": "stream",
     "text": [
      "Data received: {'timestamp': 1682639378, 'message': 'success', 'iss_position': {'latitude': '22.9488', 'longitude': '164.5833'}}\n"
     ]
    },
    {
     "name": "stderr",
     "output_type": "stream",
     "text": [
      "C:\\Users\\13018\\AppData\\Local\\Temp\\ipykernel_11600\\2340310863.py:10: FutureWarning: The frame.append method is deprecated and will be removed from pandas in a future version. Use pandas.concat instead.\n",
      "  Sat_data = Sat_data.append({\"Longitude\": longitude, \"Latitude\": latitude}, ignore_index=True)\n"
     ]
    },
    {
     "name": "stdout",
     "output_type": "stream",
     "text": [
      "Data received: {'timestamp': 1682639383, 'message': 'success', 'iss_position': {'latitude': '22.7094', 'longitude': '164.7988'}}\n"
     ]
    },
    {
     "name": "stderr",
     "output_type": "stream",
     "text": [
      "C:\\Users\\13018\\AppData\\Local\\Temp\\ipykernel_11600\\2340310863.py:10: FutureWarning: The frame.append method is deprecated and will be removed from pandas in a future version. Use pandas.concat instead.\n",
      "  Sat_data = Sat_data.append({\"Longitude\": longitude, \"Latitude\": latitude}, ignore_index=True)\n"
     ]
    },
    {
     "name": "stdout",
     "output_type": "stream",
     "text": [
      "Data received: {'timestamp': 1682639388, 'message': 'success', 'iss_position': {'latitude': '22.4456', 'longitude': '165.0350'}}\n"
     ]
    },
    {
     "name": "stderr",
     "output_type": "stream",
     "text": [
      "C:\\Users\\13018\\AppData\\Local\\Temp\\ipykernel_11600\\2340310863.py:10: FutureWarning: The frame.append method is deprecated and will be removed from pandas in a future version. Use pandas.concat instead.\n",
      "  Sat_data = Sat_data.append({\"Longitude\": longitude, \"Latitude\": latitude}, ignore_index=True)\n"
     ]
    },
    {
     "name": "stdout",
     "output_type": "stream",
     "text": [
      "Data received: {'timestamp': 1682639393, 'message': 'success', 'iss_position': {'latitude': '22.2055', 'longitude': '165.2488'}}\n"
     ]
    },
    {
     "name": "stderr",
     "output_type": "stream",
     "text": [
      "C:\\Users\\13018\\AppData\\Local\\Temp\\ipykernel_11600\\2340310863.py:10: FutureWarning: The frame.append method is deprecated and will be removed from pandas in a future version. Use pandas.concat instead.\n",
      "  Sat_data = Sat_data.append({\"Longitude\": longitude, \"Latitude\": latitude}, ignore_index=True)\n"
     ]
    },
    {
     "name": "stdout",
     "output_type": "stream",
     "text": [
      "Data received: {'timestamp': 1682639398, 'message': 'success', 'iss_position': {'latitude': '21.9651', 'longitude': '165.4618'}}\n"
     ]
    },
    {
     "name": "stderr",
     "output_type": "stream",
     "text": [
      "C:\\Users\\13018\\AppData\\Local\\Temp\\ipykernel_11600\\2340310863.py:10: FutureWarning: The frame.append method is deprecated and will be removed from pandas in a future version. Use pandas.concat instead.\n",
      "  Sat_data = Sat_data.append({\"Longitude\": longitude, \"Latitude\": latitude}, ignore_index=True)\n"
     ]
    },
    {
     "name": "stdout",
     "output_type": "stream",
     "text": [
      "Data received: {'timestamp': 1682639404, 'message': 'success', 'iss_position': {'latitude': '21.7002', 'longitude': '165.6952'}}\n"
     ]
    },
    {
     "name": "stderr",
     "output_type": "stream",
     "text": [
      "C:\\Users\\13018\\AppData\\Local\\Temp\\ipykernel_11600\\2340310863.py:10: FutureWarning: The frame.append method is deprecated and will be removed from pandas in a future version. Use pandas.concat instead.\n",
      "  Sat_data = Sat_data.append({\"Longitude\": longitude, \"Latitude\": latitude}, ignore_index=True)\n"
     ]
    },
    {
     "name": "stdout",
     "output_type": "stream",
     "text": [
      "Data received: {'timestamp': 1682639409, 'message': 'success', 'iss_position': {'latitude': '21.4590', 'longitude': '165.9066'}}\n"
     ]
    },
    {
     "name": "stderr",
     "output_type": "stream",
     "text": [
      "C:\\Users\\13018\\AppData\\Local\\Temp\\ipykernel_11600\\2340310863.py:10: FutureWarning: The frame.append method is deprecated and will be removed from pandas in a future version. Use pandas.concat instead.\n",
      "  Sat_data = Sat_data.append({\"Longitude\": longitude, \"Latitude\": latitude}, ignore_index=True)\n"
     ]
    },
    {
     "name": "stdout",
     "output_type": "stream",
     "text": [
      "Data received: {'timestamp': 1682639414, 'message': 'success', 'iss_position': {'latitude': '21.2175', 'longitude': '166.1172'}}\n"
     ]
    },
    {
     "name": "stderr",
     "output_type": "stream",
     "text": [
      "C:\\Users\\13018\\AppData\\Local\\Temp\\ipykernel_11600\\2340310863.py:10: FutureWarning: The frame.append method is deprecated and will be removed from pandas in a future version. Use pandas.concat instead.\n",
      "  Sat_data = Sat_data.append({\"Longitude\": longitude, \"Latitude\": latitude}, ignore_index=True)\n"
     ]
    },
    {
     "name": "stdout",
     "output_type": "stream",
     "text": [
      "Data received: {'timestamp': 1682639419, 'message': 'success', 'iss_position': {'latitude': '20.9515', 'longitude': '166.3480'}}\n"
     ]
    },
    {
     "name": "stderr",
     "output_type": "stream",
     "text": [
      "C:\\Users\\13018\\AppData\\Local\\Temp\\ipykernel_11600\\2340310863.py:10: FutureWarning: The frame.append method is deprecated and will be removed from pandas in a future version. Use pandas.concat instead.\n",
      "  Sat_data = Sat_data.append({\"Longitude\": longitude, \"Latitude\": latitude}, ignore_index=True)\n"
     ]
    },
    {
     "name": "stdout",
     "output_type": "stream",
     "text": [
      "Data received: {'timestamp': 1682639424, 'message': 'success', 'iss_position': {'latitude': '20.7094', 'longitude': '166.5570'}}\n"
     ]
    },
    {
     "name": "stderr",
     "output_type": "stream",
     "text": [
      "C:\\Users\\13018\\AppData\\Local\\Temp\\ipykernel_11600\\2340310863.py:10: FutureWarning: The frame.append method is deprecated and will be removed from pandas in a future version. Use pandas.concat instead.\n",
      "  Sat_data = Sat_data.append({\"Longitude\": longitude, \"Latitude\": latitude}, ignore_index=True)\n"
     ]
    },
    {
     "name": "stdout",
     "output_type": "stream",
     "text": [
      "Data received: {'timestamp': 1682639429, 'message': 'success', 'iss_position': {'latitude': '20.4669', 'longitude': '166.7654'}}\n"
     ]
    },
    {
     "name": "stderr",
     "output_type": "stream",
     "text": [
      "C:\\Users\\13018\\AppData\\Local\\Temp\\ipykernel_11600\\2340310863.py:10: FutureWarning: The frame.append method is deprecated and will be removed from pandas in a future version. Use pandas.concat instead.\n",
      "  Sat_data = Sat_data.append({\"Longitude\": longitude, \"Latitude\": latitude}, ignore_index=True)\n"
     ]
    },
    {
     "name": "stdout",
     "output_type": "stream",
     "text": [
      "Data received: {'timestamp': 1682639435, 'message': 'success', 'iss_position': {'latitude': '20.1999', 'longitude': '166.9936'}}\n"
     ]
    },
    {
     "name": "stderr",
     "output_type": "stream",
     "text": [
      "C:\\Users\\13018\\AppData\\Local\\Temp\\ipykernel_11600\\2340310863.py:10: FutureWarning: The frame.append method is deprecated and will be removed from pandas in a future version. Use pandas.concat instead.\n",
      "  Sat_data = Sat_data.append({\"Longitude\": longitude, \"Latitude\": latitude}, ignore_index=True)\n"
     ]
    },
    {
     "name": "stdout",
     "output_type": "stream",
     "text": [
      "Data received: {'timestamp': 1682639440, 'message': 'success', 'iss_position': {'latitude': '19.9568', 'longitude': '167.2004'}}\n"
     ]
    },
    {
     "name": "stderr",
     "output_type": "stream",
     "text": [
      "C:\\Users\\13018\\AppData\\Local\\Temp\\ipykernel_11600\\2340310863.py:10: FutureWarning: The frame.append method is deprecated and will be removed from pandas in a future version. Use pandas.concat instead.\n",
      "  Sat_data = Sat_data.append({\"Longitude\": longitude, \"Latitude\": latitude}, ignore_index=True)\n"
     ]
    },
    {
     "name": "stdout",
     "output_type": "stream",
     "text": [
      "Data received: {'timestamp': 1682639445, 'message': 'success', 'iss_position': {'latitude': '19.7134', 'longitude': '167.4065'}}\n"
     ]
    },
    {
     "name": "stderr",
     "output_type": "stream",
     "text": [
      "C:\\Users\\13018\\AppData\\Local\\Temp\\ipykernel_11600\\2340310863.py:10: FutureWarning: The frame.append method is deprecated and will be removed from pandas in a future version. Use pandas.concat instead.\n",
      "  Sat_data = Sat_data.append({\"Longitude\": longitude, \"Latitude\": latitude}, ignore_index=True)\n"
     ]
    },
    {
     "name": "stdout",
     "output_type": "stream",
     "text": [
      "Data received: {'timestamp': 1682639450, 'message': 'success', 'iss_position': {'latitude': '19.4454', 'longitude': '167.6324'}}\n"
     ]
    },
    {
     "name": "stderr",
     "output_type": "stream",
     "text": [
      "C:\\Users\\13018\\AppData\\Local\\Temp\\ipykernel_11600\\2340310863.py:10: FutureWarning: The frame.append method is deprecated and will be removed from pandas in a future version. Use pandas.concat instead.\n",
      "  Sat_data = Sat_data.append({\"Longitude\": longitude, \"Latitude\": latitude}, ignore_index=True)\n"
     ]
    },
    {
     "name": "stdout",
     "output_type": "stream",
     "text": [
      "Data received: {'timestamp': 1682639455, 'message': 'success', 'iss_position': {'latitude': '19.2014', 'longitude': '167.8371'}}\n"
     ]
    },
    {
     "name": "stderr",
     "output_type": "stream",
     "text": [
      "C:\\Users\\13018\\AppData\\Local\\Temp\\ipykernel_11600\\2340310863.py:10: FutureWarning: The frame.append method is deprecated and will be removed from pandas in a future version. Use pandas.concat instead.\n",
      "  Sat_data = Sat_data.append({\"Longitude\": longitude, \"Latitude\": latitude}, ignore_index=True)\n"
     ]
    },
    {
     "name": "stdout",
     "output_type": "stream",
     "text": [
      "Data received: {'timestamp': 1682639460, 'message': 'success', 'iss_position': {'latitude': '18.9572', 'longitude': '168.0410'}}\n"
     ]
    },
    {
     "name": "stderr",
     "output_type": "stream",
     "text": [
      "C:\\Users\\13018\\AppData\\Local\\Temp\\ipykernel_11600\\2340310863.py:10: FutureWarning: The frame.append method is deprecated and will be removed from pandas in a future version. Use pandas.concat instead.\n",
      "  Sat_data = Sat_data.append({\"Longitude\": longitude, \"Latitude\": latitude}, ignore_index=True)\n"
     ]
    },
    {
     "name": "stdout",
     "output_type": "stream",
     "text": [
      "Data received: {'timestamp': 1682639466, 'message': 'success', 'iss_position': {'latitude': '18.6882', 'longitude': '168.2647'}}\n"
     ]
    },
    {
     "name": "stderr",
     "output_type": "stream",
     "text": [
      "C:\\Users\\13018\\AppData\\Local\\Temp\\ipykernel_11600\\2340310863.py:10: FutureWarning: The frame.append method is deprecated and will be removed from pandas in a future version. Use pandas.concat instead.\n",
      "  Sat_data = Sat_data.append({\"Longitude\": longitude, \"Latitude\": latitude}, ignore_index=True)\n"
     ]
    },
    {
     "name": "stdout",
     "output_type": "stream",
     "text": [
      "Data received: {'timestamp': 1682639471, 'message': 'success', 'iss_position': {'latitude': '18.4434', 'longitude': '168.4673'}}\n"
     ]
    },
    {
     "name": "stderr",
     "output_type": "stream",
     "text": [
      "C:\\Users\\13018\\AppData\\Local\\Temp\\ipykernel_11600\\2340310863.py:10: FutureWarning: The frame.append method is deprecated and will be removed from pandas in a future version. Use pandas.concat instead.\n",
      "  Sat_data = Sat_data.append({\"Longitude\": longitude, \"Latitude\": latitude}, ignore_index=True)\n"
     ]
    },
    {
     "name": "stdout",
     "output_type": "stream",
     "text": [
      "Data received: {'timestamp': 1682639476, 'message': 'success', 'iss_position': {'latitude': '18.1984', 'longitude': '168.6693'}}\n"
     ]
    },
    {
     "name": "stderr",
     "output_type": "stream",
     "text": [
      "C:\\Users\\13018\\AppData\\Local\\Temp\\ipykernel_11600\\2340310863.py:10: FutureWarning: The frame.append method is deprecated and will be removed from pandas in a future version. Use pandas.concat instead.\n",
      "  Sat_data = Sat_data.append({\"Longitude\": longitude, \"Latitude\": latitude}, ignore_index=True)\n"
     ]
    },
    {
     "name": "stdout",
     "output_type": "stream",
     "text": [
      "Data received: {'timestamp': 1682639481, 'message': 'success', 'iss_position': {'latitude': '17.9285', 'longitude': '168.8907'}}\n"
     ]
    },
    {
     "name": "stderr",
     "output_type": "stream",
     "text": [
      "C:\\Users\\13018\\AppData\\Local\\Temp\\ipykernel_11600\\2340310863.py:10: FutureWarning: The frame.append method is deprecated and will be removed from pandas in a future version. Use pandas.concat instead.\n",
      "  Sat_data = Sat_data.append({\"Longitude\": longitude, \"Latitude\": latitude}, ignore_index=True)\n"
     ]
    },
    {
     "name": "stdout",
     "output_type": "stream",
     "text": [
      "Data received: {'timestamp': 1682639486, 'message': 'success', 'iss_position': {'latitude': '17.6829', 'longitude': '169.0914'}}\n"
     ]
    },
    {
     "name": "stderr",
     "output_type": "stream",
     "text": [
      "C:\\Users\\13018\\AppData\\Local\\Temp\\ipykernel_11600\\2340310863.py:10: FutureWarning: The frame.append method is deprecated and will be removed from pandas in a future version. Use pandas.concat instead.\n",
      "  Sat_data = Sat_data.append({\"Longitude\": longitude, \"Latitude\": latitude}, ignore_index=True)\n"
     ]
    },
    {
     "name": "stdout",
     "output_type": "stream",
     "text": [
      "Data received: {'timestamp': 1682639491, 'message': 'success', 'iss_position': {'latitude': '17.4371', 'longitude': '169.2914'}}\n"
     ]
    },
    {
     "name": "stderr",
     "output_type": "stream",
     "text": [
      "C:\\Users\\13018\\AppData\\Local\\Temp\\ipykernel_11600\\2340310863.py:10: FutureWarning: The frame.append method is deprecated and will be removed from pandas in a future version. Use pandas.concat instead.\n",
      "  Sat_data = Sat_data.append({\"Longitude\": longitude, \"Latitude\": latitude}, ignore_index=True)\n"
     ]
    },
    {
     "name": "stdout",
     "output_type": "stream",
     "text": [
      "Data received: {'timestamp': 1682639497, 'message': 'success', 'iss_position': {'latitude': '17.1663', 'longitude': '169.5108'}}\n"
     ]
    },
    {
     "name": "stderr",
     "output_type": "stream",
     "text": [
      "C:\\Users\\13018\\AppData\\Local\\Temp\\ipykernel_11600\\2340310863.py:10: FutureWarning: The frame.append method is deprecated and will be removed from pandas in a future version. Use pandas.concat instead.\n",
      "  Sat_data = Sat_data.append({\"Longitude\": longitude, \"Latitude\": latitude}, ignore_index=True)\n"
     ]
    },
    {
     "name": "stdout",
     "output_type": "stream",
     "text": [
      "Data received: {'timestamp': 1682639502, 'message': 'success', 'iss_position': {'latitude': '16.9200', 'longitude': '169.7096'}}\n"
     ]
    },
    {
     "name": "stderr",
     "output_type": "stream",
     "text": [
      "C:\\Users\\13018\\AppData\\Local\\Temp\\ipykernel_11600\\2340310863.py:10: FutureWarning: The frame.append method is deprecated and will be removed from pandas in a future version. Use pandas.concat instead.\n",
      "  Sat_data = Sat_data.append({\"Longitude\": longitude, \"Latitude\": latitude}, ignore_index=True)\n"
     ]
    },
    {
     "name": "stdout",
     "output_type": "stream",
     "text": [
      "Data received: {'timestamp': 1682639507, 'message': 'success', 'iss_position': {'latitude': '16.6734', 'longitude': '169.9079'}}\n"
     ]
    },
    {
     "name": "stderr",
     "output_type": "stream",
     "text": [
      "C:\\Users\\13018\\AppData\\Local\\Temp\\ipykernel_11600\\2340310863.py:10: FutureWarning: The frame.append method is deprecated and will be removed from pandas in a future version. Use pandas.concat instead.\n",
      "  Sat_data = Sat_data.append({\"Longitude\": longitude, \"Latitude\": latitude}, ignore_index=True)\n"
     ]
    },
    {
     "name": "stdout",
     "output_type": "stream",
     "text": [
      "Data received: {'timestamp': 1682639512, 'message': 'success', 'iss_position': {'latitude': '16.4019', 'longitude': '170.1253'}}\n"
     ]
    },
    {
     "name": "stderr",
     "output_type": "stream",
     "text": [
      "C:\\Users\\13018\\AppData\\Local\\Temp\\ipykernel_11600\\2340310863.py:10: FutureWarning: The frame.append method is deprecated and will be removed from pandas in a future version. Use pandas.concat instead.\n",
      "  Sat_data = Sat_data.append({\"Longitude\": longitude, \"Latitude\": latitude}, ignore_index=True)\n"
     ]
    },
    {
     "name": "stdout",
     "output_type": "stream",
     "text": [
      "Data received: {'timestamp': 1682639517, 'message': 'success', 'iss_position': {'latitude': '16.1549', 'longitude': '170.3223'}}\n"
     ]
    },
    {
     "name": "stderr",
     "output_type": "stream",
     "text": [
      "C:\\Users\\13018\\AppData\\Local\\Temp\\ipykernel_11600\\2340310863.py:10: FutureWarning: The frame.append method is deprecated and will be removed from pandas in a future version. Use pandas.concat instead.\n",
      "  Sat_data = Sat_data.append({\"Longitude\": longitude, \"Latitude\": latitude}, ignore_index=True)\n"
     ]
    },
    {
     "name": "stdout",
     "output_type": "stream",
     "text": [
      "Data received: {'timestamp': 1682639522, 'message': 'success', 'iss_position': {'latitude': '15.9076', 'longitude': '170.5188'}}\n"
     ]
    },
    {
     "name": "stderr",
     "output_type": "stream",
     "text": [
      "C:\\Users\\13018\\AppData\\Local\\Temp\\ipykernel_11600\\2340310863.py:10: FutureWarning: The frame.append method is deprecated and will be removed from pandas in a future version. Use pandas.concat instead.\n",
      "  Sat_data = Sat_data.append({\"Longitude\": longitude, \"Latitude\": latitude}, ignore_index=True)\n"
     ]
    },
    {
     "name": "stdout",
     "output_type": "stream",
     "text": [
      "Data received: {'timestamp': 1682639528, 'message': 'success', 'iss_position': {'latitude': '15.6353', 'longitude': '170.7344'}}\n"
     ]
    },
    {
     "name": "stderr",
     "output_type": "stream",
     "text": [
      "C:\\Users\\13018\\AppData\\Local\\Temp\\ipykernel_11600\\2340310863.py:10: FutureWarning: The frame.append method is deprecated and will be removed from pandas in a future version. Use pandas.concat instead.\n",
      "  Sat_data = Sat_data.append({\"Longitude\": longitude, \"Latitude\": latitude}, ignore_index=True)\n"
     ]
    },
    {
     "name": "stdout",
     "output_type": "stream",
     "text": [
      "Data received: {'timestamp': 1682639533, 'message': 'success', 'iss_position': {'latitude': '15.3876', 'longitude': '170.9298'}}\n"
     ]
    },
    {
     "name": "stderr",
     "output_type": "stream",
     "text": [
      "C:\\Users\\13018\\AppData\\Local\\Temp\\ipykernel_11600\\2340310863.py:10: FutureWarning: The frame.append method is deprecated and will be removed from pandas in a future version. Use pandas.concat instead.\n",
      "  Sat_data = Sat_data.append({\"Longitude\": longitude, \"Latitude\": latitude}, ignore_index=True)\n"
     ]
    },
    {
     "name": "stdout",
     "output_type": "stream",
     "text": [
      "Data received: {'timestamp': 1682639538, 'message': 'success', 'iss_position': {'latitude': '15.1397', 'longitude': '171.1247'}}\n"
     ]
    },
    {
     "name": "stderr",
     "output_type": "stream",
     "text": [
      "C:\\Users\\13018\\AppData\\Local\\Temp\\ipykernel_11600\\2340310863.py:10: FutureWarning: The frame.append method is deprecated and will be removed from pandas in a future version. Use pandas.concat instead.\n",
      "  Sat_data = Sat_data.append({\"Longitude\": longitude, \"Latitude\": latitude}, ignore_index=True)\n"
     ]
    },
    {
     "name": "stdout",
     "output_type": "stream",
     "text": [
      "Data received: {'timestamp': 1682639543, 'message': 'success', 'iss_position': {'latitude': '14.8667', 'longitude': '171.3385'}}\n"
     ]
    },
    {
     "name": "stderr",
     "output_type": "stream",
     "text": [
      "C:\\Users\\13018\\AppData\\Local\\Temp\\ipykernel_11600\\2340310863.py:10: FutureWarning: The frame.append method is deprecated and will be removed from pandas in a future version. Use pandas.concat instead.\n",
      "  Sat_data = Sat_data.append({\"Longitude\": longitude, \"Latitude\": latitude}, ignore_index=True)\n"
     ]
    },
    {
     "name": "stdout",
     "output_type": "stream",
     "text": [
      "Data received: {'timestamp': 1682639548, 'message': 'success', 'iss_position': {'latitude': '14.6183', 'longitude': '171.5323'}}\n"
     ]
    },
    {
     "name": "stderr",
     "output_type": "stream",
     "text": [
      "C:\\Users\\13018\\AppData\\Local\\Temp\\ipykernel_11600\\2340310863.py:10: FutureWarning: The frame.append method is deprecated and will be removed from pandas in a future version. Use pandas.concat instead.\n",
      "  Sat_data = Sat_data.append({\"Longitude\": longitude, \"Latitude\": latitude}, ignore_index=True)\n"
     ]
    },
    {
     "name": "stdout",
     "output_type": "stream",
     "text": [
      "Data received: {'timestamp': 1682639554, 'message': 'success', 'iss_position': {'latitude': '14.3698', 'longitude': '171.7257'}}\n"
     ]
    },
    {
     "name": "stderr",
     "output_type": "stream",
     "text": [
      "C:\\Users\\13018\\AppData\\Local\\Temp\\ipykernel_11600\\2340310863.py:10: FutureWarning: The frame.append method is deprecated and will be removed from pandas in a future version. Use pandas.concat instead.\n",
      "  Sat_data = Sat_data.append({\"Longitude\": longitude, \"Latitude\": latitude}, ignore_index=True)\n"
     ]
    },
    {
     "name": "stdout",
     "output_type": "stream",
     "text": [
      "Data received: {'timestamp': 1682639559, 'message': 'success', 'iss_position': {'latitude': '14.0962', 'longitude': '171.9378'}}\n"
     ]
    },
    {
     "name": "stderr",
     "output_type": "stream",
     "text": [
      "C:\\Users\\13018\\AppData\\Local\\Temp\\ipykernel_11600\\2340310863.py:10: FutureWarning: The frame.append method is deprecated and will be removed from pandas in a future version. Use pandas.concat instead.\n",
      "  Sat_data = Sat_data.append({\"Longitude\": longitude, \"Latitude\": latitude}, ignore_index=True)\n"
     ]
    },
    {
     "name": "stdout",
     "output_type": "stream",
     "text": [
      "Data received: {'timestamp': 1682639564, 'message': 'success', 'iss_position': {'latitude': '13.8472', 'longitude': '172.1301'}}\n"
     ]
    },
    {
     "name": "stderr",
     "output_type": "stream",
     "text": [
      "C:\\Users\\13018\\AppData\\Local\\Temp\\ipykernel_11600\\2340310863.py:10: FutureWarning: The frame.append method is deprecated and will be removed from pandas in a future version. Use pandas.concat instead.\n",
      "  Sat_data = Sat_data.append({\"Longitude\": longitude, \"Latitude\": latitude}, ignore_index=True)\n"
     ]
    },
    {
     "name": "stdout",
     "output_type": "stream",
     "text": [
      "Data received: {'timestamp': 1682639569, 'message': 'success', 'iss_position': {'latitude': '13.5981', 'longitude': '172.3220'}}\n"
     ]
    },
    {
     "name": "stderr",
     "output_type": "stream",
     "text": [
      "C:\\Users\\13018\\AppData\\Local\\Temp\\ipykernel_11600\\2340310863.py:10: FutureWarning: The frame.append method is deprecated and will be removed from pandas in a future version. Use pandas.concat instead.\n",
      "  Sat_data = Sat_data.append({\"Longitude\": longitude, \"Latitude\": latitude}, ignore_index=True)\n"
     ]
    },
    {
     "name": "stdout",
     "output_type": "stream",
     "text": [
      "Data received: {'timestamp': 1682639575, 'message': 'success', 'iss_position': {'latitude': '13.3238', 'longitude': '172.5326'}}\n"
     ]
    },
    {
     "name": "stderr",
     "output_type": "stream",
     "text": [
      "C:\\Users\\13018\\AppData\\Local\\Temp\\ipykernel_11600\\2340310863.py:10: FutureWarning: The frame.append method is deprecated and will be removed from pandas in a future version. Use pandas.concat instead.\n",
      "  Sat_data = Sat_data.append({\"Longitude\": longitude, \"Latitude\": latitude}, ignore_index=True)\n"
     ]
    },
    {
     "name": "stdout",
     "output_type": "stream",
     "text": [
      "Data received: {'timestamp': 1682639580, 'message': 'success', 'iss_position': {'latitude': '13.0494', 'longitude': '172.7426'}}\n"
     ]
    },
    {
     "name": "stderr",
     "output_type": "stream",
     "text": [
      "C:\\Users\\13018\\AppData\\Local\\Temp\\ipykernel_11600\\2340310863.py:10: FutureWarning: The frame.append method is deprecated and will be removed from pandas in a future version. Use pandas.concat instead.\n",
      "  Sat_data = Sat_data.append({\"Longitude\": longitude, \"Latitude\": latitude}, ignore_index=True)\n"
     ]
    },
    {
     "name": "stdout",
     "output_type": "stream",
     "text": [
      "Data received: {'timestamp': 1682639586, 'message': 'success', 'iss_position': {'latitude': '12.7747', 'longitude': '172.9522'}}\n"
     ]
    },
    {
     "name": "stderr",
     "output_type": "stream",
     "text": [
      "C:\\Users\\13018\\AppData\\Local\\Temp\\ipykernel_11600\\2340310863.py:10: FutureWarning: The frame.append method is deprecated and will be removed from pandas in a future version. Use pandas.concat instead.\n",
      "  Sat_data = Sat_data.append({\"Longitude\": longitude, \"Latitude\": latitude}, ignore_index=True)\n"
     ]
    },
    {
     "name": "stdout",
     "output_type": "stream",
     "text": [
      "Data received: {'timestamp': 1682639591, 'message': 'success', 'iss_position': {'latitude': '12.5249', 'longitude': '173.1422'}}\n"
     ]
    },
    {
     "name": "stderr",
     "output_type": "stream",
     "text": [
      "C:\\Users\\13018\\AppData\\Local\\Temp\\ipykernel_11600\\2340310863.py:10: FutureWarning: The frame.append method is deprecated and will be removed from pandas in a future version. Use pandas.concat instead.\n",
      "  Sat_data = Sat_data.append({\"Longitude\": longitude, \"Latitude\": latitude}, ignore_index=True)\n"
     ]
    },
    {
     "name": "stdout",
     "output_type": "stream",
     "text": [
      "Data received: {'timestamp': 1682639596, 'message': 'success', 'iss_position': {'latitude': '12.2748', 'longitude': '173.3318'}}\n"
     ]
    },
    {
     "name": "stderr",
     "output_type": "stream",
     "text": [
      "C:\\Users\\13018\\AppData\\Local\\Temp\\ipykernel_11600\\2340310863.py:10: FutureWarning: The frame.append method is deprecated and will be removed from pandas in a future version. Use pandas.concat instead.\n",
      "  Sat_data = Sat_data.append({\"Longitude\": longitude, \"Latitude\": latitude}, ignore_index=True)\n"
     ]
    },
    {
     "name": "stdout",
     "output_type": "stream",
     "text": [
      "Data received: {'timestamp': 1682639601, 'message': 'success', 'iss_position': {'latitude': '12.0246', 'longitude': '173.5210'}}\n"
     ]
    },
    {
     "name": "stderr",
     "output_type": "stream",
     "text": [
      "C:\\Users\\13018\\AppData\\Local\\Temp\\ipykernel_11600\\2340310863.py:10: FutureWarning: The frame.append method is deprecated and will be removed from pandas in a future version. Use pandas.concat instead.\n",
      "  Sat_data = Sat_data.append({\"Longitude\": longitude, \"Latitude\": latitude}, ignore_index=True)\n"
     ]
    },
    {
     "name": "stdout",
     "output_type": "stream",
     "text": [
      "Data received: {'timestamp': 1682639606, 'message': 'success', 'iss_position': {'latitude': '11.7492', 'longitude': '173.7287'}}\n"
     ]
    },
    {
     "name": "stderr",
     "output_type": "stream",
     "text": [
      "C:\\Users\\13018\\AppData\\Local\\Temp\\ipykernel_11600\\2340310863.py:10: FutureWarning: The frame.append method is deprecated and will be removed from pandas in a future version. Use pandas.concat instead.\n",
      "  Sat_data = Sat_data.append({\"Longitude\": longitude, \"Latitude\": latitude}, ignore_index=True)\n"
     ]
    },
    {
     "name": "stdout",
     "output_type": "stream",
     "text": [
      "Data received: {'timestamp': 1682639611, 'message': 'success', 'iss_position': {'latitude': '11.4986', 'longitude': '173.9171'}}\n"
     ]
    },
    {
     "name": "stderr",
     "output_type": "stream",
     "text": [
      "C:\\Users\\13018\\AppData\\Local\\Temp\\ipykernel_11600\\2340310863.py:10: FutureWarning: The frame.append method is deprecated and will be removed from pandas in a future version. Use pandas.concat instead.\n",
      "  Sat_data = Sat_data.append({\"Longitude\": longitude, \"Latitude\": latitude}, ignore_index=True)\n"
     ]
    },
    {
     "name": "stdout",
     "output_type": "stream",
     "text": [
      "Data received: {'timestamp': 1682639616, 'message': 'success', 'iss_position': {'latitude': '11.2479', 'longitude': '174.1052'}}\n"
     ]
    },
    {
     "name": "stderr",
     "output_type": "stream",
     "text": [
      "C:\\Users\\13018\\AppData\\Local\\Temp\\ipykernel_11600\\2340310863.py:10: FutureWarning: The frame.append method is deprecated and will be removed from pandas in a future version. Use pandas.concat instead.\n",
      "  Sat_data = Sat_data.append({\"Longitude\": longitude, \"Latitude\": latitude}, ignore_index=True)\n"
     ]
    },
    {
     "name": "stdout",
     "output_type": "stream",
     "text": [
      "Data received: {'timestamp': 1682639622, 'message': 'success', 'iss_position': {'latitude': '10.9720', 'longitude': '174.3116'}}\n"
     ]
    },
    {
     "name": "stderr",
     "output_type": "stream",
     "text": [
      "C:\\Users\\13018\\AppData\\Local\\Temp\\ipykernel_11600\\2340310863.py:10: FutureWarning: The frame.append method is deprecated and will be removed from pandas in a future version. Use pandas.concat instead.\n",
      "  Sat_data = Sat_data.append({\"Longitude\": longitude, \"Latitude\": latitude}, ignore_index=True)\n"
     ]
    },
    {
     "name": "stdout",
     "output_type": "stream",
     "text": [
      "Data received: {'timestamp': 1682639627, 'message': 'success', 'iss_position': {'latitude': '10.7210', 'longitude': '174.4989'}}\n"
     ]
    },
    {
     "name": "stderr",
     "output_type": "stream",
     "text": [
      "C:\\Users\\13018\\AppData\\Local\\Temp\\ipykernel_11600\\2340310863.py:10: FutureWarning: The frame.append method is deprecated and will be removed from pandas in a future version. Use pandas.concat instead.\n",
      "  Sat_data = Sat_data.append({\"Longitude\": longitude, \"Latitude\": latitude}, ignore_index=True)\n"
     ]
    },
    {
     "name": "stdout",
     "output_type": "stream",
     "text": [
      "Data received: {'timestamp': 1682639632, 'message': 'success', 'iss_position': {'latitude': '10.4699', 'longitude': '174.6858'}}\n"
     ]
    },
    {
     "name": "stderr",
     "output_type": "stream",
     "text": [
      "C:\\Users\\13018\\AppData\\Local\\Temp\\ipykernel_11600\\2340310863.py:10: FutureWarning: The frame.append method is deprecated and will be removed from pandas in a future version. Use pandas.concat instead.\n",
      "  Sat_data = Sat_data.append({\"Longitude\": longitude, \"Latitude\": latitude}, ignore_index=True)\n"
     ]
    },
    {
     "name": "stdout",
     "output_type": "stream",
     "text": [
      "Data received: {'timestamp': 1682639637, 'message': 'success', 'iss_position': {'latitude': '10.1935', 'longitude': '174.8910'}}\n"
     ]
    },
    {
     "name": "stderr",
     "output_type": "stream",
     "text": [
      "C:\\Users\\13018\\AppData\\Local\\Temp\\ipykernel_11600\\2340310863.py:10: FutureWarning: The frame.append method is deprecated and will be removed from pandas in a future version. Use pandas.concat instead.\n",
      "  Sat_data = Sat_data.append({\"Longitude\": longitude, \"Latitude\": latitude}, ignore_index=True)\n"
     ]
    },
    {
     "name": "stdout",
     "output_type": "stream",
     "text": [
      "Data received: {'timestamp': 1682639642, 'message': 'success', 'iss_position': {'latitude': '9.9422', 'longitude': '175.0772'}}\n"
     ]
    },
    {
     "name": "stderr",
     "output_type": "stream",
     "text": [
      "C:\\Users\\13018\\AppData\\Local\\Temp\\ipykernel_11600\\2340310863.py:10: FutureWarning: The frame.append method is deprecated and will be removed from pandas in a future version. Use pandas.concat instead.\n",
      "  Sat_data = Sat_data.append({\"Longitude\": longitude, \"Latitude\": latitude}, ignore_index=True)\n"
     ]
    },
    {
     "name": "stdout",
     "output_type": "stream",
     "text": [
      "Data received: {'timestamp': 1682639647, 'message': 'success', 'iss_position': {'latitude': '9.6907', 'longitude': '175.2631'}}\n"
     ]
    },
    {
     "name": "stderr",
     "output_type": "stream",
     "text": [
      "C:\\Users\\13018\\AppData\\Local\\Temp\\ipykernel_11600\\2340310863.py:10: FutureWarning: The frame.append method is deprecated and will be removed from pandas in a future version. Use pandas.concat instead.\n",
      "  Sat_data = Sat_data.append({\"Longitude\": longitude, \"Latitude\": latitude}, ignore_index=True)\n"
     ]
    },
    {
     "name": "stdout",
     "output_type": "stream",
     "text": [
      "Data received: {'timestamp': 1682639653, 'message': 'success', 'iss_position': {'latitude': '9.4139', 'longitude': '175.4673'}}\n"
     ]
    },
    {
     "name": "stderr",
     "output_type": "stream",
     "text": [
      "C:\\Users\\13018\\AppData\\Local\\Temp\\ipykernel_11600\\2340310863.py:10: FutureWarning: The frame.append method is deprecated and will be removed from pandas in a future version. Use pandas.concat instead.\n",
      "  Sat_data = Sat_data.append({\"Longitude\": longitude, \"Latitude\": latitude}, ignore_index=True)\n"
     ]
    },
    {
     "name": "stdout",
     "output_type": "stream",
     "text": [
      "Data received: {'timestamp': 1682639658, 'message': 'success', 'iss_position': {'latitude': '9.1621', 'longitude': '175.6525'}}\n"
     ]
    },
    {
     "name": "stderr",
     "output_type": "stream",
     "text": [
      "C:\\Users\\13018\\AppData\\Local\\Temp\\ipykernel_11600\\2340310863.py:10: FutureWarning: The frame.append method is deprecated and will be removed from pandas in a future version. Use pandas.concat instead.\n",
      "  Sat_data = Sat_data.append({\"Longitude\": longitude, \"Latitude\": latitude}, ignore_index=True)\n"
     ]
    },
    {
     "name": "stdout",
     "output_type": "stream",
     "text": [
      "Data received: {'timestamp': 1682639663, 'message': 'success', 'iss_position': {'latitude': '8.9102', 'longitude': '175.8375'}}\n"
     ]
    },
    {
     "name": "stderr",
     "output_type": "stream",
     "text": [
      "C:\\Users\\13018\\AppData\\Local\\Temp\\ipykernel_11600\\2340310863.py:10: FutureWarning: The frame.append method is deprecated and will be removed from pandas in a future version. Use pandas.concat instead.\n",
      "  Sat_data = Sat_data.append({\"Longitude\": longitude, \"Latitude\": latitude}, ignore_index=True)\n"
     ]
    },
    {
     "name": "stdout",
     "output_type": "stream",
     "text": [
      "Data received: {'timestamp': 1682639668, 'message': 'success', 'iss_position': {'latitude': '8.6330', 'longitude': '176.0407'}}\n"
     ]
    },
    {
     "name": "stderr",
     "output_type": "stream",
     "text": [
      "C:\\Users\\13018\\AppData\\Local\\Temp\\ipykernel_11600\\2340310863.py:10: FutureWarning: The frame.append method is deprecated and will be removed from pandas in a future version. Use pandas.concat instead.\n",
      "  Sat_data = Sat_data.append({\"Longitude\": longitude, \"Latitude\": latitude}, ignore_index=True)\n"
     ]
    },
    {
     "name": "stdout",
     "output_type": "stream",
     "text": [
      "Data received: {'timestamp': 1682639673, 'message': 'success', 'iss_position': {'latitude': '8.3809', 'longitude': '176.2250'}}\n"
     ]
    },
    {
     "name": "stderr",
     "output_type": "stream",
     "text": [
      "C:\\Users\\13018\\AppData\\Local\\Temp\\ipykernel_11600\\2340310863.py:10: FutureWarning: The frame.append method is deprecated and will be removed from pandas in a future version. Use pandas.concat instead.\n",
      "  Sat_data = Sat_data.append({\"Longitude\": longitude, \"Latitude\": latitude}, ignore_index=True)\n"
     ]
    },
    {
     "name": "stdout",
     "output_type": "stream",
     "text": [
      "Data received: {'timestamp': 1682639678, 'message': 'success', 'iss_position': {'latitude': '8.1287', 'longitude': '176.4091'}}\n"
     ]
    },
    {
     "name": "stderr",
     "output_type": "stream",
     "text": [
      "C:\\Users\\13018\\AppData\\Local\\Temp\\ipykernel_11600\\2340310863.py:10: FutureWarning: The frame.append method is deprecated and will be removed from pandas in a future version. Use pandas.concat instead.\n",
      "  Sat_data = Sat_data.append({\"Longitude\": longitude, \"Latitude\": latitude}, ignore_index=True)\n"
     ]
    },
    {
     "name": "stdout",
     "output_type": "stream",
     "text": [
      "Data received: {'timestamp': 1682639684, 'message': 'success', 'iss_position': {'latitude': '7.8511', 'longitude': '176.6114'}}\n"
     ]
    },
    {
     "name": "stderr",
     "output_type": "stream",
     "text": [
      "C:\\Users\\13018\\AppData\\Local\\Temp\\ipykernel_11600\\2340310863.py:10: FutureWarning: The frame.append method is deprecated and will be removed from pandas in a future version. Use pandas.concat instead.\n",
      "  Sat_data = Sat_data.append({\"Longitude\": longitude, \"Latitude\": latitude}, ignore_index=True)\n"
     ]
    },
    {
     "name": "stdout",
     "output_type": "stream",
     "text": [
      "Data received: {'timestamp': 1682639689, 'message': 'success', 'iss_position': {'latitude': '7.5987', 'longitude': '176.7950'}}\n"
     ]
    },
    {
     "name": "stderr",
     "output_type": "stream",
     "text": [
      "C:\\Users\\13018\\AppData\\Local\\Temp\\ipykernel_11600\\2340310863.py:10: FutureWarning: The frame.append method is deprecated and will be removed from pandas in a future version. Use pandas.concat instead.\n",
      "  Sat_data = Sat_data.append({\"Longitude\": longitude, \"Latitude\": latitude}, ignore_index=True)\n"
     ]
    },
    {
     "name": "stdout",
     "output_type": "stream",
     "text": [
      "Data received: {'timestamp': 1682639694, 'message': 'success', 'iss_position': {'latitude': '7.3462', 'longitude': '176.9783'}}\n"
     ]
    },
    {
     "name": "stderr",
     "output_type": "stream",
     "text": [
      "C:\\Users\\13018\\AppData\\Local\\Temp\\ipykernel_11600\\2340310863.py:10: FutureWarning: The frame.append method is deprecated and will be removed from pandas in a future version. Use pandas.concat instead.\n",
      "  Sat_data = Sat_data.append({\"Longitude\": longitude, \"Latitude\": latitude}, ignore_index=True)\n"
     ]
    },
    {
     "name": "stdout",
     "output_type": "stream",
     "text": [
      "Data received: {'timestamp': 1682639699, 'message': 'success', 'iss_position': {'latitude': '7.0683', 'longitude': '177.1797'}}\n"
     ]
    },
    {
     "name": "stderr",
     "output_type": "stream",
     "text": [
      "C:\\Users\\13018\\AppData\\Local\\Temp\\ipykernel_11600\\2340310863.py:10: FutureWarning: The frame.append method is deprecated and will be removed from pandas in a future version. Use pandas.concat instead.\n",
      "  Sat_data = Sat_data.append({\"Longitude\": longitude, \"Latitude\": latitude}, ignore_index=True)\n"
     ]
    },
    {
     "name": "stdout",
     "output_type": "stream",
     "text": [
      "Data received: {'timestamp': 1682639704, 'message': 'success', 'iss_position': {'latitude': '6.8156', 'longitude': '177.3626'}}\n"
     ]
    },
    {
     "name": "stderr",
     "output_type": "stream",
     "text": [
      "C:\\Users\\13018\\AppData\\Local\\Temp\\ipykernel_11600\\2340310863.py:10: FutureWarning: The frame.append method is deprecated and will be removed from pandas in a future version. Use pandas.concat instead.\n",
      "  Sat_data = Sat_data.append({\"Longitude\": longitude, \"Latitude\": latitude}, ignore_index=True)\n"
     ]
    },
    {
     "name": "stdout",
     "output_type": "stream",
     "text": [
      "Data received: {'timestamp': 1682639709, 'message': 'success', 'iss_position': {'latitude': '6.5628', 'longitude': '177.5452'}}\n"
     ]
    },
    {
     "name": "stderr",
     "output_type": "stream",
     "text": [
      "C:\\Users\\13018\\AppData\\Local\\Temp\\ipykernel_11600\\2340310863.py:10: FutureWarning: The frame.append method is deprecated and will be removed from pandas in a future version. Use pandas.concat instead.\n",
      "  Sat_data = Sat_data.append({\"Longitude\": longitude, \"Latitude\": latitude}, ignore_index=True)\n"
     ]
    },
    {
     "name": "stdout",
     "output_type": "stream",
     "text": [
      "Data received: {'timestamp': 1682639715, 'message': 'success', 'iss_position': {'latitude': '6.2845', 'longitude': '177.7459'}}\n"
     ]
    },
    {
     "name": "stderr",
     "output_type": "stream",
     "text": [
      "C:\\Users\\13018\\AppData\\Local\\Temp\\ipykernel_11600\\2340310863.py:10: FutureWarning: The frame.append method is deprecated and will be removed from pandas in a future version. Use pandas.concat instead.\n",
      "  Sat_data = Sat_data.append({\"Longitude\": longitude, \"Latitude\": latitude}, ignore_index=True)\n"
     ]
    },
    {
     "name": "stdout",
     "output_type": "stream",
     "text": [
      "Data received: {'timestamp': 1682639720, 'message': 'success', 'iss_position': {'latitude': '6.0316', 'longitude': '177.9281'}}\n"
     ]
    },
    {
     "name": "stderr",
     "output_type": "stream",
     "text": [
      "C:\\Users\\13018\\AppData\\Local\\Temp\\ipykernel_11600\\2340310863.py:10: FutureWarning: The frame.append method is deprecated and will be removed from pandas in a future version. Use pandas.concat instead.\n",
      "  Sat_data = Sat_data.append({\"Longitude\": longitude, \"Latitude\": latitude}, ignore_index=True)\n"
     ]
    },
    {
     "name": "stdout",
     "output_type": "stream",
     "text": [
      "Data received: {'timestamp': 1682639725, 'message': 'success', 'iss_position': {'latitude': '5.7786', 'longitude': '178.1102'}}\n"
     ]
    },
    {
     "name": "stderr",
     "output_type": "stream",
     "text": [
      "C:\\Users\\13018\\AppData\\Local\\Temp\\ipykernel_11600\\2340310863.py:10: FutureWarning: The frame.append method is deprecated and will be removed from pandas in a future version. Use pandas.concat instead.\n",
      "  Sat_data = Sat_data.append({\"Longitude\": longitude, \"Latitude\": latitude}, ignore_index=True)\n"
     ]
    },
    {
     "name": "stdout",
     "output_type": "stream",
     "text": [
      "Data received: {'timestamp': 1682639730, 'message': 'success', 'iss_position': {'latitude': '5.5254', 'longitude': '178.2920'}}\n"
     ]
    },
    {
     "name": "stderr",
     "output_type": "stream",
     "text": [
      "C:\\Users\\13018\\AppData\\Local\\Temp\\ipykernel_11600\\2340310863.py:10: FutureWarning: The frame.append method is deprecated and will be removed from pandas in a future version. Use pandas.concat instead.\n",
      "  Sat_data = Sat_data.append({\"Longitude\": longitude, \"Latitude\": latitude}, ignore_index=True)\n"
     ]
    },
    {
     "name": "stdout",
     "output_type": "stream",
     "text": [
      "Data received: {'timestamp': 1682639735, 'message': 'success', 'iss_position': {'latitude': '5.2469', 'longitude': '178.4919'}}\n"
     ]
    },
    {
     "name": "stderr",
     "output_type": "stream",
     "text": [
      "C:\\Users\\13018\\AppData\\Local\\Temp\\ipykernel_11600\\2340310863.py:10: FutureWarning: The frame.append method is deprecated and will be removed from pandas in a future version. Use pandas.concat instead.\n",
      "  Sat_data = Sat_data.append({\"Longitude\": longitude, \"Latitude\": latitude}, ignore_index=True)\n"
     ]
    },
    {
     "name": "stdout",
     "output_type": "stream",
     "text": [
      "Data received: {'timestamp': 1682639740, 'message': 'success', 'iss_position': {'latitude': '4.9936', 'longitude': '178.6734'}}\n"
     ]
    },
    {
     "name": "stderr",
     "output_type": "stream",
     "text": [
      "C:\\Users\\13018\\AppData\\Local\\Temp\\ipykernel_11600\\2340310863.py:10: FutureWarning: The frame.append method is deprecated and will be removed from pandas in a future version. Use pandas.concat instead.\n",
      "  Sat_data = Sat_data.append({\"Longitude\": longitude, \"Latitude\": latitude}, ignore_index=True)\n"
     ]
    },
    {
     "name": "stdout",
     "output_type": "stream",
     "text": [
      "Data received: {'timestamp': 1682639745, 'message': 'success', 'iss_position': {'latitude': '4.7403', 'longitude': '178.8547'}}\n"
     ]
    },
    {
     "name": "stderr",
     "output_type": "stream",
     "text": [
      "C:\\Users\\13018\\AppData\\Local\\Temp\\ipykernel_11600\\2340310863.py:10: FutureWarning: The frame.append method is deprecated and will be removed from pandas in a future version. Use pandas.concat instead.\n",
      "  Sat_data = Sat_data.append({\"Longitude\": longitude, \"Latitude\": latitude}, ignore_index=True)\n"
     ]
    },
    {
     "name": "stdout",
     "output_type": "stream",
     "text": [
      "Data received: {'timestamp': 1682639751, 'message': 'success', 'iss_position': {'latitude': '4.4616', 'longitude': '179.0540'}}\n"
     ]
    },
    {
     "name": "stderr",
     "output_type": "stream",
     "text": [
      "C:\\Users\\13018\\AppData\\Local\\Temp\\ipykernel_11600\\2340310863.py:10: FutureWarning: The frame.append method is deprecated and will be removed from pandas in a future version. Use pandas.concat instead.\n",
      "  Sat_data = Sat_data.append({\"Longitude\": longitude, \"Latitude\": latitude}, ignore_index=True)\n"
     ]
    },
    {
     "name": "stdout",
     "output_type": "stream",
     "text": [
      "Data received: {'timestamp': 1682639756, 'message': 'success', 'iss_position': {'latitude': '4.2081', 'longitude': '179.2351'}}\n"
     ]
    },
    {
     "name": "stderr",
     "output_type": "stream",
     "text": [
      "C:\\Users\\13018\\AppData\\Local\\Temp\\ipykernel_11600\\2340310863.py:10: FutureWarning: The frame.append method is deprecated and will be removed from pandas in a future version. Use pandas.concat instead.\n",
      "  Sat_data = Sat_data.append({\"Longitude\": longitude, \"Latitude\": latitude}, ignore_index=True)\n"
     ]
    },
    {
     "name": "stdout",
     "output_type": "stream",
     "text": [
      "Data received: {'timestamp': 1682639761, 'message': 'success', 'iss_position': {'latitude': '3.9546', 'longitude': '179.4160'}}\n"
     ]
    },
    {
     "name": "stderr",
     "output_type": "stream",
     "text": [
      "C:\\Users\\13018\\AppData\\Local\\Temp\\ipykernel_11600\\2340310863.py:10: FutureWarning: The frame.append method is deprecated and will be removed from pandas in a future version. Use pandas.concat instead.\n",
      "  Sat_data = Sat_data.append({\"Longitude\": longitude, \"Latitude\": latitude}, ignore_index=True)\n"
     ]
    },
    {
     "name": "stdout",
     "output_type": "stream",
     "text": [
      "Data received: {'timestamp': 1682639766, 'message': 'success', 'iss_position': {'latitude': '3.6757', 'longitude': '179.6148'}}\n"
     ]
    },
    {
     "name": "stderr",
     "output_type": "stream",
     "text": [
      "C:\\Users\\13018\\AppData\\Local\\Temp\\ipykernel_11600\\2340310863.py:10: FutureWarning: The frame.append method is deprecated and will be removed from pandas in a future version. Use pandas.concat instead.\n",
      "  Sat_data = Sat_data.append({\"Longitude\": longitude, \"Latitude\": latitude}, ignore_index=True)\n"
     ]
    },
    {
     "name": "stdout",
     "output_type": "stream",
     "text": [
      "Data received: {'timestamp': 1682639771, 'message': 'success', 'iss_position': {'latitude': '3.4221', 'longitude': '179.7955'}}\n"
     ]
    },
    {
     "name": "stderr",
     "output_type": "stream",
     "text": [
      "C:\\Users\\13018\\AppData\\Local\\Temp\\ipykernel_11600\\2340310863.py:10: FutureWarning: The frame.append method is deprecated and will be removed from pandas in a future version. Use pandas.concat instead.\n",
      "  Sat_data = Sat_data.append({\"Longitude\": longitude, \"Latitude\": latitude}, ignore_index=True)\n"
     ]
    },
    {
     "name": "stdout",
     "output_type": "stream",
     "text": [
      "Data received: {'timestamp': 1682639776, 'message': 'success', 'iss_position': {'latitude': '3.1685', 'longitude': '179.9760'}}\n"
     ]
    },
    {
     "name": "stderr",
     "output_type": "stream",
     "text": [
      "C:\\Users\\13018\\AppData\\Local\\Temp\\ipykernel_11600\\2340310863.py:10: FutureWarning: The frame.append method is deprecated and will be removed from pandas in a future version. Use pandas.concat instead.\n",
      "  Sat_data = Sat_data.append({\"Longitude\": longitude, \"Latitude\": latitude}, ignore_index=True)\n"
     ]
    },
    {
     "name": "stdout",
     "output_type": "stream",
     "text": [
      "Data received: {'timestamp': 1682639782, 'message': 'success', 'iss_position': {'latitude': '2.8894', 'longitude': '-179.8255'}}\n"
     ]
    },
    {
     "name": "stderr",
     "output_type": "stream",
     "text": [
      "C:\\Users\\13018\\AppData\\Local\\Temp\\ipykernel_11600\\2340310863.py:10: FutureWarning: The frame.append method is deprecated and will be removed from pandas in a future version. Use pandas.concat instead.\n",
      "  Sat_data = Sat_data.append({\"Longitude\": longitude, \"Latitude\": latitude}, ignore_index=True)\n"
     ]
    },
    {
     "name": "stdout",
     "output_type": "stream",
     "text": [
      "Data received: {'timestamp': 1682639787, 'message': 'success', 'iss_position': {'latitude': '2.6357', 'longitude': '-179.6451'}}\n"
     ]
    },
    {
     "name": "stderr",
     "output_type": "stream",
     "text": [
      "C:\\Users\\13018\\AppData\\Local\\Temp\\ipykernel_11600\\2340310863.py:10: FutureWarning: The frame.append method is deprecated and will be removed from pandas in a future version. Use pandas.concat instead.\n",
      "  Sat_data = Sat_data.append({\"Longitude\": longitude, \"Latitude\": latitude}, ignore_index=True)\n"
     ]
    },
    {
     "name": "stdout",
     "output_type": "stream",
     "text": [
      "Data received: {'timestamp': 1682639792, 'message': 'success', 'iss_position': {'latitude': '2.3820', 'longitude': '-179.4649'}}\n"
     ]
    },
    {
     "name": "stderr",
     "output_type": "stream",
     "text": [
      "C:\\Users\\13018\\AppData\\Local\\Temp\\ipykernel_11600\\2340310863.py:10: FutureWarning: The frame.append method is deprecated and will be removed from pandas in a future version. Use pandas.concat instead.\n",
      "  Sat_data = Sat_data.append({\"Longitude\": longitude, \"Latitude\": latitude}, ignore_index=True)\n"
     ]
    },
    {
     "name": "stdout",
     "output_type": "stream",
     "text": [
      "Data received: {'timestamp': 1682639797, 'message': 'success', 'iss_position': {'latitude': '2.1028', 'longitude': '-179.2666'}}\n"
     ]
    },
    {
     "name": "stderr",
     "output_type": "stream",
     "text": [
      "C:\\Users\\13018\\AppData\\Local\\Temp\\ipykernel_11600\\2340310863.py:10: FutureWarning: The frame.append method is deprecated and will be removed from pandas in a future version. Use pandas.concat instead.\n",
      "  Sat_data = Sat_data.append({\"Longitude\": longitude, \"Latitude\": latitude}, ignore_index=True)\n"
     ]
    },
    {
     "name": "stdout",
     "output_type": "stream",
     "text": [
      "Data received: {'timestamp': 1682639802, 'message': 'success', 'iss_position': {'latitude': '1.8490', 'longitude': '-179.0865'}}\n"
     ]
    },
    {
     "name": "stderr",
     "output_type": "stream",
     "text": [
      "C:\\Users\\13018\\AppData\\Local\\Temp\\ipykernel_11600\\2340310863.py:10: FutureWarning: The frame.append method is deprecated and will be removed from pandas in a future version. Use pandas.concat instead.\n",
      "  Sat_data = Sat_data.append({\"Longitude\": longitude, \"Latitude\": latitude}, ignore_index=True)\n"
     ]
    },
    {
     "name": "stdout",
     "output_type": "stream",
     "text": [
      "Data received: {'timestamp': 1682639807, 'message': 'success', 'iss_position': {'latitude': '1.5951', 'longitude': '-178.9064'}}\n"
     ]
    },
    {
     "name": "stderr",
     "output_type": "stream",
     "text": [
      "C:\\Users\\13018\\AppData\\Local\\Temp\\ipykernel_11600\\2340310863.py:10: FutureWarning: The frame.append method is deprecated and will be removed from pandas in a future version. Use pandas.concat instead.\n",
      "  Sat_data = Sat_data.append({\"Longitude\": longitude, \"Latitude\": latitude}, ignore_index=True)\n"
     ]
    },
    {
     "name": "stdout",
     "output_type": "stream",
     "text": [
      "Data received: {'timestamp': 1682639813, 'message': 'success', 'iss_position': {'latitude': '1.3160', 'longitude': '-178.7085'}}\n"
     ]
    },
    {
     "name": "stderr",
     "output_type": "stream",
     "text": [
      "C:\\Users\\13018\\AppData\\Local\\Temp\\ipykernel_11600\\2340310863.py:10: FutureWarning: The frame.append method is deprecated and will be removed from pandas in a future version. Use pandas.concat instead.\n",
      "  Sat_data = Sat_data.append({\"Longitude\": longitude, \"Latitude\": latitude}, ignore_index=True)\n"
     ]
    },
    {
     "name": "stdout",
     "output_type": "stream",
     "text": [
      "Data received: {'timestamp': 1682639818, 'message': 'success', 'iss_position': {'latitude': '1.0621', 'longitude': '-178.5285'}}\n"
     ]
    },
    {
     "name": "stderr",
     "output_type": "stream",
     "text": [
      "C:\\Users\\13018\\AppData\\Local\\Temp\\ipykernel_11600\\2340310863.py:10: FutureWarning: The frame.append method is deprecated and will be removed from pandas in a future version. Use pandas.concat instead.\n",
      "  Sat_data = Sat_data.append({\"Longitude\": longitude, \"Latitude\": latitude}, ignore_index=True)\n"
     ]
    },
    {
     "name": "stdout",
     "output_type": "stream",
     "text": [
      "Data received: {'timestamp': 1682639823, 'message': 'success', 'iss_position': {'latitude': '0.8082', 'longitude': '-178.3486'}}\n"
     ]
    },
    {
     "name": "stderr",
     "output_type": "stream",
     "text": [
      "C:\\Users\\13018\\AppData\\Local\\Temp\\ipykernel_11600\\2340310863.py:10: FutureWarning: The frame.append method is deprecated and will be removed from pandas in a future version. Use pandas.concat instead.\n",
      "  Sat_data = Sat_data.append({\"Longitude\": longitude, \"Latitude\": latitude}, ignore_index=True)\n"
     ]
    },
    {
     "name": "stdout",
     "output_type": "stream",
     "text": [
      "Data received: {'timestamp': 1682639828, 'message': 'success', 'iss_position': {'latitude': '0.5289', 'longitude': '-178.1507'}}\n"
     ]
    },
    {
     "name": "stderr",
     "output_type": "stream",
     "text": [
      "C:\\Users\\13018\\AppData\\Local\\Temp\\ipykernel_11600\\2340310863.py:10: FutureWarning: The frame.append method is deprecated and will be removed from pandas in a future version. Use pandas.concat instead.\n",
      "  Sat_data = Sat_data.append({\"Longitude\": longitude, \"Latitude\": latitude}, ignore_index=True)\n"
     ]
    },
    {
     "name": "stdout",
     "output_type": "stream",
     "text": [
      "Data received: {'timestamp': 1682639833, 'message': 'success', 'iss_position': {'latitude': '0.2751', 'longitude': '-177.9708'}}\n"
     ]
    },
    {
     "name": "stderr",
     "output_type": "stream",
     "text": [
      "C:\\Users\\13018\\AppData\\Local\\Temp\\ipykernel_11600\\2340310863.py:10: FutureWarning: The frame.append method is deprecated and will be removed from pandas in a future version. Use pandas.concat instead.\n",
      "  Sat_data = Sat_data.append({\"Longitude\": longitude, \"Latitude\": latitude}, ignore_index=True)\n"
     ]
    },
    {
     "name": "stdout",
     "output_type": "stream",
     "text": [
      "Data received: {'timestamp': 1682639838, 'message': 'success', 'iss_position': {'latitude': '0.0212', 'longitude': '-177.7909'}}\n"
     ]
    },
    {
     "name": "stderr",
     "output_type": "stream",
     "text": [
      "C:\\Users\\13018\\AppData\\Local\\Temp\\ipykernel_11600\\2340310863.py:10: FutureWarning: The frame.append method is deprecated and will be removed from pandas in a future version. Use pandas.concat instead.\n",
      "  Sat_data = Sat_data.append({\"Longitude\": longitude, \"Latitude\": latitude}, ignore_index=True)\n"
     ]
    },
    {
     "name": "stdout",
     "output_type": "stream",
     "text": [
      "Data received: {'timestamp': 1682639844, 'message': 'success', 'iss_position': {'latitude': '-0.2581', 'longitude': '-177.5931'}}\n"
     ]
    },
    {
     "name": "stderr",
     "output_type": "stream",
     "text": [
      "C:\\Users\\13018\\AppData\\Local\\Temp\\ipykernel_11600\\2340310863.py:10: FutureWarning: The frame.append method is deprecated and will be removed from pandas in a future version. Use pandas.concat instead.\n",
      "  Sat_data = Sat_data.append({\"Longitude\": longitude, \"Latitude\": latitude}, ignore_index=True)\n"
     ]
    },
    {
     "name": "stdout",
     "output_type": "stream",
     "text": [
      "Data received: {'timestamp': 1682639849, 'message': 'success', 'iss_position': {'latitude': '-0.5119', 'longitude': '-177.4132'}}\n"
     ]
    },
    {
     "name": "stderr",
     "output_type": "stream",
     "text": [
      "C:\\Users\\13018\\AppData\\Local\\Temp\\ipykernel_11600\\2340310863.py:10: FutureWarning: The frame.append method is deprecated and will be removed from pandas in a future version. Use pandas.concat instead.\n",
      "  Sat_data = Sat_data.append({\"Longitude\": longitude, \"Latitude\": latitude}, ignore_index=True)\n"
     ]
    },
    {
     "name": "stdout",
     "output_type": "stream",
     "text": [
      "Data received: {'timestamp': 1682639854, 'message': 'success', 'iss_position': {'latitude': '-0.7658', 'longitude': '-177.2333'}}\n"
     ]
    },
    {
     "name": "stderr",
     "output_type": "stream",
     "text": [
      "C:\\Users\\13018\\AppData\\Local\\Temp\\ipykernel_11600\\2340310863.py:10: FutureWarning: The frame.append method is deprecated and will be removed from pandas in a future version. Use pandas.concat instead.\n",
      "  Sat_data = Sat_data.append({\"Longitude\": longitude, \"Latitude\": latitude}, ignore_index=True)\n"
     ]
    },
    {
     "name": "stdout",
     "output_type": "stream",
     "text": [
      "Data received: {'timestamp': 1682639859, 'message': 'success', 'iss_position': {'latitude': '-1.0450', 'longitude': '-177.0354'}}\n"
     ]
    },
    {
     "name": "stderr",
     "output_type": "stream",
     "text": [
      "C:\\Users\\13018\\AppData\\Local\\Temp\\ipykernel_11600\\2340310863.py:10: FutureWarning: The frame.append method is deprecated and will be removed from pandas in a future version. Use pandas.concat instead.\n",
      "  Sat_data = Sat_data.append({\"Longitude\": longitude, \"Latitude\": latitude}, ignore_index=True)\n"
     ]
    },
    {
     "name": "stdout",
     "output_type": "stream",
     "text": [
      "Data received: {'timestamp': 1682639864, 'message': 'success', 'iss_position': {'latitude': '-1.2989', 'longitude': '-176.8555'}}\n"
     ]
    },
    {
     "name": "stderr",
     "output_type": "stream",
     "text": [
      "C:\\Users\\13018\\AppData\\Local\\Temp\\ipykernel_11600\\2340310863.py:10: FutureWarning: The frame.append method is deprecated and will be removed from pandas in a future version. Use pandas.concat instead.\n",
      "  Sat_data = Sat_data.append({\"Longitude\": longitude, \"Latitude\": latitude}, ignore_index=True)\n"
     ]
    },
    {
     "name": "stdout",
     "output_type": "stream",
     "text": [
      "Data received: {'timestamp': 1682639869, 'message': 'success', 'iss_position': {'latitude': '-1.5527', 'longitude': '-176.6755'}}\n"
     ]
    },
    {
     "name": "stderr",
     "output_type": "stream",
     "text": [
      "C:\\Users\\13018\\AppData\\Local\\Temp\\ipykernel_11600\\2340310863.py:10: FutureWarning: The frame.append method is deprecated and will be removed from pandas in a future version. Use pandas.concat instead.\n",
      "  Sat_data = Sat_data.append({\"Longitude\": longitude, \"Latitude\": latitude}, ignore_index=True)\n"
     ]
    },
    {
     "name": "stdout",
     "output_type": "stream",
     "text": [
      "Data received: {'timestamp': 1682639874, 'message': 'success', 'iss_position': {'latitude': '-1.8065', 'longitude': '-176.4955'}}\n"
     ]
    },
    {
     "name": "stderr",
     "output_type": "stream",
     "text": [
      "C:\\Users\\13018\\AppData\\Local\\Temp\\ipykernel_11600\\2340310863.py:10: FutureWarning: The frame.append method is deprecated and will be removed from pandas in a future version. Use pandas.concat instead.\n",
      "  Sat_data = Sat_data.append({\"Longitude\": longitude, \"Latitude\": latitude}, ignore_index=True)\n"
     ]
    },
    {
     "name": "stdout",
     "output_type": "stream",
     "text": [
      "Data received: {'timestamp': 1682639880, 'message': 'success', 'iss_position': {'latitude': '-2.0857', 'longitude': '-176.2973'}}\n"
     ]
    },
    {
     "name": "stderr",
     "output_type": "stream",
     "text": [
      "C:\\Users\\13018\\AppData\\Local\\Temp\\ipykernel_11600\\2340310863.py:10: FutureWarning: The frame.append method is deprecated and will be removed from pandas in a future version. Use pandas.concat instead.\n",
      "  Sat_data = Sat_data.append({\"Longitude\": longitude, \"Latitude\": latitude}, ignore_index=True)\n"
     ]
    },
    {
     "name": "stdout",
     "output_type": "stream",
     "text": [
      "Data received: {'timestamp': 1682639885, 'message': 'success', 'iss_position': {'latitude': '-2.3395', 'longitude': '-176.1172'}}\n"
     ]
    },
    {
     "name": "stderr",
     "output_type": "stream",
     "text": [
      "C:\\Users\\13018\\AppData\\Local\\Temp\\ipykernel_11600\\2340310863.py:10: FutureWarning: The frame.append method is deprecated and will be removed from pandas in a future version. Use pandas.concat instead.\n",
      "  Sat_data = Sat_data.append({\"Longitude\": longitude, \"Latitude\": latitude}, ignore_index=True)\n"
     ]
    },
    {
     "name": "stdout",
     "output_type": "stream",
     "text": [
      "Data received: {'timestamp': 1682639890, 'message': 'success', 'iss_position': {'latitude': '-2.5932', 'longitude': '-175.9370'}}\n"
     ]
    },
    {
     "name": "stderr",
     "output_type": "stream",
     "text": [
      "C:\\Users\\13018\\AppData\\Local\\Temp\\ipykernel_11600\\2340310863.py:10: FutureWarning: The frame.append method is deprecated and will be removed from pandas in a future version. Use pandas.concat instead.\n",
      "  Sat_data = Sat_data.append({\"Longitude\": longitude, \"Latitude\": latitude}, ignore_index=True)\n"
     ]
    },
    {
     "name": "stdout",
     "output_type": "stream",
     "text": [
      "Data received: {'timestamp': 1682639896, 'message': 'success', 'iss_position': {'latitude': '-2.8722', 'longitude': '-175.7386'}}\n"
     ]
    },
    {
     "name": "stderr",
     "output_type": "stream",
     "text": [
      "C:\\Users\\13018\\AppData\\Local\\Temp\\ipykernel_11600\\2340310863.py:10: FutureWarning: The frame.append method is deprecated and will be removed from pandas in a future version. Use pandas.concat instead.\n",
      "  Sat_data = Sat_data.append({\"Longitude\": longitude, \"Latitude\": latitude}, ignore_index=True)\n"
     ]
    },
    {
     "name": "stdout",
     "output_type": "stream",
     "text": [
      "Data received: {'timestamp': 1682639901, 'message': 'success', 'iss_position': {'latitude': '-3.1259', 'longitude': '-175.5582'}}\n"
     ]
    },
    {
     "name": "stderr",
     "output_type": "stream",
     "text": [
      "C:\\Users\\13018\\AppData\\Local\\Temp\\ipykernel_11600\\2340310863.py:10: FutureWarning: The frame.append method is deprecated and will be removed from pandas in a future version. Use pandas.concat instead.\n",
      "  Sat_data = Sat_data.append({\"Longitude\": longitude, \"Latitude\": latitude}, ignore_index=True)\n"
     ]
    },
    {
     "name": "stdout",
     "output_type": "stream",
     "text": [
      "Data received: {'timestamp': 1682639906, 'message': 'success', 'iss_position': {'latitude': '-3.3795', 'longitude': '-175.3777'}}\n"
     ]
    },
    {
     "name": "stderr",
     "output_type": "stream",
     "text": [
      "C:\\Users\\13018\\AppData\\Local\\Temp\\ipykernel_11600\\2340310863.py:10: FutureWarning: The frame.append method is deprecated and will be removed from pandas in a future version. Use pandas.concat instead.\n",
      "  Sat_data = Sat_data.append({\"Longitude\": longitude, \"Latitude\": latitude}, ignore_index=True)\n"
     ]
    },
    {
     "name": "stdout",
     "output_type": "stream",
     "text": [
      "Data received: {'timestamp': 1682639911, 'message': 'success', 'iss_position': {'latitude': '-3.6585', 'longitude': '-175.1790'}}\n"
     ]
    },
    {
     "name": "stderr",
     "output_type": "stream",
     "text": [
      "C:\\Users\\13018\\AppData\\Local\\Temp\\ipykernel_11600\\2340310863.py:10: FutureWarning: The frame.append method is deprecated and will be removed from pandas in a future version. Use pandas.concat instead.\n",
      "  Sat_data = Sat_data.append({\"Longitude\": longitude, \"Latitude\": latitude}, ignore_index=True)\n"
     ]
    },
    {
     "name": "stdout",
     "output_type": "stream",
     "text": [
      "Data received: {'timestamp': 1682639916, 'message': 'success', 'iss_position': {'latitude': '-3.9120', 'longitude': '-174.9983'}}\n"
     ]
    },
    {
     "name": "stderr",
     "output_type": "stream",
     "text": [
      "C:\\Users\\13018\\AppData\\Local\\Temp\\ipykernel_11600\\2340310863.py:10: FutureWarning: The frame.append method is deprecated and will be removed from pandas in a future version. Use pandas.concat instead.\n",
      "  Sat_data = Sat_data.append({\"Longitude\": longitude, \"Latitude\": latitude}, ignore_index=True)\n"
     ]
    },
    {
     "name": "stdout",
     "output_type": "stream",
     "text": [
      "Data received: {'timestamp': 1682639921, 'message': 'success', 'iss_position': {'latitude': '-4.1654', 'longitude': '-174.8174'}}\n"
     ]
    },
    {
     "name": "stderr",
     "output_type": "stream",
     "text": [
      "C:\\Users\\13018\\AppData\\Local\\Temp\\ipykernel_11600\\2340310863.py:10: FutureWarning: The frame.append method is deprecated and will be removed from pandas in a future version. Use pandas.concat instead.\n",
      "  Sat_data = Sat_data.append({\"Longitude\": longitude, \"Latitude\": latitude}, ignore_index=True)\n"
     ]
    },
    {
     "name": "stdout",
     "output_type": "stream",
     "text": [
      "Data received: {'timestamp': 1682639927, 'message': 'success', 'iss_position': {'latitude': '-4.4442', 'longitude': '-174.6183'}}\n"
     ]
    },
    {
     "name": "stderr",
     "output_type": "stream",
     "text": [
      "C:\\Users\\13018\\AppData\\Local\\Temp\\ipykernel_11600\\2340310863.py:10: FutureWarning: The frame.append method is deprecated and will be removed from pandas in a future version. Use pandas.concat instead.\n",
      "  Sat_data = Sat_data.append({\"Longitude\": longitude, \"Latitude\": latitude}, ignore_index=True)\n"
     ]
    },
    {
     "name": "stdout",
     "output_type": "stream",
     "text": [
      "Data received: {'timestamp': 1682639932, 'message': 'success', 'iss_position': {'latitude': '-4.6975', 'longitude': '-174.4372'}}\n"
     ]
    },
    {
     "name": "stderr",
     "output_type": "stream",
     "text": [
      "C:\\Users\\13018\\AppData\\Local\\Temp\\ipykernel_11600\\2340310863.py:10: FutureWarning: The frame.append method is deprecated and will be removed from pandas in a future version. Use pandas.concat instead.\n",
      "  Sat_data = Sat_data.append({\"Longitude\": longitude, \"Latitude\": latitude}, ignore_index=True)\n"
     ]
    },
    {
     "name": "stdout",
     "output_type": "stream",
     "text": [
      "Data received: {'timestamp': 1682639937, 'message': 'success', 'iss_position': {'latitude': '-4.9508', 'longitude': '-174.2559'}}\n"
     ]
    },
    {
     "name": "stderr",
     "output_type": "stream",
     "text": [
      "C:\\Users\\13018\\AppData\\Local\\Temp\\ipykernel_11600\\2340310863.py:10: FutureWarning: The frame.append method is deprecated and will be removed from pandas in a future version. Use pandas.concat instead.\n",
      "  Sat_data = Sat_data.append({\"Longitude\": longitude, \"Latitude\": latitude}, ignore_index=True)\n"
     ]
    },
    {
     "name": "stdout",
     "output_type": "stream",
     "text": [
      "Data received: {'timestamp': 1682639942, 'message': 'success', 'iss_position': {'latitude': '-5.2293', 'longitude': '-174.0563'}}\n"
     ]
    },
    {
     "name": "stderr",
     "output_type": "stream",
     "text": [
      "C:\\Users\\13018\\AppData\\Local\\Temp\\ipykernel_11600\\2340310863.py:10: FutureWarning: The frame.append method is deprecated and will be removed from pandas in a future version. Use pandas.concat instead.\n",
      "  Sat_data = Sat_data.append({\"Longitude\": longitude, \"Latitude\": latitude}, ignore_index=True)\n"
     ]
    },
    {
     "name": "stdout",
     "output_type": "stream",
     "text": [
      "Data received: {'timestamp': 1682639947, 'message': 'success', 'iss_position': {'latitude': '-5.4825', 'longitude': '-173.8747'}}\n"
     ]
    },
    {
     "name": "stderr",
     "output_type": "stream",
     "text": [
      "C:\\Users\\13018\\AppData\\Local\\Temp\\ipykernel_11600\\2340310863.py:10: FutureWarning: The frame.append method is deprecated and will be removed from pandas in a future version. Use pandas.concat instead.\n",
      "  Sat_data = Sat_data.append({\"Longitude\": longitude, \"Latitude\": latitude}, ignore_index=True)\n"
     ]
    },
    {
     "name": "stdout",
     "output_type": "stream",
     "text": [
      "Data received: {'timestamp': 1682639953, 'message': 'success', 'iss_position': {'latitude': '-5.7609', 'longitude': '-173.6747'}}\n"
     ]
    },
    {
     "name": "stderr",
     "output_type": "stream",
     "text": [
      "C:\\Users\\13018\\AppData\\Local\\Temp\\ipykernel_11600\\2340310863.py:10: FutureWarning: The frame.append method is deprecated and will be removed from pandas in a future version. Use pandas.concat instead.\n",
      "  Sat_data = Sat_data.append({\"Longitude\": longitude, \"Latitude\": latitude}, ignore_index=True)\n"
     ]
    },
    {
     "name": "stdout",
     "output_type": "stream",
     "text": [
      "Data received: {'timestamp': 1682639958, 'message': 'success', 'iss_position': {'latitude': '-6.0139', 'longitude': '-173.4927'}}\n"
     ]
    },
    {
     "name": "stderr",
     "output_type": "stream",
     "text": [
      "C:\\Users\\13018\\AppData\\Local\\Temp\\ipykernel_11600\\2340310863.py:10: FutureWarning: The frame.append method is deprecated and will be removed from pandas in a future version. Use pandas.concat instead.\n",
      "  Sat_data = Sat_data.append({\"Longitude\": longitude, \"Latitude\": latitude}, ignore_index=True)\n"
     ]
    },
    {
     "name": "stdout",
     "output_type": "stream",
     "text": [
      "Data received: {'timestamp': 1682639963, 'message': 'success', 'iss_position': {'latitude': '-6.2669', 'longitude': '-173.3106'}}\n"
     ]
    },
    {
     "name": "stderr",
     "output_type": "stream",
     "text": [
      "C:\\Users\\13018\\AppData\\Local\\Temp\\ipykernel_11600\\2340310863.py:10: FutureWarning: The frame.append method is deprecated and will be removed from pandas in a future version. Use pandas.concat instead.\n",
      "  Sat_data = Sat_data.append({\"Longitude\": longitude, \"Latitude\": latitude}, ignore_index=True)\n"
     ]
    },
    {
     "name": "stdout",
     "output_type": "stream",
     "text": [
      "Data received: {'timestamp': 1682639968, 'message': 'success', 'iss_position': {'latitude': '-6.5450', 'longitude': '-173.1100'}}\n"
     ]
    },
    {
     "name": "stderr",
     "output_type": "stream",
     "text": [
      "C:\\Users\\13018\\AppData\\Local\\Temp\\ipykernel_11600\\2340310863.py:10: FutureWarning: The frame.append method is deprecated and will be removed from pandas in a future version. Use pandas.concat instead.\n",
      "  Sat_data = Sat_data.append({\"Longitude\": longitude, \"Latitude\": latitude}, ignore_index=True)\n"
     ]
    },
    {
     "name": "stdout",
     "output_type": "stream",
     "text": [
      "Data received: {'timestamp': 1682639973, 'message': 'success', 'iss_position': {'latitude': '-6.7977', 'longitude': '-172.9274'}}\n"
     ]
    },
    {
     "name": "stderr",
     "output_type": "stream",
     "text": [
      "C:\\Users\\13018\\AppData\\Local\\Temp\\ipykernel_11600\\2340310863.py:10: FutureWarning: The frame.append method is deprecated and will be removed from pandas in a future version. Use pandas.concat instead.\n",
      "  Sat_data = Sat_data.append({\"Longitude\": longitude, \"Latitude\": latitude}, ignore_index=True)\n"
     ]
    },
    {
     "name": "stdout",
     "output_type": "stream",
     "text": [
      "Data received: {'timestamp': 1682639978, 'message': 'success', 'iss_position': {'latitude': '-7.0503', 'longitude': '-172.7446'}}\n"
     ]
    },
    {
     "name": "stderr",
     "output_type": "stream",
     "text": [
      "C:\\Users\\13018\\AppData\\Local\\Temp\\ipykernel_11600\\2340310863.py:10: FutureWarning: The frame.append method is deprecated and will be removed from pandas in a future version. Use pandas.concat instead.\n",
      "  Sat_data = Sat_data.append({\"Longitude\": longitude, \"Latitude\": latitude}, ignore_index=True)\n"
     ]
    },
    {
     "name": "stdout",
     "output_type": "stream",
     "text": [
      "Data received: {'timestamp': 1682639984, 'message': 'success', 'iss_position': {'latitude': '-7.3282', 'longitude': '-172.5433'}}\n"
     ]
    },
    {
     "name": "stderr",
     "output_type": "stream",
     "text": [
      "C:\\Users\\13018\\AppData\\Local\\Temp\\ipykernel_11600\\2340310863.py:10: FutureWarning: The frame.append method is deprecated and will be removed from pandas in a future version. Use pandas.concat instead.\n",
      "  Sat_data = Sat_data.append({\"Longitude\": longitude, \"Latitude\": latitude}, ignore_index=True)\n"
     ]
    },
    {
     "name": "stdout",
     "output_type": "stream",
     "text": [
      "Data received: {'timestamp': 1682639989, 'message': 'success', 'iss_position': {'latitude': '-7.5807', 'longitude': '-172.3600'}}\n"
     ]
    },
    {
     "name": "stderr",
     "output_type": "stream",
     "text": [
      "C:\\Users\\13018\\AppData\\Local\\Temp\\ipykernel_11600\\2340310863.py:10: FutureWarning: The frame.append method is deprecated and will be removed from pandas in a future version. Use pandas.concat instead.\n",
      "  Sat_data = Sat_data.append({\"Longitude\": longitude, \"Latitude\": latitude}, ignore_index=True)\n"
     ]
    },
    {
     "name": "stdout",
     "output_type": "stream",
     "text": [
      "Data received: {'timestamp': 1682639994, 'message': 'success', 'iss_position': {'latitude': '-7.8330', 'longitude': '-172.1765'}}\n"
     ]
    },
    {
     "name": "stderr",
     "output_type": "stream",
     "text": [
      "C:\\Users\\13018\\AppData\\Local\\Temp\\ipykernel_11600\\2340310863.py:10: FutureWarning: The frame.append method is deprecated and will be removed from pandas in a future version. Use pandas.concat instead.\n",
      "  Sat_data = Sat_data.append({\"Longitude\": longitude, \"Latitude\": latitude}, ignore_index=True)\n"
     ]
    },
    {
     "name": "stdout",
     "output_type": "stream",
     "text": [
      "Data received: {'timestamp': 1682639999, 'message': 'success', 'iss_position': {'latitude': '-8.1105', 'longitude': '-171.9743'}}\n"
     ]
    },
    {
     "name": "stderr",
     "output_type": "stream",
     "text": [
      "C:\\Users\\13018\\AppData\\Local\\Temp\\ipykernel_11600\\2340310863.py:10: FutureWarning: The frame.append method is deprecated and will be removed from pandas in a future version. Use pandas.concat instead.\n",
      "  Sat_data = Sat_data.append({\"Longitude\": longitude, \"Latitude\": latitude}, ignore_index=True)\n"
     ]
    },
    {
     "name": "stdout",
     "output_type": "stream",
     "text": [
      "Data received: {'timestamp': 1682640004, 'message': 'success', 'iss_position': {'latitude': '-8.3592', 'longitude': '-171.7950'}}\n"
     ]
    },
    {
     "name": "stderr",
     "output_type": "stream",
     "text": [
      "C:\\Users\\13018\\AppData\\Local\\Temp\\ipykernel_11600\\2340310863.py:10: FutureWarning: The frame.append method is deprecated and will be removed from pandas in a future version. Use pandas.concat instead.\n",
      "  Sat_data = Sat_data.append({\"Longitude\": longitude, \"Latitude\": latitude}, ignore_index=True)\n"
     ]
    },
    {
     "name": "stdout",
     "output_type": "stream",
     "text": [
      "Data received: {'timestamp': 1682640010, 'message': 'success', 'iss_position': {'latitude': '-8.6365', 'longitude': '-171.5922'}}\n"
     ]
    },
    {
     "name": "stderr",
     "output_type": "stream",
     "text": [
      "C:\\Users\\13018\\AppData\\Local\\Temp\\ipykernel_11600\\2340310863.py:10: FutureWarning: The frame.append method is deprecated and will be removed from pandas in a future version. Use pandas.concat instead.\n",
      "  Sat_data = Sat_data.append({\"Longitude\": longitude, \"Latitude\": latitude}, ignore_index=True)\n"
     ]
    },
    {
     "name": "stdout",
     "output_type": "stream",
     "text": [
      "Data received: {'timestamp': 1682640015, 'message': 'success', 'iss_position': {'latitude': '-8.8885', 'longitude': '-171.4075'}}\n"
     ]
    },
    {
     "name": "stderr",
     "output_type": "stream",
     "text": [
      "C:\\Users\\13018\\AppData\\Local\\Temp\\ipykernel_11600\\2340310863.py:10: FutureWarning: The frame.append method is deprecated and will be removed from pandas in a future version. Use pandas.concat instead.\n",
      "  Sat_data = Sat_data.append({\"Longitude\": longitude, \"Latitude\": latitude}, ignore_index=True)\n"
     ]
    },
    {
     "name": "stdout",
     "output_type": "stream",
     "text": [
      "Data received: {'timestamp': 1682640020, 'message': 'success', 'iss_position': {'latitude': '-9.1403', 'longitude': '-171.2226'}}\n"
     ]
    },
    {
     "name": "stderr",
     "output_type": "stream",
     "text": [
      "C:\\Users\\13018\\AppData\\Local\\Temp\\ipykernel_11600\\2340310863.py:10: FutureWarning: The frame.append method is deprecated and will be removed from pandas in a future version. Use pandas.concat instead.\n",
      "  Sat_data = Sat_data.append({\"Longitude\": longitude, \"Latitude\": latitude}, ignore_index=True)\n"
     ]
    },
    {
     "name": "stdout",
     "output_type": "stream",
     "text": [
      "Data received: {'timestamp': 1682640025, 'message': 'success', 'iss_position': {'latitude': '-9.3921', 'longitude': '-171.0374'}}\n"
     ]
    },
    {
     "name": "stderr",
     "output_type": "stream",
     "text": [
      "C:\\Users\\13018\\AppData\\Local\\Temp\\ipykernel_11600\\2340310863.py:10: FutureWarning: The frame.append method is deprecated and will be removed from pandas in a future version. Use pandas.concat instead.\n",
      "  Sat_data = Sat_data.append({\"Longitude\": longitude, \"Latitude\": latitude}, ignore_index=True)\n"
     ]
    },
    {
     "name": "stdout",
     "output_type": "stream",
     "text": [
      "Data received: {'timestamp': 1682640030, 'message': 'success', 'iss_position': {'latitude': '-9.6688', 'longitude': '-170.8334'}}\n"
     ]
    },
    {
     "name": "stderr",
     "output_type": "stream",
     "text": [
      "C:\\Users\\13018\\AppData\\Local\\Temp\\ipykernel_11600\\2340310863.py:10: FutureWarning: The frame.append method is deprecated and will be removed from pandas in a future version. Use pandas.concat instead.\n",
      "  Sat_data = Sat_data.append({\"Longitude\": longitude, \"Latitude\": latitude}, ignore_index=True)\n"
     ]
    },
    {
     "name": "stdout",
     "output_type": "stream",
     "text": [
      "Data received: {'timestamp': 1682640035, 'message': 'success', 'iss_position': {'latitude': '-9.9203', 'longitude': '-170.6475'}}\n"
     ]
    },
    {
     "name": "stderr",
     "output_type": "stream",
     "text": [
      "C:\\Users\\13018\\AppData\\Local\\Temp\\ipykernel_11600\\2340310863.py:10: FutureWarning: The frame.append method is deprecated and will be removed from pandas in a future version. Use pandas.concat instead.\n",
      "  Sat_data = Sat_data.append({\"Longitude\": longitude, \"Latitude\": latitude}, ignore_index=True)\n"
     ]
    },
    {
     "name": "stdout",
     "output_type": "stream",
     "text": [
      "Data received: {'timestamp': 1682640040, 'message': 'success', 'iss_position': {'latitude': '-10.1716', 'longitude': '-170.4614'}}\n"
     ]
    },
    {
     "name": "stderr",
     "output_type": "stream",
     "text": [
      "C:\\Users\\13018\\AppData\\Local\\Temp\\ipykernel_11600\\2340310863.py:10: FutureWarning: The frame.append method is deprecated and will be removed from pandas in a future version. Use pandas.concat instead.\n",
      "  Sat_data = Sat_data.append({\"Longitude\": longitude, \"Latitude\": latitude}, ignore_index=True)\n"
     ]
    },
    {
     "name": "stdout",
     "output_type": "stream",
     "text": [
      "Data received: {'timestamp': 1682640046, 'message': 'success', 'iss_position': {'latitude': '-10.4479', 'longitude': '-170.2563'}}\n"
     ]
    },
    {
     "name": "stderr",
     "output_type": "stream",
     "text": [
      "C:\\Users\\13018\\AppData\\Local\\Temp\\ipykernel_11600\\2340310863.py:10: FutureWarning: The frame.append method is deprecated and will be removed from pandas in a future version. Use pandas.concat instead.\n",
      "  Sat_data = Sat_data.append({\"Longitude\": longitude, \"Latitude\": latitude}, ignore_index=True)\n"
     ]
    },
    {
     "name": "stdout",
     "output_type": "stream",
     "text": [
      "Data received: {'timestamp': 1682640051, 'message': 'success', 'iss_position': {'latitude': '-10.6989', 'longitude': '-170.0694'}}\n"
     ]
    },
    {
     "name": "stderr",
     "output_type": "stream",
     "text": [
      "C:\\Users\\13018\\AppData\\Local\\Temp\\ipykernel_11600\\2340310863.py:10: FutureWarning: The frame.append method is deprecated and will be removed from pandas in a future version. Use pandas.concat instead.\n",
      "  Sat_data = Sat_data.append({\"Longitude\": longitude, \"Latitude\": latitude}, ignore_index=True)\n"
     ]
    },
    {
     "name": "stdout",
     "output_type": "stream",
     "text": [
      "Data received: {'timestamp': 1682640056, 'message': 'success', 'iss_position': {'latitude': '-10.9499', 'longitude': '-169.8822'}}\n"
     ]
    },
    {
     "name": "stderr",
     "output_type": "stream",
     "text": [
      "C:\\Users\\13018\\AppData\\Local\\Temp\\ipykernel_11600\\2340310863.py:10: FutureWarning: The frame.append method is deprecated and will be removed from pandas in a future version. Use pandas.concat instead.\n",
      "  Sat_data = Sat_data.append({\"Longitude\": longitude, \"Latitude\": latitude}, ignore_index=True)\n"
     ]
    },
    {
     "name": "stdout",
     "output_type": "stream",
     "text": [
      "Data received: {'timestamp': 1682640061, 'message': 'success', 'iss_position': {'latitude': '-11.2257', 'longitude': '-169.6759'}}\n"
     ]
    },
    {
     "name": "stderr",
     "output_type": "stream",
     "text": [
      "C:\\Users\\13018\\AppData\\Local\\Temp\\ipykernel_11600\\2340310863.py:10: FutureWarning: The frame.append method is deprecated and will be removed from pandas in a future version. Use pandas.concat instead.\n",
      "  Sat_data = Sat_data.append({\"Longitude\": longitude, \"Latitude\": latitude}, ignore_index=True)\n"
     ]
    },
    {
     "name": "stdout",
     "output_type": "stream",
     "text": [
      "Data received: {'timestamp': 1682640066, 'message': 'success', 'iss_position': {'latitude': '-11.4763', 'longitude': '-169.4880'}}\n"
     ]
    },
    {
     "name": "stderr",
     "output_type": "stream",
     "text": [
      "C:\\Users\\13018\\AppData\\Local\\Temp\\ipykernel_11600\\2340310863.py:10: FutureWarning: The frame.append method is deprecated and will be removed from pandas in a future version. Use pandas.concat instead.\n",
      "  Sat_data = Sat_data.append({\"Longitude\": longitude, \"Latitude\": latitude}, ignore_index=True)\n"
     ]
    },
    {
     "name": "stdout",
     "output_type": "stream",
     "text": [
      "Data received: {'timestamp': 1682640071, 'message': 'success', 'iss_position': {'latitude': '-11.7268', 'longitude': '-169.2996'}}\n"
     ]
    },
    {
     "name": "stderr",
     "output_type": "stream",
     "text": [
      "C:\\Users\\13018\\AppData\\Local\\Temp\\ipykernel_11600\\2340310863.py:10: FutureWarning: The frame.append method is deprecated and will be removed from pandas in a future version. Use pandas.concat instead.\n",
      "  Sat_data = Sat_data.append({\"Longitude\": longitude, \"Latitude\": latitude}, ignore_index=True)\n"
     ]
    },
    {
     "name": "stdout",
     "output_type": "stream",
     "text": [
      "Data received: {'timestamp': 1682640077, 'message': 'success', 'iss_position': {'latitude': '-12.0021', 'longitude': '-169.0921'}}\n"
     ]
    },
    {
     "name": "stderr",
     "output_type": "stream",
     "text": [
      "C:\\Users\\13018\\AppData\\Local\\Temp\\ipykernel_11600\\2340310863.py:10: FutureWarning: The frame.append method is deprecated and will be removed from pandas in a future version. Use pandas.concat instead.\n",
      "  Sat_data = Sat_data.append({\"Longitude\": longitude, \"Latitude\": latitude}, ignore_index=True)\n"
     ]
    },
    {
     "name": "stdout",
     "output_type": "stream",
     "text": [
      "Data received: {'timestamp': 1682640082, 'message': 'success', 'iss_position': {'latitude': '-12.2522', 'longitude': '-168.9029'}}\n"
     ]
    },
    {
     "name": "stderr",
     "output_type": "stream",
     "text": [
      "C:\\Users\\13018\\AppData\\Local\\Temp\\ipykernel_11600\\2340310863.py:10: FutureWarning: The frame.append method is deprecated and will be removed from pandas in a future version. Use pandas.concat instead.\n",
      "  Sat_data = Sat_data.append({\"Longitude\": longitude, \"Latitude\": latitude}, ignore_index=True)\n"
     ]
    },
    {
     "name": "stdout",
     "output_type": "stream",
     "text": [
      "Data received: {'timestamp': 1682640087, 'message': 'success', 'iss_position': {'latitude': '-12.5022', 'longitude': '-168.7134'}}\n"
     ]
    },
    {
     "name": "stderr",
     "output_type": "stream",
     "text": [
      "C:\\Users\\13018\\AppData\\Local\\Temp\\ipykernel_11600\\2340310863.py:10: FutureWarning: The frame.append method is deprecated and will be removed from pandas in a future version. Use pandas.concat instead.\n",
      "  Sat_data = Sat_data.append({\"Longitude\": longitude, \"Latitude\": latitude}, ignore_index=True)\n"
     ]
    },
    {
     "name": "stdout",
     "output_type": "stream",
     "text": [
      "Data received: {'timestamp': 1682640092, 'message': 'success', 'iss_position': {'latitude': '-12.7769', 'longitude': '-168.5045'}}\n"
     ]
    },
    {
     "name": "stderr",
     "output_type": "stream",
     "text": [
      "C:\\Users\\13018\\AppData\\Local\\Temp\\ipykernel_11600\\2340310863.py:10: FutureWarning: The frame.append method is deprecated and will be removed from pandas in a future version. Use pandas.concat instead.\n",
      "  Sat_data = Sat_data.append({\"Longitude\": longitude, \"Latitude\": latitude}, ignore_index=True)\n"
     ]
    },
    {
     "name": "stdout",
     "output_type": "stream",
     "text": [
      "Data received: {'timestamp': 1682640097, 'message': 'success', 'iss_position': {'latitude': '-13.0265', 'longitude': '-168.3142'}}\n"
     ]
    },
    {
     "name": "stderr",
     "output_type": "stream",
     "text": [
      "C:\\Users\\13018\\AppData\\Local\\Temp\\ipykernel_11600\\2340310863.py:10: FutureWarning: The frame.append method is deprecated and will be removed from pandas in a future version. Use pandas.concat instead.\n",
      "  Sat_data = Sat_data.append({\"Longitude\": longitude, \"Latitude\": latitude}, ignore_index=True)\n"
     ]
    },
    {
     "name": "stdout",
     "output_type": "stream",
     "text": [
      "Data received: {'timestamp': 1682640102, 'message': 'success', 'iss_position': {'latitude': '-13.2759', 'longitude': '-168.1234'}}\n"
     ]
    },
    {
     "name": "stderr",
     "output_type": "stream",
     "text": [
      "C:\\Users\\13018\\AppData\\Local\\Temp\\ipykernel_11600\\2340310863.py:10: FutureWarning: The frame.append method is deprecated and will be removed from pandas in a future version. Use pandas.concat instead.\n",
      "  Sat_data = Sat_data.append({\"Longitude\": longitude, \"Latitude\": latitude}, ignore_index=True)\n"
     ]
    },
    {
     "name": "stdout",
     "output_type": "stream",
     "text": [
      "Data received: {'timestamp': 1682640107, 'message': 'success', 'iss_position': {'latitude': '-13.5251', 'longitude': '-167.9322'}}\n"
     ]
    },
    {
     "name": "stderr",
     "output_type": "stream",
     "text": [
      "C:\\Users\\13018\\AppData\\Local\\Temp\\ipykernel_11600\\2340310863.py:10: FutureWarning: The frame.append method is deprecated and will be removed from pandas in a future version. Use pandas.concat instead.\n",
      "  Sat_data = Sat_data.append({\"Longitude\": longitude, \"Latitude\": latitude}, ignore_index=True)\n"
     ]
    },
    {
     "name": "stdout",
     "output_type": "stream",
     "text": [
      "Data received: {'timestamp': 1682640113, 'message': 'success', 'iss_position': {'latitude': '-13.7991', 'longitude': '-167.7213'}}\n"
     ]
    },
    {
     "name": "stderr",
     "output_type": "stream",
     "text": [
      "C:\\Users\\13018\\AppData\\Local\\Temp\\ipykernel_11600\\2340310863.py:10: FutureWarning: The frame.append method is deprecated and will be removed from pandas in a future version. Use pandas.concat instead.\n",
      "  Sat_data = Sat_data.append({\"Longitude\": longitude, \"Latitude\": latitude}, ignore_index=True)\n"
     ]
    },
    {
     "name": "stdout",
     "output_type": "stream",
     "text": [
      "Data received: {'timestamp': 1682640118, 'message': 'success', 'iss_position': {'latitude': '-14.0480', 'longitude': '-167.5291'}}\n"
     ]
    },
    {
     "name": "stderr",
     "output_type": "stream",
     "text": [
      "C:\\Users\\13018\\AppData\\Local\\Temp\\ipykernel_11600\\2340310863.py:10: FutureWarning: The frame.append method is deprecated and will be removed from pandas in a future version. Use pandas.concat instead.\n",
      "  Sat_data = Sat_data.append({\"Longitude\": longitude, \"Latitude\": latitude}, ignore_index=True)\n"
     ]
    },
    {
     "name": "stdout",
     "output_type": "stream",
     "text": [
      "Data received: {'timestamp': 1682640123, 'message': 'success', 'iss_position': {'latitude': '-14.2967', 'longitude': '-167.3365'}}\n"
     ]
    },
    {
     "name": "stderr",
     "output_type": "stream",
     "text": [
      "C:\\Users\\13018\\AppData\\Local\\Temp\\ipykernel_11600\\2340310863.py:10: FutureWarning: The frame.append method is deprecated and will be removed from pandas in a future version. Use pandas.concat instead.\n",
      "  Sat_data = Sat_data.append({\"Longitude\": longitude, \"Latitude\": latitude}, ignore_index=True)\n"
     ]
    },
    {
     "name": "stdout",
     "output_type": "stream",
     "text": [
      "Data received: {'timestamp': 1682640128, 'message': 'success', 'iss_position': {'latitude': '-14.5701', 'longitude': '-167.1240'}}\n"
     ]
    },
    {
     "name": "stderr",
     "output_type": "stream",
     "text": [
      "C:\\Users\\13018\\AppData\\Local\\Temp\\ipykernel_11600\\2340310863.py:10: FutureWarning: The frame.append method is deprecated and will be removed from pandas in a future version. Use pandas.concat instead.\n",
      "  Sat_data = Sat_data.append({\"Longitude\": longitude, \"Latitude\": latitude}, ignore_index=True)\n"
     ]
    },
    {
     "name": "stdout",
     "output_type": "stream",
     "text": [
      "Data received: {'timestamp': 1682640133, 'message': 'success', 'iss_position': {'latitude': '-14.8184', 'longitude': '-166.9303'}}\n"
     ]
    },
    {
     "name": "stderr",
     "output_type": "stream",
     "text": [
      "C:\\Users\\13018\\AppData\\Local\\Temp\\ipykernel_11600\\2340310863.py:10: FutureWarning: The frame.append method is deprecated and will be removed from pandas in a future version. Use pandas.concat instead.\n",
      "  Sat_data = Sat_data.append({\"Longitude\": longitude, \"Latitude\": latitude}, ignore_index=True)\n"
     ]
    },
    {
     "name": "stdout",
     "output_type": "stream",
     "text": [
      "Data received: {'timestamp': 1682640138, 'message': 'success', 'iss_position': {'latitude': '-15.0665', 'longitude': '-166.7362'}}\n"
     ]
    },
    {
     "name": "stderr",
     "output_type": "stream",
     "text": [
      "C:\\Users\\13018\\AppData\\Local\\Temp\\ipykernel_11600\\2340310863.py:10: FutureWarning: The frame.append method is deprecated and will be removed from pandas in a future version. Use pandas.concat instead.\n",
      "  Sat_data = Sat_data.append({\"Longitude\": longitude, \"Latitude\": latitude}, ignore_index=True)\n"
     ]
    },
    {
     "name": "stdout",
     "output_type": "stream",
     "text": [
      "Data received: {'timestamp': 1682640144, 'message': 'success', 'iss_position': {'latitude': '-15.3392', 'longitude': '-166.5220'}}\n"
     ]
    },
    {
     "name": "stderr",
     "output_type": "stream",
     "text": [
      "C:\\Users\\13018\\AppData\\Local\\Temp\\ipykernel_11600\\2340310863.py:10: FutureWarning: The frame.append method is deprecated and will be removed from pandas in a future version. Use pandas.concat instead.\n",
      "  Sat_data = Sat_data.append({\"Longitude\": longitude, \"Latitude\": latitude}, ignore_index=True)\n"
     ]
    },
    {
     "name": "stdout",
     "output_type": "stream",
     "text": [
      "Data received: {'timestamp': 1682640149, 'message': 'success', 'iss_position': {'latitude': '-15.5868', 'longitude': '-166.3268'}}\n"
     ]
    },
    {
     "name": "stderr",
     "output_type": "stream",
     "text": [
      "C:\\Users\\13018\\AppData\\Local\\Temp\\ipykernel_11600\\2340310863.py:10: FutureWarning: The frame.append method is deprecated and will be removed from pandas in a future version. Use pandas.concat instead.\n",
      "  Sat_data = Sat_data.append({\"Longitude\": longitude, \"Latitude\": latitude}, ignore_index=True)\n"
     ]
    },
    {
     "name": "stdout",
     "output_type": "stream",
     "text": [
      "Data received: {'timestamp': 1682640154, 'message': 'success', 'iss_position': {'latitude': '-15.8342', 'longitude': '-166.1311'}}\n"
     ]
    },
    {
     "name": "stderr",
     "output_type": "stream",
     "text": [
      "C:\\Users\\13018\\AppData\\Local\\Temp\\ipykernel_11600\\2340310863.py:10: FutureWarning: The frame.append method is deprecated and will be removed from pandas in a future version. Use pandas.concat instead.\n",
      "  Sat_data = Sat_data.append({\"Longitude\": longitude, \"Latitude\": latitude}, ignore_index=True)\n"
     ]
    },
    {
     "name": "stdout",
     "output_type": "stream",
     "text": [
      "Data received: {'timestamp': 1682640159, 'message': 'success', 'iss_position': {'latitude': '-16.1062', 'longitude': '-165.9152'}}\n"
     ]
    },
    {
     "name": "stderr",
     "output_type": "stream",
     "text": [
      "C:\\Users\\13018\\AppData\\Local\\Temp\\ipykernel_11600\\2340310863.py:10: FutureWarning: The frame.append method is deprecated and will be removed from pandas in a future version. Use pandas.concat instead.\n",
      "  Sat_data = Sat_data.append({\"Longitude\": longitude, \"Latitude\": latitude}, ignore_index=True)\n"
     ]
    },
    {
     "name": "stdout",
     "output_type": "stream",
     "text": [
      "Data received: {'timestamp': 1682640164, 'message': 'success', 'iss_position': {'latitude': '-16.3531', 'longitude': '-165.7183'}}\n"
     ]
    },
    {
     "name": "stderr",
     "output_type": "stream",
     "text": [
      "C:\\Users\\13018\\AppData\\Local\\Temp\\ipykernel_11600\\2340310863.py:10: FutureWarning: The frame.append method is deprecated and will be removed from pandas in a future version. Use pandas.concat instead.\n",
      "  Sat_data = Sat_data.append({\"Longitude\": longitude, \"Latitude\": latitude}, ignore_index=True)\n"
     ]
    },
    {
     "name": "stdout",
     "output_type": "stream",
     "text": [
      "Data received: {'timestamp': 1682640169, 'message': 'success', 'iss_position': {'latitude': '-16.5999', 'longitude': '-165.5210'}}\n"
     ]
    },
    {
     "name": "stderr",
     "output_type": "stream",
     "text": [
      "C:\\Users\\13018\\AppData\\Local\\Temp\\ipykernel_11600\\2340310863.py:10: FutureWarning: The frame.append method is deprecated and will be removed from pandas in a future version. Use pandas.concat instead.\n",
      "  Sat_data = Sat_data.append({\"Longitude\": longitude, \"Latitude\": latitude}, ignore_index=True)\n"
     ]
    },
    {
     "name": "stdout",
     "output_type": "stream",
     "text": [
      "Data received: {'timestamp': 1682640174, 'message': 'success', 'iss_position': {'latitude': '-16.8464', 'longitude': '-165.3230'}}\n"
     ]
    },
    {
     "name": "stderr",
     "output_type": "stream",
     "text": [
      "C:\\Users\\13018\\AppData\\Local\\Temp\\ipykernel_11600\\2340310863.py:10: FutureWarning: The frame.append method is deprecated and will be removed from pandas in a future version. Use pandas.concat instead.\n",
      "  Sat_data = Sat_data.append({\"Longitude\": longitude, \"Latitude\": latitude}, ignore_index=True)\n"
     ]
    },
    {
     "name": "stdout",
     "output_type": "stream",
     "text": [
      "Data received: {'timestamp': 1682640180, 'message': 'success', 'iss_position': {'latitude': '-17.1173', 'longitude': '-165.1046'}}\n"
     ]
    },
    {
     "name": "stderr",
     "output_type": "stream",
     "text": [
      "C:\\Users\\13018\\AppData\\Local\\Temp\\ipykernel_11600\\2340310863.py:10: FutureWarning: The frame.append method is deprecated and will be removed from pandas in a future version. Use pandas.concat instead.\n",
      "  Sat_data = Sat_data.append({\"Longitude\": longitude, \"Latitude\": latitude}, ignore_index=True)\n"
     ]
    },
    {
     "name": "stdout",
     "output_type": "stream",
     "text": [
      "Data received: {'timestamp': 1682640185, 'message': 'success', 'iss_position': {'latitude': '-17.3633', 'longitude': '-164.9054'}}\n"
     ]
    },
    {
     "name": "stderr",
     "output_type": "stream",
     "text": [
      "C:\\Users\\13018\\AppData\\Local\\Temp\\ipykernel_11600\\2340310863.py:10: FutureWarning: The frame.append method is deprecated and will be removed from pandas in a future version. Use pandas.concat instead.\n",
      "  Sat_data = Sat_data.append({\"Longitude\": longitude, \"Latitude\": latitude}, ignore_index=True)\n"
     ]
    },
    {
     "name": "stdout",
     "output_type": "stream",
     "text": [
      "Data received: {'timestamp': 1682640190, 'message': 'success', 'iss_position': {'latitude': '-17.6091', 'longitude': '-164.7057'}}\n"
     ]
    },
    {
     "name": "stderr",
     "output_type": "stream",
     "text": [
      "C:\\Users\\13018\\AppData\\Local\\Temp\\ipykernel_11600\\2340310863.py:10: FutureWarning: The frame.append method is deprecated and will be removed from pandas in a future version. Use pandas.concat instead.\n",
      "  Sat_data = Sat_data.append({\"Longitude\": longitude, \"Latitude\": latitude}, ignore_index=True)\n"
     ]
    },
    {
     "name": "stdout",
     "output_type": "stream",
     "text": [
      "Data received: {'timestamp': 1682640195, 'message': 'success', 'iss_position': {'latitude': '-17.8791', 'longitude': '-164.4853'}}\n"
     ]
    },
    {
     "name": "stderr",
     "output_type": "stream",
     "text": [
      "C:\\Users\\13018\\AppData\\Local\\Temp\\ipykernel_11600\\2340310863.py:10: FutureWarning: The frame.append method is deprecated and will be removed from pandas in a future version. Use pandas.concat instead.\n",
      "  Sat_data = Sat_data.append({\"Longitude\": longitude, \"Latitude\": latitude}, ignore_index=True)\n"
     ]
    },
    {
     "name": "stdout",
     "output_type": "stream",
     "text": [
      "Data received: {'timestamp': 1682640200, 'message': 'success', 'iss_position': {'latitude': '-18.1243', 'longitude': '-164.2842'}}\n"
     ]
    },
    {
     "name": "stderr",
     "output_type": "stream",
     "text": [
      "C:\\Users\\13018\\AppData\\Local\\Temp\\ipykernel_11600\\2340310863.py:10: FutureWarning: The frame.append method is deprecated and will be removed from pandas in a future version. Use pandas.concat instead.\n",
      "  Sat_data = Sat_data.append({\"Longitude\": longitude, \"Latitude\": latitude}, ignore_index=True)\n"
     ]
    },
    {
     "name": "stdout",
     "output_type": "stream",
     "text": [
      "Data received: {'timestamp': 1682640205, 'message': 'success', 'iss_position': {'latitude': '-18.3693', 'longitude': '-164.0826'}}\n"
     ]
    },
    {
     "name": "stderr",
     "output_type": "stream",
     "text": [
      "C:\\Users\\13018\\AppData\\Local\\Temp\\ipykernel_11600\\2340310863.py:10: FutureWarning: The frame.append method is deprecated and will be removed from pandas in a future version. Use pandas.concat instead.\n",
      "  Sat_data = Sat_data.append({\"Longitude\": longitude, \"Latitude\": latitude}, ignore_index=True)\n"
     ]
    },
    {
     "name": "stdout",
     "output_type": "stream",
     "text": [
      "Data received: {'timestamp': 1682640211, 'message': 'success', 'iss_position': {'latitude': '-18.6385', 'longitude': '-163.8600'}}\n"
     ]
    },
    {
     "name": "stderr",
     "output_type": "stream",
     "text": [
      "C:\\Users\\13018\\AppData\\Local\\Temp\\ipykernel_11600\\2340310863.py:10: FutureWarning: The frame.append method is deprecated and will be removed from pandas in a future version. Use pandas.concat instead.\n",
      "  Sat_data = Sat_data.append({\"Longitude\": longitude, \"Latitude\": latitude}, ignore_index=True)\n"
     ]
    },
    {
     "name": "stdout",
     "output_type": "stream",
     "text": [
      "Data received: {'timestamp': 1682640216, 'message': 'success', 'iss_position': {'latitude': '-18.8830', 'longitude': '-163.6570'}}\n"
     ]
    },
    {
     "name": "stderr",
     "output_type": "stream",
     "text": [
      "C:\\Users\\13018\\AppData\\Local\\Temp\\ipykernel_11600\\2340310863.py:10: FutureWarning: The frame.append method is deprecated and will be removed from pandas in a future version. Use pandas.concat instead.\n",
      "  Sat_data = Sat_data.append({\"Longitude\": longitude, \"Latitude\": latitude}, ignore_index=True)\n"
     ]
    },
    {
     "name": "stdout",
     "output_type": "stream",
     "text": [
      "Data received: {'timestamp': 1682640221, 'message': 'success', 'iss_position': {'latitude': '-19.1272', 'longitude': '-163.4533'}}\n"
     ]
    },
    {
     "name": "stderr",
     "output_type": "stream",
     "text": [
      "C:\\Users\\13018\\AppData\\Local\\Temp\\ipykernel_11600\\2340310863.py:10: FutureWarning: The frame.append method is deprecated and will be removed from pandas in a future version. Use pandas.concat instead.\n",
      "  Sat_data = Sat_data.append({\"Longitude\": longitude, \"Latitude\": latitude}, ignore_index=True)\n"
     ]
    },
    {
     "name": "stdout",
     "output_type": "stream",
     "text": [
      "Data received: {'timestamp': 1682640226, 'message': 'success', 'iss_position': {'latitude': '-19.3954', 'longitude': '-163.2286'}}\n"
     ]
    },
    {
     "name": "stderr",
     "output_type": "stream",
     "text": [
      "C:\\Users\\13018\\AppData\\Local\\Temp\\ipykernel_11600\\2340310863.py:10: FutureWarning: The frame.append method is deprecated and will be removed from pandas in a future version. Use pandas.concat instead.\n",
      "  Sat_data = Sat_data.append({\"Longitude\": longitude, \"Latitude\": latitude}, ignore_index=True)\n"
     ]
    },
    {
     "name": "stdout",
     "output_type": "stream",
     "text": [
      "Data received: {'timestamp': 1682640231, 'message': 'success', 'iss_position': {'latitude': '-19.6390', 'longitude': '-163.0235'}}\n"
     ]
    },
    {
     "name": "stderr",
     "output_type": "stream",
     "text": [
      "C:\\Users\\13018\\AppData\\Local\\Temp\\ipykernel_11600\\2340310863.py:10: FutureWarning: The frame.append method is deprecated and will be removed from pandas in a future version. Use pandas.concat instead.\n",
      "  Sat_data = Sat_data.append({\"Longitude\": longitude, \"Latitude\": latitude}, ignore_index=True)\n"
     ]
    },
    {
     "name": "stdout",
     "output_type": "stream",
     "text": [
      "Data received: {'timestamp': 1682640236, 'message': 'success', 'iss_position': {'latitude': '-19.8823', 'longitude': '-162.8178'}}\n"
     ]
    },
    {
     "name": "stderr",
     "output_type": "stream",
     "text": [
      "C:\\Users\\13018\\AppData\\Local\\Temp\\ipykernel_11600\\2340310863.py:10: FutureWarning: The frame.append method is deprecated and will be removed from pandas in a future version. Use pandas.concat instead.\n",
      "  Sat_data = Sat_data.append({\"Longitude\": longitude, \"Latitude\": latitude}, ignore_index=True)\n"
     ]
    },
    {
     "name": "stdout",
     "output_type": "stream",
     "text": [
      "Data received: {'timestamp': 1682640242, 'message': 'success', 'iss_position': {'latitude': '-20.1496', 'longitude': '-162.5907'}}\n"
     ]
    },
    {
     "name": "stderr",
     "output_type": "stream",
     "text": [
      "C:\\Users\\13018\\AppData\\Local\\Temp\\ipykernel_11600\\2340310863.py:10: FutureWarning: The frame.append method is deprecated and will be removed from pandas in a future version. Use pandas.concat instead.\n",
      "  Sat_data = Sat_data.append({\"Longitude\": longitude, \"Latitude\": latitude}, ignore_index=True)\n"
     ]
    },
    {
     "name": "stdout",
     "output_type": "stream",
     "text": [
      "Data received: {'timestamp': 1682640247, 'message': 'success', 'iss_position': {'latitude': '-20.3923', 'longitude': '-162.3834'}}\n"
     ]
    },
    {
     "name": "stderr",
     "output_type": "stream",
     "text": [
      "C:\\Users\\13018\\AppData\\Local\\Temp\\ipykernel_11600\\2340310863.py:10: FutureWarning: The frame.append method is deprecated and will be removed from pandas in a future version. Use pandas.concat instead.\n",
      "  Sat_data = Sat_data.append({\"Longitude\": longitude, \"Latitude\": latitude}, ignore_index=True)\n"
     ]
    },
    {
     "name": "stdout",
     "output_type": "stream",
     "text": [
      "Data received: {'timestamp': 1682640252, 'message': 'success', 'iss_position': {'latitude': '-20.6347', 'longitude': '-162.1755'}}\n"
     ]
    },
    {
     "name": "stderr",
     "output_type": "stream",
     "text": [
      "C:\\Users\\13018\\AppData\\Local\\Temp\\ipykernel_11600\\2340310863.py:10: FutureWarning: The frame.append method is deprecated and will be removed from pandas in a future version. Use pandas.concat instead.\n",
      "  Sat_data = Sat_data.append({\"Longitude\": longitude, \"Latitude\": latitude}, ignore_index=True)\n"
     ]
    },
    {
     "name": "stdout",
     "output_type": "stream",
     "text": [
      "Data received: {'timestamp': 1682640257, 'message': 'success', 'iss_position': {'latitude': '-20.9009', 'longitude': '-161.9460'}}\n"
     ]
    },
    {
     "name": "stderr",
     "output_type": "stream",
     "text": [
      "C:\\Users\\13018\\AppData\\Local\\Temp\\ipykernel_11600\\2340310863.py:10: FutureWarning: The frame.append method is deprecated and will be removed from pandas in a future version. Use pandas.concat instead.\n",
      "  Sat_data = Sat_data.append({\"Longitude\": longitude, \"Latitude\": latitude}, ignore_index=True)\n"
     ]
    },
    {
     "name": "stdout",
     "output_type": "stream",
     "text": [
      "Data received: {'timestamp': 1682640262, 'message': 'success', 'iss_position': {'latitude': '-21.1426', 'longitude': '-161.7365'}}\n"
     ]
    },
    {
     "name": "stderr",
     "output_type": "stream",
     "text": [
      "C:\\Users\\13018\\AppData\\Local\\Temp\\ipykernel_11600\\2340310863.py:10: FutureWarning: The frame.append method is deprecated and will be removed from pandas in a future version. Use pandas.concat instead.\n",
      "  Sat_data = Sat_data.append({\"Longitude\": longitude, \"Latitude\": latitude}, ignore_index=True)\n"
     ]
    },
    {
     "name": "stdout",
     "output_type": "stream",
     "text": [
      "Data received: {'timestamp': 1682640267, 'message': 'success', 'iss_position': {'latitude': '-21.3841', 'longitude': '-161.5263'}}\n"
     ]
    },
    {
     "name": "stderr",
     "output_type": "stream",
     "text": [
      "C:\\Users\\13018\\AppData\\Local\\Temp\\ipykernel_11600\\2340310863.py:10: FutureWarning: The frame.append method is deprecated and will be removed from pandas in a future version. Use pandas.concat instead.\n",
      "  Sat_data = Sat_data.append({\"Longitude\": longitude, \"Latitude\": latitude}, ignore_index=True)\n"
     ]
    },
    {
     "name": "stdout",
     "output_type": "stream",
     "text": [
      "Data received: {'timestamp': 1682640273, 'message': 'success', 'iss_position': {'latitude': '-21.6493', 'longitude': '-161.2941'}}\n"
     ]
    },
    {
     "name": "stderr",
     "output_type": "stream",
     "text": [
      "C:\\Users\\13018\\AppData\\Local\\Temp\\ipykernel_11600\\2340310863.py:10: FutureWarning: The frame.append method is deprecated and will be removed from pandas in a future version. Use pandas.concat instead.\n",
      "  Sat_data = Sat_data.append({\"Longitude\": longitude, \"Latitude\": latitude}, ignore_index=True)\n"
     ]
    },
    {
     "name": "stdout",
     "output_type": "stream",
     "text": [
      "Data received: {'timestamp': 1682640278, 'message': 'success', 'iss_position': {'latitude': '-21.8900', 'longitude': '-161.0823'}}\n"
     ]
    },
    {
     "name": "stderr",
     "output_type": "stream",
     "text": [
      "C:\\Users\\13018\\AppData\\Local\\Temp\\ipykernel_11600\\2340310863.py:10: FutureWarning: The frame.append method is deprecated and will be removed from pandas in a future version. Use pandas.concat instead.\n",
      "  Sat_data = Sat_data.append({\"Longitude\": longitude, \"Latitude\": latitude}, ignore_index=True)\n"
     ]
    },
    {
     "name": "stdout",
     "output_type": "stream",
     "text": [
      "Data received: {'timestamp': 1682640283, 'message': 'success', 'iss_position': {'latitude': '-22.1304', 'longitude': '-160.8697'}}\n"
     ]
    },
    {
     "name": "stderr",
     "output_type": "stream",
     "text": [
      "C:\\Users\\13018\\AppData\\Local\\Temp\\ipykernel_11600\\2340310863.py:10: FutureWarning: The frame.append method is deprecated and will be removed from pandas in a future version. Use pandas.concat instead.\n",
      "  Sat_data = Sat_data.append({\"Longitude\": longitude, \"Latitude\": latitude}, ignore_index=True)\n"
     ]
    },
    {
     "name": "stdout",
     "output_type": "stream",
     "text": [
      "Data received: {'timestamp': 1682640289, 'message': 'success', 'iss_position': {'latitude': '-22.3945', 'longitude': '-160.6348'}}\n"
     ]
    },
    {
     "name": "stderr",
     "output_type": "stream",
     "text": [
      "C:\\Users\\13018\\AppData\\Local\\Temp\\ipykernel_11600\\2340310863.py:10: FutureWarning: The frame.append method is deprecated and will be removed from pandas in a future version. Use pandas.concat instead.\n",
      "  Sat_data = Sat_data.append({\"Longitude\": longitude, \"Latitude\": latitude}, ignore_index=True)\n"
     ]
    },
    {
     "name": "stdout",
     "output_type": "stream",
     "text": [
      "Data received: {'timestamp': 1682640294, 'message': 'success', 'iss_position': {'latitude': '-22.6342', 'longitude': '-160.4205'}}\n"
     ]
    },
    {
     "name": "stderr",
     "output_type": "stream",
     "text": [
      "C:\\Users\\13018\\AppData\\Local\\Temp\\ipykernel_11600\\2340310863.py:10: FutureWarning: The frame.append method is deprecated and will be removed from pandas in a future version. Use pandas.concat instead.\n",
      "  Sat_data = Sat_data.append({\"Longitude\": longitude, \"Latitude\": latitude}, ignore_index=True)\n"
     ]
    },
    {
     "name": "stdout",
     "output_type": "stream",
     "text": [
      "Data received: {'timestamp': 1682640299, 'message': 'success', 'iss_position': {'latitude': '-22.8735', 'longitude': '-160.2054'}}\n"
     ]
    },
    {
     "name": "stderr",
     "output_type": "stream",
     "text": [
      "C:\\Users\\13018\\AppData\\Local\\Temp\\ipykernel_11600\\2340310863.py:10: FutureWarning: The frame.append method is deprecated and will be removed from pandas in a future version. Use pandas.concat instead.\n",
      "  Sat_data = Sat_data.append({\"Longitude\": longitude, \"Latitude\": latitude}, ignore_index=True)\n"
     ]
    },
    {
     "name": "stdout",
     "output_type": "stream",
     "text": [
      "Data received: {'timestamp': 1682640304, 'message': 'success', 'iss_position': {'latitude': '-23.1364', 'longitude': '-159.9678'}}\n"
     ]
    },
    {
     "name": "stderr",
     "output_type": "stream",
     "text": [
      "C:\\Users\\13018\\AppData\\Local\\Temp\\ipykernel_11600\\2340310863.py:10: FutureWarning: The frame.append method is deprecated and will be removed from pandas in a future version. Use pandas.concat instead.\n",
      "  Sat_data = Sat_data.append({\"Longitude\": longitude, \"Latitude\": latitude}, ignore_index=True)\n"
     ]
    },
    {
     "name": "stdout",
     "output_type": "stream",
     "text": [
      "Data received: {'timestamp': 1682640309, 'message': 'success', 'iss_position': {'latitude': '-23.3751', 'longitude': '-159.7509'}}\n"
     ]
    },
    {
     "name": "stderr",
     "output_type": "stream",
     "text": [
      "C:\\Users\\13018\\AppData\\Local\\Temp\\ipykernel_11600\\2340310863.py:10: FutureWarning: The frame.append method is deprecated and will be removed from pandas in a future version. Use pandas.concat instead.\n",
      "  Sat_data = Sat_data.append({\"Longitude\": longitude, \"Latitude\": latitude}, ignore_index=True)\n"
     ]
    },
    {
     "name": "stdout",
     "output_type": "stream",
     "text": [
      "Data received: {'timestamp': 1682640314, 'message': 'success', 'iss_position': {'latitude': '-23.6133', 'longitude': '-159.5331'}}\n"
     ]
    },
    {
     "name": "stderr",
     "output_type": "stream",
     "text": [
      "C:\\Users\\13018\\AppData\\Local\\Temp\\ipykernel_11600\\2340310863.py:10: FutureWarning: The frame.append method is deprecated and will be removed from pandas in a future version. Use pandas.concat instead.\n",
      "  Sat_data = Sat_data.append({\"Longitude\": longitude, \"Latitude\": latitude}, ignore_index=True)\n"
     ]
    },
    {
     "name": "stdout",
     "output_type": "stream",
     "text": [
      "Data received: {'timestamp': 1682640319, 'message': 'success', 'iss_position': {'latitude': '-23.8512', 'longitude': '-159.3145'}}\n"
     ]
    },
    {
     "name": "stderr",
     "output_type": "stream",
     "text": [
      "C:\\Users\\13018\\AppData\\Local\\Temp\\ipykernel_11600\\2340310863.py:10: FutureWarning: The frame.append method is deprecated and will be removed from pandas in a future version. Use pandas.concat instead.\n",
      "  Sat_data = Sat_data.append({\"Longitude\": longitude, \"Latitude\": latitude}, ignore_index=True)\n"
     ]
    },
    {
     "name": "stdout",
     "output_type": "stream",
     "text": [
      "Data received: {'timestamp': 1682640325, 'message': 'success', 'iss_position': {'latitude': '-24.1124', 'longitude': '-159.0730'}}\n"
     ]
    },
    {
     "name": "stderr",
     "output_type": "stream",
     "text": [
      "C:\\Users\\13018\\AppData\\Local\\Temp\\ipykernel_11600\\2340310863.py:10: FutureWarning: The frame.append method is deprecated and will be removed from pandas in a future version. Use pandas.concat instead.\n",
      "  Sat_data = Sat_data.append({\"Longitude\": longitude, \"Latitude\": latitude}, ignore_index=True)\n"
     ]
    },
    {
     "name": "stdout",
     "output_type": "stream",
     "text": [
      "Data received: {'timestamp': 1682640330, 'message': 'success', 'iss_position': {'latitude': '-24.3495', 'longitude': '-158.8525'}}\n"
     ]
    },
    {
     "name": "stderr",
     "output_type": "stream",
     "text": [
      "C:\\Users\\13018\\AppData\\Local\\Temp\\ipykernel_11600\\2340310863.py:10: FutureWarning: The frame.append method is deprecated and will be removed from pandas in a future version. Use pandas.concat instead.\n",
      "  Sat_data = Sat_data.append({\"Longitude\": longitude, \"Latitude\": latitude}, ignore_index=True)\n"
     ]
    },
    {
     "name": "stdout",
     "output_type": "stream",
     "text": [
      "Data received: {'timestamp': 1682640335, 'message': 'success', 'iss_position': {'latitude': '-24.5862', 'longitude': '-158.6311'}}\n"
     ]
    },
    {
     "name": "stderr",
     "output_type": "stream",
     "text": [
      "C:\\Users\\13018\\AppData\\Local\\Temp\\ipykernel_11600\\2340310863.py:10: FutureWarning: The frame.append method is deprecated and will be removed from pandas in a future version. Use pandas.concat instead.\n",
      "  Sat_data = Sat_data.append({\"Longitude\": longitude, \"Latitude\": latitude}, ignore_index=True)\n"
     ]
    },
    {
     "name": "stdout",
     "output_type": "stream",
     "text": [
      "Data received: {'timestamp': 1682640340, 'message': 'success', 'iss_position': {'latitude': '-24.8461', 'longitude': '-158.3865'}}\n"
     ]
    },
    {
     "name": "stderr",
     "output_type": "stream",
     "text": [
      "C:\\Users\\13018\\AppData\\Local\\Temp\\ipykernel_11600\\2340310863.py:10: FutureWarning: The frame.append method is deprecated and will be removed from pandas in a future version. Use pandas.concat instead.\n",
      "  Sat_data = Sat_data.append({\"Longitude\": longitude, \"Latitude\": latitude}, ignore_index=True)\n"
     ]
    },
    {
     "name": "stdout",
     "output_type": "stream",
     "text": [
      "Data received: {'timestamp': 1682640345, 'message': 'success', 'iss_position': {'latitude': '-25.0820', 'longitude': '-158.1632'}}\n"
     ]
    },
    {
     "name": "stderr",
     "output_type": "stream",
     "text": [
      "C:\\Users\\13018\\AppData\\Local\\Temp\\ipykernel_11600\\2340310863.py:10: FutureWarning: The frame.append method is deprecated and will be removed from pandas in a future version. Use pandas.concat instead.\n",
      "  Sat_data = Sat_data.append({\"Longitude\": longitude, \"Latitude\": latitude}, ignore_index=True)\n"
     ]
    },
    {
     "name": "stdout",
     "output_type": "stream",
     "text": [
      "Data received: {'timestamp': 1682640350, 'message': 'success', 'iss_position': {'latitude': '-25.3174', 'longitude': '-157.9389'}}\n"
     ]
    },
    {
     "name": "stderr",
     "output_type": "stream",
     "text": [
      "C:\\Users\\13018\\AppData\\Local\\Temp\\ipykernel_11600\\2340310863.py:10: FutureWarning: The frame.append method is deprecated and will be removed from pandas in a future version. Use pandas.concat instead.\n",
      "  Sat_data = Sat_data.append({\"Longitude\": longitude, \"Latitude\": latitude}, ignore_index=True)\n"
     ]
    },
    {
     "name": "stdout",
     "output_type": "stream",
     "text": [
      "Data received: {'timestamp': 1682640356, 'message': 'success', 'iss_position': {'latitude': '-25.5759', 'longitude': '-157.6912'}}\n"
     ]
    },
    {
     "name": "stderr",
     "output_type": "stream",
     "text": [
      "C:\\Users\\13018\\AppData\\Local\\Temp\\ipykernel_11600\\2340310863.py:10: FutureWarning: The frame.append method is deprecated and will be removed from pandas in a future version. Use pandas.concat instead.\n",
      "  Sat_data = Sat_data.append({\"Longitude\": longitude, \"Latitude\": latitude}, ignore_index=True)\n"
     ]
    },
    {
     "name": "stdout",
     "output_type": "stream",
     "text": [
      "Data received: {'timestamp': 1682640361, 'message': 'success', 'iss_position': {'latitude': '-25.8105', 'longitude': '-157.4649'}}\n"
     ]
    },
    {
     "name": "stderr",
     "output_type": "stream",
     "text": [
      "C:\\Users\\13018\\AppData\\Local\\Temp\\ipykernel_11600\\2340310863.py:10: FutureWarning: The frame.append method is deprecated and will be removed from pandas in a future version. Use pandas.concat instead.\n",
      "  Sat_data = Sat_data.append({\"Longitude\": longitude, \"Latitude\": latitude}, ignore_index=True)\n"
     ]
    },
    {
     "name": "stdout",
     "output_type": "stream",
     "text": [
      "Data received: {'timestamp': 1682640366, 'message': 'success', 'iss_position': {'latitude': '-26.0447', 'longitude': '-157.2377'}}\n"
     ]
    },
    {
     "name": "stderr",
     "output_type": "stream",
     "text": [
      "C:\\Users\\13018\\AppData\\Local\\Temp\\ipykernel_11600\\2340310863.py:10: FutureWarning: The frame.append method is deprecated and will be removed from pandas in a future version. Use pandas.concat instead.\n",
      "  Sat_data = Sat_data.append({\"Longitude\": longitude, \"Latitude\": latitude}, ignore_index=True)\n"
     ]
    },
    {
     "name": "stdout",
     "output_type": "stream",
     "text": [
      "Data received: {'timestamp': 1682640371, 'message': 'success', 'iss_position': {'latitude': '-26.3018', 'longitude': '-156.9865'}}\n"
     ]
    },
    {
     "name": "stderr",
     "output_type": "stream",
     "text": [
      "C:\\Users\\13018\\AppData\\Local\\Temp\\ipykernel_11600\\2340310863.py:10: FutureWarning: The frame.append method is deprecated and will be removed from pandas in a future version. Use pandas.concat instead.\n",
      "  Sat_data = Sat_data.append({\"Longitude\": longitude, \"Latitude\": latitude}, ignore_index=True)\n"
     ]
    },
    {
     "name": "stdout",
     "output_type": "stream",
     "text": [
      "Data received: {'timestamp': 1682640376, 'message': 'success', 'iss_position': {'latitude': '-26.5351', 'longitude': '-156.7571'}}\n"
     ]
    },
    {
     "name": "stderr",
     "output_type": "stream",
     "text": [
      "C:\\Users\\13018\\AppData\\Local\\Temp\\ipykernel_11600\\2340310863.py:10: FutureWarning: The frame.append method is deprecated and will be removed from pandas in a future version. Use pandas.concat instead.\n",
      "  Sat_data = Sat_data.append({\"Longitude\": longitude, \"Latitude\": latitude}, ignore_index=True)\n"
     ]
    },
    {
     "name": "stdout",
     "output_type": "stream",
     "text": [
      "Data received: {'timestamp': 1682640381, 'message': 'success', 'iss_position': {'latitude': '-26.7679', 'longitude': '-156.5267'}}\n"
     ]
    },
    {
     "name": "stderr",
     "output_type": "stream",
     "text": [
      "C:\\Users\\13018\\AppData\\Local\\Temp\\ipykernel_11600\\2340310863.py:10: FutureWarning: The frame.append method is deprecated and will be removed from pandas in a future version. Use pandas.concat instead.\n",
      "  Sat_data = Sat_data.append({\"Longitude\": longitude, \"Latitude\": latitude}, ignore_index=True)\n"
     ]
    },
    {
     "name": "stdout",
     "output_type": "stream",
     "text": [
      "Data received: {'timestamp': 1682640387, 'message': 'success', 'iss_position': {'latitude': '-27.0235', 'longitude': '-156.2722'}}\n"
     ]
    },
    {
     "name": "stderr",
     "output_type": "stream",
     "text": [
      "C:\\Users\\13018\\AppData\\Local\\Temp\\ipykernel_11600\\2340310863.py:10: FutureWarning: The frame.append method is deprecated and will be removed from pandas in a future version. Use pandas.concat instead.\n",
      "  Sat_data = Sat_data.append({\"Longitude\": longitude, \"Latitude\": latitude}, ignore_index=True)\n"
     ]
    },
    {
     "name": "stdout",
     "output_type": "stream",
     "text": [
      "Data received: {'timestamp': 1682640392, 'message': 'success', 'iss_position': {'latitude': '-27.2554', 'longitude': '-156.0396'}}\n"
     ]
    },
    {
     "name": "stderr",
     "output_type": "stream",
     "text": [
      "C:\\Users\\13018\\AppData\\Local\\Temp\\ipykernel_11600\\2340310863.py:10: FutureWarning: The frame.append method is deprecated and will be removed from pandas in a future version. Use pandas.concat instead.\n",
      "  Sat_data = Sat_data.append({\"Longitude\": longitude, \"Latitude\": latitude}, ignore_index=True)\n"
     ]
    },
    {
     "name": "stdout",
     "output_type": "stream",
     "text": [
      "Data received: {'timestamp': 1682640397, 'message': 'success', 'iss_position': {'latitude': '-27.4868', 'longitude': '-155.8060'}}\n"
     ]
    },
    {
     "name": "stderr",
     "output_type": "stream",
     "text": [
      "C:\\Users\\13018\\AppData\\Local\\Temp\\ipykernel_11600\\2340310863.py:10: FutureWarning: The frame.append method is deprecated and will be removed from pandas in a future version. Use pandas.concat instead.\n",
      "  Sat_data = Sat_data.append({\"Longitude\": longitude, \"Latitude\": latitude}, ignore_index=True)\n"
     ]
    },
    {
     "name": "stdout",
     "output_type": "stream",
     "text": [
      "Data received: {'timestamp': 1682640402, 'message': 'success', 'iss_position': {'latitude': '-27.7178', 'longitude': '-155.5713'}}\n"
     ]
    },
    {
     "name": "stderr",
     "output_type": "stream",
     "text": [
      "C:\\Users\\13018\\AppData\\Local\\Temp\\ipykernel_11600\\2340310863.py:10: FutureWarning: The frame.append method is deprecated and will be removed from pandas in a future version. Use pandas.concat instead.\n",
      "  Sat_data = Sat_data.append({\"Longitude\": longitude, \"Latitude\": latitude}, ignore_index=True)\n"
     ]
    },
    {
     "name": "stdout",
     "output_type": "stream",
     "text": [
      "Data received: {'timestamp': 1682640407, 'message': 'success', 'iss_position': {'latitude': '-27.9713', 'longitude': '-155.3119'}}\n"
     ]
    },
    {
     "name": "stderr",
     "output_type": "stream",
     "text": [
      "C:\\Users\\13018\\AppData\\Local\\Temp\\ipykernel_11600\\2340310863.py:10: FutureWarning: The frame.append method is deprecated and will be removed from pandas in a future version. Use pandas.concat instead.\n",
      "  Sat_data = Sat_data.append({\"Longitude\": longitude, \"Latitude\": latitude}, ignore_index=True)\n"
     ]
    },
    {
     "name": "stdout",
     "output_type": "stream",
     "text": [
      "Data received: {'timestamp': 1682640412, 'message': 'success', 'iss_position': {'latitude': '-28.2012', 'longitude': '-155.0749'}}\n"
     ]
    },
    {
     "name": "stderr",
     "output_type": "stream",
     "text": [
      "C:\\Users\\13018\\AppData\\Local\\Temp\\ipykernel_11600\\2340310863.py:10: FutureWarning: The frame.append method is deprecated and will be removed from pandas in a future version. Use pandas.concat instead.\n",
      "  Sat_data = Sat_data.append({\"Longitude\": longitude, \"Latitude\": latitude}, ignore_index=True)\n"
     ]
    },
    {
     "name": "stdout",
     "output_type": "stream",
     "text": [
      "Data received: {'timestamp': 1682640417, 'message': 'success', 'iss_position': {'latitude': '-28.4307', 'longitude': '-154.8368'}}\n"
     ]
    },
    {
     "name": "stderr",
     "output_type": "stream",
     "text": [
      "C:\\Users\\13018\\AppData\\Local\\Temp\\ipykernel_11600\\2340310863.py:10: FutureWarning: The frame.append method is deprecated and will be removed from pandas in a future version. Use pandas.concat instead.\n",
      "  Sat_data = Sat_data.append({\"Longitude\": longitude, \"Latitude\": latitude}, ignore_index=True)\n"
     ]
    },
    {
     "name": "stdout",
     "output_type": "stream",
     "text": [
      "Data received: {'timestamp': 1682640423, 'message': 'success', 'iss_position': {'latitude': '-28.6825', 'longitude': '-154.5736'}}\n"
     ]
    },
    {
     "name": "stderr",
     "output_type": "stream",
     "text": [
      "C:\\Users\\13018\\AppData\\Local\\Temp\\ipykernel_11600\\2340310863.py:10: FutureWarning: The frame.append method is deprecated and will be removed from pandas in a future version. Use pandas.concat instead.\n",
      "  Sat_data = Sat_data.append({\"Longitude\": longitude, \"Latitude\": latitude}, ignore_index=True)\n"
     ]
    },
    {
     "name": "stdout",
     "output_type": "stream",
     "text": [
      "Data received: {'timestamp': 1682640428, 'message': 'success', 'iss_position': {'latitude': '-28.9109', 'longitude': '-154.3331'}}\n"
     ]
    },
    {
     "name": "stderr",
     "output_type": "stream",
     "text": [
      "C:\\Users\\13018\\AppData\\Local\\Temp\\ipykernel_11600\\2340310863.py:10: FutureWarning: The frame.append method is deprecated and will be removed from pandas in a future version. Use pandas.concat instead.\n",
      "  Sat_data = Sat_data.append({\"Longitude\": longitude, \"Latitude\": latitude}, ignore_index=True)\n"
     ]
    },
    {
     "name": "stdout",
     "output_type": "stream",
     "text": [
      "Data received: {'timestamp': 1682640433, 'message': 'success', 'iss_position': {'latitude': '-29.1388', 'longitude': '-154.0915'}}\n"
     ]
    },
    {
     "name": "stderr",
     "output_type": "stream",
     "text": [
      "C:\\Users\\13018\\AppData\\Local\\Temp\\ipykernel_11600\\2340310863.py:10: FutureWarning: The frame.append method is deprecated and will be removed from pandas in a future version. Use pandas.concat instead.\n",
      "  Sat_data = Sat_data.append({\"Longitude\": longitude, \"Latitude\": latitude}, ignore_index=True)\n"
     ]
    },
    {
     "name": "stdout",
     "output_type": "stream",
     "text": [
      "Data received: {'timestamp': 1682640438, 'message': 'success', 'iss_position': {'latitude': '-29.3889', 'longitude': '-153.8244'}}\n"
     ]
    },
    {
     "name": "stderr",
     "output_type": "stream",
     "text": [
      "C:\\Users\\13018\\AppData\\Local\\Temp\\ipykernel_11600\\2340310863.py:10: FutureWarning: The frame.append method is deprecated and will be removed from pandas in a future version. Use pandas.concat instead.\n",
      "  Sat_data = Sat_data.append({\"Longitude\": longitude, \"Latitude\": latitude}, ignore_index=True)\n"
     ]
    },
    {
     "name": "stdout",
     "output_type": "stream",
     "text": [
      "Data received: {'timestamp': 1682640443, 'message': 'success', 'iss_position': {'latitude': '-29.6157', 'longitude': '-153.5803'}}\n"
     ]
    },
    {
     "name": "stderr",
     "output_type": "stream",
     "text": [
      "C:\\Users\\13018\\AppData\\Local\\Temp\\ipykernel_11600\\2340310863.py:10: FutureWarning: The frame.append method is deprecated and will be removed from pandas in a future version. Use pandas.concat instead.\n",
      "  Sat_data = Sat_data.append({\"Longitude\": longitude, \"Latitude\": latitude}, ignore_index=True)\n"
     ]
    },
    {
     "name": "stdout",
     "output_type": "stream",
     "text": [
      "Data received: {'timestamp': 1682640448, 'message': 'success', 'iss_position': {'latitude': '-29.8420', 'longitude': '-153.3350'}}\n"
     ]
    },
    {
     "name": "stderr",
     "output_type": "stream",
     "text": [
      "C:\\Users\\13018\\AppData\\Local\\Temp\\ipykernel_11600\\2340310863.py:10: FutureWarning: The frame.append method is deprecated and will be removed from pandas in a future version. Use pandas.concat instead.\n",
      "  Sat_data = Sat_data.append({\"Longitude\": longitude, \"Latitude\": latitude}, ignore_index=True)\n"
     ]
    },
    {
     "name": "stdout",
     "output_type": "stream",
     "text": [
      "Data received: {'timestamp': 1682640454, 'message': 'success', 'iss_position': {'latitude': '-30.0903', 'longitude': '-153.0638'}}\n"
     ]
    },
    {
     "name": "stderr",
     "output_type": "stream",
     "text": [
      "C:\\Users\\13018\\AppData\\Local\\Temp\\ipykernel_11600\\2340310863.py:10: FutureWarning: The frame.append method is deprecated and will be removed from pandas in a future version. Use pandas.concat instead.\n",
      "  Sat_data = Sat_data.append({\"Longitude\": longitude, \"Latitude\": latitude}, ignore_index=True)\n"
     ]
    },
    {
     "name": "stdout",
     "output_type": "stream",
     "text": [
      "Data received: {'timestamp': 1682640459, 'message': 'success', 'iss_position': {'latitude': '-30.3155', 'longitude': '-152.8160'}}\n"
     ]
    },
    {
     "name": "stderr",
     "output_type": "stream",
     "text": [
      "C:\\Users\\13018\\AppData\\Local\\Temp\\ipykernel_11600\\2340310863.py:10: FutureWarning: The frame.append method is deprecated and will be removed from pandas in a future version. Use pandas.concat instead.\n",
      "  Sat_data = Sat_data.append({\"Longitude\": longitude, \"Latitude\": latitude}, ignore_index=True)\n"
     ]
    },
    {
     "name": "stdout",
     "output_type": "stream",
     "text": [
      "Data received: {'timestamp': 1682640464, 'message': 'success', 'iss_position': {'latitude': '-30.5625', 'longitude': '-152.5419'}}\n"
     ]
    },
    {
     "name": "stderr",
     "output_type": "stream",
     "text": [
      "C:\\Users\\13018\\AppData\\Local\\Temp\\ipykernel_11600\\2340310863.py:10: FutureWarning: The frame.append method is deprecated and will be removed from pandas in a future version. Use pandas.concat instead.\n",
      "  Sat_data = Sat_data.append({\"Longitude\": longitude, \"Latitude\": latitude}, ignore_index=True)\n"
     ]
    },
    {
     "name": "stdout",
     "output_type": "stream",
     "text": [
      "Data received: {'timestamp': 1682640469, 'message': 'success', 'iss_position': {'latitude': '-30.7865', 'longitude': '-152.2915'}}\n"
     ]
    },
    {
     "name": "stderr",
     "output_type": "stream",
     "text": [
      "C:\\Users\\13018\\AppData\\Local\\Temp\\ipykernel_11600\\2340310863.py:10: FutureWarning: The frame.append method is deprecated and will be removed from pandas in a future version. Use pandas.concat instead.\n",
      "  Sat_data = Sat_data.append({\"Longitude\": longitude, \"Latitude\": latitude}, ignore_index=True)\n"
     ]
    },
    {
     "name": "stdout",
     "output_type": "stream",
     "text": [
      "Data received: {'timestamp': 1682640474, 'message': 'success', 'iss_position': {'latitude': '-31.0098', 'longitude': '-152.0398'}}\n"
     ]
    },
    {
     "name": "stderr",
     "output_type": "stream",
     "text": [
      "C:\\Users\\13018\\AppData\\Local\\Temp\\ipykernel_11600\\2340310863.py:10: FutureWarning: The frame.append method is deprecated and will be removed from pandas in a future version. Use pandas.concat instead.\n",
      "  Sat_data = Sat_data.append({\"Longitude\": longitude, \"Latitude\": latitude}, ignore_index=True)\n"
     ]
    },
    {
     "name": "stdout",
     "output_type": "stream",
     "text": [
      "Data received: {'timestamp': 1682640480, 'message': 'success', 'iss_position': {'latitude': '-31.2549', 'longitude': '-151.7615'}}\n"
     ]
    },
    {
     "name": "stderr",
     "output_type": "stream",
     "text": [
      "C:\\Users\\13018\\AppData\\Local\\Temp\\ipykernel_11600\\2340310863.py:10: FutureWarning: The frame.append method is deprecated and will be removed from pandas in a future version. Use pandas.concat instead.\n",
      "  Sat_data = Sat_data.append({\"Longitude\": longitude, \"Latitude\": latitude}, ignore_index=True)\n"
     ]
    },
    {
     "name": "stdout",
     "output_type": "stream",
     "text": [
      "Data received: {'timestamp': 1682640485, 'message': 'success', 'iss_position': {'latitude': '-31.4771', 'longitude': '-151.5070'}}\n"
     ]
    },
    {
     "name": "stderr",
     "output_type": "stream",
     "text": [
      "C:\\Users\\13018\\AppData\\Local\\Temp\\ipykernel_11600\\2340310863.py:10: FutureWarning: The frame.append method is deprecated and will be removed from pandas in a future version. Use pandas.concat instead.\n",
      "  Sat_data = Sat_data.append({\"Longitude\": longitude, \"Latitude\": latitude}, ignore_index=True)\n"
     ]
    },
    {
     "name": "stdout",
     "output_type": "stream",
     "text": [
      "Data received: {'timestamp': 1682640490, 'message': 'success', 'iss_position': {'latitude': '-31.6987', 'longitude': '-151.2513'}}\n"
     ]
    },
    {
     "name": "stderr",
     "output_type": "stream",
     "text": [
      "C:\\Users\\13018\\AppData\\Local\\Temp\\ipykernel_11600\\2340310863.py:10: FutureWarning: The frame.append method is deprecated and will be removed from pandas in a future version. Use pandas.concat instead.\n",
      "  Sat_data = Sat_data.append({\"Longitude\": longitude, \"Latitude\": latitude}, ignore_index=True)\n"
     ]
    },
    {
     "name": "stdout",
     "output_type": "stream",
     "text": [
      "Data received: {'timestamp': 1682640495, 'message': 'success', 'iss_position': {'latitude': '-31.9417', 'longitude': '-150.9685'}}\n"
     ]
    },
    {
     "name": "stderr",
     "output_type": "stream",
     "text": [
      "C:\\Users\\13018\\AppData\\Local\\Temp\\ipykernel_11600\\2340310863.py:10: FutureWarning: The frame.append method is deprecated and will be removed from pandas in a future version. Use pandas.concat instead.\n",
      "  Sat_data = Sat_data.append({\"Longitude\": longitude, \"Latitude\": latitude}, ignore_index=True)\n"
     ]
    },
    {
     "name": "stdout",
     "output_type": "stream",
     "text": [
      "Data received: {'timestamp': 1682640500, 'message': 'success', 'iss_position': {'latitude': '-32.1620', 'longitude': '-150.7100'}}\n"
     ]
    },
    {
     "name": "stderr",
     "output_type": "stream",
     "text": [
      "C:\\Users\\13018\\AppData\\Local\\Temp\\ipykernel_11600\\2340310863.py:10: FutureWarning: The frame.append method is deprecated and will be removed from pandas in a future version. Use pandas.concat instead.\n",
      "  Sat_data = Sat_data.append({\"Longitude\": longitude, \"Latitude\": latitude}, ignore_index=True)\n"
     ]
    },
    {
     "name": "stdout",
     "output_type": "stream",
     "text": [
      "Data received: {'timestamp': 1682640505, 'message': 'success', 'iss_position': {'latitude': '-32.3817', 'longitude': '-150.4502'}}\n"
     ]
    },
    {
     "name": "stderr",
     "output_type": "stream",
     "text": [
      "C:\\Users\\13018\\AppData\\Local\\Temp\\ipykernel_11600\\2340310863.py:10: FutureWarning: The frame.append method is deprecated and will be removed from pandas in a future version. Use pandas.concat instead.\n",
      "  Sat_data = Sat_data.append({\"Longitude\": longitude, \"Latitude\": latitude}, ignore_index=True)\n"
     ]
    },
    {
     "name": "stdout",
     "output_type": "stream",
     "text": [
      "Data received: {'timestamp': 1682640511, 'message': 'success', 'iss_position': {'latitude': '-32.6226', 'longitude': '-150.1627'}}\n"
     ]
    },
    {
     "name": "stderr",
     "output_type": "stream",
     "text": [
      "C:\\Users\\13018\\AppData\\Local\\Temp\\ipykernel_11600\\2340310863.py:10: FutureWarning: The frame.append method is deprecated and will be removed from pandas in a future version. Use pandas.concat instead.\n",
      "  Sat_data = Sat_data.append({\"Longitude\": longitude, \"Latitude\": latitude}, ignore_index=True)\n"
     ]
    },
    {
     "name": "stdout",
     "output_type": "stream",
     "text": [
      "Data received: {'timestamp': 1682640516, 'message': 'success', 'iss_position': {'latitude': '-32.8410', 'longitude': '-149.9000'}}\n"
     ]
    },
    {
     "name": "stderr",
     "output_type": "stream",
     "text": [
      "C:\\Users\\13018\\AppData\\Local\\Temp\\ipykernel_11600\\2340310863.py:10: FutureWarning: The frame.append method is deprecated and will be removed from pandas in a future version. Use pandas.concat instead.\n",
      "  Sat_data = Sat_data.append({\"Longitude\": longitude, \"Latitude\": latitude}, ignore_index=True)\n"
     ]
    },
    {
     "name": "stdout",
     "output_type": "stream",
     "text": [
      "Data received: {'timestamp': 1682640521, 'message': 'success', 'iss_position': {'latitude': '-33.0587', 'longitude': '-149.6359'}}\n"
     ]
    },
    {
     "name": "stderr",
     "output_type": "stream",
     "text": [
      "C:\\Users\\13018\\AppData\\Local\\Temp\\ipykernel_11600\\2340310863.py:10: FutureWarning: The frame.append method is deprecated and will be removed from pandas in a future version. Use pandas.concat instead.\n",
      "  Sat_data = Sat_data.append({\"Longitude\": longitude, \"Latitude\": latitude}, ignore_index=True)\n"
     ]
    },
    {
     "name": "stdout",
     "output_type": "stream",
     "text": [
      "Data received: {'timestamp': 1682640526, 'message': 'success', 'iss_position': {'latitude': '-33.2974', 'longitude': '-149.3437'}}\n"
     ]
    },
    {
     "name": "stderr",
     "output_type": "stream",
     "text": [
      "C:\\Users\\13018\\AppData\\Local\\Temp\\ipykernel_11600\\2340310863.py:10: FutureWarning: The frame.append method is deprecated and will be removed from pandas in a future version. Use pandas.concat instead.\n",
      "  Sat_data = Sat_data.append({\"Longitude\": longitude, \"Latitude\": latitude}, ignore_index=True)\n"
     ]
    },
    {
     "name": "stdout",
     "output_type": "stream",
     "text": [
      "Data received: {'timestamp': 1682640531, 'message': 'success', 'iss_position': {'latitude': '-33.5137', 'longitude': '-149.0766'}}\n"
     ]
    },
    {
     "name": "stderr",
     "output_type": "stream",
     "text": [
      "C:\\Users\\13018\\AppData\\Local\\Temp\\ipykernel_11600\\2340310863.py:10: FutureWarning: The frame.append method is deprecated and will be removed from pandas in a future version. Use pandas.concat instead.\n",
      "  Sat_data = Sat_data.append({\"Longitude\": longitude, \"Latitude\": latitude}, ignore_index=True)\n"
     ]
    },
    {
     "name": "stdout",
     "output_type": "stream",
     "text": [
      "Data received: {'timestamp': 1682640536, 'message': 'success', 'iss_position': {'latitude': '-33.7294', 'longitude': '-148.8080'}}\n"
     ]
    },
    {
     "name": "stderr",
     "output_type": "stream",
     "text": [
      "C:\\Users\\13018\\AppData\\Local\\Temp\\ipykernel_11600\\2340310863.py:10: FutureWarning: The frame.append method is deprecated and will be removed from pandas in a future version. Use pandas.concat instead.\n",
      "  Sat_data = Sat_data.append({\"Longitude\": longitude, \"Latitude\": latitude}, ignore_index=True)\n"
     ]
    },
    {
     "name": "stdout",
     "output_type": "stream",
     "text": [
      "Data received: {'timestamp': 1682640541, 'message': 'success', 'iss_position': {'latitude': '-33.9443', 'longitude': '-148.5380'}}\n"
     ]
    },
    {
     "name": "stderr",
     "output_type": "stream",
     "text": [
      "C:\\Users\\13018\\AppData\\Local\\Temp\\ipykernel_11600\\2340310863.py:10: FutureWarning: The frame.append method is deprecated and will be removed from pandas in a future version. Use pandas.concat instead.\n",
      "  Sat_data = Sat_data.append({\"Longitude\": longitude, \"Latitude\": latitude}, ignore_index=True)\n"
     ]
    },
    {
     "name": "stdout",
     "output_type": "stream",
     "text": [
      "Data received: {'timestamp': 1682640547, 'message': 'success', 'iss_position': {'latitude': '-34.1800', 'longitude': '-148.2393'}}\n"
     ]
    },
    {
     "name": "stderr",
     "output_type": "stream",
     "text": [
      "C:\\Users\\13018\\AppData\\Local\\Temp\\ipykernel_11600\\2340310863.py:10: FutureWarning: The frame.append method is deprecated and will be removed from pandas in a future version. Use pandas.concat instead.\n",
      "  Sat_data = Sat_data.append({\"Longitude\": longitude, \"Latitude\": latitude}, ignore_index=True)\n"
     ]
    },
    {
     "name": "stdout",
     "output_type": "stream",
     "text": [
      "Data received: {'timestamp': 1682640552, 'message': 'success', 'iss_position': {'latitude': '-34.3936', 'longitude': '-147.9661'}}\n"
     ]
    },
    {
     "name": "stderr",
     "output_type": "stream",
     "text": [
      "C:\\Users\\13018\\AppData\\Local\\Temp\\ipykernel_11600\\2340310863.py:10: FutureWarning: The frame.append method is deprecated and will be removed from pandas in a future version. Use pandas.concat instead.\n",
      "  Sat_data = Sat_data.append({\"Longitude\": longitude, \"Latitude\": latitude}, ignore_index=True)\n"
     ]
    },
    {
     "name": "stdout",
     "output_type": "stream",
     "text": [
      "Data received: {'timestamp': 1682640557, 'message': 'success', 'iss_position': {'latitude': '-34.6064', 'longitude': '-147.6915'}}\n"
     ]
    },
    {
     "name": "stderr",
     "output_type": "stream",
     "text": [
      "C:\\Users\\13018\\AppData\\Local\\Temp\\ipykernel_11600\\2340310863.py:10: FutureWarning: The frame.append method is deprecated and will be removed from pandas in a future version. Use pandas.concat instead.\n",
      "  Sat_data = Sat_data.append({\"Longitude\": longitude, \"Latitude\": latitude}, ignore_index=True)\n"
     ]
    },
    {
     "name": "stdout",
     "output_type": "stream",
     "text": [
      "Data received: {'timestamp': 1682640562, 'message': 'success', 'iss_position': {'latitude': '-34.8396', 'longitude': '-147.3877'}}\n"
     ]
    },
    {
     "name": "stderr",
     "output_type": "stream",
     "text": [
      "C:\\Users\\13018\\AppData\\Local\\Temp\\ipykernel_11600\\2340310863.py:10: FutureWarning: The frame.append method is deprecated and will be removed from pandas in a future version. Use pandas.concat instead.\n",
      "  Sat_data = Sat_data.append({\"Longitude\": longitude, \"Latitude\": latitude}, ignore_index=True)\n"
     ]
    },
    {
     "name": "stdout",
     "output_type": "stream",
     "text": [
      "Data received: {'timestamp': 1682640567, 'message': 'success', 'iss_position': {'latitude': '-35.0509', 'longitude': '-147.1099'}}\n"
     ]
    },
    {
     "name": "stderr",
     "output_type": "stream",
     "text": [
      "C:\\Users\\13018\\AppData\\Local\\Temp\\ipykernel_11600\\2340310863.py:10: FutureWarning: The frame.append method is deprecated and will be removed from pandas in a future version. Use pandas.concat instead.\n",
      "  Sat_data = Sat_data.append({\"Longitude\": longitude, \"Latitude\": latitude}, ignore_index=True)\n"
     ]
    },
    {
     "name": "stdout",
     "output_type": "stream",
     "text": [
      "Data received: {'timestamp': 1682640572, 'message': 'success', 'iss_position': {'latitude': '-35.2615', 'longitude': '-146.8305'}}\n"
     ]
    },
    {
     "name": "stderr",
     "output_type": "stream",
     "text": [
      "C:\\Users\\13018\\AppData\\Local\\Temp\\ipykernel_11600\\2340310863.py:10: FutureWarning: The frame.append method is deprecated and will be removed from pandas in a future version. Use pandas.concat instead.\n",
      "  Sat_data = Sat_data.append({\"Longitude\": longitude, \"Latitude\": latitude}, ignore_index=True)\n"
     ]
    },
    {
     "name": "stdout",
     "output_type": "stream",
     "text": [
      "Data received: {'timestamp': 1682640578, 'message': 'success', 'iss_position': {'latitude': '-35.4922', 'longitude': '-146.5213'}}\n"
     ]
    },
    {
     "name": "stderr",
     "output_type": "stream",
     "text": [
      "C:\\Users\\13018\\AppData\\Local\\Temp\\ipykernel_11600\\2340310863.py:10: FutureWarning: The frame.append method is deprecated and will be removed from pandas in a future version. Use pandas.concat instead.\n",
      "  Sat_data = Sat_data.append({\"Longitude\": longitude, \"Latitude\": latitude}, ignore_index=True)\n"
     ]
    },
    {
     "name": "stdout",
     "output_type": "stream",
     "text": [
      "Data received: {'timestamp': 1682640583, 'message': 'success', 'iss_position': {'latitude': '-35.7012', 'longitude': '-146.2387'}}\n"
     ]
    },
    {
     "name": "stderr",
     "output_type": "stream",
     "text": [
      "C:\\Users\\13018\\AppData\\Local\\Temp\\ipykernel_11600\\2340310863.py:10: FutureWarning: The frame.append method is deprecated and will be removed from pandas in a future version. Use pandas.concat instead.\n",
      "  Sat_data = Sat_data.append({\"Longitude\": longitude, \"Latitude\": latitude}, ignore_index=True)\n"
     ]
    },
    {
     "name": "stdout",
     "output_type": "stream",
     "text": [
      "Data received: {'timestamp': 1682640588, 'message': 'success', 'iss_position': {'latitude': '-35.9094', 'longitude': '-145.9543'}}\n"
     ]
    },
    {
     "name": "stderr",
     "output_type": "stream",
     "text": [
      "C:\\Users\\13018\\AppData\\Local\\Temp\\ipykernel_11600\\2340310863.py:10: FutureWarning: The frame.append method is deprecated and will be removed from pandas in a future version. Use pandas.concat instead.\n",
      "  Sat_data = Sat_data.append({\"Longitude\": longitude, \"Latitude\": latitude}, ignore_index=True)\n"
     ]
    },
    {
     "name": "stdout",
     "output_type": "stream",
     "text": [
      "Data received: {'timestamp': 1682640593, 'message': 'success', 'iss_position': {'latitude': '-36.1375', 'longitude': '-145.6398'}}\n"
     ]
    },
    {
     "name": "stderr",
     "output_type": "stream",
     "text": [
      "C:\\Users\\13018\\AppData\\Local\\Temp\\ipykernel_11600\\2340310863.py:10: FutureWarning: The frame.append method is deprecated and will be removed from pandas in a future version. Use pandas.concat instead.\n",
      "  Sat_data = Sat_data.append({\"Longitude\": longitude, \"Latitude\": latitude}, ignore_index=True)\n"
     ]
    },
    {
     "name": "stdout",
     "output_type": "stream",
     "text": [
      "Data received: {'timestamp': 1682640598, 'message': 'success', 'iss_position': {'latitude': '-36.3441', 'longitude': '-145.3521'}}\n"
     ]
    },
    {
     "name": "stderr",
     "output_type": "stream",
     "text": [
      "C:\\Users\\13018\\AppData\\Local\\Temp\\ipykernel_11600\\2340310863.py:10: FutureWarning: The frame.append method is deprecated and will be removed from pandas in a future version. Use pandas.concat instead.\n",
      "  Sat_data = Sat_data.append({\"Longitude\": longitude, \"Latitude\": latitude}, ignore_index=True)\n"
     ]
    },
    {
     "name": "stdout",
     "output_type": "stream",
     "text": [
      "Data received: {'timestamp': 1682640604, 'message': 'success', 'iss_position': {'latitude': '-36.5499', 'longitude': '-145.0628'}}\n"
     ]
    },
    {
     "name": "stderr",
     "output_type": "stream",
     "text": [
      "C:\\Users\\13018\\AppData\\Local\\Temp\\ipykernel_11600\\2340310863.py:10: FutureWarning: The frame.append method is deprecated and will be removed from pandas in a future version. Use pandas.concat instead.\n",
      "  Sat_data = Sat_data.append({\"Longitude\": longitude, \"Latitude\": latitude}, ignore_index=True)\n"
     ]
    },
    {
     "name": "stdout",
     "output_type": "stream",
     "text": [
      "Data received: {'timestamp': 1682640609, 'message': 'success', 'iss_position': {'latitude': '-36.7548', 'longitude': '-144.7718'}}\n"
     ]
    },
    {
     "name": "stderr",
     "output_type": "stream",
     "text": [
      "C:\\Users\\13018\\AppData\\Local\\Temp\\ipykernel_11600\\2340310863.py:10: FutureWarning: The frame.append method is deprecated and will be removed from pandas in a future version. Use pandas.concat instead.\n",
      "  Sat_data = Sat_data.append({\"Longitude\": longitude, \"Latitude\": latitude}, ignore_index=True)\n"
     ]
    },
    {
     "name": "stdout",
     "output_type": "stream",
     "text": [
      "Data received: {'timestamp': 1682640614, 'message': 'success', 'iss_position': {'latitude': '-36.9793', 'longitude': '-144.4499'}}\n"
     ]
    },
    {
     "name": "stderr",
     "output_type": "stream",
     "text": [
      "C:\\Users\\13018\\AppData\\Local\\Temp\\ipykernel_11600\\2340310863.py:10: FutureWarning: The frame.append method is deprecated and will be removed from pandas in a future version. Use pandas.concat instead.\n",
      "  Sat_data = Sat_data.append({\"Longitude\": longitude, \"Latitude\": latitude}, ignore_index=True)\n"
     ]
    },
    {
     "name": "stdout",
     "output_type": "stream",
     "text": [
      "Data received: {'timestamp': 1682640619, 'message': 'success', 'iss_position': {'latitude': '-37.1825', 'longitude': '-144.1554'}}\n"
     ]
    },
    {
     "name": "stderr",
     "output_type": "stream",
     "text": [
      "C:\\Users\\13018\\AppData\\Local\\Temp\\ipykernel_11600\\2340310863.py:10: FutureWarning: The frame.append method is deprecated and will be removed from pandas in a future version. Use pandas.concat instead.\n",
      "  Sat_data = Sat_data.append({\"Longitude\": longitude, \"Latitude\": latitude}, ignore_index=True)\n"
     ]
    },
    {
     "name": "stdout",
     "output_type": "stream",
     "text": [
      "Data received: {'timestamp': 1682640624, 'message': 'success', 'iss_position': {'latitude': '-37.3848', 'longitude': '-143.8592'}}\n"
     ]
    },
    {
     "name": "stderr",
     "output_type": "stream",
     "text": [
      "C:\\Users\\13018\\AppData\\Local\\Temp\\ipykernel_11600\\2340310863.py:10: FutureWarning: The frame.append method is deprecated and will be removed from pandas in a future version. Use pandas.concat instead.\n",
      "  Sat_data = Sat_data.append({\"Longitude\": longitude, \"Latitude\": latitude}, ignore_index=True)\n"
     ]
    },
    {
     "name": "stdout",
     "output_type": "stream",
     "text": [
      "Data received: {'timestamp': 1682640630, 'message': 'success', 'iss_position': {'latitude': '-37.6065', 'longitude': '-143.5315'}}\n"
     ]
    },
    {
     "name": "stderr",
     "output_type": "stream",
     "text": [
      "C:\\Users\\13018\\AppData\\Local\\Temp\\ipykernel_11600\\2340310863.py:10: FutureWarning: The frame.append method is deprecated and will be removed from pandas in a future version. Use pandas.concat instead.\n",
      "  Sat_data = Sat_data.append({\"Longitude\": longitude, \"Latitude\": latitude}, ignore_index=True)\n"
     ]
    },
    {
     "name": "stdout",
     "output_type": "stream",
     "text": [
      "Data received: {'timestamp': 1682640635, 'message': 'success', 'iss_position': {'latitude': '-37.8070', 'longitude': '-143.2317'}}\n"
     ]
    },
    {
     "name": "stderr",
     "output_type": "stream",
     "text": [
      "C:\\Users\\13018\\AppData\\Local\\Temp\\ipykernel_11600\\2340310863.py:10: FutureWarning: The frame.append method is deprecated and will be removed from pandas in a future version. Use pandas.concat instead.\n",
      "  Sat_data = Sat_data.append({\"Longitude\": longitude, \"Latitude\": latitude}, ignore_index=True)\n"
     ]
    },
    {
     "name": "stdout",
     "output_type": "stream",
     "text": [
      "Data received: {'timestamp': 1682640640, 'message': 'success', 'iss_position': {'latitude': '-38.0067', 'longitude': '-142.9302'}}\n"
     ]
    },
    {
     "name": "stderr",
     "output_type": "stream",
     "text": [
      "C:\\Users\\13018\\AppData\\Local\\Temp\\ipykernel_11600\\2340310863.py:10: FutureWarning: The frame.append method is deprecated and will be removed from pandas in a future version. Use pandas.concat instead.\n",
      "  Sat_data = Sat_data.append({\"Longitude\": longitude, \"Latitude\": latitude}, ignore_index=True)\n"
     ]
    },
    {
     "name": "stdout",
     "output_type": "stream",
     "text": [
      "Data received: {'timestamp': 1682640645, 'message': 'success', 'iss_position': {'latitude': '-38.2253', 'longitude': '-142.5965'}}\n"
     ]
    },
    {
     "name": "stderr",
     "output_type": "stream",
     "text": [
      "C:\\Users\\13018\\AppData\\Local\\Temp\\ipykernel_11600\\2340310863.py:10: FutureWarning: The frame.append method is deprecated and will be removed from pandas in a future version. Use pandas.concat instead.\n",
      "  Sat_data = Sat_data.append({\"Longitude\": longitude, \"Latitude\": latitude}, ignore_index=True)\n"
     ]
    },
    {
     "name": "stdout",
     "output_type": "stream",
     "text": [
      "Data received: {'timestamp': 1682640650, 'message': 'success', 'iss_position': {'latitude': '-38.4231', 'longitude': '-142.2912'}}\n"
     ]
    },
    {
     "name": "stderr",
     "output_type": "stream",
     "text": [
      "C:\\Users\\13018\\AppData\\Local\\Temp\\ipykernel_11600\\2340310863.py:10: FutureWarning: The frame.append method is deprecated and will be removed from pandas in a future version. Use pandas.concat instead.\n",
      "  Sat_data = Sat_data.append({\"Longitude\": longitude, \"Latitude\": latitude}, ignore_index=True)\n"
     ]
    },
    {
     "name": "stdout",
     "output_type": "stream",
     "text": [
      "Data received: {'timestamp': 1682640655, 'message': 'success', 'iss_position': {'latitude': '-38.6200', 'longitude': '-141.9842'}}\n"
     ]
    },
    {
     "name": "stderr",
     "output_type": "stream",
     "text": [
      "C:\\Users\\13018\\AppData\\Local\\Temp\\ipykernel_11600\\2340310863.py:10: FutureWarning: The frame.append method is deprecated and will be removed from pandas in a future version. Use pandas.concat instead.\n",
      "  Sat_data = Sat_data.append({\"Longitude\": longitude, \"Latitude\": latitude}, ignore_index=True)\n"
     ]
    },
    {
     "name": "stdout",
     "output_type": "stream",
     "text": [
      "Data received: {'timestamp': 1682640661, 'message': 'success', 'iss_position': {'latitude': '-38.8355', 'longitude': '-141.6444'}}\n"
     ]
    },
    {
     "name": "stderr",
     "output_type": "stream",
     "text": [
      "C:\\Users\\13018\\AppData\\Local\\Temp\\ipykernel_11600\\2340310863.py:10: FutureWarning: The frame.append method is deprecated and will be removed from pandas in a future version. Use pandas.concat instead.\n",
      "  Sat_data = Sat_data.append({\"Longitude\": longitude, \"Latitude\": latitude}, ignore_index=True)\n"
     ]
    },
    {
     "name": "stdout",
     "output_type": "stream",
     "text": [
      "Data received: {'timestamp': 1682640666, 'message': 'success', 'iss_position': {'latitude': '-39.0305', 'longitude': '-141.3336'}}\n"
     ]
    },
    {
     "name": "stderr",
     "output_type": "stream",
     "text": [
      "C:\\Users\\13018\\AppData\\Local\\Temp\\ipykernel_11600\\2340310863.py:10: FutureWarning: The frame.append method is deprecated and will be removed from pandas in a future version. Use pandas.concat instead.\n",
      "  Sat_data = Sat_data.append({\"Longitude\": longitude, \"Latitude\": latitude}, ignore_index=True)\n"
     ]
    },
    {
     "name": "stdout",
     "output_type": "stream",
     "text": [
      "Data received: {'timestamp': 1682640671, 'message': 'success', 'iss_position': {'latitude': '-39.2245', 'longitude': '-141.0210'}}\n"
     ]
    },
    {
     "name": "stderr",
     "output_type": "stream",
     "text": [
      "C:\\Users\\13018\\AppData\\Local\\Temp\\ipykernel_11600\\2340310863.py:10: FutureWarning: The frame.append method is deprecated and will be removed from pandas in a future version. Use pandas.concat instead.\n",
      "  Sat_data = Sat_data.append({\"Longitude\": longitude, \"Latitude\": latitude}, ignore_index=True)\n"
     ]
    },
    {
     "name": "stdout",
     "output_type": "stream",
     "text": [
      "Data received: {'timestamp': 1682640676, 'message': 'success', 'iss_position': {'latitude': '-39.4175', 'longitude': '-140.7065'}}\n"
     ]
    },
    {
     "name": "stderr",
     "output_type": "stream",
     "text": [
      "C:\\Users\\13018\\AppData\\Local\\Temp\\ipykernel_11600\\2340310863.py:10: FutureWarning: The frame.append method is deprecated and will be removed from pandas in a future version. Use pandas.concat instead.\n",
      "  Sat_data = Sat_data.append({\"Longitude\": longitude, \"Latitude\": latitude}, ignore_index=True)\n"
     ]
    },
    {
     "name": "stdout",
     "output_type": "stream",
     "text": [
      "Data received: {'timestamp': 1682640681, 'message': 'success', 'iss_position': {'latitude': '-39.6287', 'longitude': '-140.3585'}}\n"
     ]
    },
    {
     "name": "stderr",
     "output_type": "stream",
     "text": [
      "C:\\Users\\13018\\AppData\\Local\\Temp\\ipykernel_11600\\2340310863.py:10: FutureWarning: The frame.append method is deprecated and will be removed from pandas in a future version. Use pandas.concat instead.\n",
      "  Sat_data = Sat_data.append({\"Longitude\": longitude, \"Latitude\": latitude}, ignore_index=True)\n"
     ]
    },
    {
     "name": "stdout",
     "output_type": "stream",
     "text": [
      "Data received: {'timestamp': 1682640686, 'message': 'success', 'iss_position': {'latitude': '-39.8196', 'longitude': '-140.0401'}}\n"
     ]
    },
    {
     "name": "stderr",
     "output_type": "stream",
     "text": [
      "C:\\Users\\13018\\AppData\\Local\\Temp\\ipykernel_11600\\2340310863.py:10: FutureWarning: The frame.append method is deprecated and will be removed from pandas in a future version. Use pandas.concat instead.\n",
      "  Sat_data = Sat_data.append({\"Longitude\": longitude, \"Latitude\": latitude}, ignore_index=True)\n"
     ]
    },
    {
     "name": "stdout",
     "output_type": "stream",
     "text": [
      "Data received: {'timestamp': 1682640691, 'message': 'success', 'iss_position': {'latitude': '-40.0096', 'longitude': '-139.7198'}}\n"
     ]
    },
    {
     "name": "stderr",
     "output_type": "stream",
     "text": [
      "C:\\Users\\13018\\AppData\\Local\\Temp\\ipykernel_11600\\2340310863.py:10: FutureWarning: The frame.append method is deprecated and will be removed from pandas in a future version. Use pandas.concat instead.\n",
      "  Sat_data = Sat_data.append({\"Longitude\": longitude, \"Latitude\": latitude}, ignore_index=True)\n"
     ]
    },
    {
     "name": "stdout",
     "output_type": "stream",
     "text": [
      "Data received: {'timestamp': 1682640697, 'message': 'success', 'iss_position': {'latitude': '-40.2174', 'longitude': '-139.3653'}}\n"
     ]
    },
    {
     "name": "stderr",
     "output_type": "stream",
     "text": [
      "C:\\Users\\13018\\AppData\\Local\\Temp\\ipykernel_11600\\2340310863.py:10: FutureWarning: The frame.append method is deprecated and will be removed from pandas in a future version. Use pandas.concat instead.\n",
      "  Sat_data = Sat_data.append({\"Longitude\": longitude, \"Latitude\": latitude}, ignore_index=True)\n"
     ]
    },
    {
     "name": "stdout",
     "output_type": "stream",
     "text": [
      "Data received: {'timestamp': 1682640702, 'message': 'success', 'iss_position': {'latitude': '-40.4053', 'longitude': '-139.0409'}}\n"
     ]
    },
    {
     "name": "stderr",
     "output_type": "stream",
     "text": [
      "C:\\Users\\13018\\AppData\\Local\\Temp\\ipykernel_11600\\2340310863.py:10: FutureWarning: The frame.append method is deprecated and will be removed from pandas in a future version. Use pandas.concat instead.\n",
      "  Sat_data = Sat_data.append({\"Longitude\": longitude, \"Latitude\": latitude}, ignore_index=True)\n"
     ]
    },
    {
     "name": "stdout",
     "output_type": "stream",
     "text": [
      "Data received: {'timestamp': 1682640707, 'message': 'success', 'iss_position': {'latitude': '-40.5921', 'longitude': '-138.7147'}}\n"
     ]
    },
    {
     "name": "stderr",
     "output_type": "stream",
     "text": [
      "C:\\Users\\13018\\AppData\\Local\\Temp\\ipykernel_11600\\2340310863.py:10: FutureWarning: The frame.append method is deprecated and will be removed from pandas in a future version. Use pandas.concat instead.\n",
      "  Sat_data = Sat_data.append({\"Longitude\": longitude, \"Latitude\": latitude}, ignore_index=True)\n"
     ]
    },
    {
     "name": "stdout",
     "output_type": "stream",
     "text": [
      "Data received: {'timestamp': 1682640712, 'message': 'success', 'iss_position': {'latitude': '-40.7964', 'longitude': '-138.3536'}}\n"
     ]
    },
    {
     "name": "stderr",
     "output_type": "stream",
     "text": [
      "C:\\Users\\13018\\AppData\\Local\\Temp\\ipykernel_11600\\2340310863.py:10: FutureWarning: The frame.append method is deprecated and will be removed from pandas in a future version. Use pandas.concat instead.\n",
      "  Sat_data = Sat_data.append({\"Longitude\": longitude, \"Latitude\": latitude}, ignore_index=True)\n"
     ]
    },
    {
     "name": "stdout",
     "output_type": "stream",
     "text": [
      "Data received: {'timestamp': 1682640717, 'message': 'success', 'iss_position': {'latitude': '-40.9810', 'longitude': '-138.0233'}}\n"
     ]
    },
    {
     "name": "stderr",
     "output_type": "stream",
     "text": [
      "C:\\Users\\13018\\AppData\\Local\\Temp\\ipykernel_11600\\2340310863.py:10: FutureWarning: The frame.append method is deprecated and will be removed from pandas in a future version. Use pandas.concat instead.\n",
      "  Sat_data = Sat_data.append({\"Longitude\": longitude, \"Latitude\": latitude}, ignore_index=True)\n"
     ]
    },
    {
     "name": "stdout",
     "output_type": "stream",
     "text": [
      "Data received: {'timestamp': 1682640722, 'message': 'success', 'iss_position': {'latitude': '-41.1645', 'longitude': '-137.6911'}}\n"
     ]
    },
    {
     "name": "stderr",
     "output_type": "stream",
     "text": [
      "C:\\Users\\13018\\AppData\\Local\\Temp\\ipykernel_11600\\2340310863.py:10: FutureWarning: The frame.append method is deprecated and will be removed from pandas in a future version. Use pandas.concat instead.\n",
      "  Sat_data = Sat_data.append({\"Longitude\": longitude, \"Latitude\": latitude}, ignore_index=True)\n"
     ]
    },
    {
     "name": "stdout",
     "output_type": "stream",
     "text": [
      "Data received: {'timestamp': 1682640728, 'message': 'success', 'iss_position': {'latitude': '-41.3651', 'longitude': '-137.3233'}}\n"
     ]
    },
    {
     "name": "stderr",
     "output_type": "stream",
     "text": [
      "C:\\Users\\13018\\AppData\\Local\\Temp\\ipykernel_11600\\2340310863.py:10: FutureWarning: The frame.append method is deprecated and will be removed from pandas in a future version. Use pandas.concat instead.\n",
      "  Sat_data = Sat_data.append({\"Longitude\": longitude, \"Latitude\": latitude}, ignore_index=True)\n"
     ]
    },
    {
     "name": "stdout",
     "output_type": "stream",
     "text": [
      "Data received: {'timestamp': 1682640733, 'message': 'success', 'iss_position': {'latitude': '-41.5463', 'longitude': '-136.9868'}}\n"
     ]
    },
    {
     "name": "stderr",
     "output_type": "stream",
     "text": [
      "C:\\Users\\13018\\AppData\\Local\\Temp\\ipykernel_11600\\2340310863.py:10: FutureWarning: The frame.append method is deprecated and will be removed from pandas in a future version. Use pandas.concat instead.\n",
      "  Sat_data = Sat_data.append({\"Longitude\": longitude, \"Latitude\": latitude}, ignore_index=True)\n"
     ]
    },
    {
     "name": "stdout",
     "output_type": "stream",
     "text": [
      "Data received: {'timestamp': 1682640738, 'message': 'success', 'iss_position': {'latitude': '-41.7264', 'longitude': '-136.6484'}}\n"
     ]
    },
    {
     "name": "stderr",
     "output_type": "stream",
     "text": [
      "C:\\Users\\13018\\AppData\\Local\\Temp\\ipykernel_11600\\2340310863.py:10: FutureWarning: The frame.append method is deprecated and will be removed from pandas in a future version. Use pandas.concat instead.\n",
      "  Sat_data = Sat_data.append({\"Longitude\": longitude, \"Latitude\": latitude}, ignore_index=True)\n"
     ]
    },
    {
     "name": "stdout",
     "output_type": "stream",
     "text": [
      "Data received: {'timestamp': 1682640743, 'message': 'success', 'iss_position': {'latitude': '-41.9233', 'longitude': '-136.2738'}}\n"
     ]
    },
    {
     "name": "stderr",
     "output_type": "stream",
     "text": [
      "C:\\Users\\13018\\AppData\\Local\\Temp\\ipykernel_11600\\2340310863.py:10: FutureWarning: The frame.append method is deprecated and will be removed from pandas in a future version. Use pandas.concat instead.\n",
      "  Sat_data = Sat_data.append({\"Longitude\": longitude, \"Latitude\": latitude}, ignore_index=True)\n"
     ]
    },
    {
     "name": "stdout",
     "output_type": "stream",
     "text": [
      "Data received: {'timestamp': 1682640748, 'message': 'success', 'iss_position': {'latitude': '-42.1010', 'longitude': '-135.9311'}}\n"
     ]
    },
    {
     "name": "stderr",
     "output_type": "stream",
     "text": [
      "C:\\Users\\13018\\AppData\\Local\\Temp\\ipykernel_11600\\2340310863.py:10: FutureWarning: The frame.append method is deprecated and will be removed from pandas in a future version. Use pandas.concat instead.\n",
      "  Sat_data = Sat_data.append({\"Longitude\": longitude, \"Latitude\": latitude}, ignore_index=True)\n"
     ]
    },
    {
     "name": "stdout",
     "output_type": "stream",
     "text": [
      "Data received: {'timestamp': 1682640753, 'message': 'success', 'iss_position': {'latitude': '-42.2775', 'longitude': '-135.5865'}}\n"
     ]
    },
    {
     "name": "stderr",
     "output_type": "stream",
     "text": [
      "C:\\Users\\13018\\AppData\\Local\\Temp\\ipykernel_11600\\2340310863.py:10: FutureWarning: The frame.append method is deprecated and will be removed from pandas in a future version. Use pandas.concat instead.\n",
      "  Sat_data = Sat_data.append({\"Longitude\": longitude, \"Latitude\": latitude}, ignore_index=True)\n"
     ]
    },
    {
     "name": "stdout",
     "output_type": "stream",
     "text": [
      "Data received: {'timestamp': 1682640759, 'message': 'success', 'iss_position': {'latitude': '-42.4704', 'longitude': '-135.2049'}}\n"
     ]
    },
    {
     "name": "stderr",
     "output_type": "stream",
     "text": [
      "C:\\Users\\13018\\AppData\\Local\\Temp\\ipykernel_11600\\2340310863.py:10: FutureWarning: The frame.append method is deprecated and will be removed from pandas in a future version. Use pandas.concat instead.\n",
      "  Sat_data = Sat_data.append({\"Longitude\": longitude, \"Latitude\": latitude}, ignore_index=True)\n"
     ]
    },
    {
     "name": "stdout",
     "output_type": "stream",
     "text": [
      "Data received: {'timestamp': 1682640764, 'message': 'success', 'iss_position': {'latitude': '-42.6445', 'longitude': '-134.8559'}}\n"
     ]
    },
    {
     "name": "stderr",
     "output_type": "stream",
     "text": [
      "C:\\Users\\13018\\AppData\\Local\\Temp\\ipykernel_11600\\2340310863.py:10: FutureWarning: The frame.append method is deprecated and will be removed from pandas in a future version. Use pandas.concat instead.\n",
      "  Sat_data = Sat_data.append({\"Longitude\": longitude, \"Latitude\": latitude}, ignore_index=True)\n"
     ]
    },
    {
     "name": "stdout",
     "output_type": "stream",
     "text": [
      "Data received: {'timestamp': 1682640769, 'message': 'success', 'iss_position': {'latitude': '-42.8174', 'longitude': '-134.5048'}}\n"
     ]
    },
    {
     "name": "stderr",
     "output_type": "stream",
     "text": [
      "C:\\Users\\13018\\AppData\\Local\\Temp\\ipykernel_11600\\2340310863.py:10: FutureWarning: The frame.append method is deprecated and will be removed from pandas in a future version. Use pandas.concat instead.\n",
      "  Sat_data = Sat_data.append({\"Longitude\": longitude, \"Latitude\": latitude}, ignore_index=True)\n"
     ]
    },
    {
     "name": "stdout",
     "output_type": "stream",
     "text": [
      "Data received: {'timestamp': 1682640774, 'message': 'success', 'iss_position': {'latitude': '-43.0061', 'longitude': '-134.1162'}}\n"
     ]
    },
    {
     "name": "stderr",
     "output_type": "stream",
     "text": [
      "C:\\Users\\13018\\AppData\\Local\\Temp\\ipykernel_11600\\2340310863.py:10: FutureWarning: The frame.append method is deprecated and will be removed from pandas in a future version. Use pandas.concat instead.\n",
      "  Sat_data = Sat_data.append({\"Longitude\": longitude, \"Latitude\": latitude}, ignore_index=True)\n"
     ]
    },
    {
     "name": "stdout",
     "output_type": "stream",
     "text": [
      "Data received: {'timestamp': 1682640779, 'message': 'success', 'iss_position': {'latitude': '-43.1765', 'longitude': '-133.7607'}}\n"
     ]
    },
    {
     "name": "stderr",
     "output_type": "stream",
     "text": [
      "C:\\Users\\13018\\AppData\\Local\\Temp\\ipykernel_11600\\2340310863.py:10: FutureWarning: The frame.append method is deprecated and will be removed from pandas in a future version. Use pandas.concat instead.\n",
      "  Sat_data = Sat_data.append({\"Longitude\": longitude, \"Latitude\": latitude}, ignore_index=True)\n"
     ]
    },
    {
     "name": "stdout",
     "output_type": "stream",
     "text": [
      "Data received: {'timestamp': 1682640784, 'message': 'success', 'iss_position': {'latitude': '-43.3456', 'longitude': '-133.4031'}}\n"
     ]
    },
    {
     "name": "stderr",
     "output_type": "stream",
     "text": [
      "C:\\Users\\13018\\AppData\\Local\\Temp\\ipykernel_11600\\2340310863.py:10: FutureWarning: The frame.append method is deprecated and will be removed from pandas in a future version. Use pandas.concat instead.\n",
      "  Sat_data = Sat_data.append({\"Longitude\": longitude, \"Latitude\": latitude}, ignore_index=True)\n"
     ]
    },
    {
     "name": "stdout",
     "output_type": "stream",
     "text": [
      "Data received: {'timestamp': 1682640790, 'message': 'success', 'iss_position': {'latitude': '-43.5301', 'longitude': '-133.0073'}}\n"
     ]
    },
    {
     "name": "stderr",
     "output_type": "stream",
     "text": [
      "C:\\Users\\13018\\AppData\\Local\\Temp\\ipykernel_11600\\2340310863.py:10: FutureWarning: The frame.append method is deprecated and will be removed from pandas in a future version. Use pandas.concat instead.\n",
      "  Sat_data = Sat_data.append({\"Longitude\": longitude, \"Latitude\": latitude}, ignore_index=True)\n"
     ]
    },
    {
     "name": "stdout",
     "output_type": "stream",
     "text": [
      "Data received: {'timestamp': 1682640795, 'message': 'success', 'iss_position': {'latitude': '-43.6965', 'longitude': '-132.6453'}}\n"
     ]
    },
    {
     "name": "stderr",
     "output_type": "stream",
     "text": [
      "C:\\Users\\13018\\AppData\\Local\\Temp\\ipykernel_11600\\2340310863.py:10: FutureWarning: The frame.append method is deprecated and will be removed from pandas in a future version. Use pandas.concat instead.\n",
      "  Sat_data = Sat_data.append({\"Longitude\": longitude, \"Latitude\": latitude}, ignore_index=True)\n"
     ]
    },
    {
     "name": "stdout",
     "output_type": "stream",
     "text": [
      "Data received: {'timestamp': 1682640800, 'message': 'success', 'iss_position': {'latitude': '-43.8617', 'longitude': '-132.2812'}}\n"
     ]
    },
    {
     "name": "stderr",
     "output_type": "stream",
     "text": [
      "C:\\Users\\13018\\AppData\\Local\\Temp\\ipykernel_11600\\2340310863.py:10: FutureWarning: The frame.append method is deprecated and will be removed from pandas in a future version. Use pandas.concat instead.\n",
      "  Sat_data = Sat_data.append({\"Longitude\": longitude, \"Latitude\": latitude}, ignore_index=True)\n"
     ]
    },
    {
     "name": "stdout",
     "output_type": "stream",
     "text": [
      "Data received: {'timestamp': 1682640805, 'message': 'success', 'iss_position': {'latitude': '-44.0418', 'longitude': '-131.8782'}}\n"
     ]
    },
    {
     "name": "stderr",
     "output_type": "stream",
     "text": [
      "C:\\Users\\13018\\AppData\\Local\\Temp\\ipykernel_11600\\2340310863.py:10: FutureWarning: The frame.append method is deprecated and will be removed from pandas in a future version. Use pandas.concat instead.\n",
      "  Sat_data = Sat_data.append({\"Longitude\": longitude, \"Latitude\": latitude}, ignore_index=True)\n"
     ]
    },
    {
     "name": "stdout",
     "output_type": "stream",
     "text": [
      "Data received: {'timestamp': 1682640810, 'message': 'success', 'iss_position': {'latitude': '-44.2042', 'longitude': '-131.5096'}}\n"
     ]
    },
    {
     "name": "stderr",
     "output_type": "stream",
     "text": [
      "C:\\Users\\13018\\AppData\\Local\\Temp\\ipykernel_11600\\2340310863.py:10: FutureWarning: The frame.append method is deprecated and will be removed from pandas in a future version. Use pandas.concat instead.\n",
      "  Sat_data = Sat_data.append({\"Longitude\": longitude, \"Latitude\": latitude}, ignore_index=True)\n"
     ]
    },
    {
     "name": "stdout",
     "output_type": "stream",
     "text": [
      "Data received: {'timestamp': 1682640815, 'message': 'success', 'iss_position': {'latitude': '-44.3652', 'longitude': '-131.1388'}}\n"
     ]
    },
    {
     "name": "stderr",
     "output_type": "stream",
     "text": [
      "C:\\Users\\13018\\AppData\\Local\\Temp\\ipykernel_11600\\2340310863.py:10: FutureWarning: The frame.append method is deprecated and will be removed from pandas in a future version. Use pandas.concat instead.\n",
      "  Sat_data = Sat_data.append({\"Longitude\": longitude, \"Latitude\": latitude}, ignore_index=True)\n"
     ]
    },
    {
     "name": "stdout",
     "output_type": "stream",
     "text": [
      "Data received: {'timestamp': 1682640821, 'message': 'success', 'iss_position': {'latitude': '-44.5408', 'longitude': '-130.7286'}}\n"
     ]
    },
    {
     "name": "stderr",
     "output_type": "stream",
     "text": [
      "C:\\Users\\13018\\AppData\\Local\\Temp\\ipykernel_11600\\2340310863.py:10: FutureWarning: The frame.append method is deprecated and will be removed from pandas in a future version. Use pandas.concat instead.\n",
      "  Sat_data = Sat_data.append({\"Longitude\": longitude, \"Latitude\": latitude}, ignore_index=True)\n"
     ]
    },
    {
     "name": "stdout",
     "output_type": "stream",
     "text": [
      "Data received: {'timestamp': 1682640826, 'message': 'success', 'iss_position': {'latitude': '-44.6990', 'longitude': '-130.3533'}}\n"
     ]
    },
    {
     "name": "stderr",
     "output_type": "stream",
     "text": [
      "C:\\Users\\13018\\AppData\\Local\\Temp\\ipykernel_11600\\2340310863.py:10: FutureWarning: The frame.append method is deprecated and will be removed from pandas in a future version. Use pandas.concat instead.\n",
      "  Sat_data = Sat_data.append({\"Longitude\": longitude, \"Latitude\": latitude}, ignore_index=True)\n"
     ]
    },
    {
     "name": "stdout",
     "output_type": "stream",
     "text": [
      "Data received: {'timestamp': 1682640831, 'message': 'success', 'iss_position': {'latitude': '-44.8558', 'longitude': '-129.9759'}}\n"
     ]
    },
    {
     "name": "stderr",
     "output_type": "stream",
     "text": [
      "C:\\Users\\13018\\AppData\\Local\\Temp\\ipykernel_11600\\2340310863.py:10: FutureWarning: The frame.append method is deprecated and will be removed from pandas in a future version. Use pandas.concat instead.\n",
      "  Sat_data = Sat_data.append({\"Longitude\": longitude, \"Latitude\": latitude}, ignore_index=True)\n"
     ]
    },
    {
     "name": "stdout",
     "output_type": "stream",
     "text": [
      "Data received: {'timestamp': 1682640836, 'message': 'success', 'iss_position': {'latitude': '-45.0267', 'longitude': '-129.5583'}}\n"
     ]
    },
    {
     "name": "stderr",
     "output_type": "stream",
     "text": [
      "C:\\Users\\13018\\AppData\\Local\\Temp\\ipykernel_11600\\2340310863.py:10: FutureWarning: The frame.append method is deprecated and will be removed from pandas in a future version. Use pandas.concat instead.\n",
      "  Sat_data = Sat_data.append({\"Longitude\": longitude, \"Latitude\": latitude}, ignore_index=True)\n"
     ]
    },
    {
     "name": "stdout",
     "output_type": "stream",
     "text": [
      "Data received: {'timestamp': 1682640841, 'message': 'success', 'iss_position': {'latitude': '-45.1806', 'longitude': '-129.1763'}}\n"
     ]
    },
    {
     "name": "stderr",
     "output_type": "stream",
     "text": [
      "C:\\Users\\13018\\AppData\\Local\\Temp\\ipykernel_11600\\2340310863.py:10: FutureWarning: The frame.append method is deprecated and will be removed from pandas in a future version. Use pandas.concat instead.\n",
      "  Sat_data = Sat_data.append({\"Longitude\": longitude, \"Latitude\": latitude}, ignore_index=True)\n"
     ]
    },
    {
     "name": "stdout",
     "output_type": "stream",
     "text": [
      "Data received: {'timestamp': 1682640846, 'message': 'success', 'iss_position': {'latitude': '-45.3330', 'longitude': '-128.7921'}}\n"
     ]
    },
    {
     "name": "stderr",
     "output_type": "stream",
     "text": [
      "C:\\Users\\13018\\AppData\\Local\\Temp\\ipykernel_11600\\2340310863.py:10: FutureWarning: The frame.append method is deprecated and will be removed from pandas in a future version. Use pandas.concat instead.\n",
      "  Sat_data = Sat_data.append({\"Longitude\": longitude, \"Latitude\": latitude}, ignore_index=True)\n"
     ]
    },
    {
     "name": "stdout",
     "output_type": "stream",
     "text": [
      "Data received: {'timestamp': 1682640852, 'message': 'success', 'iss_position': {'latitude': '-45.4990', 'longitude': '-128.3670'}}\n"
     ]
    },
    {
     "name": "stderr",
     "output_type": "stream",
     "text": [
      "C:\\Users\\13018\\AppData\\Local\\Temp\\ipykernel_11600\\2340310863.py:10: FutureWarning: The frame.append method is deprecated and will be removed from pandas in a future version. Use pandas.concat instead.\n",
      "  Sat_data = Sat_data.append({\"Longitude\": longitude, \"Latitude\": latitude}, ignore_index=True)\n"
     ]
    },
    {
     "name": "stdout",
     "output_type": "stream",
     "text": [
      "Data received: {'timestamp': 1682640857, 'message': 'success', 'iss_position': {'latitude': '-45.6484', 'longitude': '-127.9783'}}\n"
     ]
    },
    {
     "name": "stderr",
     "output_type": "stream",
     "text": [
      "C:\\Users\\13018\\AppData\\Local\\Temp\\ipykernel_11600\\2340310863.py:10: FutureWarning: The frame.append method is deprecated and will be removed from pandas in a future version. Use pandas.concat instead.\n",
      "  Sat_data = Sat_data.append({\"Longitude\": longitude, \"Latitude\": latitude}, ignore_index=True)\n"
     ]
    },
    {
     "name": "stdout",
     "output_type": "stream",
     "text": [
      "Data received: {'timestamp': 1682640862, 'message': 'success', 'iss_position': {'latitude': '-45.7964', 'longitude': '-127.5873'}}\n"
     ]
    },
    {
     "name": "stderr",
     "output_type": "stream",
     "text": [
      "C:\\Users\\13018\\AppData\\Local\\Temp\\ipykernel_11600\\2340310863.py:10: FutureWarning: The frame.append method is deprecated and will be removed from pandas in a future version. Use pandas.concat instead.\n",
      "  Sat_data = Sat_data.append({\"Longitude\": longitude, \"Latitude\": latitude}, ignore_index=True)\n"
     ]
    },
    {
     "name": "stdout",
     "output_type": "stream",
     "text": [
      "Data received: {'timestamp': 1682640867, 'message': 'success', 'iss_position': {'latitude': '-45.9574', 'longitude': '-127.1548'}}\n"
     ]
    },
    {
     "name": "stderr",
     "output_type": "stream",
     "text": [
      "C:\\Users\\13018\\AppData\\Local\\Temp\\ipykernel_11600\\2340310863.py:10: FutureWarning: The frame.append method is deprecated and will be removed from pandas in a future version. Use pandas.concat instead.\n",
      "  Sat_data = Sat_data.append({\"Longitude\": longitude, \"Latitude\": latitude}, ignore_index=True)\n"
     ]
    },
    {
     "name": "stdout",
     "output_type": "stream",
     "text": [
      "Data received: {'timestamp': 1682640872, 'message': 'success', 'iss_position': {'latitude': '-46.1023', 'longitude': '-126.7589'}}\n"
     ]
    },
    {
     "name": "stderr",
     "output_type": "stream",
     "text": [
      "C:\\Users\\13018\\AppData\\Local\\Temp\\ipykernel_11600\\2340310863.py:10: FutureWarning: The frame.append method is deprecated and will be removed from pandas in a future version. Use pandas.concat instead.\n",
      "  Sat_data = Sat_data.append({\"Longitude\": longitude, \"Latitude\": latitude}, ignore_index=True)\n"
     ]
    },
    {
     "name": "stdout",
     "output_type": "stream",
     "text": [
      "Data received: {'timestamp': 1682640877, 'message': 'success', 'iss_position': {'latitude': '-46.2455', 'longitude': '-126.3613'}}\n"
     ]
    },
    {
     "name": "stderr",
     "output_type": "stream",
     "text": [
      "C:\\Users\\13018\\AppData\\Local\\Temp\\ipykernel_11600\\2340310863.py:10: FutureWarning: The frame.append method is deprecated and will be removed from pandas in a future version. Use pandas.concat instead.\n",
      "  Sat_data = Sat_data.append({\"Longitude\": longitude, \"Latitude\": latitude}, ignore_index=True)\n"
     ]
    },
    {
     "name": "stdout",
     "output_type": "stream",
     "text": [
      "Data received: {'timestamp': 1682640883, 'message': 'success', 'iss_position': {'latitude': '-46.4013', 'longitude': '-125.9213'}}\n"
     ]
    },
    {
     "name": "stderr",
     "output_type": "stream",
     "text": [
      "C:\\Users\\13018\\AppData\\Local\\Temp\\ipykernel_11600\\2340310863.py:10: FutureWarning: The frame.append method is deprecated and will be removed from pandas in a future version. Use pandas.concat instead.\n",
      "  Sat_data = Sat_data.append({\"Longitude\": longitude, \"Latitude\": latitude}, ignore_index=True)\n"
     ]
    },
    {
     "name": "stdout",
     "output_type": "stream",
     "text": [
      "Data received: {'timestamp': 1682640888, 'message': 'success', 'iss_position': {'latitude': '-46.5413', 'longitude': '-125.5191'}}\n"
     ]
    },
    {
     "name": "stderr",
     "output_type": "stream",
     "text": [
      "C:\\Users\\13018\\AppData\\Local\\Temp\\ipykernel_11600\\2340310863.py:10: FutureWarning: The frame.append method is deprecated and will be removed from pandas in a future version. Use pandas.concat instead.\n",
      "  Sat_data = Sat_data.append({\"Longitude\": longitude, \"Latitude\": latitude}, ignore_index=True)\n"
     ]
    },
    {
     "name": "stdout",
     "output_type": "stream",
     "text": [
      "Data received: {'timestamp': 1682640893, 'message': 'success', 'iss_position': {'latitude': '-46.6797', 'longitude': '-125.1147'}}\n"
     ]
    },
    {
     "name": "stderr",
     "output_type": "stream",
     "text": [
      "C:\\Users\\13018\\AppData\\Local\\Temp\\ipykernel_11600\\2340310863.py:10: FutureWarning: The frame.append method is deprecated and will be removed from pandas in a future version. Use pandas.concat instead.\n",
      "  Sat_data = Sat_data.append({\"Longitude\": longitude, \"Latitude\": latitude}, ignore_index=True)\n"
     ]
    },
    {
     "name": "stdout",
     "output_type": "stream",
     "text": [
      "Data received: {'timestamp': 1682640898, 'message': 'success', 'iss_position': {'latitude': '-46.8166', 'longitude': '-124.7081'}}\n"
     ]
    },
    {
     "name": "stderr",
     "output_type": "stream",
     "text": [
      "C:\\Users\\13018\\AppData\\Local\\Temp\\ipykernel_11600\\2340310863.py:10: FutureWarning: The frame.append method is deprecated and will be removed from pandas in a future version. Use pandas.concat instead.\n",
      "  Sat_data = Sat_data.append({\"Longitude\": longitude, \"Latitude\": latitude}, ignore_index=True)\n"
     ]
    },
    {
     "name": "stdout",
     "output_type": "stream",
     "text": [
      "Data received: {'timestamp': 1682640903, 'message': 'success', 'iss_position': {'latitude': '-46.9653', 'longitude': '-124.2583'}}\n"
     ]
    },
    {
     "name": "stderr",
     "output_type": "stream",
     "text": [
      "C:\\Users\\13018\\AppData\\Local\\Temp\\ipykernel_11600\\2340310863.py:10: FutureWarning: The frame.append method is deprecated and will be removed from pandas in a future version. Use pandas.concat instead.\n",
      "  Sat_data = Sat_data.append({\"Longitude\": longitude, \"Latitude\": latitude}, ignore_index=True)\n"
     ]
    },
    {
     "name": "stdout",
     "output_type": "stream",
     "text": [
      "Data received: {'timestamp': 1682640908, 'message': 'success', 'iss_position': {'latitude': '-47.0988', 'longitude': '-123.8471'}}\n"
     ]
    },
    {
     "name": "stderr",
     "output_type": "stream",
     "text": [
      "C:\\Users\\13018\\AppData\\Local\\Temp\\ipykernel_11600\\2340310863.py:10: FutureWarning: The frame.append method is deprecated and will be removed from pandas in a future version. Use pandas.concat instead.\n",
      "  Sat_data = Sat_data.append({\"Longitude\": longitude, \"Latitude\": latitude}, ignore_index=True)\n"
     ]
    },
    {
     "name": "stdout",
     "output_type": "stream",
     "text": [
      "Data received: {'timestamp': 1682640913, 'message': 'success', 'iss_position': {'latitude': '-47.2306', 'longitude': '-123.4339'}}\n"
     ]
    },
    {
     "name": "stderr",
     "output_type": "stream",
     "text": [
      "C:\\Users\\13018\\AppData\\Local\\Temp\\ipykernel_11600\\2340310863.py:10: FutureWarning: The frame.append method is deprecated and will be removed from pandas in a future version. Use pandas.concat instead.\n",
      "  Sat_data = Sat_data.append({\"Longitude\": longitude, \"Latitude\": latitude}, ignore_index=True)\n"
     ]
    },
    {
     "name": "stdout",
     "output_type": "stream",
     "text": [
      "Data received: {'timestamp': 1682640919, 'message': 'success', 'iss_position': {'latitude': '-47.3737', 'longitude': '-122.9767'}}\n"
     ]
    },
    {
     "name": "stderr",
     "output_type": "stream",
     "text": [
      "C:\\Users\\13018\\AppData\\Local\\Temp\\ipykernel_11600\\2340310863.py:10: FutureWarning: The frame.append method is deprecated and will be removed from pandas in a future version. Use pandas.concat instead.\n",
      "  Sat_data = Sat_data.append({\"Longitude\": longitude, \"Latitude\": latitude}, ignore_index=True)\n"
     ]
    },
    {
     "name": "stdout",
     "output_type": "stream",
     "text": [
      "Data received: {'timestamp': 1682640924, 'message': 'success', 'iss_position': {'latitude': '-47.5020', 'longitude': '-122.5589'}}\n"
     ]
    },
    {
     "name": "stderr",
     "output_type": "stream",
     "text": [
      "C:\\Users\\13018\\AppData\\Local\\Temp\\ipykernel_11600\\2340310863.py:10: FutureWarning: The frame.append method is deprecated and will be removed from pandas in a future version. Use pandas.concat instead.\n",
      "  Sat_data = Sat_data.append({\"Longitude\": longitude, \"Latitude\": latitude}, ignore_index=True)\n"
     ]
    },
    {
     "name": "stdout",
     "output_type": "stream",
     "text": [
      "Data received: {'timestamp': 1682640929, 'message': 'success', 'iss_position': {'latitude': '-47.6287', 'longitude': '-122.1390'}}\n"
     ]
    },
    {
     "name": "stderr",
     "output_type": "stream",
     "text": [
      "C:\\Users\\13018\\AppData\\Local\\Temp\\ipykernel_11600\\2340310863.py:10: FutureWarning: The frame.append method is deprecated and will be removed from pandas in a future version. Use pandas.concat instead.\n",
      "  Sat_data = Sat_data.append({\"Longitude\": longitude, \"Latitude\": latitude}, ignore_index=True)\n"
     ]
    },
    {
     "name": "stdout",
     "output_type": "stream",
     "text": [
      "Data received: {'timestamp': 1682640935, 'message': 'success', 'iss_position': {'latitude': '-47.7661', 'longitude': '-121.6745'}}\n"
     ]
    },
    {
     "name": "stderr",
     "output_type": "stream",
     "text": [
      "C:\\Users\\13018\\AppData\\Local\\Temp\\ipykernel_11600\\2340310863.py:10: FutureWarning: The frame.append method is deprecated and will be removed from pandas in a future version. Use pandas.concat instead.\n",
      "  Sat_data = Sat_data.append({\"Longitude\": longitude, \"Latitude\": latitude}, ignore_index=True)\n"
     ]
    },
    {
     "name": "stdout",
     "output_type": "stream",
     "text": [
      "Data received: {'timestamp': 1682640940, 'message': 'success', 'iss_position': {'latitude': '-47.8891', 'longitude': '-121.2501'}}\n"
     ]
    },
    {
     "name": "stderr",
     "output_type": "stream",
     "text": [
      "C:\\Users\\13018\\AppData\\Local\\Temp\\ipykernel_11600\\2340310863.py:10: FutureWarning: The frame.append method is deprecated and will be removed from pandas in a future version. Use pandas.concat instead.\n",
      "  Sat_data = Sat_data.append({\"Longitude\": longitude, \"Latitude\": latitude}, ignore_index=True)\n"
     ]
    },
    {
     "name": "stdout",
     "output_type": "stream",
     "text": [
      "Data received: {'timestamp': 1682640945, 'message': 'success', 'iss_position': {'latitude': '-48.0105', 'longitude': '-120.8236'}}\n"
     ]
    },
    {
     "name": "stderr",
     "output_type": "stream",
     "text": [
      "C:\\Users\\13018\\AppData\\Local\\Temp\\ipykernel_11600\\2340310863.py:10: FutureWarning: The frame.append method is deprecated and will be removed from pandas in a future version. Use pandas.concat instead.\n",
      "  Sat_data = Sat_data.append({\"Longitude\": longitude, \"Latitude\": latitude}, ignore_index=True)\n"
     ]
    },
    {
     "name": "stdout",
     "output_type": "stream",
     "text": [
      "Data received: {'timestamp': 1682640950, 'message': 'success', 'iss_position': {'latitude': '-48.1419', 'longitude': '-120.3520'}}\n"
     ]
    },
    {
     "name": "stderr",
     "output_type": "stream",
     "text": [
      "C:\\Users\\13018\\AppData\\Local\\Temp\\ipykernel_11600\\2340310863.py:10: FutureWarning: The frame.append method is deprecated and will be removed from pandas in a future version. Use pandas.concat instead.\n",
      "  Sat_data = Sat_data.append({\"Longitude\": longitude, \"Latitude\": latitude}, ignore_index=True)\n"
     ]
    },
    {
     "name": "stdout",
     "output_type": "stream",
     "text": [
      "Data received: {'timestamp': 1682640955, 'message': 'success', 'iss_position': {'latitude': '-48.2596', 'longitude': '-119.9211'}}\n"
     ]
    },
    {
     "name": "stderr",
     "output_type": "stream",
     "text": [
      "C:\\Users\\13018\\AppData\\Local\\Temp\\ipykernel_11600\\2340310863.py:10: FutureWarning: The frame.append method is deprecated and will be removed from pandas in a future version. Use pandas.concat instead.\n",
      "  Sat_data = Sat_data.append({\"Longitude\": longitude, \"Latitude\": latitude}, ignore_index=True)\n"
     ]
    },
    {
     "name": "stdout",
     "output_type": "stream",
     "text": [
      "Data received: {'timestamp': 1682640960, 'message': 'success', 'iss_position': {'latitude': '-48.3754', 'longitude': '-119.4882'}}\n"
     ]
    },
    {
     "name": "stderr",
     "output_type": "stream",
     "text": [
      "C:\\Users\\13018\\AppData\\Local\\Temp\\ipykernel_11600\\2340310863.py:10: FutureWarning: The frame.append method is deprecated and will be removed from pandas in a future version. Use pandas.concat instead.\n",
      "  Sat_data = Sat_data.append({\"Longitude\": longitude, \"Latitude\": latitude}, ignore_index=True)\n"
     ]
    },
    {
     "name": "stdout",
     "output_type": "stream",
     "text": [
      "Data received: {'timestamp': 1682640966, 'message': 'success', 'iss_position': {'latitude': '-48.5008', 'longitude': '-119.0096'}}\n"
     ]
    },
    {
     "name": "stderr",
     "output_type": "stream",
     "text": [
      "C:\\Users\\13018\\AppData\\Local\\Temp\\ipykernel_11600\\2340310863.py:10: FutureWarning: The frame.append method is deprecated and will be removed from pandas in a future version. Use pandas.concat instead.\n",
      "  Sat_data = Sat_data.append({\"Longitude\": longitude, \"Latitude\": latitude}, ignore_index=True)\n"
     ]
    },
    {
     "name": "stdout",
     "output_type": "stream",
     "text": [
      "Data received: {'timestamp': 1682640971, 'message': 'success', 'iss_position': {'latitude': '-48.6129', 'longitude': '-118.5724'}}\n"
     ]
    },
    {
     "name": "stderr",
     "output_type": "stream",
     "text": [
      "C:\\Users\\13018\\AppData\\Local\\Temp\\ipykernel_11600\\2340310863.py:10: FutureWarning: The frame.append method is deprecated and will be removed from pandas in a future version. Use pandas.concat instead.\n",
      "  Sat_data = Sat_data.append({\"Longitude\": longitude, \"Latitude\": latitude}, ignore_index=True)\n"
     ]
    },
    {
     "name": "stdout",
     "output_type": "stream",
     "text": [
      "Data received: {'timestamp': 1682640976, 'message': 'success', 'iss_position': {'latitude': '-48.7231', 'longitude': '-118.1331'}}\n"
     ]
    },
    {
     "name": "stderr",
     "output_type": "stream",
     "text": [
      "C:\\Users\\13018\\AppData\\Local\\Temp\\ipykernel_11600\\2340310863.py:10: FutureWarning: The frame.append method is deprecated and will be removed from pandas in a future version. Use pandas.concat instead.\n",
      "  Sat_data = Sat_data.append({\"Longitude\": longitude, \"Latitude\": latitude}, ignore_index=True)\n"
     ]
    },
    {
     "name": "stdout",
     "output_type": "stream",
     "text": [
      "Data received: {'timestamp': 1682640981, 'message': 'success', 'iss_position': {'latitude': '-48.8315', 'longitude': '-117.6918'}}\n"
     ]
    },
    {
     "name": "stderr",
     "output_type": "stream",
     "text": [
      "C:\\Users\\13018\\AppData\\Local\\Temp\\ipykernel_11600\\2340310863.py:10: FutureWarning: The frame.append method is deprecated and will be removed from pandas in a future version. Use pandas.concat instead.\n",
      "  Sat_data = Sat_data.append({\"Longitude\": longitude, \"Latitude\": latitude}, ignore_index=True)\n"
     ]
    },
    {
     "name": "stdout",
     "output_type": "stream",
     "text": [
      "Data received: {'timestamp': 1682640986, 'message': 'success', 'iss_position': {'latitude': '-48.9486', 'longitude': '-117.2040'}}\n"
     ]
    },
    {
     "name": "stderr",
     "output_type": "stream",
     "text": [
      "C:\\Users\\13018\\AppData\\Local\\Temp\\ipykernel_11600\\2340310863.py:10: FutureWarning: The frame.append method is deprecated and will be removed from pandas in a future version. Use pandas.concat instead.\n",
      "  Sat_data = Sat_data.append({\"Longitude\": longitude, \"Latitude\": latitude}, ignore_index=True)\n"
     ]
    },
    {
     "name": "stdout",
     "output_type": "stream",
     "text": [
      "Data received: {'timestamp': 1682640991, 'message': 'success', 'iss_position': {'latitude': '-49.0531', 'longitude': '-116.7585'}}\n"
     ]
    },
    {
     "name": "stderr",
     "output_type": "stream",
     "text": [
      "C:\\Users\\13018\\AppData\\Local\\Temp\\ipykernel_11600\\2340310863.py:10: FutureWarning: The frame.append method is deprecated and will be removed from pandas in a future version. Use pandas.concat instead.\n",
      "  Sat_data = Sat_data.append({\"Longitude\": longitude, \"Latitude\": latitude}, ignore_index=True)\n"
     ]
    },
    {
     "name": "stdout",
     "output_type": "stream",
     "text": [
      "Data received: {'timestamp': 1682640996, 'message': 'success', 'iss_position': {'latitude': '-49.1557', 'longitude': '-116.3112'}}\n"
     ]
    },
    {
     "name": "stderr",
     "output_type": "stream",
     "text": [
      "C:\\Users\\13018\\AppData\\Local\\Temp\\ipykernel_11600\\2340310863.py:10: FutureWarning: The frame.append method is deprecated and will be removed from pandas in a future version. Use pandas.concat instead.\n",
      "  Sat_data = Sat_data.append({\"Longitude\": longitude, \"Latitude\": latitude}, ignore_index=True)\n"
     ]
    },
    {
     "name": "stdout",
     "output_type": "stream",
     "text": [
      "Data received: {'timestamp': 1682641002, 'message': 'success', 'iss_position': {'latitude': '-49.2664', 'longitude': '-115.8168'}}\n"
     ]
    },
    {
     "name": "stderr",
     "output_type": "stream",
     "text": [
      "C:\\Users\\13018\\AppData\\Local\\Temp\\ipykernel_11600\\2340310863.py:10: FutureWarning: The frame.append method is deprecated and will be removed from pandas in a future version. Use pandas.concat instead.\n",
      "  Sat_data = Sat_data.append({\"Longitude\": longitude, \"Latitude\": latitude}, ignore_index=True)\n"
     ]
    },
    {
     "name": "stdout",
     "output_type": "stream",
     "text": [
      "Data received: {'timestamp': 1682641007, 'message': 'success', 'iss_position': {'latitude': '-49.3649', 'longitude': '-115.3655'}}\n"
     ]
    },
    {
     "name": "stderr",
     "output_type": "stream",
     "text": [
      "C:\\Users\\13018\\AppData\\Local\\Temp\\ipykernel_11600\\2340310863.py:10: FutureWarning: The frame.append method is deprecated and will be removed from pandas in a future version. Use pandas.concat instead.\n",
      "  Sat_data = Sat_data.append({\"Longitude\": longitude, \"Latitude\": latitude}, ignore_index=True)\n"
     ]
    },
    {
     "name": "stdout",
     "output_type": "stream",
     "text": [
      "Data received: {'timestamp': 1682641012, 'message': 'success', 'iss_position': {'latitude': '-49.4616', 'longitude': '-114.9120'}}\n"
     ]
    },
    {
     "name": "stderr",
     "output_type": "stream",
     "text": [
      "C:\\Users\\13018\\AppData\\Local\\Temp\\ipykernel_11600\\2340310863.py:10: FutureWarning: The frame.append method is deprecated and will be removed from pandas in a future version. Use pandas.concat instead.\n",
      "  Sat_data = Sat_data.append({\"Longitude\": longitude, \"Latitude\": latitude}, ignore_index=True)\n"
     ]
    },
    {
     "name": "stdout",
     "output_type": "stream",
     "text": [
      "Data received: {'timestamp': 1682641017, 'message': 'success', 'iss_position': {'latitude': '-49.5657', 'longitude': '-114.4113'}}\n"
     ]
    },
    {
     "name": "stderr",
     "output_type": "stream",
     "text": [
      "C:\\Users\\13018\\AppData\\Local\\Temp\\ipykernel_11600\\2340310863.py:10: FutureWarning: The frame.append method is deprecated and will be removed from pandas in a future version. Use pandas.concat instead.\n",
      "  Sat_data = Sat_data.append({\"Longitude\": longitude, \"Latitude\": latitude}, ignore_index=True)\n"
     ]
    },
    {
     "name": "stdout",
     "output_type": "stream",
     "text": [
      "Data received: {'timestamp': 1682641022, 'message': 'success', 'iss_position': {'latitude': '-49.6582', 'longitude': '-113.9541'}}\n"
     ]
    },
    {
     "name": "stderr",
     "output_type": "stream",
     "text": [
      "C:\\Users\\13018\\AppData\\Local\\Temp\\ipykernel_11600\\2340310863.py:10: FutureWarning: The frame.append method is deprecated and will be removed from pandas in a future version. Use pandas.concat instead.\n",
      "  Sat_data = Sat_data.append({\"Longitude\": longitude, \"Latitude\": latitude}, ignore_index=True)\n"
     ]
    },
    {
     "name": "stdout",
     "output_type": "stream",
     "text": [
      "Data received: {'timestamp': 1682641027, 'message': 'success', 'iss_position': {'latitude': '-49.7488', 'longitude': '-113.4951'}}\n"
     ]
    },
    {
     "name": "stderr",
     "output_type": "stream",
     "text": [
      "C:\\Users\\13018\\AppData\\Local\\Temp\\ipykernel_11600\\2340310863.py:10: FutureWarning: The frame.append method is deprecated and will be removed from pandas in a future version. Use pandas.concat instead.\n",
      "  Sat_data = Sat_data.append({\"Longitude\": longitude, \"Latitude\": latitude}, ignore_index=True)\n"
     ]
    },
    {
     "name": "stdout",
     "output_type": "stream",
     "text": [
      "Data received: {'timestamp': 1682641033, 'message': 'success', 'iss_position': {'latitude': '-49.8461', 'longitude': '-112.9879'}}\n"
     ]
    },
    {
     "name": "stderr",
     "output_type": "stream",
     "text": [
      "C:\\Users\\13018\\AppData\\Local\\Temp\\ipykernel_11600\\2340310863.py:10: FutureWarning: The frame.append method is deprecated and will be removed from pandas in a future version. Use pandas.concat instead.\n",
      "  Sat_data = Sat_data.append({\"Longitude\": longitude, \"Latitude\": latitude}, ignore_index=True)\n"
     ]
    },
    {
     "name": "stdout",
     "output_type": "stream",
     "text": [
      "Data received: {'timestamp': 1682641038, 'message': 'success', 'iss_position': {'latitude': '-49.9325', 'longitude': '-112.5253'}}\n"
     ]
    },
    {
     "name": "stderr",
     "output_type": "stream",
     "text": [
      "C:\\Users\\13018\\AppData\\Local\\Temp\\ipykernel_11600\\2340310863.py:10: FutureWarning: The frame.append method is deprecated and will be removed from pandas in a future version. Use pandas.concat instead.\n",
      "  Sat_data = Sat_data.append({\"Longitude\": longitude, \"Latitude\": latitude}, ignore_index=True)\n"
     ]
    },
    {
     "name": "stdout",
     "output_type": "stream",
     "text": [
      "Data received: {'timestamp': 1682641043, 'message': 'success', 'iss_position': {'latitude': '-50.0168', 'longitude': '-112.0610'}}\n"
     ]
    },
    {
     "name": "stderr",
     "output_type": "stream",
     "text": [
      "C:\\Users\\13018\\AppData\\Local\\Temp\\ipykernel_11600\\2340310863.py:10: FutureWarning: The frame.append method is deprecated and will be removed from pandas in a future version. Use pandas.concat instead.\n",
      "  Sat_data = Sat_data.append({\"Longitude\": longitude, \"Latitude\": latitude}, ignore_index=True)\n"
     ]
    },
    {
     "name": "stdout",
     "output_type": "stream",
     "text": [
      "Data received: {'timestamp': 1682641048, 'message': 'success', 'iss_position': {'latitude': '-50.1073', 'longitude': '-111.5482'}}\n"
     ]
    },
    {
     "name": "stderr",
     "output_type": "stream",
     "text": [
      "C:\\Users\\13018\\AppData\\Local\\Temp\\ipykernel_11600\\2340310863.py:10: FutureWarning: The frame.append method is deprecated and will be removed from pandas in a future version. Use pandas.concat instead.\n",
      "  Sat_data = Sat_data.append({\"Longitude\": longitude, \"Latitude\": latitude}, ignore_index=True)\n"
     ]
    },
    {
     "name": "stdout",
     "output_type": "stream",
     "text": [
      "Data received: {'timestamp': 1682641053, 'message': 'success', 'iss_position': {'latitude': '-50.1873', 'longitude': '-111.0803'}}\n"
     ]
    },
    {
     "name": "stderr",
     "output_type": "stream",
     "text": [
      "C:\\Users\\13018\\AppData\\Local\\Temp\\ipykernel_11600\\2340310863.py:10: FutureWarning: The frame.append method is deprecated and will be removed from pandas in a future version. Use pandas.concat instead.\n",
      "  Sat_data = Sat_data.append({\"Longitude\": longitude, \"Latitude\": latitude}, ignore_index=True)\n"
     ]
    },
    {
     "name": "stdout",
     "output_type": "stream",
     "text": [
      "Data received: {'timestamp': 1682641058, 'message': 'success', 'iss_position': {'latitude': '-50.2653', 'longitude': '-110.6108'}}\n"
     ]
    },
    {
     "name": "stderr",
     "output_type": "stream",
     "text": [
      "C:\\Users\\13018\\AppData\\Local\\Temp\\ipykernel_11600\\2340310863.py:10: FutureWarning: The frame.append method is deprecated and will be removed from pandas in a future version. Use pandas.concat instead.\n",
      "  Sat_data = Sat_data.append({\"Longitude\": longitude, \"Latitude\": latitude}, ignore_index=True)\n"
     ]
    },
    {
     "name": "stdout",
     "output_type": "stream",
     "text": [
      "Data received: {'timestamp': 1682641063, 'message': 'success', 'iss_position': {'latitude': '-50.3412', 'longitude': '-110.1398'}}\n"
     ]
    },
    {
     "name": "stderr",
     "output_type": "stream",
     "text": [
      "C:\\Users\\13018\\AppData\\Local\\Temp\\ipykernel_11600\\2340310863.py:10: FutureWarning: The frame.append method is deprecated and will be removed from pandas in a future version. Use pandas.concat instead.\n",
      "  Sat_data = Sat_data.append({\"Longitude\": longitude, \"Latitude\": latitude}, ignore_index=True)\n"
     ]
    },
    {
     "name": "stdout",
     "output_type": "stream",
     "text": [
      "Data received: {'timestamp': 1682641069, 'message': 'success', 'iss_position': {'latitude': '-50.4223', 'longitude': '-109.6199'}}\n"
     ]
    },
    {
     "name": "stderr",
     "output_type": "stream",
     "text": [
      "C:\\Users\\13018\\AppData\\Local\\Temp\\ipykernel_11600\\2340310863.py:10: FutureWarning: The frame.append method is deprecated and will be removed from pandas in a future version. Use pandas.concat instead.\n",
      "  Sat_data = Sat_data.append({\"Longitude\": longitude, \"Latitude\": latitude}, ignore_index=True)\n"
     ]
    },
    {
     "name": "stdout",
     "output_type": "stream",
     "text": [
      "Data received: {'timestamp': 1682641074, 'message': 'success', 'iss_position': {'latitude': '-50.4939', 'longitude': '-109.1454'}}\n"
     ]
    },
    {
     "name": "stderr",
     "output_type": "stream",
     "text": [
      "C:\\Users\\13018\\AppData\\Local\\Temp\\ipykernel_11600\\2340310863.py:10: FutureWarning: The frame.append method is deprecated and will be removed from pandas in a future version. Use pandas.concat instead.\n",
      "  Sat_data = Sat_data.append({\"Longitude\": longitude, \"Latitude\": latitude}, ignore_index=True)\n"
     ]
    },
    {
     "name": "stdout",
     "output_type": "stream",
     "text": [
      "Data received: {'timestamp': 1682641079, 'message': 'success', 'iss_position': {'latitude': '-50.5633', 'longitude': '-108.6697'}}\n"
     ]
    },
    {
     "name": "stderr",
     "output_type": "stream",
     "text": [
      "C:\\Users\\13018\\AppData\\Local\\Temp\\ipykernel_11600\\2340310863.py:10: FutureWarning: The frame.append method is deprecated and will be removed from pandas in a future version. Use pandas.concat instead.\n",
      "  Sat_data = Sat_data.append({\"Longitude\": longitude, \"Latitude\": latitude}, ignore_index=True)\n"
     ]
    },
    {
     "name": "stdout",
     "output_type": "stream",
     "text": [
      "Data received: {'timestamp': 1682641084, 'message': 'success', 'iss_position': {'latitude': '-50.6372', 'longitude': '-108.1446'}}\n"
     ]
    },
    {
     "name": "stderr",
     "output_type": "stream",
     "text": [
      "C:\\Users\\13018\\AppData\\Local\\Temp\\ipykernel_11600\\2340310863.py:10: FutureWarning: The frame.append method is deprecated and will be removed from pandas in a future version. Use pandas.concat instead.\n",
      "  Sat_data = Sat_data.append({\"Longitude\": longitude, \"Latitude\": latitude}, ignore_index=True)\n"
     ]
    },
    {
     "name": "stdout",
     "output_type": "stream",
     "text": [
      "Data received: {'timestamp': 1682641089, 'message': 'success', 'iss_position': {'latitude': '-50.7021', 'longitude': '-107.6659'}}\n"
     ]
    },
    {
     "name": "stderr",
     "output_type": "stream",
     "text": [
      "C:\\Users\\13018\\AppData\\Local\\Temp\\ipykernel_11600\\2340310863.py:10: FutureWarning: The frame.append method is deprecated and will be removed from pandas in a future version. Use pandas.concat instead.\n",
      "  Sat_data = Sat_data.append({\"Longitude\": longitude, \"Latitude\": latitude}, ignore_index=True)\n"
     ]
    },
    {
     "name": "stdout",
     "output_type": "stream",
     "text": [
      "Data received: {'timestamp': 1682641094, 'message': 'success', 'iss_position': {'latitude': '-50.7649', 'longitude': '-107.1857'}}\n"
     ]
    },
    {
     "name": "stderr",
     "output_type": "stream",
     "text": [
      "C:\\Users\\13018\\AppData\\Local\\Temp\\ipykernel_11600\\2340310863.py:10: FutureWarning: The frame.append method is deprecated and will be removed from pandas in a future version. Use pandas.concat instead.\n",
      "  Sat_data = Sat_data.append({\"Longitude\": longitude, \"Latitude\": latitude}, ignore_index=True)\n"
     ]
    },
    {
     "name": "stdout",
     "output_type": "stream",
     "text": [
      "Data received: {'timestamp': 1682641100, 'message': 'success', 'iss_position': {'latitude': '-50.8315', 'longitude': '-106.6560'}}\n"
     ]
    },
    {
     "name": "stderr",
     "output_type": "stream",
     "text": [
      "C:\\Users\\13018\\AppData\\Local\\Temp\\ipykernel_11600\\2340310863.py:10: FutureWarning: The frame.append method is deprecated and will be removed from pandas in a future version. Use pandas.concat instead.\n",
      "  Sat_data = Sat_data.append({\"Longitude\": longitude, \"Latitude\": latitude}, ignore_index=True)\n"
     ]
    },
    {
     "name": "stdout",
     "output_type": "stream",
     "text": [
      "Data received: {'timestamp': 1682641105, 'message': 'success', 'iss_position': {'latitude': '-50.8898', 'longitude': '-106.1732'}}\n"
     ]
    },
    {
     "name": "stderr",
     "output_type": "stream",
     "text": [
      "C:\\Users\\13018\\AppData\\Local\\Temp\\ipykernel_11600\\2340310863.py:10: FutureWarning: The frame.append method is deprecated and will be removed from pandas in a future version. Use pandas.concat instead.\n",
      "  Sat_data = Sat_data.append({\"Longitude\": longitude, \"Latitude\": latitude}, ignore_index=True)\n"
     ]
    },
    {
     "name": "stdout",
     "output_type": "stream",
     "text": [
      "Data received: {'timestamp': 1682641110, 'message': 'success', 'iss_position': {'latitude': '-50.9459', 'longitude': '-105.6892'}}\n"
     ]
    },
    {
     "name": "stderr",
     "output_type": "stream",
     "text": [
      "C:\\Users\\13018\\AppData\\Local\\Temp\\ipykernel_11600\\2340310863.py:10: FutureWarning: The frame.append method is deprecated and will be removed from pandas in a future version. Use pandas.concat instead.\n",
      "  Sat_data = Sat_data.append({\"Longitude\": longitude, \"Latitude\": latitude}, ignore_index=True)\n"
     ]
    },
    {
     "name": "stdout",
     "output_type": "stream",
     "text": [
      "Data received: {'timestamp': 1682641115, 'message': 'success', 'iss_position': {'latitude': '-51.0051', 'longitude': '-105.1553'}}\n"
     ]
    },
    {
     "name": "stderr",
     "output_type": "stream",
     "text": [
      "C:\\Users\\13018\\AppData\\Local\\Temp\\ipykernel_11600\\2340310863.py:10: FutureWarning: The frame.append method is deprecated and will be removed from pandas in a future version. Use pandas.concat instead.\n",
      "  Sat_data = Sat_data.append({\"Longitude\": longitude, \"Latitude\": latitude}, ignore_index=True)\n"
     ]
    },
    {
     "name": "stdout",
     "output_type": "stream",
     "text": [
      "Data received: {'timestamp': 1682641120, 'message': 'success', 'iss_position': {'latitude': '-51.0565', 'longitude': '-104.6688'}}\n"
     ]
    },
    {
     "name": "stderr",
     "output_type": "stream",
     "text": [
      "C:\\Users\\13018\\AppData\\Local\\Temp\\ipykernel_11600\\2340310863.py:10: FutureWarning: The frame.append method is deprecated and will be removed from pandas in a future version. Use pandas.concat instead.\n",
      "  Sat_data = Sat_data.append({\"Longitude\": longitude, \"Latitude\": latitude}, ignore_index=True)\n"
     ]
    },
    {
     "name": "stdout",
     "output_type": "stream",
     "text": [
      "Data received: {'timestamp': 1682641125, 'message': 'success', 'iss_position': {'latitude': '-51.1058', 'longitude': '-104.1812'}}\n"
     ]
    },
    {
     "name": "stderr",
     "output_type": "stream",
     "text": [
      "C:\\Users\\13018\\AppData\\Local\\Temp\\ipykernel_11600\\2340310863.py:10: FutureWarning: The frame.append method is deprecated and will be removed from pandas in a future version. Use pandas.concat instead.\n",
      "  Sat_data = Sat_data.append({\"Longitude\": longitude, \"Latitude\": latitude}, ignore_index=True)\n"
     ]
    },
    {
     "name": "stdout",
     "output_type": "stream",
     "text": [
      "Data received: {'timestamp': 1682641130, 'message': 'success', 'iss_position': {'latitude': '-51.1529', 'longitude': '-103.6924'}}\n"
     ]
    },
    {
     "name": "stderr",
     "output_type": "stream",
     "text": [
      "C:\\Users\\13018\\AppData\\Local\\Temp\\ipykernel_11600\\2340310863.py:10: FutureWarning: The frame.append method is deprecated and will be removed from pandas in a future version. Use pandas.concat instead.\n",
      "  Sat_data = Sat_data.append({\"Longitude\": longitude, \"Latitude\": latitude}, ignore_index=True)\n"
     ]
    },
    {
     "name": "stdout",
     "output_type": "stream",
     "text": [
      "Data received: {'timestamp': 1682641136, 'message': 'success', 'iss_position': {'latitude': '-51.2021', 'longitude': '-103.1537'}}\n"
     ]
    },
    {
     "name": "stderr",
     "output_type": "stream",
     "text": [
      "C:\\Users\\13018\\AppData\\Local\\Temp\\ipykernel_11600\\2340310863.py:10: FutureWarning: The frame.append method is deprecated and will be removed from pandas in a future version. Use pandas.concat instead.\n",
      "  Sat_data = Sat_data.append({\"Longitude\": longitude, \"Latitude\": latitude}, ignore_index=True)\n"
     ]
    },
    {
     "name": "stdout",
     "output_type": "stream",
     "text": [
      "Data received: {'timestamp': 1682641141, 'message': 'success', 'iss_position': {'latitude': '-51.2445', 'longitude': '-102.6628'}}\n"
     ]
    },
    {
     "name": "stderr",
     "output_type": "stream",
     "text": [
      "C:\\Users\\13018\\AppData\\Local\\Temp\\ipykernel_11600\\2340310863.py:10: FutureWarning: The frame.append method is deprecated and will be removed from pandas in a future version. Use pandas.concat instead.\n",
      "  Sat_data = Sat_data.append({\"Longitude\": longitude, \"Latitude\": latitude}, ignore_index=True)\n"
     ]
    },
    {
     "name": "stdout",
     "output_type": "stream",
     "text": [
      "Data received: {'timestamp': 1682641146, 'message': 'success', 'iss_position': {'latitude': '-51.2847', 'longitude': '-102.1712'}}\n"
     ]
    },
    {
     "name": "stderr",
     "output_type": "stream",
     "text": [
      "C:\\Users\\13018\\AppData\\Local\\Temp\\ipykernel_11600\\2340310863.py:10: FutureWarning: The frame.append method is deprecated and will be removed from pandas in a future version. Use pandas.concat instead.\n",
      "  Sat_data = Sat_data.append({\"Longitude\": longitude, \"Latitude\": latitude}, ignore_index=True)\n"
     ]
    },
    {
     "name": "stdout",
     "output_type": "stream",
     "text": [
      "Data received: {'timestamp': 1682641151, 'message': 'success', 'iss_position': {'latitude': '-51.3263', 'longitude': '-101.6292'}}\n"
     ]
    },
    {
     "name": "stderr",
     "output_type": "stream",
     "text": [
      "C:\\Users\\13018\\AppData\\Local\\Temp\\ipykernel_11600\\2340310863.py:10: FutureWarning: The frame.append method is deprecated and will be removed from pandas in a future version. Use pandas.concat instead.\n",
      "  Sat_data = Sat_data.append({\"Longitude\": longitude, \"Latitude\": latitude}, ignore_index=True)\n"
     ]
    },
    {
     "name": "stdout",
     "output_type": "stream",
     "text": [
      "Data received: {'timestamp': 1682641156, 'message': 'success', 'iss_position': {'latitude': '-51.3617', 'longitude': '-101.1358'}}\n"
     ]
    },
    {
     "name": "stderr",
     "output_type": "stream",
     "text": [
      "C:\\Users\\13018\\AppData\\Local\\Temp\\ipykernel_11600\\2340310863.py:10: FutureWarning: The frame.append method is deprecated and will be removed from pandas in a future version. Use pandas.concat instead.\n",
      "  Sat_data = Sat_data.append({\"Longitude\": longitude, \"Latitude\": latitude}, ignore_index=True)\n"
     ]
    },
    {
     "name": "stdout",
     "output_type": "stream",
     "text": [
      "Data received: {'timestamp': 1682641161, 'message': 'success', 'iss_position': {'latitude': '-51.3949', 'longitude': '-100.6415'}}\n"
     ]
    },
    {
     "name": "stderr",
     "output_type": "stream",
     "text": [
      "C:\\Users\\13018\\AppData\\Local\\Temp\\ipykernel_11600\\2340310863.py:10: FutureWarning: The frame.append method is deprecated and will be removed from pandas in a future version. Use pandas.concat instead.\n",
      "  Sat_data = Sat_data.append({\"Longitude\": longitude, \"Latitude\": latitude}, ignore_index=True)\n"
     ]
    },
    {
     "name": "stdout",
     "output_type": "stream",
     "text": [
      "Data received: {'timestamp': 1682641167, 'message': 'success', 'iss_position': {'latitude': '-51.4288', 'longitude': '-100.0969'}}\n"
     ]
    },
    {
     "name": "stderr",
     "output_type": "stream",
     "text": [
      "C:\\Users\\13018\\AppData\\Local\\Temp\\ipykernel_11600\\2340310863.py:10: FutureWarning: The frame.append method is deprecated and will be removed from pandas in a future version. Use pandas.concat instead.\n",
      "  Sat_data = Sat_data.append({\"Longitude\": longitude, \"Latitude\": latitude}, ignore_index=True)\n"
     ]
    },
    {
     "name": "stdout",
     "output_type": "stream",
     "text": [
      "Data received: {'timestamp': 1682641172, 'message': 'success', 'iss_position': {'latitude': '-51.4572', 'longitude': '-99.6012'}}\n"
     ]
    },
    {
     "name": "stderr",
     "output_type": "stream",
     "text": [
      "C:\\Users\\13018\\AppData\\Local\\Temp\\ipykernel_11600\\2340310863.py:10: FutureWarning: The frame.append method is deprecated and will be removed from pandas in a future version. Use pandas.concat instead.\n",
      "  Sat_data = Sat_data.append({\"Longitude\": longitude, \"Latitude\": latitude}, ignore_index=True)\n"
     ]
    },
    {
     "name": "stdout",
     "output_type": "stream",
     "text": [
      "Data received: {'timestamp': 1682641177, 'message': 'success', 'iss_position': {'latitude': '-51.4833', 'longitude': '-99.1049'}}\n"
     ]
    },
    {
     "name": "stderr",
     "output_type": "stream",
     "text": [
      "C:\\Users\\13018\\AppData\\Local\\Temp\\ipykernel_11600\\2340310863.py:10: FutureWarning: The frame.append method is deprecated and will be removed from pandas in a future version. Use pandas.concat instead.\n",
      "  Sat_data = Sat_data.append({\"Longitude\": longitude, \"Latitude\": latitude}, ignore_index=True)\n"
     ]
    },
    {
     "name": "stdout",
     "output_type": "stream",
     "text": [
      "Data received: {'timestamp': 1682641182, 'message': 'success', 'iss_position': {'latitude': '-51.5094', 'longitude': '-98.5583'}}\n"
     ]
    },
    {
     "name": "stderr",
     "output_type": "stream",
     "text": [
      "C:\\Users\\13018\\AppData\\Local\\Temp\\ipykernel_11600\\2340310863.py:10: FutureWarning: The frame.append method is deprecated and will be removed from pandas in a future version. Use pandas.concat instead.\n",
      "  Sat_data = Sat_data.append({\"Longitude\": longitude, \"Latitude\": latitude}, ignore_index=True)\n"
     ]
    },
    {
     "name": "stdout",
     "output_type": "stream",
     "text": [
      "Data received: {'timestamp': 1682641187, 'message': 'success', 'iss_position': {'latitude': '-51.5308', 'longitude': '-98.0609'}}\n"
     ]
    },
    {
     "name": "stderr",
     "output_type": "stream",
     "text": [
      "C:\\Users\\13018\\AppData\\Local\\Temp\\ipykernel_11600\\2340310863.py:10: FutureWarning: The frame.append method is deprecated and will be removed from pandas in a future version. Use pandas.concat instead.\n",
      "  Sat_data = Sat_data.append({\"Longitude\": longitude, \"Latitude\": latitude}, ignore_index=True)\n"
     ]
    },
    {
     "name": "stdout",
     "output_type": "stream",
     "text": [
      "Data received: {'timestamp': 1682641192, 'message': 'success', 'iss_position': {'latitude': '-51.5499', 'longitude': '-97.5630'}}\n"
     ]
    },
    {
     "name": "stderr",
     "output_type": "stream",
     "text": [
      "C:\\Users\\13018\\AppData\\Local\\Temp\\ipykernel_11600\\2340310863.py:10: FutureWarning: The frame.append method is deprecated and will be removed from pandas in a future version. Use pandas.concat instead.\n",
      "  Sat_data = Sat_data.append({\"Longitude\": longitude, \"Latitude\": latitude}, ignore_index=True)\n"
     ]
    },
    {
     "name": "stdout",
     "output_type": "stream",
     "text": [
      "Data received: {'timestamp': 1682641197, 'message': 'success', 'iss_position': {'latitude': '-51.5666', 'longitude': '-97.0648'}}\n"
     ]
    },
    {
     "name": "stderr",
     "output_type": "stream",
     "text": [
      "C:\\Users\\13018\\AppData\\Local\\Temp\\ipykernel_11600\\2340310863.py:10: FutureWarning: The frame.append method is deprecated and will be removed from pandas in a future version. Use pandas.concat instead.\n",
      "  Sat_data = Sat_data.append({\"Longitude\": longitude, \"Latitude\": latitude}, ignore_index=True)\n"
     ]
    },
    {
     "name": "stdout",
     "output_type": "stream",
     "text": [
      "Data received: {'timestamp': 1682641203, 'message': 'success', 'iss_position': {'latitude': '-51.5824', 'longitude': '-96.5162'}}\n"
     ]
    },
    {
     "name": "stderr",
     "output_type": "stream",
     "text": [
      "C:\\Users\\13018\\AppData\\Local\\Temp\\ipykernel_11600\\2340310863.py:10: FutureWarning: The frame.append method is deprecated and will be removed from pandas in a future version. Use pandas.concat instead.\n",
      "  Sat_data = Sat_data.append({\"Longitude\": longitude, \"Latitude\": latitude}, ignore_index=True)\n"
     ]
    },
    {
     "name": "stdout",
     "output_type": "stream",
     "text": [
      "Data received: {'timestamp': 1682641208, 'message': 'success', 'iss_position': {'latitude': '-51.5944', 'longitude': '-96.0172'}}\n"
     ]
    },
    {
     "name": "stderr",
     "output_type": "stream",
     "text": [
      "C:\\Users\\13018\\AppData\\Local\\Temp\\ipykernel_11600\\2340310863.py:10: FutureWarning: The frame.append method is deprecated and will be removed from pandas in a future version. Use pandas.concat instead.\n",
      "  Sat_data = Sat_data.append({\"Longitude\": longitude, \"Latitude\": latitude}, ignore_index=True)\n"
     ]
    },
    {
     "name": "stdout",
     "output_type": "stream",
     "text": [
      "Data received: {'timestamp': 1682641213, 'message': 'success', 'iss_position': {'latitude': '-51.6040', 'longitude': '-95.5180'}}\n"
     ]
    },
    {
     "name": "stderr",
     "output_type": "stream",
     "text": [
      "C:\\Users\\13018\\AppData\\Local\\Temp\\ipykernel_11600\\2340310863.py:10: FutureWarning: The frame.append method is deprecated and will be removed from pandas in a future version. Use pandas.concat instead.\n",
      "  Sat_data = Sat_data.append({\"Longitude\": longitude, \"Latitude\": latitude}, ignore_index=True)\n"
     ]
    },
    {
     "name": "stdout",
     "output_type": "stream",
     "text": [
      "Data received: {'timestamp': 1682641218, 'message': 'success', 'iss_position': {'latitude': '-51.6119', 'longitude': '-94.9686'}}\n"
     ]
    },
    {
     "name": "stderr",
     "output_type": "stream",
     "text": [
      "C:\\Users\\13018\\AppData\\Local\\Temp\\ipykernel_11600\\2340310863.py:10: FutureWarning: The frame.append method is deprecated and will be removed from pandas in a future version. Use pandas.concat instead.\n",
      "  Sat_data = Sat_data.append({\"Longitude\": longitude, \"Latitude\": latitude}, ignore_index=True)\n"
     ]
    },
    {
     "name": "stdout",
     "output_type": "stream",
     "text": [
      "Data received: {'timestamp': 1682641223, 'message': 'success', 'iss_position': {'latitude': '-51.6168', 'longitude': '-94.4689'}}\n"
     ]
    },
    {
     "name": "stderr",
     "output_type": "stream",
     "text": [
      "C:\\Users\\13018\\AppData\\Local\\Temp\\ipykernel_11600\\2340310863.py:10: FutureWarning: The frame.append method is deprecated and will be removed from pandas in a future version. Use pandas.concat instead.\n",
      "  Sat_data = Sat_data.append({\"Longitude\": longitude, \"Latitude\": latitude}, ignore_index=True)\n"
     ]
    },
    {
     "name": "stdout",
     "output_type": "stream",
     "text": [
      "Data received: {'timestamp': 1682641228, 'message': 'success', 'iss_position': {'latitude': '-51.6193', 'longitude': '-93.9693'}}\n"
     ]
    },
    {
     "name": "stderr",
     "output_type": "stream",
     "text": [
      "C:\\Users\\13018\\AppData\\Local\\Temp\\ipykernel_11600\\2340310863.py:10: FutureWarning: The frame.append method is deprecated and will be removed from pandas in a future version. Use pandas.concat instead.\n",
      "  Sat_data = Sat_data.append({\"Longitude\": longitude, \"Latitude\": latitude}, ignore_index=True)\n"
     ]
    },
    {
     "name": "stdout",
     "output_type": "stream",
     "text": [
      "Data received: {'timestamp': 1682641234, 'message': 'success', 'iss_position': {'latitude': '-51.6193', 'longitude': '-93.4196'}}\n"
     ]
    },
    {
     "name": "stderr",
     "output_type": "stream",
     "text": [
      "C:\\Users\\13018\\AppData\\Local\\Temp\\ipykernel_11600\\2340310863.py:10: FutureWarning: The frame.append method is deprecated and will be removed from pandas in a future version. Use pandas.concat instead.\n",
      "  Sat_data = Sat_data.append({\"Longitude\": longitude, \"Latitude\": latitude}, ignore_index=True)\n"
     ]
    },
    {
     "name": "stdout",
     "output_type": "stream",
     "text": [
      "Data received: {'timestamp': 1682641239, 'message': 'success', 'iss_position': {'latitude': '-51.6170', 'longitude': '-92.9199'}}\n"
     ]
    },
    {
     "name": "stderr",
     "output_type": "stream",
     "text": [
      "C:\\Users\\13018\\AppData\\Local\\Temp\\ipykernel_11600\\2340310863.py:10: FutureWarning: The frame.append method is deprecated and will be removed from pandas in a future version. Use pandas.concat instead.\n",
      "  Sat_data = Sat_data.append({\"Longitude\": longitude, \"Latitude\": latitude}, ignore_index=True)\n"
     ]
    },
    {
     "name": "stdout",
     "output_type": "stream",
     "text": [
      "Data received: {'timestamp': 1682641244, 'message': 'success', 'iss_position': {'latitude': '-51.6124', 'longitude': '-92.4204'}}\n"
     ]
    },
    {
     "name": "stderr",
     "output_type": "stream",
     "text": [
      "C:\\Users\\13018\\AppData\\Local\\Temp\\ipykernel_11600\\2340310863.py:10: FutureWarning: The frame.append method is deprecated and will be removed from pandas in a future version. Use pandas.concat instead.\n",
      "  Sat_data = Sat_data.append({\"Longitude\": longitude, \"Latitude\": latitude}, ignore_index=True)\n"
     ]
    },
    {
     "name": "stdout",
     "output_type": "stream",
     "text": [
      "Data received: {'timestamp': 1682641250, 'message': 'success', 'iss_position': {'latitude': '-51.6046', 'longitude': '-91.8710'}}\n"
     ]
    },
    {
     "name": "stderr",
     "output_type": "stream",
     "text": [
      "C:\\Users\\13018\\AppData\\Local\\Temp\\ipykernel_11600\\2340310863.py:10: FutureWarning: The frame.append method is deprecated and will be removed from pandas in a future version. Use pandas.concat instead.\n",
      "  Sat_data = Sat_data.append({\"Longitude\": longitude, \"Latitude\": latitude}, ignore_index=True)\n"
     ]
    },
    {
     "name": "stdout",
     "output_type": "stream",
     "text": [
      "Data received: {'timestamp': 1682641255, 'message': 'success', 'iss_position': {'latitude': '-51.5951', 'longitude': '-91.3718'}}\n"
     ]
    },
    {
     "name": "stderr",
     "output_type": "stream",
     "text": [
      "C:\\Users\\13018\\AppData\\Local\\Temp\\ipykernel_11600\\2340310863.py:10: FutureWarning: The frame.append method is deprecated and will be removed from pandas in a future version. Use pandas.concat instead.\n",
      "  Sat_data = Sat_data.append({\"Longitude\": longitude, \"Latitude\": latitude}, ignore_index=True)\n"
     ]
    },
    {
     "name": "stdout",
     "output_type": "stream",
     "text": [
      "Data received: {'timestamp': 1682641260, 'message': 'success', 'iss_position': {'latitude': '-51.5833', 'longitude': '-90.8728'}}\n"
     ]
    },
    {
     "name": "stderr",
     "output_type": "stream",
     "text": [
      "C:\\Users\\13018\\AppData\\Local\\Temp\\ipykernel_11600\\2340310863.py:10: FutureWarning: The frame.append method is deprecated and will be removed from pandas in a future version. Use pandas.concat instead.\n",
      "  Sat_data = Sat_data.append({\"Longitude\": longitude, \"Latitude\": latitude}, ignore_index=True)\n"
     ]
    },
    {
     "name": "stdout",
     "output_type": "stream",
     "text": [
      "Data received: {'timestamp': 1682641265, 'message': 'success', 'iss_position': {'latitude': '-51.5677', 'longitude': '-90.3242'}}\n"
     ]
    },
    {
     "name": "stderr",
     "output_type": "stream",
     "text": [
      "C:\\Users\\13018\\AppData\\Local\\Temp\\ipykernel_11600\\2340310863.py:10: FutureWarning: The frame.append method is deprecated and will be removed from pandas in a future version. Use pandas.concat instead.\n",
      "  Sat_data = Sat_data.append({\"Longitude\": longitude, \"Latitude\": latitude}, ignore_index=True)\n"
     ]
    },
    {
     "name": "stdout",
     "output_type": "stream",
     "text": [
      "Data received: {'timestamp': 1682641270, 'message': 'success', 'iss_position': {'latitude': '-51.5511', 'longitude': '-89.8258'}}\n"
     ]
    },
    {
     "name": "stderr",
     "output_type": "stream",
     "text": [
      "C:\\Users\\13018\\AppData\\Local\\Temp\\ipykernel_11600\\2340310863.py:10: FutureWarning: The frame.append method is deprecated and will be removed from pandas in a future version. Use pandas.concat instead.\n",
      "  Sat_data = Sat_data.append({\"Longitude\": longitude, \"Latitude\": latitude}, ignore_index=True)\n"
     ]
    },
    {
     "name": "stdout",
     "output_type": "stream",
     "text": [
      "Data received: {'timestamp': 1682641275, 'message': 'success', 'iss_position': {'latitude': '-51.5322', 'longitude': '-89.3280'}}\n"
     ]
    },
    {
     "name": "stderr",
     "output_type": "stream",
     "text": [
      "C:\\Users\\13018\\AppData\\Local\\Temp\\ipykernel_11600\\2340310863.py:10: FutureWarning: The frame.append method is deprecated and will be removed from pandas in a future version. Use pandas.concat instead.\n",
      "  Sat_data = Sat_data.append({\"Longitude\": longitude, \"Latitude\": latitude}, ignore_index=True)\n"
     ]
    },
    {
     "name": "stdout",
     "output_type": "stream",
     "text": [
      "Data received: {'timestamp': 1682641281, 'message': 'success', 'iss_position': {'latitude': '-51.5088', 'longitude': '-88.7807'}}\n"
     ]
    },
    {
     "name": "stderr",
     "output_type": "stream",
     "text": [
      "C:\\Users\\13018\\AppData\\Local\\Temp\\ipykernel_11600\\2340310863.py:10: FutureWarning: The frame.append method is deprecated and will be removed from pandas in a future version. Use pandas.concat instead.\n",
      "  Sat_data = Sat_data.append({\"Longitude\": longitude, \"Latitude\": latitude}, ignore_index=True)\n"
     ]
    },
    {
     "name": "stdout",
     "output_type": "stream",
     "text": [
      "Data received: {'timestamp': 1682641286, 'message': 'success', 'iss_position': {'latitude': '-51.4851', 'longitude': '-88.2838'}}\n"
     ]
    },
    {
     "name": "stderr",
     "output_type": "stream",
     "text": [
      "C:\\Users\\13018\\AppData\\Local\\Temp\\ipykernel_11600\\2340310863.py:10: FutureWarning: The frame.append method is deprecated and will be removed from pandas in a future version. Use pandas.concat instead.\n",
      "  Sat_data = Sat_data.append({\"Longitude\": longitude, \"Latitude\": latitude}, ignore_index=True)\n"
     ]
    },
    {
     "name": "stdout",
     "output_type": "stream",
     "text": [
      "Data received: {'timestamp': 1682641291, 'message': 'success', 'iss_position': {'latitude': '-51.4591', 'longitude': '-87.7875'}}\n"
     ]
    },
    {
     "name": "stderr",
     "output_type": "stream",
     "text": [
      "C:\\Users\\13018\\AppData\\Local\\Temp\\ipykernel_11600\\2340310863.py:10: FutureWarning: The frame.append method is deprecated and will be removed from pandas in a future version. Use pandas.concat instead.\n",
      "  Sat_data = Sat_data.append({\"Longitude\": longitude, \"Latitude\": latitude}, ignore_index=True)\n"
     ]
    },
    {
     "name": "stdout",
     "output_type": "stream",
     "text": [
      "Data received: {'timestamp': 1682641296, 'message': 'success', 'iss_position': {'latitude': '-51.4309', 'longitude': '-87.2917'}}\n"
     ]
    },
    {
     "name": "stderr",
     "output_type": "stream",
     "text": [
      "C:\\Users\\13018\\AppData\\Local\\Temp\\ipykernel_11600\\2340310863.py:10: FutureWarning: The frame.append method is deprecated and will be removed from pandas in a future version. Use pandas.concat instead.\n",
      "  Sat_data = Sat_data.append({\"Longitude\": longitude, \"Latitude\": latitude}, ignore_index=True)\n"
     ]
    },
    {
     "name": "stdout",
     "output_type": "stream",
     "text": [
      "Data received: {'timestamp': 1682641301, 'message': 'success', 'iss_position': {'latitude': '-51.3972', 'longitude': '-86.7473'}}\n"
     ]
    },
    {
     "name": "stderr",
     "output_type": "stream",
     "text": [
      "C:\\Users\\13018\\AppData\\Local\\Temp\\ipykernel_11600\\2340310863.py:10: FutureWarning: The frame.append method is deprecated and will be removed from pandas in a future version. Use pandas.concat instead.\n",
      "  Sat_data = Sat_data.append({\"Longitude\": longitude, \"Latitude\": latitude}, ignore_index=True)\n"
     ]
    },
    {
     "name": "stdout",
     "output_type": "stream",
     "text": [
      "Data received: {'timestamp': 1682641306, 'message': 'success', 'iss_position': {'latitude': '-51.3642', 'longitude': '-86.2530'}}\n"
     ]
    },
    {
     "name": "stderr",
     "output_type": "stream",
     "text": [
      "C:\\Users\\13018\\AppData\\Local\\Temp\\ipykernel_11600\\2340310863.py:10: FutureWarning: The frame.append method is deprecated and will be removed from pandas in a future version. Use pandas.concat instead.\n",
      "  Sat_data = Sat_data.append({\"Longitude\": longitude, \"Latitude\": latitude}, ignore_index=True)\n"
     ]
    },
    {
     "name": "stdout",
     "output_type": "stream",
     "text": [
      "Data received: {'timestamp': 1682641311, 'message': 'success', 'iss_position': {'latitude': '-51.3289', 'longitude': '-85.7595'}}\n"
     ]
    },
    {
     "name": "stderr",
     "output_type": "stream",
     "text": [
      "C:\\Users\\13018\\AppData\\Local\\Temp\\ipykernel_11600\\2340310863.py:10: FutureWarning: The frame.append method is deprecated and will be removed from pandas in a future version. Use pandas.concat instead.\n",
      "  Sat_data = Sat_data.append({\"Longitude\": longitude, \"Latitude\": latitude}, ignore_index=True)\n"
     ]
    },
    {
     "name": "stdout",
     "output_type": "stream",
     "text": [
      "Data received: {'timestamp': 1682641317, 'message': 'success', 'iss_position': {'latitude': '-51.2875', 'longitude': '-85.2177'}}\n"
     ]
    },
    {
     "name": "stderr",
     "output_type": "stream",
     "text": [
      "C:\\Users\\13018\\AppData\\Local\\Temp\\ipykernel_11600\\2340310863.py:10: FutureWarning: The frame.append method is deprecated and will be removed from pandas in a future version. Use pandas.concat instead.\n",
      "  Sat_data = Sat_data.append({\"Longitude\": longitude, \"Latitude\": latitude}, ignore_index=True)\n"
     ]
    },
    {
     "name": "stdout",
     "output_type": "stream",
     "text": [
      "Data received: {'timestamp': 1682641322, 'message': 'success', 'iss_position': {'latitude': '-51.2475', 'longitude': '-84.7260'}}\n"
     ]
    },
    {
     "name": "stderr",
     "output_type": "stream",
     "text": [
      "C:\\Users\\13018\\AppData\\Local\\Temp\\ipykernel_11600\\2340310863.py:10: FutureWarning: The frame.append method is deprecated and will be removed from pandas in a future version. Use pandas.concat instead.\n",
      "  Sat_data = Sat_data.append({\"Longitude\": longitude, \"Latitude\": latitude}, ignore_index=True)\n"
     ]
    },
    {
     "name": "stdout",
     "output_type": "stream",
     "text": [
      "Data received: {'timestamp': 1682641327, 'message': 'success', 'iss_position': {'latitude': '-51.2053', 'longitude': '-84.2351'}}\n"
     ]
    },
    {
     "name": "stderr",
     "output_type": "stream",
     "text": [
      "C:\\Users\\13018\\AppData\\Local\\Temp\\ipykernel_11600\\2340310863.py:10: FutureWarning: The frame.append method is deprecated and will be removed from pandas in a future version. Use pandas.concat instead.\n",
      "  Sat_data = Sat_data.append({\"Longitude\": longitude, \"Latitude\": latitude}, ignore_index=True)\n"
     ]
    },
    {
     "name": "stdout",
     "output_type": "stream",
     "text": [
      "Data received: {'timestamp': 1682641332, 'message': 'success', 'iss_position': {'latitude': '-51.1562', 'longitude': '-83.6963'}}\n"
     ]
    },
    {
     "name": "stderr",
     "output_type": "stream",
     "text": [
      "C:\\Users\\13018\\AppData\\Local\\Temp\\ipykernel_11600\\2340310863.py:10: FutureWarning: The frame.append method is deprecated and will be removed from pandas in a future version. Use pandas.concat instead.\n",
      "  Sat_data = Sat_data.append({\"Longitude\": longitude, \"Latitude\": latitude}, ignore_index=True)\n"
     ]
    },
    {
     "name": "stdout",
     "output_type": "stream",
     "text": [
      "Data received: {'timestamp': 1682641337, 'message': 'success', 'iss_position': {'latitude': '-51.1093', 'longitude': '-83.2076'}}\n"
     ]
    },
    {
     "name": "stderr",
     "output_type": "stream",
     "text": [
      "C:\\Users\\13018\\AppData\\Local\\Temp\\ipykernel_11600\\2340310863.py:10: FutureWarning: The frame.append method is deprecated and will be removed from pandas in a future version. Use pandas.concat instead.\n",
      "  Sat_data = Sat_data.append({\"Longitude\": longitude, \"Latitude\": latitude}, ignore_index=True)\n"
     ]
    },
    {
     "name": "stdout",
     "output_type": "stream",
     "text": [
      "Data received: {'timestamp': 1682641342, 'message': 'success', 'iss_position': {'latitude': '-51.0602', 'longitude': '-82.7200'}}\n"
     ]
    },
    {
     "name": "stderr",
     "output_type": "stream",
     "text": [
      "C:\\Users\\13018\\AppData\\Local\\Temp\\ipykernel_11600\\2340310863.py:10: FutureWarning: The frame.append method is deprecated and will be removed from pandas in a future version. Use pandas.concat instead.\n",
      "  Sat_data = Sat_data.append({\"Longitude\": longitude, \"Latitude\": latitude}, ignore_index=True)\n"
     ]
    },
    {
     "name": "stdout",
     "output_type": "stream",
     "text": [
      "Data received: {'timestamp': 1682641347, 'message': 'success', 'iss_position': {'latitude': '-51.0089', 'longitude': '-82.2334'}}\n"
     ]
    },
    {
     "name": "stderr",
     "output_type": "stream",
     "text": [
      "C:\\Users\\13018\\AppData\\Local\\Temp\\ipykernel_11600\\2340310863.py:10: FutureWarning: The frame.append method is deprecated and will be removed from pandas in a future version. Use pandas.concat instead.\n",
      "  Sat_data = Sat_data.append({\"Longitude\": longitude, \"Latitude\": latitude}, ignore_index=True)\n"
     ]
    },
    {
     "name": "stdout",
     "output_type": "stream",
     "text": [
      "Data received: {'timestamp': 1682641353, 'message': 'success', 'iss_position': {'latitude': '-50.9499', 'longitude': '-81.6996'}}\n"
     ]
    },
    {
     "name": "stderr",
     "output_type": "stream",
     "text": [
      "C:\\Users\\13018\\AppData\\Local\\Temp\\ipykernel_11600\\2340310863.py:10: FutureWarning: The frame.append method is deprecated and will be removed from pandas in a future version. Use pandas.concat instead.\n",
      "  Sat_data = Sat_data.append({\"Longitude\": longitude, \"Latitude\": latitude}, ignore_index=True)\n"
     ]
    },
    {
     "name": "stdout",
     "output_type": "stream",
     "text": [
      "Data received: {'timestamp': 1682641358, 'message': 'success', 'iss_position': {'latitude': '-50.8940', 'longitude': '-81.2155'}}\n"
     ]
    },
    {
     "name": "stderr",
     "output_type": "stream",
     "text": [
      "C:\\Users\\13018\\AppData\\Local\\Temp\\ipykernel_11600\\2340310863.py:10: FutureWarning: The frame.append method is deprecated and will be removed from pandas in a future version. Use pandas.concat instead.\n",
      "  Sat_data = Sat_data.append({\"Longitude\": longitude, \"Latitude\": latitude}, ignore_index=True)\n"
     ]
    },
    {
     "name": "stdout",
     "output_type": "stream",
     "text": [
      "Data received: {'timestamp': 1682641363, 'message': 'success', 'iss_position': {'latitude': '-50.8359', 'longitude': '-80.7326'}}\n"
     ]
    },
    {
     "name": "stderr",
     "output_type": "stream",
     "text": [
      "C:\\Users\\13018\\AppData\\Local\\Temp\\ipykernel_11600\\2340310863.py:10: FutureWarning: The frame.append method is deprecated and will be removed from pandas in a future version. Use pandas.concat instead.\n",
      "  Sat_data = Sat_data.append({\"Longitude\": longitude, \"Latitude\": latitude}, ignore_index=True)\n"
     ]
    },
    {
     "name": "stdout",
     "output_type": "stream",
     "text": [
      "Data received: {'timestamp': 1682641368, 'message': 'success', 'iss_position': {'latitude': '-50.7695', 'longitude': '-80.2029'}}\n"
     ]
    },
    {
     "name": "stderr",
     "output_type": "stream",
     "text": [
      "C:\\Users\\13018\\AppData\\Local\\Temp\\ipykernel_11600\\2340310863.py:10: FutureWarning: The frame.append method is deprecated and will be removed from pandas in a future version. Use pandas.concat instead.\n",
      "  Sat_data = Sat_data.append({\"Longitude\": longitude, \"Latitude\": latitude}, ignore_index=True)\n"
     ]
    },
    {
     "name": "stdout",
     "output_type": "stream",
     "text": [
      "Data received: {'timestamp': 1682641373, 'message': 'success', 'iss_position': {'latitude': '-50.7068', 'longitude': '-79.7227'}}\n"
     ]
    },
    {
     "name": "stderr",
     "output_type": "stream",
     "text": [
      "C:\\Users\\13018\\AppData\\Local\\Temp\\ipykernel_11600\\2340310863.py:10: FutureWarning: The frame.append method is deprecated and will be removed from pandas in a future version. Use pandas.concat instead.\n",
      "  Sat_data = Sat_data.append({\"Longitude\": longitude, \"Latitude\": latitude}, ignore_index=True)\n"
     ]
    },
    {
     "name": "stdout",
     "output_type": "stream",
     "text": [
      "Data received: {'timestamp': 1682641378, 'message': 'success', 'iss_position': {'latitude': '-50.6420', 'longitude': '-79.2440'}}\n"
     ]
    },
    {
     "name": "stderr",
     "output_type": "stream",
     "text": [
      "C:\\Users\\13018\\AppData\\Local\\Temp\\ipykernel_11600\\2340310863.py:10: FutureWarning: The frame.append method is deprecated and will be removed from pandas in a future version. Use pandas.concat instead.\n",
      "  Sat_data = Sat_data.append({\"Longitude\": longitude, \"Latitude\": latitude}, ignore_index=True)\n"
     ]
    },
    {
     "name": "stdout",
     "output_type": "stream",
     "text": [
      "Data received: {'timestamp': 1682641384, 'message': 'success', 'iss_position': {'latitude': '-50.5683', 'longitude': '-78.7188'}}\n"
     ]
    },
    {
     "name": "stderr",
     "output_type": "stream",
     "text": [
      "C:\\Users\\13018\\AppData\\Local\\Temp\\ipykernel_11600\\2340310863.py:10: FutureWarning: The frame.append method is deprecated and will be removed from pandas in a future version. Use pandas.concat instead.\n",
      "  Sat_data = Sat_data.append({\"Longitude\": longitude, \"Latitude\": latitude}, ignore_index=True)\n"
     ]
    },
    {
     "name": "stdout",
     "output_type": "stream",
     "text": [
      "Data received: {'timestamp': 1682641389, 'message': 'success', 'iss_position': {'latitude': '-50.4990', 'longitude': '-78.2430'}}\n"
     ]
    },
    {
     "name": "stderr",
     "output_type": "stream",
     "text": [
      "C:\\Users\\13018\\AppData\\Local\\Temp\\ipykernel_11600\\2340310863.py:10: FutureWarning: The frame.append method is deprecated and will be removed from pandas in a future version. Use pandas.concat instead.\n",
      "  Sat_data = Sat_data.append({\"Longitude\": longitude, \"Latitude\": latitude}, ignore_index=True)\n"
     ]
    },
    {
     "name": "stdout",
     "output_type": "stream",
     "text": [
      "Data received: {'timestamp': 1682641394, 'message': 'success', 'iss_position': {'latitude': '-50.4277', 'longitude': '-77.7686'}}\n"
     ]
    },
    {
     "name": "stderr",
     "output_type": "stream",
     "text": [
      "C:\\Users\\13018\\AppData\\Local\\Temp\\ipykernel_11600\\2340310863.py:10: FutureWarning: The frame.append method is deprecated and will be removed from pandas in a future version. Use pandas.concat instead.\n",
      "  Sat_data = Sat_data.append({\"Longitude\": longitude, \"Latitude\": latitude}, ignore_index=True)\n"
     ]
    },
    {
     "name": "stdout",
     "output_type": "stream",
     "text": [
      "Data received: {'timestamp': 1682641399, 'message': 'success', 'iss_position': {'latitude': '-50.3468', 'longitude': '-77.2486'}}\n"
     ]
    },
    {
     "name": "stderr",
     "output_type": "stream",
     "text": [
      "C:\\Users\\13018\\AppData\\Local\\Temp\\ipykernel_11600\\2340310863.py:10: FutureWarning: The frame.append method is deprecated and will be removed from pandas in a future version. Use pandas.concat instead.\n",
      "  Sat_data = Sat_data.append({\"Longitude\": longitude, \"Latitude\": latitude}, ignore_index=True)\n"
     ]
    },
    {
     "name": "stdout",
     "output_type": "stream",
     "text": [
      "Data received: {'timestamp': 1682641404, 'message': 'success', 'iss_position': {'latitude': '-50.2710', 'longitude': '-76.7776'}}\n"
     ]
    },
    {
     "name": "stderr",
     "output_type": "stream",
     "text": [
      "C:\\Users\\13018\\AppData\\Local\\Temp\\ipykernel_11600\\2340310863.py:10: FutureWarning: The frame.append method is deprecated and will be removed from pandas in a future version. Use pandas.concat instead.\n",
      "  Sat_data = Sat_data.append({\"Longitude\": longitude, \"Latitude\": latitude}, ignore_index=True)\n"
     ]
    },
    {
     "name": "stdout",
     "output_type": "stream",
     "text": [
      "Data received: {'timestamp': 1682641409, 'message': 'success', 'iss_position': {'latitude': '-50.1932', 'longitude': '-76.3080'}}\n"
     ]
    },
    {
     "name": "stderr",
     "output_type": "stream",
     "text": [
      "C:\\Users\\13018\\AppData\\Local\\Temp\\ipykernel_11600\\2340310863.py:10: FutureWarning: The frame.append method is deprecated and will be removed from pandas in a future version. Use pandas.concat instead.\n",
      "  Sat_data = Sat_data.append({\"Longitude\": longitude, \"Latitude\": latitude}, ignore_index=True)\n"
     ]
    },
    {
     "name": "stdout",
     "output_type": "stream",
     "text": [
      "Data received: {'timestamp': 1682641415, 'message': 'success', 'iss_position': {'latitude': '-50.1052', 'longitude': '-75.7934'}}\n"
     ]
    },
    {
     "name": "stderr",
     "output_type": "stream",
     "text": [
      "C:\\Users\\13018\\AppData\\Local\\Temp\\ipykernel_11600\\2340310863.py:10: FutureWarning: The frame.append method is deprecated and will be removed from pandas in a future version. Use pandas.concat instead.\n",
      "  Sat_data = Sat_data.append({\"Longitude\": longitude, \"Latitude\": latitude}, ignore_index=True)\n"
     ]
    },
    {
     "name": "stdout",
     "output_type": "stream",
     "text": [
      "Data received: {'timestamp': 1682641420, 'message': 'success', 'iss_position': {'latitude': '-50.0231', 'longitude': '-75.3273'}}\n"
     ]
    },
    {
     "name": "stderr",
     "output_type": "stream",
     "text": [
      "C:\\Users\\13018\\AppData\\Local\\Temp\\ipykernel_11600\\2340310863.py:10: FutureWarning: The frame.append method is deprecated and will be removed from pandas in a future version. Use pandas.concat instead.\n",
      "  Sat_data = Sat_data.append({\"Longitude\": longitude, \"Latitude\": latitude}, ignore_index=True)\n"
     ]
    },
    {
     "name": "stdout",
     "output_type": "stream",
     "text": [
      "Data received: {'timestamp': 1682641425, 'message': 'success', 'iss_position': {'latitude': '-49.9389', 'longitude': '-74.8629'}}\n"
     ]
    },
    {
     "name": "stderr",
     "output_type": "stream",
     "text": [
      "C:\\Users\\13018\\AppData\\Local\\Temp\\ipykernel_11600\\2340310863.py:10: FutureWarning: The frame.append method is deprecated and will be removed from pandas in a future version. Use pandas.concat instead.\n",
      "  Sat_data = Sat_data.append({\"Longitude\": longitude, \"Latitude\": latitude}, ignore_index=True)\n"
     ]
    },
    {
     "name": "stdout",
     "output_type": "stream",
     "text": [
      "Data received: {'timestamp': 1682641430, 'message': 'success', 'iss_position': {'latitude': '-49.8440', 'longitude': '-74.3541'}}\n"
     ]
    },
    {
     "name": "stderr",
     "output_type": "stream",
     "text": [
      "C:\\Users\\13018\\AppData\\Local\\Temp\\ipykernel_11600\\2340310863.py:10: FutureWarning: The frame.append method is deprecated and will be removed from pandas in a future version. Use pandas.concat instead.\n",
      "  Sat_data = Sat_data.append({\"Longitude\": longitude, \"Latitude\": latitude}, ignore_index=True)\n"
     ]
    },
    {
     "name": "stdout",
     "output_type": "stream",
     "text": [
      "Data received: {'timestamp': 1682641435, 'message': 'success', 'iss_position': {'latitude': '-49.7556', 'longitude': '-73.8933'}}\n"
     ]
    },
    {
     "name": "stderr",
     "output_type": "stream",
     "text": [
      "C:\\Users\\13018\\AppData\\Local\\Temp\\ipykernel_11600\\2340310863.py:10: FutureWarning: The frame.append method is deprecated and will be removed from pandas in a future version. Use pandas.concat instead.\n",
      "  Sat_data = Sat_data.append({\"Longitude\": longitude, \"Latitude\": latitude}, ignore_index=True)\n"
     ]
    },
    {
     "name": "stdout",
     "output_type": "stream",
     "text": [
      "Data received: {'timestamp': 1682641440, 'message': 'success', 'iss_position': {'latitude': '-49.6652', 'longitude': '-73.4343'}}\n"
     ]
    },
    {
     "name": "stderr",
     "output_type": "stream",
     "text": [
      "C:\\Users\\13018\\AppData\\Local\\Temp\\ipykernel_11600\\2340310863.py:10: FutureWarning: The frame.append method is deprecated and will be removed from pandas in a future version. Use pandas.concat instead.\n",
      "  Sat_data = Sat_data.append({\"Longitude\": longitude, \"Latitude\": latitude}, ignore_index=True)\n"
     ]
    },
    {
     "name": "stdout",
     "output_type": "stream",
     "text": [
      "Data received: {'timestamp': 1682641446, 'message': 'success', 'iss_position': {'latitude': '-49.5635', 'longitude': '-72.9315'}}\n"
     ]
    },
    {
     "name": "stderr",
     "output_type": "stream",
     "text": [
      "C:\\Users\\13018\\AppData\\Local\\Temp\\ipykernel_11600\\2340310863.py:10: FutureWarning: The frame.append method is deprecated and will be removed from pandas in a future version. Use pandas.concat instead.\n",
      "  Sat_data = Sat_data.append({\"Longitude\": longitude, \"Latitude\": latitude}, ignore_index=True)\n"
     ]
    },
    {
     "name": "stdout",
     "output_type": "stream",
     "text": [
      "Data received: {'timestamp': 1682641451, 'message': 'success', 'iss_position': {'latitude': '-49.4690', 'longitude': '-72.4763'}}\n"
     ]
    },
    {
     "name": "stderr",
     "output_type": "stream",
     "text": [
      "C:\\Users\\13018\\AppData\\Local\\Temp\\ipykernel_11600\\2340310863.py:10: FutureWarning: The frame.append method is deprecated and will be removed from pandas in a future version. Use pandas.concat instead.\n",
      "  Sat_data = Sat_data.append({\"Longitude\": longitude, \"Latitude\": latitude}, ignore_index=True)\n"
     ]
    },
    {
     "name": "stdout",
     "output_type": "stream",
     "text": [
      "Data received: {'timestamp': 1682641456, 'message': 'success', 'iss_position': {'latitude': '-49.3724', 'longitude': '-72.0228'}}\n"
     ]
    },
    {
     "name": "stderr",
     "output_type": "stream",
     "text": [
      "C:\\Users\\13018\\AppData\\Local\\Temp\\ipykernel_11600\\2340310863.py:10: FutureWarning: The frame.append method is deprecated and will be removed from pandas in a future version. Use pandas.concat instead.\n",
      "  Sat_data = Sat_data.append({\"Longitude\": longitude, \"Latitude\": latitude}, ignore_index=True)\n"
     ]
    },
    {
     "name": "stdout",
     "output_type": "stream",
     "text": [
      "Data received: {'timestamp': 1682641461, 'message': 'success', 'iss_position': {'latitude': '-49.2641', 'longitude': '-71.5263'}}\n"
     ]
    },
    {
     "name": "stderr",
     "output_type": "stream",
     "text": [
      "C:\\Users\\13018\\AppData\\Local\\Temp\\ipykernel_11600\\2340310863.py:10: FutureWarning: The frame.append method is deprecated and will be removed from pandas in a future version. Use pandas.concat instead.\n",
      "  Sat_data = Sat_data.append({\"Longitude\": longitude, \"Latitude\": latitude}, ignore_index=True)\n"
     ]
    },
    {
     "name": "stdout",
     "output_type": "stream",
     "text": [
      "Data received: {'timestamp': 1682641466, 'message': 'success', 'iss_position': {'latitude': '-49.1636', 'longitude': '-71.0769'}}\n"
     ]
    },
    {
     "name": "stderr",
     "output_type": "stream",
     "text": [
      "C:\\Users\\13018\\AppData\\Local\\Temp\\ipykernel_11600\\2340310863.py:10: FutureWarning: The frame.append method is deprecated and will be removed from pandas in a future version. Use pandas.concat instead.\n",
      "  Sat_data = Sat_data.append({\"Longitude\": longitude, \"Latitude\": latitude}, ignore_index=True)\n"
     ]
    },
    {
     "name": "stdout",
     "output_type": "stream",
     "text": [
      "Data received: {'timestamp': 1682641471, 'message': 'success', 'iss_position': {'latitude': '-49.0611', 'longitude': '-70.6295'}}\n"
     ]
    },
    {
     "name": "stderr",
     "output_type": "stream",
     "text": [
      "C:\\Users\\13018\\AppData\\Local\\Temp\\ipykernel_11600\\2340310863.py:10: FutureWarning: The frame.append method is deprecated and will be removed from pandas in a future version. Use pandas.concat instead.\n",
      "  Sat_data = Sat_data.append({\"Longitude\": longitude, \"Latitude\": latitude}, ignore_index=True)\n"
     ]
    },
    {
     "name": "stdout",
     "output_type": "stream",
     "text": [
      "Data received: {'timestamp': 1682641476, 'message': 'success', 'iss_position': {'latitude': '-48.9567', 'longitude': '-70.1837'}}\n"
     ]
    },
    {
     "name": "stderr",
     "output_type": "stream",
     "text": [
      "C:\\Users\\13018\\AppData\\Local\\Temp\\ipykernel_11600\\2340310863.py:10: FutureWarning: The frame.append method is deprecated and will be removed from pandas in a future version. Use pandas.concat instead.\n",
      "  Sat_data = Sat_data.append({\"Longitude\": longitude, \"Latitude\": latitude}, ignore_index=True)\n"
     ]
    },
    {
     "name": "stdout",
     "output_type": "stream",
     "text": [
      "Data received: {'timestamp': 1682641482, 'message': 'success', 'iss_position': {'latitude': '-48.8398', 'longitude': '-69.6960'}}\n"
     ]
    },
    {
     "name": "stderr",
     "output_type": "stream",
     "text": [
      "C:\\Users\\13018\\AppData\\Local\\Temp\\ipykernel_11600\\2340310863.py:10: FutureWarning: The frame.append method is deprecated and will be removed from pandas in a future version. Use pandas.concat instead.\n",
      "  Sat_data = Sat_data.append({\"Longitude\": longitude, \"Latitude\": latitude}, ignore_index=True)\n"
     ]
    },
    {
     "name": "stdout",
     "output_type": "stream",
     "text": [
      "Data received: {'timestamp': 1682641487, 'message': 'success', 'iss_position': {'latitude': '-48.7316', 'longitude': '-69.2546'}}\n"
     ]
    },
    {
     "name": "stderr",
     "output_type": "stream",
     "text": [
      "C:\\Users\\13018\\AppData\\Local\\Temp\\ipykernel_11600\\2340310863.py:10: FutureWarning: The frame.append method is deprecated and will be removed from pandas in a future version. Use pandas.concat instead.\n",
      "  Sat_data = Sat_data.append({\"Longitude\": longitude, \"Latitude\": latitude}, ignore_index=True)\n"
     ]
    },
    {
     "name": "stdout",
     "output_type": "stream",
     "text": [
      "Data received: {'timestamp': 1682641492, 'message': 'success', 'iss_position': {'latitude': '-48.6215', 'longitude': '-68.8153'}}\n"
     ]
    },
    {
     "name": "stderr",
     "output_type": "stream",
     "text": [
      "C:\\Users\\13018\\AppData\\Local\\Temp\\ipykernel_11600\\2340310863.py:10: FutureWarning: The frame.append method is deprecated and will be removed from pandas in a future version. Use pandas.concat instead.\n",
      "  Sat_data = Sat_data.append({\"Longitude\": longitude, \"Latitude\": latitude}, ignore_index=True)\n"
     ]
    },
    {
     "name": "stdout",
     "output_type": "stream",
     "text": [
      "Data received: {'timestamp': 1682641497, 'message': 'success', 'iss_position': {'latitude': '-48.4983', 'longitude': '-68.3343'}}\n"
     ]
    },
    {
     "name": "stderr",
     "output_type": "stream",
     "text": [
      "C:\\Users\\13018\\AppData\\Local\\Temp\\ipykernel_11600\\2340310863.py:10: FutureWarning: The frame.append method is deprecated and will be removed from pandas in a future version. Use pandas.concat instead.\n",
      "  Sat_data = Sat_data.append({\"Longitude\": longitude, \"Latitude\": latitude}, ignore_index=True)\n"
     ]
    },
    {
     "name": "stdout",
     "output_type": "stream",
     "text": [
      "Data received: {'timestamp': 1682641502, 'message': 'success', 'iss_position': {'latitude': '-48.3844', 'longitude': '-67.8993'}}\n"
     ]
    },
    {
     "name": "stderr",
     "output_type": "stream",
     "text": [
      "C:\\Users\\13018\\AppData\\Local\\Temp\\ipykernel_11600\\2340310863.py:10: FutureWarning: The frame.append method is deprecated and will be removed from pandas in a future version. Use pandas.concat instead.\n",
      "  Sat_data = Sat_data.append({\"Longitude\": longitude, \"Latitude\": latitude}, ignore_index=True)\n"
     ]
    },
    {
     "name": "stdout",
     "output_type": "stream",
     "text": [
      "Data received: {'timestamp': 1682641507, 'message': 'success', 'iss_position': {'latitude': '-48.2687', 'longitude': '-67.4662'}}\n"
     ]
    },
    {
     "name": "stderr",
     "output_type": "stream",
     "text": [
      "C:\\Users\\13018\\AppData\\Local\\Temp\\ipykernel_11600\\2340310863.py:10: FutureWarning: The frame.append method is deprecated and will be removed from pandas in a future version. Use pandas.concat instead.\n",
      "  Sat_data = Sat_data.append({\"Longitude\": longitude, \"Latitude\": latitude}, ignore_index=True)\n"
     ]
    },
    {
     "name": "stdout",
     "output_type": "stream",
     "text": [
      "Data received: {'timestamp': 1682641513, 'message': 'success', 'iss_position': {'latitude': '-48.1394', 'longitude': '-66.9923'}}\n"
     ]
    },
    {
     "name": "stderr",
     "output_type": "stream",
     "text": [
      "C:\\Users\\13018\\AppData\\Local\\Temp\\ipykernel_11600\\2340310863.py:10: FutureWarning: The frame.append method is deprecated and will be removed from pandas in a future version. Use pandas.concat instead.\n",
      "  Sat_data = Sat_data.append({\"Longitude\": longitude, \"Latitude\": latitude}, ignore_index=True)\n"
     ]
    },
    {
     "name": "stdout",
     "output_type": "stream",
     "text": [
      "Data received: {'timestamp': 1682641518, 'message': 'success', 'iss_position': {'latitude': '-48.0199', 'longitude': '-66.5636'}}\n"
     ]
    },
    {
     "name": "stderr",
     "output_type": "stream",
     "text": [
      "C:\\Users\\13018\\AppData\\Local\\Temp\\ipykernel_11600\\2340310863.py:10: FutureWarning: The frame.append method is deprecated and will be removed from pandas in a future version. Use pandas.concat instead.\n",
      "  Sat_data = Sat_data.append({\"Longitude\": longitude, \"Latitude\": latitude}, ignore_index=True)\n"
     ]
    },
    {
     "name": "stdout",
     "output_type": "stream",
     "text": [
      "Data received: {'timestamp': 1682641523, 'message': 'success', 'iss_position': {'latitude': '-47.8988', 'longitude': '-66.1370'}}\n"
     ]
    },
    {
     "name": "stderr",
     "output_type": "stream",
     "text": [
      "C:\\Users\\13018\\AppData\\Local\\Temp\\ipykernel_11600\\2340310863.py:10: FutureWarning: The frame.append method is deprecated and will be removed from pandas in a future version. Use pandas.concat instead.\n",
      "  Sat_data = Sat_data.append({\"Longitude\": longitude, \"Latitude\": latitude}, ignore_index=True)\n"
     ]
    },
    {
     "name": "stdout",
     "output_type": "stream",
     "text": [
      "Data received: {'timestamp': 1682641528, 'message': 'success', 'iss_position': {'latitude': '-47.7635', 'longitude': '-65.6702'}}\n"
     ]
    },
    {
     "name": "stderr",
     "output_type": "stream",
     "text": [
      "C:\\Users\\13018\\AppData\\Local\\Temp\\ipykernel_11600\\2340310863.py:10: FutureWarning: The frame.append method is deprecated and will be removed from pandas in a future version. Use pandas.concat instead.\n",
      "  Sat_data = Sat_data.append({\"Longitude\": longitude, \"Latitude\": latitude}, ignore_index=True)\n"
     ]
    },
    {
     "name": "stdout",
     "output_type": "stream",
     "text": [
      "Data received: {'timestamp': 1682641533, 'message': 'success', 'iss_position': {'latitude': '-47.6387', 'longitude': '-65.2482'}}\n"
     ]
    },
    {
     "name": "stderr",
     "output_type": "stream",
     "text": [
      "C:\\Users\\13018\\AppData\\Local\\Temp\\ipykernel_11600\\2340310863.py:10: FutureWarning: The frame.append method is deprecated and will be removed from pandas in a future version. Use pandas.concat instead.\n",
      "  Sat_data = Sat_data.append({\"Longitude\": longitude, \"Latitude\": latitude}, ignore_index=True)\n"
     ]
    },
    {
     "name": "stdout",
     "output_type": "stream",
     "text": [
      "Data received: {'timestamp': 1682641538, 'message': 'success', 'iss_position': {'latitude': '-47.5122', 'longitude': '-64.8282'}}\n"
     ]
    },
    {
     "name": "stderr",
     "output_type": "stream",
     "text": [
      "C:\\Users\\13018\\AppData\\Local\\Temp\\ipykernel_11600\\2340310863.py:10: FutureWarning: The frame.append method is deprecated and will be removed from pandas in a future version. Use pandas.concat instead.\n",
      "  Sat_data = Sat_data.append({\"Longitude\": longitude, \"Latitude\": latitude}, ignore_index=True)\n"
     ]
    },
    {
     "name": "stdout",
     "output_type": "stream",
     "text": [
      "Data received: {'timestamp': 1682641544, 'message': 'success', 'iss_position': {'latitude': '-47.3711', 'longitude': '-64.3686'}}\n"
     ]
    },
    {
     "name": "stderr",
     "output_type": "stream",
     "text": [
      "C:\\Users\\13018\\AppData\\Local\\Temp\\ipykernel_11600\\2340310863.py:10: FutureWarning: The frame.append method is deprecated and will be removed from pandas in a future version. Use pandas.concat instead.\n",
      "  Sat_data = Sat_data.append({\"Longitude\": longitude, \"Latitude\": latitude}, ignore_index=True)\n"
     ]
    },
    {
     "name": "stdout",
     "output_type": "stream",
     "text": [
      "Data received: {'timestamp': 1682641549, 'message': 'success', 'iss_position': {'latitude': '-47.2411', 'longitude': '-63.9531'}}\n"
     ]
    },
    {
     "name": "stderr",
     "output_type": "stream",
     "text": [
      "C:\\Users\\13018\\AppData\\Local\\Temp\\ipykernel_11600\\2340310863.py:10: FutureWarning: The frame.append method is deprecated and will be removed from pandas in a future version. Use pandas.concat instead.\n",
      "  Sat_data = Sat_data.append({\"Longitude\": longitude, \"Latitude\": latitude}, ignore_index=True)\n"
     ]
    },
    {
     "name": "stdout",
     "output_type": "stream",
     "text": [
      "Data received: {'timestamp': 1682641554, 'message': 'success', 'iss_position': {'latitude': '-47.1095', 'longitude': '-63.5398'}}\n"
     ]
    },
    {
     "name": "stderr",
     "output_type": "stream",
     "text": [
      "C:\\Users\\13018\\AppData\\Local\\Temp\\ipykernel_11600\\2340310863.py:10: FutureWarning: The frame.append method is deprecated and will be removed from pandas in a future version. Use pandas.concat instead.\n",
      "  Sat_data = Sat_data.append({\"Longitude\": longitude, \"Latitude\": latitude}, ignore_index=True)\n"
     ]
    },
    {
     "name": "stdout",
     "output_type": "stream",
     "text": [
      "Data received: {'timestamp': 1682641559, 'message': 'success', 'iss_position': {'latitude': '-46.9762', 'longitude': '-63.1286'}}\n"
     ]
    },
    {
     "name": "stderr",
     "output_type": "stream",
     "text": [
      "C:\\Users\\13018\\AppData\\Local\\Temp\\ipykernel_11600\\2340310863.py:10: FutureWarning: The frame.append method is deprecated and will be removed from pandas in a future version. Use pandas.concat instead.\n",
      "  Sat_data = Sat_data.append({\"Longitude\": longitude, \"Latitude\": latitude}, ignore_index=True)\n"
     ]
    },
    {
     "name": "stdout",
     "output_type": "stream",
     "text": [
      "Data received: {'timestamp': 1682641565, 'message': 'success', 'iss_position': {'latitude': '-46.8277', 'longitude': '-62.6787'}}\n"
     ]
    },
    {
     "name": "stderr",
     "output_type": "stream",
     "text": [
      "C:\\Users\\13018\\AppData\\Local\\Temp\\ipykernel_11600\\2340310863.py:10: FutureWarning: The frame.append method is deprecated and will be removed from pandas in a future version. Use pandas.concat instead.\n",
      "  Sat_data = Sat_data.append({\"Longitude\": longitude, \"Latitude\": latitude}, ignore_index=True)\n"
     ]
    },
    {
     "name": "stdout",
     "output_type": "stream",
     "text": [
      "Data received: {'timestamp': 1682641570, 'message': 'success', 'iss_position': {'latitude': '-46.6910', 'longitude': '-62.2720'}}\n"
     ]
    },
    {
     "name": "stderr",
     "output_type": "stream",
     "text": [
      "C:\\Users\\13018\\AppData\\Local\\Temp\\ipykernel_11600\\2340310863.py:10: FutureWarning: The frame.append method is deprecated and will be removed from pandas in a future version. Use pandas.concat instead.\n",
      "  Sat_data = Sat_data.append({\"Longitude\": longitude, \"Latitude\": latitude}, ignore_index=True)\n"
     ]
    },
    {
     "name": "stdout",
     "output_type": "stream",
     "text": [
      "Data received: {'timestamp': 1682641575, 'message': 'success', 'iss_position': {'latitude': '-46.5528', 'longitude': '-61.8676'}}\n"
     ]
    },
    {
     "name": "stderr",
     "output_type": "stream",
     "text": [
      "C:\\Users\\13018\\AppData\\Local\\Temp\\ipykernel_11600\\2340310863.py:10: FutureWarning: The frame.append method is deprecated and will be removed from pandas in a future version. Use pandas.concat instead.\n",
      "  Sat_data = Sat_data.append({\"Longitude\": longitude, \"Latitude\": latitude}, ignore_index=True)\n"
     ]
    },
    {
     "name": "stdout",
     "output_type": "stream",
     "text": [
      "Data received: {'timestamp': 1682641580, 'message': 'success', 'iss_position': {'latitude': '-46.3988', 'longitude': '-61.4252'}}\n"
     ]
    },
    {
     "name": "stderr",
     "output_type": "stream",
     "text": [
      "C:\\Users\\13018\\AppData\\Local\\Temp\\ipykernel_11600\\2340310863.py:10: FutureWarning: The frame.append method is deprecated and will be removed from pandas in a future version. Use pandas.concat instead.\n",
      "  Sat_data = Sat_data.append({\"Longitude\": longitude, \"Latitude\": latitude}, ignore_index=True)\n"
     ]
    },
    {
     "name": "stdout",
     "output_type": "stream",
     "text": [
      "Data received: {'timestamp': 1682641585, 'message': 'success', 'iss_position': {'latitude': '-46.2573', 'longitude': '-61.0253'}}\n"
     ]
    },
    {
     "name": "stderr",
     "output_type": "stream",
     "text": [
      "C:\\Users\\13018\\AppData\\Local\\Temp\\ipykernel_11600\\2340310863.py:10: FutureWarning: The frame.append method is deprecated and will be removed from pandas in a future version. Use pandas.concat instead.\n",
      "  Sat_data = Sat_data.append({\"Longitude\": longitude, \"Latitude\": latitude}, ignore_index=True)\n"
     ]
    },
    {
     "name": "stdout",
     "output_type": "stream",
     "text": [
      "Data received: {'timestamp': 1682641591, 'message': 'success', 'iss_position': {'latitude': '-46.0998', 'longitude': '-60.5879'}}\n"
     ]
    },
    {
     "name": "stderr",
     "output_type": "stream",
     "text": [
      "C:\\Users\\13018\\AppData\\Local\\Temp\\ipykernel_11600\\2340310863.py:10: FutureWarning: The frame.append method is deprecated and will be removed from pandas in a future version. Use pandas.concat instead.\n",
      "  Sat_data = Sat_data.append({\"Longitude\": longitude, \"Latitude\": latitude}, ignore_index=True)\n"
     ]
    },
    {
     "name": "stdout",
     "output_type": "stream",
     "text": [
      "Data received: {'timestamp': 1682641596, 'message': 'success', 'iss_position': {'latitude': '-45.9551', 'longitude': '-60.1926'}}\n"
     ]
    },
    {
     "name": "stderr",
     "output_type": "stream",
     "text": [
      "C:\\Users\\13018\\AppData\\Local\\Temp\\ipykernel_11600\\2340310863.py:10: FutureWarning: The frame.append method is deprecated and will be removed from pandas in a future version. Use pandas.concat instead.\n",
      "  Sat_data = Sat_data.append({\"Longitude\": longitude, \"Latitude\": latitude}, ignore_index=True)\n"
     ]
    },
    {
     "name": "stdout",
     "output_type": "stream",
     "text": [
      "Data received: {'timestamp': 1682641601, 'message': 'success', 'iss_position': {'latitude': '-45.8088', 'longitude': '-59.7995'}}\n"
     ]
    },
    {
     "name": "stderr",
     "output_type": "stream",
     "text": [
      "C:\\Users\\13018\\AppData\\Local\\Temp\\ipykernel_11600\\2340310863.py:10: FutureWarning: The frame.append method is deprecated and will be removed from pandas in a future version. Use pandas.concat instead.\n",
      "  Sat_data = Sat_data.append({\"Longitude\": longitude, \"Latitude\": latitude}, ignore_index=True)\n"
     ]
    },
    {
     "name": "stdout",
     "output_type": "stream",
     "text": [
      "Data received: {'timestamp': 1682641606, 'message': 'success', 'iss_position': {'latitude': '-45.6611', 'longitude': '-59.4085'}}\n"
     ]
    },
    {
     "name": "stderr",
     "output_type": "stream",
     "text": [
      "C:\\Users\\13018\\AppData\\Local\\Temp\\ipykernel_11600\\2340310863.py:10: FutureWarning: The frame.append method is deprecated and will be removed from pandas in a future version. Use pandas.concat instead.\n",
      "  Sat_data = Sat_data.append({\"Longitude\": longitude, \"Latitude\": latitude}, ignore_index=True)\n"
     ]
    },
    {
     "name": "stdout",
     "output_type": "stream",
     "text": [
      "Data received: {'timestamp': 1682641611, 'message': 'success', 'iss_position': {'latitude': '-45.4968', 'longitude': '-58.9810'}}\n"
     ]
    },
    {
     "name": "stderr",
     "output_type": "stream",
     "text": [
      "C:\\Users\\13018\\AppData\\Local\\Temp\\ipykernel_11600\\2340310863.py:10: FutureWarning: The frame.append method is deprecated and will be removed from pandas in a future version. Use pandas.concat instead.\n",
      "  Sat_data = Sat_data.append({\"Longitude\": longitude, \"Latitude\": latitude}, ignore_index=True)\n"
     ]
    },
    {
     "name": "stdout",
     "output_type": "stream",
     "text": [
      "Data received: {'timestamp': 1682641616, 'message': 'success', 'iss_position': {'latitude': '-45.3461', 'longitude': '-58.5947'}}\n"
     ]
    },
    {
     "name": "stderr",
     "output_type": "stream",
     "text": [
      "C:\\Users\\13018\\AppData\\Local\\Temp\\ipykernel_11600\\2340310863.py:10: FutureWarning: The frame.append method is deprecated and will be removed from pandas in a future version. Use pandas.concat instead.\n",
      "  Sat_data = Sat_data.append({\"Longitude\": longitude, \"Latitude\": latitude}, ignore_index=True)\n"
     ]
    },
    {
     "name": "stdout",
     "output_type": "stream",
     "text": [
      "Data received: {'timestamp': 1682641621, 'message': 'success', 'iss_position': {'latitude': '-45.1938', 'longitude': '-58.2105'}}\n"
     ]
    },
    {
     "name": "stderr",
     "output_type": "stream",
     "text": [
      "C:\\Users\\13018\\AppData\\Local\\Temp\\ipykernel_11600\\2340310863.py:10: FutureWarning: The frame.append method is deprecated and will be removed from pandas in a future version. Use pandas.concat instead.\n",
      "  Sat_data = Sat_data.append({\"Longitude\": longitude, \"Latitude\": latitude}, ignore_index=True)\n"
     ]
    },
    {
     "name": "stdout",
     "output_type": "stream",
     "text": [
      "Data received: {'timestamp': 1682641627, 'message': 'success', 'iss_position': {'latitude': '-45.0247', 'longitude': '-57.7904'}}\n"
     ]
    },
    {
     "name": "stderr",
     "output_type": "stream",
     "text": [
      "C:\\Users\\13018\\AppData\\Local\\Temp\\ipykernel_11600\\2340310863.py:10: FutureWarning: The frame.append method is deprecated and will be removed from pandas in a future version. Use pandas.concat instead.\n",
      "  Sat_data = Sat_data.append({\"Longitude\": longitude, \"Latitude\": latitude}, ignore_index=True)\n"
     ]
    },
    {
     "name": "stdout",
     "output_type": "stream",
     "text": [
      "Data received: {'timestamp': 1682641632, 'message': 'success', 'iss_position': {'latitude': '-44.8694', 'longitude': '-57.4108'}}\n"
     ]
    },
    {
     "name": "stderr",
     "output_type": "stream",
     "text": [
      "C:\\Users\\13018\\AppData\\Local\\Temp\\ipykernel_11600\\2340310863.py:10: FutureWarning: The frame.append method is deprecated and will be removed from pandas in a future version. Use pandas.concat instead.\n",
      "  Sat_data = Sat_data.append({\"Longitude\": longitude, \"Latitude\": latitude}, ignore_index=True)\n"
     ]
    },
    {
     "name": "stdout",
     "output_type": "stream",
     "text": [
      "Data received: {'timestamp': 1682641637, 'message': 'success', 'iss_position': {'latitude': '-44.7128', 'longitude': '-57.0333'}}\n"
     ]
    },
    {
     "name": "stderr",
     "output_type": "stream",
     "text": [
      "C:\\Users\\13018\\AppData\\Local\\Temp\\ipykernel_11600\\2340310863.py:10: FutureWarning: The frame.append method is deprecated and will be removed from pandas in a future version. Use pandas.concat instead.\n",
      "  Sat_data = Sat_data.append({\"Longitude\": longitude, \"Latitude\": latitude}, ignore_index=True)\n"
     ]
    },
    {
     "name": "stdout",
     "output_type": "stream",
     "text": [
      "Data received: {'timestamp': 1682641642, 'message': 'success', 'iss_position': {'latitude': '-44.5389', 'longitude': '-56.6206'}}\n"
     ]
    },
    {
     "name": "stderr",
     "output_type": "stream",
     "text": [
      "C:\\Users\\13018\\AppData\\Local\\Temp\\ipykernel_11600\\2340310863.py:10: FutureWarning: The frame.append method is deprecated and will be removed from pandas in a future version. Use pandas.concat instead.\n",
      "  Sat_data = Sat_data.append({\"Longitude\": longitude, \"Latitude\": latitude}, ignore_index=True)\n"
     ]
    },
    {
     "name": "stdout",
     "output_type": "stream",
     "text": [
      "Data received: {'timestamp': 1682641647, 'message': 'success', 'iss_position': {'latitude': '-44.3794', 'longitude': '-56.2477'}}\n"
     ]
    },
    {
     "name": "stderr",
     "output_type": "stream",
     "text": [
      "C:\\Users\\13018\\AppData\\Local\\Temp\\ipykernel_11600\\2340310863.py:10: FutureWarning: The frame.append method is deprecated and will be removed from pandas in a future version. Use pandas.concat instead.\n",
      "  Sat_data = Sat_data.append({\"Longitude\": longitude, \"Latitude\": latitude}, ignore_index=True)\n"
     ]
    },
    {
     "name": "stdout",
     "output_type": "stream",
     "text": [
      "Data received: {'timestamp': 1682641652, 'message': 'success', 'iss_position': {'latitude': '-44.2185', 'longitude': '-55.8769'}}\n"
     ]
    },
    {
     "name": "stderr",
     "output_type": "stream",
     "text": [
      "C:\\Users\\13018\\AppData\\Local\\Temp\\ipykernel_11600\\2340310863.py:10: FutureWarning: The frame.append method is deprecated and will be removed from pandas in a future version. Use pandas.concat instead.\n",
      "  Sat_data = Sat_data.append({\"Longitude\": longitude, \"Latitude\": latitude}, ignore_index=True)\n"
     ]
    },
    {
     "name": "stdout",
     "output_type": "stream",
     "text": [
      "Data received: {'timestamp': 1682641658, 'message': 'success', 'iss_position': {'latitude': '-44.0400', 'longitude': '-55.4715'}}\n"
     ]
    },
    {
     "name": "stderr",
     "output_type": "stream",
     "text": [
      "C:\\Users\\13018\\AppData\\Local\\Temp\\ipykernel_11600\\2340310863.py:10: FutureWarning: The frame.append method is deprecated and will be removed from pandas in a future version. Use pandas.concat instead.\n",
      "  Sat_data = Sat_data.append({\"Longitude\": longitude, \"Latitude\": latitude}, ignore_index=True)\n"
     ]
    },
    {
     "name": "stdout",
     "output_type": "stream",
     "text": [
      "Data received: {'timestamp': 1682641663, 'message': 'success', 'iss_position': {'latitude': '-43.8763', 'longitude': '-55.1051'}}\n"
     ]
    },
    {
     "name": "stderr",
     "output_type": "stream",
     "text": [
      "C:\\Users\\13018\\AppData\\Local\\Temp\\ipykernel_11600\\2340310863.py:10: FutureWarning: The frame.append method is deprecated and will be removed from pandas in a future version. Use pandas.concat instead.\n",
      "  Sat_data = Sat_data.append({\"Longitude\": longitude, \"Latitude\": latitude}, ignore_index=True)\n"
     ]
    },
    {
     "name": "stdout",
     "output_type": "stream",
     "text": [
      "Data received: {'timestamp': 1682641668, 'message': 'success', 'iss_position': {'latitude': '-43.7114', 'longitude': '-54.7409'}}\n"
     ]
    },
    {
     "name": "stderr",
     "output_type": "stream",
     "text": [
      "C:\\Users\\13018\\AppData\\Local\\Temp\\ipykernel_11600\\2340310863.py:10: FutureWarning: The frame.append method is deprecated and will be removed from pandas in a future version. Use pandas.concat instead.\n",
      "  Sat_data = Sat_data.append({\"Longitude\": longitude, \"Latitude\": latitude}, ignore_index=True)\n"
     ]
    },
    {
     "name": "stdout",
     "output_type": "stream",
     "text": [
      "Data received: {'timestamp': 1682641673, 'message': 'success', 'iss_position': {'latitude': '-43.5284', 'longitude': '-54.3428'}}\n"
     ]
    },
    {
     "name": "stderr",
     "output_type": "stream",
     "text": [
      "C:\\Users\\13018\\AppData\\Local\\Temp\\ipykernel_11600\\2340310863.py:10: FutureWarning: The frame.append method is deprecated and will be removed from pandas in a future version. Use pandas.concat instead.\n",
      "  Sat_data = Sat_data.append({\"Longitude\": longitude, \"Latitude\": latitude}, ignore_index=True)\n"
     ]
    },
    {
     "name": "stdout",
     "output_type": "stream",
     "text": [
      "Data received: {'timestamp': 1682641678, 'message': 'success', 'iss_position': {'latitude': '-43.3608', 'longitude': '-53.9830'}}\n"
     ]
    },
    {
     "name": "stderr",
     "output_type": "stream",
     "text": [
      "C:\\Users\\13018\\AppData\\Local\\Temp\\ipykernel_11600\\2340310863.py:10: FutureWarning: The frame.append method is deprecated and will be removed from pandas in a future version. Use pandas.concat instead.\n",
      "  Sat_data = Sat_data.append({\"Longitude\": longitude, \"Latitude\": latitude}, ignore_index=True)\n"
     ]
    },
    {
     "name": "stdout",
     "output_type": "stream",
     "text": [
      "Data received: {'timestamp': 1682641683, 'message': 'success', 'iss_position': {'latitude': '-43.1919', 'longitude': '-53.6254'}}\n"
     ]
    },
    {
     "name": "stderr",
     "output_type": "stream",
     "text": [
      "C:\\Users\\13018\\AppData\\Local\\Temp\\ipykernel_11600\\2340310863.py:10: FutureWarning: The frame.append method is deprecated and will be removed from pandas in a future version. Use pandas.concat instead.\n",
      "  Sat_data = Sat_data.append({\"Longitude\": longitude, \"Latitude\": latitude}, ignore_index=True)\n"
     ]
    },
    {
     "name": "stdout",
     "output_type": "stream",
     "text": [
      "Data received: {'timestamp': 1682641689, 'message': 'success', 'iss_position': {'latitude': '-43.0046', 'longitude': '-53.2344'}}\n"
     ]
    },
    {
     "name": "stderr",
     "output_type": "stream",
     "text": [
      "C:\\Users\\13018\\AppData\\Local\\Temp\\ipykernel_11600\\2340310863.py:10: FutureWarning: The frame.append method is deprecated and will be removed from pandas in a future version. Use pandas.concat instead.\n",
      "  Sat_data = Sat_data.append({\"Longitude\": longitude, \"Latitude\": latitude}, ignore_index=True)\n"
     ]
    },
    {
     "name": "stdout",
     "output_type": "stream",
     "text": [
      "Data received: {'timestamp': 1682641694, 'message': 'success', 'iss_position': {'latitude': '-42.8331', 'longitude': '-52.8812'}}\n"
     ]
    },
    {
     "name": "stderr",
     "output_type": "stream",
     "text": [
      "C:\\Users\\13018\\AppData\\Local\\Temp\\ipykernel_11600\\2340310863.py:10: FutureWarning: The frame.append method is deprecated and will be removed from pandas in a future version. Use pandas.concat instead.\n",
      "  Sat_data = Sat_data.append({\"Longitude\": longitude, \"Latitude\": latitude}, ignore_index=True)\n"
     ]
    },
    {
     "name": "stdout",
     "output_type": "stream",
     "text": [
      "Data received: {'timestamp': 1682641699, 'message': 'success', 'iss_position': {'latitude': '-42.6604', 'longitude': '-52.5301'}}\n"
     ]
    },
    {
     "name": "stderr",
     "output_type": "stream",
     "text": [
      "C:\\Users\\13018\\AppData\\Local\\Temp\\ipykernel_11600\\2340310863.py:10: FutureWarning: The frame.append method is deprecated and will be removed from pandas in a future version. Use pandas.concat instead.\n",
      "  Sat_data = Sat_data.append({\"Longitude\": longitude, \"Latitude\": latitude}, ignore_index=True)\n"
     ]
    },
    {
     "name": "stdout",
     "output_type": "stream",
     "text": [
      "Data received: {'timestamp': 1682641704, 'message': 'success', 'iss_position': {'latitude': '-42.4865', 'longitude': '-52.1810'}}\n"
     ]
    },
    {
     "name": "stderr",
     "output_type": "stream",
     "text": [
      "C:\\Users\\13018\\AppData\\Local\\Temp\\ipykernel_11600\\2340310863.py:10: FutureWarning: The frame.append method is deprecated and will be removed from pandas in a future version. Use pandas.concat instead.\n",
      "  Sat_data = Sat_data.append({\"Longitude\": longitude, \"Latitude\": latitude}, ignore_index=True)\n"
     ]
    },
    {
     "name": "stdout",
     "output_type": "stream",
     "text": [
      "Data received: {'timestamp': 1682641709, 'message': 'success', 'iss_position': {'latitude': '-42.2938', 'longitude': '-51.7994'}}\n"
     ]
    },
    {
     "name": "stderr",
     "output_type": "stream",
     "text": [
      "C:\\Users\\13018\\AppData\\Local\\Temp\\ipykernel_11600\\2340310863.py:10: FutureWarning: The frame.append method is deprecated and will be removed from pandas in a future version. Use pandas.concat instead.\n",
      "  Sat_data = Sat_data.append({\"Longitude\": longitude, \"Latitude\": latitude}, ignore_index=True)\n"
     ]
    },
    {
     "name": "stdout",
     "output_type": "stream",
     "text": [
      "Data received: {'timestamp': 1682641714, 'message': 'success', 'iss_position': {'latitude': '-42.1175', 'longitude': '-51.4546'}}\n"
     ]
    },
    {
     "name": "stderr",
     "output_type": "stream",
     "text": [
      "C:\\Users\\13018\\AppData\\Local\\Temp\\ipykernel_11600\\2340310863.py:10: FutureWarning: The frame.append method is deprecated and will be removed from pandas in a future version. Use pandas.concat instead.\n",
      "  Sat_data = Sat_data.append({\"Longitude\": longitude, \"Latitude\": latitude}, ignore_index=True)\n"
     ]
    },
    {
     "name": "stdout",
     "output_type": "stream",
     "text": [
      "Data received: {'timestamp': 1682641719, 'message': 'success', 'iss_position': {'latitude': '-41.9399', 'longitude': '-51.1119'}}\n"
     ]
    },
    {
     "name": "stderr",
     "output_type": "stream",
     "text": [
      "C:\\Users\\13018\\AppData\\Local\\Temp\\ipykernel_11600\\2340310863.py:10: FutureWarning: The frame.append method is deprecated and will be removed from pandas in a future version. Use pandas.concat instead.\n",
      "  Sat_data = Sat_data.append({\"Longitude\": longitude, \"Latitude\": latitude}, ignore_index=True)\n"
     ]
    },
    {
     "name": "stdout",
     "output_type": "stream",
     "text": [
      "Data received: {'timestamp': 1682641725, 'message': 'success', 'iss_position': {'latitude': '-41.7433', 'longitude': '-50.7372'}}\n"
     ]
    },
    {
     "name": "stderr",
     "output_type": "stream",
     "text": [
      "C:\\Users\\13018\\AppData\\Local\\Temp\\ipykernel_11600\\2340310863.py:10: FutureWarning: The frame.append method is deprecated and will be removed from pandas in a future version. Use pandas.concat instead.\n",
      "  Sat_data = Sat_data.append({\"Longitude\": longitude, \"Latitude\": latitude}, ignore_index=True)\n"
     ]
    },
    {
     "name": "stdout",
     "output_type": "stream",
     "text": [
      "Data received: {'timestamp': 1682641730, 'message': 'success', 'iss_position': {'latitude': '-41.5633', 'longitude': '-50.3987'}}\n"
     ]
    },
    {
     "name": "stderr",
     "output_type": "stream",
     "text": [
      "C:\\Users\\13018\\AppData\\Local\\Temp\\ipykernel_11600\\2340310863.py:10: FutureWarning: The frame.append method is deprecated and will be removed from pandas in a future version. Use pandas.concat instead.\n",
      "  Sat_data = Sat_data.append({\"Longitude\": longitude, \"Latitude\": latitude}, ignore_index=True)\n"
     ]
    },
    {
     "name": "stdout",
     "output_type": "stream",
     "text": [
      "Data received: {'timestamp': 1682641735, 'message': 'success', 'iss_position': {'latitude': '-41.3823', 'longitude': '-50.0622'}}\n"
     ]
    },
    {
     "name": "stderr",
     "output_type": "stream",
     "text": [
      "C:\\Users\\13018\\AppData\\Local\\Temp\\ipykernel_11600\\2340310863.py:10: FutureWarning: The frame.append method is deprecated and will be removed from pandas in a future version. Use pandas.concat instead.\n",
      "  Sat_data = Sat_data.append({\"Longitude\": longitude, \"Latitude\": latitude}, ignore_index=True)\n"
     ]
    },
    {
     "name": "stdout",
     "output_type": "stream",
     "text": [
      "Data received: {'timestamp': 1682641740, 'message': 'success', 'iss_position': {'latitude': '-41.1819', 'longitude': '-49.6944'}}\n"
     ]
    },
    {
     "name": "stderr",
     "output_type": "stream",
     "text": [
      "C:\\Users\\13018\\AppData\\Local\\Temp\\ipykernel_11600\\2340310863.py:10: FutureWarning: The frame.append method is deprecated and will be removed from pandas in a future version. Use pandas.concat instead.\n",
      "  Sat_data = Sat_data.append({\"Longitude\": longitude, \"Latitude\": latitude}, ignore_index=True)\n"
     ]
    },
    {
     "name": "stdout",
     "output_type": "stream",
     "text": [
      "Data received: {'timestamp': 1682641745, 'message': 'success', 'iss_position': {'latitude': '-40.9985', 'longitude': '-49.3620'}}\n"
     ]
    },
    {
     "name": "stderr",
     "output_type": "stream",
     "text": [
      "C:\\Users\\13018\\AppData\\Local\\Temp\\ipykernel_11600\\2340310863.py:10: FutureWarning: The frame.append method is deprecated and will be removed from pandas in a future version. Use pandas.concat instead.\n",
      "  Sat_data = Sat_data.append({\"Longitude\": longitude, \"Latitude\": latitude}, ignore_index=True)\n"
     ]
    },
    {
     "name": "stdout",
     "output_type": "stream",
     "text": [
      "Data received: {'timestamp': 1682641751, 'message': 'success', 'iss_position': {'latitude': '-40.7956', 'longitude': '-48.9987'}}\n"
     ]
    },
    {
     "name": "stderr",
     "output_type": "stream",
     "text": [
      "C:\\Users\\13018\\AppData\\Local\\Temp\\ipykernel_11600\\2340310863.py:10: FutureWarning: The frame.append method is deprecated and will be removed from pandas in a future version. Use pandas.concat instead.\n",
      "  Sat_data = Sat_data.append({\"Longitude\": longitude, \"Latitude\": latitude}, ignore_index=True)\n"
     ]
    },
    {
     "name": "stdout",
     "output_type": "stream",
     "text": [
      "Data received: {'timestamp': 1682641756, 'message': 'success', 'iss_position': {'latitude': '-40.6099', 'longitude': '-48.6704'}}\n"
     ]
    },
    {
     "name": "stderr",
     "output_type": "stream",
     "text": [
      "C:\\Users\\13018\\AppData\\Local\\Temp\\ipykernel_11600\\2340310863.py:10: FutureWarning: The frame.append method is deprecated and will be removed from pandas in a future version. Use pandas.concat instead.\n",
      "  Sat_data = Sat_data.append({\"Longitude\": longitude, \"Latitude\": latitude}, ignore_index=True)\n"
     ]
    },
    {
     "name": "stdout",
     "output_type": "stream",
     "text": [
      "Data received: {'timestamp': 1682641761, 'message': 'success', 'iss_position': {'latitude': '-40.4233', 'longitude': '-48.3442'}}\n"
     ]
    },
    {
     "name": "stderr",
     "output_type": "stream",
     "text": [
      "C:\\Users\\13018\\AppData\\Local\\Temp\\ipykernel_11600\\2340310863.py:10: FutureWarning: The frame.append method is deprecated and will be removed from pandas in a future version. Use pandas.concat instead.\n",
      "  Sat_data = Sat_data.append({\"Longitude\": longitude, \"Latitude\": latitude}, ignore_index=True)\n"
     ]
    },
    {
     "name": "stdout",
     "output_type": "stream",
     "text": [
      "Data received: {'timestamp': 1682641766, 'message': 'success', 'iss_position': {'latitude': '-40.2167', 'longitude': '-47.9874'}}\n"
     ]
    },
    {
     "name": "stderr",
     "output_type": "stream",
     "text": [
      "C:\\Users\\13018\\AppData\\Local\\Temp\\ipykernel_11600\\2340310863.py:10: FutureWarning: The frame.append method is deprecated and will be removed from pandas in a future version. Use pandas.concat instead.\n",
      "  Sat_data = Sat_data.append({\"Longitude\": longitude, \"Latitude\": latitude}, ignore_index=True)\n"
     ]
    },
    {
     "name": "stdout",
     "output_type": "stream",
     "text": [
      "Data received: {'timestamp': 1682641771, 'message': 'success', 'iss_position': {'latitude': '-40.0280', 'longitude': '-47.6652'}}\n"
     ]
    },
    {
     "name": "stderr",
     "output_type": "stream",
     "text": [
      "C:\\Users\\13018\\AppData\\Local\\Temp\\ipykernel_11600\\2340310863.py:10: FutureWarning: The frame.append method is deprecated and will be removed from pandas in a future version. Use pandas.concat instead.\n",
      "  Sat_data = Sat_data.append({\"Longitude\": longitude, \"Latitude\": latitude}, ignore_index=True)\n"
     ]
    },
    {
     "name": "stdout",
     "output_type": "stream",
     "text": [
      "Data received: {'timestamp': 1682641776, 'message': 'success', 'iss_position': {'latitude': '-39.8382', 'longitude': '-47.3449'}}\n"
     ]
    },
    {
     "name": "stderr",
     "output_type": "stream",
     "text": [
      "C:\\Users\\13018\\AppData\\Local\\Temp\\ipykernel_11600\\2340310863.py:10: FutureWarning: The frame.append method is deprecated and will be removed from pandas in a future version. Use pandas.concat instead.\n",
      "  Sat_data = Sat_data.append({\"Longitude\": longitude, \"Latitude\": latitude}, ignore_index=True)\n"
     ]
    },
    {
     "name": "stdout",
     "output_type": "stream",
     "text": [
      "Data received: {'timestamp': 1682641781, 'message': 'success', 'iss_position': {'latitude': '-39.6474', 'longitude': '-47.0265'}}\n"
     ]
    },
    {
     "name": "stderr",
     "output_type": "stream",
     "text": [
      "C:\\Users\\13018\\AppData\\Local\\Temp\\ipykernel_11600\\2340310863.py:10: FutureWarning: The frame.append method is deprecated and will be removed from pandas in a future version. Use pandas.concat instead.\n",
      "  Sat_data = Sat_data.append({\"Longitude\": longitude, \"Latitude\": latitude}, ignore_index=True)\n"
     ]
    },
    {
     "name": "stdout",
     "output_type": "stream",
     "text": [
      "Data received: {'timestamp': 1682641787, 'message': 'success', 'iss_position': {'latitude': '-39.4363', 'longitude': '-46.6783'}}\n"
     ]
    },
    {
     "name": "stderr",
     "output_type": "stream",
     "text": [
      "C:\\Users\\13018\\AppData\\Local\\Temp\\ipykernel_11600\\2340310863.py:10: FutureWarning: The frame.append method is deprecated and will be removed from pandas in a future version. Use pandas.concat instead.\n",
      "  Sat_data = Sat_data.append({\"Longitude\": longitude, \"Latitude\": latitude}, ignore_index=True)\n"
     ]
    },
    {
     "name": "stdout",
     "output_type": "stream",
     "text": [
      "Data received: {'timestamp': 1682641792, 'message': 'success', 'iss_position': {'latitude': '-39.2435', 'longitude': '-46.3638'}}\n"
     ]
    },
    {
     "name": "stderr",
     "output_type": "stream",
     "text": [
      "C:\\Users\\13018\\AppData\\Local\\Temp\\ipykernel_11600\\2340310863.py:10: FutureWarning: The frame.append method is deprecated and will be removed from pandas in a future version. Use pandas.concat instead.\n",
      "  Sat_data = Sat_data.append({\"Longitude\": longitude, \"Latitude\": latitude}, ignore_index=True)\n"
     ]
    },
    {
     "name": "stdout",
     "output_type": "stream",
     "text": [
      "Data received: {'timestamp': 1682641797, 'message': 'success', 'iss_position': {'latitude': '-39.0302', 'longitude': '-46.0199'}}\n"
     ]
    },
    {
     "name": "stderr",
     "output_type": "stream",
     "text": [
      "C:\\Users\\13018\\AppData\\Local\\Temp\\ipykernel_11600\\2340310863.py:10: FutureWarning: The frame.append method is deprecated and will be removed from pandas in a future version. Use pandas.concat instead.\n",
      "  Sat_data = Sat_data.append({\"Longitude\": longitude, \"Latitude\": latitude}, ignore_index=True)\n"
     ]
    },
    {
     "name": "stdout",
     "output_type": "stream",
     "text": [
      "Data received: {'timestamp': 1682641802, 'message': 'success', 'iss_position': {'latitude': '-38.8354', 'longitude': '-45.7093'}}\n"
     ]
    },
    {
     "name": "stderr",
     "output_type": "stream",
     "text": [
      "C:\\Users\\13018\\AppData\\Local\\Temp\\ipykernel_11600\\2340310863.py:10: FutureWarning: The frame.append method is deprecated and will be removed from pandas in a future version. Use pandas.concat instead.\n",
      "  Sat_data = Sat_data.append({\"Longitude\": longitude, \"Latitude\": latitude}, ignore_index=True)\n"
     ]
    },
    {
     "name": "stdout",
     "output_type": "stream",
     "text": [
      "Data received: {'timestamp': 1682641807, 'message': 'success', 'iss_position': {'latitude': '-38.6396', 'longitude': '-45.4004'}}\n"
     ]
    },
    {
     "name": "stderr",
     "output_type": "stream",
     "text": [
      "C:\\Users\\13018\\AppData\\Local\\Temp\\ipykernel_11600\\2340310863.py:10: FutureWarning: The frame.append method is deprecated and will be removed from pandas in a future version. Use pandas.concat instead.\n",
      "  Sat_data = Sat_data.append({\"Longitude\": longitude, \"Latitude\": latitude}, ignore_index=True)\n"
     ]
    },
    {
     "name": "stdout",
     "output_type": "stream",
     "text": [
      "Data received: {'timestamp': 1682641812, 'message': 'success', 'iss_position': {'latitude': '-38.4429', 'longitude': '-45.0933'}}\n"
     ]
    },
    {
     "name": "stderr",
     "output_type": "stream",
     "text": [
      "C:\\Users\\13018\\AppData\\Local\\Temp\\ipykernel_11600\\2340310863.py:10: FutureWarning: The frame.append method is deprecated and will be removed from pandas in a future version. Use pandas.concat instead.\n",
      "  Sat_data = Sat_data.append({\"Longitude\": longitude, \"Latitude\": latitude}, ignore_index=True)\n"
     ]
    },
    {
     "name": "stdout",
     "output_type": "stream",
     "text": [
      "Data received: {'timestamp': 1682641818, 'message': 'success', 'iss_position': {'latitude': '-38.2255', 'longitude': '-44.7577'}}\n"
     ]
    },
    {
     "name": "stderr",
     "output_type": "stream",
     "text": [
      "C:\\Users\\13018\\AppData\\Local\\Temp\\ipykernel_11600\\2340310863.py:10: FutureWarning: The frame.append method is deprecated and will be removed from pandas in a future version. Use pandas.concat instead.\n",
      "  Sat_data = Sat_data.append({\"Longitude\": longitude, \"Latitude\": latitude}, ignore_index=True)\n"
     ]
    },
    {
     "name": "stdout",
     "output_type": "stream",
     "text": [
      "Data received: {'timestamp': 1682641823, 'message': 'success', 'iss_position': {'latitude': '-38.0268', 'longitude': '-44.4543'}}\n"
     ]
    },
    {
     "name": "stderr",
     "output_type": "stream",
     "text": [
      "C:\\Users\\13018\\AppData\\Local\\Temp\\ipykernel_11600\\2340310863.py:10: FutureWarning: The frame.append method is deprecated and will be removed from pandas in a future version. Use pandas.concat instead.\n",
      "  Sat_data = Sat_data.append({\"Longitude\": longitude, \"Latitude\": latitude}, ignore_index=True)\n"
     ]
    },
    {
     "name": "stdout",
     "output_type": "stream",
     "text": [
      "Data received: {'timestamp': 1682641828, 'message': 'success', 'iss_position': {'latitude': '-37.8273', 'longitude': '-44.1528'}}\n"
     ]
    },
    {
     "name": "stderr",
     "output_type": "stream",
     "text": [
      "C:\\Users\\13018\\AppData\\Local\\Temp\\ipykernel_11600\\2340310863.py:10: FutureWarning: The frame.append method is deprecated and will be removed from pandas in a future version. Use pandas.concat instead.\n",
      "  Sat_data = Sat_data.append({\"Longitude\": longitude, \"Latitude\": latitude}, ignore_index=True)\n"
     ]
    },
    {
     "name": "stdout",
     "output_type": "stream",
     "text": [
      "Data received: {'timestamp': 1682641833, 'message': 'success', 'iss_position': {'latitude': '-37.6068', 'longitude': '-43.8231'}}\n"
     ]
    },
    {
     "name": "stderr",
     "output_type": "stream",
     "text": [
      "C:\\Users\\13018\\AppData\\Local\\Temp\\ipykernel_11600\\2340310863.py:10: FutureWarning: The frame.append method is deprecated and will be removed from pandas in a future version. Use pandas.concat instead.\n",
      "  Sat_data = Sat_data.append({\"Longitude\": longitude, \"Latitude\": latitude}, ignore_index=True)\n"
     ]
    },
    {
     "name": "stdout",
     "output_type": "stream",
     "text": [
      "Data received: {'timestamp': 1682641838, 'message': 'success', 'iss_position': {'latitude': '-37.4055', 'longitude': '-43.5251'}}\n"
     ]
    },
    {
     "name": "stderr",
     "output_type": "stream",
     "text": [
      "C:\\Users\\13018\\AppData\\Local\\Temp\\ipykernel_11600\\2340310863.py:10: FutureWarning: The frame.append method is deprecated and will be removed from pandas in a future version. Use pandas.concat instead.\n",
      "  Sat_data = Sat_data.append({\"Longitude\": longitude, \"Latitude\": latitude}, ignore_index=True)\n"
     ]
    },
    {
     "name": "stdout",
     "output_type": "stream",
     "text": [
      "Data received: {'timestamp': 1682641843, 'message': 'success', 'iss_position': {'latitude': '-37.2033', 'longitude': '-43.2289'}}\n"
     ]
    },
    {
     "name": "stderr",
     "output_type": "stream",
     "text": [
      "C:\\Users\\13018\\AppData\\Local\\Temp\\ipykernel_11600\\2340310863.py:10: FutureWarning: The frame.append method is deprecated and will be removed from pandas in a future version. Use pandas.concat instead.\n",
      "  Sat_data = Sat_data.append({\"Longitude\": longitude, \"Latitude\": latitude}, ignore_index=True)\n"
     ]
    },
    {
     "name": "stdout",
     "output_type": "stream",
     "text": [
      "Data received: {'timestamp': 1682641849, 'message': 'success', 'iss_position': {'latitude': '-36.9800', 'longitude': '-42.9051'}}\n"
     ]
    },
    {
     "name": "stderr",
     "output_type": "stream",
     "text": [
      "C:\\Users\\13018\\AppData\\Local\\Temp\\ipykernel_11600\\2340310863.py:10: FutureWarning: The frame.append method is deprecated and will be removed from pandas in a future version. Use pandas.concat instead.\n",
      "  Sat_data = Sat_data.append({\"Longitude\": longitude, \"Latitude\": latitude}, ignore_index=True)\n"
     ]
    },
    {
     "name": "stdout",
     "output_type": "stream",
     "text": [
      "Data received: {'timestamp': 1682641854, 'message': 'success', 'iss_position': {'latitude': '-36.7760', 'longitude': '-42.6125'}}\n"
     ]
    },
    {
     "name": "stderr",
     "output_type": "stream",
     "text": [
      "C:\\Users\\13018\\AppData\\Local\\Temp\\ipykernel_11600\\2340310863.py:10: FutureWarning: The frame.append method is deprecated and will be removed from pandas in a future version. Use pandas.concat instead.\n",
      "  Sat_data = Sat_data.append({\"Longitude\": longitude, \"Latitude\": latitude}, ignore_index=True)\n"
     ]
    },
    {
     "name": "stdout",
     "output_type": "stream",
     "text": [
      "Data received: {'timestamp': 1682641859, 'message': 'success', 'iss_position': {'latitude': '-36.5713', 'longitude': '-42.3215'}}\n"
     ]
    },
    {
     "name": "stderr",
     "output_type": "stream",
     "text": [
      "C:\\Users\\13018\\AppData\\Local\\Temp\\ipykernel_11600\\2340310863.py:10: FutureWarning: The frame.append method is deprecated and will be removed from pandas in a future version. Use pandas.concat instead.\n",
      "  Sat_data = Sat_data.append({\"Longitude\": longitude, \"Latitude\": latitude}, ignore_index=True)\n"
     ]
    },
    {
     "name": "stdout",
     "output_type": "stream",
     "text": [
      "Data received: {'timestamp': 1682641864, 'message': 'success', 'iss_position': {'latitude': '-36.3451', 'longitude': '-42.0033'}}\n"
     ]
    },
    {
     "name": "stderr",
     "output_type": "stream",
     "text": [
      "C:\\Users\\13018\\AppData\\Local\\Temp\\ipykernel_11600\\2340310863.py:10: FutureWarning: The frame.append method is deprecated and will be removed from pandas in a future version. Use pandas.concat instead.\n",
      "  Sat_data = Sat_data.append({\"Longitude\": longitude, \"Latitude\": latitude}, ignore_index=True)\n"
     ]
    },
    {
     "name": "stdout",
     "output_type": "stream",
     "text": [
      "Data received: {'timestamp': 1682641870, 'message': 'success', 'iss_position': {'latitude': '-36.1386', 'longitude': '-41.7158'}}\n"
     ]
    },
    {
     "name": "stderr",
     "output_type": "stream",
     "text": [
      "C:\\Users\\13018\\AppData\\Local\\Temp\\ipykernel_11600\\2340310863.py:10: FutureWarning: The frame.append method is deprecated and will be removed from pandas in a future version. Use pandas.concat instead.\n",
      "  Sat_data = Sat_data.append({\"Longitude\": longitude, \"Latitude\": latitude}, ignore_index=True)\n"
     ]
    },
    {
     "name": "stdout",
     "output_type": "stream",
     "text": [
      "Data received: {'timestamp': 1682641875, 'message': 'success', 'iss_position': {'latitude': '-35.9314', 'longitude': '-41.4299'}}\n"
     ]
    },
    {
     "name": "stderr",
     "output_type": "stream",
     "text": [
      "C:\\Users\\13018\\AppData\\Local\\Temp\\ipykernel_11600\\2340310863.py:10: FutureWarning: The frame.append method is deprecated and will be removed from pandas in a future version. Use pandas.concat instead.\n",
      "  Sat_data = Sat_data.append({\"Longitude\": longitude, \"Latitude\": latitude}, ignore_index=True)\n"
     ]
    },
    {
     "name": "stdout",
     "output_type": "stream",
     "text": [
      "Data received: {'timestamp': 1682641880, 'message': 'success', 'iss_position': {'latitude': '-35.7026', 'longitude': '-41.1173'}}\n"
     ]
    },
    {
     "name": "stderr",
     "output_type": "stream",
     "text": [
      "C:\\Users\\13018\\AppData\\Local\\Temp\\ipykernel_11600\\2340310863.py:10: FutureWarning: The frame.append method is deprecated and will be removed from pandas in a future version. Use pandas.concat instead.\n",
      "  Sat_data = Sat_data.append({\"Longitude\": longitude, \"Latitude\": latitude}, ignore_index=True)\n"
     ]
    },
    {
     "name": "stdout",
     "output_type": "stream",
     "text": [
      "Data received: {'timestamp': 1682641885, 'message': 'success', 'iss_position': {'latitude': '-35.4937', 'longitude': '-40.8348'}}\n"
     ]
    },
    {
     "name": "stderr",
     "output_type": "stream",
     "text": [
      "C:\\Users\\13018\\AppData\\Local\\Temp\\ipykernel_11600\\2340310863.py:10: FutureWarning: The frame.append method is deprecated and will be removed from pandas in a future version. Use pandas.concat instead.\n",
      "  Sat_data = Sat_data.append({\"Longitude\": longitude, \"Latitude\": latitude}, ignore_index=True)\n"
     ]
    },
    {
     "name": "stdout",
     "output_type": "stream",
     "text": [
      "Data received: {'timestamp': 1682641890, 'message': 'success', 'iss_position': {'latitude': '-35.2841', 'longitude': '-40.5538'}}\n"
     ]
    },
    {
     "name": "stderr",
     "output_type": "stream",
     "text": [
      "C:\\Users\\13018\\AppData\\Local\\Temp\\ipykernel_11600\\2340310863.py:10: FutureWarning: The frame.append method is deprecated and will be removed from pandas in a future version. Use pandas.concat instead.\n",
      "  Sat_data = Sat_data.append({\"Longitude\": longitude, \"Latitude\": latitude}, ignore_index=True)\n"
     ]
    },
    {
     "name": "stdout",
     "output_type": "stream",
     "text": [
      "Data received: {'timestamp': 1682641896, 'message': 'success', 'iss_position': {'latitude': '-35.0527', 'longitude': '-40.2466'}}\n"
     ]
    },
    {
     "name": "stderr",
     "output_type": "stream",
     "text": [
      "C:\\Users\\13018\\AppData\\Local\\Temp\\ipykernel_11600\\2340310863.py:10: FutureWarning: The frame.append method is deprecated and will be removed from pandas in a future version. Use pandas.concat instead.\n",
      "  Sat_data = Sat_data.append({\"Longitude\": longitude, \"Latitude\": latitude}, ignore_index=True)\n"
     ]
    },
    {
     "name": "stdout",
     "output_type": "stream",
     "text": [
      "Data received: {'timestamp': 1682641901, 'message': 'success', 'iss_position': {'latitude': '-34.8415', 'longitude': '-39.9689'}}\n"
     ]
    },
    {
     "name": "stderr",
     "output_type": "stream",
     "text": [
      "C:\\Users\\13018\\AppData\\Local\\Temp\\ipykernel_11600\\2340310863.py:10: FutureWarning: The frame.append method is deprecated and will be removed from pandas in a future version. Use pandas.concat instead.\n",
      "  Sat_data = Sat_data.append({\"Longitude\": longitude, \"Latitude\": latitude}, ignore_index=True)\n"
     ]
    },
    {
     "name": "stdout",
     "output_type": "stream",
     "text": [
      "Data received: {'timestamp': 1682641906, 'message': 'success', 'iss_position': {'latitude': '-34.6084', 'longitude': '-39.6652'}}\n"
     ]
    },
    {
     "name": "stderr",
     "output_type": "stream",
     "text": [
      "C:\\Users\\13018\\AppData\\Local\\Temp\\ipykernel_11600\\2340310863.py:10: FutureWarning: The frame.append method is deprecated and will be removed from pandas in a future version. Use pandas.concat instead.\n",
      "  Sat_data = Sat_data.append({\"Longitude\": longitude, \"Latitude\": latitude}, ignore_index=True)\n"
     ]
    },
    {
     "name": "stdout",
     "output_type": "stream",
     "text": [
      "Data received: {'timestamp': 1682641911, 'message': 'success', 'iss_position': {'latitude': '-34.3957', 'longitude': '-39.3907'}}\n"
     ]
    },
    {
     "name": "stderr",
     "output_type": "stream",
     "text": [
      "C:\\Users\\13018\\AppData\\Local\\Temp\\ipykernel_11600\\2340310863.py:10: FutureWarning: The frame.append method is deprecated and will be removed from pandas in a future version. Use pandas.concat instead.\n",
      "  Sat_data = Sat_data.append({\"Longitude\": longitude, \"Latitude\": latitude}, ignore_index=True)\n"
     ]
    },
    {
     "name": "stdout",
     "output_type": "stream",
     "text": [
      "Data received: {'timestamp': 1682641916, 'message': 'success', 'iss_position': {'latitude': '-34.1823', 'longitude': '-39.1177'}}\n"
     ]
    },
    {
     "name": "stderr",
     "output_type": "stream",
     "text": [
      "C:\\Users\\13018\\AppData\\Local\\Temp\\ipykernel_11600\\2340310863.py:10: FutureWarning: The frame.append method is deprecated and will be removed from pandas in a future version. Use pandas.concat instead.\n",
      "  Sat_data = Sat_data.append({\"Longitude\": longitude, \"Latitude\": latitude}, ignore_index=True)\n"
     ]
    },
    {
     "name": "stdout",
     "output_type": "stream",
     "text": [
      "Data received: {'timestamp': 1682641921, 'message': 'success', 'iss_position': {'latitude': '-33.9682', 'longitude': '-38.8462'}}\n"
     ]
    },
    {
     "name": "stderr",
     "output_type": "stream",
     "text": [
      "C:\\Users\\13018\\AppData\\Local\\Temp\\ipykernel_11600\\2340310863.py:10: FutureWarning: The frame.append method is deprecated and will be removed from pandas in a future version. Use pandas.concat instead.\n",
      "  Sat_data = Sat_data.append({\"Longitude\": longitude, \"Latitude\": latitude}, ignore_index=True)\n"
     ]
    },
    {
     "name": "stdout",
     "output_type": "stream",
     "text": [
      "Data received: {'timestamp': 1682641927, 'message': 'success', 'iss_position': {'latitude': '-33.7319', 'longitude': '-38.5492'}}\n"
     ]
    },
    {
     "name": "stderr",
     "output_type": "stream",
     "text": [
      "C:\\Users\\13018\\AppData\\Local\\Temp\\ipykernel_11600\\2340310863.py:10: FutureWarning: The frame.append method is deprecated and will be removed from pandas in a future version. Use pandas.concat instead.\n",
      "  Sat_data = Sat_data.append({\"Longitude\": longitude, \"Latitude\": latitude}, ignore_index=True)\n"
     ]
    },
    {
     "name": "stdout",
     "output_type": "stream",
     "text": [
      "Data received: {'timestamp': 1682641932, 'message': 'success', 'iss_position': {'latitude': '-33.5163', 'longitude': '-38.2808'}}\n"
     ]
    },
    {
     "name": "stderr",
     "output_type": "stream",
     "text": [
      "C:\\Users\\13018\\AppData\\Local\\Temp\\ipykernel_11600\\2340310863.py:10: FutureWarning: The frame.append method is deprecated and will be removed from pandas in a future version. Use pandas.concat instead.\n",
      "  Sat_data = Sat_data.append({\"Longitude\": longitude, \"Latitude\": latitude}, ignore_index=True)\n"
     ]
    },
    {
     "name": "stdout",
     "output_type": "stream",
     "text": [
      "Data received: {'timestamp': 1682641937, 'message': 'success', 'iss_position': {'latitude': '-33.3001', 'longitude': '-38.0138'}}\n"
     ]
    },
    {
     "name": "stderr",
     "output_type": "stream",
     "text": [
      "C:\\Users\\13018\\AppData\\Local\\Temp\\ipykernel_11600\\2340310863.py:10: FutureWarning: The frame.append method is deprecated and will be removed from pandas in a future version. Use pandas.concat instead.\n",
      "  Sat_data = Sat_data.append({\"Longitude\": longitude, \"Latitude\": latitude}, ignore_index=True)\n"
     ]
    },
    {
     "name": "stdout",
     "output_type": "stream",
     "text": [
      "Data received: {'timestamp': 1682641942, 'message': 'success', 'iss_position': {'latitude': '-33.0615', 'longitude': '-37.7218'}}\n"
     ]
    },
    {
     "name": "stderr",
     "output_type": "stream",
     "text": [
      "C:\\Users\\13018\\AppData\\Local\\Temp\\ipykernel_11600\\2340310863.py:10: FutureWarning: The frame.append method is deprecated and will be removed from pandas in a future version. Use pandas.concat instead.\n",
      "  Sat_data = Sat_data.append({\"Longitude\": longitude, \"Latitude\": latitude}, ignore_index=True)\n"
     ]
    },
    {
     "name": "stdout",
     "output_type": "stream",
     "text": [
      "Data received: {'timestamp': 1682641947, 'message': 'success', 'iss_position': {'latitude': '-32.8440', 'longitude': '-37.4578'}}\n"
     ]
    },
    {
     "name": "stderr",
     "output_type": "stream",
     "text": [
      "C:\\Users\\13018\\AppData\\Local\\Temp\\ipykernel_11600\\2340310863.py:10: FutureWarning: The frame.append method is deprecated and will be removed from pandas in a future version. Use pandas.concat instead.\n",
      "  Sat_data = Sat_data.append({\"Longitude\": longitude, \"Latitude\": latitude}, ignore_index=True)\n"
     ]
    },
    {
     "name": "stdout",
     "output_type": "stream",
     "text": [
      "Data received: {'timestamp': 1682641952, 'message': 'success', 'iss_position': {'latitude': '-32.6257', 'longitude': '-37.1952'}}\n"
     ]
    },
    {
     "name": "stderr",
     "output_type": "stream",
     "text": [
      "C:\\Users\\13018\\AppData\\Local\\Temp\\ipykernel_11600\\2340310863.py:10: FutureWarning: The frame.append method is deprecated and will be removed from pandas in a future version. Use pandas.concat instead.\n",
      "  Sat_data = Sat_data.append({\"Longitude\": longitude, \"Latitude\": latitude}, ignore_index=True)\n"
     ]
    },
    {
     "name": "stdout",
     "output_type": "stream",
     "text": [
      "Data received: {'timestamp': 1682641958, 'message': 'success', 'iss_position': {'latitude': '-32.3850', 'longitude': '-36.9080'}}\n"
     ]
    },
    {
     "name": "stderr",
     "output_type": "stream",
     "text": [
      "C:\\Users\\13018\\AppData\\Local\\Temp\\ipykernel_11600\\2340310863.py:10: FutureWarning: The frame.append method is deprecated and will be removed from pandas in a future version. Use pandas.concat instead.\n",
      "  Sat_data = Sat_data.append({\"Longitude\": longitude, \"Latitude\": latitude}, ignore_index=True)\n"
     ]
    },
    {
     "name": "stdout",
     "output_type": "stream",
     "text": [
      "Data received: {'timestamp': 1682641963, 'message': 'success', 'iss_position': {'latitude': '-32.1654', 'longitude': '-36.6483'}}\n"
     ]
    },
    {
     "name": "stderr",
     "output_type": "stream",
     "text": [
      "C:\\Users\\13018\\AppData\\Local\\Temp\\ipykernel_11600\\2340310863.py:10: FutureWarning: The frame.append method is deprecated and will be removed from pandas in a future version. Use pandas.concat instead.\n",
      "  Sat_data = Sat_data.append({\"Longitude\": longitude, \"Latitude\": latitude}, ignore_index=True)\n"
     ]
    },
    {
     "name": "stdout",
     "output_type": "stream",
     "text": [
      "Data received: {'timestamp': 1682641968, 'message': 'success', 'iss_position': {'latitude': '-31.9452', 'longitude': '-36.3899'}}\n"
     ]
    },
    {
     "name": "stderr",
     "output_type": "stream",
     "text": [
      "C:\\Users\\13018\\AppData\\Local\\Temp\\ipykernel_11600\\2340310863.py:10: FutureWarning: The frame.append method is deprecated and will be removed from pandas in a future version. Use pandas.concat instead.\n",
      "  Sat_data = Sat_data.append({\"Longitude\": longitude, \"Latitude\": latitude}, ignore_index=True)\n"
     ]
    },
    {
     "name": "stdout",
     "output_type": "stream",
     "text": [
      "Data received: {'timestamp': 1682641973, 'message': 'success', 'iss_position': {'latitude': '-31.7023', 'longitude': '-36.1072'}}\n"
     ]
    },
    {
     "name": "stderr",
     "output_type": "stream",
     "text": [
      "C:\\Users\\13018\\AppData\\Local\\Temp\\ipykernel_11600\\2340310863.py:10: FutureWarning: The frame.append method is deprecated and will be removed from pandas in a future version. Use pandas.concat instead.\n",
      "  Sat_data = Sat_data.append({\"Longitude\": longitude, \"Latitude\": latitude}, ignore_index=True)\n"
     ]
    },
    {
     "name": "stdout",
     "output_type": "stream",
     "text": [
      "Data received: {'timestamp': 1682641978, 'message': 'success', 'iss_position': {'latitude': '-31.4809', 'longitude': '-35.8516'}}\n"
     ]
    },
    {
     "name": "stderr",
     "output_type": "stream",
     "text": [
      "C:\\Users\\13018\\AppData\\Local\\Temp\\ipykernel_11600\\2340310863.py:10: FutureWarning: The frame.append method is deprecated and will be removed from pandas in a future version. Use pandas.concat instead.\n",
      "  Sat_data = Sat_data.append({\"Longitude\": longitude, \"Latitude\": latitude}, ignore_index=True)\n"
     ]
    },
    {
     "name": "stdout",
     "output_type": "stream",
     "text": [
      "Data received: {'timestamp': 1682641983, 'message': 'success', 'iss_position': {'latitude': '-31.2589', 'longitude': '-35.5973'}}\n"
     ]
    },
    {
     "name": "stderr",
     "output_type": "stream",
     "text": [
      "C:\\Users\\13018\\AppData\\Local\\Temp\\ipykernel_11600\\2340310863.py:10: FutureWarning: The frame.append method is deprecated and will be removed from pandas in a future version. Use pandas.concat instead.\n",
      "  Sat_data = Sat_data.append({\"Longitude\": longitude, \"Latitude\": latitude}, ignore_index=True)\n"
     ]
    },
    {
     "name": "stdout",
     "output_type": "stream",
     "text": [
      "Data received: {'timestamp': 1682641989, 'message': 'success', 'iss_position': {'latitude': '-31.0139', 'longitude': '-35.3191'}}\n"
     ]
    },
    {
     "name": "stderr",
     "output_type": "stream",
     "text": [
      "C:\\Users\\13018\\AppData\\Local\\Temp\\ipykernel_11600\\2340310863.py:10: FutureWarning: The frame.append method is deprecated and will be removed from pandas in a future version. Use pandas.concat instead.\n",
      "  Sat_data = Sat_data.append({\"Longitude\": longitude, \"Latitude\": latitude}, ignore_index=True)\n"
     ]
    },
    {
     "name": "stdout",
     "output_type": "stream",
     "text": [
      "Data received: {'timestamp': 1682641994, 'message': 'success', 'iss_position': {'latitude': '-30.7906', 'longitude': '-35.0675'}}\n"
     ]
    },
    {
     "name": "stderr",
     "output_type": "stream",
     "text": [
      "C:\\Users\\13018\\AppData\\Local\\Temp\\ipykernel_11600\\2340310863.py:10: FutureWarning: The frame.append method is deprecated and will be removed from pandas in a future version. Use pandas.concat instead.\n",
      "  Sat_data = Sat_data.append({\"Longitude\": longitude, \"Latitude\": latitude}, ignore_index=True)\n"
     ]
    },
    {
     "name": "stdout",
     "output_type": "stream",
     "text": [
      "Data received: {'timestamp': 1682641999, 'message': 'success', 'iss_position': {'latitude': '-30.5668', 'longitude': '-34.8172'}}\n"
     ]
    },
    {
     "name": "stderr",
     "output_type": "stream",
     "text": [
      "C:\\Users\\13018\\AppData\\Local\\Temp\\ipykernel_11600\\2340310863.py:10: FutureWarning: The frame.append method is deprecated and will be removed from pandas in a future version. Use pandas.concat instead.\n",
      "  Sat_data = Sat_data.append({\"Longitude\": longitude, \"Latitude\": latitude}, ignore_index=True)\n"
     ]
    },
    {
     "name": "stdout",
     "output_type": "stream",
     "text": [
      "Data received: {'timestamp': 1682642004, 'message': 'success', 'iss_position': {'latitude': '-30.3200', 'longitude': '-34.5434'}}\n"
     ]
    },
    {
     "name": "stderr",
     "output_type": "stream",
     "text": [
      "C:\\Users\\13018\\AppData\\Local\\Temp\\ipykernel_11600\\2340310863.py:10: FutureWarning: The frame.append method is deprecated and will be removed from pandas in a future version. Use pandas.concat instead.\n",
      "  Sat_data = Sat_data.append({\"Longitude\": longitude, \"Latitude\": latitude}, ignore_index=True)\n"
     ]
    },
    {
     "name": "stdout",
     "output_type": "stream",
     "text": [
      "Data received: {'timestamp': 1682642009, 'message': 'success', 'iss_position': {'latitude': '-30.0950', 'longitude': '-34.2957'}}\n"
     ]
    },
    {
     "name": "stderr",
     "output_type": "stream",
     "text": [
      "C:\\Users\\13018\\AppData\\Local\\Temp\\ipykernel_11600\\2340310863.py:10: FutureWarning: The frame.append method is deprecated and will be removed from pandas in a future version. Use pandas.concat instead.\n",
      "  Sat_data = Sat_data.append({\"Longitude\": longitude, \"Latitude\": latitude}, ignore_index=True)\n"
     ]
    },
    {
     "name": "stdout",
     "output_type": "stream",
     "text": [
      "Data received: {'timestamp': 1682642014, 'message': 'success', 'iss_position': {'latitude': '-29.8694', 'longitude': '-34.0492'}}\n"
     ]
    },
    {
     "name": "stderr",
     "output_type": "stream",
     "text": [
      "C:\\Users\\13018\\AppData\\Local\\Temp\\ipykernel_11600\\2340310863.py:10: FutureWarning: The frame.append method is deprecated and will be removed from pandas in a future version. Use pandas.concat instead.\n",
      "  Sat_data = Sat_data.append({\"Longitude\": longitude, \"Latitude\": latitude}, ignore_index=True)\n"
     ]
    },
    {
     "name": "stdout",
     "output_type": "stream",
     "text": [
      "Data received: {'timestamp': 1682642020, 'message': 'success', 'iss_position': {'latitude': '-29.6207', 'longitude': '-33.7794'}}\n"
     ]
    },
    {
     "name": "stderr",
     "output_type": "stream",
     "text": [
      "C:\\Users\\13018\\AppData\\Local\\Temp\\ipykernel_11600\\2340310863.py:10: FutureWarning: The frame.append method is deprecated and will be removed from pandas in a future version. Use pandas.concat instead.\n",
      "  Sat_data = Sat_data.append({\"Longitude\": longitude, \"Latitude\": latitude}, ignore_index=True)\n"
     ]
    },
    {
     "name": "stdout",
     "output_type": "stream",
     "text": [
      "Data received: {'timestamp': 1682642025, 'message': 'success', 'iss_position': {'latitude': '-29.3940', 'longitude': '-33.5355'}}\n"
     ]
    },
    {
     "name": "stderr",
     "output_type": "stream",
     "text": [
      "C:\\Users\\13018\\AppData\\Local\\Temp\\ipykernel_11600\\2340310863.py:10: FutureWarning: The frame.append method is deprecated and will be removed from pandas in a future version. Use pandas.concat instead.\n",
      "  Sat_data = Sat_data.append({\"Longitude\": longitude, \"Latitude\": latitude}, ignore_index=True)\n"
     ]
    },
    {
     "name": "stdout",
     "output_type": "stream",
     "text": [
      "Data received: {'timestamp': 1682642030, 'message': 'success', 'iss_position': {'latitude': '-29.1668', 'longitude': '-33.2927'}}\n"
     ]
    },
    {
     "name": "stderr",
     "output_type": "stream",
     "text": [
      "C:\\Users\\13018\\AppData\\Local\\Temp\\ipykernel_11600\\2340310863.py:10: FutureWarning: The frame.append method is deprecated and will be removed from pandas in a future version. Use pandas.concat instead.\n",
      "  Sat_data = Sat_data.append({\"Longitude\": longitude, \"Latitude\": latitude}, ignore_index=True)\n"
     ]
    },
    {
     "name": "stdout",
     "output_type": "stream",
     "text": [
      "Data received: {'timestamp': 1682642035, 'message': 'success', 'iss_position': {'latitude': '-28.9163', 'longitude': '-33.0270'}}\n"
     ]
    },
    {
     "name": "stderr",
     "output_type": "stream",
     "text": [
      "C:\\Users\\13018\\AppData\\Local\\Temp\\ipykernel_11600\\2340310863.py:10: FutureWarning: The frame.append method is deprecated and will be removed from pandas in a future version. Use pandas.concat instead.\n",
      "  Sat_data = Sat_data.append({\"Longitude\": longitude, \"Latitude\": latitude}, ignore_index=True)\n"
     ]
    },
    {
     "name": "stdout",
     "output_type": "stream",
     "text": [
      "Data received: {'timestamp': 1682642040, 'message': 'success', 'iss_position': {'latitude': '-28.6880', 'longitude': '-32.7866'}}\n"
     ]
    },
    {
     "name": "stderr",
     "output_type": "stream",
     "text": [
      "C:\\Users\\13018\\AppData\\Local\\Temp\\ipykernel_11600\\2340310863.py:10: FutureWarning: The frame.append method is deprecated and will be removed from pandas in a future version. Use pandas.concat instead.\n",
      "  Sat_data = Sat_data.append({\"Longitude\": longitude, \"Latitude\": latitude}, ignore_index=True)\n"
     ]
    },
    {
     "name": "stdout",
     "output_type": "stream",
     "text": [
      "Data received: {'timestamp': 1682642045, 'message': 'success', 'iss_position': {'latitude': '-28.4592', 'longitude': '-32.5474'}}\n"
     ]
    },
    {
     "name": "stderr",
     "output_type": "stream",
     "text": [
      "C:\\Users\\13018\\AppData\\Local\\Temp\\ipykernel_11600\\2340310863.py:10: FutureWarning: The frame.append method is deprecated and will be removed from pandas in a future version. Use pandas.concat instead.\n",
      "  Sat_data = Sat_data.append({\"Longitude\": longitude, \"Latitude\": latitude}, ignore_index=True)\n"
     ]
    },
    {
     "name": "stdout",
     "output_type": "stream",
     "text": [
      "Data received: {'timestamp': 1682642051, 'message': 'success', 'iss_position': {'latitude': '-28.2070', 'longitude': '-32.2856'}}\n"
     ]
    },
    {
     "name": "stderr",
     "output_type": "stream",
     "text": [
      "C:\\Users\\13018\\AppData\\Local\\Temp\\ipykernel_11600\\2340310863.py:10: FutureWarning: The frame.append method is deprecated and will be removed from pandas in a future version. Use pandas.concat instead.\n",
      "  Sat_data = Sat_data.append({\"Longitude\": longitude, \"Latitude\": latitude}, ignore_index=True)\n"
     ]
    },
    {
     "name": "stdout",
     "output_type": "stream",
     "text": [
      "Data received: {'timestamp': 1682642056, 'message': 'success', 'iss_position': {'latitude': '-27.9772', 'longitude': '-32.0487'}}\n"
     ]
    },
    {
     "name": "stderr",
     "output_type": "stream",
     "text": [
      "C:\\Users\\13018\\AppData\\Local\\Temp\\ipykernel_11600\\2340310863.py:10: FutureWarning: The frame.append method is deprecated and will be removed from pandas in a future version. Use pandas.concat instead.\n",
      "  Sat_data = Sat_data.append({\"Longitude\": longitude, \"Latitude\": latitude}, ignore_index=True)\n"
     ]
    },
    {
     "name": "stdout",
     "output_type": "stream",
     "text": [
      "Data received: {'timestamp': 1682642061, 'message': 'success', 'iss_position': {'latitude': '-27.7469', 'longitude': '-31.8129'}}\n"
     ]
    },
    {
     "name": "stderr",
     "output_type": "stream",
     "text": [
      "C:\\Users\\13018\\AppData\\Local\\Temp\\ipykernel_11600\\2340310863.py:10: FutureWarning: The frame.append method is deprecated and will be removed from pandas in a future version. Use pandas.concat instead.\n",
      "  Sat_data = Sat_data.append({\"Longitude\": longitude, \"Latitude\": latitude}, ignore_index=True)\n"
     ]
    },
    {
     "name": "stdout",
     "output_type": "stream",
     "text": [
      "Data received: {'timestamp': 1682642066, 'message': 'success', 'iss_position': {'latitude': '-27.4930', 'longitude': '-31.5548'}}\n"
     ]
    },
    {
     "name": "stderr",
     "output_type": "stream",
     "text": [
      "C:\\Users\\13018\\AppData\\Local\\Temp\\ipykernel_11600\\2340310863.py:10: FutureWarning: The frame.append method is deprecated and will be removed from pandas in a future version. Use pandas.concat instead.\n",
      "  Sat_data = Sat_data.append({\"Longitude\": longitude, \"Latitude\": latitude}, ignore_index=True)\n"
     ]
    },
    {
     "name": "stdout",
     "output_type": "stream",
     "text": [
      "Data received: {'timestamp': 1682642071, 'message': 'success', 'iss_position': {'latitude': '-27.2617', 'longitude': '-31.3213'}}\n"
     ]
    },
    {
     "name": "stderr",
     "output_type": "stream",
     "text": [
      "C:\\Users\\13018\\AppData\\Local\\Temp\\ipykernel_11600\\2340310863.py:10: FutureWarning: The frame.append method is deprecated and will be removed from pandas in a future version. Use pandas.concat instead.\n",
      "  Sat_data = Sat_data.append({\"Longitude\": longitude, \"Latitude\": latitude}, ignore_index=True)\n"
     ]
    },
    {
     "name": "stdout",
     "output_type": "stream",
     "text": [
      "Data received: {'timestamp': 1682642076, 'message': 'success', 'iss_position': {'latitude': '-27.0300', 'longitude': '-31.0889'}}\n"
     ]
    },
    {
     "name": "stderr",
     "output_type": "stream",
     "text": [
      "C:\\Users\\13018\\AppData\\Local\\Temp\\ipykernel_11600\\2340310863.py:10: FutureWarning: The frame.append method is deprecated and will be removed from pandas in a future version. Use pandas.concat instead.\n",
      "  Sat_data = Sat_data.append({\"Longitude\": longitude, \"Latitude\": latitude}, ignore_index=True)\n"
     ]
    },
    {
     "name": "stdout",
     "output_type": "stream",
     "text": [
      "Data received: {'timestamp': 1682642082, 'message': 'success', 'iss_position': {'latitude': '-26.7746', 'longitude': '-30.8344'}}\n"
     ]
    },
    {
     "name": "stderr",
     "output_type": "stream",
     "text": [
      "C:\\Users\\13018\\AppData\\Local\\Temp\\ipykernel_11600\\2340310863.py:10: FutureWarning: The frame.append method is deprecated and will be removed from pandas in a future version. Use pandas.concat instead.\n",
      "  Sat_data = Sat_data.append({\"Longitude\": longitude, \"Latitude\": latitude}, ignore_index=True)\n"
     ]
    },
    {
     "name": "stdout",
     "output_type": "stream",
     "text": [
      "Data received: {'timestamp': 1682642087, 'message': 'success', 'iss_position': {'latitude': '-26.5419', 'longitude': '-30.6042'}}\n"
     ]
    },
    {
     "name": "stderr",
     "output_type": "stream",
     "text": [
      "C:\\Users\\13018\\AppData\\Local\\Temp\\ipykernel_11600\\2340310863.py:10: FutureWarning: The frame.append method is deprecated and will be removed from pandas in a future version. Use pandas.concat instead.\n",
      "  Sat_data = Sat_data.append({\"Longitude\": longitude, \"Latitude\": latitude}, ignore_index=True)\n"
     ]
    },
    {
     "name": "stdout",
     "output_type": "stream",
     "text": [
      "Data received: {'timestamp': 1682642092, 'message': 'success', 'iss_position': {'latitude': '-26.3088', 'longitude': '-30.3749'}}\n"
     ]
    },
    {
     "name": "stderr",
     "output_type": "stream",
     "text": [
      "C:\\Users\\13018\\AppData\\Local\\Temp\\ipykernel_11600\\2340310863.py:10: FutureWarning: The frame.append method is deprecated and will be removed from pandas in a future version. Use pandas.concat instead.\n",
      "  Sat_data = Sat_data.append({\"Longitude\": longitude, \"Latitude\": latitude}, ignore_index=True)\n"
     ]
    },
    {
     "name": "stdout",
     "output_type": "stream",
     "text": [
      "Data received: {'timestamp': 1682642097, 'message': 'success', 'iss_position': {'latitude': '-26.0519', 'longitude': '-30.1239'}}\n"
     ]
    },
    {
     "name": "stderr",
     "output_type": "stream",
     "text": [
      "C:\\Users\\13018\\AppData\\Local\\Temp\\ipykernel_11600\\2340310863.py:10: FutureWarning: The frame.append method is deprecated and will be removed from pandas in a future version. Use pandas.concat instead.\n",
      "  Sat_data = Sat_data.append({\"Longitude\": longitude, \"Latitude\": latitude}, ignore_index=True)\n"
     ]
    },
    {
     "name": "stdout",
     "output_type": "stream",
     "text": [
      "Data received: {'timestamp': 1682642102, 'message': 'success', 'iss_position': {'latitude': '-25.8178', 'longitude': '-29.8967'}}\n"
     ]
    },
    {
     "name": "stderr",
     "output_type": "stream",
     "text": [
      "C:\\Users\\13018\\AppData\\Local\\Temp\\ipykernel_11600\\2340310863.py:10: FutureWarning: The frame.append method is deprecated and will be removed from pandas in a future version. Use pandas.concat instead.\n",
      "  Sat_data = Sat_data.append({\"Longitude\": longitude, \"Latitude\": latitude}, ignore_index=True)\n"
     ]
    },
    {
     "name": "stdout",
     "output_type": "stream",
     "text": [
      "Data received: {'timestamp': 1682642107, 'message': 'success', 'iss_position': {'latitude': '-25.5834', 'longitude': '-29.6706'}}\n"
     ]
    },
    {
     "name": "stderr",
     "output_type": "stream",
     "text": [
      "C:\\Users\\13018\\AppData\\Local\\Temp\\ipykernel_11600\\2340310863.py:10: FutureWarning: The frame.append method is deprecated and will be removed from pandas in a future version. Use pandas.concat instead.\n",
      "  Sat_data = Sat_data.append({\"Longitude\": longitude, \"Latitude\": latitude}, ignore_index=True)\n"
     ]
    },
    {
     "name": "stdout",
     "output_type": "stream",
     "text": [
      "Data received: {'timestamp': 1682642113, 'message': 'success', 'iss_position': {'latitude': '-25.3250', 'longitude': '-29.4229'}}\n"
     ]
    },
    {
     "name": "stderr",
     "output_type": "stream",
     "text": [
      "C:\\Users\\13018\\AppData\\Local\\Temp\\ipykernel_11600\\2340310863.py:10: FutureWarning: The frame.append method is deprecated and will be removed from pandas in a future version. Use pandas.concat instead.\n",
      "  Sat_data = Sat_data.append({\"Longitude\": longitude, \"Latitude\": latitude}, ignore_index=True)\n"
     ]
    },
    {
     "name": "stdout",
     "output_type": "stream",
     "text": [
      "Data received: {'timestamp': 1682642118, 'message': 'success', 'iss_position': {'latitude': '-25.0897', 'longitude': '-29.1988'}}\n"
     ]
    },
    {
     "name": "stderr",
     "output_type": "stream",
     "text": [
      "C:\\Users\\13018\\AppData\\Local\\Temp\\ipykernel_11600\\2340310863.py:10: FutureWarning: The frame.append method is deprecated and will be removed from pandas in a future version. Use pandas.concat instead.\n",
      "  Sat_data = Sat_data.append({\"Longitude\": longitude, \"Latitude\": latitude}, ignore_index=True)\n"
     ]
    },
    {
     "name": "stdout",
     "output_type": "stream",
     "text": [
      "Data received: {'timestamp': 1682642123, 'message': 'success', 'iss_position': {'latitude': '-24.8540', 'longitude': '-28.9756'}}\n"
     ]
    },
    {
     "name": "stderr",
     "output_type": "stream",
     "text": [
      "C:\\Users\\13018\\AppData\\Local\\Temp\\ipykernel_11600\\2340310863.py:10: FutureWarning: The frame.append method is deprecated and will be removed from pandas in a future version. Use pandas.concat instead.\n",
      "  Sat_data = Sat_data.append({\"Longitude\": longitude, \"Latitude\": latitude}, ignore_index=True)\n"
     ]
    },
    {
     "name": "stdout",
     "output_type": "stream",
     "text": [
      "Data received: {'timestamp': 1682642128, 'message': 'success', 'iss_position': {'latitude': '-24.5942', 'longitude': '-28.7311'}}\n"
     ]
    },
    {
     "name": "stderr",
     "output_type": "stream",
     "text": [
      "C:\\Users\\13018\\AppData\\Local\\Temp\\ipykernel_11600\\2340310863.py:10: FutureWarning: The frame.append method is deprecated and will be removed from pandas in a future version. Use pandas.concat instead.\n",
      "  Sat_data = Sat_data.append({\"Longitude\": longitude, \"Latitude\": latitude}, ignore_index=True)\n"
     ]
    },
    {
     "name": "stdout",
     "output_type": "stream",
     "text": [
      "Data received: {'timestamp': 1682642133, 'message': 'success', 'iss_position': {'latitude': '-24.3577', 'longitude': '-28.5098'}}\n"
     ]
    },
    {
     "name": "stderr",
     "output_type": "stream",
     "text": [
      "C:\\Users\\13018\\AppData\\Local\\Temp\\ipykernel_11600\\2340310863.py:10: FutureWarning: The frame.append method is deprecated and will be removed from pandas in a future version. Use pandas.concat instead.\n",
      "  Sat_data = Sat_data.append({\"Longitude\": longitude, \"Latitude\": latitude}, ignore_index=True)\n"
     ]
    },
    {
     "name": "stdout",
     "output_type": "stream",
     "text": [
      "Data received: {'timestamp': 1682642138, 'message': 'success', 'iss_position': {'latitude': '-24.1208', 'longitude': '-28.2895'}}\n"
     ]
    },
    {
     "name": "stderr",
     "output_type": "stream",
     "text": [
      "C:\\Users\\13018\\AppData\\Local\\Temp\\ipykernel_11600\\2340310863.py:10: FutureWarning: The frame.append method is deprecated and will be removed from pandas in a future version. Use pandas.concat instead.\n",
      "  Sat_data = Sat_data.append({\"Longitude\": longitude, \"Latitude\": latitude}, ignore_index=True)\n"
     ]
    },
    {
     "name": "stdout",
     "output_type": "stream",
     "text": [
      "Data received: {'timestamp': 1682642144, 'message': 'success', 'iss_position': {'latitude': '-23.8597', 'longitude': '-28.0481'}}\n"
     ]
    },
    {
     "name": "stderr",
     "output_type": "stream",
     "text": [
      "C:\\Users\\13018\\AppData\\Local\\Temp\\ipykernel_11600\\2340310863.py:10: FutureWarning: The frame.append method is deprecated and will be removed from pandas in a future version. Use pandas.concat instead.\n",
      "  Sat_data = Sat_data.append({\"Longitude\": longitude, \"Latitude\": latitude}, ignore_index=True)\n"
     ]
    },
    {
     "name": "stdout",
     "output_type": "stream",
     "text": [
      "Data received: {'timestamp': 1682642149, 'message': 'success', 'iss_position': {'latitude': '-23.6220', 'longitude': '-27.8296'}}\n"
     ]
    },
    {
     "name": "stderr",
     "output_type": "stream",
     "text": [
      "C:\\Users\\13018\\AppData\\Local\\Temp\\ipykernel_11600\\2340310863.py:10: FutureWarning: The frame.append method is deprecated and will be removed from pandas in a future version. Use pandas.concat instead.\n",
      "  Sat_data = Sat_data.append({\"Longitude\": longitude, \"Latitude\": latitude}, ignore_index=True)\n"
     ]
    },
    {
     "name": "stdout",
     "output_type": "stream",
     "text": [
      "Data received: {'timestamp': 1682642154, 'message': 'success', 'iss_position': {'latitude': '-23.3839', 'longitude': '-27.6119'}}\n"
     ]
    },
    {
     "name": "stderr",
     "output_type": "stream",
     "text": [
      "C:\\Users\\13018\\AppData\\Local\\Temp\\ipykernel_11600\\2340310863.py:10: FutureWarning: The frame.append method is deprecated and will be removed from pandas in a future version. Use pandas.concat instead.\n",
      "  Sat_data = Sat_data.append({\"Longitude\": longitude, \"Latitude\": latitude}, ignore_index=True)\n"
     ]
    },
    {
     "name": "stdout",
     "output_type": "stream",
     "text": [
      "Data received: {'timestamp': 1682642159, 'message': 'success', 'iss_position': {'latitude': '-23.1454', 'longitude': '-27.3951'}}\n"
     ]
    },
    {
     "name": "stderr",
     "output_type": "stream",
     "text": [
      "C:\\Users\\13018\\AppData\\Local\\Temp\\ipykernel_11600\\2340310863.py:10: FutureWarning: The frame.append method is deprecated and will be removed from pandas in a future version. Use pandas.concat instead.\n",
      "  Sat_data = Sat_data.append({\"Longitude\": longitude, \"Latitude\": latitude}, ignore_index=True)\n"
     ]
    },
    {
     "name": "stdout",
     "output_type": "stream",
     "text": [
      "Data received: {'timestamp': 1682642164, 'message': 'success', 'iss_position': {'latitude': '-22.8827', 'longitude': '-27.1576'}}\n"
     ]
    },
    {
     "name": "stderr",
     "output_type": "stream",
     "text": [
      "C:\\Users\\13018\\AppData\\Local\\Temp\\ipykernel_11600\\2340310863.py:10: FutureWarning: The frame.append method is deprecated and will be removed from pandas in a future version. Use pandas.concat instead.\n",
      "  Sat_data = Sat_data.append({\"Longitude\": longitude, \"Latitude\": latitude}, ignore_index=True)\n"
     ]
    },
    {
     "name": "stdout",
     "output_type": "stream",
     "text": [
      "Data received: {'timestamp': 1682642169, 'message': 'success', 'iss_position': {'latitude': '-22.6435', 'longitude': '-26.9426'}}\n"
     ]
    },
    {
     "name": "stderr",
     "output_type": "stream",
     "text": [
      "C:\\Users\\13018\\AppData\\Local\\Temp\\ipykernel_11600\\2340310863.py:10: FutureWarning: The frame.append method is deprecated and will be removed from pandas in a future version. Use pandas.concat instead.\n",
      "  Sat_data = Sat_data.append({\"Longitude\": longitude, \"Latitude\": latitude}, ignore_index=True)\n"
     ]
    },
    {
     "name": "stdout",
     "output_type": "stream",
     "text": [
      "Data received: {'timestamp': 1682642174, 'message': 'success', 'iss_position': {'latitude': '-22.4040', 'longitude': '-26.7284'}}\n"
     ]
    },
    {
     "name": "stderr",
     "output_type": "stream",
     "text": [
      "C:\\Users\\13018\\AppData\\Local\\Temp\\ipykernel_11600\\2340310863.py:10: FutureWarning: The frame.append method is deprecated and will be removed from pandas in a future version. Use pandas.concat instead.\n",
      "  Sat_data = Sat_data.append({\"Longitude\": longitude, \"Latitude\": latitude}, ignore_index=True)\n"
     ]
    },
    {
     "name": "stdout",
     "output_type": "stream",
     "text": [
      "Data received: {'timestamp': 1682642180, 'message': 'success', 'iss_position': {'latitude': '-22.1401', 'longitude': '-26.4938'}}\n"
     ]
    },
    {
     "name": "stderr",
     "output_type": "stream",
     "text": [
      "C:\\Users\\13018\\AppData\\Local\\Temp\\ipykernel_11600\\2340310863.py:10: FutureWarning: The frame.append method is deprecated and will be removed from pandas in a future version. Use pandas.concat instead.\n",
      "  Sat_data = Sat_data.append({\"Longitude\": longitude, \"Latitude\": latitude}, ignore_index=True)\n"
     ]
    },
    {
     "name": "stdout",
     "output_type": "stream",
     "text": [
      "Data received: {'timestamp': 1682642185, 'message': 'success', 'iss_position': {'latitude': '-21.8999', 'longitude': '-26.2812'}}\n"
     ]
    },
    {
     "name": "stderr",
     "output_type": "stream",
     "text": [
      "C:\\Users\\13018\\AppData\\Local\\Temp\\ipykernel_11600\\2340310863.py:10: FutureWarning: The frame.append method is deprecated and will be removed from pandas in a future version. Use pandas.concat instead.\n",
      "  Sat_data = Sat_data.append({\"Longitude\": longitude, \"Latitude\": latitude}, ignore_index=True)\n"
     ]
    },
    {
     "name": "stdout",
     "output_type": "stream",
     "text": [
      "Data received: {'timestamp': 1682642190, 'message': 'success', 'iss_position': {'latitude': '-21.6593', 'longitude': '-26.0695'}}\n"
     ]
    },
    {
     "name": "stderr",
     "output_type": "stream",
     "text": [
      "C:\\Users\\13018\\AppData\\Local\\Temp\\ipykernel_11600\\2340310863.py:10: FutureWarning: The frame.append method is deprecated and will be removed from pandas in a future version. Use pandas.concat instead.\n",
      "  Sat_data = Sat_data.append({\"Longitude\": longitude, \"Latitude\": latitude}, ignore_index=True)\n"
     ]
    },
    {
     "name": "stdout",
     "output_type": "stream",
     "text": [
      "Data received: {'timestamp': 1682642196, 'message': 'success', 'iss_position': {'latitude': '-21.3943', 'longitude': '-25.8375'}}\n"
     ]
    },
    {
     "name": "stderr",
     "output_type": "stream",
     "text": [
      "C:\\Users\\13018\\AppData\\Local\\Temp\\ipykernel_11600\\2340310863.py:10: FutureWarning: The frame.append method is deprecated and will be removed from pandas in a future version. Use pandas.concat instead.\n",
      "  Sat_data = Sat_data.append({\"Longitude\": longitude, \"Latitude\": latitude}, ignore_index=True)\n"
     ]
    },
    {
     "name": "stdout",
     "output_type": "stream",
     "text": [
      "Data received: {'timestamp': 1682642201, 'message': 'success', 'iss_position': {'latitude': '-21.1530', 'longitude': '-25.6274'}}\n"
     ]
    },
    {
     "name": "stderr",
     "output_type": "stream",
     "text": [
      "C:\\Users\\13018\\AppData\\Local\\Temp\\ipykernel_11600\\2340310863.py:10: FutureWarning: The frame.append method is deprecated and will be removed from pandas in a future version. Use pandas.concat instead.\n",
      "  Sat_data = Sat_data.append({\"Longitude\": longitude, \"Latitude\": latitude}, ignore_index=True)\n"
     ]
    },
    {
     "name": "stdout",
     "output_type": "stream",
     "text": [
      "Data received: {'timestamp': 1682642206, 'message': 'success', 'iss_position': {'latitude': '-20.9115', 'longitude': '-25.4180'}}\n"
     ]
    },
    {
     "name": "stderr",
     "output_type": "stream",
     "text": [
      "C:\\Users\\13018\\AppData\\Local\\Temp\\ipykernel_11600\\2340310863.py:10: FutureWarning: The frame.append method is deprecated and will be removed from pandas in a future version. Use pandas.concat instead.\n",
      "  Sat_data = Sat_data.append({\"Longitude\": longitude, \"Latitude\": latitude}, ignore_index=True)\n"
     ]
    },
    {
     "name": "stdout",
     "output_type": "stream",
     "text": [
      "Data received: {'timestamp': 1682642211, 'message': 'success', 'iss_position': {'latitude': '-20.6454', 'longitude': '-25.1886'}}\n"
     ]
    },
    {
     "name": "stderr",
     "output_type": "stream",
     "text": [
      "C:\\Users\\13018\\AppData\\Local\\Temp\\ipykernel_11600\\2340310863.py:10: FutureWarning: The frame.append method is deprecated and will be removed from pandas in a future version. Use pandas.concat instead.\n",
      "  Sat_data = Sat_data.append({\"Longitude\": longitude, \"Latitude\": latitude}, ignore_index=True)\n"
     ]
    },
    {
     "name": "stdout",
     "output_type": "stream",
     "text": [
      "Data received: {'timestamp': 1682642216, 'message': 'success', 'iss_position': {'latitude': '-20.4032', 'longitude': '-24.9808'}}\n"
     ]
    },
    {
     "name": "stderr",
     "output_type": "stream",
     "text": [
      "C:\\Users\\13018\\AppData\\Local\\Temp\\ipykernel_11600\\2340310863.py:10: FutureWarning: The frame.append method is deprecated and will be removed from pandas in a future version. Use pandas.concat instead.\n",
      "  Sat_data = Sat_data.append({\"Longitude\": longitude, \"Latitude\": latitude}, ignore_index=True)\n"
     ]
    },
    {
     "name": "stdout",
     "output_type": "stream",
     "text": [
      "Data received: {'timestamp': 1682642221, 'message': 'success', 'iss_position': {'latitude': '-20.1607', 'longitude': '-24.7737'}}\n"
     ]
    },
    {
     "name": "stderr",
     "output_type": "stream",
     "text": [
      "C:\\Users\\13018\\AppData\\Local\\Temp\\ipykernel_11600\\2340310863.py:10: FutureWarning: The frame.append method is deprecated and will be removed from pandas in a future version. Use pandas.concat instead.\n",
      "  Sat_data = Sat_data.append({\"Longitude\": longitude, \"Latitude\": latitude}, ignore_index=True)\n"
     ]
    },
    {
     "name": "stdout",
     "output_type": "stream",
     "text": [
      "Data received: {'timestamp': 1682642227, 'message': 'success', 'iss_position': {'latitude': '-19.8936', 'longitude': '-24.5467'}}\n"
     ]
    },
    {
     "name": "stderr",
     "output_type": "stream",
     "text": [
      "C:\\Users\\13018\\AppData\\Local\\Temp\\ipykernel_11600\\2340310863.py:10: FutureWarning: The frame.append method is deprecated and will be removed from pandas in a future version. Use pandas.concat instead.\n",
      "  Sat_data = Sat_data.append({\"Longitude\": longitude, \"Latitude\": latitude}, ignore_index=True)\n"
     ]
    },
    {
     "name": "stdout",
     "output_type": "stream",
     "text": [
      "Data received: {'timestamp': 1682642232, 'message': 'success', 'iss_position': {'latitude': '-19.6504', 'longitude': '-24.3411'}}\n"
     ]
    },
    {
     "name": "stderr",
     "output_type": "stream",
     "text": [
      "C:\\Users\\13018\\AppData\\Local\\Temp\\ipykernel_11600\\2340310863.py:10: FutureWarning: The frame.append method is deprecated and will be removed from pandas in a future version. Use pandas.concat instead.\n",
      "  Sat_data = Sat_data.append({\"Longitude\": longitude, \"Latitude\": latitude}, ignore_index=True)\n"
     ]
    },
    {
     "name": "stdout",
     "output_type": "stream",
     "text": [
      "Data received: {'timestamp': 1682642237, 'message': 'success', 'iss_position': {'latitude': '-19.4070', 'longitude': '-24.1361'}}\n"
     ]
    },
    {
     "name": "stderr",
     "output_type": "stream",
     "text": [
      "C:\\Users\\13018\\AppData\\Local\\Temp\\ipykernel_11600\\2340310863.py:10: FutureWarning: The frame.append method is deprecated and will be removed from pandas in a future version. Use pandas.concat instead.\n",
      "  Sat_data = Sat_data.append({\"Longitude\": longitude, \"Latitude\": latitude}, ignore_index=True)\n"
     ]
    },
    {
     "name": "stdout",
     "output_type": "stream",
     "text": [
      "Data received: {'timestamp': 1682642242, 'message': 'success', 'iss_position': {'latitude': '-19.1389', 'longitude': '-23.9115'}}\n"
     ]
    },
    {
     "name": "stderr",
     "output_type": "stream",
     "text": [
      "C:\\Users\\13018\\AppData\\Local\\Temp\\ipykernel_11600\\2340310863.py:10: FutureWarning: The frame.append method is deprecated and will be removed from pandas in a future version. Use pandas.concat instead.\n",
      "  Sat_data = Sat_data.append({\"Longitude\": longitude, \"Latitude\": latitude}, ignore_index=True)\n"
     ]
    },
    {
     "name": "stdout",
     "output_type": "stream",
     "text": [
      "Data received: {'timestamp': 1682642247, 'message': 'success', 'iss_position': {'latitude': '-18.8950', 'longitude': '-23.7080'}}\n"
     ]
    },
    {
     "name": "stderr",
     "output_type": "stream",
     "text": [
      "C:\\Users\\13018\\AppData\\Local\\Temp\\ipykernel_11600\\2340310863.py:10: FutureWarning: The frame.append method is deprecated and will be removed from pandas in a future version. Use pandas.concat instead.\n",
      "  Sat_data = Sat_data.append({\"Longitude\": longitude, \"Latitude\": latitude}, ignore_index=True)\n"
     ]
    },
    {
     "name": "stdout",
     "output_type": "stream",
     "text": [
      "Data received: {'timestamp': 1682642252, 'message': 'success', 'iss_position': {'latitude': '-18.6507', 'longitude': '-23.5051'}}\n"
     ]
    },
    {
     "name": "stderr",
     "output_type": "stream",
     "text": [
      "C:\\Users\\13018\\AppData\\Local\\Temp\\ipykernel_11600\\2340310863.py:10: FutureWarning: The frame.append method is deprecated and will be removed from pandas in a future version. Use pandas.concat instead.\n",
      "  Sat_data = Sat_data.append({\"Longitude\": longitude, \"Latitude\": latitude}, ignore_index=True)\n"
     ]
    },
    {
     "name": "stdout",
     "output_type": "stream",
     "text": [
      "Data received: {'timestamp': 1682642258, 'message': 'success', 'iss_position': {'latitude': '-18.3818', 'longitude': '-23.2827'}}\n"
     ]
    },
    {
     "name": "stderr",
     "output_type": "stream",
     "text": [
      "C:\\Users\\13018\\AppData\\Local\\Temp\\ipykernel_11600\\2340310863.py:10: FutureWarning: The frame.append method is deprecated and will be removed from pandas in a future version. Use pandas.concat instead.\n",
      "  Sat_data = Sat_data.append({\"Longitude\": longitude, \"Latitude\": latitude}, ignore_index=True)\n"
     ]
    },
    {
     "name": "stdout",
     "output_type": "stream",
     "text": [
      "Data received: {'timestamp': 1682642263, 'message': 'success', 'iss_position': {'latitude': '-18.1369', 'longitude': '-23.0811'}}\n"
     ]
    },
    {
     "name": "stderr",
     "output_type": "stream",
     "text": [
      "C:\\Users\\13018\\AppData\\Local\\Temp\\ipykernel_11600\\2340310863.py:10: FutureWarning: The frame.append method is deprecated and will be removed from pandas in a future version. Use pandas.concat instead.\n",
      "  Sat_data = Sat_data.append({\"Longitude\": longitude, \"Latitude\": latitude}, ignore_index=True)\n"
     ]
    },
    {
     "name": "stdout",
     "output_type": "stream",
     "text": [
      "Data received: {'timestamp': 1682642268, 'message': 'success', 'iss_position': {'latitude': '-17.8918', 'longitude': '-22.8802'}}\n"
     ]
    },
    {
     "name": "stderr",
     "output_type": "stream",
     "text": [
      "C:\\Users\\13018\\AppData\\Local\\Temp\\ipykernel_11600\\2340310863.py:10: FutureWarning: The frame.append method is deprecated and will be removed from pandas in a future version. Use pandas.concat instead.\n",
      "  Sat_data = Sat_data.append({\"Longitude\": longitude, \"Latitude\": latitude}, ignore_index=True)\n"
     ]
    },
    {
     "name": "stdout",
     "output_type": "stream",
     "text": [
      "Data received: {'timestamp': 1682642273, 'message': 'success', 'iss_position': {'latitude': '-17.6220', 'longitude': '-22.6599'}}\n"
     ]
    },
    {
     "name": "stderr",
     "output_type": "stream",
     "text": [
      "C:\\Users\\13018\\AppData\\Local\\Temp\\ipykernel_11600\\2340310863.py:10: FutureWarning: The frame.append method is deprecated and will be removed from pandas in a future version. Use pandas.concat instead.\n",
      "  Sat_data = Sat_data.append({\"Longitude\": longitude, \"Latitude\": latitude}, ignore_index=True)\n"
     ]
    },
    {
     "name": "stdout",
     "output_type": "stream",
     "text": [
      "Data received: {'timestamp': 1682642278, 'message': 'success', 'iss_position': {'latitude': '-17.3764', 'longitude': '-22.4603'}}\n"
     ]
    },
    {
     "name": "stderr",
     "output_type": "stream",
     "text": [
      "C:\\Users\\13018\\AppData\\Local\\Temp\\ipykernel_11600\\2340310863.py:10: FutureWarning: The frame.append method is deprecated and will be removed from pandas in a future version. Use pandas.concat instead.\n",
      "  Sat_data = Sat_data.append({\"Longitude\": longitude, \"Latitude\": latitude}, ignore_index=True)\n"
     ]
    },
    {
     "name": "stdout",
     "output_type": "stream",
     "text": [
      "Data received: {'timestamp': 1682642283, 'message': 'success', 'iss_position': {'latitude': '-17.1305', 'longitude': '-22.2612'}}\n"
     ]
    },
    {
     "name": "stderr",
     "output_type": "stream",
     "text": [
      "C:\\Users\\13018\\AppData\\Local\\Temp\\ipykernel_11600\\2340310863.py:10: FutureWarning: The frame.append method is deprecated and will be removed from pandas in a future version. Use pandas.concat instead.\n",
      "  Sat_data = Sat_data.append({\"Longitude\": longitude, \"Latitude\": latitude}, ignore_index=True)\n"
     ]
    },
    {
     "name": "stdout",
     "output_type": "stream",
     "text": [
      "Data received: {'timestamp': 1682642289, 'message': 'success', 'iss_position': {'latitude': '-16.8598', 'longitude': '-22.0429'}}\n"
     ]
    },
    {
     "name": "stderr",
     "output_type": "stream",
     "text": [
      "C:\\Users\\13018\\AppData\\Local\\Temp\\ipykernel_11600\\2340310863.py:10: FutureWarning: The frame.append method is deprecated and will be removed from pandas in a future version. Use pandas.concat instead.\n",
      "  Sat_data = Sat_data.append({\"Longitude\": longitude, \"Latitude\": latitude}, ignore_index=True)\n"
     ]
    },
    {
     "name": "stdout",
     "output_type": "stream",
     "text": [
      "   Longitude  Latitude\n",
      "0   121.7517   48.9245\n",
      "1   122.2396   48.8067\n",
      "2   122.6811   48.6977\n",
      "3   123.1205   48.5869\n",
      "4   123.6015   48.4628\n"
     ]
    }
   ],
   "source": [
    "while time.time() < end_time:\n",
    "    data = fetch_data()\n",
    "    print(\"Data received:\", data)\n",
    "\n",
    "    # Extract longitude and latitude values from the data\n",
    "    longitude = float(data[\"iss_position\"][\"longitude\"])\n",
    "    latitude = float(data[\"iss_position\"][\"latitude\"])\n",
    "    \n",
    "    # Append the values to the dataframe\n",
    "    Sat_data = Sat_data.append({\"Longitude\": longitude, \"Latitude\": latitude}, ignore_index=True)\n",
    "\n",
    "    # Wait for the specified interval before fetching data again\n",
    "    time.sleep(interval)\n",
    "\n",
    "print(Sat_data.head())"
   ]
  },
  {
   "cell_type": "code",
   "execution_count": 7,
   "id": "691a87af",
   "metadata": {},
   "outputs": [
    {
     "data": {
      "text/html": [
       "<div>\n",
       "<style scoped>\n",
       "    .dataframe tbody tr th:only-of-type {\n",
       "        vertical-align: middle;\n",
       "    }\n",
       "\n",
       "    .dataframe tbody tr th {\n",
       "        vertical-align: top;\n",
       "    }\n",
       "\n",
       "    .dataframe thead th {\n",
       "        text-align: right;\n",
       "    }\n",
       "</style>\n",
       "<table border=\"1\" class=\"dataframe\">\n",
       "  <thead>\n",
       "    <tr style=\"text-align: right;\">\n",
       "      <th></th>\n",
       "      <th>Longitude</th>\n",
       "      <th>Latitude</th>\n",
       "    </tr>\n",
       "  </thead>\n",
       "  <tbody>\n",
       "    <tr>\n",
       "      <th>0</th>\n",
       "      <td>121.7517</td>\n",
       "      <td>48.9245</td>\n",
       "    </tr>\n",
       "    <tr>\n",
       "      <th>1</th>\n",
       "      <td>122.2396</td>\n",
       "      <td>48.8067</td>\n",
       "    </tr>\n",
       "    <tr>\n",
       "      <th>2</th>\n",
       "      <td>122.6811</td>\n",
       "      <td>48.6977</td>\n",
       "    </tr>\n",
       "    <tr>\n",
       "      <th>3</th>\n",
       "      <td>123.1205</td>\n",
       "      <td>48.5869</td>\n",
       "    </tr>\n",
       "    <tr>\n",
       "      <th>4</th>\n",
       "      <td>123.6015</td>\n",
       "      <td>48.4628</td>\n",
       "    </tr>\n",
       "    <tr>\n",
       "      <th>...</th>\n",
       "      <td>...</td>\n",
       "      <td>...</td>\n",
       "    </tr>\n",
       "    <tr>\n",
       "      <th>691</th>\n",
       "      <td>-22.8802</td>\n",
       "      <td>-17.8918</td>\n",
       "    </tr>\n",
       "    <tr>\n",
       "      <th>692</th>\n",
       "      <td>-22.6599</td>\n",
       "      <td>-17.6220</td>\n",
       "    </tr>\n",
       "    <tr>\n",
       "      <th>693</th>\n",
       "      <td>-22.4603</td>\n",
       "      <td>-17.3764</td>\n",
       "    </tr>\n",
       "    <tr>\n",
       "      <th>694</th>\n",
       "      <td>-22.2612</td>\n",
       "      <td>-17.1305</td>\n",
       "    </tr>\n",
       "    <tr>\n",
       "      <th>695</th>\n",
       "      <td>-22.0429</td>\n",
       "      <td>-16.8598</td>\n",
       "    </tr>\n",
       "  </tbody>\n",
       "</table>\n",
       "<p>696 rows × 2 columns</p>\n",
       "</div>"
      ],
      "text/plain": [
       "     Longitude  Latitude\n",
       "0     121.7517   48.9245\n",
       "1     122.2396   48.8067\n",
       "2     122.6811   48.6977\n",
       "3     123.1205   48.5869\n",
       "4     123.6015   48.4628\n",
       "..         ...       ...\n",
       "691   -22.8802  -17.8918\n",
       "692   -22.6599  -17.6220\n",
       "693   -22.4603  -17.3764\n",
       "694   -22.2612  -17.1305\n",
       "695   -22.0429  -16.8598\n",
       "\n",
       "[696 rows x 2 columns]"
      ]
     },
     "execution_count": 7,
     "metadata": {},
     "output_type": "execute_result"
    }
   ],
   "source": [
    "Sat_data"
   ]
  },
  {
   "cell_type": "code",
   "execution_count": 15,
   "id": "2aece5a9",
   "metadata": {},
   "outputs": [
    {
     "data": {
      "image/png": "[encoded data removed]",
      "text/plain": [
       "<Figure size 1850x1050 with 1 Axes>"
      ]
     },
     "metadata": {},
     "output_type": "display_data"
    }
   ],
   "source": [
    "gdf = geopandas.GeoDataFrame(Sat_data,geometry=geopandas.points_from_xy(Sat_data.Longitude, Sat_data.Latitude))\n",
    "world = geopandas.read_file(geopandas.datasets.get_path('naturalearth_lowres'))\n",
    "\n",
    "fig, tracking =plt.subplots(figsize=(18.5,10.5))\n",
    "world.plot(color = 'skyblue',ax=tracking)\n",
    "gdf.plot(ax=tracking, color='red')\n",
    "plt.show()"
   ]
  },
  {
   "cell_type": "code",
   "execution_count": null,
   "id": "d6b94bbb",
   "metadata": {},
   "outputs": [],
   "source": []
  }
 ],
 "metadata": {
  "kernelspec": {
   "display_name": "Python 3 (ipykernel)",
   "language": "python",
   "name": "python3"
  },
  "language_info": {
   "codemirror_mode": {
    "name": "ipython",
    "version": 3
   },
   "file_extension": ".py",
   "mimetype": "text/x-python",
   "name": "python",
   "nbconvert_exporter": "python",
   "pygments_lexer": "ipython3",
   "version": "3.9.13"
  }
 },
 "nbformat": 4,
 "nbformat_minor": 5
}
